{
 "cells": [
  {
   "cell_type": "markdown",
   "metadata": {},
   "source": [
    "# generate flux bar plot "
   ]
  },
  {
   "cell_type": "code",
   "execution_count": null,
   "metadata": {},
   "outputs": [],
   "source": [
    "import pickle\n",
    "import matplotlib.pyplot as plt\n",
    "import numpy as np\n",
    "import matplotlib.gridspec as gridspec\n",
    "from datetime import datetime, timedelta"
   ]
  },
  {
   "cell_type": "code",
   "execution_count": null,
   "metadata": {},
   "outputs": [],
   "source": [
    "def batch_time_to_delta(origin, x, time_format):\n",
    "    y = []\n",
    "    for ix in x:\n",
    "        temp_y = abs(datetime.strptime(\n",
    "            ix, time_format) - origin).total_seconds()\n",
    "        y.append(temp_y)\n",
    "    y = np.asarray(y)\n",
    "    return(y)"
   ]
  },
  {
   "cell_type": "code",
   "execution_count": null,
   "metadata": {},
   "outputs": [],
   "source": [
    "def batch_delta_to_time(origin, x, time_format, delta_format):\n",
    "    y = []\n",
    "    for ix in x:\n",
    "        if delta_format == \"hours\":\n",
    "            temp_y = origin + timedelta(hours=ix)\n",
    "        elif delta_format == \"days\":\n",
    "            temp_y = origin + timedelta(days=ix)\n",
    "        elif delta_format == \"minutes\":\n",
    "            temp_y = origin + timedelta(minutes=ix)\n",
    "        elif delta_format == \"weeks\":\n",
    "            temp_y = origin + timedelta(weeks=ix)\n",
    "        elif delta_format == \"seconds\":\n",
    "            temp_y = origin + timedelta(seconds=ix)\n",
    "        elif delta_format == \"microseconds\":\n",
    "            temp_y = origin + timedelta(microseconds=ix)\n",
    "        elif delta_format == \"milliseconds\":\n",
    "            temp_y = origin + timedelta(milliseconds=ix)\n",
    "        else:\n",
    "            print(\"Sorry, this naive program only solve single time unit\")\n",
    "        y.append(temp_y.strftime(time_format))\n",
    "    y = np.asarray(y)\n",
    "    return(y)"
   ]
  },
  {
   "cell_type": "code",
   "execution_count": null,
   "metadata": {},
   "outputs": [],
   "source": [
    "output_dir = \"/Users/song884/remote/reach/Outputs/HFR_100x100x5_6h_bc/\"\n",
    "pt_fname = output_dir + \"face_flux.pk\"\n",
    "\n",
    "fig_dir = \"/Users/song884/remote/reach/figures/\" + \\\n",
    "    \"HFR_100x100x5_6h_bc/face_flux/\"\n",
    "data_dir = \"/Users/song884/remote/reach/data/\""
   ]
  },
  {
   "cell_type": "code",
   "execution_count": null,
   "metadata": {},
   "outputs": [],
   "source": [
    "discharge_file = open(data_dir + \"USGS_flow_gh_12472800.csv\", \"r\")\n",
    "discharge_data = discharge_file.readlines()\n",
    "discharge_data = [x.replace('\"', \"\") for x in discharge_data]\n",
    "discharge_data = [x.split(\",\") for x in discharge_data[1:]]\n",
    "discharge_data = [list(filter(None, x)) for x in discharge_data]\n",
    "discharge_data = np.asarray(discharge_data)\n",
    "discharge_time = [datetime.strptime(x, \"%Y-%m-%d\")\n",
    "                  for x in discharge_data[:, 3]]\n",
    "discharge_value = discharge_data[:, 4]  # .astype(float)"
   ]
  },
  {
   "cell_type": "code",
   "execution_count": null,
   "metadata": {},
   "outputs": [],
   "source": [
    "pickle_file = open(pt_fname, \"rb\")\n",
    "out_flux = pickle.load(pickle_file)\n",
    "times = np.sort(list(out_flux.keys()))\n",
    "simu_time = np.sort([np.float(i[5:19]) for i in times])"
   ]
  },
  {
   "cell_type": "code",
   "execution_count": null,
   "metadata": {},
   "outputs": [],
   "source": [
    "date_origin = datetime.strptime(\"2007-03-28 00:00:00\", \"%Y-%m-%d %H:%M:%S\")\n",
    "real_time = batch_delta_to_time(\n",
    "    date_origin, simu_time, \"%Y-%m-%d %H:%M:%S\", \"hours\")\n",
    "real_time = [datetime.strptime(x, \"%Y-%m-%d %H:%M:%S\") for x in real_time]\n",
    "\n",
    "time_ticks = [\n",
    "    \"2011-01-01 00:00:00\",\n",
    "    \"2012-01-01 00:00:00\",\n",
    "    \"2013-01-01 00:00:00\",\n",
    "    \"2014-01-01 00:00:00\",\n",
    "    \"2015-01-01 00:00:00\",\n",
    "    \"2016-01-01 00:00:00\"]\n",
    "time_ticks = [datetime.strptime(x, \"%Y-%m-%d %H:%M:%S\") for x in time_ticks]"
   ]
  },
  {
   "cell_type": "code",
   "execution_count": null,
   "metadata": {},
   "outputs": [],
   "source": [
    "n_segment = len(time_ticks) - 1\n",
    "sum_flow = np.array([0.] * n_segment)\n",
    "abs_flow = np.array([0.] * n_segment)\n",
    "out_flow = np.array([0.] * n_segment)\n",
    "in_flow = np.array([0.] * n_segment)\n",
    "for i_segment in range(n_segment):\n",
    "    select_index = []\n",
    "    for i_index in range(len(real_time)):\n",
    "        if (real_time[i_index] >= time_ticks[i_segment] and\n",
    "                real_time[i_index] < time_ticks[i_segment + 1]):\n",
    "            select_index.append(i_index)\n",
    "    for i_index in select_index:\n",
    "        temp_flux = np.asarray(out_flux[times[i_index]])\n",
    "        sum_flow[i_segment] = sum_flow[i_segment] + np.sum(temp_flux)\n",
    "        abs_flow[i_segment] = abs_flow[i_segment] + np.sum(np.abs(temp_flux))\n",
    "        out_flow[i_segment] = out_flow[i_segment] + \\\n",
    "            sum(temp_flux[temp_flux >= 0])\n",
    "        in_flow[i_segment] = in_flow[i_segment] + \\\n",
    "            sum(temp_flux[temp_flux <= 0])\n",
    "    sum_flow[i_segment] = sum_flow[i_segment] / len(select_index)\n",
    "    abs_flow[i_segment] = abs_flow[i_segment] / len(select_index)\n",
    "    out_flow[i_segment] = out_flow[i_segment] / len(select_index)\n",
    "    in_flow[i_segment] = in_flow[i_segment] / len(select_index)\n"
   ]
  },
  {
   "cell_type": "code",
   "execution_count": null,
   "metadata": {},
   "outputs": [],
   "source": [
    "sum_flow = sum_flow * 365.25 * 24\n",
    "abs_flow = abs_flow * 365.25 * 24\n",
    "out_flow = out_flow * 365.25 * 24\n",
    "in_flow = in_flow * 365.25 * 24"
   ]
  },
  {
   "cell_type": "code",
   "execution_count": null,
   "metadata": {},
   "outputs": [],
   "source": [
    "discharge_flow = np.array([0.] * n_segment)\n",
    "for i_segment in range(n_segment):\n",
    "    select_index = []\n",
    "    for i_index in range(len(discharge_time)):\n",
    "        if (discharge_time[i_index] >= time_ticks[i_segment] and\n",
    "                discharge_time[i_index] < time_ticks[i_segment + 1]):\n",
    "            select_index.append(i_index)\n",
    "    sum_discharge = sum(np.asarray([discharge_value[i]\n",
    "                                    for i in select_index]).astype(float))\n",
    "    sum_discharge = sum_discharge * 3600 * 24 * (0.3048**3)\n",
    "    discharge_flow[i_segment] = sum_discharge"
   ]
  },
  {
   "cell_type": "code",
   "execution_count": null,
   "metadata": {},
   "outputs": [],
   "source": [
    "start_year = 2011\n",
    "fig_name = fig_dir + \"flux_bar.png\"\n",
    "gs = gridspec.GridSpec(1, 5)\n",
    "fig = plt.figure()\n"
   ]
  },
  {
   "cell_type": "code",
   "execution_count": null,
   "metadata": {},
   "outputs": [],
   "source": [
    "ax0 = fig.add_subplot(gs[0, 0])\n",
    "ax0.bar(start_year + np.arange(n_segment), discharge_flow, color=\"black\")\n",
    "ax0.set_ylim([0, 1.5e11])\n",
    "ax0.set_xlabel('Time (year)')\n",
    "ax0.set_ylabel('River Discharge ($m^3$/year)')\n",
    "ax0.set_title(\"(a) Priest Rapid Dam Discharge\", y=1.05)\n",
    "\n",
    "ax1 = fig.add_subplot(gs[0, 1])\n",
    "ax1.bar(start_year + np.arange(n_segment), out_flow, color=\"red\")\n",
    "ax1.set_ylim([0, 8e8])\n",
    "ax1.set_xlabel('Time (year)')\n",
    "ax1.set_ylabel('Exchange flux ($m^3$/year)')\n",
    "ax1.set_title(\"(b) River Gaining Volume\", y=1.05)\n",
    "\n",
    "ax2 = fig.add_subplot(gs[0, 2])\n",
    "ax2.bar(start_year + np.arange(n_segment), -in_flow, color=\"blue\")\n",
    "ax2.set_ylim([0, 8e8])\n",
    "ax2.set_xlabel('Time (year)')\n",
    "ax2.set_ylabel('Exchange flux ($m^3$/year)')\n",
    "ax2.set_title(\"(c) River Losing Volume\", y=1.05)\n",
    "\n",
    "ax3 = fig.add_subplot(gs[0, 3])\n",
    "ax3.bar(start_year + np.arange(n_segment), sum_flow, color=\"purple\")\n",
    "ax3.set_ylim([0, 8e8])\n",
    "ax3.set_xlabel('Time (year)')\n",
    "ax3.set_ylabel('Exchange flux ($m^3$/year)')\n",
    "ax3.set_title(\"(d) River Net Gaining Volume\", y=1.05)\n",
    "\n",
    "ax4 = fig.add_subplot(gs[0, 4])\n",
    "ax4.bar(start_year + np.arange(n_segment), abs_flow, color=\"brown\")\n",
    "ax4.set_ylim([0, 8e8])\n",
    "ax4.set_xlabel('Time (year)')\n",
    "ax4.set_ylabel('Exchange flux ($m^3$/year)')\n",
    "ax4.set_title(\"(e) Abosulte Exchange\", y=1.05)"
   ]
  },
  {
   "cell_type": "code",
   "execution_count": null,
   "metadata": {},
   "outputs": [],
   "source": [
    "fig.tight_layout()\n",
    "fig.subplots_adjust(left=0.1,\n",
    "                    right=0.95,\n",
    "                    bottom=0.07,\n",
    "                    top=0.85,\n",
    "                    wspace=0.30,\n",
    "                    hspace=0.38\n",
    "                    )\n",
    "fig.set_size_inches(20, 3.2)\n",
    "fig.savefig(fig_name, dpi=600, transparent=True)\n",
    "plt.close(fig)"
   ]
  },
  {
   "cell_type": "code",
   "execution_count": null,
   "metadata": {},
   "outputs": [],
   "source": [
    "bar_file = open(output_dir + \"flux_net_gain.txt\", 'w')\n",
    "for i_flow in sum_flow:\n",
    "    bar_file.write(\"%3.2e\\n\" % i_flow)\n",
    "bar_file.close()\n",
    "\n",
    "bar_file = open(output_dir + \"flux_abs_exchange.txt\", 'w')\n",
    "for i_flow in abs_flow:\n",
    "    bar_file.write(\"%3.2e\\n\" % i_flow)\n",
    "bar_file.close()\n",
    "\n",
    "bar_file = open(output_dir + \"flux_lose.txt\", 'w')\n",
    "for i_flow in in_flow:\n",
    "    bar_file.write(\"%3.2e\\n\" % -i_flow)\n",
    "bar_file.close()\n",
    "\n",
    "bar_file = open(output_dir + \"flux_gain.txt\", 'w')\n",
    "for i_flow in out_flow:\n",
    "    bar_file.write(\"%3.2e\\n\" % i_flow)\n",
    "bar_file.close()"
   ]
  },
  {
   "cell_type": "code",
   "execution_count": null,
   "metadata": {},
   "outputs": [],
   "source": []
  }
 ],
 "metadata": {
  "kernelspec": {
   "display_name": "Python 3",
   "language": "python",
   "name": "python3"
  },
  "language_info": {
   "codemirror_mode": {
    "name": "ipython",
    "version": 3
   },
   "file_extension": ".py",
   "mimetype": "text/x-python",
   "name": "python",
   "nbconvert_exporter": "python",
   "pygments_lexer": "ipython3",
   "version": "3.6.3"
  },
  "varInspector": {
   "cols": {
    "lenName": 16,
    "lenType": 16,
    "lenVar": 40
   },
   "kernels_config": {
    "python": {
     "delete_cmd_postfix": "",
     "delete_cmd_prefix": "del ",
     "library": "var_list.py",
     "varRefreshCmd": "print(var_dic_list())"
    },
    "r": {
     "delete_cmd_postfix": ") ",
     "delete_cmd_prefix": "rm(",
     "library": "var_list.r",
     "varRefreshCmd": "cat(var_dic_list()) "
    }
   },
   "types_to_exclude": [
    "module",
    "function",
    "builtin_function_or_method",
    "instance",
    "_Feature"
   ],
   "window_display": false
  }
 },
 "nbformat": 4,
 "nbformat_minor": 2
}
