{
 "cells": [
  {
   "cell_type": "markdown",
   "metadata": {},
   "source": [
    "# upload model inputs and submit jobs to NERSC"
   ]
  },
  {
   "cell_type": "markdown",
   "metadata": {},
   "source": [
    "## 1. upload files to NERSC"
   ]
  },
  {
   "cell_type": "code",
   "execution_count": null,
   "metadata": {},
   "outputs": [],
   "source": [
    "scp -r ~/Dropbox/PNNL/Projects/Reach_scale_model/Inputs/HFR_model_200x200x5/* pshuai@cori.nersc.gov:/global/cscratch1/sd/pshuai/HFR_model_200x200x5_nb/."
   ]
  },
  {
   "cell_type": "markdown",
   "metadata": {},
   "source": [
    "## 2. login to NERSC"
   ]
  },
  {
   "cell_type": "code",
   "execution_count": null,
   "metadata": {
    "scrolled": true
   },
   "outputs": [],
   "source": [
    "ssh pshuai@edison.nersc.gov"
   ]
  },
  {
   "cell_type": "markdown",
   "metadata": {},
   "source": [
    "## 3. submit batch job"
   ]
  },
  {
   "cell_type": "code",
   "execution_count": null,
   "metadata": {},
   "outputs": [],
   "source": [
    "#!/bin/bash -l\n",
    "\n",
    "#SBATCH -A m1800\n",
    "#SBATCH -N 86\n",
    "#SBATCH -t 48:00:00\n",
    "#SBATCH -L SCRATCH  \n",
    "#SBATCH -J test_0413\n",
    "#SBATCH --qos regular\n",
    "\n",
    "cd $SLURM_SUBMIT_DIR\n",
    "\n",
    "srun -n 2048 ../pflotran-edison-flux -pflotranin pflotran_200x200x5_6h_bc_test.in"
   ]
  },
  {
   "cell_type": "markdown",
   "metadata": {},
   "source": [
    "## run interactive job"
   ]
  },
  {
   "cell_type": "code",
   "execution_count": null,
   "metadata": {},
   "outputs": [],
   "source": [
    "## on Edison\n",
    "\n",
    "salloc -N 1 -q debug -L SCRATCH\n",
    "\n",
    "srun -n 24 ../pflotran-edison-flux -pflotranin pflotran.in"
   ]
  },
  {
   "cell_type": "code",
   "execution_count": null,
   "metadata": {},
   "outputs": [],
   "source": [
    "## on Cori\n",
    "\n",
    "salloc -N 1 -q debug -C haswell -t 00:30:00 -L SCRATCH\n",
    "\n",
    "srun -n 32 ../pflotran-cori-flux -pflotranin pflotran_200x200x2_head_bc.in"
   ]
  },
  {
   "cell_type": "markdown",
   "metadata": {},
   "source": [
    "## download files from NERSC"
   ]
  },
  {
   "cell_type": "code",
   "execution_count": null,
   "metadata": {},
   "outputs": [],
   "source": [
    "scp -r pshuai@cori.nersc.gov:/global/cscratch1/sd/pshuai/HFR_model_100x100x2/* \\\n",
    "~/Dropbox/PNNL/Projects/Reach_scale_model/Outputs/HFR_model_100x100x2/."
   ]
  }
 ],
 "metadata": {
  "kernelspec": {
   "display_name": "Bash",
   "language": "bash",
   "name": "bash"
  },
  "language_info": {
   "codemirror_mode": "shell",
   "file_extension": ".sh",
   "mimetype": "text/x-sh",
   "name": "bash"
  },
  "varInspector": {
   "cols": {
    "lenName": 16,
    "lenType": 16,
    "lenVar": 40
   },
   "kernels_config": {
    "python": {
     "delete_cmd_postfix": "",
     "delete_cmd_prefix": "del ",
     "library": "var_list.py",
     "varRefreshCmd": "print(var_dic_list())"
    },
    "r": {
     "delete_cmd_postfix": ") ",
     "delete_cmd_prefix": "rm(",
     "library": "var_list.r",
     "varRefreshCmd": "cat(var_dic_list()) "
    }
   },
   "types_to_exclude": [
    "module",
    "function",
    "builtin_function_or_method",
    "instance",
    "_Feature"
   ],
   "window_display": false
  }
 },
 "nbformat": 4,
 "nbformat_minor": 2
}
