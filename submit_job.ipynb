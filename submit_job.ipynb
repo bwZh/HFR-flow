{
 "cells": [
  {
   "cell_type": "markdown",
   "metadata": {},
   "source": [
    "# upload model inputs and submit jobs to NERSC"
   ]
  },
  {
   "cell_type": "markdown",
   "metadata": {},
   "source": [
    "## upload files to NERSC"
   ]
  },
  {
   "cell_type": "code",
   "execution_count": null,
   "metadata": {
    "collapsed": true
   },
   "outputs": [],
   "source": [
    "scp -r ~/Dropbox/PNNL/Projects/Reach_scale_model/Inputs/HFR_model_200x200x2_steady_state/* pshuai@cori.nersc.gov:/global/cscratch1/sd/pshuai/HFR_model_200x200x2_steady_state/."
   ]
  },
  {
   "cell_type": "markdown",
   "metadata": {},
   "source": [
    "## login to NERSC"
   ]
  },
  {
   "cell_type": "code",
   "execution_count": null,
   "metadata": {
    "collapsed": true,
    "scrolled": true
   },
   "outputs": [],
   "source": [
    "ssh pshuai@edison.nersc.gov"
   ]
  },
  {
   "cell_type": "markdown",
   "metadata": {},
   "source": [
    "## submit batch job"
   ]
  },
  {
   "cell_type": "code",
   "execution_count": null,
   "metadata": {
    "collapsed": true
   },
   "outputs": [],
   "source": [
    "#!/bin/bash -l\n",
    "\n",
    "#SBATCH -A m1800\n",
    "#SBATCH -N 86\n",
    "#SBATCH -t 48:00:00\n",
    "#SBATCH -L SCRATCH  \n",
    "#SBATCH -J test_0413\n",
    "#SBATCH --qos regular\n",
    "#SBATCH --mail-type ALL\n",
    "#SBATCH --mail-user pin.shuai@pnnl.gov\n",
    "\n",
    "cd $SLURM_SUBMIT_DIR\n",
    "\n",
    "srun -n 2048 ../pflotran-edison-flux -pflotranin pflotran_200x200x5_6h_bc_test.in"
   ]
  },
  {
   "cell_type": "markdown",
   "metadata": {},
   "source": [
    "# run interactive job"
   ]
  },
  {
   "cell_type": "code",
   "execution_count": null,
   "metadata": {
    "collapsed": true
   },
   "outputs": [],
   "source": [
    "## on Edison\n",
    "\n",
    "salloc -N 1 -q debug -L SCRATCH -t 00:30:00\n",
    "\n",
    "srun -n 24 ../pflotran-edison -pflotranin pflotran_200x200x2_head_bc.in\n",
    "\n",
    "salloc -N 2 -q debug -L SCRATCH -t 00:30:00\n",
    "\n",
    "srun -n 48 ../pflotran-edison -pflotranin pflotran_200x200x2_head_bc.in"
   ]
  },
  {
   "cell_type": "code",
   "execution_count": null,
   "metadata": {
    "collapsed": true
   },
   "outputs": [],
   "source": [
    "## on Cori\n",
    "\n",
    "salloc -N 1 -q debug -C haswell -t 00:30:00 -L SCRATCH\n",
    "\n",
    "srun -n 32 ../pflotran-cori -pflotranin pflotran_200x200x2_6h_bc_obs.in"
   ]
  },
  {
   "cell_type": "markdown",
   "metadata": {},
   "source": [
    "# download files from NERSC"
   ]
  },
  {
   "cell_type": "code",
   "execution_count": null,
   "metadata": {
    "collapsed": true
   },
   "outputs": [],
   "source": [
    "scp -r pshuai@cori.nersc.gov:/global/cscratch1/sd/pshuai/HFR_model_100x100x2/* \\\n",
    "~/Dropbox/PNNL/Projects/Reach_scale_model/Outputs/HFR_model_100x100x2/."
   ]
  },
  {
   "cell_type": "code",
   "execution_count": null,
   "metadata": {
    "collapsed": true
   },
   "outputs": [],
   "source": [
    "## download from dtn.pnl.gov\n",
    "scp -r shua784@dtn2.pnl.gov:/pic/dtn2/shua784/HFR_model_100x100x5/pflotran_100x100x5.h5 \\\n",
    "~/Paraview/HFR/HFR_100x100x5m/.\n"
   ]
  }
 ],
 "metadata": {
  "kernelspec": {
   "display_name": "Python 3",
   "language": "python",
   "name": "python3"
  },
  "language_info": {
   "codemirror_mode": {
    "name": "ipython",
    "version": 3
   },
   "file_extension": ".py",
   "mimetype": "text/x-python",
   "name": "python",
   "nbconvert_exporter": "python",
   "pygments_lexer": "ipython3",
   "version": "3.6.5"
  },
  "toc": {
   "base_numbering": 1,
   "nav_menu": {},
   "number_sections": true,
   "sideBar": true,
   "skip_h1_title": false,
   "title_cell": "Table of Contents",
   "title_sidebar": "Contents",
   "toc_cell": false,
   "toc_position": {},
   "toc_section_display": true,
   "toc_window_display": false
  },
  "varInspector": {
   "cols": {
    "lenName": 16,
    "lenType": 16,
    "lenVar": 40
   },
   "kernels_config": {
    "python": {
     "delete_cmd_postfix": "",
     "delete_cmd_prefix": "del ",
     "library": "var_list.py",
     "varRefreshCmd": "print(var_dic_list())"
    },
    "r": {
     "delete_cmd_postfix": ") ",
     "delete_cmd_prefix": "rm(",
     "library": "var_list.r",
     "varRefreshCmd": "cat(var_dic_list()) "
    }
   },
   "types_to_exclude": [
    "module",
    "function",
    "builtin_function_or_method",
    "instance",
    "_Feature"
   ],
   "window_display": false
  }
 },
 "nbformat": 4,
 "nbformat_minor": 2
}
