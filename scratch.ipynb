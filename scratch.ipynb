{
 "cells": [
  {
   "cell_type": "code",
   "execution_count": 1,
   "metadata": {},
   "outputs": [],
   "source": [
    "vowels = ['a', 'e', 'i', 'o', 'i', 'u']"
   ]
  },
  {
   "cell_type": "code",
   "execution_count": 3,
   "metadata": {},
   "outputs": [
    {
     "ename": "TypeError",
     "evalue": "list indices must be integers or slices, not tuple",
     "output_type": "error",
     "traceback": [
      "\u001b[0;31m---------------------------------------------------------------------------\u001b[0m",
      "\u001b[0;31mTypeError\u001b[0m                                 Traceback (most recent call last)",
      "\u001b[0;32m<ipython-input-3-3385d1c9081a>\u001b[0m in \u001b[0;36m<module>\u001b[0;34m()\u001b[0m\n\u001b[0;32m----> 1\u001b[0;31m \u001b[0mvowels\u001b[0m\u001b[0;34m[\u001b[0m\u001b[0;36m1\u001b[0m\u001b[0;34m,\u001b[0m\u001b[0;36m2\u001b[0m\u001b[0;34m]\u001b[0m\u001b[0;34m\u001b[0m\u001b[0m\n\u001b[0m",
      "\u001b[0;31mTypeError\u001b[0m: list indices must be integers or slices, not tuple"
     ]
    }
   ],
   "source": [
    "vowels[1,2]"
   ]
  },
  {
   "cell_type": "markdown",
   "metadata": {},
   "source": [
    "# View Hdf5 file"
   ]
  },
  {
   "cell_type": "code",
   "execution_count": 5,
   "metadata": {},
   "outputs": [],
   "source": [
    "import h5py as h5"
   ]
  },
  {
   "cell_type": "code",
   "execution_count": 4,
   "metadata": {},
   "outputs": [],
   "source": [
    "# view the tree structure of hdf5 file\n",
    "def print_structure(name, obj):\n",
    "    print(name)\n",
    "    \n",
    "## example: input_h5.visititems(print_structure)"
   ]
  },
  {
   "cell_type": "code",
   "execution_count": 6,
   "metadata": {},
   "outputs": [],
   "source": [
    "case_name = \"HFR_model_100x100x2_new_iniH/\"\n",
    "\n",
    "model_dir = \"/global/cscratch1/sd/pshuai/\" + case_name\n",
    "fname_pflotran_h5 = model_dir + \"pflotran_100x100x2_6h_bc_new_iniH.h5\"\n",
    "fname_output_h5 = model_dir + \"pflotran_100x100x2_6h_bc_120h_output.h5\""
   ]
  },
  {
   "cell_type": "code",
   "execution_count": 7,
   "metadata": {},
   "outputs": [],
   "source": [
    "f = h5.File(fname_output_h5, \"r\")"
   ]
  },
  {
   "cell_type": "code",
   "execution_count": 9,
   "metadata": {
    "ExecuteTime": {
     "end_time": "2018-06-15T22:02:33.642236Z",
     "start_time": "2018-06-15T22:02:33.635402Z"
    }
   },
   "outputs": [
    {
     "name": "stdout",
     "output_type": "stream",
     "text": [
      "Coordinates\n",
      "Coordinates/X [m]\n",
      "Coordinates/Y [m]\n",
      "Coordinates/Z [m]\n",
      "Provenance\n",
      "Provenance/PETSc\n",
      "Provenance/PETSc/detail_petsc_config\n",
      "Provenance/PETSc/detail_petsc_parent\n",
      "Provenance/PETSc/detail_petsc_status\n",
      "Provenance/PFLOTRAN\n",
      "Provenance/PFLOTRAN/detail_pflotran_diff\n",
      "Provenance/PFLOTRAN/detail_pflotran_fflags\n",
      "Provenance/PFLOTRAN/detail_pflotran_parent\n",
      "Provenance/PFLOTRAN/detail_pflotran_status\n",
      "Provenance/PFLOTRAN/pflotran_compile_date_time\n",
      "Provenance/PFLOTRAN/pflotran_compile_hostname\n",
      "Provenance/PFLOTRAN/pflotran_compile_user\n",
      "Provenance/PFLOTRAN/pflotran_input_file\n",
      "Time:  3.24000E+04 h\n",
      "Time:  3.24000E+04 h/Kludged_material_ids_for_VisIt\n",
      "Time:  3.24000E+04 h/Liquid X-Velocity [m_per_h]\n",
      "Time:  3.24000E+04 h/Liquid Y-Velocity [m_per_h]\n",
      "Time:  3.24000E+04 h/Liquid Z-Velocity [m_per_h]\n",
      "Time:  3.24000E+04 h/Liquid_Pressure [Pa]\n",
      "Time:  3.24000E+04 h/Material_ID\n"
     ]
    }
   ],
   "source": [
    "f.visititems(print_structure)"
   ]
  },
  {
   "cell_type": "code",
   "execution_count": 31,
   "metadata": {},
   "outputs": [
    {
     "data": {
      "text/plain": [
       "['Cell Ids', 'Material Ids']"
      ]
     },
     "execution_count": 31,
     "metadata": {},
     "output_type": "execute_result"
    }
   ],
   "source": [
    "list(f['Materials'])"
   ]
  },
  {
   "cell_type": "code",
   "execution_count": 32,
   "metadata": {
    "ExecuteTime": {
     "end_time": "2018-06-15T22:02:41.002336Z",
     "start_time": "2018-06-15T22:02:40.999713Z"
    }
   },
   "outputs": [],
   "source": [
    "material_ids = input_h5['Materials']['Material Ids']"
   ]
  },
  {
   "cell_type": "code",
   "execution_count": 34,
   "metadata": {},
   "outputs": [
    {
     "data": {
      "text/plain": [
       "(9000000,)"
      ]
     },
     "execution_count": 34,
     "metadata": {},
     "output_type": "execute_result"
    }
   ],
   "source": [
    "material_ids.shape"
   ]
  },
  {
   "cell_type": "code",
   "execution_count": 38,
   "metadata": {
    "ExecuteTime": {
     "end_time": "2018-06-15T22:03:00.165545Z",
     "start_time": "2018-06-15T22:03:00.050583Z"
    }
   },
   "outputs": [
    {
     "data": {
      "text/plain": [
       "array([9, 9, 9, ..., 9, 9, 9], dtype=int32)"
      ]
     },
     "execution_count": 38,
     "metadata": {},
     "output_type": "execute_result"
    }
   ],
   "source": [
    "material_ids[0:10000]"
   ]
  },
  {
   "cell_type": "code",
   "execution_count": 10,
   "metadata": {},
   "outputs": [],
   "source": [
    "f.close()"
   ]
  }
 ],
 "metadata": {
  "kernelspec": {
   "display_name": "Python [default]",
   "language": "python",
   "name": "python3"
  },
  "language_info": {
   "codemirror_mode": {
    "name": "ipython",
    "version": 3
   },
   "file_extension": ".py",
   "mimetype": "text/x-python",
   "name": "python",
   "nbconvert_exporter": "python",
   "pygments_lexer": "ipython3",
   "version": "3.6.1"
  },
  "toc": {
   "base_numbering": 1,
   "nav_menu": {},
   "number_sections": true,
   "sideBar": true,
   "skip_h1_title": false,
   "title_cell": "Table of Contents",
   "title_sidebar": "Contents",
   "toc_cell": false,
   "toc_position": {},
   "toc_section_display": true,
   "toc_window_display": false
  },
  "varInspector": {
   "cols": {
    "lenName": 16,
    "lenType": 16,
    "lenVar": 40
   },
   "kernels_config": {
    "python": {
     "delete_cmd_postfix": "",
     "delete_cmd_prefix": "del ",
     "library": "var_list.py",
     "varRefreshCmd": "print(var_dic_list())"
    },
    "r": {
     "delete_cmd_postfix": ") ",
     "delete_cmd_prefix": "rm(",
     "library": "var_list.r",
     "varRefreshCmd": "cat(var_dic_list()) "
    }
   },
   "position": {
    "height": "358px",
    "left": "13px",
    "right": "20px",
    "top": "140px",
    "width": "359px"
   },
   "types_to_exclude": [
    "module",
    "function",
    "builtin_function_or_method",
    "instance",
    "_Feature"
   ],
   "window_display": false
  }
 },
 "nbformat": 4,
 "nbformat_minor": 2
}
