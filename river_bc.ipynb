{
 "cells": [
  {
   "cell_type": "markdown",
   "metadata": {},
   "source": [
    "# Generate river boundary from Mass1 simulation"
   ]
  },
  {
   "cell_type": "code",
   "execution_count": 1,
   "metadata": {},
   "outputs": [
    {
     "data": {
      "text/html": [
       "<span style=white-space:pre-wrap>'Working dir:  /Users/shua784/Dropbox/PNNL/Projects/Reach_scale_model'</span>"
      ],
      "text/latex": [
       "'Working dir:  /Users/shua784/Dropbox/PNNL/Projects/Reach\\_scale\\_model'"
      ],
      "text/markdown": [
       "<span style=white-space:pre-wrap>'Working dir:  /Users/shua784/Dropbox/PNNL/Projects/Reach_scale_model'</span>"
      ],
      "text/plain": [
       "[1] \"Working dir:  /Users/shua784/Dropbox/PNNL/Projects/Reach_scale_model\""
      ]
     },
     "metadata": {},
     "output_type": "display_data"
    }
   ],
   "source": [
    "setwd(\"/Users/shua784/Dropbox/PNNL/Projects/Reach_scale_model/\")\n",
    "paste(\"Working dir: \", getwd())"
   ]
  },
  {
   "cell_type": "code",
   "execution_count": 2,
   "metadata": {},
   "outputs": [],
   "source": [
    "imodel=c(\"200x200x5\")\n",
    "# mass1 data\n",
    "fname_mass1_coord = \"data/MASS1/coordinates.csv\"\n",
    "fname_mass1_pts = \"data/MASS1/transient_1976_2016/\"\n",
    "\n",
    "fname_mass1_xts = \"results/mass.data.xts.r\"\n",
    "fname_mass1_data.r = \"results/mass.data.r\"\n",
    "fname_model_inputs.r = paste(\"results/model_inputs_\", imodel, \".r\", sep = \"\")\n",
    "\n",
    "is.smooth = T\n",
    "\n",
    "fname_DatumH = \"Inputs/river_bc/bc_1w_smooth/DatumH_Mass1_\"\n",
    "fname_Gradients = \"Inputs/river_bc/bc_1w_smooth/Gradients_Mass1_\""
   ]
  },
  {
   "cell_type": "code",
   "execution_count": 3,
   "metadata": {},
   "outputs": [],
   "source": [
    "load(fname_model_inputs.r)"
   ]
  },
  {
   "cell_type": "code",
   "execution_count": 4,
   "metadata": {},
   "outputs": [],
   "source": [
    "start.time = as.POSIXct(\"2007-03-28 12:00:00\",tz=\"GMT\",format=\"%Y-%m-%d %H:%M:%S\")\n",
    "#start.time = as.POSIXct(\"2007-01-01 00:00:00\",tz=\"GMT\",format=\"%Y-%m-%d %H:%M:%S\")\n",
    "end.time = as.POSIXct(\"2016-01-01 00:00:00\",tz=\"GMT\",format=\"%Y-%m-%d %H:%M:%S\")\n",
    "\n",
    "mass.coord = read.csv(fname_mass1_coord)\n",
    "mass.coord[,\"easting\"] = mass.coord[,\"easting\"]-model_origin[1]\n",
    "mass.coord[,\"northing\"] = mass.coord[,\"northing\"]-model_origin[2]"
   ]
  },
  {
   "cell_type": "code",
   "execution_count": 5,
   "metadata": {},
   "outputs": [],
   "source": [
    "##------------------------- compile all the mass1 data --------------------------\n",
    "if (!file.exists(fname_mass1_xts)) {\n",
    "  \n",
    "  slice.list = as.character(mass.coord[,1])\n",
    "  \n",
    "mass.data = list()\n",
    "for (islice in slice.list) {\n",
    "  print(islice)\n",
    "  mass.data[[islice]] = read.csv(paste(fname_mass1_pts,\"mass1_\",\n",
    "                                       islice,\".csv\",sep=\"\"))\n",
    "}\n",
    "names(mass.data) = slice.list\n",
    "\n",
    "for (islice in slice.list) {\n",
    "  print(islice)\n",
    "  mass.data[[islice]][[\"date\"]] =\n",
    "    as.POSIXct(mass.data[[islice]][[\"date\"]],format=\"%Y-%m-%d %H:%M:%S\",tz='GMT')\n",
    "  mass.data[[islice]][[\"stage\"]] = mass.data[[islice]][[\"stage\"]]+1.039\n",
    "}\n",
    "\n",
    "\n",
    "# save(mass.data, file=fname_mass1_data.r)\n",
    "\n",
    "time.index = seq(from=start.time,to=end.time,by=\"1 hour\")\n",
    "ntime = length(time.index)\n",
    "simu.time = c(1:ntime-1)*3600\n",
    "\n",
    "mass.data.xts = list()\n",
    "for (islice in slice.list)\n",
    "{\n",
    "  print(islice)\n",
    "  mass.data.xts[[islice]] = xts(mass.data[[islice]],\n",
    "                                order.by=mass.data[[islice]][[\"date\"]] ,unique=T,tz=\"GMT\")\n",
    "  \n",
    "  mass.data.xts[[islice]] = mass.data.xts[[islice]][\n",
    "    .indexmin(mass.data.xts[[islice]][,\"date\"]) %in% c(56:59,0:5)]\n",
    "\n",
    "  index(mass.data.xts[[islice]]) = round(index(mass.data.xts[[islice]]),units=\"hours\")\n",
    "  mass.data.xts[[islice]] = mass.data.xts[[islice]][\n",
    "    !duplicated(.index(mass.data.xts[[islice]]))]\n",
    "  mass.data.xts[[islice]] = merge(mass.data.xts[[islice]],time.index)\n",
    "  \n",
    "}\n",
    "\n",
    "save(mass.data.xts,file=paste(results.dir,\"mass.data.xts.r\",sep=\"\"))\n",
    "} else {\n",
    "    \n",
    "  load(fname_mass1_xts)\n",
    "  print(\"mass1_xts loaded.\")\n",
    "}"
   ]
  },
  {
   "cell_type": "code",
   "execution_count": null,
   "metadata": {
    "collapsed": true
   },
   "outputs": [],
   "source": [
    "##------------------------- generate river bc-----------------------------------\n",
    "slice.list = names(mass.data.xts)\n",
    "# slice.list = c(\"40\", \"41\")\n",
    "# islice = slice.list\n",
    "nslice = length(slice.list)\n",
    "\n",
    "\n",
    "for (islice in slice.list)\n",
    "{\n",
    "    mass.data.xts[[islice]] = mass.data.xts[[islice]][index(mass.data.xts[[islice]])>=start.time,]\n",
    "    mass.data.xts[[islice]] = mass.data.xts[[islice]][index(mass.data.xts[[islice]])<=end.time,]    \n",
    "}\n",
    "\n",
    "\n",
    "time.index = seq(from=start.time,to=end.time,by=\"1 hour\")\n",
    "ntime = length(time.index)\n",
    "simu.time = c(1:ntime-1)*3600\n",
    "mass.gradient = rep(NA,ntime)\n",
    "\n",
    "# slice.list = as.character(seq(314,330))\n",
    "# nslice = length(slice.list)\n",
    "\n",
    "# coord.data = read.table(fname_model_coord)\n",
    "# rownames(coord.data) = coord.data[,1]\n",
    "# coord.data =  coord.data[rownames(coord.data) %in% slice.list,]\n",
    "# nwell = dim(coord.data)[1]\n",
    "# y = coord.data[slice.list,3]\n",
    "# names(y)=rownames(coord.data)\n",
    "# x = coord.data[slice.list,2]\n",
    "# names(x)=rownames(coord.data)\n",
    "\n",
    "mass.level = array(NA,c(nslice,ntime))\n",
    "rownames(mass.level) = slice.list\n",
    "for (islice in slice.list) {\n",
    "    mass.level[islice,] = mass.data.xts[[islice]][,\"stage\"]\n",
    "}\n",
    "available.date = which(colSums(mass.level,na.rm=TRUE)>200)"
   ]
  },
  {
   "cell_type": "code",
   "execution_count": null,
   "metadata": {
    "collapsed": true
   },
   "outputs": [],
   "source": [
    "#-----------------------------smooth river stage-------------------------------##\n",
    "if (is.smooth) {\n",
    "  \n",
    "\n",
    "# nwindows = 6 #hour\n",
    "# nwindows = 24*1 #1d\n",
    "nwindows = 24*7 #1 week\n",
    "dt = 3600\n",
    "filt = Ma(rep(1/nwindows,nwindows))\n",
    "# new.mass.level = array(NA,c(nslice,(ntime+1)))\n",
    "new.mass.level = array(NA,c(nslice,ntime+1)) #moving average (ma) add 1 extra time to match the dim(ma_value)\n",
    "for (islice in 1:nslice)\n",
    "{\n",
    "    print(islice)\n",
    "    ori_time = simu.time\n",
    "    ori_value = mass.level[islice,]\n",
    "\n",
    "    ma_value = filter(filt,ori_value)\n",
    "    ma_time = ori_time-dt*(nwindows-1)/2 # ma_time offset by dt/2\n",
    "    ma_value = tail(ma_value,-nwindows)\n",
    "    ma_time = tail(ma_time,-nwindows)\n",
    "    ma_value = c(ori_value[ori_time<min(ma_time)],ma_value)\n",
    "    ma_time = c(ori_time[ori_time<min(ma_time)],ma_time)\n",
    "    ma_value = c(ma_value,ori_value[ori_time>max(ma_time)])\n",
    "    ma_time = c(ma_time,ori_time[ori_time>max(ma_time)])\n",
    "\n",
    "    new.mass.level[islice,] = ma_value\n",
    "}\n",
    "\n",
    "##generate moving aveage plots with original mass data\n",
    "# for (islice in 1:nslice) {\n",
    "  islice = 1\n",
    "  jpeg(paste(\"figures/mass_original_vs_mvAve_\", slice.list[islice], \"_\",nwindows,\"h.jpg\", sep=''),width=8,height=5,units='in', res = 300)\n",
    "\n",
    "  ori_time = ori_time + start.time\n",
    "  plot(ori_time, mass.level[islice, 1:length(ori_time)] ,type = \"l\", col= \"black\", axes = F, xlab=NA,ylab=\"Hydaulic head (m)\")\n",
    "  box()\n",
    "\n",
    "  axis(2,at=seq(118,128,2),mgp=c(5,0.7,0),cex.axis=1)\n",
    "\n",
    "  axis.POSIXct(1,at=seq(as.Date(\"2007-01-01\",tz=\"GMT\"),\n",
    "                        to=as.Date(\"2016-01-01\",tz=\"GMT\"),by=\"quarter\"),format=\"%m/%Y\",mgp=c(5,0.7,0))\n",
    "  ma_time = ma_time + start.time\n",
    "  lines(ma_time, new.mass.level[islice,], col= \"red\")\n",
    "\n",
    "\n",
    "  legend(\"topright\",legend = c(\"original\",\"mvAve\"), col = c(\"black\", \"red\"), lty = c(\"solid\", \"solid\"), bty = \"n\")\n",
    "  title(paste(\"mass_original_vs_ma_\", slice.list[islice], sep=''))\n",
    "  dev.off()\n",
    "# }\n",
    "\n",
    "\n",
    "\n",
    "\n",
    "mass.level = new.mass.level\n",
    "simu.time = ma_time\n",
    "ntime = length(simu.time)\n",
    "\n",
    "}"
   ]
  },
  {
   "cell_type": "code",
   "execution_count": null,
   "metadata": {
    "collapsed": true
   },
   "outputs": [],
   "source": [
    "##------------------------calculate gradient--------------------------------##\n",
    "# mass.gradient = array(NA,c(nslice,(ntime+1)))\n",
    "mass.gradient.x = array(NA,c(nslice,ntime))\n",
    "mass.gradient.y = array(NA,c(nslice,ntime))\n",
    "rownames(mass.gradient.y) = slice.list\n",
    "rownames(mass.gradient.x) = slice.list\n",
    "\n",
    "for (islice in 1:(nslice-1)) #from top to bottom. \n",
    "{\n",
    "  distance = sqrt((mass.coord[islice+1,\n",
    "                              \"northing\"]-mass.coord[islice,\"northing\"])^2 +\n",
    "                    (mass.coord[islice+1,\"easting\"]-mass.coord[islice,\"easting\"])^2)\n",
    "  ## calculate grad based on x-direction\n",
    "  mass.gradient.x[islice,] = (mass.level[islice+1,]-mass.level[islice,]\n",
    "  )/distance*(mass.coord[islice+1,\"easting\"]-mass.coord[islice,\"easting\"])/distance   \n",
    "  \n",
    "  ## calculate grad based on y-direction    \n",
    "  mass.gradient.y[islice,] = (mass.level[islice+1,]-mass.level[islice,]\n",
    "  )/distance*(mass.coord[islice+1,\"northing\"]-mass.coord[islice,\"northing\"])/distance \n",
    "}\n"
   ]
  },
  {
   "cell_type": "code",
   "execution_count": null,
   "metadata": {
    "collapsed": true
   },
   "outputs": [],
   "source": [
    "# gradient_314 is calcuated based on 315 and 314\n",
    "for (islice in 1:(nslice-1))\n",
    "{ \n",
    "    print(islice)\n",
    "    Gradients = cbind(simu.time,\n",
    "                      mass.gradient.x[islice,],\n",
    "                      mass.gradient.y[islice,],\n",
    "                      rep(0,(ntime)))\n",
    "    \n",
    "    DatumH = cbind(simu.time,\n",
    "                   rep(mass.coord[islice,\"easting\"],ntime),\n",
    "                   rep(mass.coord[islice,\"northing\"],ntime),                                      \n",
    "                   mass.level[islice,])\n",
    "\n",
    "    write.table(DatumH, file=paste(fname_DatumH, slice.list[islice],'.txt',sep=\"\"),col.names=FALSE,row.names=FALSE) \n",
    "    write.table(Gradients, file=paste(fname_Gradients, slice.list[islice],\".txt\",sep=''),col.names=FALSE,row.names=FALSE)\n",
    "    \n",
    "    \n",
    "}\n"
   ]
  }
 ],
 "metadata": {
  "kernelspec": {
   "display_name": "R",
   "language": "R",
   "name": "ir"
  },
  "language_info": {
   "codemirror_mode": "r",
   "file_extension": ".r",
   "mimetype": "text/x-r-source",
   "name": "R",
   "pygments_lexer": "r",
   "version": "3.5.0"
  },
  "toc": {
   "base_numbering": 1,
   "nav_menu": {},
   "number_sections": true,
   "sideBar": true,
   "skip_h1_title": false,
   "title_cell": "Table of Contents",
   "title_sidebar": "Contents",
   "toc_cell": false,
   "toc_position": {},
   "toc_section_display": true,
   "toc_window_display": true
  },
  "varInspector": {
   "cols": {
    "lenName": 16,
    "lenType": 16,
    "lenVar": 40
   },
   "kernels_config": {
    "python": {
     "delete_cmd_postfix": "",
     "delete_cmd_prefix": "del ",
     "library": "var_list.py",
     "varRefreshCmd": "print(var_dic_list())"
    },
    "r": {
     "delete_cmd_postfix": ") ",
     "delete_cmd_prefix": "rm(",
     "library": "var_list.r",
     "varRefreshCmd": "cat(var_dic_list()) "
    }
   },
   "types_to_exclude": [
    "module",
    "function",
    "builtin_function_or_method",
    "instance",
    "_Feature"
   ],
   "window_display": false
  }
 },
 "nbformat": 4,
 "nbformat_minor": 2
}
