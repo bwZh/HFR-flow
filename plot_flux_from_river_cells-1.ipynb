{
 "cells": [
  {
   "cell_type": "markdown",
   "metadata": {},
   "source": [
    "# pre-process h5 output"
   ]
  },
  {
   "cell_type": "code",
   "execution_count": null,
   "metadata": {},
   "outputs": [],
   "source": [
    "import numpy as np\n",
    "import h5py as h5\n",
    "import glob\n",
    "import pickle"
   ]
  },
  {
   "cell_type": "code",
   "execution_count": null,
   "metadata": {},
   "outputs": [],
   "source": [
    "output_dir = \"/Users/song884/remote/reach/Outputs/HFR_200x200x2_6h_bc/\"\n",
    "pt_fname = output_dir + \"face_flux.pk\""
   ]
  },
  {
   "cell_type": "code",
   "execution_count": null,
   "metadata": {},
   "outputs": [],
   "source": [
    "material_h5 = h5.File(output_dir + \"HFR_material_river.h5\", \"r\")\n",
    "\n",
    "all_h5 = glob.glob(output_dir + \"pflotran*h5\")\n",
    "all_h5 = np.sort(all_h5)"
   ]
  },
  {
   "cell_type": "code",
   "execution_count": null,
   "metadata": {},
   "outputs": [],
   "source": [
    "input_h5 = h5.File(all_h5[0], \"r\")\n",
    "x_grids = list(input_h5[\"Coordinates\"]['X [m]'])\n",
    "y_grids = list(input_h5[\"Coordinates\"]['Y [m]'])\n",
    "z_grids = list(input_h5[\"Coordinates\"]['Z [m]'])\n",
    "input_h5.close()\n"
   ]
  },
  {
   "cell_type": "code",
   "execution_count": null,
   "metadata": {},
   "outputs": [],
   "source": [
    "dx = np.diff(x_grids)\n",
    "dy = np.diff(y_grids)\n",
    "dz = np.diff(z_grids)\n",
    "\n",
    "nx = len(dx)\n",
    "ny = len(dy)\n",
    "nz = len(dz)\n",
    "x = x_grids[0] + np.cumsum(dx) - 0.5 * dx[0]\n",
    "y = y_grids[0] + np.cumsum(dy) - 0.5 * dy[0]\n",
    "z = z_grids[0] + np.cumsum(dz) - 0.5 * dz[0]\n",
    "\n",
    "grids = np.asarray([(x, y, z) for z in range(nz)\n",
    "                    for y in range(ny) for x in range(nx)])\n",
    "\n",
    "west_area = dy[0] * dz[0]\n",
    "east_area = dy[0] * dz[0]\n",
    "south_area = dx[0] * dz[0]\n",
    "north_area = dx[0] * dz[0]\n",
    "top_area = dx[0] * dy[0]\n",
    "bottom_area = dx[0] * dy[0]"
   ]
  },
  {
   "cell_type": "code",
   "execution_count": null,
   "metadata": {},
   "outputs": [],
   "source": [
    "# read river face information\n",
    "river_cells = []\n",
    "river_faces = []\n",
    "for i_region in list(material_h5['Regions'].keys()):\n",
    "    river_cells = np.append(river_cells, np.asarray(\n",
    "        list(material_h5[\"Regions\"][i_region][\"Cell Ids\"])))\n",
    "    river_faces = np.append(river_faces, np.asarray(\n",
    "        list(material_h5[\"Regions\"][i_region][\"Face Ids\"])))\n",
    "river_cells = river_cells.astype(int)\n",
    "river_cells = river_cells - 1  # need minus 1 as python index started with 0\n",
    "river_faces = river_faces.astype(int)\n",
    "\n",
    "unique_river_cells = np.unique(river_cells)"
   ]
  },
  {
   "cell_type": "code",
   "execution_count": null,
   "metadata": {},
   "outputs": [],
   "source": [
    "temp_unique_river_cells = unique_river_cells\n",
    "unique_river_cells = []\n",
    "for i_cell in temp_unique_river_cells:\n",
    "    if (grids[i_cell, 0] > 0 and grids[i_cell, 0] < (nx - 1) and\n",
    "            grids[i_cell, 1] > 0 and grids[i_cell, 1] < (ny - 1) and\n",
    "            grids[i_cell, 2] > 0 and grids[i_cell, 2] < (nz - 1)):\n",
    "        unique_river_cells.append(i_cell)\n",
    "\n",
    "n_unique = len(unique_river_cells)\n",
    "unique_index = [grids[i, :] for i in unique_river_cells]"
   ]
  },
  {
   "cell_type": "code",
   "execution_count": null,
   "metadata": {},
   "outputs": [],
   "source": [
    "river_face_array = np.array([], dtype=np.float).reshape(0, 6)\n",
    "for i_cell in unique_river_cells:\n",
    "    temp_face_vector = np.array([0] * 6).reshape(1, 6)\n",
    "    temp_faces = river_faces[river_cells == i_cell]\n",
    "    for iface in list(map(int, temp_faces)):\n",
    "        temp_face_vector[0, iface - 1] = 1\n",
    "    river_face_array = np.concatenate(\n",
    "        (river_face_array, temp_face_vector), axis=0)"
   ]
  },
  {
   "cell_type": "code",
   "execution_count": null,
   "metadata": {},
   "outputs": [],
   "source": [
    "out_flux = {}\n",
    "all_h5 = glob.glob(output_dir + \"pflotran*h5\")\n",
    "for i_h5 in all_h5:\n",
    "    print(i_h5)\n",
    "    h5file = h5.File(i_h5, \"r\")\n",
    "    groups = list(h5file.keys())\n",
    "    time_index = [i for i, s in enumerate(groups) if \"Time:\" in s]\n",
    "    times = [groups[i] for i in time_index]\n",
    "    for itime in times:\n",
    "        print(itime)\n",
    "\n",
    "        # get dict of all flux\n",
    "        x_darcy = np.asarray(list(h5file[itime][\"Liquid X-Flux Velocities\"]))\n",
    "        y_darcy = np.asarray(list(h5file[itime][\"Liquid Y-Flux Velocities\"]))\n",
    "        z_darcy = np.asarray(list(h5file[itime][\"Liquid Z-Flux Velocities\"]))\n",
    "\n",
    "        # get flux on all cell face in river bed cells\n",
    "        west_flux = [x_darcy[i[0] - 1, i[1], i[2]] for i in unique_index]\n",
    "        east_flux = [x_darcy[i[0], i[1], i[2]] for i in unique_index]\n",
    "        south_flux = [y_darcy[i[0], i[1] - 1, i[2]] for i in unique_index]\n",
    "        north_flux = [y_darcy[i[0], i[1], i[2]] for i in unique_index]\n",
    "        bottom_flux = [z_darcy[i[0], i[1], i[2] - 1] for i in unique_index]\n",
    "        top_flux = [z_darcy[i[0], i[1], i[2]] for i in unique_index]\n",
    "\n",
    "        # get volumeric flux\n",
    "        west_flux = [x * west_area for x in west_flux]\n",
    "        east_flux = [x * east_area for x in east_flux]\n",
    "        south_flux = [x * south_area for x in south_flux]\n",
    "        north_flux = [x * north_area for x in north_flux]\n",
    "        bottom_flux = [x * bottom_area for x in bottom_flux]\n",
    "        top_flux = [x * top_area for x in top_flux]\n",
    "\n",
    "        # get flux on river face of river cells\n",
    "        river_face_flux = river_face_array * np.column_stack(\n",
    "            (west_flux, east_flux, south_flux,\n",
    "             north_flux, bottom_flux, top_flux))\n",
    "\n",
    "        # combine x,y,z directions to get outflow flux\n",
    "        out_flux[itime] = [(-x[0] + x[1] - x[2] + x[3] - x[4] + x[5])\n",
    "                           for x in river_face_flux]\n",
    "file = open(pt_fname, \"wb\")\n",
    "pickle.dump(out_flux, file)\n",
    "file.close()\n",
    "\n",
    "material_h5.close()"
   ]
  }
 ],
 "metadata": {
  "kernelspec": {
   "display_name": "Python 3",
   "language": "python",
   "name": "python3"
  },
  "language_info": {
   "codemirror_mode": {
    "name": "ipython",
    "version": 3
   },
   "file_extension": ".py",
   "mimetype": "text/x-python",
   "name": "python",
   "nbconvert_exporter": "python",
   "pygments_lexer": "ipython3",
   "version": "3.6.3"
  },
  "varInspector": {
   "cols": {
    "lenName": 16,
    "lenType": 16,
    "lenVar": 40
   },
   "kernels_config": {
    "python": {
     "delete_cmd_postfix": "",
     "delete_cmd_prefix": "del ",
     "library": "var_list.py",
     "varRefreshCmd": "print(var_dic_list())"
    },
    "r": {
     "delete_cmd_postfix": ") ",
     "delete_cmd_prefix": "rm(",
     "library": "var_list.r",
     "varRefreshCmd": "cat(var_dic_list()) "
    }
   },
   "types_to_exclude": [
    "module",
    "function",
    "builtin_function_or_method",
    "instance",
    "_Feature"
   ],
   "window_display": false
  }
 },
 "nbformat": 4,
 "nbformat_minor": 2
}
