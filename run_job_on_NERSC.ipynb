{
 "cells": [
  {
   "cell_type": "markdown",
   "metadata": {},
   "source": [
    "# Submit job on Nersc"
   ]
  },
  {
   "cell_type": "markdown",
   "metadata": {},
   "source": [
    "[**Common slurm commands**](https://github.com/NERSC/slurm-magic), such as **_%sbatch, %squeue, %scancel, %salloc, %srun, %scontrol_**"
   ]
  },
  {
   "cell_type": "markdown",
   "metadata": {},
   "source": [
    "Any command that works at the command-line can be used in Jupyter Notebook by prefixing it with the **! ** character. For example, the **ls, pwd, and echo** commands can be run as follows: **!ls, !pwd, !echo** ([link](https://jakevdp.github.io/PythonDataScienceHandbook/01.05-ipython-and-shell-commands.html))\n",
    "\n",
    "Besides **%cd**, other available shell-like magic functions are **%cat, %cp, %env, %ls, %man, %mkdir, %more, %mv, %pwd, %rm, and %rmdir**, any of which can be used without the % sign if `automagic` is on."
   ]
  },
  {
   "cell_type": "code",
   "execution_count": 23,
   "metadata": {},
   "outputs": [],
   "source": [
    "import subprocess"
   ]
  },
  {
   "cell_type": "markdown",
   "metadata": {},
   "source": [
    "## execute batch job"
   ]
  },
  {
   "cell_type": "code",
   "execution_count": 24,
   "metadata": {},
   "outputs": [
    {
     "data": {
      "text/plain": [
       "0"
      ]
     },
     "execution_count": 24,
     "metadata": {},
     "output_type": "execute_result"
    }
   ],
   "source": [
    "subprocess.call(['ls', '-ltr'])"
   ]
  },
  {
   "cell_type": "code",
   "execution_count": 20,
   "metadata": {},
   "outputs": [
    {
     "data": {
      "text/plain": [
       "'/global/cscratch1/sd/pshuai/John_case'"
      ]
     },
     "execution_count": 20,
     "metadata": {},
     "output_type": "execute_result"
    }
   ],
   "source": [
    "pwd"
   ]
  },
  {
   "cell_type": "code",
   "execution_count": 1,
   "metadata": {
    "scrolled": true
   },
   "outputs": [
    {
     "name": "stdout",
     "output_type": "stream",
     "text": [
      "/global/cscratch1/sd/pshuai\n"
     ]
    }
   ],
   "source": [
    "cd /global/cscratch1/sd/pshuai/John_case/"
   ]
  },
  {
   "cell_type": "code",
   "execution_count": 6,
   "metadata": {
    "collapsed": true
   },
   "outputs": [
    {
     "name": "stdout",
     "output_type": "stream",
     "text": [
      "total 151088\r\n",
      "-rw-r--r-- 1 pshuai m1800 3138403 Dec 18 22:56 300A_H_Initial.h5\r\n",
      "-rw-r----- 1 pshuai m1800     350 Dec 18 23:05 run.debug.sh~\r\n",
      "-rw-rw---- 1 pshuai m1800   27621 Dec 19 15:01 '#slurm-9071284.out#'\r\n",
      "-rw-r----- 1 pshuai m1800     351 Dec 20 10:47 run.debug.sh\r\n",
      "-rw-rw---- 1 pshuai m1800 2222744 Dec 20 11:20 '#slurm-9080201.out#'\r\n",
      "-rw-r----- 1 pshuai m1800     373 Dec 20 11:36 '#run.debug.sh#'\r\n",
      "-rw-rw---- 1 pshuai m1800 5293630 Dec 20 12:18 slurm-9080696.out\r\n",
      "-rw-rw---- 1 pshuai m1800 1157234 Dec 20 15:04 slurm-9081840.out\r\n",
      "-rw-rw---- 1 pshuai m1800 2116248 Dec 20 22:18 slurm-9085903.out\r\n",
      "-rw-rw---- 1 pshuai m1800 2116248 Dec 20 22:28 '#slurm-9085903.out#'\r\n",
      "-rw-r--r-- 1 pshuai m1800 2597715 Dec 22 13:47 DatumH_River_filtered_6h_317.txt\r\n",
      "-rw-r--r-- 1 pshuai m1800 2491546 Dec 22 13:47 DatumH_River_filtered_6h_316.txt\r\n",
      "-rw-r--r-- 1 pshuai m1800 2596698 Dec 22 13:47 DatumH_River_filtered_6h_315.txt\r\n",
      "-rw-r--r-- 1 pshuai m1800 2596914 Dec 22 13:47 DatumH_River_filtered_6h_314.txt\r\n",
      "-rw-r--r-- 1 pshuai m1800 2597616 Dec 22 13:47 DatumH_River_filtered_6h_322.txt\r\n",
      "-rw-r--r-- 1 pshuai m1800 2597886 Dec 22 13:47 DatumH_River_filtered_6h_321.txt\r\n",
      "-rw-r--r-- 1 pshuai m1800 2598633 Dec 22 13:47 DatumH_River_filtered_6h_320.txt\r\n",
      "-rw-r--r-- 1 pshuai m1800 2598021 Dec 22 13:47 DatumH_River_filtered_6h_319.txt\r\n",
      "-rw-r--r-- 1 pshuai m1800 2545571 Dec 22 13:47 DatumH_River_filtered_6h_318.txt\r\n",
      "-rw-r--r-- 1 pshuai m1800 2598912 Dec 22 13:47 DatumH_River_filtered_6h_324.txt\r\n",
      "-rw-r--r-- 1 pshuai m1800 3020105 Dec 22 13:47 DatumH_River_filtered_6h_323.txt\r\n",
      "-rw-r--r-- 1 pshuai m1800 3019025 Dec 22 13:47 DatumH_River_filtered_6h_328.txt\r\n",
      "-rw-r--r-- 1 pshuai m1800 3018872 Dec 22 13:47 DatumH_River_filtered_6h_327.txt\r\n",
      "-rw-r--r-- 1 pshuai m1800 3020006 Dec 22 13:47 DatumH_River_filtered_6h_326.txt\r\n",
      "-rw-r--r-- 1 pshuai m1800 2124360 Dec 22 13:47 DatumH_River_filtered_6h_325.txt\r\n",
      "-rw-r--r-- 1 pshuai m1800 2800977 Dec 22 13:47 Gradients_River_filtered_6h_315.txt\r\n",
      "-rw-r--r-- 1 pshuai m1800 2801586 Dec 22 13:47 Gradients_River_filtered_6h_314.txt\r\n",
      "-rw-r--r-- 1 pshuai m1800 3019808 Dec 22 13:47 DatumH_River_filtered_6h_329.txt\r\n",
      "-rw-r--r-- 1 pshuai m1800 2850802 Dec 22 13:47 Gradients_River_filtered_6h_319.txt\r\n",
      "-rw-r--r-- 1 pshuai m1800 2409137 Dec 22 13:47 Gradients_River_filtered_6h_318.txt\r\n",
      "-rw-r--r-- 1 pshuai m1800 2797980 Dec 22 13:47 Gradients_River_filtered_6h_317.txt\r\n",
      "-rw-r--r-- 1 pshuai m1800 2780160 Dec 22 13:47 Gradients_River_filtered_6h_316.txt\r\n",
      "-rw-r--r-- 1 pshuai m1800 2845728 Dec 22 13:47 Gradients_River_filtered_6h_324.txt\r\n",
      "-rw-r--r-- 1 pshuai m1800 2851950 Dec 22 13:47 Gradients_River_filtered_6h_323.txt\r\n",
      "-rw-r--r-- 1 pshuai m1800 2850585 Dec 22 13:47 Gradients_River_filtered_6h_322.txt\r\n",
      "-rw-r--r-- 1 pshuai m1800 2852240 Dec 22 13:47 Gradients_River_filtered_6h_321.txt\r\n",
      "-rw-r--r-- 1 pshuai m1800 2851471 Dec 22 13:47 Gradients_River_filtered_6h_320.txt\r\n",
      "-rw-r--r-- 1 pshuai m1800 2756670 Dec 22 13:47 Gradients_River_filtered_6h_328.txt\r\n",
      "-rw-r--r-- 1 pshuai m1800 2824376 Dec 22 13:47 Gradients_River_filtered_6h_327.txt\r\n",
      "-rw-r--r-- 1 pshuai m1800 2818319 Dec 22 13:47 Gradients_River_filtered_6h_326.txt\r\n",
      "-rw-r--r-- 1 pshuai m1800 2845612 Dec 22 13:47 Gradients_River_filtered_6h_325.txt\r\n",
      "-rw-r--r-- 1 pshuai m1800 2813686 Dec 22 13:47 Gradients_River_filtered_6h_329.txt\r\n",
      "-rw-rw---- 1 pshuai m1800 2548374 Dec 23 14:15 slurm-9108642.out\r\n",
      "-rw-r----- 1 pshuai m1800     375 Dec 23 19:58 run.regular.sh~\r\n",
      "-rwxr-xr-x 1 pshuai m1800  102683 Dec 27 14:47 \u001b[0m\u001b[01;32mpflotran_bigplume.in~\u001b[0m*\r\n",
      "-rwxr-xr-x 1 pshuai m1800  102685 Dec 27 14:59 \u001b[01;32mpflotran_bigplume.in\u001b[0m*\r\n",
      "-rw-r----- 1 pshuai m1800     375 Dec 27 15:03 run.regular.sh\r\n",
      "-rw-rw---- 1 pshuai m1800 4060063 Dec 30 05:02 pflotran_bigplume-obs-795.tec\r\n",
      "-rw-rw---- 1 pshuai m1800 7988718 Dec 30 05:02 pflotran_bigplume-obs-746.tec\r\n",
      "-rw-rw---- 1 pshuai m1800 4060159 Dec 30 05:02 pflotran_bigplume-obs-1819.tec\r\n",
      "-rw-rw---- 1 pshuai m1800 4060127 Dec 30 05:02 pflotran_bigplume-obs-1756.tec\r\n",
      "-rw-rw---- 1 pshuai m1800 7988846 Dec 30 05:02 pflotran_bigplume-obs-1724.tec\r\n",
      "-rw-rw---- 1 pshuai m1800 4060159 Dec 30 05:02 pflotran_bigplume-obs-1290.tec\r\n",
      "-rw-rw---- 1 pshuai m1800 7988846 Dec 30 05:02 pflotran_bigplume-obs-1260.tec\r\n",
      "-rw-rw---- 1 pshuai m1800 4060159 Dec 30 05:02 pflotran_bigplume-obs-1242.tec\r\n",
      "-rw-rw---- 1 pshuai m1800 3624766 Dec 30 05:02 pflotran_bigplume.out\r\n",
      "-rw-rw---- 1 pshuai m1800      84 Jan 22 11:54 README.txt\r\n"
     ]
    }
   ],
   "source": [
    "ls -ltr"
   ]
  },
  {
   "cell_type": "code",
   "execution_count": 7,
   "metadata": {
    "collapsed": true
   },
   "outputs": [
    {
     "name": "stdout",
     "output_type": "stream",
     "text": [
      "#!/bin/bash -l\r\n",
      "\r\n",
      "#SBATCH -A m1800\r\n",
      "#SBATCH -p debug\r\n",
      "#SBATCH -N 32\r\n",
      "#SBATCH -t 00:30:00\r\n",
      "#SBATCH -L SCRATCH  \r\n",
      "#SBATCH -J tracer\r\n",
      "#SBATCH -C haswell\r\n",
      "\r\n",
      "cd $SLURM_SUBMIT_DIR\r\n",
      "\r\n",
      "srun -n 1024 ../pflotran-cori -pflotranin pflotran_bigplume.in\r\n",
      "\r\n",
      "\r\n",
      "####SBATCH --qos premium\r\n",
      "####SBATCH -p regular\r\n",
      "######SBATCH -C haswell  ##need comment out haswell when you're on edison\r\n"
     ]
    }
   ],
   "source": [
    "cat run.debug.sh "
   ]
  },
  {
   "cell_type": "code",
   "execution_count": 13,
   "metadata": {},
   "outputs": [
    {
     "data": {
      "text/plain": [
       "'Submitted batch job 13162214\\n'"
      ]
     },
     "execution_count": 13,
     "metadata": {},
     "output_type": "execute_result"
    }
   ],
   "source": [
    "%sbatch run.debug.sh"
   ]
  },
  {
   "cell_type": "code",
   "execution_count": 21,
   "metadata": {},
   "outputs": [
    {
     "name": "stderr",
     "output_type": "stream",
     "text": [
      "ERROR:root:Line magic function `%mode` not found.\n"
     ]
    }
   ],
   "source": [
    "# %mode pandas"
   ]
  },
  {
   "cell_type": "code",
   "execution_count": 19,
   "metadata": {},
   "outputs": [
    {
     "data": {
      "text/html": [
       "<div>\n",
       "<style scoped>\n",
       "    .dataframe tbody tr th:only-of-type {\n",
       "        vertical-align: middle;\n",
       "    }\n",
       "\n",
       "    .dataframe tbody tr th {\n",
       "        vertical-align: top;\n",
       "    }\n",
       "\n",
       "    .dataframe thead th {\n",
       "        text-align: right;\n",
       "    }\n",
       "</style>\n",
       "<table border=\"1\" class=\"dataframe\">\n",
       "  <thead>\n",
       "    <tr style=\"text-align: right;\">\n",
       "      <th></th>\n",
       "      <th>JOBID</th>\n",
       "      <th>PARTITION</th>\n",
       "      <th>NAME</th>\n",
       "      <th>USER</th>\n",
       "      <th>ST</th>\n",
       "      <th>TIME</th>\n",
       "      <th>NODES</th>\n",
       "      <th>NODELIST(REASON)</th>\n",
       "    </tr>\n",
       "  </thead>\n",
       "  <tbody>\n",
       "  </tbody>\n",
       "</table>\n",
       "</div>"
      ],
      "text/plain": [
       "Empty DataFrame\n",
       "Columns: [JOBID, PARTITION, NAME, USER, ST, TIME, NODES, NODELIST(REASON)]\n",
       "Index: []"
      ]
     },
     "execution_count": 19,
     "metadata": {},
     "output_type": "execute_result"
    }
   ],
   "source": [
    "%squeue -u pshuai"
   ]
  },
  {
   "cell_type": "code",
   "execution_count": 18,
   "metadata": {},
   "outputs": [
    {
     "data": {
      "text/plain": [
       "''"
      ]
     },
     "execution_count": 18,
     "metadata": {},
     "output_type": "execute_result"
    }
   ],
   "source": [
    "%scancel 13162214"
   ]
  },
  {
   "cell_type": "markdown",
   "metadata": {},
   "source": [
    "## execute interactive job"
   ]
  },
  {
   "cell_type": "code",
   "execution_count": 16,
   "metadata": {},
   "outputs": [
    {
     "data": {
      "text/plain": [
       "('',\n",
       " 'Launched in background. Redirecting stdin to /dev/null\\nsalloc: Pending job allocation 12123294\\nsalloc: job 12123294 queued and waiting for resources\\nsalloc: job 12123294 has been allocated resources\\nsalloc: Granted job allocation 12123294\\nsrun: error: ioctl(TIOCGWINSZ): Inappropriate ioctl for device\\nsrun: error: Not using a pseudo-terminal, disregarding --pty option\\nsalloc: Relinquishing job allocation 12123294\\n')"
      ]
     },
     "execution_count": 16,
     "metadata": {},
     "output_type": "execute_result"
    }
   ],
   "source": [
    "%salloc -N 1 -q debug -C haswell -t 00:30:00 -L SCRATCH"
   ]
  },
  {
   "cell_type": "code",
   "execution_count": 18,
   "metadata": {},
   "outputs": [
    {
     "data": {
      "text/plain": [
       "('',\n",
       " 'Launched in background. Redirecting stdin to /dev/null\\nsrun: error: No hardware architecture specified (-C)!\\nsrun: error: Unable to allocate resources: Unspecified error\\n')"
      ]
     },
     "execution_count": 18,
     "metadata": {},
     "output_type": "execute_result"
    }
   ],
   "source": [
    "%srun -n 32 ../pflotran-cori-flux -pflotranin pflotran.in"
   ]
  },
  {
   "cell_type": "code",
   "execution_count": 19,
   "metadata": {},
   "outputs": [
    {
     "data": {
      "text/html": [
       "<div>\n",
       "<style scoped>\n",
       "    .dataframe tbody tr th:only-of-type {\n",
       "        vertical-align: middle;\n",
       "    }\n",
       "\n",
       "    .dataframe tbody tr th {\n",
       "        vertical-align: top;\n",
       "    }\n",
       "\n",
       "    .dataframe thead th {\n",
       "        text-align: right;\n",
       "    }\n",
       "</style>\n",
       "<table border=\"1\" class=\"dataframe\">\n",
       "  <thead>\n",
       "    <tr style=\"text-align: right;\">\n",
       "      <th></th>\n",
       "      <th>JOBID</th>\n",
       "      <th>PARTITION</th>\n",
       "      <th>NAME</th>\n",
       "      <th>USER</th>\n",
       "      <th>ST</th>\n",
       "      <th>TIME</th>\n",
       "      <th>NODES</th>\n",
       "      <th>NODELIST(REASON)</th>\n",
       "    </tr>\n",
       "  </thead>\n",
       "  <tbody>\n",
       "  </tbody>\n",
       "</table>\n",
       "</div>"
      ],
      "text/plain": [
       "Empty DataFrame\n",
       "Columns: [JOBID, PARTITION, NAME, USER, ST, TIME, NODES, NODELIST(REASON)]\n",
       "Index: []"
      ]
     },
     "execution_count": 19,
     "metadata": {},
     "output_type": "execute_result"
    }
   ],
   "source": [
    "%squeue -u pshuai"
   ]
  },
  {
   "cell_type": "code",
   "execution_count": 27,
   "metadata": {},
   "outputs": [
    {
     "name": "stdout",
     "output_type": "stream",
     "text": [
      "hello world! \r\n"
     ]
    }
   ],
   "source": [
    "!sh /global/cscratch1/sd/pshuai/test/test.sh"
   ]
  },
  {
   "cell_type": "code",
   "execution_count": 30,
   "metadata": {},
   "outputs": [
    {
     "name": "stdout",
     "output_type": "stream",
     "text": [
      "#!/bin/bash -l\r\n",
      "\r\n",
      " printf \"hello world! \\n\"\r\n",
      "\r\n",
      "\r\n"
     ]
    }
   ],
   "source": [
    "!cat /global/cscratch1/sd/pshuai/test/test.sh"
   ]
  }
 ],
 "metadata": {
  "kernelspec": {
   "display_name": "Python 3",
   "language": "python",
   "name": "debug180313"
  },
  "language_info": {
   "codemirror_mode": {
    "name": "ipython",
    "version": 3
   },
   "file_extension": ".py",
   "mimetype": "text/x-python",
   "name": "python",
   "nbconvert_exporter": "python",
   "pygments_lexer": "ipython3",
   "version": "3.6.1"
  }
 },
 "nbformat": 4,
 "nbformat_minor": 2
}
