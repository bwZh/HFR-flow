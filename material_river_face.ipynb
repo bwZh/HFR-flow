{
 "cells": [
  {
   "cell_type": "markdown",
   "metadata": {},
   "source": [
    "# Generate material id, river sections for PFLOTRAN"
   ]
  },
  {
   "cell_type": "markdown",
   "metadata": {},
   "source": [
    "## set working dir"
   ]
  },
  {
   "cell_type": "code",
   "execution_count": 1,
   "metadata": {
    "ExecuteTime": {
     "end_time": "2018-07-09T23:03:07.497571Z",
     "start_time": "2018-07-09T23:03:07.484Z"
    },
    "scrolled": false
   },
   "outputs": [
    {
     "data": {
      "text/html": [
       "<span style=white-space:pre-wrap>'Working dir:  /Users/shua784/Dropbox/PNNL/Projects/Reach_scale_model'</span>"
      ],
      "text/latex": [
       "'Working dir:  /Users/shua784/Dropbox/PNNL/Projects/Reach\\_scale\\_model'"
      ],
      "text/markdown": [
       "<span style=white-space:pre-wrap>'Working dir:  /Users/shua784/Dropbox/PNNL/Projects/Reach_scale_model'</span>"
      ],
      "text/plain": [
       "[1] \"Working dir:  /Users/shua784/Dropbox/PNNL/Projects/Reach_scale_model\""
      ]
     },
     "metadata": {},
     "output_type": "display_data"
    }
   ],
   "source": [
    "setwd(\"/Users/shua784/Dropbox/PNNL/Projects/Reach_scale_model/\")\n",
    "paste(\"Working dir: \", getwd())"
   ]
  },
  {
   "cell_type": "code",
   "execution_count": 2,
   "metadata": {
    "ExecuteTime": {
     "end_time": "2018-07-09T23:03:18.597283Z",
     "start_time": "2018-07-09T23:03:09.103Z"
    },
    "scrolled": true
   },
   "outputs": [
    {
     "name": "stdout",
     "output_type": "stream",
     "text": [
      "\n",
      "The downloaded binary packages are in\n",
      "\t/var/folders/b_/kpbcrn3s4_1770_6k278969jd__sdl/T//RtmpHwyB2U/downloaded_packages\n"
     ]
    }
   ],
   "source": [
    "install.packages(\"pacman\")\n",
    "pacman::p_load(fields, AtmRay, maptools, raster, plot3D, rhdf5, scatterplot3d, akima, rgl, gtools, sp, ggplot2, \n",
    "               phylin, geoR, xts, signal) "
   ]
  },
  {
   "cell_type": "markdown",
   "metadata": {},
   "source": [
    "## I/O files"
   ]
  },
  {
   "cell_type": "code",
   "execution_count": 35,
   "metadata": {
    "ExecuteTime": {
     "end_time": "2018-07-10T23:36:13.299283Z",
     "start_time": "2018-07-10T23:36:13.283Z"
    }
   },
   "outputs": [],
   "source": [
    "imodel=c(\"1000x1000x5_6h_bc\")\n",
    "\n",
    "model_dir = \"/Users/shua784/Dropbox/PNNL/Projects/Reach_scale_model/\"\n",
    "# fname_mass1_coord = \"data/MASS1/coordinates.csv\"\n",
    "# fname_mass1_pts = \"data/MASS1/transient_1976_2016/\"\n",
    "# fname_river.geo = \"data/river_geometry_manual.csv\"\n",
    "\n",
    "# fname_fig.grids = paste(\"figures/grids_\", imodel, \".jpg\", sep = \"\")\n",
    "# fname_fig.river.mass1 = paste(\"figures/river.mass1_\", imodel, \".jpg\", sep = \"\")\n",
    "# fname_fig.surface3d=paste(\"figures/surface_cell_3d_\", imodel, \".jpg\", sep = \"\")\n",
    "# fname_fig.surface2d=paste(\"figures/surface_cell_2d_\", imodel, \".jpg\", sep = \"\")\n",
    "\n",
    "# fname_material_h5 = paste(\"Inputs/HFR_model_\", imodel, \"/HFR_material_river_nb.h5\", sep = \"\")\n",
    "# fname_material_r= paste(\"results/HFR_material_\", imodel, \".r\", sep = \"\")\n",
    "\n",
    "fname_geoFramework.r = paste(\"results/HFR_model_\", imodel, \"/geoframework.r\", sep = \"\")\n",
    "fname_model_inputs.r = paste(\"results/HFR_model_\", imodel, \"/model_inputs.r\", sep = \"\")\n",
    "\n",
    "fname_mass_section = paste(model_dir, \"results/HFR_model_\", imodel, \"/mass_section.txt\", sep = \"\")"
   ]
  },
  {
   "cell_type": "code",
   "execution_count": 8,
   "metadata": {
    "ExecuteTime": {
     "end_time": "2018-07-09T23:49:17.652473Z",
     "start_time": "2018-07-09T23:49:17.636Z"
    }
   },
   "outputs": [
    {
     "name": "stderr",
     "output_type": "stream",
     "text": [
      "The following objects are masked _by_ .GlobalEnv:\n",
      "\n",
      "    fname_geoFramework.r, fname_model_inputs.r, imodel\n",
      "\n"
     ]
    }
   ],
   "source": [
    "attach(fname_model_inputs.r)\n",
    "\n",
    "attach(fname_geoFramework.r)  ## load into geologic layer from geoFramework"
   ]
  },
  {
   "cell_type": "markdown",
   "metadata": {},
   "source": [
    "# Generate material ID"
   ]
  },
  {
   "cell_type": "markdown",
   "metadata": {},
   "source": [
    "## initialize material/cell ids "
   ]
  },
  {
   "cell_type": "code",
   "execution_count": 9,
   "metadata": {
    "ExecuteTime": {
     "end_time": "2018-07-09T23:49:26.842456Z",
     "start_time": "2018-07-09T23:49:26.817Z"
    }
   },
   "outputs": [],
   "source": [
    "material.ids = array(NA, c(nx,ny,nz)) #assign ID=0 for all cells=nx*ny*nz\n",
    "\n",
    "cell.ids = array(seq(1,nx*ny*nz),c(nx,ny,nz))\n",
    "cell.ids.z = (cell.ids-1)%/%(nx*ny)\n",
    "cell.ids.y = (cell.ids-1-nx*ny*cell.ids.z)%/%nx\n",
    "cell.ids.x = cell.ids-1-nx*cell.ids.y-nx*ny*cell.ids.z\n",
    "cell.ids.x = cell.ids.x+1\n",
    "cell.ids.y = cell.ids.y+1\n",
    "cell.ids.z = cell.ids.z+1"
   ]
  },
  {
   "cell_type": "markdown",
   "metadata": {},
   "source": [
    "## Assign material ids to cells above (0) and below (1) hanford surface."
   ]
  },
  {
   "cell_type": "code",
   "execution_count": 10,
   "metadata": {
    "ExecuteTime": {
     "end_time": "2018-07-09T23:50:09.349626Z",
     "start_time": "2018-07-09T23:50:09.330Z"
    }
   },
   "outputs": [],
   "source": [
    "for (iz in 1:nz)\n",
    "{\n",
    "    # material.ids[,,iz][which(cells_basalt<=z[iz])] = 1  #cells_HR: HR contact, assign id=1 to Hanford for regions above HR contact     \n",
    "\n",
    "    material.ids[,,iz][which(cells_hanford >= z[iz])] = 1  #assign id=1 to cells below hanford surface\n",
    "    material.ids[,,iz][which(cells_hanford < z[iz])] = 0  #assign id=0 to cells above hanford surface\n",
    "    \n",
    "    # material.ids[,,iz][which(cells_hanford == NA)] = NA \n",
    "}"
   ]
  },
  {
   "cell_type": "code",
   "execution_count": 11,
   "metadata": {
    "ExecuteTime": {
     "end_time": "2018-07-09T23:50:10.678120Z",
     "start_time": "2018-07-09T23:50:10.303Z"
    }
   },
   "outputs": [],
   "source": [
    "face.ids = array(rep(0,nx*ny*nz),c(nx,ny,nz)) #assign initial face id=0, total six different faces\n",
    "face.ids.final = vector()\n",
    "face.cell.ids.final = vector()"
   ]
  },
  {
   "cell_type": "markdown",
   "metadata": {},
   "source": [
    "## search for cell/face ids for top surface"
   ]
  },
  {
   "cell_type": "code",
   "execution_count": 12,
   "metadata": {
    "ExecuteTime": {
     "end_time": "2018-07-10T00:00:22.232504Z",
     "start_time": "2018-07-10T00:00:22.191Z"
    }
   },
   "outputs": [],
   "source": [
    "##-----------------------------search for the faces ajacent to atmosphere (ID=0)------------------------------------##\n",
    "#xdirection\n",
    "if (nx>1) {\n",
    "diff.material.ids = apply(material.ids, c(2,3), diff) #subtract face#2 with face#1, see \"apply\" function\n",
    "\n",
    "# #if the diff=4, 4-0=4, i.e. ringold contact with river,and river is on the LEFT side of the cell\n",
    "# if (any(diff.material.ids==4)) {\n",
    "#     face.ids[ which(diff.material.ids==4, arr.ind=TRUE)+\n",
    "#                  t(replicate(dim(which(diff.material.ids==4, arr.ind=TRUE))[1],\n",
    "#                              c(1,0,0)))\n",
    "#              ] = 1\n",
    "# }\n",
    "\n",
    "#if the diff=1, 1-0=1, i.e. hanford contact with river, and river is on the LEFT side of the cell, so the face# contact the river would be \"1\"\n",
    "    if (any(diff.material.ids==1)) {\n",
    "        face.ids[ which(diff.material.ids==1,arr.ind=TRUE)+\n",
    "                     t(replicate(dim(which(diff.material.ids==1,arr.ind=TRUE))[1],\n",
    "                                 c(1,0,0)))\n",
    "                 ] = 1\n",
    "    }\n",
    "\n",
    "face.ids.final = c(face.ids.final, face.ids[face.ids==1])\n",
    "face.cell.ids.final = c(face.cell.ids.final, cell.ids[face.ids==1])\n",
    "\n",
    "\n",
    "# face.ids[which(diff.material.ids == -4, arr.ind=TRUE)] = 2 # if diff=-4 or -1, then river is on the Right hand side of the cell, so the face# contact the river would be \"2\"\n",
    "face.ids[which(diff.material.ids == -1, arr.ind=TRUE)] = 2\n",
    "\n",
    "face.ids.final = c(face.ids.final,face.ids[face.ids==2])\n",
    "face.cell.ids.final = c(face.cell.ids.final,cell.ids[face.ids==2])\n",
    "\n",
    "\n",
    "}"
   ]
  },
  {
   "cell_type": "code",
   "execution_count": 13,
   "metadata": {
    "ExecuteTime": {
     "end_time": "2018-07-10T00:02:22.656016Z",
     "start_time": "2018-07-10T00:02:22.609Z"
    }
   },
   "outputs": [],
   "source": [
    "#ydirection\n",
    "if(ny>1) {\n",
    "diff.material.ids = aperm(apply(material.ids, c(1,3), diff), c(2,1,3))\n",
    "\n",
    "# # if diff = 1 or 4, means river on the front side, and face# contact river would be 3\n",
    "# if (any(diff.material.ids==4)) {\n",
    "#     face.ids[which(diff.material.ids==4,arr.ind=TRUE)+\n",
    "#                  t(replicate(dim(which(diff.material.ids==4,arr.ind=TRUE))[1],\n",
    "#                              c(0,1,0)))\n",
    "#              ] = 3\n",
    "# }\n",
    "\n",
    "if (any(diff.material.ids==1)) {\n",
    "    face.ids[which(diff.material.ids==1,arr.ind=TRUE)+\n",
    "                 t(replicate(dim(which(diff.material.ids==1,arr.ind=TRUE))[1],\n",
    "                             c(0,1,0)))\n",
    "             ] = 3\n",
    "}\n",
    "\n",
    "\n",
    "face.ids.final = c(face.ids.final, face.ids[face.ids==3])\n",
    "face.cell.ids.final = c(face.cell.ids.final, cell.ids[face.ids==3])\n",
    "\n",
    "# if diff = -1 or -4, means river on the front side, and face# contact river would be 4\n",
    "# face.ids[which(diff.material.ids==-4,arr.ind=TRUE)] = 4\n",
    "face.ids[which(diff.material.ids == -1, arr.ind=TRUE)] = 4\n",
    "\n",
    "\n",
    "face.ids.final = c(face.ids.final,face.ids[face.ids==4])\n",
    "face.cell.ids.final = c(face.cell.ids.final,cell.ids[face.ids==4])\n",
    "\n",
    "\n",
    "}"
   ]
  },
  {
   "cell_type": "code",
   "execution_count": 14,
   "metadata": {
    "ExecuteTime": {
     "end_time": "2018-07-10T00:03:54.463780Z",
     "start_time": "2018-07-10T00:03:54.426Z"
    }
   },
   "outputs": [],
   "source": [
    "#zdirection\n",
    "if(nz>1){\n",
    "diff.material.ids = aperm(apply(material.ids, c(1,2), diff), c(2,3,1))\n",
    "\n",
    "### if diff = 1 or 4, means river on the bottom side, and face# contact river would be 5\n",
    "# if (any(diff.material.ids==4)) {\n",
    "# \n",
    "#     face.ids[which(diff.material.ids==4,arr.ind=TRUE)+\n",
    "#                  t(replicate(dim(which(diff.material.ids==4,arr.ind=TRUE))[1],\n",
    "#                              c(0,0,1)))\n",
    "#              ] = 5\n",
    "# }\n",
    "\n",
    "\n",
    "if (any(diff.material.ids == 1, na.rm = TRUE)) {\n",
    "    face.ids[which(diff.material.ids==1,arr.ind=TRUE)+\n",
    "                 t(replicate(dim(which(diff.material.ids==1,arr.ind=TRUE))[1],\n",
    "                             c(0,0,1)))\n",
    "             ] = 5\n",
    "}\n",
    "\n",
    "face.ids.final = c(face.ids.final,face.ids[face.ids==5])\n",
    "face.cell.ids.final = c(face.cell.ids.final,cell.ids[face.ids==5])\n",
    "\n",
    "# if diff = -1 or -4, means river on the top side, and face# contact river would be 6\n",
    "# face.ids[which(diff.material.ids==-4,arr.ind=TRUE)] = 6\n",
    "face.ids[which(diff.material.ids==-1,arr.ind=TRUE)] = 6\n",
    "\n",
    "face.ids.final = c(face.ids.final,face.ids[face.ids==6])\n",
    "face.cell.ids.final = c(face.cell.ids.final,cell.ids[face.ids==6])\n",
    "\n",
    "}"
   ]
  },
  {
   "cell_type": "code",
   "execution_count": 15,
   "metadata": {
    "ExecuteTime": {
     "end_time": "2018-07-10T00:03:59.095796Z",
     "start_time": "2018-07-10T00:03:59.076Z"
    }
   },
   "outputs": [],
   "source": [
    "face.ids.final = as.integer(face.ids.final)\n",
    "face.cell.ids.final = as.integer(face.cell.ids.final)\n",
    "\n",
    "face.ids.final = face.ids.final[order(face.cell.ids.final)]\n",
    "face.cell.ids.final = sort(face.cell.ids.final)"
   ]
  },
  {
   "cell_type": "markdown",
   "metadata": {},
   "source": [
    "## assign material ids to different layers"
   ]
  },
  {
   "cell_type": "code",
   "execution_count": 17,
   "metadata": {
    "ExecuteTime": {
     "end_time": "2018-07-10T00:06:42.391839Z",
     "start_time": "2018-07-10T00:06:42.353Z"
    }
   },
   "outputs": [],
   "source": [
    "##------------------------------assign ID=0, 2, 3, ... to domain b/w hanford and basalt---------------------------------------## \n",
    "\n",
    "for (iz in 1:nz)\n",
    "{\n",
    "  material.ids[,,iz][which(z[iz]<cells_cold_creek)] = 2 # assign ID=2 for cold_creek\n",
    "  material.ids[,,iz][which(z[iz]<cells_taylor_flats)] = 3 # assign ID=3 for taylor_flats\n",
    "  material.ids[,,iz][which(z[iz]<cells_ringold_e)] = 4 # assign ID=4 for ringold_e\n",
    "  material.ids[,,iz][which(z[iz]<cells_ringold_lm)] = 5 # assign ID=5 for ringold_lm\n",
    "  material.ids[,,iz][which(z[iz]<cells_ringold_a)] = 6 # assign ID=6 for ringold_a\n",
    "  \n",
    "  material.ids[,,iz][which(z[iz]<cells_basalt)] = 9 # assign ID=9 for basalt\n",
    "  \n",
    "}\n",
    "\n",
    "## replace material id=NA with 0\n",
    "material.ids[is.na(material.ids)] = 0"
   ]
  },
  {
   "cell_type": "markdown",
   "metadata": {},
   "source": [
    "## plot top surface with inactive cells (gray)"
   ]
  },
  {
   "cell_type": "code",
   "execution_count": 21,
   "metadata": {
    "ExecuteTime": {
     "end_time": "2018-07-10T00:09:55.016264Z",
     "start_time": "2018-07-10T00:09:55.000Z"
    }
   },
   "outputs": [],
   "source": [
    "## plot surface-3D\n",
    "face.cell.ids.final.unique = unique(face.cell.ids.final)\n",
    "# surface.x = x[cell.ids.x[face.cell.ids.final.unique]]\n",
    "# surface.y = y[cell.ids.y[face.cell.ids.final.unique]]\n",
    "# surface.z = z[cell.ids.z[face.cell.ids.final.unique]]\n",
    "surface.x = x[cell.ids.x[face.cell.ids.final]]\n",
    "surface.y = y[cell.ids.y[face.cell.ids.final]]\n",
    "surface.z = z[cell.ids.z[face.cell.ids.final]]\n",
    "\n",
    "# s = interp(surface.x, surface.y, surface.z)\n",
    "# s = interp(surface.x, surface.y, surface.z)\n",
    "# surface3d(s$x,s$y,s$z,color=\"blue\")\n",
    "\n",
    "## show the perspective view of the surface plot\n",
    "# open3d()\n",
    "# bg3d(\"white\")\n",
    "# nbcol = 100\n",
    "# color = rev(rainbow(nbcol, start = 0/6, end = 4/6))\n",
    "# zcol  = cut(s$z, nbcol)\n",
    "# persp3d(s$x,s$y,s$z, col = color[zcol], aspect = c(1,1,0.2))\n",
    "\n",
    "# jpeg(fname_fig.surface2d, width=8,height=8,units='in',res=300,quality=100)\n",
    "# image2D(s, shade=0.2, rasterImage = F, NAcol = \"gray\",\n",
    "#         main = c(\"surface cells\"), asp = 1)\n",
    "# dev.off()"
   ]
  },
  {
   "cell_type": "markdown",
   "metadata": {},
   "source": [
    "## find river cells within river geometry"
   ]
  },
  {
   "cell_type": "code",
   "execution_count": 22,
   "metadata": {
    "ExecuteTime": {
     "end_time": "2018-07-10T00:11:46.103884Z",
     "start_time": "2018-07-10T00:11:45.822Z"
    }
   },
   "outputs": [
    {
     "data": {
      "text/html": [
       "<strong>quartz_off_screen:</strong> 3"
      ],
      "text/latex": [
       "\\textbf{quartz\\textbackslash{}\\_off\\textbackslash{}\\_screen:} 3"
      ],
      "text/markdown": [
       "**quartz_off_screen:** 3"
      ],
      "text/plain": [
       "quartz_off_screen \n",
       "                3 "
      ]
     },
     "metadata": {},
     "output_type": "display_data"
    },
    {
     "data": {
      "text/html": [
       "<strong>pdf:</strong> 2"
      ],
      "text/latex": [
       "\\textbf{pdf:} 2"
      ],
      "text/markdown": [
       "**pdf:** 2"
      ],
      "text/plain": [
       "pdf \n",
       "  2 "
      ]
     },
     "metadata": {},
     "output_type": "display_data"
    },
    {
     "data": {
      "image/png": "[encoded data removed]",
      "text/plain": [
       "plot without title"
      ]
     },
     "metadata": {},
     "output_type": "display_data"
    }
   ],
   "source": [
    "##-------------------------------find river cells within river geometry---------------------------------------##\n",
    "\n",
    "## read into river geometry\n",
    "\n",
    "river.geometry = read.csv(fname_river.geo)\n",
    "\n",
    "river.geometry = river.geometry[, 2:3]\n",
    "\n",
    "river.geometry.model = proj_to_model(model_origin, angle, river.geometry)\n",
    "# colnames(river.geometry.model) = c(\"x\", \"y\")\n",
    "\n",
    "## look for cells inside river geometry\n",
    "pts_in_poly = point.in.polygon(point.x = surface.x, point.y= surface.y, pol.x = river.geometry.model[, 1], pol.y = river.geometry.model[, 2])\n",
    "\n",
    "river.x = surface.x[which(pts_in_poly==1)]\n",
    "river.y = surface.y[which(pts_in_poly==1)]\n",
    "\n",
    "# jpeg(fname_fig.grids, width=10,height=10,units='in',res=300,quality=100)\n",
    "plot(river.x, river.y, xlim = c(0, xlen), ylim = c(0, ylen), asp = 1, col = \"red\", pch = 20, cex=0.05)\n",
    "polygon(river.geometry.model[, 1], river.geometry.model[, 2], border = \"black\")\n",
    "points(cells_model, pch = 20, cex=0.05)\n",
    "points(river.x, river.y, col = \"red\", pch = 20, cex=0.05)\n",
    "\n",
    "# grid(nx, ny, lty = \"solid\")\n",
    "dev.copy(jpeg, width=8,height=8,units='in',res=300,quality=100, file = fname_fig.grids)\n",
    "dev.off()"
   ]
  },
  {
   "cell_type": "code",
   "execution_count": 23,
   "metadata": {
    "ExecuteTime": {
     "end_time": "2018-07-10T00:12:45.476375Z",
     "start_time": "2018-07-10T00:12:45.463Z"
    }
   },
   "outputs": [],
   "source": [
    "river_cell_coord = cbind(\n",
    "  face.cell.ids.final[which(pts_in_poly==1)],\n",
    "  face.ids.final[which(pts_in_poly==1)],\n",
    "                        river.x, \n",
    "                         river.y\n",
    "                         )\n",
    "\n",
    "colnames(river_cell_coord)=c(\"cell_id\", \"face_id\", \"x\", \"y\")\n",
    "river_cell_coord =river_cell_coord[order(river_cell_coord[,\"cell_id\"]), ]"
   ]
  },
  {
   "cell_type": "markdown",
   "metadata": {},
   "source": [
    "# add river sections"
   ]
  },
  {
   "cell_type": "code",
   "execution_count": 24,
   "metadata": {
    "ExecuteTime": {
     "end_time": "2018-07-10T00:17:05.103225Z",
     "start_time": "2018-07-10T00:17:05.059Z"
    }
   },
   "outputs": [],
   "source": [
    "##==============================add river regions===========================\n",
    "# file.copy(material.file,river.material,overwrite=TRUE)\n",
    "\n",
    "\n",
    "mass.coord = read.csv(fname_mass1_coord)\n",
    "mass.coord[,\"easting\"] = mass.coord[,\"easting\"]-model_origin[1]\n",
    "mass.coord[,\"northing\"] = mass.coord[,\"northing\"]-model_origin[2]\n",
    "\n",
    "n.mass = nrow(mass.coord)\n",
    "\n",
    "river.cells = river_cell_coord\n",
    "\n",
    "nriver = nrow(river.cells)\n",
    "river.section = rep(NA,nriver)\n",
    "\n",
    "# assign river cell to nearest mass1 region\n",
    "for (iriver in 1:nriver)\n",
    "{\n",
    "  mass.coord.index  =\n",
    "    min(order((river.cells[iriver,\"x\"]-mass.coord[,\"easting\"])**2+\n",
    "                (river.cells[iriver,\"y\"]-mass.coord[,\"northing\"])**2)[1:2])\n",
    "  river.section[iriver] = mass.coord[mass.coord.index,1]\n",
    "}\n",
    "\n",
    "mass.sections = sort(unique(river.section))\n",
    "nsection = length(mass.sections)"
   ]
  },
  {
   "cell_type": "code",
   "execution_count": 37,
   "metadata": {
    "ExecuteTime": {
     "end_time": "2018-07-10T23:37:24.990659Z",
     "start_time": "2018-07-10T23:37:24.980Z"
    }
   },
   "outputs": [],
   "source": [
    "write(mass.sections, file = fname_mass_section, ncolumns = 1)"
   ]
  },
  {
   "cell_type": "markdown",
   "metadata": {},
   "source": [
    "## plot mass1 with river cells"
   ]
  },
  {
   "cell_type": "code",
   "execution_count": 25,
   "metadata": {
    "ExecuteTime": {
     "end_time": "2018-07-10T00:19:50.121284Z",
     "start_time": "2018-07-10T00:19:49.956Z"
    }
   },
   "outputs": [
    {
     "data": {
      "text/html": [
       "<strong>quartz_off_screen:</strong> 3"
      ],
      "text/latex": [
       "\\textbf{quartz\\textbackslash{}\\_off\\textbackslash{}\\_screen:} 3"
      ],
      "text/markdown": [
       "**quartz_off_screen:** 3"
      ],
      "text/plain": [
       "quartz_off_screen \n",
       "                3 "
      ]
     },
     "metadata": {},
     "output_type": "display_data"
    },
    {
     "data": {
      "text/html": [
       "<strong>pdf:</strong> 2"
      ],
      "text/latex": [
       "\\textbf{pdf:} 2"
      ],
      "text/markdown": [
       "**pdf:** 2"
      ],
      "text/plain": [
       "pdf \n",
       "  2 "
      ]
     },
     "metadata": {},
     "output_type": "display_data"
    },
    {
     "data": {
      "image/png": "[encoded data removed]",
      "text/plain": [
       "plot without title"
      ]
     },
     "metadata": {},
     "output_type": "display_data"
    }
   ],
   "source": [
    "# plot mass1 pts along with river cells\n",
    "colors = rainbow(nsection,start=0,end=0.7)\n",
    "names(colors)=as.character(mass.sections)\n",
    "# jpeg(fname_fig.river.mass1, width=8,height=8,units='in',res=300,quality=100)\n",
    "plot(mass.coord[,\"easting\"],\n",
    "     mass.coord[,\"northing\"],\n",
    "     asp=1,cex=0.5,col=\"white\",\n",
    "     xlim=c(0,60000),\n",
    "     ylim=c(0,60000)\n",
    ")\n",
    "points(river.cells[,\"x\"],river.cells[,\"y\"],\n",
    "       col=colors[as.character(river.section)],\n",
    "       cex=0.5,pch=16)\n",
    "\n",
    "dev.copy(jpeg, width=8,height=8,units='in',res=300,quality=100, file = fname_fig.river.mass1)\n",
    "dev.off()"
   ]
  },
  {
   "cell_type": "markdown",
   "metadata": {},
   "source": [
    "## write material.h5 file"
   ]
  },
  {
   "cell_type": "code",
   "execution_count": 29,
   "metadata": {
    "ExecuteTime": {
     "end_time": "2018-07-10T19:09:08.025743Z",
     "start_time": "2018-07-10T19:09:07.373Z"
    }
   },
   "outputs": [
    {
     "data": {
      "text/html": [
       "TRUE"
      ],
      "text/latex": [
       "TRUE"
      ],
      "text/markdown": [
       "TRUE"
      ],
      "text/plain": [
       "[1] TRUE"
      ]
     },
     "metadata": {},
     "output_type": "display_data"
    },
    {
     "data": {
      "text/html": [
       "TRUE"
      ],
      "text/latex": [
       "TRUE"
      ],
      "text/markdown": [
       "TRUE"
      ],
      "text/plain": [
       "[1] TRUE"
      ]
     },
     "metadata": {},
     "output_type": "display_data"
    },
    {
     "data": {
      "text/html": [
       "TRUE"
      ],
      "text/latex": [
       "TRUE"
      ],
      "text/markdown": [
       "TRUE"
      ],
      "text/plain": [
       "[1] TRUE"
      ]
     },
     "metadata": {},
     "output_type": "display_data"
    }
   ],
   "source": [
    "##------------------------------write hdf5 file-----------------------------------------------##\n",
    "\n",
    "if(file.exists(fname_material_h5)) {\n",
    "    file.remove(fname_material_h5)}\n",
    "\n",
    "cell.ids = as.integer(c(cell.ids))\n",
    "material.ids = as.integer(c(material.ids))\n",
    "\n",
    "h5createFile(fname_material_h5)\n",
    "h5createGroup(fname_material_h5,\"Materials\")\n",
    "h5write(cell.ids,fname_material_h5,\"Materials/Cell Ids\",level=0)\n",
    "h5write(material.ids,fname_material_h5,\"Materials/Material Ids\",level=0)\n",
    "\n",
    "## write river faces to material\n",
    "h5createGroup(fname_material_h5,\"Regions\")\n",
    "for (isection in sort(mass.sections))\n",
    "{\n",
    "  river.group = paste(\"Regions/Mass1_\",isection,sep=\"\")\n",
    "  h5createGroup(fname_material_h5,river.group)\n",
    "  cells.in.mass = river.cells[which(river.section==isection),\n",
    "                              c(\"cell_id\")]\n",
    "  faces.in.mass = river.cells[which(river.section==isection),\n",
    "                              c(\"face_id\")]\n",
    "  ## needs to convert floating to integer\n",
    "  cells.in.mass = as.integer(c(cells.in.mass))\n",
    "  faces.in.mass = as.integer(c(faces.in.mass))\n",
    "  h5write(cells.in.mass,fname_material_h5,\n",
    "          paste(river.group,\"/Cell Ids\",sep=\"\"),level=0)\n",
    "  h5write(faces.in.mass,fname_material_h5,\n",
    "          paste(river.group,\"/Face Ids\",sep=\"\"),level=0)\n",
    "}\n",
    "H5close()"
   ]
  }
 ],
 "metadata": {
  "kernelspec": {
   "display_name": "R",
   "language": "R",
   "name": "ir"
  },
  "language_info": {
   "codemirror_mode": "r",
   "file_extension": ".r",
   "mimetype": "text/x-r-source",
   "name": "R",
   "pygments_lexer": "r",
   "version": "3.5.0"
  },
  "toc": {
   "base_numbering": 1,
   "nav_menu": {},
   "number_sections": true,
   "sideBar": true,
   "skip_h1_title": false,
   "title_cell": "Table of Contents",
   "title_sidebar": "Contents",
   "toc_cell": false,
   "toc_position": {},
   "toc_section_display": true,
   "toc_window_display": true
  },
  "varInspector": {
   "cols": {
    "lenName": 16,
    "lenType": 16,
    "lenVar": 40
   },
   "kernels_config": {
    "python": {
     "delete_cmd_postfix": "",
     "delete_cmd_prefix": "del ",
     "library": "var_list.py",
     "varRefreshCmd": "print(var_dic_list())"
    },
    "r": {
     "delete_cmd_postfix": ") ",
     "delete_cmd_prefix": "rm(",
     "library": "var_list.r",
     "varRefreshCmd": "cat(var_dic_list()) "
    }
   },
   "position": {
    "height": "423px",
    "left": "1264px",
    "right": "20px",
    "top": "113px",
    "width": "333px"
   },
   "types_to_exclude": [
    "module",
    "function",
    "builtin_function_or_method",
    "instance",
    "_Feature"
   ],
   "window_display": false
  }
 },
 "nbformat": 4,
 "nbformat_minor": 2
}
