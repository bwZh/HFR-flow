{
 "cells": [
  {
   "cell_type": "markdown",
   "metadata": {},
   "source": [
    "# pre-process h5 output to get river face flux"
   ]
  },
  {
   "cell_type": "code",
   "execution_count": 2,
   "metadata": {
    "ExecuteTime": {
     "end_time": "2018-05-16T20:01:09.720226Z",
     "start_time": "2018-05-16T20:01:09.071602Z"
    }
   },
   "outputs": [
    {
     "name": "stderr",
     "output_type": "stream",
     "text": [
      "/Library/Frameworks/Python.framework/Versions/3.6/lib/python3.6/site-packages/h5py/__init__.py:36: FutureWarning: Conversion of the second argument of issubdtype from `float` to `np.floating` is deprecated. In future, it will be treated as `np.float64 == np.dtype(float).type`.\n",
      "  from ._conv import register_converters as _register_converters\n"
     ]
    }
   ],
   "source": [
    "import numpy as np\n",
    "import h5py as h5\n",
    "import glob\n",
    "import pickle\n",
    "\n",
    "import matplotlib.pyplot as plt\n",
    "import matplotlib.gridspec as gridspec\n",
    "from datetime import datetime, timedelta"
   ]
  },
  {
   "cell_type": "code",
   "execution_count": 3,
   "metadata": {
    "ExecuteTime": {
     "end_time": "2018-05-16T20:01:09.725821Z",
     "start_time": "2018-05-16T20:01:09.721807Z"
    }
   },
   "outputs": [],
   "source": [
    "def batch_time_to_delta(origin, x, time_format):\n",
    "    y = []\n",
    "    for ix in x:\n",
    "        temp_y = abs(datetime.strptime(\n",
    "            ix, time_format) - origin).total_seconds()\n",
    "        y.append(temp_y)\n",
    "    y = np.asarray(y)\n",
    "    return(y)\n",
    "\n",
    "def batch_delta_to_time(origin, x, time_format, delta_format):\n",
    "    y = []\n",
    "    for ix in x:\n",
    "        if delta_format == \"hours\":\n",
    "            temp_y = origin + timedelta(hours=ix)\n",
    "        elif delta_format == \"days\":\n",
    "            temp_y = origin + timedelta(days=ix)\n",
    "        elif delta_format == \"minutes\":\n",
    "            temp_y = origin + timedelta(minutes=ix)\n",
    "        elif delta_format == \"weeks\":\n",
    "            temp_y = origin + timedelta(weeks=ix)\n",
    "        elif delta_format == \"seconds\":\n",
    "            temp_y = origin + timedelta(seconds=ix)\n",
    "        elif delta_format == \"microseconds\":\n",
    "            temp_y = origin + timedelta(microseconds=ix)\n",
    "        elif delta_format == \"milliseconds\":\n",
    "            temp_y = origin + timedelta(milliseconds=ix)\n",
    "        else:\n",
    "            print(\"Sorry, this naive program only solve single time unit\")\n",
    "        y.append(temp_y.strftime(time_format))\n",
    "    y = np.asarray(y)\n",
    "    return(y)"
   ]
  },
  {
   "cell_type": "markdown",
   "metadata": {},
   "source": [
    "## I/O files and model parameters"
   ]
  },
  {
   "cell_type": "code",
   "execution_count": 19,
   "metadata": {
    "ExecuteTime": {
     "end_time": "2018-05-16T20:11:35.557107Z",
     "start_time": "2018-05-16T20:11:35.553454Z"
    }
   },
   "outputs": [],
   "source": [
    "#input\n",
    "case_name = \"HFR_model_200x200x2_1w_bc/\"\n",
    "\n",
    "model_dir = \"/Users/shua784/Paraview/HFR/\" + case_name\n",
    "\n",
    "fname_model_origin = model_dir + \"model_origin.txt\"\n",
    "fname_material_h5 = model_dir + \"HFR_material_river.h5\"\n",
    "fname_pflotran_h5 = model_dir + \"pflotran_200x200x2_1w_bc.h5\"\n",
    "fname_mass_dat = model_dir + \"pflotran_200x200x2_1w_bc-mas.dat\"\n",
    "\n",
    "out_dir = \"/Users/shua784/Dropbox/PNNL/Projects/Reach_scale_model/Outputs/\" + case_name\n",
    "result_dir = \"/Users/shua784/Dropbox/PNNL/Projects/Reach_scale_model/results/\" + case_name\n",
    "\n",
    "data_dir = \"/Users/shua784/Dropbox/PNNL/Projects/Reach_scale_model/data/\"\n",
    "fname_usgs_gage = data_dir + \"USGS_flow_gh_12472800.csv\"\n",
    "fname_mass1_coord = data_dir + \"MASS1/coordinates.csv\"\n",
    "#output\n",
    "fname_pickle = result_dir + \"face_flux.pk\"\n",
    "fig_face_flux = out_dir + \"face_flux/face_flux.png\"\n",
    "fig_face_snapshots = out_dir + \"face_flux/\"\n",
    "\n",
    "fname_flux_net_gaining = out_dir + \"face_flux/flux_net_gain.txt\"\n",
    "fname_flux_abs_exchange = out_dir + \"face_flux/flux_abs_exchange.txt\"\n",
    "fname_flux_abs_gaining = out_dir + \"face_flux/flux_abs_gain.txt\"\n",
    "fname_flux_abs_losing = out_dir + \"face_flux/flux_abs_lose.txt\""
   ]
  },
  {
   "cell_type": "code",
   "execution_count": 20,
   "metadata": {
    "ExecuteTime": {
     "end_time": "2018-05-16T20:11:38.351631Z",
     "start_time": "2018-05-16T20:11:38.343794Z"
    }
   },
   "outputs": [],
   "source": [
    "date_origin = datetime.strptime(\"2007-03-28 00:00:00\", \"%Y-%m-%d %H:%M:%S\")\n",
    "model_origin = np.genfromtxt(fname_model_origin, delimiter=\" \", skip_header=1)"
   ]
  },
  {
   "cell_type": "code",
   "execution_count": 21,
   "metadata": {
    "ExecuteTime": {
     "end_time": "2018-05-16T20:11:39.979886Z",
     "start_time": "2018-05-16T20:11:39.975087Z"
    }
   },
   "outputs": [],
   "source": [
    "# read mass1 coordinates\n",
    "section_coord = np.genfromtxt(\n",
    "    fname_mass1_coord, delimiter=\",\", skip_header=1)\n",
    "\n",
    "section_coord[:, 1] = section_coord[:, 1] - model_origin[0]\n",
    "section_coord[:, 2] = section_coord[:, 2] - model_origin[1]\n",
    "# subtract last mass1 location to get length for each segment\n",
    "mass1_length = section_coord[:, 4] - section_coord[-1, 4]"
   ]
  },
  {
   "cell_type": "code",
   "execution_count": 22,
   "metadata": {
    "ExecuteTime": {
     "end_time": "2018-05-16T20:11:44.158908Z",
     "start_time": "2018-05-16T20:11:44.036786Z"
    }
   },
   "outputs": [],
   "source": [
    "input_h5 = h5.File(fname_pflotran_h5, \"r\")\n",
    "x_grids = list(input_h5[\"Coordinates\"]['X [m]'])\n",
    "y_grids = list(input_h5[\"Coordinates\"]['Y [m]'])\n",
    "z_grids = list(input_h5[\"Coordinates\"]['Z [m]'])\n",
    "input_h5.close()\n"
   ]
  },
  {
   "cell_type": "code",
   "execution_count": 23,
   "metadata": {
    "ExecuteTime": {
     "end_time": "2018-05-16T20:11:49.229854Z",
     "start_time": "2018-05-16T20:11:45.881760Z"
    }
   },
   "outputs": [],
   "source": [
    "dx = np.diff(x_grids)\n",
    "dy = np.diff(y_grids)\n",
    "dz = np.diff(z_grids)\n",
    "\n",
    "nx = len(dx)\n",
    "ny = len(dy)\n",
    "nz = len(dz)\n",
    "x = x_grids[0] + np.cumsum(dx) - 0.5 * dx[0]\n",
    "y = y_grids[0] + np.cumsum(dy) - 0.5 * dy[0]\n",
    "z = z_grids[0] + np.cumsum(dz) - 0.5 * dz[0]\n",
    "\n",
    "grids = np.asarray([(x, y, z) for z in range(nz)\n",
    "                    for y in range(ny) for x in range(nx)])\n",
    "\n",
    "west_area = dy[0] * dz[0]\n",
    "east_area = dy[0] * dz[0]\n",
    "south_area = dx[0] * dz[0]\n",
    "north_area = dx[0] * dz[0]\n",
    "top_area = dx[0] * dy[0]\n",
    "bottom_area = dx[0] * dy[0]"
   ]
  },
  {
   "cell_type": "code",
   "execution_count": 24,
   "metadata": {
    "ExecuteTime": {
     "end_time": "2018-05-16T20:11:53.549884Z",
     "start_time": "2018-05-16T20:11:51.753775Z"
    }
   },
   "outputs": [],
   "source": [
    "material_h5 = h5.File(fname_material_h5, \"r\")\n",
    "\n",
    "# all_h5 = glob.glob(model_dir + \"pflotran*h5\")\n",
    "# all_h5 = np.sort(all_h5)\n",
    "\n",
    "# read river face information\n",
    "river_cells = []\n",
    "river_faces = []\n",
    "for i_region in list(material_h5['Regions'].keys()):\n",
    "    river_cells = np.append(river_cells, np.asarray(\n",
    "        list(material_h5[\"Regions\"][i_region][\"Cell Ids\"])))\n",
    "    river_faces = np.append(river_faces, np.asarray(\n",
    "        list(material_h5[\"Regions\"][i_region][\"Face Ids\"])))\n",
    "river_cells = river_cells.astype(int)\n",
    "river_cells = river_cells - 1  # need minus 1 as python index started with 0\n",
    "river_faces = river_faces.astype(int)\n",
    "\n",
    "unique_river_cells = np.unique(river_cells)\n",
    "\n",
    "material_h5.close()"
   ]
  },
  {
   "cell_type": "code",
   "execution_count": 25,
   "metadata": {
    "ExecuteTime": {
     "end_time": "2018-05-16T20:11:55.074323Z",
     "start_time": "2018-05-16T20:11:55.061273Z"
    }
   },
   "outputs": [],
   "source": [
    "temp_unique_river_cells = unique_river_cells\n",
    "unique_river_cells = []\n",
    "# store river cells that are not on the model domain boundaries (no face flux calculated at the boundary)\n",
    "for i_cell in temp_unique_river_cells:\n",
    "    if (grids[i_cell, 0] > 0 and grids[i_cell, 0] < (nx - 1) and\n",
    "            grids[i_cell, 1] > 0 and grids[i_cell, 1] < (ny - 1) and\n",
    "            grids[i_cell, 2] > 0 and grids[i_cell, 2] < (nz - 1)):\n",
    "        unique_river_cells.append(i_cell)\n",
    "\n",
    "n_unique = len(unique_river_cells)\n",
    "unique_index = [grids[i, :] for i in unique_river_cells]\n",
    "\n",
    "unique_xy = [grids[i, 0:2] for i in unique_river_cells]\n",
    "unique_xy = np.asarray(unique_xy)"
   ]
  },
  {
   "cell_type": "code",
   "execution_count": 26,
   "metadata": {
    "ExecuteTime": {
     "end_time": "2018-05-16T20:11:56.640004Z",
     "start_time": "2018-05-16T20:11:56.580609Z"
    }
   },
   "outputs": [],
   "source": [
    "river_face_array = np.array([], dtype=np.float).reshape(0, 6)\n",
    "for i_cell in unique_river_cells:\n",
    "    temp_face_vector = np.array([0] * 6).reshape(1, 6)\n",
    "    temp_faces = river_faces[river_cells == i_cell]\n",
    "    for iface in list(map(int, temp_faces)):\n",
    "        temp_face_vector[0, iface - 1] = 1\n",
    "    river_face_array = np.concatenate(\n",
    "        (river_face_array, temp_face_vector), axis=0)"
   ]
  },
  {
   "cell_type": "markdown",
   "metadata": {},
   "source": [
    "## calculate outflux (flux across river cell face)"
   ]
  },
  {
   "cell_type": "code",
   "execution_count": null,
   "metadata": {
    "ExecuteTime": {
     "end_time": "2018-05-03T22:34:31.805125Z",
     "start_time": "2018-05-03T21:58:57.794850Z"
    }
   },
   "outputs": [],
   "source": [
    "out_flux = {}\n",
    "all_h5 = glob.glob(model_dir + \"pflotran*h5\")\n",
    "for i_h5 in all_h5:\n",
    "    print(i_h5)\n",
    "    h5file = h5.File(i_h5, \"r\")\n",
    "    groups = list(h5file.keys())\n",
    "    time_index = [i for i, s in enumerate(groups) if \"Time:\" in s]\n",
    "    times = [groups[i] for i in time_index]\n",
    "    for itime in times:\n",
    "        print(itime)\n",
    "\n",
    "        # get dict of all flux\n",
    "        x_darcy = np.asarray(list(h5file[itime][\"Liquid X-Flux Velocities\"]))\n",
    "        y_darcy = np.asarray(list(h5file[itime][\"Liquid Y-Flux Velocities\"]))\n",
    "        z_darcy = np.asarray(list(h5file[itime][\"Liquid Z-Flux Velocities\"]))\n",
    "\n",
    "        # get flux on all cell face in river bed cells, i[0]--cell id in x direction; i[1]--cell id in y direction;i[2]--cell id in z direction\n",
    "        west_flux = [x_darcy[i[0] - 1, i[1], i[2]] for i in unique_index] # why - 1 ? west flux is from cell before current one (i.e on the left handside)\n",
    "        east_flux = [x_darcy[i[0], i[1], i[2]] for i in unique_index]\n",
    "        south_flux = [y_darcy[i[0], i[1] - 1, i[2]] for i in unique_index]\n",
    "        north_flux = [y_darcy[i[0], i[1], i[2]] for i in unique_index]\n",
    "        bottom_flux = [z_darcy[i[0], i[1], i[2] - 1] for i in unique_index]\n",
    "        top_flux = [z_darcy[i[0], i[1], i[2]] for i in unique_index]\n",
    "\n",
    "        # get volumeric flux\n",
    "        west_flux = [x * west_area for x in west_flux]\n",
    "        east_flux = [x * east_area for x in east_flux]\n",
    "        south_flux = [x * south_area for x in south_flux]\n",
    "        north_flux = [x * north_area for x in north_flux]\n",
    "        bottom_flux = [x * bottom_area for x in bottom_flux]\n",
    "        top_flux = [x * top_area for x in top_flux]\n",
    "\n",
    "        # get flux on river face of river cells\n",
    "        river_face_flux = river_face_array * np.column_stack(\n",
    "            (west_flux, east_flux, south_flux,\n",
    "             north_flux, bottom_flux, top_flux))\n",
    "\n",
    "        # combine x,y,z directions to get outflow flux = west_flux [x[0]] + east_flux + south_flux + north_flux + bottom_flux + top_flux\n",
    "        out_flux[itime] = [(-x[0] + x[1] - x[2] + x[3] - x[4] + x[5])\n",
    "                           for x in river_face_flux]"
   ]
  },
  {
   "cell_type": "markdown",
   "metadata": {},
   "source": [
    "## store pickle file"
   ]
  },
  {
   "cell_type": "code",
   "execution_count": 13,
   "metadata": {
    "ExecuteTime": {
     "end_time": "2018-05-03T22:34:31.805125Z",
     "start_time": "2018-05-03T21:58:57.794850Z"
    },
    "collapsed": true
   },
   "outputs": [
    {
     "name": "stdout",
     "output_type": "stream",
     "text": [
      "/Users/shua784/Paraview/HFR/HFR_200x200x2_1w_bc/pflotran_200x200x2_1w_bc.h5\n",
      "Time:  3.24000E+04 h\n",
      "Time:  3.25200E+04 h\n",
      "Time:  3.26400E+04 h\n",
      "Time:  3.27600E+04 h\n",
      "Time:  3.28800E+04 h\n",
      "Time:  3.30000E+04 h\n",
      "Time:  3.31200E+04 h\n",
      "Time:  3.32400E+04 h\n",
      "Time:  3.33600E+04 h\n",
      "Time:  3.34800E+04 h\n",
      "Time:  3.36000E+04 h\n",
      "Time:  3.37200E+04 h\n",
      "Time:  3.38400E+04 h\n",
      "Time:  3.39600E+04 h\n",
      "Time:  3.40800E+04 h\n",
      "Time:  3.42000E+04 h\n",
      "Time:  3.43200E+04 h\n",
      "Time:  3.44400E+04 h\n",
      "Time:  3.45600E+04 h\n",
      "Time:  3.46800E+04 h\n",
      "Time:  3.48000E+04 h\n",
      "Time:  3.49200E+04 h\n",
      "Time:  3.50400E+04 h\n",
      "Time:  3.51600E+04 h\n",
      "Time:  3.52800E+04 h\n",
      "Time:  3.54000E+04 h\n",
      "Time:  3.55200E+04 h\n",
      "Time:  3.56400E+04 h\n",
      "Time:  3.57600E+04 h\n",
      "Time:  3.58800E+04 h\n",
      "Time:  3.60000E+04 h\n",
      "Time:  3.61200E+04 h\n",
      "Time:  3.62400E+04 h\n",
      "Time:  3.63600E+04 h\n",
      "Time:  3.64800E+04 h\n",
      "Time:  3.66000E+04 h\n",
      "Time:  3.67200E+04 h\n",
      "Time:  3.68400E+04 h\n",
      "Time:  3.69600E+04 h\n",
      "Time:  3.70800E+04 h\n",
      "Time:  3.72000E+04 h\n",
      "Time:  3.73200E+04 h\n",
      "Time:  3.74400E+04 h\n",
      "Time:  3.75600E+04 h\n",
      "Time:  3.76800E+04 h\n",
      "Time:  3.78000E+04 h\n",
      "Time:  3.79200E+04 h\n",
      "Time:  3.80400E+04 h\n",
      "Time:  3.81600E+04 h\n",
      "Time:  3.82800E+04 h\n",
      "Time:  3.84000E+04 h\n",
      "Time:  3.85200E+04 h\n",
      "Time:  3.86400E+04 h\n",
      "Time:  3.87600E+04 h\n",
      "Time:  3.88800E+04 h\n",
      "Time:  3.90000E+04 h\n",
      "Time:  3.91200E+04 h\n",
      "Time:  3.92400E+04 h\n",
      "Time:  3.93600E+04 h\n",
      "Time:  3.94800E+04 h\n",
      "Time:  3.96000E+04 h\n",
      "Time:  3.97200E+04 h\n",
      "Time:  3.98400E+04 h\n",
      "Time:  3.99600E+04 h\n",
      "Time:  4.00800E+04 h\n",
      "Time:  4.02000E+04 h\n",
      "Time:  4.03200E+04 h\n",
      "Time:  4.04400E+04 h\n",
      "Time:  4.05600E+04 h\n",
      "Time:  4.06800E+04 h\n",
      "Time:  4.08000E+04 h\n",
      "Time:  4.09200E+04 h\n",
      "Time:  4.10400E+04 h\n",
      "Time:  4.11600E+04 h\n",
      "Time:  4.12800E+04 h\n",
      "Time:  4.14000E+04 h\n",
      "Time:  4.15200E+04 h\n",
      "Time:  4.16400E+04 h\n",
      "Time:  4.17600E+04 h\n",
      "Time:  4.18800E+04 h\n",
      "Time:  4.20000E+04 h\n",
      "Time:  4.21200E+04 h\n",
      "Time:  4.22400E+04 h\n",
      "Time:  4.23600E+04 h\n",
      "Time:  4.24800E+04 h\n",
      "Time:  4.26000E+04 h\n",
      "Time:  4.27200E+04 h\n",
      "Time:  4.28400E+04 h\n",
      "Time:  4.29600E+04 h\n",
      "Time:  4.30800E+04 h\n",
      "Time:  4.32000E+04 h\n",
      "Time:  4.33200E+04 h\n",
      "Time:  4.34400E+04 h\n",
      "Time:  4.35600E+04 h\n",
      "Time:  4.36800E+04 h\n",
      "Time:  4.38000E+04 h\n",
      "Time:  4.39200E+04 h\n",
      "Time:  4.40400E+04 h\n",
      "Time:  4.41600E+04 h\n",
      "Time:  4.42800E+04 h\n",
      "Time:  4.44000E+04 h\n",
      "Time:  4.45200E+04 h\n",
      "Time:  4.46400E+04 h\n",
      "Time:  4.47600E+04 h\n",
      "Time:  4.48800E+04 h\n",
      "Time:  4.50000E+04 h\n",
      "Time:  4.51200E+04 h\n",
      "Time:  4.52400E+04 h\n",
      "Time:  4.53600E+04 h\n",
      "Time:  4.54800E+04 h\n",
      "Time:  4.56000E+04 h\n",
      "Time:  4.57200E+04 h\n",
      "Time:  4.58400E+04 h\n",
      "Time:  4.59600E+04 h\n",
      "Time:  4.60800E+04 h\n",
      "Time:  4.62000E+04 h\n",
      "Time:  4.63200E+04 h\n",
      "Time:  4.64400E+04 h\n",
      "Time:  4.65600E+04 h\n",
      "Time:  4.66800E+04 h\n",
      "Time:  4.68000E+04 h\n",
      "Time:  4.69200E+04 h\n",
      "Time:  4.70400E+04 h\n",
      "Time:  4.71600E+04 h\n",
      "Time:  4.72800E+04 h\n",
      "Time:  4.74000E+04 h\n",
      "Time:  4.75200E+04 h\n",
      "Time:  4.76400E+04 h\n",
      "Time:  4.77600E+04 h\n",
      "Time:  4.78800E+04 h\n",
      "Time:  4.80000E+04 h\n",
      "Time:  4.81200E+04 h\n",
      "Time:  4.82400E+04 h\n",
      "Time:  4.83600E+04 h\n",
      "Time:  4.84800E+04 h\n",
      "Time:  4.86000E+04 h\n",
      "Time:  4.87200E+04 h\n",
      "Time:  4.88400E+04 h\n",
      "Time:  4.89600E+04 h\n",
      "Time:  4.90800E+04 h\n",
      "Time:  4.92000E+04 h\n",
      "Time:  4.93200E+04 h\n",
      "Time:  4.94400E+04 h\n",
      "Time:  4.95600E+04 h\n",
      "Time:  4.96800E+04 h\n",
      "Time:  4.98000E+04 h\n",
      "Time:  4.99200E+04 h\n",
      "Time:  5.00400E+04 h\n",
      "Time:  5.01600E+04 h\n",
      "Time:  5.02800E+04 h\n",
      "Time:  5.04000E+04 h\n",
      "Time:  5.05200E+04 h\n",
      "Time:  5.06400E+04 h\n",
      "Time:  5.07600E+04 h\n",
      "Time:  5.08800E+04 h\n",
      "Time:  5.10000E+04 h\n",
      "Time:  5.11200E+04 h\n",
      "Time:  5.12400E+04 h\n",
      "Time:  5.13600E+04 h\n",
      "Time:  5.14800E+04 h\n",
      "Time:  5.16000E+04 h\n",
      "Time:  5.17200E+04 h\n",
      "Time:  5.18400E+04 h\n",
      "Time:  5.19600E+04 h\n",
      "Time:  5.20800E+04 h\n",
      "Time:  5.22000E+04 h\n",
      "Time:  5.23200E+04 h\n",
      "Time:  5.24400E+04 h\n",
      "Time:  5.25600E+04 h\n",
      "Time:  5.26800E+04 h\n",
      "Time:  5.28000E+04 h\n",
      "Time:  5.29200E+04 h\n",
      "Time:  5.30400E+04 h\n",
      "Time:  5.31600E+04 h\n",
      "Time:  5.32800E+04 h\n",
      "Time:  5.34000E+04 h\n",
      "Time:  5.35200E+04 h\n",
      "Time:  5.36400E+04 h\n",
      "Time:  5.37600E+04 h\n",
      "Time:  5.38800E+04 h\n",
      "Time:  5.40000E+04 h\n",
      "Time:  5.41200E+04 h\n",
      "Time:  5.42400E+04 h\n",
      "Time:  5.43600E+04 h\n",
      "Time:  5.44800E+04 h\n",
      "Time:  5.46000E+04 h\n",
      "Time:  5.47200E+04 h\n",
      "Time:  5.48400E+04 h\n",
      "Time:  5.49600E+04 h\n",
      "Time:  5.50800E+04 h\n",
      "Time:  5.52000E+04 h\n",
      "Time:  5.53200E+04 h\n",
      "Time:  5.54400E+04 h\n",
      "Time:  5.55600E+04 h\n",
      "Time:  5.56800E+04 h\n",
      "Time:  5.58000E+04 h\n",
      "Time:  5.59200E+04 h\n",
      "Time:  5.60400E+04 h\n",
      "Time:  5.61600E+04 h\n",
      "Time:  5.62800E+04 h\n",
      "Time:  5.64000E+04 h\n",
      "Time:  5.65200E+04 h\n",
      "Time:  5.66400E+04 h\n",
      "Time:  5.67600E+04 h\n",
      "Time:  5.68800E+04 h\n",
      "Time:  5.70000E+04 h\n",
      "Time:  5.71200E+04 h\n",
      "Time:  5.72400E+04 h\n",
      "Time:  5.73600E+04 h\n",
      "Time:  5.74800E+04 h\n",
      "Time:  5.76000E+04 h\n",
      "Time:  5.77200E+04 h\n",
      "Time:  5.78400E+04 h\n",
      "Time:  5.79600E+04 h\n",
      "Time:  5.80800E+04 h\n",
      "Time:  5.82000E+04 h\n",
      "Time:  5.83200E+04 h\n",
      "Time:  5.84400E+04 h\n",
      "Time:  5.85600E+04 h\n",
      "Time:  5.86800E+04 h\n",
      "Time:  5.88000E+04 h\n",
      "Time:  5.89200E+04 h\n",
      "Time:  5.90400E+04 h\n",
      "Time:  5.91600E+04 h\n",
      "Time:  5.92800E+04 h\n",
      "Time:  5.94000E+04 h\n",
      "Time:  5.95200E+04 h\n",
      "Time:  5.96400E+04 h\n",
      "Time:  5.97600E+04 h\n",
      "Time:  5.98800E+04 h\n",
      "Time:  6.00000E+04 h\n",
      "Time:  6.01200E+04 h\n",
      "Time:  6.02400E+04 h\n",
      "Time:  6.03600E+04 h\n",
      "Time:  6.04800E+04 h\n",
      "Time:  6.06000E+04 h\n",
      "Time:  6.07200E+04 h\n",
      "Time:  6.08400E+04 h\n",
      "Time:  6.09600E+04 h\n",
      "Time:  6.10800E+04 h\n",
      "Time:  6.12000E+04 h\n",
      "Time:  6.13200E+04 h\n",
      "Time:  6.14400E+04 h\n",
      "Time:  6.15600E+04 h\n",
      "Time:  6.16800E+04 h\n",
      "Time:  6.18000E+04 h\n",
      "Time:  6.19200E+04 h\n",
      "Time:  6.20400E+04 h\n",
      "Time:  6.21600E+04 h\n",
      "Time:  6.22800E+04 h\n",
      "Time:  6.24000E+04 h\n",
      "Time:  6.25200E+04 h\n",
      "Time:  6.26400E+04 h\n",
      "Time:  6.27600E+04 h\n",
      "Time:  6.28800E+04 h\n",
      "Time:  6.30000E+04 h\n",
      "Time:  6.31200E+04 h\n",
      "Time:  6.32400E+04 h\n",
      "Time:  6.33600E+04 h\n",
      "Time:  6.34800E+04 h\n",
      "Time:  6.36000E+04 h\n",
      "Time:  6.37200E+04 h\n",
      "Time:  6.38400E+04 h\n",
      "Time:  6.39600E+04 h\n",
      "Time:  6.40800E+04 h\n",
      "Time:  6.42000E+04 h\n",
      "Time:  6.43200E+04 h\n",
      "Time:  6.44400E+04 h\n",
      "Time:  6.45600E+04 h\n",
      "Time:  6.46800E+04 h\n",
      "Time:  6.48000E+04 h\n",
      "Time:  6.49200E+04 h\n",
      "Time:  6.50400E+04 h\n",
      "Time:  6.51600E+04 h\n",
      "Time:  6.52800E+04 h\n",
      "Time:  6.54000E+04 h\n",
      "Time:  6.55200E+04 h\n",
      "Time:  6.56400E+04 h\n",
      "Time:  6.57600E+04 h\n",
      "Time:  6.58800E+04 h\n",
      "Time:  6.60000E+04 h\n",
      "Time:  6.61200E+04 h\n",
      "Time:  6.62400E+04 h\n",
      "Time:  6.63600E+04 h\n",
      "Time:  6.64800E+04 h\n",
      "Time:  6.66000E+04 h\n",
      "Time:  6.67200E+04 h\n",
      "Time:  6.68400E+04 h\n",
      "Time:  6.69600E+04 h\n",
      "Time:  6.70800E+04 h\n",
      "Time:  6.72000E+04 h\n",
      "Time:  6.73200E+04 h\n",
      "Time:  6.74400E+04 h\n",
      "Time:  6.75600E+04 h\n",
      "Time:  6.76800E+04 h\n",
      "Time:  6.78000E+04 h\n",
      "Time:  6.79200E+04 h\n",
      "Time:  6.80400E+04 h\n",
      "Time:  6.81600E+04 h\n",
      "Time:  6.82800E+04 h\n",
      "Time:  6.84000E+04 h\n",
      "Time:  6.85200E+04 h\n",
      "Time:  6.86400E+04 h\n",
      "Time:  6.87600E+04 h\n",
      "Time:  6.88800E+04 h\n",
      "Time:  6.90000E+04 h\n",
      "Time:  6.91200E+04 h\n",
      "Time:  6.92400E+04 h\n",
      "Time:  6.93600E+04 h\n",
      "Time:  6.94800E+04 h\n",
      "Time:  6.96000E+04 h\n",
      "Time:  6.97200E+04 h\n",
      "Time:  6.98400E+04 h\n",
      "Time:  6.99600E+04 h\n",
      "Time:  7.00800E+04 h\n",
      "Time:  7.02000E+04 h\n",
      "Time:  7.03200E+04 h\n",
      "Time:  7.04400E+04 h\n",
      "Time:  7.05600E+04 h\n",
      "Time:  7.06800E+04 h\n",
      "Time:  7.08000E+04 h\n",
      "Time:  7.09200E+04 h\n",
      "Time:  7.10400E+04 h\n",
      "Time:  7.11600E+04 h\n",
      "Time:  7.12800E+04 h\n",
      "Time:  7.14000E+04 h\n",
      "Time:  7.15200E+04 h\n",
      "Time:  7.16400E+04 h\n",
      "Time:  7.17600E+04 h\n",
      "Time:  7.18800E+04 h\n",
      "Time:  7.20000E+04 h\n",
      "Time:  7.21200E+04 h\n",
      "Time:  7.22400E+04 h\n",
      "Time:  7.23600E+04 h\n",
      "Time:  7.24800E+04 h\n",
      "Time:  7.26000E+04 h\n",
      "Time:  7.27200E+04 h\n",
      "Time:  7.28400E+04 h\n",
      "Time:  7.29600E+04 h\n",
      "Time:  7.30800E+04 h\n",
      "Time:  7.32000E+04 h\n",
      "Time:  7.33200E+04 h\n",
      "Time:  7.34400E+04 h\n",
      "Time:  7.35600E+04 h\n",
      "Time:  7.36800E+04 h\n",
      "Time:  7.38000E+04 h\n",
      "Time:  7.39200E+04 h\n",
      "Time:  7.40400E+04 h\n",
      "Time:  7.41600E+04 h\n",
      "Time:  7.42800E+04 h\n",
      "Time:  7.44000E+04 h\n",
      "Time:  7.45200E+04 h\n",
      "Time:  7.46400E+04 h\n",
      "Time:  7.47600E+04 h\n",
      "Time:  7.48800E+04 h\n",
      "Time:  7.50000E+04 h\n",
      "Time:  7.51200E+04 h\n",
      "Time:  7.52400E+04 h\n",
      "Time:  7.53600E+04 h\n",
      "Time:  7.54800E+04 h\n",
      "Time:  7.56000E+04 h\n",
      "Time:  7.57200E+04 h\n",
      "Time:  7.58400E+04 h\n",
      "Time:  7.59600E+04 h\n",
      "Time:  7.60800E+04 h\n",
      "Time:  7.62000E+04 h\n",
      "Time:  7.63200E+04 h\n",
      "Time:  7.64400E+04 h\n",
      "Time:  7.65600E+04 h\n",
      "Time:  7.66800E+04 h\n",
      "Time:  7.67890E+04 h\n"
     ]
    }
   ],
   "source": [
    "file = open(fname_pickle, \"wb\")\n",
    "pickle.dump(out_flux, file)\n",
    "file.close()"
   ]
  },
  {
   "cell_type": "markdown",
   "metadata": {},
   "source": [
    "# generate flux bar plot (abs. exchange, net exchange etc.)"
   ]
  },
  {
   "cell_type": "code",
   "execution_count": 18,
   "metadata": {
    "ExecuteTime": {
     "end_time": "2018-05-03T22:36:38.972174Z",
     "start_time": "2018-05-03T22:36:38.404709Z"
    }
   },
   "outputs": [],
   "source": [
    "# load pre-processed file\n",
    "pickle_file = open(fname_pickle, \"rb\")\n",
    "out_flux = pickle.load(pickle_file)\n",
    "times = np.sort(list(out_flux.keys()))\n",
    "simu_time = np.sort([np.float(i[5:19]) for i in times]) "
   ]
  },
  {
   "cell_type": "code",
   "execution_count": 19,
   "metadata": {
    "ExecuteTime": {
     "end_time": "2018-05-03T22:36:56.934445Z",
     "start_time": "2018-05-03T22:36:56.539971Z"
    }
   },
   "outputs": [],
   "source": [
    "discharge_file = open(fname_usgs_gage, \"r\")\n",
    "discharge_data = discharge_file.readlines()\n",
    "discharge_data = [x.replace('\"', \"\") for x in discharge_data]\n",
    "discharge_data = [x.split(\",\") for x in discharge_data[1:]]\n",
    "discharge_data = [list(filter(None, x)) for x in discharge_data]\n",
    "discharge_data = np.asarray(discharge_data)\n",
    "discharge_time = [datetime.strptime(x, \"%Y-%m-%d\")\n",
    "                  for x in discharge_data[:, 3]]\n",
    "discharge_value = discharge_data[:, 4]  # .astype(float)"
   ]
  },
  {
   "cell_type": "code",
   "execution_count": 20,
   "metadata": {
    "ExecuteTime": {
     "end_time": "2018-05-03T22:37:03.584391Z",
     "start_time": "2018-05-03T22:37:03.575160Z"
    }
   },
   "outputs": [],
   "source": [
    "date_origin = datetime.strptime(\"2007-03-28 00:00:00\", \"%Y-%m-%d %H:%M:%S\")\n",
    "real_time = batch_delta_to_time(\n",
    "    date_origin, simu_time, \"%Y-%m-%d %H:%M:%S\", \"hours\")\n",
    "real_time = [datetime.strptime(x, \"%Y-%m-%d %H:%M:%S\") for x in real_time]\n",
    "\n",
    "time_ticks = [\n",
    "    \"2011-01-01 00:00:00\",\n",
    "    \"2012-01-01 00:00:00\",\n",
    "    \"2013-01-01 00:00:00\",\n",
    "    \"2014-01-01 00:00:00\",\n",
    "    \"2015-01-01 00:00:00\",\n",
    "    \"2016-01-01 00:00:00\"]\n",
    "time_ticks = [datetime.strptime(x, \"%Y-%m-%d %H:%M:%S\") for x in time_ticks]"
   ]
  },
  {
   "cell_type": "code",
   "execution_count": 22,
   "metadata": {
    "ExecuteTime": {
     "end_time": "2018-05-03T22:44:12.838739Z",
     "start_time": "2018-05-03T22:44:12.670869Z"
    }
   },
   "outputs": [],
   "source": [
    "n_segment = len(time_ticks) - 1 # num of intervals\n",
    "sum_flow = np.array([0.] * n_segment)\n",
    "abs_flow = np.array([0.] * n_segment)\n",
    "out_flow = np.array([0.] * n_segment)\n",
    "in_flow = np.array([0.] * n_segment)\n",
    "for i_segment in range(n_segment):\n",
    "    select_index = []\n",
    "    for i_index in range(len(real_time)):\n",
    "        if (real_time[i_index] >= time_ticks[i_segment] and\n",
    "                real_time[i_index] < time_ticks[i_segment + 1]):\n",
    "            select_index.append(i_index)\n",
    "    for i_index in select_index:\n",
    "        temp_flux = np.asarray(out_flux[times[i_index]])\n",
    "        sum_flow[i_segment] = sum_flow[i_segment] + np.sum(temp_flux)\n",
    "        abs_flow[i_segment] = abs_flow[i_segment] + np.sum(np.abs(temp_flux))\n",
    "        out_flow[i_segment] = out_flow[i_segment] + \\\n",
    "            sum(temp_flux[temp_flux >= 0])\n",
    "        in_flow[i_segment] = in_flow[i_segment] + \\\n",
    "            sum(temp_flux[temp_flux <= 0])\n",
    "    sum_flow[i_segment] = sum_flow[i_segment] / len(select_index)\n",
    "    abs_flow[i_segment] = abs_flow[i_segment] / len(select_index)\n",
    "    out_flow[i_segment] = out_flow[i_segment] / len(select_index)\n",
    "    in_flow[i_segment] = in_flow[i_segment] / len(select_index)\n",
    "\n",
    "sum_flow = sum_flow * 365.25 * 24\n",
    "abs_flow = abs_flow * 365.25 * 24\n",
    "out_flow = out_flow * 365.25 * 24\n",
    "in_flow = in_flow * 365.25 * 24"
   ]
  },
  {
   "cell_type": "code",
   "execution_count": 23,
   "metadata": {
    "ExecuteTime": {
     "end_time": "2018-05-03T22:44:26.665859Z",
     "start_time": "2018-05-03T22:44:26.635892Z"
    }
   },
   "outputs": [],
   "source": [
    "discharge_flow = np.array([0.] * n_segment)\n",
    "for i_segment in range(n_segment):\n",
    "    select_index = []\n",
    "    for i_index in range(len(discharge_time)):\n",
    "        if (discharge_time[i_index] >= time_ticks[i_segment] and\n",
    "                discharge_time[i_index] < time_ticks[i_segment + 1]):\n",
    "            select_index.append(i_index)\n",
    "    sum_discharge = sum(np.asarray([discharge_value[i]\n",
    "                                    for i in select_index]).astype(float))\n",
    "    sum_discharge = sum_discharge * 3600 * 24 * (0.3048**3)\n",
    "    discharge_flow[i_segment] = sum_discharge"
   ]
  },
  {
   "cell_type": "markdown",
   "metadata": {},
   "source": [
    "## plot absolute exchange and net exchange "
   ]
  },
  {
   "cell_type": "code",
   "execution_count": 24,
   "metadata": {
    "ExecuteTime": {
     "end_time": "2018-05-03T22:44:34.147832Z",
     "start_time": "2018-05-03T22:44:33.491741Z"
    },
    "scrolled": true
   },
   "outputs": [
    {
     "data": {
      "image/png": "[encoded data removed]",
      "text/plain": [
       "<Figure size 1440x230.4 with 5 Axes>"
      ]
     },
     "metadata": {},
     "output_type": "display_data"
    }
   ],
   "source": [
    "start_year = 2011\n",
    "fig_name = fig_face_flux\n",
    "gs = gridspec.GridSpec(1, 5)\n",
    "fig = plt.figure()\n",
    "\n",
    "ax0 = fig.add_subplot(gs[0, 0])\n",
    "ax0.bar(start_year + np.arange(n_segment), discharge_flow, color=\"black\")\n",
    "ax0.set_ylim([0, 1.5e11])\n",
    "ax0.set_xlabel('Time (year)')\n",
    "ax0.set_ylabel('River Discharge ($m^3$/year)')\n",
    "ax0.set_title(\"(a) Priest Rapid Dam Discharge\", y=1.05)\n",
    "\n",
    "ax1 = fig.add_subplot(gs[0, 1])\n",
    "ax1.bar(start_year + np.arange(n_segment), out_flow, color=\"red\")\n",
    "ax1.set_ylim([0, 8e8])\n",
    "ax1.set_xlabel('Time (year)')\n",
    "ax1.set_ylabel('Exchange flux ($m^3$/year)')\n",
    "ax1.set_title(\"(b) River Gaining Volume\", y=1.05)\n",
    "\n",
    "ax2 = fig.add_subplot(gs[0, 2])\n",
    "ax2.bar(start_year + np.arange(n_segment), -in_flow, color=\"blue\")\n",
    "ax2.set_ylim([0, 8e8])\n",
    "ax2.set_xlabel('Time (year)')\n",
    "ax2.set_ylabel('Exchange flux ($m^3$/year)')\n",
    "ax2.set_title(\"(c) River Losing Volume\", y=1.05)\n",
    "\n",
    "ax3 = fig.add_subplot(gs[0, 3])\n",
    "ax3.bar(start_year + np.arange(n_segment), sum_flow, color=\"purple\")\n",
    "ax3.set_ylim([0, 8e8])\n",
    "ax3.set_xlabel('Time (year)')\n",
    "ax3.set_ylabel('Exchange flux ($m^3$/year)')\n",
    "ax3.set_title(\"(d) River Net Gaining Volume\", y=1.05)\n",
    "\n",
    "ax4 = fig.add_subplot(gs[0, 4])\n",
    "ax4.bar(start_year + np.arange(n_segment), abs_flow, color=\"brown\")\n",
    "ax4.set_ylim([0, 8e8])\n",
    "ax4.set_xlabel('Time (year)')\n",
    "ax4.set_ylabel('Exchange flux ($m^3$/year)')\n",
    "ax4.set_title(\"(e) Abosulte Exchange\", y=1.05)\n",
    "\n",
    "fig.tight_layout()\n",
    "fig.subplots_adjust(left=0.1,\n",
    "                    right=0.95,\n",
    "                    bottom=0.07,\n",
    "                    top=0.85,\n",
    "                    wspace=0.30,\n",
    "                    hspace=0.38\n",
    "                    )\n",
    "fig.set_size_inches(20, 3.2)"
   ]
  },
  {
   "cell_type": "code",
   "execution_count": 25,
   "metadata": {
    "ExecuteTime": {
     "end_time": "2018-05-03T22:45:17.376364Z",
     "start_time": "2018-05-03T22:45:14.486542Z"
    }
   },
   "outputs": [],
   "source": [
    "fig.savefig(fig_face_flux, dpi=600, transparent=True)\n",
    "plt.close(fig)"
   ]
  },
  {
   "cell_type": "markdown",
   "metadata": {},
   "source": [
    "## save flux metrix data"
   ]
  },
  {
   "cell_type": "code",
   "execution_count": 26,
   "metadata": {
    "ExecuteTime": {
     "end_time": "2018-05-03T22:46:38.088032Z",
     "start_time": "2018-05-03T22:46:38.083765Z"
    }
   },
   "outputs": [],
   "source": [
    "bar_file = open(fname_flux_net_gaining, 'w')\n",
    "for i_flow in sum_flow:\n",
    "    bar_file.write(\"%3.2e\\n\" % i_flow)\n",
    "bar_file.close()\n",
    "\n",
    "bar_file = open(fname_flux_abs_exchange, 'w')\n",
    "for i_flow in abs_flow:\n",
    "    bar_file.write(\"%3.2e\\n\" % i_flow)\n",
    "bar_file.close()\n",
    "\n",
    "bar_file = open(fname_flux_abs_losing, 'w')\n",
    "for i_flow in in_flow:\n",
    "    bar_file.write(\"%3.2e\\n\" % -i_flow)\n",
    "bar_file.close()\n",
    "\n",
    "bar_file = open(fname_flux_abs_gaining, 'w')\n",
    "for i_flow in out_flow:\n",
    "    bar_file.write(\"%3.2e\\n\" % i_flow)\n",
    "bar_file.close()"
   ]
  },
  {
   "cell_type": "markdown",
   "metadata": {},
   "source": [
    "# plot face flux snapshot"
   ]
  },
  {
   "cell_type": "code",
   "execution_count": 10,
   "metadata": {
    "ExecuteTime": {
     "end_time": "2018-05-16T20:04:16.295622Z",
     "start_time": "2018-05-16T20:04:15.662577Z"
    }
   },
   "outputs": [],
   "source": [
    "# load pre-processed file\n",
    "with open(fname_pickle, \"rb\") as f:\n",
    "    out_flux = pickle.load(f)\n",
    "# times = np.sort(list(out_flux.keys()))\n",
    "# simu_time = np.sort([np.float(i[5:19]) for i in times])  ## why i[5:19] ??"
   ]
  },
  {
   "cell_type": "code",
   "execution_count": 11,
   "metadata": {
    "ExecuteTime": {
     "end_time": "2018-05-16T20:04:41.192118Z",
     "start_time": "2018-05-16T20:04:41.188952Z"
    }
   },
   "outputs": [],
   "source": [
    "# add three lines to contour indicating mass1 location\n",
    "line1 = section_coord[0, 1:3] / 1000\n",
    "line2 = section_coord[int(len(section_coord[:, 1]) / 2), 1:3] / 1000\n",
    "line3 = section_coord[-1, 1:3] / 1000\n",
    "line1_x = [line1[0]] * 2\n",
    "line1_y = [line1[1] - 5, line1[1] + 5]\n",
    "line2_x = [line2[0] - 5, line2[0] + 5]\n",
    "line2_y = [line2[1]] * 2\n",
    "line3_x = [line3[0] - 5, line3[0] + 5]\n",
    "line3_y = [line3[1]] * 2"
   ]
  },
  {
   "cell_type": "code",
   "execution_count": 27,
   "metadata": {
    "ExecuteTime": {
     "end_time": "2018-05-16T20:12:08.300994Z",
     "start_time": "2018-05-16T20:12:06.210714Z"
    }
   },
   "outputs": [
    {
     "name": "stdout",
     "output_type": "stream",
     "text": [
      "[datetime.datetime(2010, 12, 7, 0, 0)]\n"
     ]
    },
    {
     "data": {
      "image/png": "[encoded data removed]",
      "text/plain": [
       "<Figure size 468x396 with 2 Axes>"
      ]
     },
     "metadata": {},
     "output_type": "display_data"
    }
   ],
   "source": [
    "for itime in list(out_flux.keys())[:1]:\n",
    "    #    itime = \"Time:  \" + \"{:.5E}\".format(itime) + \" h\"\n",
    "    real_time = batch_delta_to_time(\n",
    "        date_origin, [float(itime[7:18])], \"%Y-%m-%d %H:%M:%S\", \"hours\")\n",
    "    real_time = [datetime.strptime(x, \"%Y-%m-%d %H:%M:%S\") for x in real_time]\n",
    "    print(real_time)\n",
    "    xy_flux = np.asarray([np.nan] * (ny * nx)).reshape(ny, nx)\n",
    "    for i_unique in np.arange(n_unique):\n",
    "        xy_flux[unique_xy[i_unique, 1],\n",
    "                unique_xy[i_unique, 0]] = out_flux[itime][i_unique]\n",
    "    \n",
    "    fig_name = fig_face_snapshots + str(real_time[0]) + \".png\"\n",
    "    gs = gridspec.GridSpec(1, 1)\n",
    "    fig = plt.figure()\n",
    "    ax1 = fig.add_subplot(gs[0, 0])\n",
    "    ax1.plot(line1_x, line1_y, \"black\")\n",
    "    ax1.plot(line2_x, line2_y, \"black\")\n",
    "    ax1.plot(line3_x, line3_y, \"black\")\n",
    "    cf1 = ax1.imshow(xy_flux * 24 / dx[0] / dy[0],\n",
    "                     cmap=plt.cm.jet,\n",
    "                     origin=\"lower\",\n",
    "                     vmin=-0.1,\n",
    "                     vmax=0.1,\n",
    "                     extent=[(x[0] - 0.5 * dx[0]) / 1000,\n",
    "                             (x[-1] + 0.5 * dx[0]) / 1000,\n",
    "                             (y[0] - 0.5 * dy[0]) / 1000,\n",
    "                             (y[-1] + 0.5 * dy[0]) / 1000]\n",
    "                     )\n",
    "    ax1.set_xlabel(\"Easting (km)\")\n",
    "    ax1.set_ylabel(\"Northing (km)\")\n",
    "    ax1.set_aspect(\"equal\", \"datalim\")\n",
    "    ax1.set_xlim([np.min(x_grids) / 1000, np.max(x_grids) / 1000])\n",
    "    ax1.set_ylim([np.min(x_grids) / 1000, np.max(x_grids) / 1000])\n",
    "    cb1 = plt.colorbar(cf1, extend=\"both\")\n",
    "    cb1.ax.set_ylabel(\"Exchange flux (m/d)\", rotation=270, labelpad=20)\n",
    "    fig.tight_layout()\n",
    "    fig.set_size_inches(6.5, 5.5)\n",
    "    fig.savefig(fig_name, dpi=600)\n",
    "#     plt.close(fig)\n"
   ]
  },
  {
   "cell_type": "markdown",
   "metadata": {},
   "source": [
    "# plot finger flux"
   ]
  },
  {
   "cell_type": "code",
   "execution_count": null,
   "metadata": {},
   "outputs": [],
   "source": []
  },
  {
   "cell_type": "code",
   "execution_count": null,
   "metadata": {},
   "outputs": [],
   "source": []
  },
  {
   "cell_type": "code",
   "execution_count": null,
   "metadata": {},
   "outputs": [],
   "source": []
  },
  {
   "cell_type": "code",
   "execution_count": null,
   "metadata": {},
   "outputs": [],
   "source": []
  }
 ],
 "metadata": {
  "kernelspec": {
   "display_name": "Python 3",
   "language": "python",
   "name": "python3"
  },
  "language_info": {
   "codemirror_mode": {
    "name": "ipython",
    "version": 3
   },
   "file_extension": ".py",
   "mimetype": "text/x-python",
   "name": "python",
   "nbconvert_exporter": "python",
   "pygments_lexer": "ipython3",
   "version": "3.6.3"
  },
  "toc": {
   "base_numbering": 1,
   "nav_menu": {},
   "number_sections": true,
   "sideBar": true,
   "skip_h1_title": false,
   "title_cell": "Table of Contents",
   "title_sidebar": "Contents",
   "toc_cell": false,
   "toc_position": {
    "height": "calc(100% - 180px)",
    "left": "10px",
    "top": "150px",
    "width": "391px"
   },
   "toc_section_display": true,
   "toc_window_display": true
  },
  "varInspector": {
   "cols": {
    "lenName": 16,
    "lenType": 16,
    "lenVar": 40
   },
   "kernels_config": {
    "python": {
     "delete_cmd_postfix": "",
     "delete_cmd_prefix": "del ",
     "library": "var_list.py",
     "varRefreshCmd": "print(var_dic_list())"
    },
    "r": {
     "delete_cmd_postfix": ") ",
     "delete_cmd_prefix": "rm(",
     "library": "var_list.r",
     "varRefreshCmd": "cat(var_dic_list()) "
    }
   },
   "oldHeight": 640,
   "position": {
    "height": "40px",
    "left": "-3px",
    "right": "20px",
    "top": "595px",
    "width": "384px"
   },
   "types_to_exclude": [
    "module",
    "function",
    "builtin_function_or_method",
    "instance",
    "_Feature"
   ],
   "varInspector_section_display": "none",
   "window_display": true
  }
 },
 "nbformat": 4,
 "nbformat_minor": 2
}
