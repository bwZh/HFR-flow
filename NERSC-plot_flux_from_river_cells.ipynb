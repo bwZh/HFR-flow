{
 "cells": [
  {
   "cell_type": "code",
   "execution_count": 1,
   "metadata": {},
   "outputs": [
    {
     "data": {
      "text/plain": [
       "'3.6.1 |Anaconda custom (64-bit)| (default, May 11 2017, 13:09:58) \\n[GCC 4.4.7 20120313 (Red Hat 4.4.7-1)]'"
      ]
     },
     "execution_count": 1,
     "metadata": {},
     "output_type": "execute_result"
    }
   ],
   "source": [
    "import sys\n",
    "sys.version"
   ]
  },
  {
   "cell_type": "code",
   "execution_count": 15,
   "metadata": {
    "ExecuteTime": {
     "end_time": "2018-05-16T20:01:09.720226Z",
     "start_time": "2018-05-16T20:01:09.071602Z"
    }
   },
   "outputs": [],
   "source": [
    "import numpy as np\n",
    "import h5py as h5\n",
    "import glob\n",
    "import pickle\n",
    "import scipy\n",
    "\n",
    "import pandas as pd\n",
    "\n",
    "import matplotlib.pyplot as plt\n",
    "import matplotlib.gridspec as gridspec\n",
    "from datetime import datetime, timedelta\n",
    "\n",
    "from shapely.geometry.polygon import Polygon\n",
    "import statsmodels.api as sm\n",
    "import statsmodels.formula.api as smf\n",
    "from numpy.polynomial.polynomial import polyfit\n",
    "from scipy import stats"
   ]
  },
  {
   "cell_type": "code",
   "execution_count": 2,
   "metadata": {
    "ExecuteTime": {
     "end_time": "2018-05-16T20:01:09.725821Z",
     "start_time": "2018-05-16T20:01:09.721807Z"
    }
   },
   "outputs": [],
   "source": [
    "def batch_time_to_delta(origin, x, time_format):\n",
    "    y = []\n",
    "    for ix in x:\n",
    "        temp_y = abs(datetime.strptime(\n",
    "            ix, time_format) - origin).total_seconds()\n",
    "        y.append(temp_y)\n",
    "    y = np.asarray(y)\n",
    "    return(y)\n",
    "\n",
    "def batch_delta_to_time(origin, x, time_format, delta_format):\n",
    "    y = []\n",
    "    for ix in x:\n",
    "        if delta_format == \"hours\":\n",
    "            temp_y = origin + timedelta(hours=ix)\n",
    "        elif delta_format == \"days\":\n",
    "            temp_y = origin + timedelta(days=ix)\n",
    "        elif delta_format == \"minutes\":\n",
    "            temp_y = origin + timedelta(minutes=ix)\n",
    "        elif delta_format == \"weeks\":\n",
    "            temp_y = origin + timedelta(weeks=ix)\n",
    "        elif delta_format == \"seconds\":\n",
    "            temp_y = origin + timedelta(seconds=ix)\n",
    "        elif delta_format == \"microseconds\":\n",
    "            temp_y = origin + timedelta(microseconds=ix)\n",
    "        elif delta_format == \"milliseconds\":\n",
    "            temp_y = origin + timedelta(milliseconds=ix)\n",
    "        else:\n",
    "            print(\"Sorry, this naive program only solve single time unit\")\n",
    "        y.append(temp_y.strftime(time_format))\n",
    "    y = np.asarray(y)\n",
    "    return(y)"
   ]
  },
  {
   "cell_type": "markdown",
   "metadata": {},
   "source": [
    "## I/O files and model parameters"
   ]
  },
  {
   "cell_type": "code",
   "execution_count": 28,
   "metadata": {
    "ExecuteTime": {
     "end_time": "2018-05-16T20:11:35.557107Z",
     "start_time": "2018-05-16T20:11:35.553454Z"
    }
   },
   "outputs": [],
   "source": [
    "#input\n",
    "# case_name = \"HFR_model_200x200x2_head_bc_new_iniH/\"\n",
    "case_name = \"HFR_model_100x100x2_cyclic/\"\n",
    "\n",
    "model_dir = \"/global/cscratch1/sd/pshuai/\" + case_name\n",
    "out_dir = \"/global/project/projectdirs/m1800/pin/Reach_scale_model/Outputs/\" + case_name\n",
    "result_dir = \"/global/project/projectdirs/m1800/pin/Reach_scale_model/results/\" + case_name\n",
    "data_dir = \"/global/project/projectdirs/m1800/pin/Reach_scale_model/data/\"\n",
    "\n",
    "# fname_model_origin = model_dir + \"model_origin.txt\"\n",
    "fname_material_h5 = model_dir + \"HFR_material_river.h5\"\n",
    "# fname_pflotran_h5 = model_dir + \"pflotran_200x200x2_6h_bc_new_iniH.h5\"\n",
    "# fname_mass_dat = model_dir + \"pflotran_200x200x2_6h_bc_new_iniH-mas.dat\"\n",
    "fname_pflotran_h5 = model_dir + \"pflotran_100x100x2_cyclic_2011_2015_full.h5\"\n",
    "fname_mass_dat = model_dir + \"pflotran_100x100x2_cyclic-mas.dat\"\n",
    "\n",
    "fname_river_geo = data_dir + \"river_geometry_manual.csv\"\n",
    "\n",
    "\n",
    "\n",
    "fname_usgs_gage = data_dir + \"USGS_flow_gh_12472800.csv\"\n",
    "fname_mass1_coord = data_dir + \"MASS1/coordinates.csv\"\n",
    "#output\n",
    "fname_out_flux = result_dir + \"out_flux.pk\"\n",
    "\n",
    "fig_face_flux = out_dir + \"face_flux/face_flux.png\"\n",
    "fig_face_snapshots = out_dir + \"face_flux/\"\n",
    "\n",
    "fname_out_flux_all = result_dir + \"out_flux_all.pk\"\n",
    "\n",
    "fname_river_middle = data_dir + \"river_middle.csv\"\n",
    "fname_river_north = data_dir + \"river_north.csv\"\n",
    "fname_river_south = data_dir + \"river_south.csv\"\n",
    "\n",
    "fname_sinuosity_thickness_flux = \"/global/project/projectdirs/m1800/pin/Reach_scale_model/Outputs/sinuosity_thickness_flux.csv\"\n",
    "\n",
    "fname_regression_summary = \"/global/project/projectdirs/m1800/pin/Reach_scale_model/Outputs/multi_regression_summary.txt\"\n",
    "# fname_flux_net_gaining = out_dir + \"face_flux/flux_net_gain.txt\"\n",
    "# fname_flux_abs_exchange = out_dir + \"face_flux/flux_abs_exchange.txt\"\n",
    "# fname_flux_abs_gaining = out_dir + \"face_flux/flux_abs_gain.txt\"\n",
    "# fname_flux_abs_losing = out_dir + \"face_flux/flux_abs_lose.txt\""
   ]
  },
  {
   "cell_type": "code",
   "execution_count": 29,
   "metadata": {
    "ExecuteTime": {
     "end_time": "2018-05-16T20:11:38.351631Z",
     "start_time": "2018-05-16T20:11:38.343794Z"
    }
   },
   "outputs": [],
   "source": [
    "date_origin = datetime.strptime(\"2007-03-28 12:00:00\", \"%Y-%m-%d %H:%M:%S\")\n",
    "\n",
    "# model_origin = np.genfromtxt(fname_model_origin, delimiter=\" \", skip_header=1)\n",
    "model_origin = [551600, 104500]"
   ]
  },
  {
   "cell_type": "markdown",
   "metadata": {},
   "source": [
    "**read mass1 coordinates**"
   ]
  },
  {
   "cell_type": "code",
   "execution_count": 30,
   "metadata": {
    "ExecuteTime": {
     "end_time": "2018-05-16T20:11:39.979886Z",
     "start_time": "2018-05-16T20:11:39.975087Z"
    }
   },
   "outputs": [],
   "source": [
    "# read mass1 coordinates\n",
    "section_coord = np.genfromtxt(\n",
    "    fname_mass1_coord, delimiter=\",\", skip_header=1)\n",
    "\n",
    "section_coord[:, 1] = section_coord[:, 1] - model_origin[0]\n",
    "section_coord[:, 2] = section_coord[:, 2] - model_origin[1]\n",
    "# subtract last mass1 location to get length for each segment\n",
    "mass1_length = section_coord[:, 4] - section_coord[-1, 4]"
   ]
  },
  {
   "cell_type": "markdown",
   "metadata": {},
   "source": [
    "**read output .h5 file**"
   ]
  },
  {
   "cell_type": "code",
   "execution_count": 31,
   "metadata": {
    "ExecuteTime": {
     "end_time": "2018-05-16T20:11:44.158908Z",
     "start_time": "2018-05-16T20:11:44.036786Z"
    }
   },
   "outputs": [],
   "source": [
    "input_h5 = h5.File(fname_pflotran_h5, \"r\")\n",
    "x_grids = list(input_h5[\"Coordinates\"]['X [m]'])\n",
    "y_grids = list(input_h5[\"Coordinates\"]['Y [m]'])\n",
    "z_grids = list(input_h5[\"Coordinates\"]['Z [m]'])\n",
    "input_h5.close()"
   ]
  },
  {
   "cell_type": "code",
   "execution_count": 32,
   "metadata": {
    "ExecuteTime": {
     "end_time": "2018-05-16T20:11:49.229854Z",
     "start_time": "2018-05-16T20:11:45.881760Z"
    }
   },
   "outputs": [],
   "source": [
    "dx = np.diff(x_grids)\n",
    "dy = np.diff(y_grids)\n",
    "dz = np.diff(z_grids)\n",
    "\n",
    "nx = len(dx)\n",
    "ny = len(dy)\n",
    "nz = len(dz)\n",
    "x = x_grids[0] + np.cumsum(dx) - 0.5 * dx[0]\n",
    "y = y_grids[0] + np.cumsum(dy) - 0.5 * dy[0]\n",
    "z = z_grids[0] + np.cumsum(dz) - 0.5 * dz[0]\n",
    "\n",
    "# store cell x, y, z--ids\n",
    "grids = np.asarray([(x, y, z) for z in range(nz)\n",
    "                    for y in range(ny) for x in range(nx)])\n",
    "\n",
    "# calculate cell face area (m2)\n",
    "west_area = dy[0] * dz[0]\n",
    "east_area = dy[0] * dz[0]\n",
    "south_area = dx[0] * dz[0]\n",
    "north_area = dx[0] * dz[0]\n",
    "top_area = dx[0] * dy[0]\n",
    "bottom_area = dx[0] * dy[0]"
   ]
  },
  {
   "cell_type": "markdown",
   "metadata": {},
   "source": [
    "**read material.h5 file**"
   ]
  },
  {
   "cell_type": "code",
   "execution_count": 33,
   "metadata": {
    "ExecuteTime": {
     "end_time": "2018-05-16T20:11:53.549884Z",
     "start_time": "2018-05-16T20:11:51.753775Z"
    }
   },
   "outputs": [],
   "source": [
    "material_h5 = h5.File(fname_material_h5, \"r\")\n",
    "\n",
    "# all_h5 = glob.glob(model_dir + \"pflotran*h5\")\n",
    "# all_h5 = np.sort(all_h5)\n",
    "\n",
    "# read river face information\n",
    "river_cells = []\n",
    "river_faces = []\n",
    "for i_region in list(material_h5['Regions'].keys()):\n",
    "    river_cells = np.append(river_cells, np.asarray(\n",
    "        list(material_h5[\"Regions\"][i_region][\"Cell Ids\"])))\n",
    "    river_faces = np.append(river_faces, np.asarray(\n",
    "        list(material_h5[\"Regions\"][i_region][\"Face Ids\"])))\n",
    "river_cells = river_cells.astype(int)\n",
    "river_cells = river_cells - 1  # need minus 1 as python index started with 0\n",
    "river_faces = river_faces.astype(int)\n",
    "\n",
    "unique_river_cells = np.unique(river_cells)\n",
    "\n",
    "material_h5.close()"
   ]
  },
  {
   "cell_type": "markdown",
   "metadata": {},
   "source": [
    "**import river geometry**"
   ]
  },
  {
   "cell_type": "code",
   "execution_count": 34,
   "metadata": {},
   "outputs": [],
   "source": [
    "river_geo = pd.read_csv(fname_river_geo)\n",
    "\n",
    "river_geo['x'] = (river_geo['x'] - model_origin[0])/1000\n",
    "river_geo['y'] = (river_geo['y'] - model_origin[1])/1000\n",
    "\n",
    "polygon = Polygon(river_geo.loc[:, [\"x\", \"y\"]].values)\n",
    "river_x,river_y = polygon.exterior.xy"
   ]
  },
  {
   "cell_type": "markdown",
   "metadata": {},
   "source": [
    "**find river cells not on the model boundary (no flux on boundary cell)**"
   ]
  },
  {
   "cell_type": "code",
   "execution_count": 35,
   "metadata": {
    "ExecuteTime": {
     "end_time": "2018-05-16T20:11:55.074323Z",
     "start_time": "2018-05-16T20:11:55.061273Z"
    }
   },
   "outputs": [],
   "source": [
    "temp_unique_river_cells = unique_river_cells\n",
    "unique_river_cells = []\n",
    "\n",
    "# store river cells that are not on the model domain boundaries (no face flux calculated at the boundary)\n",
    "for i_cell in temp_unique_river_cells:\n",
    "    if (grids[i_cell, 0] > 0 and grids[i_cell, 0] < (nx - 1) and\n",
    "            grids[i_cell, 1] > 0 and grids[i_cell, 1] < (ny - 1) and\n",
    "            grids[i_cell, 2] > 0 and grids[i_cell, 2] < (nz - 1)):\n",
    "        unique_river_cells.append(i_cell)\n",
    "        \n",
    "n_unique = len(unique_river_cells)\n",
    "unique_index = [grids[i, :] for i in unique_river_cells]\n",
    "\n",
    "unique_xy = [grids[i, 0:2] for i in unique_river_cells]\n",
    "unique_xy = np.asarray(unique_xy)"
   ]
  },
  {
   "cell_type": "markdown",
   "metadata": {},
   "source": [
    "**find faces of a cell that are \"river face\" and assign 1 to them**"
   ]
  },
  {
   "cell_type": "code",
   "execution_count": 36,
   "metadata": {
    "ExecuteTime": {
     "end_time": "2018-05-16T20:11:56.640004Z",
     "start_time": "2018-05-16T20:11:56.580609Z"
    }
   },
   "outputs": [],
   "source": [
    "river_face_array = np.array([], dtype=np.float).reshape(0, 6) # total six faces of a cell\n",
    "for i_cell in unique_river_cells:\n",
    "    temp_face_vector = np.array([0] * 6).reshape(1, 6)\n",
    "    temp_faces = river_faces[river_cells == i_cell]\n",
    "    for iface in list(map(int, temp_faces)):\n",
    "        temp_face_vector[0, iface - 1] = 1 # assign 1 to river face\n",
    "    river_face_array = np.concatenate(\n",
    "        (river_face_array, temp_face_vector), axis=0)"
   ]
  },
  {
   "cell_type": "markdown",
   "metadata": {},
   "source": [
    "# calculate flux for the whole reach"
   ]
  },
  {
   "cell_type": "markdown",
   "metadata": {},
   "source": [
    "`out_flux` has dimension of (len(times), len(unique_river_cells))"
   ]
  },
  {
   "cell_type": "code",
   "execution_count": 37,
   "metadata": {
    "ExecuteTime": {
     "end_time": "2018-05-03T22:34:31.805125Z",
     "start_time": "2018-05-03T21:58:57.794850Z"
    },
    "scrolled": true
   },
   "outputs": [
    {
     "name": "stdout",
     "output_type": "stream",
     "text": [
      "[datetime.datetime(2011, 1, 1, 0, 0)]\n",
      "[datetime.datetime(2011, 1, 6, 0, 0)]\n",
      "[datetime.datetime(2011, 1, 11, 0, 0)]\n",
      "[datetime.datetime(2011, 1, 16, 0, 0)]\n",
      "[datetime.datetime(2011, 1, 21, 0, 0)]\n",
      "[datetime.datetime(2011, 1, 26, 0, 0)]\n",
      "[datetime.datetime(2011, 1, 31, 0, 0)]\n",
      "[datetime.datetime(2011, 2, 5, 0, 0)]\n",
      "[datetime.datetime(2011, 2, 10, 0, 0)]\n",
      "[datetime.datetime(2011, 2, 15, 0, 0)]\n",
      "[datetime.datetime(2011, 2, 20, 0, 0)]\n",
      "[datetime.datetime(2011, 2, 25, 0, 0)]\n",
      "[datetime.datetime(2011, 3, 2, 0, 0)]\n",
      "[datetime.datetime(2011, 3, 7, 0, 0)]\n",
      "[datetime.datetime(2011, 3, 12, 0, 0)]\n",
      "[datetime.datetime(2011, 3, 17, 0, 0)]\n",
      "[datetime.datetime(2011, 3, 22, 0, 0)]\n",
      "[datetime.datetime(2011, 3, 27, 0, 0)]\n",
      "[datetime.datetime(2011, 4, 1, 0, 0)]\n",
      "[datetime.datetime(2011, 4, 6, 0, 0)]\n",
      "[datetime.datetime(2011, 4, 11, 0, 0)]\n",
      "[datetime.datetime(2011, 4, 16, 0, 0)]\n",
      "[datetime.datetime(2011, 4, 21, 0, 0)]\n",
      "[datetime.datetime(2011, 4, 26, 0, 0)]\n",
      "[datetime.datetime(2011, 5, 1, 0, 0)]\n",
      "[datetime.datetime(2011, 5, 6, 0, 0)]\n",
      "[datetime.datetime(2011, 5, 11, 0, 0)]\n",
      "[datetime.datetime(2011, 5, 16, 0, 0)]\n",
      "[datetime.datetime(2011, 5, 21, 0, 0)]\n",
      "[datetime.datetime(2011, 5, 26, 0, 0)]\n",
      "[datetime.datetime(2011, 5, 31, 0, 0)]\n",
      "[datetime.datetime(2011, 6, 5, 0, 0)]\n",
      "[datetime.datetime(2011, 6, 10, 0, 0)]\n",
      "[datetime.datetime(2011, 6, 15, 0, 0)]\n",
      "[datetime.datetime(2011, 6, 20, 0, 0)]\n",
      "[datetime.datetime(2011, 6, 25, 0, 0)]\n",
      "[datetime.datetime(2011, 6, 30, 0, 0)]\n",
      "[datetime.datetime(2011, 7, 5, 0, 0)]\n",
      "[datetime.datetime(2011, 7, 10, 0, 0)]\n",
      "[datetime.datetime(2011, 7, 15, 0, 0)]\n",
      "[datetime.datetime(2011, 7, 20, 0, 0)]\n",
      "[datetime.datetime(2011, 7, 25, 0, 0)]\n",
      "[datetime.datetime(2011, 7, 30, 0, 0)]\n",
      "[datetime.datetime(2011, 8, 4, 0, 0)]\n",
      "[datetime.datetime(2011, 8, 9, 0, 0)]\n",
      "[datetime.datetime(2011, 8, 14, 0, 0)]\n",
      "[datetime.datetime(2011, 8, 19, 0, 0)]\n",
      "[datetime.datetime(2011, 8, 24, 0, 0)]\n",
      "[datetime.datetime(2011, 8, 29, 0, 0)]\n",
      "[datetime.datetime(2011, 9, 3, 0, 0)]\n",
      "[datetime.datetime(2011, 9, 8, 0, 0)]\n",
      "[datetime.datetime(2011, 9, 13, 0, 0)]\n",
      "[datetime.datetime(2011, 9, 18, 0, 0)]\n",
      "[datetime.datetime(2011, 9, 23, 0, 0)]\n",
      "[datetime.datetime(2011, 9, 28, 0, 0)]\n",
      "[datetime.datetime(2011, 10, 3, 0, 0)]\n",
      "[datetime.datetime(2011, 10, 8, 0, 0)]\n",
      "[datetime.datetime(2011, 10, 13, 0, 0)]\n",
      "[datetime.datetime(2011, 10, 18, 0, 0)]\n",
      "[datetime.datetime(2011, 10, 23, 0, 0)]\n",
      "[datetime.datetime(2011, 10, 28, 0, 0)]\n",
      "[datetime.datetime(2011, 11, 2, 0, 0)]\n",
      "[datetime.datetime(2011, 11, 7, 0, 0)]\n",
      "[datetime.datetime(2011, 11, 12, 0, 0)]\n",
      "[datetime.datetime(2011, 11, 17, 0, 0)]\n",
      "[datetime.datetime(2011, 11, 22, 0, 0)]\n",
      "[datetime.datetime(2011, 11, 27, 0, 0)]\n",
      "[datetime.datetime(2011, 12, 2, 0, 0)]\n",
      "[datetime.datetime(2011, 12, 7, 0, 0)]\n",
      "[datetime.datetime(2011, 12, 12, 0, 0)]\n",
      "[datetime.datetime(2011, 12, 17, 0, 0)]\n",
      "[datetime.datetime(2011, 12, 22, 0, 0)]\n",
      "[datetime.datetime(2011, 12, 27, 0, 0)]\n",
      "[datetime.datetime(2012, 1, 1, 0, 0)]\n",
      "[datetime.datetime(2012, 1, 6, 0, 0)]\n",
      "[datetime.datetime(2012, 1, 11, 0, 0)]\n",
      "[datetime.datetime(2012, 1, 16, 0, 0)]\n",
      "[datetime.datetime(2012, 1, 21, 0, 0)]\n",
      "[datetime.datetime(2012, 1, 26, 0, 0)]\n",
      "[datetime.datetime(2012, 1, 31, 0, 0)]\n",
      "[datetime.datetime(2012, 2, 5, 0, 0)]\n",
      "[datetime.datetime(2012, 2, 10, 0, 0)]\n",
      "[datetime.datetime(2012, 2, 15, 0, 0)]\n",
      "[datetime.datetime(2012, 2, 20, 0, 0)]\n",
      "[datetime.datetime(2012, 2, 25, 0, 0)]\n",
      "[datetime.datetime(2012, 3, 1, 0, 0)]\n",
      "[datetime.datetime(2012, 3, 6, 0, 0)]\n",
      "[datetime.datetime(2012, 3, 11, 0, 0)]\n",
      "[datetime.datetime(2012, 3, 16, 0, 0)]\n",
      "[datetime.datetime(2012, 3, 21, 0, 0)]\n",
      "[datetime.datetime(2012, 3, 26, 0, 0)]\n",
      "[datetime.datetime(2012, 3, 31, 0, 0)]\n",
      "[datetime.datetime(2012, 4, 5, 0, 0)]\n",
      "[datetime.datetime(2012, 4, 10, 0, 0)]\n",
      "[datetime.datetime(2012, 4, 15, 0, 0)]\n",
      "[datetime.datetime(2012, 4, 20, 0, 0)]\n",
      "[datetime.datetime(2012, 4, 25, 0, 0)]\n",
      "[datetime.datetime(2012, 4, 30, 0, 0)]\n",
      "[datetime.datetime(2012, 5, 5, 0, 0)]\n",
      "[datetime.datetime(2012, 5, 10, 0, 0)]\n",
      "[datetime.datetime(2012, 5, 15, 0, 0)]\n",
      "[datetime.datetime(2012, 5, 20, 0, 0)]\n",
      "[datetime.datetime(2012, 5, 25, 0, 0)]\n",
      "[datetime.datetime(2012, 5, 30, 0, 0)]\n",
      "[datetime.datetime(2012, 6, 4, 0, 0)]\n",
      "[datetime.datetime(2012, 6, 9, 0, 0)]\n",
      "[datetime.datetime(2012, 6, 14, 0, 0)]\n",
      "[datetime.datetime(2012, 6, 19, 0, 0)]\n",
      "[datetime.datetime(2012, 6, 24, 0, 0)]\n",
      "[datetime.datetime(2012, 6, 29, 0, 0)]\n",
      "[datetime.datetime(2012, 7, 4, 0, 0)]\n",
      "[datetime.datetime(2012, 7, 9, 0, 0)]\n",
      "[datetime.datetime(2012, 7, 14, 0, 0)]\n",
      "[datetime.datetime(2012, 7, 19, 0, 0)]\n",
      "[datetime.datetime(2012, 7, 24, 0, 0)]\n",
      "[datetime.datetime(2012, 7, 29, 0, 0)]\n",
      "[datetime.datetime(2012, 8, 3, 0, 0)]\n",
      "[datetime.datetime(2012, 8, 8, 0, 0)]\n",
      "[datetime.datetime(2012, 8, 13, 0, 0)]\n",
      "[datetime.datetime(2012, 8, 18, 0, 0)]\n",
      "[datetime.datetime(2012, 8, 23, 0, 0)]\n",
      "[datetime.datetime(2012, 8, 28, 0, 0)]\n",
      "[datetime.datetime(2012, 9, 2, 0, 0)]\n",
      "[datetime.datetime(2012, 9, 7, 0, 0)]\n",
      "[datetime.datetime(2012, 9, 12, 0, 0)]\n",
      "[datetime.datetime(2012, 9, 17, 0, 0)]\n",
      "[datetime.datetime(2012, 9, 22, 0, 0)]\n",
      "[datetime.datetime(2012, 9, 27, 0, 0)]\n",
      "[datetime.datetime(2012, 10, 2, 0, 0)]\n",
      "[datetime.datetime(2012, 10, 7, 0, 0)]\n",
      "[datetime.datetime(2012, 10, 12, 0, 0)]\n",
      "[datetime.datetime(2012, 10, 17, 0, 0)]\n",
      "[datetime.datetime(2012, 10, 22, 0, 0)]\n",
      "[datetime.datetime(2012, 10, 27, 0, 0)]\n",
      "[datetime.datetime(2012, 11, 1, 0, 0)]\n",
      "[datetime.datetime(2012, 11, 6, 0, 0)]\n",
      "[datetime.datetime(2012, 11, 11, 0, 0)]\n",
      "[datetime.datetime(2012, 11, 16, 0, 0)]\n",
      "[datetime.datetime(2012, 11, 21, 0, 0)]\n",
      "[datetime.datetime(2012, 11, 26, 0, 0)]\n",
      "[datetime.datetime(2012, 12, 1, 0, 0)]\n",
      "[datetime.datetime(2012, 12, 6, 0, 0)]\n",
      "[datetime.datetime(2012, 12, 11, 0, 0)]\n",
      "[datetime.datetime(2012, 12, 16, 0, 0)]\n",
      "[datetime.datetime(2012, 12, 21, 0, 0)]\n",
      "[datetime.datetime(2012, 12, 26, 0, 0)]\n",
      "[datetime.datetime(2012, 12, 31, 0, 0)]\n",
      "[datetime.datetime(2013, 1, 5, 0, 0)]\n",
      "[datetime.datetime(2013, 1, 10, 0, 0)]\n",
      "[datetime.datetime(2013, 1, 15, 0, 0)]\n",
      "[datetime.datetime(2013, 1, 20, 0, 0)]\n",
      "[datetime.datetime(2013, 1, 25, 0, 0)]\n",
      "[datetime.datetime(2013, 1, 30, 0, 0)]\n",
      "[datetime.datetime(2013, 2, 4, 0, 0)]\n",
      "[datetime.datetime(2013, 2, 9, 0, 0)]\n",
      "[datetime.datetime(2013, 2, 14, 0, 0)]\n",
      "[datetime.datetime(2013, 2, 19, 0, 0)]\n",
      "[datetime.datetime(2013, 2, 24, 0, 0)]\n",
      "[datetime.datetime(2013, 3, 1, 0, 0)]\n",
      "[datetime.datetime(2013, 3, 6, 0, 0)]\n",
      "[datetime.datetime(2013, 3, 11, 0, 0)]\n",
      "[datetime.datetime(2013, 3, 16, 0, 0)]\n",
      "[datetime.datetime(2013, 3, 21, 0, 0)]\n",
      "[datetime.datetime(2013, 3, 26, 0, 0)]\n",
      "[datetime.datetime(2013, 3, 31, 0, 0)]\n",
      "[datetime.datetime(2013, 4, 5, 0, 0)]\n",
      "[datetime.datetime(2013, 4, 10, 0, 0)]\n",
      "[datetime.datetime(2013, 4, 15, 0, 0)]\n",
      "[datetime.datetime(2013, 4, 20, 0, 0)]\n",
      "[datetime.datetime(2013, 4, 25, 0, 0)]\n",
      "[datetime.datetime(2013, 4, 30, 0, 0)]\n",
      "[datetime.datetime(2013, 5, 5, 0, 0)]\n",
      "[datetime.datetime(2013, 5, 10, 0, 0)]\n",
      "[datetime.datetime(2013, 5, 15, 0, 0)]\n",
      "[datetime.datetime(2013, 5, 20, 0, 0)]\n",
      "[datetime.datetime(2013, 5, 25, 0, 0)]\n",
      "[datetime.datetime(2013, 5, 30, 0, 0)]\n",
      "[datetime.datetime(2013, 6, 4, 0, 0)]\n",
      "[datetime.datetime(2013, 6, 9, 0, 0)]\n",
      "[datetime.datetime(2013, 6, 14, 0, 0)]\n",
      "[datetime.datetime(2013, 6, 19, 0, 0)]\n",
      "[datetime.datetime(2013, 6, 24, 0, 0)]\n",
      "[datetime.datetime(2013, 6, 29, 0, 0)]\n",
      "[datetime.datetime(2013, 7, 4, 0, 0)]\n",
      "[datetime.datetime(2013, 7, 9, 0, 0)]\n",
      "[datetime.datetime(2013, 7, 14, 0, 0)]\n",
      "[datetime.datetime(2013, 7, 19, 0, 0)]\n",
      "[datetime.datetime(2013, 7, 24, 0, 0)]\n",
      "[datetime.datetime(2013, 7, 29, 0, 0)]\n",
      "[datetime.datetime(2013, 8, 3, 0, 0)]\n",
      "[datetime.datetime(2013, 8, 8, 0, 0)]\n",
      "[datetime.datetime(2013, 8, 13, 0, 0)]\n",
      "[datetime.datetime(2013, 8, 18, 0, 0)]\n",
      "[datetime.datetime(2013, 8, 23, 0, 0)]\n",
      "[datetime.datetime(2013, 8, 28, 0, 0)]\n",
      "[datetime.datetime(2013, 9, 2, 0, 0)]\n",
      "[datetime.datetime(2013, 9, 7, 0, 0)]\n",
      "[datetime.datetime(2013, 9, 12, 0, 0)]\n",
      "[datetime.datetime(2013, 9, 17, 0, 0)]\n",
      "[datetime.datetime(2013, 9, 22, 0, 0)]\n",
      "[datetime.datetime(2013, 9, 27, 0, 0)]\n",
      "[datetime.datetime(2013, 10, 2, 0, 0)]\n",
      "[datetime.datetime(2013, 10, 7, 0, 0)]\n",
      "[datetime.datetime(2013, 10, 12, 0, 0)]\n",
      "[datetime.datetime(2013, 10, 17, 0, 0)]\n",
      "[datetime.datetime(2013, 10, 22, 0, 0)]\n",
      "[datetime.datetime(2013, 10, 27, 0, 0)]\n",
      "[datetime.datetime(2013, 11, 1, 0, 0)]\n",
      "[datetime.datetime(2013, 11, 6, 0, 0)]\n",
      "[datetime.datetime(2013, 11, 11, 0, 0)]\n",
      "[datetime.datetime(2013, 11, 16, 0, 0)]\n",
      "[datetime.datetime(2013, 11, 21, 0, 0)]\n",
      "[datetime.datetime(2013, 11, 26, 0, 0)]\n",
      "[datetime.datetime(2013, 12, 1, 0, 0)]\n",
      "[datetime.datetime(2013, 12, 6, 0, 0)]\n",
      "[datetime.datetime(2013, 12, 11, 0, 0)]\n",
      "[datetime.datetime(2013, 12, 16, 0, 0)]\n",
      "[datetime.datetime(2013, 12, 21, 0, 0)]\n",
      "[datetime.datetime(2013, 12, 26, 0, 0)]\n",
      "[datetime.datetime(2013, 12, 31, 0, 0)]\n",
      "[datetime.datetime(2014, 1, 5, 0, 0)]\n",
      "[datetime.datetime(2014, 1, 10, 0, 0)]\n",
      "[datetime.datetime(2014, 1, 15, 0, 0)]\n",
      "[datetime.datetime(2014, 1, 20, 0, 0)]\n",
      "[datetime.datetime(2014, 1, 25, 0, 0)]\n",
      "[datetime.datetime(2014, 1, 30, 0, 0)]\n",
      "[datetime.datetime(2014, 2, 4, 0, 0)]\n",
      "[datetime.datetime(2014, 2, 9, 0, 0)]\n",
      "[datetime.datetime(2014, 2, 14, 0, 0)]\n",
      "[datetime.datetime(2014, 2, 19, 0, 0)]\n",
      "[datetime.datetime(2014, 2, 24, 0, 0)]\n",
      "[datetime.datetime(2014, 3, 1, 0, 0)]\n",
      "[datetime.datetime(2014, 3, 6, 0, 0)]\n",
      "[datetime.datetime(2014, 3, 11, 0, 0)]\n",
      "[datetime.datetime(2014, 3, 16, 0, 0)]\n",
      "[datetime.datetime(2014, 3, 21, 0, 0)]\n",
      "[datetime.datetime(2014, 3, 26, 0, 0)]\n",
      "[datetime.datetime(2014, 3, 31, 0, 0)]\n",
      "[datetime.datetime(2014, 4, 5, 0, 0)]\n",
      "[datetime.datetime(2014, 4, 10, 0, 0)]\n",
      "[datetime.datetime(2014, 4, 15, 0, 0)]\n",
      "[datetime.datetime(2014, 4, 20, 0, 0)]\n",
      "[datetime.datetime(2014, 4, 25, 0, 0)]\n",
      "[datetime.datetime(2014, 4, 30, 0, 0)]\n",
      "[datetime.datetime(2014, 5, 5, 0, 0)]\n",
      "[datetime.datetime(2014, 5, 10, 0, 0)]\n",
      "[datetime.datetime(2014, 5, 15, 0, 0)]\n",
      "[datetime.datetime(2014, 5, 20, 0, 0)]\n",
      "[datetime.datetime(2014, 5, 25, 0, 0)]\n",
      "[datetime.datetime(2014, 5, 30, 0, 0)]\n",
      "[datetime.datetime(2014, 6, 4, 0, 0)]\n",
      "[datetime.datetime(2014, 6, 9, 0, 0)]\n",
      "[datetime.datetime(2014, 6, 14, 0, 0)]\n",
      "[datetime.datetime(2014, 6, 19, 0, 0)]\n",
      "[datetime.datetime(2014, 6, 24, 0, 0)]\n",
      "[datetime.datetime(2014, 6, 29, 0, 0)]\n",
      "[datetime.datetime(2014, 7, 4, 0, 0)]\n",
      "[datetime.datetime(2014, 7, 9, 0, 0)]\n",
      "[datetime.datetime(2014, 7, 14, 0, 0)]\n",
      "[datetime.datetime(2014, 7, 19, 0, 0)]\n",
      "[datetime.datetime(2014, 7, 24, 0, 0)]\n",
      "[datetime.datetime(2014, 7, 29, 0, 0)]\n",
      "[datetime.datetime(2014, 8, 3, 0, 0)]\n",
      "[datetime.datetime(2014, 8, 8, 0, 0)]\n",
      "[datetime.datetime(2014, 8, 13, 0, 0)]\n",
      "[datetime.datetime(2014, 8, 18, 0, 0)]\n",
      "[datetime.datetime(2014, 8, 23, 0, 0)]\n",
      "[datetime.datetime(2014, 8, 28, 0, 0)]\n",
      "[datetime.datetime(2014, 9, 2, 0, 0)]\n",
      "[datetime.datetime(2014, 9, 7, 0, 0)]\n",
      "[datetime.datetime(2014, 9, 12, 0, 0)]\n",
      "[datetime.datetime(2014, 9, 17, 0, 0)]\n",
      "[datetime.datetime(2014, 9, 22, 0, 0)]\n",
      "[datetime.datetime(2014, 9, 27, 0, 0)]\n",
      "[datetime.datetime(2014, 10, 2, 0, 0)]\n",
      "[datetime.datetime(2014, 10, 7, 0, 0)]\n",
      "[datetime.datetime(2014, 10, 12, 0, 0)]\n",
      "[datetime.datetime(2014, 10, 17, 0, 0)]\n",
      "[datetime.datetime(2014, 10, 22, 0, 0)]\n",
      "[datetime.datetime(2014, 10, 27, 0, 0)]\n",
      "[datetime.datetime(2014, 11, 1, 0, 0)]\n",
      "[datetime.datetime(2014, 11, 6, 0, 0)]\n",
      "[datetime.datetime(2014, 11, 11, 0, 0)]\n",
      "[datetime.datetime(2014, 11, 16, 0, 0)]\n",
      "[datetime.datetime(2014, 11, 21, 0, 0)]\n",
      "[datetime.datetime(2014, 11, 26, 0, 0)]\n",
      "[datetime.datetime(2014, 12, 1, 0, 0)]\n",
      "[datetime.datetime(2014, 12, 6, 0, 0)]\n",
      "[datetime.datetime(2014, 12, 11, 0, 0)]\n",
      "[datetime.datetime(2014, 12, 16, 0, 0)]\n",
      "[datetime.datetime(2014, 12, 21, 0, 0)]\n",
      "[datetime.datetime(2014, 12, 26, 0, 0)]\n",
      "[datetime.datetime(2014, 12, 31, 0, 0)]\n",
      "[datetime.datetime(2015, 1, 5, 0, 0)]\n",
      "[datetime.datetime(2015, 1, 10, 0, 0)]\n",
      "[datetime.datetime(2015, 1, 15, 0, 0)]\n",
      "[datetime.datetime(2015, 1, 20, 0, 0)]\n",
      "[datetime.datetime(2015, 1, 25, 0, 0)]\n",
      "[datetime.datetime(2015, 1, 30, 0, 0)]\n",
      "[datetime.datetime(2015, 2, 4, 0, 0)]\n",
      "[datetime.datetime(2015, 2, 9, 0, 0)]\n",
      "[datetime.datetime(2015, 2, 14, 0, 0)]\n",
      "[datetime.datetime(2015, 2, 19, 0, 0)]\n",
      "[datetime.datetime(2015, 2, 24, 0, 0)]\n",
      "[datetime.datetime(2015, 3, 1, 0, 0)]\n",
      "[datetime.datetime(2015, 3, 6, 0, 0)]\n",
      "[datetime.datetime(2015, 3, 11, 0, 0)]\n",
      "[datetime.datetime(2015, 3, 16, 0, 0)]\n",
      "[datetime.datetime(2015, 3, 21, 0, 0)]\n",
      "[datetime.datetime(2015, 3, 26, 0, 0)]\n",
      "[datetime.datetime(2015, 3, 31, 0, 0)]\n",
      "[datetime.datetime(2015, 4, 5, 0, 0)]\n",
      "[datetime.datetime(2015, 4, 10, 0, 0)]\n",
      "[datetime.datetime(2015, 4, 15, 0, 0)]\n",
      "[datetime.datetime(2015, 4, 20, 0, 0)]\n",
      "[datetime.datetime(2015, 4, 25, 0, 0)]\n",
      "[datetime.datetime(2015, 4, 30, 0, 0)]\n",
      "[datetime.datetime(2015, 5, 5, 0, 0)]\n",
      "[datetime.datetime(2015, 5, 10, 0, 0)]\n",
      "[datetime.datetime(2015, 5, 15, 0, 0)]\n",
      "[datetime.datetime(2015, 5, 20, 0, 0)]\n",
      "[datetime.datetime(2015, 5, 25, 0, 0)]\n",
      "[datetime.datetime(2015, 5, 30, 0, 0)]\n",
      "[datetime.datetime(2015, 6, 4, 0, 0)]\n",
      "[datetime.datetime(2015, 6, 9, 0, 0)]\n",
      "[datetime.datetime(2015, 6, 14, 0, 0)]\n",
      "[datetime.datetime(2015, 6, 19, 0, 0)]\n",
      "[datetime.datetime(2015, 6, 24, 0, 0)]\n",
      "[datetime.datetime(2015, 6, 29, 0, 0)]\n",
      "[datetime.datetime(2015, 7, 4, 0, 0)]\n",
      "[datetime.datetime(2015, 7, 9, 0, 0)]\n",
      "[datetime.datetime(2015, 7, 14, 0, 0)]\n",
      "[datetime.datetime(2015, 7, 19, 0, 0)]\n",
      "[datetime.datetime(2015, 7, 24, 0, 0)]\n",
      "[datetime.datetime(2015, 7, 29, 0, 0)]\n",
      "[datetime.datetime(2015, 8, 3, 0, 0)]\n",
      "[datetime.datetime(2015, 8, 8, 0, 0)]\n",
      "[datetime.datetime(2015, 8, 13, 0, 0)]\n",
      "[datetime.datetime(2015, 8, 18, 0, 0)]\n",
      "[datetime.datetime(2015, 8, 23, 0, 0)]\n",
      "[datetime.datetime(2015, 8, 28, 0, 0)]\n",
      "[datetime.datetime(2015, 9, 2, 0, 0)]\n",
      "[datetime.datetime(2015, 9, 7, 0, 0)]\n",
      "[datetime.datetime(2015, 9, 12, 0, 0)]\n",
      "[datetime.datetime(2015, 9, 17, 0, 0)]\n",
      "[datetime.datetime(2015, 9, 22, 0, 0)]\n",
      "[datetime.datetime(2015, 9, 27, 0, 0)]\n",
      "[datetime.datetime(2015, 10, 2, 0, 0)]\n",
      "[datetime.datetime(2015, 10, 7, 0, 0)]\n",
      "[datetime.datetime(2015, 10, 12, 0, 0)]\n",
      "[datetime.datetime(2015, 10, 17, 0, 0)]\n",
      "[datetime.datetime(2015, 10, 22, 0, 0)]\n",
      "[datetime.datetime(2015, 10, 27, 0, 0)]\n",
      "[datetime.datetime(2015, 11, 1, 0, 0)]\n",
      "[datetime.datetime(2015, 11, 6, 0, 0)]\n",
      "[datetime.datetime(2015, 11, 11, 0, 0)]\n",
      "[datetime.datetime(2015, 11, 16, 0, 0)]\n",
      "[datetime.datetime(2015, 11, 21, 0, 0)]\n",
      "[datetime.datetime(2015, 11, 26, 0, 0)]\n",
      "[datetime.datetime(2015, 12, 1, 0, 0)]\n",
      "[datetime.datetime(2015, 12, 6, 0, 0)]\n",
      "[datetime.datetime(2015, 12, 11, 0, 0)]\n",
      "[datetime.datetime(2015, 12, 16, 0, 0)]\n",
      "[datetime.datetime(2015, 12, 21, 0, 0)]\n",
      "[datetime.datetime(2015, 12, 26, 0, 0)]\n",
      "[datetime.datetime(2015, 12, 31, 0, 0)]\n"
     ]
    }
   ],
   "source": [
    "out_flux = {}\n",
    "# all_h5 = glob.glob(model_dir + \"pflotran*h5\")\n",
    "# for i_h5 in all_h5:\n",
    "#     print(i_h5)\n",
    "h5file = h5.File(fname_pflotran_h5, \"r\")\n",
    "groups = list(h5file.keys())\n",
    "time_index = [i for i, s in enumerate(groups) if \"Time:\" in s]\n",
    "times = [groups[i] for i in time_index]\n",
    "\n",
    "for itime in times[::]:\n",
    "#     print(itime)\n",
    "\n",
    "    real_itime = batch_delta_to_time(date_origin, [float(itime[7:18])], \"%Y-%m-%d %H:%M:%S\", \"hours\")\n",
    "    real_itime = [datetime.strptime(x, \"%Y-%m-%d %H:%M:%S\") for x in real_itime]\n",
    "    print(real_itime)\n",
    "    # get dict of all flux\n",
    "    x_darcy = np.asarray(list(h5file[itime][\"Liquid X-Flux Velocities\"])) # m/h?\n",
    "    y_darcy = np.asarray(list(h5file[itime][\"Liquid Y-Flux Velocities\"]))\n",
    "    z_darcy = np.asarray(list(h5file[itime][\"Liquid Z-Flux Velocities\"]))\n",
    "\n",
    "    # get flux on all cell face in river bed cells, i[0]--cell id in x direction; \n",
    "    # i[1]--cell id in y direction; i[2]--cell id in z direction\n",
    "    west_flux = [x_darcy[i[0] - 1, i[1], i[2]] for i in unique_index] # why - 1 ? west flux is from cell before current one (i.e on the left handside)\n",
    "    east_flux = [x_darcy[i[0], i[1], i[2]] for i in unique_index]\n",
    "    south_flux = [y_darcy[i[0], i[1] - 1, i[2]] for i in unique_index]\n",
    "    north_flux = [y_darcy[i[0], i[1], i[2]] for i in unique_index]\n",
    "    bottom_flux = [z_darcy[i[0], i[1], i[2] - 1] for i in unique_index]\n",
    "    top_flux = [z_darcy[i[0], i[1], i[2]] for i in unique_index]\n",
    "\n",
    "    # get volumeric flux--m3/h\n",
    "    west_flux = [x * west_area for x in west_flux]\n",
    "    east_flux = [x * east_area for x in east_flux]\n",
    "    south_flux = [x * south_area for x in south_flux]\n",
    "    north_flux = [x * north_area for x in north_flux]\n",
    "    bottom_flux = [x * bottom_area for x in bottom_flux]\n",
    "    top_flux = [x * top_area for x in top_flux]\n",
    "\n",
    "    # get flux on river face of river cells, river_face_array contains 0 and 1\n",
    "    river_face_flux = river_face_array * np.column_stack(\n",
    "        (west_flux, east_flux, south_flux,\n",
    "         north_flux, bottom_flux, top_flux))\n",
    "\n",
    "    # combine x,y,z directions to get outflow flux = west_flux [x[0]] + east_flux + south_flux + north_flux + bottom_flux + top_flux\n",
    "    out_flux[itime] = [(-x[0] + x[1] - x[2] + x[3] - x[4] + x[5])\n",
    "                       for x in river_face_flux]"
   ]
  },
  {
   "cell_type": "markdown",
   "metadata": {},
   "source": [
    "**store pickle file**"
   ]
  },
  {
   "cell_type": "code",
   "execution_count": 38,
   "metadata": {
    "ExecuteTime": {
     "end_time": "2018-05-03T22:34:31.805125Z",
     "start_time": "2018-05-03T21:58:57.794850Z"
    }
   },
   "outputs": [],
   "source": [
    "file = open(fname_out_flux, \"wb\")\n",
    "pickle.dump(out_flux, file)\n",
    "file.close()"
   ]
  },
  {
   "cell_type": "markdown",
   "metadata": {},
   "source": [
    "## calculate cumulative flux for each year"
   ]
  },
  {
   "cell_type": "code",
   "execution_count": 14,
   "metadata": {
    "ExecuteTime": {
     "end_time": "2018-05-03T22:36:38.972174Z",
     "start_time": "2018-05-03T22:36:38.404709Z"
    }
   },
   "outputs": [],
   "source": [
    "# load pre-processed file\n",
    "pickle_file = open(fname_out_flux, \"rb\")\n",
    "out_flux = pickle.load(pickle_file)"
   ]
  },
  {
   "cell_type": "code",
   "execution_count": 39,
   "metadata": {
    "ExecuteTime": {
     "end_time": "2018-05-03T22:36:38.972174Z",
     "start_time": "2018-05-03T22:36:38.404709Z"
    }
   },
   "outputs": [],
   "source": [
    "times = np.sort(list(out_flux.keys()))\n",
    "simu_time = np.sort([np.float(i[5:19]) for i in times]) "
   ]
  },
  {
   "cell_type": "code",
   "execution_count": 40,
   "metadata": {
    "ExecuteTime": {
     "end_time": "2018-05-03T22:37:03.584391Z",
     "start_time": "2018-05-03T22:37:03.575160Z"
    }
   },
   "outputs": [],
   "source": [
    "date_origin = datetime.strptime(\"2007-03-28 12:00:00\", \"%Y-%m-%d %H:%M:%S\")\n",
    "real_time = batch_delta_to_time(\n",
    "    date_origin, simu_time, \"%Y-%m-%d %H:%M:%S\", \"hours\")\n",
    "real_time = [datetime.strptime(x, \"%Y-%m-%d %H:%M:%S\") for x in real_time]\n",
    "\n",
    "time_ticks = [\n",
    "    \"2011-01-01 00:00:00\",\n",
    "    \"2012-01-01 00:00:00\",\n",
    "    \"2013-01-01 00:00:00\",\n",
    "    \"2014-01-01 00:00:00\",\n",
    "    \"2015-01-01 00:00:00\",\n",
    "    \"2016-01-01 00:00:00\"]\n",
    "time_ticks = [datetime.strptime(x, \"%Y-%m-%d %H:%M:%S\") for x in time_ticks]"
   ]
  },
  {
   "cell_type": "code",
   "execution_count": 41,
   "metadata": {},
   "outputs": [],
   "source": [
    "dt = np.diff(real_time).max()\n",
    "dt = dt.days*24 + dt.seconds/3600 # convert timedelta to hours"
   ]
  },
  {
   "cell_type": "code",
   "execution_count": 42,
   "metadata": {
    "ExecuteTime": {
     "end_time": "2018-05-03T22:44:12.838739Z",
     "start_time": "2018-05-03T22:44:12.670869Z"
    },
    "scrolled": false
   },
   "outputs": [
    {
     "name": "stdout",
     "output_type": "stream",
     "text": [
      "73\n",
      "74\n",
      "73\n",
      "73\n",
      "73\n"
     ]
    }
   ],
   "source": [
    "n_segment = len(time_ticks) - 1 # num of intervals\n",
    "sum_flow = np.array([0.] * n_segment)\n",
    "abs_flow = np.array([0.] * n_segment)\n",
    "out_flow = np.array([0.] * n_segment)\n",
    "in_flow = np.array([0.] * n_segment)\n",
    "\n",
    "for i_segment in range(n_segment)[:]:\n",
    "    select_index = []\n",
    "    for i_index in range(len(real_time)):\n",
    "        if (real_time[i_index] >= time_ticks[i_segment] and\n",
    "                real_time[i_index] < time_ticks[i_segment + 1]):\n",
    "            select_index.append(i_index)\n",
    "    for i_index in select_index:\n",
    "        temp_flux = np.asarray(out_flux[times[i_index]])\n",
    "        sum_flow[i_segment] = sum_flow[i_segment] + np.sum(temp_flux)\n",
    "        abs_flow[i_segment] = abs_flow[i_segment] + np.sum(np.abs(temp_flux))\n",
    "        out_flow[i_segment] = out_flow[i_segment] + \\\n",
    "            sum(temp_flux[temp_flux >= 0])\n",
    "        in_flow[i_segment] = in_flow[i_segment] + \\\n",
    "            sum(temp_flux[temp_flux <= 0])\n",
    "#     sum_flow[i_segment] = sum_flow[i_segment] / len(select_index)\n",
    "#     abs_flow[i_segment] = abs_flow[i_segment] / len(select_index)\n",
    "#     out_flow[i_segment] = out_flow[i_segment] / len(select_index)\n",
    "#     in_flow[i_segment] = in_flow[i_segment] / len(select_index)\n",
    "    sum_flow[i_segment] = sum_flow[i_segment] * dt\n",
    "    abs_flow[i_segment] = abs_flow[i_segment] * dt\n",
    "    out_flow[i_segment] = out_flow[i_segment] * dt\n",
    "    in_flow[i_segment] = in_flow[i_segment] * dt\n",
    "    print(len(select_index))"
   ]
  },
  {
   "cell_type": "markdown",
   "metadata": {},
   "source": [
    "`len(select_index)` = 365.25*24/dt (dt = 6h for example), this only works for a full year. If patial year (t <1 yr), the following method would overestimate the volume."
   ]
  },
  {
   "cell_type": "code",
   "execution_count": 55,
   "metadata": {
    "ExecuteTime": {
     "end_time": "2018-05-03T22:44:12.838739Z",
     "start_time": "2018-05-03T22:44:12.670869Z"
    }
   },
   "outputs": [],
   "source": [
    "# sum_flow = sum_flow * 365.25 * 24 # convert m3/h to m3/yr\n",
    "# abs_flow = abs_flow * 365.25 * 24\n",
    "# out_flow = out_flow * 365.25 * 24\n",
    "# in_flow = in_flow * 365.25 * 24"
   ]
  },
  {
   "cell_type": "code",
   "execution_count": 43,
   "metadata": {},
   "outputs": [],
   "source": [
    "flux_metrix = pd.DataFrame(data = {'net_flow' : sum_flow, 'abs_flow' : abs_flow, 'in_flow' : in_flow, 'out_flow' : out_flow })\n",
    "\n",
    "flux_metrix.to_csv(out_dir + 'face_flux/flux_metrix.csv')"
   ]
  },
  {
   "cell_type": "markdown",
   "metadata": {},
   "source": [
    "## import dam discharge"
   ]
  },
  {
   "cell_type": "code",
   "execution_count": 44,
   "metadata": {
    "ExecuteTime": {
     "end_time": "2018-05-03T22:36:56.934445Z",
     "start_time": "2018-05-03T22:36:56.539971Z"
    }
   },
   "outputs": [],
   "source": [
    "discharge_file = open(fname_usgs_gage, \"r\")\n",
    "discharge_data = discharge_file.readlines()\n",
    "discharge_data = [x.replace('\"', \"\") for x in discharge_data]\n",
    "discharge_data = [x.split(\",\") for x in discharge_data[1:]]\n",
    "discharge_data = [list(filter(None, x)) for x in discharge_data]\n",
    "discharge_data = np.asarray(discharge_data)\n",
    "discharge_time = [datetime.strptime(x, \"%Y-%m-%d\")\n",
    "                  for x in discharge_data[:, 3]]\n",
    "discharge_value = discharge_data[:, 4]  # .astype(float)"
   ]
  },
  {
   "cell_type": "code",
   "execution_count": 45,
   "metadata": {
    "ExecuteTime": {
     "end_time": "2018-05-03T22:44:26.665859Z",
     "start_time": "2018-05-03T22:44:26.635892Z"
    }
   },
   "outputs": [],
   "source": [
    "discharge_flow = np.array([0.] * n_segment)\n",
    "for i_segment in range(n_segment):\n",
    "    select_index = []\n",
    "    for i_index in range(len(discharge_time)):\n",
    "        if (discharge_time[i_index] >= time_ticks[i_segment] and\n",
    "                discharge_time[i_index] < time_ticks[i_segment + 1]):\n",
    "            select_index.append(i_index)\n",
    "    sum_discharge = sum(np.asarray([discharge_value[i]\n",
    "                                    for i in select_index]).astype(float))\n",
    "    sum_discharge = sum_discharge * 3600 * 24 * (0.3048**3) # convert ft3/s to m3/d, sum over a year\n",
    "    discharge_flow[i_segment] = sum_discharge"
   ]
  },
  {
   "cell_type": "markdown",
   "metadata": {},
   "source": [
    "## plot absolute exchange and net exchange "
   ]
  },
  {
   "cell_type": "code",
   "execution_count": 46,
   "metadata": {
    "ExecuteTime": {
     "end_time": "2018-05-03T22:44:34.147832Z",
     "start_time": "2018-05-03T22:44:33.491741Z"
    },
    "scrolled": true
   },
   "outputs": [
    {
     "data": {
      "image/png": "[encoded data removed]",
      "text/plain": [
       "<matplotlib.figure.Figure at 0x2b523b954b00>"
      ]
     },
     "metadata": {},
     "output_type": "display_data"
    }
   ],
   "source": [
    "%matplotlib inline\n",
    "start_year = 2011\n",
    "# fig_name = fig_face_flux\n",
    "gs = gridspec.GridSpec(1, 5)\n",
    "fig = plt.figure()\n",
    "\n",
    "ax0 = fig.add_subplot(gs[0, 0])\n",
    "ax0.bar(start_year + np.arange(n_segment), discharge_flow, color=\"black\")\n",
    "ax0.set_ylim([0, 1.5e11])\n",
    "ax0.set_xlabel('Time (year)')\n",
    "ax0.set_ylabel('River Discharge ($m^3$/year)')\n",
    "ax0.set_title(\"(a) Priest Rapid Dam Discharge\", y=1.05)\n",
    "\n",
    "ax1 = fig.add_subplot(gs[0, 1])\n",
    "ax1.bar(start_year + np.arange(n_segment), out_flow, color=\"red\")\n",
    "ax1.set_ylim([0, 8e8])\n",
    "ax1.set_xlabel('Time (year)')\n",
    "ax1.set_ylabel('Exchange flux ($m^3$/year)')\n",
    "ax1.set_title(\"(b) River Gaining Volume\", y=1.05)\n",
    "\n",
    "ax2 = fig.add_subplot(gs[0, 2])\n",
    "ax2.bar(start_year + np.arange(n_segment), -in_flow, color=\"blue\")\n",
    "ax2.set_ylim([0, 8e8])\n",
    "ax2.set_xlabel('Time (year)')\n",
    "ax2.set_ylabel('Exchange flux ($m^3$/year)')\n",
    "ax2.set_title(\"(c) River Losing Volume\", y=1.05)\n",
    "\n",
    "ax3 = fig.add_subplot(gs[0, 3])\n",
    "ax3.bar(start_year + np.arange(n_segment), sum_flow, color=\"purple\")\n",
    "ax3.set_ylim([-1e7, 1e8])\n",
    "ax3.set_xlabel('Time (year)')\n",
    "ax3.set_ylabel('Exchange flux ($m^3$/year)')\n",
    "ax3.set_title(\"(d) River Net Exchange Volume\", y=1.05)\n",
    "\n",
    "ax4 = fig.add_subplot(gs[0, 4])\n",
    "ax4.bar(start_year + np.arange(n_segment), abs_flow, color=\"brown\")\n",
    "ax4.set_ylim([0, 8e8])\n",
    "ax4.set_xlabel('Time (year)')\n",
    "ax4.set_ylabel('Exchange flux ($m^3$/year)')\n",
    "ax4.set_title(\"(e) Abosulte Exchange Volume\", y=1.05)\n",
    "\n",
    "fig.tight_layout()\n",
    "fig.subplots_adjust(left=0.1,\n",
    "                    right=0.95,\n",
    "                    bottom=0.07,\n",
    "                    top=0.85,\n",
    "                    wspace=0.30,\n",
    "                    hspace=0.38\n",
    "                    )\n",
    "fig.set_size_inches(20, 3.2)"
   ]
  },
  {
   "cell_type": "code",
   "execution_count": 95,
   "metadata": {
    "ExecuteTime": {
     "end_time": "2018-05-03T22:45:17.376364Z",
     "start_time": "2018-05-03T22:45:14.486542Z"
    }
   },
   "outputs": [],
   "source": [
    "fig.savefig(fig_face_flux, dpi=300, transparent=False)\n",
    "plt.close(fig)"
   ]
  },
  {
   "cell_type": "markdown",
   "metadata": {},
   "source": [
    "## plot face flux snapshot"
   ]
  },
  {
   "cell_type": "code",
   "execution_count": 28,
   "metadata": {
    "ExecuteTime": {
     "end_time": "2018-05-16T20:04:16.295622Z",
     "start_time": "2018-05-16T20:04:15.662577Z"
    }
   },
   "outputs": [],
   "source": [
    "# load pre-processed file\n",
    "with open(fname_out_flux, \"rb\") as f:\n",
    "    out_flux = pickle.load(f)\n",
    "# times = np.sort(list(out_flux.keys()))\n",
    "# simu_time = np.sort([np.float(i[5:19]) for i in times])  ## why i[5:19] ??"
   ]
  },
  {
   "cell_type": "code",
   "execution_count": 31,
   "metadata": {
    "ExecuteTime": {
     "end_time": "2018-05-16T20:04:41.192118Z",
     "start_time": "2018-05-16T20:04:41.188952Z"
    }
   },
   "outputs": [],
   "source": [
    "# add three lines to contour indicating mass1 location\n",
    "line1 = section_coord[0, 1:3] / 1000\n",
    "line2 = section_coord[int(len(section_coord[:, 1]) / 2), 1:3] / 1000\n",
    "line3 = section_coord[-1, 1:3] / 1000\n",
    "line1_x = [line1[0]] * 2\n",
    "line1_y = [line1[1] - 5, line1[1] + 5]\n",
    "line2_x = [line2[0] - 5, line2[0] + 5]\n",
    "line2_y = [line2[1]] * 2\n",
    "line3_x = [line3[0] - 5, line3[0] + 5]\n",
    "line3_y = [line3[1]] * 2"
   ]
  },
  {
   "cell_type": "code",
   "execution_count": 50,
   "metadata": {
    "ExecuteTime": {
     "end_time": "2018-05-16T20:12:08.300994Z",
     "start_time": "2018-05-16T20:12:06.210714Z"
    }
   },
   "outputs": [
    {
     "name": "stdout",
     "output_type": "stream",
     "text": [
      "[datetime.datetime(2011, 1, 1, 0, 0)]\n",
      "[datetime.datetime(2011, 1, 6, 0, 0)]\n",
      "[datetime.datetime(2011, 1, 11, 0, 0)]\n",
      "[datetime.datetime(2011, 1, 16, 0, 0)]\n",
      "[datetime.datetime(2011, 1, 21, 0, 0)]\n",
      "[datetime.datetime(2011, 1, 26, 0, 0)]\n",
      "[datetime.datetime(2011, 1, 31, 0, 0)]\n",
      "[datetime.datetime(2011, 2, 5, 0, 0)]\n",
      "[datetime.datetime(2011, 2, 10, 0, 0)]\n",
      "[datetime.datetime(2011, 2, 15, 0, 0)]\n",
      "[datetime.datetime(2011, 2, 20, 0, 0)]\n",
      "[datetime.datetime(2011, 2, 25, 0, 0)]\n",
      "[datetime.datetime(2011, 3, 2, 0, 0)]\n",
      "[datetime.datetime(2011, 3, 7, 0, 0)]\n",
      "[datetime.datetime(2011, 3, 12, 0, 0)]\n",
      "[datetime.datetime(2011, 3, 17, 0, 0)]\n",
      "[datetime.datetime(2011, 3, 22, 0, 0)]\n",
      "[datetime.datetime(2011, 3, 27, 0, 0)]\n",
      "[datetime.datetime(2011, 4, 1, 0, 0)]\n",
      "[datetime.datetime(2011, 4, 6, 0, 0)]\n",
      "[datetime.datetime(2011, 4, 11, 0, 0)]\n",
      "[datetime.datetime(2011, 4, 16, 0, 0)]\n",
      "[datetime.datetime(2011, 4, 21, 0, 0)]\n",
      "[datetime.datetime(2011, 4, 26, 0, 0)]\n",
      "[datetime.datetime(2011, 5, 1, 0, 0)]\n",
      "[datetime.datetime(2011, 5, 6, 0, 0)]\n",
      "[datetime.datetime(2011, 5, 11, 0, 0)]\n",
      "[datetime.datetime(2011, 5, 16, 0, 0)]\n",
      "[datetime.datetime(2011, 5, 21, 0, 0)]\n",
      "[datetime.datetime(2011, 5, 26, 0, 0)]\n",
      "[datetime.datetime(2011, 5, 31, 0, 0)]\n",
      "[datetime.datetime(2011, 6, 5, 0, 0)]\n",
      "[datetime.datetime(2011, 6, 10, 0, 0)]\n",
      "[datetime.datetime(2011, 6, 15, 0, 0)]\n",
      "[datetime.datetime(2011, 6, 20, 0, 0)]\n",
      "[datetime.datetime(2011, 6, 25, 0, 0)]\n",
      "[datetime.datetime(2011, 6, 30, 0, 0)]\n",
      "[datetime.datetime(2011, 7, 5, 0, 0)]\n",
      "[datetime.datetime(2011, 7, 10, 0, 0)]\n",
      "[datetime.datetime(2011, 7, 15, 0, 0)]\n",
      "[datetime.datetime(2011, 7, 20, 0, 0)]\n",
      "[datetime.datetime(2011, 7, 25, 0, 0)]\n",
      "[datetime.datetime(2011, 7, 30, 0, 0)]\n",
      "[datetime.datetime(2011, 8, 4, 0, 0)]\n",
      "[datetime.datetime(2011, 8, 9, 0, 0)]\n",
      "[datetime.datetime(2011, 8, 14, 0, 0)]\n",
      "[datetime.datetime(2011, 8, 19, 0, 0)]\n",
      "[datetime.datetime(2011, 8, 24, 0, 0)]\n",
      "[datetime.datetime(2011, 8, 29, 0, 0)]\n",
      "[datetime.datetime(2011, 9, 3, 0, 0)]\n",
      "[datetime.datetime(2011, 9, 8, 0, 0)]\n",
      "[datetime.datetime(2011, 9, 13, 0, 0)]\n",
      "[datetime.datetime(2011, 9, 18, 0, 0)]\n",
      "[datetime.datetime(2011, 9, 23, 0, 0)]\n",
      "[datetime.datetime(2011, 9, 28, 0, 0)]\n",
      "[datetime.datetime(2011, 10, 3, 0, 0)]\n",
      "[datetime.datetime(2011, 10, 8, 0, 0)]\n",
      "[datetime.datetime(2011, 10, 13, 0, 0)]\n",
      "[datetime.datetime(2011, 10, 18, 0, 0)]\n",
      "[datetime.datetime(2011, 10, 23, 0, 0)]\n",
      "[datetime.datetime(2011, 10, 28, 0, 0)]\n",
      "[datetime.datetime(2011, 11, 2, 0, 0)]\n",
      "[datetime.datetime(2011, 11, 7, 0, 0)]\n",
      "[datetime.datetime(2011, 11, 12, 0, 0)]\n",
      "[datetime.datetime(2011, 11, 17, 0, 0)]\n",
      "[datetime.datetime(2011, 11, 22, 0, 0)]\n",
      "[datetime.datetime(2011, 11, 27, 0, 0)]\n",
      "[datetime.datetime(2011, 12, 2, 0, 0)]\n",
      "[datetime.datetime(2011, 12, 7, 0, 0)]\n",
      "[datetime.datetime(2011, 12, 12, 0, 0)]\n",
      "[datetime.datetime(2011, 12, 17, 0, 0)]\n",
      "[datetime.datetime(2011, 12, 22, 0, 0)]\n",
      "[datetime.datetime(2011, 12, 27, 0, 0)]\n",
      "[datetime.datetime(2012, 1, 1, 0, 0)]\n",
      "[datetime.datetime(2012, 1, 6, 0, 0)]\n",
      "[datetime.datetime(2012, 1, 11, 0, 0)]\n",
      "[datetime.datetime(2012, 1, 16, 0, 0)]\n",
      "[datetime.datetime(2012, 1, 21, 0, 0)]\n",
      "[datetime.datetime(2012, 1, 26, 0, 0)]\n",
      "[datetime.datetime(2012, 1, 31, 0, 0)]\n",
      "[datetime.datetime(2012, 2, 5, 0, 0)]\n",
      "[datetime.datetime(2012, 2, 10, 0, 0)]\n",
      "[datetime.datetime(2012, 2, 15, 0, 0)]\n",
      "[datetime.datetime(2012, 2, 20, 0, 0)]\n",
      "[datetime.datetime(2012, 2, 25, 0, 0)]\n",
      "[datetime.datetime(2012, 3, 1, 0, 0)]\n",
      "[datetime.datetime(2012, 3, 6, 0, 0)]\n",
      "[datetime.datetime(2012, 3, 11, 0, 0)]\n",
      "[datetime.datetime(2012, 3, 16, 0, 0)]\n",
      "[datetime.datetime(2012, 3, 21, 0, 0)]\n",
      "[datetime.datetime(2012, 3, 26, 0, 0)]\n",
      "[datetime.datetime(2012, 3, 31, 0, 0)]\n",
      "[datetime.datetime(2012, 4, 5, 0, 0)]\n",
      "[datetime.datetime(2012, 4, 10, 0, 0)]\n",
      "[datetime.datetime(2012, 4, 15, 0, 0)]\n",
      "[datetime.datetime(2012, 4, 20, 0, 0)]\n",
      "[datetime.datetime(2012, 4, 25, 0, 0)]\n",
      "[datetime.datetime(2012, 4, 30, 0, 0)]\n",
      "[datetime.datetime(2012, 5, 5, 0, 0)]\n",
      "[datetime.datetime(2012, 5, 10, 0, 0)]\n",
      "[datetime.datetime(2012, 5, 15, 0, 0)]\n",
      "[datetime.datetime(2012, 5, 20, 0, 0)]\n",
      "[datetime.datetime(2012, 5, 25, 0, 0)]\n",
      "[datetime.datetime(2012, 5, 30, 0, 0)]\n",
      "[datetime.datetime(2012, 6, 4, 0, 0)]\n",
      "[datetime.datetime(2012, 6, 9, 0, 0)]\n",
      "[datetime.datetime(2012, 6, 14, 0, 0)]\n",
      "[datetime.datetime(2012, 6, 19, 0, 0)]\n",
      "[datetime.datetime(2012, 6, 24, 0, 0)]\n",
      "[datetime.datetime(2012, 6, 29, 0, 0)]\n",
      "[datetime.datetime(2012, 7, 4, 0, 0)]\n",
      "[datetime.datetime(2012, 7, 9, 0, 0)]\n",
      "[datetime.datetime(2012, 7, 14, 0, 0)]\n",
      "[datetime.datetime(2012, 7, 19, 0, 0)]\n",
      "[datetime.datetime(2012, 7, 24, 0, 0)]\n",
      "[datetime.datetime(2012, 7, 29, 0, 0)]\n",
      "[datetime.datetime(2012, 8, 3, 0, 0)]\n",
      "[datetime.datetime(2012, 8, 8, 0, 0)]\n",
      "[datetime.datetime(2012, 8, 13, 0, 0)]\n",
      "[datetime.datetime(2012, 8, 18, 0, 0)]\n",
      "[datetime.datetime(2012, 8, 23, 0, 0)]\n",
      "[datetime.datetime(2012, 8, 28, 0, 0)]\n",
      "[datetime.datetime(2012, 9, 2, 0, 0)]\n",
      "[datetime.datetime(2012, 9, 7, 0, 0)]\n",
      "[datetime.datetime(2012, 9, 12, 0, 0)]\n",
      "[datetime.datetime(2012, 9, 17, 0, 0)]\n",
      "[datetime.datetime(2012, 9, 22, 0, 0)]\n",
      "[datetime.datetime(2012, 9, 27, 0, 0)]\n",
      "[datetime.datetime(2012, 10, 2, 0, 0)]\n",
      "[datetime.datetime(2012, 10, 7, 0, 0)]\n",
      "[datetime.datetime(2012, 10, 12, 0, 0)]\n",
      "[datetime.datetime(2012, 10, 17, 0, 0)]\n",
      "[datetime.datetime(2012, 10, 22, 0, 0)]\n",
      "[datetime.datetime(2012, 10, 27, 0, 0)]\n",
      "[datetime.datetime(2012, 11, 1, 0, 0)]\n",
      "[datetime.datetime(2012, 11, 6, 0, 0)]\n",
      "[datetime.datetime(2012, 11, 11, 0, 0)]\n",
      "[datetime.datetime(2012, 11, 16, 0, 0)]\n",
      "[datetime.datetime(2012, 11, 21, 0, 0)]\n",
      "[datetime.datetime(2012, 11, 26, 0, 0)]\n",
      "[datetime.datetime(2012, 12, 1, 0, 0)]\n",
      "[datetime.datetime(2012, 12, 6, 0, 0)]\n",
      "[datetime.datetime(2012, 12, 11, 0, 0)]\n",
      "[datetime.datetime(2012, 12, 16, 0, 0)]\n",
      "[datetime.datetime(2012, 12, 21, 0, 0)]\n",
      "[datetime.datetime(2012, 12, 26, 0, 0)]\n",
      "[datetime.datetime(2012, 12, 31, 0, 0)]\n",
      "[datetime.datetime(2013, 1, 5, 0, 0)]\n",
      "[datetime.datetime(2013, 1, 10, 0, 0)]\n",
      "[datetime.datetime(2013, 1, 15, 0, 0)]\n",
      "[datetime.datetime(2013, 1, 20, 0, 0)]\n",
      "[datetime.datetime(2013, 1, 25, 0, 0)]\n",
      "[datetime.datetime(2013, 1, 30, 0, 0)]\n",
      "[datetime.datetime(2013, 2, 4, 0, 0)]\n",
      "[datetime.datetime(2013, 2, 9, 0, 0)]\n",
      "[datetime.datetime(2013, 2, 14, 0, 0)]\n",
      "[datetime.datetime(2013, 2, 19, 0, 0)]\n",
      "[datetime.datetime(2013, 2, 24, 0, 0)]\n",
      "[datetime.datetime(2013, 3, 1, 0, 0)]\n",
      "[datetime.datetime(2013, 3, 6, 0, 0)]\n",
      "[datetime.datetime(2013, 3, 11, 0, 0)]\n",
      "[datetime.datetime(2013, 3, 16, 0, 0)]\n",
      "[datetime.datetime(2013, 3, 21, 0, 0)]\n",
      "[datetime.datetime(2013, 3, 26, 0, 0)]\n",
      "[datetime.datetime(2013, 3, 31, 0, 0)]\n",
      "[datetime.datetime(2013, 4, 5, 0, 0)]\n",
      "[datetime.datetime(2013, 4, 10, 0, 0)]\n",
      "[datetime.datetime(2013, 4, 15, 0, 0)]\n",
      "[datetime.datetime(2013, 4, 20, 0, 0)]\n",
      "[datetime.datetime(2013, 4, 25, 0, 0)]\n",
      "[datetime.datetime(2013, 4, 30, 0, 0)]\n",
      "[datetime.datetime(2013, 5, 5, 0, 0)]\n",
      "[datetime.datetime(2013, 5, 10, 0, 0)]\n",
      "[datetime.datetime(2013, 5, 15, 0, 0)]\n",
      "[datetime.datetime(2013, 5, 20, 0, 0)]\n",
      "[datetime.datetime(2013, 5, 25, 0, 0)]\n",
      "[datetime.datetime(2013, 5, 30, 0, 0)]\n",
      "[datetime.datetime(2013, 6, 4, 0, 0)]\n",
      "[datetime.datetime(2013, 6, 9, 0, 0)]\n",
      "[datetime.datetime(2013, 6, 14, 0, 0)]\n",
      "[datetime.datetime(2013, 6, 19, 0, 0)]\n",
      "[datetime.datetime(2013, 6, 24, 0, 0)]\n",
      "[datetime.datetime(2013, 6, 29, 0, 0)]\n",
      "[datetime.datetime(2013, 7, 4, 0, 0)]\n",
      "[datetime.datetime(2013, 7, 9, 0, 0)]\n",
      "[datetime.datetime(2013, 7, 14, 0, 0)]\n",
      "[datetime.datetime(2013, 7, 19, 0, 0)]\n",
      "[datetime.datetime(2013, 7, 24, 0, 0)]\n",
      "[datetime.datetime(2013, 7, 29, 0, 0)]\n",
      "[datetime.datetime(2013, 8, 3, 0, 0)]\n",
      "[datetime.datetime(2013, 8, 8, 0, 0)]\n",
      "[datetime.datetime(2013, 8, 13, 0, 0)]\n",
      "[datetime.datetime(2013, 8, 18, 0, 0)]\n",
      "[datetime.datetime(2013, 8, 23, 0, 0)]\n",
      "[datetime.datetime(2013, 8, 28, 0, 0)]\n",
      "[datetime.datetime(2013, 9, 2, 0, 0)]\n",
      "[datetime.datetime(2013, 9, 7, 0, 0)]\n",
      "[datetime.datetime(2013, 9, 12, 0, 0)]\n",
      "[datetime.datetime(2013, 9, 17, 0, 0)]\n",
      "[datetime.datetime(2013, 9, 22, 0, 0)]\n",
      "[datetime.datetime(2013, 9, 27, 0, 0)]\n",
      "[datetime.datetime(2013, 10, 2, 0, 0)]\n",
      "[datetime.datetime(2013, 10, 7, 0, 0)]\n",
      "[datetime.datetime(2013, 10, 12, 0, 0)]\n",
      "[datetime.datetime(2013, 10, 17, 0, 0)]\n",
      "[datetime.datetime(2013, 10, 22, 0, 0)]\n",
      "[datetime.datetime(2013, 10, 27, 0, 0)]\n",
      "[datetime.datetime(2013, 11, 1, 0, 0)]\n",
      "[datetime.datetime(2013, 11, 6, 0, 0)]\n",
      "[datetime.datetime(2013, 11, 11, 0, 0)]\n",
      "[datetime.datetime(2013, 11, 16, 0, 0)]\n",
      "[datetime.datetime(2013, 11, 21, 0, 0)]\n",
      "[datetime.datetime(2013, 11, 26, 0, 0)]\n",
      "[datetime.datetime(2013, 12, 1, 0, 0)]\n",
      "[datetime.datetime(2013, 12, 6, 0, 0)]\n",
      "[datetime.datetime(2013, 12, 11, 0, 0)]\n",
      "[datetime.datetime(2013, 12, 16, 0, 0)]\n",
      "[datetime.datetime(2013, 12, 21, 0, 0)]\n",
      "[datetime.datetime(2013, 12, 26, 0, 0)]\n",
      "[datetime.datetime(2013, 12, 31, 0, 0)]\n",
      "[datetime.datetime(2014, 1, 5, 0, 0)]\n",
      "[datetime.datetime(2014, 1, 10, 0, 0)]\n",
      "[datetime.datetime(2014, 1, 15, 0, 0)]\n",
      "[datetime.datetime(2014, 1, 20, 0, 0)]\n",
      "[datetime.datetime(2014, 1, 25, 0, 0)]\n",
      "[datetime.datetime(2014, 1, 30, 0, 0)]\n",
      "[datetime.datetime(2014, 2, 4, 0, 0)]\n",
      "[datetime.datetime(2014, 2, 9, 0, 0)]\n",
      "[datetime.datetime(2014, 2, 14, 0, 0)]\n",
      "[datetime.datetime(2014, 2, 19, 0, 0)]\n",
      "[datetime.datetime(2014, 2, 24, 0, 0)]\n",
      "[datetime.datetime(2014, 3, 1, 0, 0)]\n",
      "[datetime.datetime(2014, 3, 6, 0, 0)]\n",
      "[datetime.datetime(2014, 3, 11, 0, 0)]\n",
      "[datetime.datetime(2014, 3, 16, 0, 0)]\n",
      "[datetime.datetime(2014, 3, 21, 0, 0)]\n",
      "[datetime.datetime(2014, 3, 26, 0, 0)]\n",
      "[datetime.datetime(2014, 3, 31, 0, 0)]\n",
      "[datetime.datetime(2014, 4, 5, 0, 0)]\n",
      "[datetime.datetime(2014, 4, 10, 0, 0)]\n",
      "[datetime.datetime(2014, 4, 15, 0, 0)]\n",
      "[datetime.datetime(2014, 4, 20, 0, 0)]\n",
      "[datetime.datetime(2014, 4, 25, 0, 0)]\n",
      "[datetime.datetime(2014, 4, 30, 0, 0)]\n",
      "[datetime.datetime(2014, 5, 5, 0, 0)]\n",
      "[datetime.datetime(2014, 5, 10, 0, 0)]\n",
      "[datetime.datetime(2014, 5, 15, 0, 0)]\n",
      "[datetime.datetime(2014, 5, 20, 0, 0)]\n",
      "[datetime.datetime(2014, 5, 25, 0, 0)]\n",
      "[datetime.datetime(2014, 5, 30, 0, 0)]\n",
      "[datetime.datetime(2014, 6, 4, 0, 0)]\n",
      "[datetime.datetime(2014, 6, 9, 0, 0)]\n",
      "[datetime.datetime(2014, 6, 14, 0, 0)]\n",
      "[datetime.datetime(2014, 6, 19, 0, 0)]\n",
      "[datetime.datetime(2014, 6, 24, 0, 0)]\n",
      "[datetime.datetime(2014, 6, 29, 0, 0)]\n",
      "[datetime.datetime(2014, 7, 4, 0, 0)]\n",
      "[datetime.datetime(2014, 7, 9, 0, 0)]\n",
      "[datetime.datetime(2014, 7, 14, 0, 0)]\n",
      "[datetime.datetime(2014, 7, 19, 0, 0)]\n",
      "[datetime.datetime(2014, 7, 24, 0, 0)]\n",
      "[datetime.datetime(2014, 7, 29, 0, 0)]\n",
      "[datetime.datetime(2014, 8, 3, 0, 0)]\n",
      "[datetime.datetime(2014, 8, 8, 0, 0)]\n",
      "[datetime.datetime(2014, 8, 13, 0, 0)]\n",
      "[datetime.datetime(2014, 8, 18, 0, 0)]\n",
      "[datetime.datetime(2014, 8, 23, 0, 0)]\n",
      "[datetime.datetime(2014, 8, 28, 0, 0)]\n",
      "[datetime.datetime(2014, 9, 2, 0, 0)]\n",
      "[datetime.datetime(2014, 9, 7, 0, 0)]\n",
      "[datetime.datetime(2014, 9, 12, 0, 0)]\n",
      "[datetime.datetime(2014, 9, 17, 0, 0)]\n",
      "[datetime.datetime(2014, 9, 22, 0, 0)]\n",
      "[datetime.datetime(2014, 9, 27, 0, 0)]\n",
      "[datetime.datetime(2014, 10, 2, 0, 0)]\n",
      "[datetime.datetime(2014, 10, 7, 0, 0)]\n",
      "[datetime.datetime(2014, 10, 12, 0, 0)]\n",
      "[datetime.datetime(2014, 10, 17, 0, 0)]\n",
      "[datetime.datetime(2014, 10, 22, 0, 0)]\n",
      "[datetime.datetime(2014, 10, 27, 0, 0)]\n",
      "[datetime.datetime(2014, 11, 1, 0, 0)]\n",
      "[datetime.datetime(2014, 11, 6, 0, 0)]\n",
      "[datetime.datetime(2014, 11, 11, 0, 0)]\n",
      "[datetime.datetime(2014, 11, 16, 0, 0)]\n",
      "[datetime.datetime(2014, 11, 21, 0, 0)]\n",
      "[datetime.datetime(2014, 11, 26, 0, 0)]\n",
      "[datetime.datetime(2014, 12, 1, 0, 0)]\n",
      "[datetime.datetime(2014, 12, 6, 0, 0)]\n",
      "[datetime.datetime(2014, 12, 11, 0, 0)]\n",
      "[datetime.datetime(2014, 12, 16, 0, 0)]\n",
      "[datetime.datetime(2014, 12, 21, 0, 0)]\n",
      "[datetime.datetime(2014, 12, 26, 0, 0)]\n",
      "[datetime.datetime(2014, 12, 31, 0, 0)]\n",
      "[datetime.datetime(2015, 1, 5, 0, 0)]\n",
      "[datetime.datetime(2015, 1, 10, 0, 0)]\n",
      "[datetime.datetime(2015, 1, 15, 0, 0)]\n",
      "[datetime.datetime(2015, 1, 20, 0, 0)]\n",
      "[datetime.datetime(2015, 1, 25, 0, 0)]\n",
      "[datetime.datetime(2015, 1, 30, 0, 0)]\n",
      "[datetime.datetime(2015, 2, 4, 0, 0)]\n",
      "[datetime.datetime(2015, 2, 9, 0, 0)]\n",
      "[datetime.datetime(2015, 2, 14, 0, 0)]\n",
      "[datetime.datetime(2015, 2, 19, 0, 0)]\n",
      "[datetime.datetime(2015, 2, 24, 0, 0)]\n",
      "[datetime.datetime(2015, 3, 1, 0, 0)]\n",
      "[datetime.datetime(2015, 3, 6, 0, 0)]\n",
      "[datetime.datetime(2015, 3, 11, 0, 0)]\n",
      "[datetime.datetime(2015, 3, 16, 0, 0)]\n",
      "[datetime.datetime(2015, 3, 21, 0, 0)]\n",
      "[datetime.datetime(2015, 3, 26, 0, 0)]\n",
      "[datetime.datetime(2015, 3, 31, 0, 0)]\n",
      "[datetime.datetime(2015, 4, 5, 0, 0)]\n",
      "[datetime.datetime(2015, 4, 10, 0, 0)]\n",
      "[datetime.datetime(2015, 4, 15, 0, 0)]\n",
      "[datetime.datetime(2015, 4, 20, 0, 0)]\n",
      "[datetime.datetime(2015, 4, 25, 0, 0)]\n",
      "[datetime.datetime(2015, 4, 30, 0, 0)]\n",
      "[datetime.datetime(2015, 5, 5, 0, 0)]\n",
      "[datetime.datetime(2015, 5, 10, 0, 0)]\n",
      "[datetime.datetime(2015, 5, 15, 0, 0)]\n",
      "[datetime.datetime(2015, 5, 20, 0, 0)]\n",
      "[datetime.datetime(2015, 5, 25, 0, 0)]\n",
      "[datetime.datetime(2015, 5, 30, 0, 0)]\n",
      "[datetime.datetime(2015, 6, 4, 0, 0)]\n",
      "[datetime.datetime(2015, 6, 9, 0, 0)]\n",
      "[datetime.datetime(2015, 6, 14, 0, 0)]\n",
      "[datetime.datetime(2015, 6, 19, 0, 0)]\n",
      "[datetime.datetime(2015, 6, 24, 0, 0)]\n",
      "[datetime.datetime(2015, 6, 29, 0, 0)]\n",
      "[datetime.datetime(2015, 7, 4, 0, 0)]\n",
      "[datetime.datetime(2015, 7, 9, 0, 0)]\n",
      "[datetime.datetime(2015, 7, 14, 0, 0)]\n",
      "[datetime.datetime(2015, 7, 19, 0, 0)]\n",
      "[datetime.datetime(2015, 7, 24, 0, 0)]\n",
      "[datetime.datetime(2015, 7, 29, 0, 0)]\n",
      "[datetime.datetime(2015, 8, 3, 0, 0)]\n",
      "[datetime.datetime(2015, 8, 8, 0, 0)]\n",
      "[datetime.datetime(2015, 8, 13, 0, 0)]\n",
      "[datetime.datetime(2015, 8, 18, 0, 0)]\n",
      "[datetime.datetime(2015, 8, 23, 0, 0)]\n",
      "[datetime.datetime(2015, 8, 28, 0, 0)]\n",
      "[datetime.datetime(2015, 9, 2, 0, 0)]\n",
      "[datetime.datetime(2015, 9, 7, 0, 0)]\n",
      "[datetime.datetime(2015, 9, 12, 0, 0)]\n",
      "[datetime.datetime(2015, 9, 17, 0, 0)]\n",
      "[datetime.datetime(2015, 9, 22, 0, 0)]\n",
      "[datetime.datetime(2015, 9, 27, 0, 0)]\n",
      "[datetime.datetime(2015, 10, 2, 0, 0)]\n",
      "[datetime.datetime(2015, 10, 7, 0, 0)]\n",
      "[datetime.datetime(2015, 10, 12, 0, 0)]\n",
      "[datetime.datetime(2015, 10, 17, 0, 0)]\n",
      "[datetime.datetime(2015, 10, 22, 0, 0)]\n",
      "[datetime.datetime(2015, 10, 27, 0, 0)]\n",
      "[datetime.datetime(2015, 11, 1, 0, 0)]\n",
      "[datetime.datetime(2015, 11, 6, 0, 0)]\n",
      "[datetime.datetime(2015, 11, 11, 0, 0)]\n",
      "[datetime.datetime(2015, 11, 16, 0, 0)]\n",
      "[datetime.datetime(2015, 11, 21, 0, 0)]\n",
      "[datetime.datetime(2015, 11, 26, 0, 0)]\n",
      "[datetime.datetime(2015, 12, 1, 0, 0)]\n",
      "[datetime.datetime(2015, 12, 6, 0, 0)]\n",
      "[datetime.datetime(2015, 12, 11, 0, 0)]\n",
      "[datetime.datetime(2015, 12, 16, 0, 0)]\n",
      "[datetime.datetime(2015, 12, 21, 0, 0)]\n",
      "[datetime.datetime(2015, 12, 26, 0, 0)]\n",
      "[datetime.datetime(2015, 12, 31, 0, 0)]\n"
     ]
    }
   ],
   "source": [
    "for itime in list(out_flux.keys())[:]:\n",
    "\n",
    "#     itime =  list(out_flux.keys())[1078]\n",
    "    real_itime = batch_delta_to_time(\n",
    "        date_origin, [float(itime[7:18])], \"%Y-%m-%d %H:%M:%S\", \"hours\")\n",
    "    real_itime = [datetime.strptime(x, \"%Y-%m-%d %H:%M:%S\") for x in real_itime]\n",
    "    print(real_itime)\n",
    "    xy_flux = np.asarray([np.nan] * (ny * nx)).reshape(ny, nx)\n",
    "    for i_unique in np.arange(n_unique):\n",
    "        xy_flux[unique_xy[i_unique, 1],\n",
    "                unique_xy[i_unique, 0]] = out_flux[itime][i_unique]\n",
    "    \n",
    "    iout_flux = xy_flux * 24 / dx[0] / dy[0]\n",
    "    gs = gridspec.GridSpec(1, 1)\n",
    "    fig = plt.figure()\n",
    "    ax1 = fig.add_subplot(gs[0, 0])\n",
    "#     ax1.plot(line1_x, line1_y, \"black\", alpha =0.7)\n",
    "#     ax1.plot(line2_x, line2_y, \"black\", alpha =0.7)\n",
    "#     ax1.plot(line3_x, line3_y, \"black\", alpha =0.7)\n",
    "    cf1 = ax1.imshow(iout_flux,\n",
    "                     cmap=plt.cm.jet,\n",
    "                     origin=\"lower\",\n",
    "                     vmin=-0.1,\n",
    "                     vmax=0.1,\n",
    "                     extent=[(x[0] - 0.5 * dx[0]) / 1000,\n",
    "                             (x[-1] + 0.5 * dx[0]) / 1000,\n",
    "                             (y[0] - 0.5 * dy[0]) / 1000,\n",
    "                             (y[-1] + 0.5 * dy[0]) / 1000]\n",
    "                     )\n",
    "    # plot river geometry\n",
    "    ax1.plot(river_x, river_y, color='black', alpha=0.7, linewidth=1, solid_capstyle='round', zorder=2)       \n",
    "    \n",
    "    ax1.set_xlabel(\"X (km)\")\n",
    "    ax1.set_ylabel(\"Y (km)\")\n",
    "    ax1.set_aspect(\"equal\", \"datalim\")\n",
    "    ax1.set_xlim([np.min(x_grids) / 1000, np.max(x_grids) / 1000])\n",
    "    ax1.set_ylim([np.min(x_grids) / 1000, np.max(x_grids) / 1000])\n",
    "    cb1 = plt.colorbar(cf1, extend=\"both\")\n",
    "    cb1.ax.set_ylabel(\"Exchange flux (m/d)\", rotation=270, labelpad=20)\n",
    "#     fig.tight_layout()\n",
    "    fig.set_size_inches(6, 5)\n",
    "\n",
    "    fig_name = fig_face_snapshots + str(real_itime[0]) + \".jpg\"    \n",
    "    fig.savefig(fig_name, dpi=300, transparent = True)\n",
    "    plt.close(fig)"
   ]
  },
  {
   "cell_type": "markdown",
   "metadata": {},
   "source": [
    "**export flux data to .txt**"
   ]
  },
  {
   "cell_type": "code",
   "execution_count": 74,
   "metadata": {},
   "outputs": [
    {
     "data": {
      "text/plain": [
       "0.052592929171604193"
      ]
     },
     "execution_count": 74,
     "metadata": {},
     "output_type": "execute_result"
    }
   ],
   "source": [
    "np.nanmean(iout_flux)"
   ]
  },
  {
   "cell_type": "code",
   "execution_count": 69,
   "metadata": {},
   "outputs": [],
   "source": [
    "fname = fig_face_snapshots + 'flux_' + str(real_itime[0]) + '.csv'\n",
    "np.savetxt(fname, iout_flux, delimiter=\",\")"
   ]
  },
  {
   "cell_type": "markdown",
   "metadata": {},
   "source": [
    "**count max, min for each year**"
   ]
  },
  {
   "cell_type": "code",
   "execution_count": 83,
   "metadata": {},
   "outputs": [
    {
     "name": "stdout",
     "output_type": "stream",
     "text": [
      "[datetime.datetime(2011, 1, 1, 0, 0)]\n",
      "[datetime.datetime(2011, 1, 6, 0, 0)]\n",
      "[datetime.datetime(2011, 1, 11, 0, 0)]\n",
      "[datetime.datetime(2011, 1, 16, 0, 0)]\n",
      "[datetime.datetime(2011, 1, 21, 0, 0)]\n",
      "[datetime.datetime(2011, 1, 26, 0, 0)]\n",
      "[datetime.datetime(2011, 1, 31, 0, 0)]\n",
      "[datetime.datetime(2011, 2, 5, 0, 0)]\n",
      "[datetime.datetime(2011, 2, 10, 0, 0)]\n",
      "[datetime.datetime(2011, 2, 15, 0, 0)]\n",
      "[datetime.datetime(2011, 2, 20, 0, 0)]\n",
      "[datetime.datetime(2011, 2, 25, 0, 0)]\n",
      "[datetime.datetime(2011, 3, 2, 0, 0)]\n",
      "[datetime.datetime(2011, 3, 7, 0, 0)]\n",
      "[datetime.datetime(2011, 3, 12, 0, 0)]\n",
      "[datetime.datetime(2011, 3, 17, 0, 0)]\n",
      "[datetime.datetime(2011, 3, 22, 0, 0)]\n",
      "[datetime.datetime(2011, 3, 27, 0, 0)]\n",
      "[datetime.datetime(2011, 4, 1, 0, 0)]\n",
      "[datetime.datetime(2011, 4, 6, 0, 0)]\n",
      "[datetime.datetime(2011, 4, 11, 0, 0)]\n",
      "[datetime.datetime(2011, 4, 16, 0, 0)]\n",
      "[datetime.datetime(2011, 4, 21, 0, 0)]\n",
      "[datetime.datetime(2011, 4, 26, 0, 0)]\n",
      "[datetime.datetime(2011, 5, 1, 0, 0)]\n",
      "[datetime.datetime(2011, 5, 6, 0, 0)]\n",
      "[datetime.datetime(2011, 5, 11, 0, 0)]\n",
      "[datetime.datetime(2011, 5, 16, 0, 0)]\n",
      "[datetime.datetime(2011, 5, 21, 0, 0)]\n",
      "[datetime.datetime(2011, 5, 26, 0, 0)]\n",
      "[datetime.datetime(2011, 5, 31, 0, 0)]\n",
      "[datetime.datetime(2011, 6, 5, 0, 0)]\n",
      "[datetime.datetime(2011, 6, 10, 0, 0)]\n",
      "[datetime.datetime(2011, 6, 15, 0, 0)]\n",
      "[datetime.datetime(2011, 6, 20, 0, 0)]\n",
      "[datetime.datetime(2011, 6, 25, 0, 0)]\n",
      "[datetime.datetime(2011, 6, 30, 0, 0)]\n",
      "[datetime.datetime(2011, 7, 5, 0, 0)]\n",
      "[datetime.datetime(2011, 7, 10, 0, 0)]\n",
      "[datetime.datetime(2011, 7, 15, 0, 0)]\n",
      "[datetime.datetime(2011, 7, 20, 0, 0)]\n",
      "[datetime.datetime(2011, 7, 25, 0, 0)]\n",
      "[datetime.datetime(2011, 7, 30, 0, 0)]\n",
      "[datetime.datetime(2011, 8, 4, 0, 0)]\n",
      "[datetime.datetime(2011, 8, 9, 0, 0)]\n",
      "[datetime.datetime(2011, 8, 14, 0, 0)]\n",
      "[datetime.datetime(2011, 8, 19, 0, 0)]\n",
      "[datetime.datetime(2011, 8, 24, 0, 0)]\n",
      "[datetime.datetime(2011, 8, 29, 0, 0)]\n",
      "[datetime.datetime(2011, 9, 3, 0, 0)]\n",
      "[datetime.datetime(2011, 9, 8, 0, 0)]\n",
      "[datetime.datetime(2011, 9, 13, 0, 0)]\n",
      "[datetime.datetime(2011, 9, 18, 0, 0)]\n",
      "[datetime.datetime(2011, 9, 23, 0, 0)]\n",
      "[datetime.datetime(2011, 9, 28, 0, 0)]\n",
      "[datetime.datetime(2011, 10, 3, 0, 0)]\n",
      "[datetime.datetime(2011, 10, 8, 0, 0)]\n",
      "[datetime.datetime(2011, 10, 13, 0, 0)]\n",
      "[datetime.datetime(2011, 10, 18, 0, 0)]\n",
      "[datetime.datetime(2011, 10, 23, 0, 0)]\n",
      "[datetime.datetime(2011, 10, 28, 0, 0)]\n",
      "[datetime.datetime(2011, 11, 2, 0, 0)]\n",
      "[datetime.datetime(2011, 11, 7, 0, 0)]\n",
      "[datetime.datetime(2011, 11, 12, 0, 0)]\n",
      "[datetime.datetime(2011, 11, 17, 0, 0)]\n",
      "[datetime.datetime(2011, 11, 22, 0, 0)]\n",
      "[datetime.datetime(2011, 11, 27, 0, 0)]\n",
      "[datetime.datetime(2011, 12, 2, 0, 0)]\n",
      "[datetime.datetime(2011, 12, 7, 0, 0)]\n",
      "[datetime.datetime(2011, 12, 12, 0, 0)]\n",
      "[datetime.datetime(2011, 12, 17, 0, 0)]\n",
      "[datetime.datetime(2011, 12, 22, 0, 0)]\n",
      "[datetime.datetime(2011, 12, 27, 0, 0)]\n",
      "0.614845633207 -0.937978272841\n"
     ]
    }
   ],
   "source": [
    "max_flux = 0\n",
    "min_flux = 0\n",
    "\n",
    "for itime in list(out_flux.keys())[98:1558:20]:\n",
    "\n",
    "    real_itime = batch_delta_to_time(\n",
    "        date_origin, [float(itime[7:18])], \"%Y-%m-%d %H:%M:%S\", \"hours\")\n",
    "    real_itime = [datetime.strptime(x, \"%Y-%m-%d %H:%M:%S\") for x in real_itime]\n",
    "    print(real_itime)\n",
    "    \n",
    "    xy_flux = np.asarray([np.nan] * (ny * nx)).reshape(ny, nx)\n",
    "    for i_unique in np.arange(n_unique):\n",
    "        xy_flux[unique_xy[i_unique, 1],\n",
    "                unique_xy[i_unique, 0]] = out_flux[itime][i_unique]\n",
    "    \n",
    "    iout_flux = xy_flux * 24 / dx[0] / dy[0]\n",
    "    \n",
    "    imax = np.nanmax(iout_flux)\n",
    "    imin = np.nanmin(iout_flux)\n",
    "    \n",
    "    if imax > max_flux:\n",
    "        max_flux = imax\n",
    "    if imin < min_flux:\n",
    "        min_flux = imin\n",
    "        \n",
    "print(max_flux, min_flux)"
   ]
  },
  {
   "cell_type": "markdown",
   "metadata": {},
   "source": [
    "# Calculate accumulative flux for each river segment"
   ]
  },
  {
   "cell_type": "code",
   "execution_count": 14,
   "metadata": {
    "ExecuteTime": {
     "end_time": "2018-05-03T22:36:38.972174Z",
     "start_time": "2018-05-03T22:36:38.404709Z"
    }
   },
   "outputs": [],
   "source": [
    "# load pre-processed file\n",
    "pickle_file = open(fname_out_flux, \"rb\")\n",
    "out_flux = pickle.load(pickle_file)"
   ]
  },
  {
   "cell_type": "code",
   "execution_count": 17,
   "metadata": {
    "ExecuteTime": {
     "end_time": "2018-05-03T22:36:38.972174Z",
     "start_time": "2018-05-03T22:36:38.404709Z"
    }
   },
   "outputs": [],
   "source": [
    "times = np.sort(list(out_flux.keys()))\n",
    "simu_time = np.sort([np.float(i[5:19]) for i in times]) "
   ]
  },
  {
   "cell_type": "code",
   "execution_count": 18,
   "metadata": {
    "ExecuteTime": {
     "end_time": "2018-05-03T22:37:03.584391Z",
     "start_time": "2018-05-03T22:37:03.575160Z"
    }
   },
   "outputs": [],
   "source": [
    "date_origin = datetime.strptime(\"2007-03-28 12:00:00\", \"%Y-%m-%d %H:%M:%S\")\n",
    "real_time = batch_delta_to_time(\n",
    "    date_origin, simu_time, \"%Y-%m-%d %H:%M:%S\", \"hours\")\n",
    "real_time = [datetime.strptime(x, \"%Y-%m-%d %H:%M:%S\") for x in real_time]\n",
    "\n",
    "time_ticks = [\n",
    "    \"2011-01-01 00:00:00\",\n",
    "    \"2012-01-01 00:00:00\",\n",
    "    \"2013-01-01 00:00:00\",\n",
    "    \"2014-01-01 00:00:00\",\n",
    "    \"2015-01-01 00:00:00\",\n",
    "    \"2016-01-01 00:00:00\"]\n",
    "time_ticks = [datetime.strptime(x, \"%Y-%m-%d %H:%M:%S\") for x in time_ticks]"
   ]
  },
  {
   "cell_type": "code",
   "execution_count": 19,
   "metadata": {},
   "outputs": [],
   "source": [
    "dt = np.diff(real_time).min()\n",
    "dt = dt.days*24 + dt.seconds/3600 # convert timedelta to hours"
   ]
  },
  {
   "cell_type": "markdown",
   "metadata": {},
   "source": [
    "**create out_flux dataframe**"
   ]
  },
  {
   "cell_type": "code",
   "execution_count": 20,
   "metadata": {},
   "outputs": [],
   "source": [
    "columns = [str(e) for e in unique_river_cells]\n",
    "out_flux_df = pd.DataFrame.from_dict(out_flux, orient='index')\n",
    "out_flux_df.columns = columns # index is time, column is cell id"
   ]
  },
  {
   "cell_type": "code",
   "execution_count": 22,
   "metadata": {},
   "outputs": [],
   "source": [
    "block1 = ['Mass1_'+ str(e) for e in np.arange(318,332)]# region 332 is not included\n",
    "block2 = ['Mass1_'+ str(e) for e in np.arange(296,318)]\n",
    "block3 = ['Mass1_'+ str(e) for e in np.arange(272,296)]\n",
    "block4 = ['Mass1_'+ str(e) for e in np.arange(233,272)]\n",
    "block5 = ['Mass1_'+ str(e) for e in np.arange(199,233)]\n",
    "block6 = ['Mass1_'+ str(e) for e in np.arange(165,199)]\n",
    "block7 = ['Mass1_'+ str(e) for e in np.arange(132,165)]\n",
    "block8 = ['Mass1_'+ str(e) for e in np.arange(113,132)]\n",
    "block9 = ['Mass1_'+ str(e) for e in np.arange(65,113)]\n",
    "block10 = ['Mass1_'+ str(e) for e in np.arange(41,65)]"
   ]
  },
  {
   "cell_type": "code",
   "execution_count": 23,
   "metadata": {},
   "outputs": [],
   "source": [
    "blocks = {'1':block1, '2':block2, '3':block3, '4':block4, '5':block5, '6':block6, '7':block7,\n",
    "         '8':block8, '9':block9, '10':block10}"
   ]
  },
  {
   "cell_type": "code",
   "execution_count": 36,
   "metadata": {},
   "outputs": [
    {
     "name": "stdout",
     "output_type": "stream",
     "text": [
      "block:1\n",
      "block:2\n",
      "block:3\n",
      "block:4\n",
      "block:5\n",
      "block:6\n",
      "block:7\n",
      "block:8\n",
      "block:9\n",
      "block:10\n"
     ]
    }
   ],
   "source": [
    "material_h5 = h5.File(fname_material_h5, \"r\")\n",
    "\n",
    "abs_flow=[]\n",
    "sum_flow=[]\n",
    "in_flow=[]\n",
    "out_flow=[]\n",
    "for i in np.arange(1, 11)[:]:\n",
    "    print('block:{}'.format(i))\n",
    "    iblock = blocks[str(i)]\n",
    "    i_river_cells=[]\n",
    "    for i_MASS1 in iblock:\n",
    "        temp_river_cells =  np.asarray(list(material_h5[\"Regions\"][i_MASS1][\"Cell Ids\"]))\n",
    "        # find cells not on the model boundary\n",
    "        for icell in temp_river_cells:\n",
    "            if (grids[i_cell, 0] > 0 and grids[i_cell, 0] < (nx - 1) and\n",
    "            grids[i_cell, 1] > 0 and grids[i_cell, 1] < (ny - 1) and\n",
    "            grids[i_cell, 2] > 0 and grids[i_cell, 2] < (nz - 1)):\n",
    "                i_river_cells.append(icell)\n",
    "    i_river_cells = np.asarray(i_river_cells).astype(int)\n",
    "    i_river_cells = i_river_cells - 1\n",
    "    i_unique_river_cells = np.unique(i_river_cells).astype(int)\n",
    "    i_unique_river_cells = [str(e) for e in i_unique_river_cells]\n",
    "    \n",
    "    # get flux for each cells within block\n",
    "    i_out_flux = out_flux_df.loc[:, i_unique_river_cells].values\n",
    "    \n",
    "    # calculate exchange flux for each block\n",
    "    i_abs_flow = np.sum(np.abs(i_out_flux)) * dt\n",
    "    i_sum_flow = np.sum(i_out_flux) * dt\n",
    "    i_in_flow = sum(i_out_flux[i_out_flux >=0]) * dt\n",
    "    i_out_flow = sum(i_out_flux[i_out_flux <=0]) * dt\n",
    "    \n",
    "    abs_flow.append(i_abs_flow)\n",
    "    sum_flow.append(i_sum_flow)\n",
    "    in_flow.append(i_in_flow) # losing\n",
    "    out_flow.append(i_out_flow) # gaining\n",
    "\n",
    "material_h5.close()"
   ]
  },
  {
   "cell_type": "code",
   "execution_count": 44,
   "metadata": {},
   "outputs": [],
   "source": [
    "flux_metrix = pd.DataFrame(data = {'net_flow' : sum_flow, 'abs_flow' : abs_flow, 'losing_flow' : in_flow, 'gaining_flow' : out_flow })\n",
    "flux_metrix.index = ['block'+ str(e) for e in np.arange(1,11)]\n",
    "\n",
    "flux_metrix.to_csv(out_dir + 'face_flux/flux_metrix_blocks.csv')"
   ]
  },
  {
   "cell_type": "markdown",
   "metadata": {},
   "source": [
    "# read sinuosity, thickness, flux file"
   ]
  },
  {
   "cell_type": "code",
   "execution_count": 14,
   "metadata": {},
   "outputs": [],
   "source": [
    "sinuosity_thickness_flux = pd.read_csv(fname_sinuosity_thickness_flux)"
   ]
  },
  {
   "cell_type": "code",
   "execution_count": 15,
   "metadata": {},
   "outputs": [],
   "source": [
    "sinuosity = sinuosity_thickness_flux['sinuosity'].values"
   ]
  },
  {
   "cell_type": "code",
   "execution_count": 16,
   "metadata": {},
   "outputs": [],
   "source": [
    "abs_flow_per_channel_length = sinuosity_thickness_flux['exchange volume per channel length (m3/km)'].values"
   ]
  },
  {
   "cell_type": "code",
   "execution_count": 17,
   "metadata": {
    "ExecuteTime": {
     "end_time": "2018-05-16T20:04:41.192118Z",
     "start_time": "2018-05-16T20:04:41.188952Z"
    }
   },
   "outputs": [],
   "source": [
    "# read mass1 coordinates\n",
    "mass1_coord = pd.read_csv(fname_mass1_coord)"
   ]
  },
  {
   "cell_type": "code",
   "execution_count": 18,
   "metadata": {
    "ExecuteTime": {
     "end_time": "2018-05-16T20:04:41.192118Z",
     "start_time": "2018-05-16T20:04:41.188952Z"
    }
   },
   "outputs": [],
   "source": [
    "mass1_coord['easting'] = (mass1_coord['easting'] - model_origin[0])/1000\n",
    "mass1_coord['northing'] = (mass1_coord['northing'] - model_origin[1])/1000"
   ]
  },
  {
   "cell_type": "code",
   "execution_count": 19,
   "metadata": {},
   "outputs": [],
   "source": [
    "selected_mass1 = np.array([40, 65, 113, 132, 165, 199, 233, 272, 296, 318, 333])\n",
    "selected_mass1 = selected_mass1 - 40"
   ]
  },
  {
   "cell_type": "markdown",
   "metadata": {},
   "source": [
    "## plot exchang flux versus sinuosity"
   ]
  },
  {
   "cell_type": "code",
   "execution_count": 26,
   "metadata": {},
   "outputs": [
    {
     "data": {
      "image/png": "[encoded data removed]",
      "text/plain": [
       "<matplotlib.figure.Figure at 0x2af1862ed860>"
      ]
     },
     "metadata": {},
     "output_type": "display_data"
    }
   ],
   "source": [
    "%matplotlib inline\n",
    "fig, (ax1, ax) = plt.subplots(1,2)\n",
    "\n",
    "# plot river geometry\n",
    "ax1.plot(river_x, river_y, color='black', alpha=0.7, linewidth=1, solid_capstyle='round', zorder=2)       \n",
    "\n",
    "ax1.set_xlabel(\"X (km)\", fontsize=12)\n",
    "ax1.set_ylabel(\"Y (km)\", fontsize=12)\n",
    "#     ax1.set_aspect(\"equal\", \"datalim\")\n",
    "ax1.set_xlim([np.min(x_grids) / 1000, np.max(x_grids) / 1000])\n",
    "ax1.set_ylim([np.min(x_grids) / 1000, np.max(x_grids) / 1000])\n",
    "\n",
    "# add mass1 points\n",
    "for i in selected_mass1:\n",
    "    xmass = mass1_coord.iloc[i, 1]\n",
    "    ymass = mass1_coord.iloc[i, 2]\n",
    "    ax1.plot(xmass, ymass, 'k.', markersize=2)\n",
    "\n",
    "ax1.tick_params(axis = 'both', which = 'major', labelsize = 10)    \n",
    "    \n",
    "ax1.set_aspect('equal')    \n",
    "\n",
    "ax.plot(sinuosity, abs_flow_per_channel_length, 'ko', mfc='none')\n",
    "\n",
    "names = [str(e) for e in np.arange(1, 11)]\n",
    "# Fit with polyfit\n",
    "b, m = polyfit(sinuosity, abs_flow_per_channel_length, 1)\n",
    "Y = b + m * np.asarray(sinuosity)\n",
    "# get stats\n",
    "slope, intercept, r_value, p_value, std_err = stats.linregress(sinuosity, abs_flow_per_channel_length)\n",
    "\n",
    "ax.plot(sinuosity, Y, 'r-')\n",
    "plt.text(1.20, 1.2e7, 'R\\u00b2 = {0:.2f}'.format(r_value), fontsize = 12)\n",
    "\n",
    "for i, txt in enumerate(names):\n",
    "    ax.annotate(txt, (sinuosity[i] + 0.004, abs_flow_per_channel_length[i] ), color = 'blue')\n",
    "\n",
    "ax.set_xlabel('Sinuosity', fontsize=12)\n",
    "ax.set_ylabel('Exchange flux per channel length (m\\u00b3/km)', fontsize=12)\n",
    "\n",
    "ax.tick_params(axis = 'both', which = 'major', labelsize = 10)\n",
    "\n",
    "# fig.tight_layout()\n",
    "fig.set_size_inches(11, 5)"
   ]
  },
  {
   "cell_type": "code",
   "execution_count": 27,
   "metadata": {},
   "outputs": [],
   "source": [
    "fig.savefig(out_dir + 'face_flux/sinuosity.eps', dpi=300, transparent=True, format='eps')\n",
    "plt.close(fig)"
   ]
  },
  {
   "cell_type": "markdown",
   "metadata": {},
   "source": [
    "## plot flux versus thickness of hf"
   ]
  },
  {
   "cell_type": "code",
   "execution_count": 20,
   "metadata": {},
   "outputs": [
    {
     "data": {
      "image/png": "[encoded data removed]",
      "text/plain": [
       "<matplotlib.figure.Figure at 0x2af1817c6908>"
      ]
     },
     "metadata": {},
     "output_type": "display_data"
    }
   ],
   "source": [
    "hf_thickness= sinuosity_thickness_flux['thickness of hf (m)'].values\n",
    "\n",
    "%matplotlib inline\n",
    "fig, (ax1, ax) = plt.subplots(1,2)\n",
    "\n",
    "# plot river geometry\n",
    "ax1.plot(river_x, river_y, color='black', alpha=0.7, linewidth=1, solid_capstyle='round', zorder=2)       \n",
    "\n",
    "ax1.set_xlabel(\"X (km)\", fontsize=12)\n",
    "ax1.set_ylabel(\"Y (km)\", fontsize=12)\n",
    "#     ax1.set_aspect(\"equal\", \"datalim\")\n",
    "ax1.set_xlim([np.min(x_grids) / 1000, np.max(x_grids) / 1000])\n",
    "ax1.set_ylim([np.min(x_grids) / 1000, np.max(x_grids) / 1000])\n",
    "\n",
    "# add mass1 points\n",
    "for i in selected_mass1:\n",
    "    xmass = mass1_coord.iloc[i, 1]\n",
    "    ymass = mass1_coord.iloc[i, 2]\n",
    "    ax1.plot(xmass, ymass, 'k.', markersize=2)\n",
    "\n",
    "ax1.tick_params(axis = 'both', which = 'major', labelsize = 10)    \n",
    "\n",
    "ax1.set_aspect('equal')\n",
    "\n",
    "ax.plot(hf_thickness, abs_flow_per_channel_length, 'ko', mfc='none')\n",
    "\n",
    "names = [str(e) for e in np.arange(1, 11)]\n",
    "\n",
    "# Fit with polyfit\n",
    "b, m = polyfit(hf_thickness, abs_flow_per_channel_length, 1)\n",
    "Y = b + m * np.asarray(hf_thickness)\n",
    "# get stats\n",
    "slope, intercept, r_value, p_value, std_err = stats.linregress(hf_thickness, abs_flow_per_channel_length)\n",
    "\n",
    "ax.plot(hf_thickness, Y, 'r-')\n",
    "plt.text(1.25, 1.2e7, 'R\\u00b2 = {0:.2f}'.format(r_value), fontsize = 12)\n",
    "\n",
    "for i, txt in enumerate(names):\n",
    "    ax.annotate(txt, (hf_thickness[i] + 0.2, abs_flow_per_channel_length[i] ), color = 'blue')\n",
    "\n",
    "ax.set_xlabel('Average thickness of Hanford unit (m)', fontsize=12)\n",
    "ax.set_ylabel('Exchange flux per channel length (m\\u00b3/km)', fontsize=12)\n",
    "\n",
    "ax.tick_params(axis = 'both', which = 'major', labelsize = 10)\n",
    "\n",
    "# fig.tight_layout()\n",
    "fig.set_size_inches(11, 5)"
   ]
  },
  {
   "cell_type": "code",
   "execution_count": 21,
   "metadata": {},
   "outputs": [],
   "source": [
    "fig.savefig(out_dir + 'face_flux/hf_thickness.eps', dpi=300, transparent=True, format='eps')\n",
    "plt.close(fig)"
   ]
  },
  {
   "cell_type": "markdown",
   "metadata": {},
   "source": [
    "## Multivariate regression"
   ]
  },
  {
   "cell_type": "code",
   "execution_count": 42,
   "metadata": {},
   "outputs": [],
   "source": [
    "df = sinuosity_thickness_flux.rename(columns={'thickness of hf (m)': 'thickness', 'exchange volume per channel length (m3/km)': 'flux'})\n",
    "\n",
    "result = smf.ols(formula= \"flux ~ sinuosity + thickness\", data = df).fit()\n",
    "\n",
    "result.summary()"
   ]
  },
  {
   "cell_type": "code",
   "execution_count": 41,
   "metadata": {},
   "outputs": [
    {
     "name": "stderr",
     "output_type": "stream",
     "text": [
      "/global/homes/p/pshuai/.conda/envs/nersc/lib/python3.6/site-packages/scipy/stats/stats.py:1334: UserWarning: kurtosistest only valid for n>=20 ... continuing anyway, n=10\n",
      "  \"anyway, n=%i\" % int(n))\n"
     ]
    }
   ],
   "source": [
    "text_file = open(fname_regression_summary, \"w\")\n",
    "text_file.write(result.summary().as_text())\n",
    "text_file.close()"
   ]
  },
  {
   "cell_type": "markdown",
   "metadata": {},
   "source": [
    "**ANOVA**"
   ]
  },
  {
   "cell_type": "code",
   "execution_count": 43,
   "metadata": {},
   "outputs": [],
   "source": [
    "anova = sm.stats.anova_lm(result, typ = 2)"
   ]
  },
  {
   "cell_type": "code",
   "execution_count": 44,
   "metadata": {},
   "outputs": [
    {
     "data": {
      "text/html": [
       "<div>\n",
       "<style scoped>\n",
       "    .dataframe tbody tr th:only-of-type {\n",
       "        vertical-align: middle;\n",
       "    }\n",
       "\n",
       "    .dataframe tbody tr th {\n",
       "        vertical-align: top;\n",
       "    }\n",
       "\n",
       "    .dataframe thead th {\n",
       "        text-align: right;\n",
       "    }\n",
       "</style>\n",
       "<table border=\"1\" class=\"dataframe\">\n",
       "  <thead>\n",
       "    <tr style=\"text-align: right;\">\n",
       "      <th></th>\n",
       "      <th>sum_sq</th>\n",
       "      <th>df</th>\n",
       "      <th>F</th>\n",
       "      <th>PR(&gt;F)</th>\n",
       "    </tr>\n",
       "  </thead>\n",
       "  <tbody>\n",
       "    <tr>\n",
       "      <th>sinuosity</th>\n",
       "      <td>3.075847e+12</td>\n",
       "      <td>1.0</td>\n",
       "      <td>2.895094</td>\n",
       "      <td>0.132640</td>\n",
       "    </tr>\n",
       "    <tr>\n",
       "      <th>thickness</th>\n",
       "      <td>7.231292e+13</td>\n",
       "      <td>1.0</td>\n",
       "      <td>68.063447</td>\n",
       "      <td>0.000075</td>\n",
       "    </tr>\n",
       "    <tr>\n",
       "      <th>Residual</th>\n",
       "      <td>7.437038e+12</td>\n",
       "      <td>7.0</td>\n",
       "      <td>NaN</td>\n",
       "      <td>NaN</td>\n",
       "    </tr>\n",
       "  </tbody>\n",
       "</table>\n",
       "</div>"
      ],
      "text/plain": [
       "                 sum_sq   df          F    PR(>F)\n",
       "sinuosity  3.075847e+12  1.0   2.895094  0.132640\n",
       "thickness  7.231292e+13  1.0  68.063447  0.000075\n",
       "Residual   7.437038e+12  7.0        NaN       NaN"
      ]
     },
     "execution_count": 44,
     "metadata": {},
     "output_type": "execute_result"
    }
   ],
   "source": [
    "anova"
   ]
  },
  {
   "cell_type": "markdown",
   "metadata": {},
   "source": [
    "In simple regression, the proportion of **variance explained** is equal to $r^2$; in multiple regression, it is equal to $R^2$. Variance explained is calculated from: $$\\eta^2 = sum\\_sq_i / sum\\_sq_{total} $$ For example, variance explained by thickness = (7e13)/(3e12 + 7.2e13 + 7.4e12) = 0.88\n",
    "[(link)](http://onlinestatbook.com/2/effect_size/variance_explained.html)"
   ]
  },
  {
   "cell_type": "markdown",
   "metadata": {},
   "source": [
    "**forward selection**"
   ]
  },
  {
   "cell_type": "code",
   "execution_count": 53,
   "metadata": {},
   "outputs": [],
   "source": [
    "def forward_selected(data, response):\n",
    "    \"\"\"Linear model designed by forward selection.\n",
    "\n",
    "    Parameters:\n",
    "    -----------\n",
    "    data : pandas DataFrame with all possible predictors and response\n",
    "\n",
    "    response: string, name of response column in data\n",
    "\n",
    "    Returns:\n",
    "    --------\n",
    "    model: an \"optimal\" fitted statsmodels linear model\n",
    "           with an intercept\n",
    "           selected by forward selection\n",
    "           evaluated by adjusted R-squared\n",
    "    \"\"\"\n",
    "    remaining = set(data.columns)\n",
    "    remaining.remove(response)\n",
    "    selected = []\n",
    "    current_score, best_new_score = 0.0, 0.0\n",
    "    while remaining and current_score == best_new_score:\n",
    "        scores_with_candidates = []\n",
    "        for candidate in remaining:\n",
    "            formula = \"{} ~ {} + 1\".format(response,\n",
    "                                           ' + '.join(selected + [candidate]))\n",
    "            score = smf.ols(formula, data).fit().rsquared_adj\n",
    "            scores_with_candidates.append((score, candidate))\n",
    "        scores_with_candidates.sort()\n",
    "        best_new_score, best_candidate = scores_with_candidates.pop()\n",
    "        if current_score < best_new_score:\n",
    "            print(best_candidate, '%.2f'%best_new_score, '%.3f'% (best_new_score-current_score))\n",
    "            remaining.remove(best_candidate)\n",
    "            selected.append(best_candidate)\n",
    "            current_score = best_new_score\n",
    "    formula = \"{} ~ {} + 1\".format(response,\n",
    "                                   ' + '.join(selected))\n",
    "    model = smf.ols(formula, data).fit()\n",
    "    return model"
   ]
  },
  {
   "cell_type": "code",
   "execution_count": 47,
   "metadata": {},
   "outputs": [],
   "source": [
    "df = sinuosity_thickness_flux.rename(columns={'thickness of hf (m)': 'thickness', 'exchange volume per channel length (m3/km)': 'flux'})\n",
    "df = df[['sinuosity', 'thickness', 'flux'] ]"
   ]
  },
  {
   "cell_type": "code",
   "execution_count": 54,
   "metadata": {},
   "outputs": [
    {
     "name": "stdout",
     "output_type": "stream",
     "text": [
      "thickness 0.88 0.884\n",
      "sinuosity 0.91 0.022\n"
     ]
    }
   ],
   "source": [
    "model = forward_selected(df, 'flux')"
   ]
  },
  {
   "cell_type": "code",
   "execution_count": 52,
   "metadata": {},
   "outputs": [
    {
     "name": "stdout",
     "output_type": "stream",
     "text": [
      "flux ~ thickness + sinuosity + 1\n",
      "0.906561866853\n"
     ]
    },
    {
     "data": {
      "text/plain": [
       "(None, None)"
      ]
     },
     "execution_count": 52,
     "metadata": {},
     "output_type": "execute_result"
    }
   ],
   "source": [
    "print(model.model.formula), print(model.rsquared_adj)"
   ]
  }
 ],
 "metadata": {
  "kernelspec": {
   "display_name": "Python [conda env:nersc]",
   "language": "python",
   "name": "conda-env-nersc-py"
  },
  "language_info": {
   "codemirror_mode": {
    "name": "ipython",
    "version": 3
   },
   "file_extension": ".py",
   "mimetype": "text/x-python",
   "name": "python",
   "nbconvert_exporter": "python",
   "pygments_lexer": "ipython3",
   "version": "3.6.1"
  },
  "toc": {
   "base_numbering": 1,
   "nav_menu": {},
   "number_sections": true,
   "sideBar": true,
   "skip_h1_title": false,
   "title_cell": "Table of Contents",
   "title_sidebar": "Contents",
   "toc_cell": false,
   "toc_position": {
    "height": "calc(100% - 180px)",
    "left": "10px",
    "top": "150px",
    "width": "391px"
   },
   "toc_section_display": true,
   "toc_window_display": true
  },
  "varInspector": {
   "cols": {
    "lenName": 16,
    "lenType": 16,
    "lenVar": 40
   },
   "kernels_config": {
    "python": {
     "delete_cmd_postfix": "",
     "delete_cmd_prefix": "del ",
     "library": "var_list.py",
     "varRefreshCmd": "print(var_dic_list())"
    },
    "r": {
     "delete_cmd_postfix": ") ",
     "delete_cmd_prefix": "rm(",
     "library": "var_list.r",
     "varRefreshCmd": "cat(var_dic_list()) "
    }
   },
   "oldHeight": 640,
   "position": {
    "height": "40px",
    "left": "3px",
    "right": "20px",
    "top": "601px",
    "width": "384px"
   },
   "types_to_exclude": [
    "module",
    "function",
    "builtin_function_or_method",
    "instance",
    "_Feature"
   ],
   "varInspector_section_display": "none",
   "window_display": true
  }
 },
 "nbformat": 4,
 "nbformat_minor": 2
}
