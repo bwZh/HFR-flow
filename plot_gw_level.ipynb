{
 "cells": [
  {
   "cell_type": "markdown",
   "metadata": {},
   "source": [
    "# plot groundwater level"
   ]
  },
  {
   "cell_type": "code",
   "execution_count": 101,
   "metadata": {
    "ExecuteTime": {
     "end_time": "2018-05-07T06:00:18.364362Z",
     "start_time": "2018-05-07T06:00:18.358672Z"
    }
   },
   "outputs": [],
   "source": [
    "import numpy as np\n",
    "import h5py as h5\n",
    "import glob\n",
    "import matplotlib.pyplot as plt\n",
    "import matplotlib.gridspec as gridspec\n",
    "from datetime import datetime, timedelta\n",
    "import pandas as pd\n",
    "import ipdb"
   ]
  },
  {
   "cell_type": "code",
   "execution_count": 3,
   "metadata": {
    "ExecuteTime": {
     "end_time": "2018-05-03T22:59:17.213779Z",
     "start_time": "2018-05-03T22:59:17.210101Z"
    }
   },
   "outputs": [],
   "source": [
    "def batch_delta_to_time(origin, x, time_format, delta_format):\n",
    "    y = []\n",
    "    for ix in x:\n",
    "        if delta_format == \"hours\":\n",
    "            temp_y = origin + timedelta(hours=ix)\n",
    "        elif delta_format == \"days\":\n",
    "            temp_y = origin + timedelta(days=ix)\n",
    "        elif delta_format == \"minutes\":\n",
    "            temp_y = origin + timedelta(minutes=ix)\n",
    "        elif delta_format == \"weeks\":\n",
    "            temp_y = origin + timedelta(weeks=ix)\n",
    "        elif delta_format == \"seconds\":\n",
    "            temp_y = origin + timedelta(seconds=ix)\n",
    "        elif delta_format == \"microseconds\":\n",
    "            temp_y = origin + timedelta(microseconds=ix)\n",
    "        elif delta_format == \"milliseconds\":\n",
    "            temp_y = origin + timedelta(milliseconds=ix)\n",
    "        else:\n",
    "            print(\"Sorry, this naive program only solve single time unit\")\n",
    "        y.append(temp_y.strftime(time_format))\n",
    "    y = np.asarray(y)\n",
    "    return(y)"
   ]
  },
  {
   "cell_type": "code",
   "execution_count": 69,
   "metadata": {
    "ExecuteTime": {
     "end_time": "2018-05-04T00:43:25.171553Z",
     "start_time": "2018-05-04T00:43:25.169007Z"
    }
   },
   "outputs": [],
   "source": [
    "#input\n",
    "model_dir = \"/Users/shua784/Paraview/HFR/HFR_200x200x2_1w_bc/\"\n",
    "fname_model_origin = model_dir + \"model_origin.txt\"\n",
    "fname_material_h5 = model_dir + \"HFR_material_river.h5\"\n",
    "fname_pflotran_h5 = model_dir + \"pflotran*.h5\"\n",
    "\n",
    "data_dir = \"/Users/shua784/Dropbox/PNNL/Projects/Reach_scale_model/data/\"\n",
    "fname_mass1_coord = data_dir + \"MASS1/coordinates.csv\"\n",
    "\n",
    "#output\n",
    "out_dir = \"/Users/shua784/Dropbox/PNNL/Projects/Reach_scale_model/Outputs/HFR_model_200x200x2_1w_bc/\"\n",
    "fig_wl = out_dir + 'wl/'\n",
    "# output_dir = \"/Users/song884/remote/reach/Outputs/HFR_100x100x5_6h_bc/\"\n",
    "# fig_dir = \"/Users/song884/remote/reach/figures/HFR_100x100x5_6h_bc/wl/\"\n",
    "# data_dir = \"/Users/song884/remote/reach/data/\""
   ]
  },
  {
   "cell_type": "code",
   "execution_count": 7,
   "metadata": {
    "ExecuteTime": {
     "end_time": "2018-05-03T23:04:42.567531Z",
     "start_time": "2018-05-03T23:04:42.563346Z"
    }
   },
   "outputs": [],
   "source": [
    "date_origin = datetime.strptime(\"2007-03-28 00:00:00\", \"%Y-%m-%d %H:%M:%S\")\n",
    "model_origin = np.genfromtxt(\n",
    "    fname_model_origin, delimiter=\" \", skip_header=1)"
   ]
  },
  {
   "cell_type": "code",
   "execution_count": 8,
   "metadata": {
    "ExecuteTime": {
     "end_time": "2018-05-03T23:05:28.854391Z",
     "start_time": "2018-05-03T23:05:28.823614Z"
    }
   },
   "outputs": [],
   "source": [
    "# read mass1 coordinates\n",
    "section_coord = np.genfromtxt(\n",
    "    fname_mass1_coord, delimiter=\",\", skip_header=1)\n",
    "section_coord[:, 1] = section_coord[:, 1] - model_origin[0]\n",
    "section_coord[:, 2] = section_coord[:, 2] - model_origin[1]\n",
    "line1 = section_coord[0, 1:3] / 1000\n",
    "line2 = section_coord[int(len(section_coord[:, 1]) / 2), 1:3] / 1000\n",
    "line3 = section_coord[-1, 1:3] / 1000\n",
    "\n",
    "line1_x = [line1[0]] * 2\n",
    "line1_y = [line1[1] - 5, line1[1] + 5]\n",
    "line2_x = [line2[0] - 5, line2[0] + 5]\n",
    "line2_y = [line2[1]] * 2\n",
    "line3_x = [line3[0] - 5, line3[0] + 5]\n",
    "line3_y = [line3[1]] * 2"
   ]
  },
  {
   "cell_type": "code",
   "execution_count": 79,
   "metadata": {
    "ExecuteTime": {
     "end_time": "2018-05-07T03:58:24.340797Z",
     "start_time": "2018-05-07T03:58:24.338572Z"
    }
   },
   "outputs": [],
   "source": [
    "# # print group names\n",
    "# for name in material_h5:\n",
    "#     print(name)\n",
    "\n",
    "# print both group and its member names\n",
    "def printname(name):\n",
    "    print(name)"
   ]
  },
  {
   "cell_type": "code",
   "execution_count": 80,
   "metadata": {
    "ExecuteTime": {
     "end_time": "2018-05-07T03:58:32.720800Z",
     "start_time": "2018-05-07T03:58:32.667311Z"
    }
   },
   "outputs": [
    {
     "name": "stdout",
     "output_type": "stream",
     "text": [
      "Materials\n",
      "Materials/Cell Ids\n",
      "Materials/Material Ids\n",
      "Regions\n",
      "Regions/Mass1_100\n",
      "Regions/Mass1_100/Cell Ids\n",
      "Regions/Mass1_100/Face Ids\n",
      "Regions/Mass1_101\n",
      "Regions/Mass1_101/Cell Ids\n",
      "Regions/Mass1_101/Face Ids\n",
      "Regions/Mass1_102\n",
      "Regions/Mass1_102/Cell Ids\n",
      "Regions/Mass1_102/Face Ids\n",
      "Regions/Mass1_103\n",
      "Regions/Mass1_103/Cell Ids\n",
      "Regions/Mass1_103/Face Ids\n",
      "Regions/Mass1_104\n",
      "Regions/Mass1_104/Cell Ids\n",
      "Regions/Mass1_104/Face Ids\n",
      "Regions/Mass1_105\n",
      "Regions/Mass1_105/Cell Ids\n",
      "Regions/Mass1_105/Face Ids\n",
      "Regions/Mass1_106\n",
      "Regions/Mass1_106/Cell Ids\n",
      "Regions/Mass1_106/Face Ids\n",
      "Regions/Mass1_107\n",
      "Regions/Mass1_107/Cell Ids\n",
      "Regions/Mass1_107/Face Ids\n",
      "Regions/Mass1_108\n",
      "Regions/Mass1_108/Cell Ids\n",
      "Regions/Mass1_108/Face Ids\n",
      "Regions/Mass1_109\n",
      "Regions/Mass1_109/Cell Ids\n",
      "Regions/Mass1_109/Face Ids\n",
      "Regions/Mass1_110\n",
      "Regions/Mass1_110/Cell Ids\n",
      "Regions/Mass1_110/Face Ids\n",
      "Regions/Mass1_111\n",
      "Regions/Mass1_111/Cell Ids\n",
      "Regions/Mass1_111/Face Ids\n",
      "Regions/Mass1_112\n",
      "Regions/Mass1_112/Cell Ids\n",
      "Regions/Mass1_112/Face Ids\n",
      "Regi"
     ]
    },
    {
     "data": {
      "text/html": [
       "<b>limit_output extension: Maximum message size of 1000 exceeded with 20976 characters</b>"
      ]
     },
     "metadata": {},
     "output_type": "display_data"
    }
   ],
   "source": [
    "    \n",
    "# open file for reading\n",
    "material_h5 = h5.File(fname_material_h5, \"r\") \n",
    "material_h5.visit(printname)"
   ]
  },
  {
   "cell_type": "code",
   "execution_count": 23,
   "metadata": {
    "ExecuteTime": {
     "end_time": "2018-05-03T23:44:20.455341Z",
     "start_time": "2018-05-03T23:44:20.453266Z"
    }
   },
   "outputs": [],
   "source": [
    "# dset_cellid = material_h5['Materials/Cell Ids']"
   ]
  },
  {
   "cell_type": "code",
   "execution_count": 29,
   "metadata": {
    "ExecuteTime": {
     "end_time": "2018-05-03T23:49:45.428381Z",
     "start_time": "2018-05-03T23:49:45.418439Z"
    }
   },
   "outputs": [
    {
     "data": {
      "text/plain": [
       "array([ 1,  2,  3,  4,  5,  6,  7,  8,  9, 10], dtype=int32)"
      ]
     },
     "execution_count": 29,
     "metadata": {},
     "output_type": "execute_result"
    }
   ],
   "source": [
    "# dset_cellid[0:10]"
   ]
  },
  {
   "cell_type": "code",
   "execution_count": 22,
   "metadata": {
    "ExecuteTime": {
     "end_time": "2018-05-03T23:44:04.917218Z",
     "start_time": "2018-05-03T23:44:04.913932Z"
    }
   },
   "outputs": [
    {
     "data": {
      "text/plain": [
       "<Attributes of HDF5 object at 4597524024>"
      ]
     },
     "execution_count": 22,
     "metadata": {},
     "output_type": "execute_result"
    }
   ],
   "source": [
    "# dset_cellid.shape # dimension\n",
    "# dset_cellid.dtype\n",
    "# dset_cellid.attrs"
   ]
  },
  {
   "cell_type": "code",
   "execution_count": 42,
   "metadata": {
    "ExecuteTime": {
     "end_time": "2018-05-04T00:10:28.998520Z",
     "start_time": "2018-05-04T00:10:28.995453Z"
    }
   },
   "outputs": [],
   "source": [
    "all_h5 = glob.glob(fname_pflotran_h5) # find all \"pflotran*.h5\" files\n",
    "all_h5 = np.sort(all_h5)\n",
    "\n",
    "input_h5 = h5.File(all_h5[0], \"r\")"
   ]
  },
  {
   "cell_type": "code",
   "execution_count": 43,
   "metadata": {
    "ExecuteTime": {
     "end_time": "2018-05-04T00:10:46.273894Z",
     "start_time": "2018-05-04T00:10:40.651421Z"
    }
   },
   "outputs": [
    {
     "name": "stdout",
     "output_type": "stream",
     "text": [
      "Coordinates\n",
      "Coordinates/X [m]\n",
      "Coordinates/Y [m]\n",
      "Coordinates/Z [m]\n",
      "Provenance\n",
      "Provenance/PETSc\n",
      "Provenance/PETSc/detail_petsc_config\n",
      "Provenance/PETSc/detail_petsc_parent\n",
      "Provenance/PETSc/detail_petsc_status\n",
      "Provenance/PFLOTRAN\n",
      "Provenance/PFLOTRAN/detail_pflotran_diff\n",
      "Provenance/PFLOTRAN/detail_pflotran_fflags\n",
      "Provenance/PFLOTRAN/detail_pflotran_parent\n",
      "Provenance/PFLOTRAN/detail_pflotran_status\n",
      "Provenance/PFLOTRAN/pflotran_compile_date_time\n",
      "Provenance/PFLOTRAN/pflotran_compile_hostname\n",
      "Provenance/PFLOTRAN/pflotran_compile_user\n",
      "Provenance/PFLOTRAN/pflotran_input_file\n",
      "Time:  3.24000E+04 h\n",
      "Time:  3.24000E+04 h/Liquid X-Flux Velocities\n",
      "Time:  3.24000E+04 h/Liquid Y-Flux Velocities\n",
      "Time:  3.24000E+04 h/Liquid Z-Flux Velocities\n",
      "Time:  3.24000E+04 h/Liquid_Pressure [Pa]\n",
      "Time:  3.24000E+04 h/Liquid_Saturation\n",
      "Time:  3.24000E+04 h/Material_ID\n",
      "Time:  3.24000E+04 h/Total_Tracer [M]\n",
      "Time:  3.24000E+04 h/Total_Tracer_Age [M]\n",
      "Time:  3.24000E+04 h/Tracer_Age [h-molar]\n",
      "Time:  3.25200E+04 h\n",
      "Time:  3.25200"
     ]
    },
    {
     "data": {
      "text/html": [
       "<b>limit_output extension: Maximum message size of 1000 exceeded with 6735 characters</b>"
      ]
     },
     "metadata": {},
     "output_type": "display_data"
    }
   ],
   "source": [
    "input_h5.visit(printname)"
   ]
  },
  {
   "cell_type": "code",
   "execution_count": 44,
   "metadata": {
    "ExecuteTime": {
     "end_time": "2018-05-04T00:15:27.003882Z",
     "start_time": "2018-05-04T00:15:23.254651Z"
    }
   },
   "outputs": [],
   "source": [
    "x_grids = list(input_h5[\"Coordinates\"]['X [m]'])\n",
    "y_grids = list(input_h5[\"Coordinates\"]['Y [m]'])\n",
    "z_grids = list(input_h5[\"Coordinates\"]['Z [m]'])\n",
    "input_h5.close()\n",
    "\n",
    "dx = np.diff(x_grids)\n",
    "dy = np.diff(y_grids)\n",
    "dz = np.diff(z_grids)\n",
    "\n",
    "nx = len(dx)\n",
    "ny = len(dy)\n",
    "nz = len(dz)\n",
    "\n",
    "# x,y,z coordinates at cell center\n",
    "x = x_grids[0] + np.cumsum(dx) - 0.5 * dx[0]\n",
    "y = y_grids[0] + np.cumsum(dy) - 0.5 * dy[0]\n",
    "z = z_grids[0] + np.cumsum(dz) - 0.5 * dz[0]\n",
    "\n",
    "# create grids--a list of arrays based nx, ny, nz\n",
    "grids = np.asarray([(x, y, z) for z in range(nz)\n",
    "                    for y in range(ny) for x in range(nx)])"
   ]
  },
  {
   "cell_type": "code",
   "execution_count": 94,
   "metadata": {
    "ExecuteTime": {
     "end_time": "2018-05-07T04:56:36.923238Z",
     "start_time": "2018-05-07T04:56:36.920084Z"
    }
   },
   "outputs": [
    {
     "data": {
      "text/plain": [
       "array([[0, 0, 0],\n",
       "       [1, 0, 0],\n",
       "       [2, 0, 0],\n",
       "       [3, 0, 0],\n",
       "       [4, 0, 0],\n",
       "       [5, 0, 0],\n",
       "       [6, 0, 0],\n",
       "       [7, 0, 0],\n",
       "       [8, 0, 0]])"
      ]
     },
     "execution_count": 94,
     "metadata": {},
     "output_type": "execute_result"
    }
   ],
   "source": [
    "grids[0:9]"
   ]
  },
  {
   "cell_type": "code",
   "execution_count": 82,
   "metadata": {
    "ExecuteTime": {
     "end_time": "2018-05-07T04:05:55.575247Z",
     "start_time": "2018-05-07T04:05:55.564833Z"
    },
    "scrolled": true
   },
   "outputs": [
    {
     "data": {
      "text/plain": [
       "[4928198,\n",
       " 4928498,\n",
       " 5018199,\n",
       " 5018199,\n",
       " 5018497,\n",
       " 5108497,\n",
       " 5198497,\n",
       " 5198497,\n",
       " 5288497,\n",
       " 5288497,\n",
       " 5378497,\n",
       " 5378497,\n",
       " 5378497]"
      ]
     },
     "execution_count": 82,
     "metadata": {},
     "output_type": "execute_result"
    }
   ],
   "source": [
    "# time_index[0:2]\n",
    "# list(material_h5['Regions'].keys())\n",
    "list(material_h5[\"Regions\"][i_region][\"Cell Ids\"])"
   ]
  },
  {
   "cell_type": "code",
   "execution_count": 84,
   "metadata": {
    "ExecuteTime": {
     "end_time": "2018-05-07T04:36:49.075953Z",
     "start_time": "2018-05-07T04:36:48.535677Z"
    }
   },
   "outputs": [],
   "source": [
    "# open file for reading\n",
    "material_h5 = h5.File(fname_material_h5, \"r\") \n",
    "# read river cell ids\n",
    "river_cells = []\n",
    "for i_region in list(material_h5['Regions'].keys()):\n",
    "    river_cells = np.append(river_cells, np.asarray(\n",
    "        list(material_h5[\"Regions\"][i_region][\"Cell Ids\"])))\n",
    "river_cells = np.unique(river_cells).astype(int)\n",
    "river_cells = river_cells - 1  # need minus 1 as python index started with 0\n",
    "# label river cells in x-y plane with '1'\n",
    "yx_river = np.asarray([np.nan] * (ny * nx)).reshape(ny, nx) # initialize ny*nx array with nan value\n",
    "for icell in river_cells:\n",
    "    yx_river[grids[icell, 1], grids[icell, 0]] = 1\n",
    "    \n",
    "material_h5.close()"
   ]
  },
  {
   "cell_type": "code",
   "execution_count": 100,
   "metadata": {
    "ExecuteTime": {
     "end_time": "2018-05-07T05:54:14.246118Z",
     "start_time": "2018-05-07T05:54:14.243095Z"
    }
   },
   "outputs": [
    {
     "data": {
      "text/plain": [
       "32400.0"
      ]
     },
     "execution_count": 100,
     "metadata": {},
     "output_type": "execute_result"
    }
   ],
   "source": [
    "# list(enumerate(groups))\n",
    "float(itime[7:18])"
   ]
  },
  {
   "cell_type": "code",
   "execution_count": 107,
   "metadata": {
    "ExecuteTime": {
     "end_time": "2018-05-07T06:15:04.448958Z",
     "start_time": "2018-05-07T06:15:03.422730Z"
    },
    "scrolled": false
   },
   "outputs": [
    {
     "name": "stdout",
     "output_type": "stream",
     "text": [
      "/Users/shua784/Paraview/HFR/HFR_200x200x2_1w_bc/pflotran_200x200x2_1w_bc.h5\n",
      "Time:  3.24000E+04 h\n"
     ]
    },
    {
     "name": "stderr",
     "output_type": "stream",
     "text": [
      "/Library/Frameworks/Python.framework/Versions/3.6/lib/python3.6/site-packages/matplotlib/contour.py:960: UserWarning: The following kwargs were not used by contour: 'V'\n",
      "  s)\n"
     ]
    },
    {
     "data": {
      "image/png": "[encoded data removed]",
      "text/plain": [
       "<Figure size 468x396 with 2 Axes>"
      ]
     },
     "metadata": {},
     "output_type": "display_data"
    }
   ],
   "source": [
    "# loop over pflotran*.h5 files\n",
    "for i_h5 in all_h5:\n",
    "    print(i_h5)\n",
    "    input_h5 = h5.File(i_h5, \"r\")\n",
    "\n",
    "    groups = list(input_h5.keys()) # create a list with group names\n",
    "    time_index = [s for s, s in enumerate(groups) if \"Time:\" in s] # enumerate returns its index (index, string)\n",
    "\n",
    "    # loop over time step\n",
    "    for itime in time_index[0:1]:\n",
    "        \n",
    "#         ipdb.set_trace()\n",
    "        \n",
    "        print(itime)\n",
    "        # initialize total head\n",
    "        temp_wl = np.asarray([np.nan] * (ny * nx)).reshape(ny, nx)\n",
    "        # read pressure\n",
    "        temp_pressure = np.asarray(\n",
    "            list(input_h5[itime][\"Liquid_Pressure [Pa]\"]))\n",
    "        # convert p to head\n",
    "        temp_head = (temp_pressure - 101325) / 997.16 / 9.8068\n",
    "        for ix in range(nx):\n",
    "            for iy in range(ny):\n",
    "                positive_head_index = np.where(temp_head[ix, iy, :] > 0)[0] # take the first positive head\n",
    "                if (len(positive_head_index) > 0): # if positive head exists, then caculate total head\n",
    "                    iz = positive_head_index[0]\n",
    "                    temp_wl[iy, ix] = temp_head[ix, iy, iz] + z[iz]\n",
    "        \n",
    "#         ipdb.set_trace()\n",
    "        \n",
    "        real_itime = batch_delta_to_time(date_origin, [float(\n",
    "            itime[7:18])], \"%Y-%m-%d %H:%M:%S\", \"hours\")\n",
    "        real_itime = str(real_itime[0])\n",
    "        fig_name = fig_wl + real_itime + \".png\"\n",
    "        gs = gridspec.GridSpec(1, 1)\n",
    "        fig = plt.figure()\n",
    "        ax1 = fig.add_subplot(gs[0, 0])\n",
    "        ax1.plot(line1_x, line1_y, \"black\")\n",
    "        ax1.plot(line2_x, line2_y, \"black\")\n",
    "        ax1.plot(line3_x, line3_y, \"black\")\n",
    "        cf1 = ax1.contourf(x / 1000, y / 1000, temp_wl,\n",
    "                           cmap=plt.cm.jet,\n",
    "                           levels=np.arange(100, 130.1, 0.1),\n",
    "                           vmin=100,\n",
    "                           vmax=130,\n",
    "                           extend=\"both\",\n",
    "                           V=np.arange(100, 130.1, 5)\n",
    "                           )\n",
    "        cf2 = ax1.contour(x / 1000, y / 1000, temp_wl,\n",
    "                          colors=\"grey\",\n",
    "                          levels=np.arange(100, 130.1, 1.5),\n",
    "                          linewidths=1,\n",
    "                          vmin=100,\n",
    "                          vmax=130)\n",
    "\n",
    "        ax1.set_xlabel(\"Easting (km)\")\n",
    "        ax1.set_ylabel(\"Northing (km)\")\n",
    "        ax1.set_aspect(\"equal\", \"datalim\")\n",
    "        ax1.set_xlim([np.min(x_grids) / 1000, np.max(x_grids) / 1000])\n",
    "        ax1.set_ylim([np.min(x_grids) / 1000, np.max(x_grids) / 1000])\n",
    "        ax1.set_aspect(\"equal\", \"datalim\")\n",
    "        cb1 = plt.colorbar(cf1, extend=\"both\")  # ,\n",
    "#                           orientation=\"horizontal\", shrink=0.8, aspect=25)\n",
    "        cb1.ax.set_ylabel(\"Groundwater Level (m)\", rotation=270, labelpad=20)\n",
    "        fig.tight_layout()\n",
    "        cf3 = ax1.contourf(x / 1000, y / 1000, yx_river, colors=\"black\")\n",
    "        fig.set_size_inches(6.5, 5.5)"
   ]
  },
  {
   "cell_type": "code",
   "execution_count": 78,
   "metadata": {
    "ExecuteTime": {
     "end_time": "2018-05-04T00:49:31.772431Z",
     "start_time": "2018-05-04T00:49:29.964670Z"
    }
   },
   "outputs": [],
   "source": [
    "        fig.savefig(fig_name, dpi=600, transparent=True)\n",
    "        plt.close(fig)\n",
    "input_h5.close()"
   ]
  }
 ],
 "metadata": {
  "kernelspec": {
   "display_name": "Python 3",
   "language": "python",
   "name": "python3"
  },
  "language_info": {
   "codemirror_mode": {
    "name": "ipython",
    "version": 3
   },
   "file_extension": ".py",
   "mimetype": "text/x-python",
   "name": "python",
   "nbconvert_exporter": "python",
   "pygments_lexer": "ipython3",
   "version": "3.6.3"
  },
  "varInspector": {
   "cols": {
    "lenName": 16,
    "lenType": 16,
    "lenVar": 40
   },
   "kernels_config": {
    "python": {
     "delete_cmd_postfix": "",
     "delete_cmd_prefix": "del ",
     "library": "var_list.py",
     "varRefreshCmd": "print(var_dic_list())"
    },
    "r": {
     "delete_cmd_postfix": ") ",
     "delete_cmd_prefix": "rm(",
     "library": "var_list.r",
     "varRefreshCmd": "cat(var_dic_list()) "
    }
   },
   "oldHeight": 361,
   "position": {
    "height": "40px",
    "left": "1128px",
    "right": "20px",
    "top": "110px",
    "width": "324px"
   },
   "types_to_exclude": [
    "module",
    "function",
    "builtin_function_or_method",
    "instance",
    "_Feature"
   ],
   "varInspector_section_display": "none",
   "window_display": true
  }
 },
 "nbformat": 4,
 "nbformat_minor": 2
}
