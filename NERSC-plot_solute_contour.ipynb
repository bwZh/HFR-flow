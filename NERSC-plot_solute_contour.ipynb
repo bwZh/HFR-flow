{
 "cells": [
  {
   "cell_type": "code",
   "execution_count": 1,
   "metadata": {
    "ExecuteTime": {
     "end_time": "2018-07-18T00:07:42.513592Z",
     "start_time": "2018-07-18T00:07:41.913210Z"
    }
   },
   "outputs": [],
   "source": [
    "%matplotlib inline\n",
    "import numpy as np\n",
    "import h5py as h5\n",
    "import glob\n",
    "import matplotlib.pyplot as plt\n",
    "import matplotlib.gridspec as gridspec\n",
    "# from matplotlib.patches import Polygon\n",
    "# from matplotlib.collections import PatchCollection\n",
    "from datetime import datetime, timedelta\n",
    "import pandas as pd\n",
    "from shapely.geometry.polygon import Polygon\n",
    "from natsort import natsorted, ns, natsort_keygen\n",
    "import re\n",
    "import shapefile as shp"
   ]
  },
  {
   "cell_type": "code",
   "execution_count": 2,
   "metadata": {
    "ExecuteTime": {
     "end_time": "2018-07-18T00:07:43.740904Z",
     "start_time": "2018-07-18T00:07:43.725498Z"
    }
   },
   "outputs": [],
   "source": [
    "def batch_delta_to_time(origin, x, time_format, delta_format):\n",
    "    y = []\n",
    "    for ix in x:\n",
    "        if delta_format == \"hours\":\n",
    "            temp_y = origin + timedelta(hours=ix)\n",
    "        elif delta_format == \"days\":\n",
    "            temp_y = origin + timedelta(days=ix)\n",
    "        elif delta_format == \"minutes\":\n",
    "            temp_y = origin + timedelta(minutes=ix)\n",
    "        elif delta_format == \"weeks\":\n",
    "            temp_y = origin + timedelta(weeks=ix)\n",
    "        elif delta_format == \"seconds\":\n",
    "            temp_y = origin + timedelta(seconds=ix)\n",
    "        elif delta_format == \"microseconds\":\n",
    "            temp_y = origin + timedelta(microseconds=ix)\n",
    "        elif delta_format == \"milliseconds\":\n",
    "            temp_y = origin + timedelta(milliseconds=ix)\n",
    "        else:\n",
    "            print(\"Sorry, this naive program only solve single time unit\")\n",
    "        y.append(temp_y.strftime(time_format))\n",
    "    y = np.asarray(y)\n",
    "    return(y)"
   ]
  },
  {
   "cell_type": "code",
   "execution_count": 3,
   "metadata": {},
   "outputs": [],
   "source": [
    "def natural_sort(l): \n",
    "    convert = lambda text: int(text) if text.isdigit() else text.lower() \n",
    "    alphanum_key = lambda key: [ convert(c) for c in re.split('([0-9]+)', key) ] \n",
    "    return sorted(l, key = alphanum_key)  "
   ]
  },
  {
   "cell_type": "markdown",
   "metadata": {},
   "source": [
    "# I/O files"
   ]
  },
  {
   "cell_type": "code",
   "execution_count": 4,
   "metadata": {
    "ExecuteTime": {
     "end_time": "2018-07-18T00:07:45.785734Z",
     "start_time": "2018-07-18T00:07:45.780269Z"
    }
   },
   "outputs": [],
   "source": [
    "#input\n",
    "case_name = \"HFR_model_100x100x2_cyclic/\"\n",
    "\n",
    "model_dir = \"/global/cscratch1/sd/pshuai/\" + case_name\n",
    "# fname_model_origin = model_dir + \"model_origin.txt\"\n",
    "fname_material_h5 = model_dir + \"HFR_material_river.h5\"\n",
    "fname_pflotran_h5 = model_dir + \"pflotran_100x100x2_cyclic_2011_2015.h5\"\n",
    "\n",
    "data_dir = \"/global/project/projectdirs/m1800/pin/Reach_scale_model/data/\"\n",
    "fname_mass1_coord = data_dir + \"MASS1/coordinates.csv\"\n",
    "fname_hf_shp = data_dir + \"hanfordArea.shp\"\n",
    "#output\n",
    "out_dir = \"/global/project/projectdirs/m1800/pin/Reach_scale_model/Outputs/\" + case_name\n",
    "# fig_wl = out_dir + 'wl/'\n",
    "fig_tracer = out_dir + \"tracer/\"\n",
    "\n",
    "\n",
    "data_dir = \"/global/project/projectdirs/m1800/pin/Reach_scale_model/data/\"\n",
    "fname_river_geo = data_dir + \"river_geometry_manual.csv\"\n",
    "# output_dir = \"/Users/song884/remote/reach/Outputs/HFR_100x100x5_6h_bc/\"\n",
    "# fig_dir = \"/Users/song884/remote/reach/figures/HFR_100x100x5_6h_bc/wl/\"\n",
    "# data_dir = \"/Users/song884/remote/reach/data/\""
   ]
  },
  {
   "cell_type": "code",
   "execution_count": 5,
   "metadata": {
    "ExecuteTime": {
     "end_time": "2018-07-18T00:07:54.712593Z",
     "start_time": "2018-07-18T00:07:54.707412Z"
    }
   },
   "outputs": [],
   "source": [
    "date_origin = datetime.strptime(\"2007-03-28 12:00:00\", \"%Y-%m-%d %H:%M:%S\")\n",
    "# model_origin = np.genfromtxt(\n",
    "#     fname_model_origin, delimiter=\" \", skip_header=1)\n",
    "model_origin = [551600, 104500]"
   ]
  },
  {
   "cell_type": "markdown",
   "metadata": {},
   "source": [
    "## import mass1 coord"
   ]
  },
  {
   "cell_type": "code",
   "execution_count": 5,
   "metadata": {
    "ExecuteTime": {
     "end_time": "2018-07-18T00:08:15.693225Z",
     "start_time": "2018-07-18T00:08:15.675545Z"
    }
   },
   "outputs": [],
   "source": [
    "## read mass1 coordinates\n",
    "section_coord = np.genfromtxt(\n",
    "    fname_mass1_coord, delimiter=\",\", skip_header=1)\n",
    "section_coord[:, 1] = section_coord[:, 1] - model_origin[0]\n",
    "section_coord[:, 2] = section_coord[:, 2] - model_origin[1]\n",
    "line1 = section_coord[0, 1:3] / 1000\n",
    "line2 = section_coord[int(len(section_coord[:, 1]) / 2), 1:3] / 1000\n",
    "line3 = section_coord[-1, 1:3] / 1000\n",
    "\n",
    "line1_x = [line1[0]] * 2\n",
    "line1_y = [line1[1] - 5, line1[1] + 5]\n",
    "line2_x = [line2[0] - 5, line2[0] + 5]\n",
    "line2_y = [line2[1]] * 2\n",
    "line3_x = [line3[0] - 5, line3[0] + 5]\n",
    "line3_y = [line3[1]] * 2"
   ]
  },
  {
   "cell_type": "markdown",
   "metadata": {},
   "source": [
    "## import model dimension"
   ]
  },
  {
   "cell_type": "code",
   "execution_count": 6,
   "metadata": {
    "ExecuteTime": {
     "end_time": "2018-07-18T00:16:45.254618Z",
     "start_time": "2018-07-18T00:16:45.247023Z"
    }
   },
   "outputs": [],
   "source": [
    "# all_h5 = glob.glob(fname_pflotran_h5) # find all \"pflotran*.h5\" files\n",
    "# all_h5 = np.sort(all_h5)\n",
    "\n",
    "input_h5 = h5.File(fname_pflotran_h5, \"r\")\n",
    "groups = list(input_h5.keys()) # create a list with group names\n",
    "time_index = [s for s, s in enumerate(groups) if \"Time:\" in s] # enumerate returns its index (index, string)"
   ]
  },
  {
   "cell_type": "code",
   "execution_count": 7,
   "metadata": {
    "ExecuteTime": {
     "end_time": "2018-07-18T16:55:54.360429Z",
     "start_time": "2018-07-18T16:55:54.352053Z"
    }
   },
   "outputs": [],
   "source": [
    "# sort time based on scientific value\n",
    "time_index = sorted(time_index, key = lambda time: float(time[7:18]))\n",
    "\n",
    "real_time = [str(batch_delta_to_time(date_origin, [float(itime[7:18])], \"%Y-%m-%d %H:%M:%S\", \"hours\")[0])\n",
    "              for itime in time_index]"
   ]
  },
  {
   "cell_type": "code",
   "execution_count": 8,
   "metadata": {
    "ExecuteTime": {
     "end_time": "2018-07-18T00:10:58.549488Z",
     "start_time": "2018-07-18T00:10:54.874316Z"
    }
   },
   "outputs": [],
   "source": [
    "x_grids = list(input_h5[\"Coordinates\"]['X [m]'])\n",
    "y_grids = list(input_h5[\"Coordinates\"]['Y [m]'])\n",
    "z_grids = list(input_h5[\"Coordinates\"]['Z [m]'])\n",
    "\n",
    "\n",
    "dx = np.diff(x_grids)\n",
    "dy = np.diff(y_grids)\n",
    "dz = np.diff(z_grids)\n",
    "\n",
    "nx = len(dx)\n",
    "ny = len(dy)\n",
    "nz = len(dz)\n",
    "\n",
    "# x,y,z coordinates at cell center\n",
    "x = x_grids[0] + np.cumsum(dx) - 0.5 * dx[0]\n",
    "y = y_grids[0] + np.cumsum(dy) - 0.5 * dy[0]\n",
    "z = z_grids[0] + np.cumsum(dz) - 0.5 * dz[0]\n",
    "\n",
    "# create grids--a list of arrays based nx, ny, nz\n",
    "grids = np.asarray([(x, y, z) for z in range(nz)\n",
    "                    for y in range(ny) for x in range(nx)])"
   ]
  },
  {
   "cell_type": "markdown",
   "metadata": {},
   "source": [
    "## import river cells"
   ]
  },
  {
   "cell_type": "code",
   "execution_count": 11,
   "metadata": {
    "ExecuteTime": {
     "end_time": "2018-07-18T00:09:40.122680Z",
     "start_time": "2018-07-18T00:09:40.111920Z"
    },
    "scrolled": true
   },
   "outputs": [],
   "source": [
    "# open file for reading\n",
    "material_h5 = h5.File(fname_material_h5, \"r\") \n",
    "\n",
    "# read river cell ids\n",
    "river_cells = []\n",
    "for i_region in list(material_h5['Regions'].keys()):\n",
    "    river_cells = np.append(river_cells, np.asarray(\n",
    "        list(material_h5[\"Regions\"][i_region][\"Cell Ids\"])))\n",
    "river_cells = np.unique(river_cells).astype(int)\n",
    "river_cells = river_cells - 1  # need minus 1 as python index started with 0\n",
    "# label river cells in x-y plane with '1'\n",
    "yx_river = np.asarray([np.nan] * (ny * nx)).reshape(ny, nx) # initialize ny*nx array with nan value\n",
    "for icell in river_cells:\n",
    "    yx_river[grids[icell, 1], grids[icell, 0]] = 1\n",
    "    \n",
    "material_h5.close()"
   ]
  },
  {
   "cell_type": "markdown",
   "metadata": {},
   "source": [
    "## import river geometry"
   ]
  },
  {
   "cell_type": "code",
   "execution_count": 9,
   "metadata": {},
   "outputs": [],
   "source": [
    "river_geo = pd.read_csv(fname_river_geo)\n",
    "\n",
    "river_geo['x'] = (river_geo['x'] - model_origin[0])/1000\n",
    "river_geo['y'] = (river_geo['y'] - model_origin[1])/1000\n",
    "\n",
    "polygon = Polygon(river_geo.loc[:, [\"x\", \"y\"]].values)\n",
    "river_x,river_y = polygon.exterior.xy"
   ]
  },
  {
   "cell_type": "code",
   "execution_count": null,
   "metadata": {},
   "outputs": [],
   "source": [
    "sf = shp.Reader(fname_hf_shp)\n",
    "\n",
    "plt.figure()\n",
    "for shape in sf.shapeRecords():\n",
    "    x = [i[0] for i in shape.shape.points[:]]\n",
    "    y = [i[1] for i in shape.shape.points[:]]\n",
    "    plt.plot(x,y)"
   ]
  },
  {
   "cell_type": "markdown",
   "metadata": {},
   "source": [
    "# plot tracer contour"
   ]
  },
  {
   "cell_type": "code",
   "execution_count": 10,
   "metadata": {
    "ExecuteTime": {
     "end_time": "2018-07-18T00:17:55.234849Z",
     "start_time": "2018-07-18T00:17:52.614392Z"
    }
   },
   "outputs": [
    {
     "name": "stdout",
     "output_type": "stream",
     "text": [
      "2011-01-01 00:00:00\n"
     ]
    },
    {
     "data": {
      "image/png": "[encoded data removed]",
      "text/plain": [
       "<matplotlib.figure.Figure at 0x2ac14127ddd8>"
      ]
     },
     "metadata": {},
     "output_type": "display_data"
    }
   ],
   "source": [
    "%matplotlib inline\n",
    "# patches = []\n",
    "# loop over time step\n",
    "for itime in time_index[:1:]:\n",
    "    #itime = 6003 # 2011-5-31\n",
    "#     itime = 6383 # 2011-9-3\n",
    "#     print(itime)\n",
    "    # initialize total head\n",
    "    temp_max_tracer = np.asarray([np.nan] * (ny * nx)).reshape(ny, nx)\n",
    "    # read pressure\n",
    "    temp_total_tracer = np.asarray(list(input_h5[itime][\"Total_Tracer [M]\"]))\n",
    "\n",
    "    for ix in range(nx):\n",
    "        for iy in range(ny):\n",
    "            max_index = np.argmax(temp_total_tracer[ix, iy, :])\n",
    "            temp_max_tracer[iy, ix] = temp_total_tracer[ix, iy, max_index] # for contour plot, temp_max_tracer must has shape of (ny, nx)\n",
    "    \n",
    "    temp_max_tracer[temp_max_tracer < 0.1] = np.nan\n",
    "    \n",
    "    real_itime = batch_delta_to_time(date_origin, [float(\n",
    "        itime[7:18])], \"%Y-%m-%d %H:%M:%S\", \"hours\")\n",
    "    real_itime = str(real_itime[0])\n",
    "    \n",
    "    print(real_itime)\n",
    "    ## plot tracer contour\n",
    "\n",
    "    gs = gridspec.GridSpec(1, 1)\n",
    "    fig = plt.figure()\n",
    "    ax1 = fig.add_subplot(gs[0, 0])\n",
    "#     ax1.plot(line1_x, line1_y, \"black\", alpha =0.7)\n",
    "#     ax1.plot(line2_x, line2_y, \"black\", alpha =0.7)\n",
    "#     ax1.plot(line3_x, line3_y, \"black\", alpha =0.7)\n",
    "    \n",
    "#     ax1.plot(river_x, river_y, color='#6699cc', alpha=0.7, linewidth=3, solid_capstyle='round', zorder=2)\n",
    "    \n",
    "    cf1 = ax1.contourf(x / 1000, y / 1000, temp_max_tracer,\n",
    "                       cmap=plt.cm.Reds,\n",
    "                       levels=np.arange(0, 1, 0.01),\n",
    "                       vmin=0,\n",
    "                       vmax=1,\n",
    "                       extend=\"both\",\n",
    "#                        V=np.arange(0, 1, 0.1)\n",
    "                       )\n",
    "#     cf2 = ax1.contour(x / 1000, y / 1000, temp_max_tracer,\n",
    "#                       colors=\"grey\",\n",
    "#                       levels=[0.5],\n",
    "#                       linewidths=1,\n",
    "#                       vmin=0,\n",
    "#                       vmax=1)\n",
    "#     plt.clabel(cf2, inline = True, fmt = '%3.0d', fontsize = 10)\n",
    "\n",
    "    # plot river shape\n",
    "    ax1.plot(river_x, river_y, color='black', alpha=0.7, linewidth=1, solid_capstyle='round', zorder=2)\n",
    " \n",
    "    ax1.set_xlabel(\"X (km)\", fontsize=12)\n",
    "    ax1.set_ylabel(\"Y (km)\", fontsize=12)\n",
    "\n",
    "    ax1.set_xlim([np.min(x_grids) / 1000, np.max(x_grids) / 1000])\n",
    "    ax1.set_ylim([np.min(x_grids) / 1000, np.max(x_grids) / 1000])\n",
    "#     ax1.set_aspect(\"equal\", \"datalim\")\n",
    "    cb1 = plt.colorbar(cf1, spacing = \"uniform\", ticks=np.arange(0, 1.1, 0.1))  # ,\n",
    "    #                           orientation=\"horizontal\", shrink=0.8, aspect=25)\n",
    "    cb1.ax.set_ylabel(\"River tracer (-)\", rotation=270, labelpad=20, fontsize=12)\n",
    "    \n",
    "    ax1.tick_params(axis = 'both', which = 'major', labelsize = 10)\n",
    "    \n",
    "   \n",
    "    fig.tight_layout()\n",
    "#     cf3 = ax1.contourf(x / 1000, y / 1000, yx_river, colors=\"black\")\n",
    "    fig.set_size_inches(6, 5)"
   ]
  },
  {
   "cell_type": "code",
   "execution_count": null,
   "metadata": {
    "ExecuteTime": {
     "end_time": "2018-07-18T00:17:55.234849Z",
     "start_time": "2018-07-18T00:17:52.614392Z"
    }
   },
   "outputs": [],
   "source": [
    "    fig_name = fig_tracer + real_itime + \".png\"\n",
    "    fig.savefig(fig_name, dpi=300, transparent=True)\n",
    "    plt.close(fig)\n",
    "    "
   ]
  },
  {
   "cell_type": "code",
   "execution_count": 58,
   "metadata": {
    "ExecuteTime": {
     "end_time": "2018-06-05T06:27:58.772316Z",
     "start_time": "2018-06-05T06:27:57.993634Z"
    }
   },
   "outputs": [],
   "source": [
    "input_h5.close()"
   ]
  },
  {
   "cell_type": "markdown",
   "metadata": {},
   "source": [
    "**save tracer plume as .txt output**"
   ]
  },
  {
   "cell_type": "code",
   "execution_count": 17,
   "metadata": {},
   "outputs": [],
   "source": [
    "temp_max_tracer_copy = np.nan_to_num(temp_max_tracer)\n",
    "# temp_max_tracer_copy = np.transpose(temp_max_tracer_copy)\n",
    "\n",
    "fname = out_dir + 'tracer_' + real_itime + '.txt'\n",
    "np.savetxt(fname, temp_max_tracer_copy, delimiter=' ') "
   ]
  },
  {
   "cell_type": "markdown",
   "metadata": {},
   "source": [
    "## plot zoomed in tracer plume"
   ]
  },
  {
   "cell_type": "code",
   "execution_count": 16,
   "metadata": {},
   "outputs": [],
   "source": [
    "block_x = np.array([561000, 591000])\n",
    "block_y = np.array([139000, 158000])\n",
    "block_x = block_x - model_origin[0]\n",
    "block_y = block_y - model_origin[1]"
   ]
  },
  {
   "cell_type": "code",
   "execution_count": 24,
   "metadata": {
    "ExecuteTime": {
     "end_time": "2018-07-18T00:17:55.234849Z",
     "start_time": "2018-07-18T00:17:52.614392Z"
    }
   },
   "outputs": [
    {
     "name": "stdout",
     "output_type": "stream",
     "text": [
      "2011-01-01 00:00:00\n",
      "2011-01-06 00:00:00\n",
      "2011-01-11 00:00:00\n",
      "2011-01-16 00:00:00\n",
      "2011-01-21 00:00:00\n",
      "2011-01-26 00:00:00\n",
      "2011-01-31 00:00:00\n",
      "2011-02-05 00:00:00\n",
      "2011-02-10 00:00:00\n",
      "2011-02-15 00:00:00\n",
      "2011-02-20 00:00:00\n",
      "2011-02-25 00:00:00\n",
      "2011-03-02 00:00:00\n",
      "2011-03-07 00:00:00\n",
      "2011-03-12 00:00:00\n",
      "2011-03-17 00:00:00\n",
      "2011-03-22 00:00:00\n",
      "2011-03-27 00:00:00\n",
      "2011-04-01 00:00:00\n",
      "2011-04-06 00:00:00\n",
      "2011-04-11 00:00:00\n",
      "2011-04-16 00:00:00\n",
      "2011-04-21 00:00:00\n",
      "2011-04-26 00:00:00\n",
      "2011-05-01 00:00:00\n",
      "2011-05-06 00:00:00\n",
      "2011-05-11 00:00:00\n",
      "2011-05-16 00:00:00\n",
      "2011-05-21 00:00:00\n",
      "2011-05-26 00:00:00\n",
      "2011-05-31 00:00:00\n",
      "2011-06-05 00:00:00\n",
      "2011-06-10 00:00:00\n",
      "2011-06-15 00:00:00\n",
      "2011-06-20 00:00:00\n",
      "2011-06-25 00:00:00\n",
      "2011-06-30 00:00:00\n",
      "2011-07-05 00:00:00\n",
      "2011-07-10 00:00:00\n",
      "2011-07-15 00:00:00\n",
      "2011-07-20 00:00:00\n",
      "2011-07-25 00:00:00\n",
      "2011-07-30 00:00:00\n",
      "2011-08-04 00:00:00\n",
      "2011-08-09 00:00:00\n",
      "2011-08-14 00:00:00\n",
      "2011-08-19 00:00:00\n",
      "2011-08-24 00:00:00\n",
      "2011-08-29 00:00:00\n",
      "2011-09-03 00:00:00\n",
      "2011-09-08 00:00:00\n",
      "2011-09-13 00:00:00\n",
      "2011-09-18 00:00:00\n",
      "2011-09-23 00:00:00\n",
      "2011-09-28 00:00:00\n",
      "2011-10-03 00:00:00\n",
      "2011-10-08 00:00:00\n",
      "2011-10-13 00:00:00\n",
      "2011-10-18 00:00:00\n",
      "2011-10-23 00:00:00\n",
      "2011-10-28 00:00:00\n",
      "2011-11-02 00:00:00\n",
      "2011-11-07 00:00:00\n",
      "2011-11-12 00:00:00\n",
      "2011-11-17 00:00:00\n",
      "2011-11-22 00:00:00\n",
      "2011-11-27 00:00:00\n",
      "2011-12-02 00:00:00\n",
      "2011-12-07 00:00:00\n",
      "2011-12-12 00:00:00\n",
      "2011-12-17 00:00:00\n",
      "2011-12-22 00:00:00\n",
      "2011-12-27 00:00:00\n",
      "2012-01-01 00:00:00\n",
      "2012-01-06 00:00:00\n",
      "2012-01-11 00:00:00\n",
      "2012-01-16 00:00:00\n",
      "2012-01-21 00:00:00\n",
      "2012-01-26 00:00:00\n",
      "2012-01-31 00:00:00\n",
      "2012-02-05 00:00:00\n",
      "2012-02-10 00:00:00\n",
      "2012-02-15 00:00:00\n",
      "2012-02-20 00:00:00\n",
      "2012-02-25 00:00:00\n",
      "2012-03-01 00:00:00\n",
      "2012-03-06 00:00:00\n",
      "2012-03-11 00:00:00\n",
      "2012-03-16 00:00:00\n",
      "2012-03-21 00:00:00\n",
      "2012-03-26 00:00:00\n",
      "2012-03-31 00:00:00\n",
      "2012-04-05 00:00:00\n",
      "2012-04-10 00:00:00\n",
      "2012-04-15 00:00:00\n",
      "2012-04-20 00:00:00\n",
      "2012-04-25 00:00:00\n",
      "2012-04-30 00:00:00\n",
      "2012-05-05 00:00:00\n",
      "2012-05-10 00:00:00\n",
      "2012-05-15 00:00:00\n",
      "2012-05-20 00:00:00\n",
      "2012-05-25 00:00:00\n",
      "2012-05-30 00:00:00\n",
      "2012-06-04 00:00:00\n",
      "2012-06-09 00:00:00\n",
      "2012-06-14 00:00:00\n",
      "2012-06-19 00:00:00\n",
      "2012-06-24 00:00:00\n",
      "2012-06-29 00:00:00\n",
      "2012-07-04 00:00:00\n",
      "2012-07-09 00:00:00\n",
      "2012-07-14 00:00:00\n",
      "2012-07-19 00:00:00\n",
      "2012-07-24 00:00:00\n",
      "2012-07-29 00:00:00\n",
      "2012-08-03 00:00:00\n",
      "2012-08-08 00:00:00\n",
      "2012-08-13 00:00:00\n",
      "2012-08-18 00:00:00\n",
      "2012-08-23 00:00:00\n",
      "2012-08-28 00:00:00\n",
      "2012-09-02 00:00:00\n",
      "2012-09-07 00:00:00\n",
      "2012-09-12 00:00:00\n",
      "2012-09-17 00:00:00\n",
      "2012-09-22 00:00:00\n",
      "2012-09-27 00:00:00\n",
      "2012-10-02 00:00:00\n",
      "2012-10-07 00:00:00\n",
      "2012-10-12 00:00:00\n",
      "2012-10-17 00:00:00\n",
      "2012-10-22 00:00:00\n",
      "2012-10-27 00:00:00\n",
      "2012-11-01 00:00:00\n",
      "2012-11-06 00:00:00\n",
      "2012-11-11 00:00:00\n",
      "2012-11-16 00:00:00\n",
      "2012-11-21 00:00:00\n",
      "2012-11-26 00:00:00\n",
      "2012-12-01 00:00:00\n",
      "2012-12-06 00:00:00\n",
      "2012-12-11 00:00:00\n",
      "2012-12-16 00:00:00\n",
      "2012-12-21 00:00:00\n",
      "2012-12-26 00:00:00\n",
      "2012-12-31 00:00:00\n",
      "2013-01-05 00:00:00\n",
      "2013-01-10 00:00:00\n",
      "2013-01-15 00:00:00\n",
      "2013-01-20 00:00:00\n",
      "2013-01-25 00:00:00\n",
      "2013-01-30 00:00:00\n",
      "2013-02-04 00:00:00\n",
      "2013-02-09 00:00:00\n",
      "2013-02-14 00:00:00\n",
      "2013-02-19 00:00:00\n",
      "2013-02-24 00:00:00\n",
      "2013-03-01 00:00:00\n",
      "2013-03-06 00:00:00\n",
      "2013-03-11 00:00:00\n",
      "2013-03-16 00:00:00\n",
      "2013-03-21 00:00:00\n",
      "2013-03-26 00:00:00\n",
      "2013-03-31 00:00:00\n",
      "2013-04-05 00:00:00\n",
      "2013-04-10 00:00:00\n",
      "2013-04-15 00:00:00\n",
      "2013-04-20 00:00:00\n",
      "2013-04-25 00:00:00\n",
      "2013-04-30 00:00:00\n",
      "2013-05-05 00:00:00\n",
      "2013-05-10 00:00:00\n",
      "2013-05-15 00:00:00\n",
      "2013-05-20 00:00:00\n",
      "2013-05-25 00:00:00\n",
      "2013-05-30 00:00:00\n",
      "2013-06-04 00:00:00\n",
      "2013-06-09 00:00:00\n",
      "2013-06-14 00:00:00\n",
      "2013-06-19 00:00:00\n",
      "2013-06-24 00:00:00\n",
      "2013-06-29 00:00:00\n",
      "2013-07-04 00:00:00\n",
      "2013-07-09 00:00:00\n",
      "2013-07-14 00:00:00\n",
      "2013-07-19 00:00:00\n",
      "2013-07-24 00:00:00\n",
      "2013-07-29 00:00:00\n",
      "2013-08-03 00:00:00\n",
      "2013-08-08 00:00:00\n",
      "2013-08-13 00:00:00\n",
      "2013-08-18 00:00:00\n",
      "2013-08-23 00:00:00\n",
      "2013-08-28 00:00:00\n",
      "2013-09-02 00:00:00\n",
      "2013-09-07 00:00:00\n",
      "2013-09-12 00:00:00\n",
      "2013-09-17 00:00:00\n",
      "2013-09-22 00:00:00\n",
      "2013-09-27 00:00:00\n",
      "2013-10-02 00:00:00\n",
      "2013-10-07 00:00:00\n",
      "2013-10-12 00:00:00\n",
      "2013-10-17 00:00:00\n",
      "2013-10-22 00:00:00\n",
      "2013-10-27 00:00:00\n",
      "2013-11-01 00:00:00\n",
      "2013-11-06 00:00:00\n",
      "2013-11-11 00:00:00\n",
      "2013-11-16 00:00:00\n",
      "2013-11-21 00:00:00\n",
      "2013-11-26 00:00:00\n",
      "2013-12-01 00:00:00\n",
      "2013-12-06 00:00:00\n",
      "2013-12-11 00:00:00\n",
      "2013-12-16 00:00:00\n",
      "2013-12-21 00:00:00\n",
      "2013-12-26 00:00:00\n",
      "2013-12-31 00:00:00\n",
      "2014-01-05 00:00:00\n",
      "2014-01-10 00:00:00\n",
      "2014-01-15 00:00:00\n",
      "2014-01-20 00:00:00\n",
      "2014-01-25 00:00:00\n",
      "2014-01-30 00:00:00\n",
      "2014-02-04 00:00:00\n",
      "2014-02-09 00:00:00\n",
      "2014-02-14 00:00:00\n",
      "2014-02-19 00:00:00\n",
      "2014-02-24 00:00:00\n",
      "2014-03-01 00:00:00\n",
      "2014-03-06 00:00:00\n",
      "2014-03-11 00:00:00\n",
      "2014-03-16 00:00:00\n",
      "2014-03-21 00:00:00\n",
      "2014-03-26 00:00:00\n",
      "2014-03-31 00:00:00\n",
      "2014-04-05 00:00:00\n",
      "2014-04-10 00:00:00\n",
      "2014-04-15 00:00:00\n",
      "2014-04-20 00:00:00\n",
      "2014-04-25 00:00:00\n",
      "2014-04-30 00:00:00\n",
      "2014-05-05 00:00:00\n",
      "2014-05-10 00:00:00\n",
      "2014-05-15 00:00:00\n",
      "2014-05-20 00:00:00\n",
      "2014-05-25 00:00:00\n",
      "2014-05-30 00:00:00\n",
      "2014-06-04 00:00:00\n",
      "2014-06-09 00:00:00\n",
      "2014-06-14 00:00:00\n",
      "2014-06-19 00:00:00\n",
      "2014-06-24 00:00:00\n",
      "2014-06-29 00:00:00\n",
      "2014-07-04 00:00:00\n",
      "2014-07-09 00:00:00\n",
      "2014-07-14 00:00:00\n",
      "2014-07-19 00:00:00\n",
      "2014-07-24 00:00:00\n",
      "2014-07-29 00:00:00\n",
      "2014-08-03 00:00:00\n",
      "2014-08-08 00:00:00\n",
      "2014-08-13 00:00:00\n",
      "2014-08-18 00:00:00\n",
      "2014-08-23 00:00:00\n",
      "2014-08-28 00:00:00\n",
      "2014-09-02 00:00:00\n",
      "2014-09-07 00:00:00\n",
      "2014-09-12 00:00:00\n",
      "2014-09-17 00:00:00\n",
      "2014-09-22 00:00:00\n",
      "2014-09-27 00:00:00\n",
      "2014-10-02 00:00:00\n",
      "2014-10-07 00:00:00\n",
      "2014-10-12 00:00:00\n",
      "2014-10-17 00:00:00\n",
      "2014-10-22 00:00:00\n",
      "2014-10-27 00:00:00\n",
      "2014-11-01 00:00:00\n",
      "2014-11-06 00:00:00\n",
      "2014-11-11 00:00:00\n",
      "2014-11-16 00:00:00\n",
      "2014-11-21 00:00:00\n",
      "2014-11-26 00:00:00\n",
      "2014-12-01 00:00:00\n",
      "2014-12-06 00:00:00\n",
      "2014-12-11 00:00:00\n",
      "2014-12-16 00:00:00\n",
      "2014-12-21 00:00:00\n",
      "2014-12-26 00:00:00\n",
      "2014-12-31 00:00:00\n",
      "2015-01-05 00:00:00\n",
      "2015-01-10 00:00:00\n",
      "2015-01-15 00:00:00\n",
      "2015-01-20 00:00:00\n",
      "2015-01-25 00:00:00\n",
      "2015-01-30 00:00:00\n",
      "2015-02-04 00:00:00\n",
      "2015-02-09 00:00:00\n",
      "2015-02-14 00:00:00\n",
      "2015-02-19 00:00:00\n",
      "2015-02-24 00:00:00\n",
      "2015-03-01 00:00:00\n",
      "2015-03-06 00:00:00\n",
      "2015-03-11 00:00:00\n",
      "2015-03-16 00:00:00\n",
      "2015-03-21 00:00:00\n",
      "2015-03-26 00:00:00\n",
      "2015-03-31 00:00:00\n",
      "2015-04-05 00:00:00\n",
      "2015-04-10 00:00:00\n",
      "2015-04-15 00:00:00\n",
      "2015-04-20 00:00:00\n",
      "2015-04-25 00:00:00\n",
      "2015-04-30 00:00:00\n",
      "2015-05-05 00:00:00\n",
      "2015-05-10 00:00:00\n",
      "2015-05-15 00:00:00\n",
      "2015-05-20 00:00:00\n",
      "2015-05-25 00:00:00\n",
      "2015-05-30 00:00:00\n",
      "2015-06-04 00:00:00\n",
      "2015-06-09 00:00:00\n",
      "2015-06-14 00:00:00\n",
      "2015-06-19 00:00:00\n",
      "2015-06-24 00:00:00\n",
      "2015-06-29 00:00:00\n",
      "2015-07-04 00:00:00\n",
      "2015-07-09 00:00:00\n",
      "2015-07-14 00:00:00\n",
      "2015-07-19 00:00:00\n",
      "2015-07-24 00:00:00\n",
      "2015-07-29 00:00:00\n",
      "2015-08-03 00:00:00\n",
      "2015-08-08 00:00:00\n",
      "2015-08-13 00:00:00\n",
      "2015-08-18 00:00:00\n",
      "2015-08-23 00:00:00\n",
      "2015-08-28 00:00:00\n",
      "2015-09-02 00:00:00\n",
      "2015-09-07 00:00:00\n",
      "2015-09-12 00:00:00\n",
      "2015-09-17 00:00:00\n",
      "2015-09-22 00:00:00\n",
      "2015-09-27 00:00:00\n",
      "2015-10-02 00:00:00\n",
      "2015-10-07 00:00:00\n",
      "2015-10-12 00:00:00\n",
      "2015-10-17 00:00:00\n",
      "2015-10-22 00:00:00\n",
      "2015-10-27 00:00:00\n",
      "2015-11-01 00:00:00\n",
      "2015-11-06 00:00:00\n",
      "2015-11-11 00:00:00\n",
      "2015-11-16 00:00:00\n",
      "2015-11-21 00:00:00\n",
      "2015-11-26 00:00:00\n",
      "2015-12-01 00:00:00\n",
      "2015-12-06 00:00:00\n",
      "2015-12-11 00:00:00\n",
      "2015-12-16 00:00:00\n",
      "2015-12-21 00:00:00\n",
      "2015-12-26 00:00:00\n",
      "2015-12-31 00:00:00\n"
     ]
    }
   ],
   "source": [
    "%matplotlib inline\n",
    "# patches = []\n",
    "# loop over time step\n",
    "for itime in time_index[::]:\n",
    "    #itime = 6003 # 2011-5-31\n",
    "#     itime = 6383 # 2011-9-3\n",
    "#     print(itime)\n",
    "    # initialize maximum tracer plume\n",
    "    temp_max_tracer = np.asarray([np.nan] * (ny * nx)).reshape(ny, nx)\n",
    "    # read total tracer plume\n",
    "    temp_total_tracer = np.asarray(list(input_h5[itime][\"Total_Tracer [M]\"]))\n",
    "    \n",
    "    #find the the maximum concentration at each vertical column\n",
    "    for ix in range(nx):\n",
    "        for iy in range(ny):\n",
    "            max_index = np.argmax(temp_total_tracer[ix, iy, :])\n",
    "            temp_max_tracer[iy, ix] = temp_total_tracer[ix, iy, max_index] # for contour plot, temp_max_tracer must has shape of (ny, nx)\n",
    "    # set lower limit of tracer plume\n",
    "    temp_max_tracer[temp_max_tracer < 0.1] = np.nan\n",
    "    \n",
    "    real_itime = batch_delta_to_time(date_origin, [float(\n",
    "        itime[7:18])], \"%Y-%m-%d %H:%M:%S\", \"hours\")\n",
    "    real_itime = str(real_itime[0])\n",
    "    \n",
    "    print(real_itime)\n",
    "    ## plot tracer contour\n",
    "\n",
    "    gs = gridspec.GridSpec(1, 1)\n",
    "    fig = plt.figure()\n",
    "    ax1 = fig.add_subplot(gs[0, 0])\n",
    "#     ax1.plot(line1_x, line1_y, \"black\", alpha =0.7)\n",
    "#     ax1.plot(line2_x, line2_y, \"black\", alpha =0.7)\n",
    "#     ax1.plot(line3_x, line3_y, \"black\", alpha =0.7)\n",
    "    \n",
    "#     ax1.plot(river_x, river_y, color='#6699cc', alpha=0.7, linewidth=3, solid_capstyle='round', zorder=2)\n",
    "    \n",
    "    cf1 = ax1.contourf(x / 1000, y / 1000, temp_max_tracer,\n",
    "                       cmap=plt.cm.Reds,\n",
    "                       levels=np.arange(0, 1, 0.01),\n",
    "                       vmin=0,\n",
    "                       vmax=1,\n",
    "                       extend=\"both\",\n",
    "#                        V=np.arange(0, 1, 0.1)\n",
    "                       )\n",
    "#     cf2 = ax1.contour(x / 1000, y / 1000, temp_max_tracer,\n",
    "#                       colors=\"grey\",\n",
    "#                       levels=[0.5],\n",
    "#                       linewidths=1,\n",
    "#                       vmin=0,\n",
    "#                       vmax=1)\n",
    "#     plt.clabel(cf2, inline = True, fmt = '%3.0d', fontsize = 10)\n",
    "\n",
    "    # plot river shape\n",
    "    ax1.plot(river_x, river_y, color='black', alpha=0.7, linewidth=1, solid_capstyle='round', zorder=2)\n",
    " \n",
    "    ax1.set_xlabel(\"X (km)\", fontsize=12)\n",
    "    ax1.set_ylabel(\"Y (km)\", fontsize=12)\n",
    "\n",
    "    ax1.set_xlim(block_x / 1000)\n",
    "    ax1.set_ylim(block_y / 1000)\n",
    "    ax1.set_aspect(\"equal\", \"datalim\")\n",
    "    \n",
    "    cb1 = plt.colorbar(cf1, spacing = \"uniform\", ticks=np.arange(0, 1.1, 0.1))  # ,\n",
    "    #                           orientation=\"horizontal\", shrink=0.8, aspect=25)\n",
    "    cb1.ax.set_ylabel(\"River tracer (-)\", rotation=270, labelpad=20, fontsize=12)\n",
    "    \n",
    "    ax1.tick_params(axis = 'both', which = 'major', labelsize = 10)\n",
    "    \n",
    "   \n",
    "    fig.tight_layout()\n",
    "#     cf3 = ax1.contourf(x / 1000, y / 1000, yx_river, colors=\"black\")\n",
    "    fig.set_size_inches(6, 5)\n",
    "\n",
    "    fig_name = fig_tracer + \"horn/\" + real_itime + \".png\"\n",
    "    fig.savefig(fig_name, dpi=300, transparent=True)\n",
    "    plt.close(fig)   "
   ]
  },
  {
   "cell_type": "code",
   "execution_count": 58,
   "metadata": {
    "ExecuteTime": {
     "end_time": "2018-06-05T06:27:58.772316Z",
     "start_time": "2018-06-05T06:27:57.993634Z"
    }
   },
   "outputs": [],
   "source": [
    "input_h5.close()"
   ]
  },
  {
   "cell_type": "markdown",
   "metadata": {},
   "source": [
    "# write contour to .ASC file"
   ]
  },
  {
   "cell_type": "markdown",
   "metadata": {},
   "source": [
    "note: need to reverse the tracer array (from top to bottom is from south to north) since ASCII coord is from north to south"
   ]
  },
  {
   "cell_type": "code",
   "execution_count": 18,
   "metadata": {},
   "outputs": [],
   "source": [
    "TheFile=open(out_dir + 'tracer_'+ real_itime + '.asc',\"w\")\n",
    "TheFile.write(\"ncols 600\\n\")\n",
    "TheFile.write(\"nrows 600\\n\")\n",
    "TheFile.write(\"xllcorner {}\\n\".format(model_origin[0]))\n",
    "TheFile.write(\"yllcorner {}\\n\".format(model_origin[1])) \n",
    "TheFile.write(\"cellsize {}\\n\".format(dx[0])) \n",
    "TheFile.write(\"NODATA_value  0\\n\")\n",
    " \n",
    "TheFormat=\"{0} \"\n",
    " \n",
    "filename = out_dir + 'tracer_' + real_itime + '.txt'\n",
    " \n",
    "ncols= 600\n",
    "nrows= 600\n",
    " \n",
    "table = []\n",
    "data =[]\n",
    "with open(filename) as my_file:\n",
    "    for line in my_file: #read line by line\n",
    " \n",
    "         numbers_str = line.split() #split string by \" \"(space)\n",
    "        #convert string to floats\n",
    "         numbers_str_new = [\"{0:.2f}\".format(float(x)) for x in numbers_str]  #map(float,numbers_str) works too (convert feet to meter with factor of 0.3048)\n",
    "          \n",
    "         table.append(numbers_str_new) #store each string line\n",
    " \n",
    "for item in table[::-1]:\n",
    "    #loop over each line\n",
    "    for ele in item: #loop over each element in line\n",
    "#        print(ele) \n",
    "        data.append(ele) #store each element one by one \n",
    " \n",
    "## read into file\n",
    "for i in range(0, len(data), ncols): #loop over data with stepsize of ncols\n",
    "#    print(data[i:i+ncols])\n",
    "    TheFile.write(\" \".join(data[i:i + ncols])) #join element in list with space, and write into file\n",
    "    TheFile.write(\"\\n\")#write new line\n",
    " \n",
    "     \n",
    "TheFile.close()"
   ]
  }
 ],
 "metadata": {
  "kernelspec": {
   "display_name": "Python [conda env:nersc]",
   "language": "python",
   "name": "conda-env-nersc-py"
  },
  "language_info": {
   "codemirror_mode": {
    "name": "ipython",
    "version": 3
   },
   "file_extension": ".py",
   "mimetype": "text/x-python",
   "name": "python",
   "nbconvert_exporter": "python",
   "pygments_lexer": "ipython3",
   "version": "3.6.1"
  },
  "toc": {
   "base_numbering": 1,
   "nav_menu": {},
   "number_sections": true,
   "sideBar": true,
   "skip_h1_title": false,
   "title_cell": "Table of Contents",
   "title_sidebar": "Contents",
   "toc_cell": false,
   "toc_position": {},
   "toc_section_display": true,
   "toc_window_display": true
  },
  "varInspector": {
   "cols": {
    "lenName": 16,
    "lenType": 16,
    "lenVar": 40
   },
   "kernels_config": {
    "python": {
     "delete_cmd_postfix": "",
     "delete_cmd_prefix": "del ",
     "library": "var_list.py",
     "varRefreshCmd": "print(var_dic_list())"
    },
    "r": {
     "delete_cmd_postfix": ") ",
     "delete_cmd_prefix": "rm(",
     "library": "var_list.r",
     "varRefreshCmd": "cat(var_dic_list()) "
    }
   },
   "oldHeight": 361,
   "position": {
    "height": "40px",
    "left": "1128px",
    "right": "20px",
    "top": "110px",
    "width": "324px"
   },
   "types_to_exclude": [
    "module",
    "function",
    "builtin_function_or_method",
    "instance",
    "_Feature"
   ],
   "varInspector_section_display": "none",
   "window_display": false
  }
 },
 "nbformat": 4,
 "nbformat_minor": 2
}
