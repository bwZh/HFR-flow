{
 "cells": [
  {
   "cell_type": "markdown",
   "metadata": {},
   "source": [
    "# Model parameters "
   ]
  },
  {
   "cell_type": "code",
   "execution_count": 13,
   "metadata": {
    "ExecuteTime": {
     "end_time": "2018-07-20T20:33:23.871623Z",
     "start_time": "2018-07-20T20:33:23.850Z"
    }
   },
   "outputs": [
    {
     "data": {
      "text/html": [
       "<span style=white-space:pre-wrap>'Working dir:  /Users/shua784/Dropbox/PNNL/Projects/Reach_scale_model'</span>"
      ],
      "text/latex": [
       "'Working dir:  /Users/shua784/Dropbox/PNNL/Projects/Reach\\_scale\\_model'"
      ],
      "text/markdown": [
       "<span style=white-space:pre-wrap>'Working dir:  /Users/shua784/Dropbox/PNNL/Projects/Reach_scale_model'</span>"
      ],
      "text/plain": [
       "[1] \"Working dir:  /Users/shua784/Dropbox/PNNL/Projects/Reach_scale_model\""
      ]
     },
     "metadata": {},
     "output_type": "display_data"
    }
   ],
   "source": [
    "setwd(\"/Users/shua784/Dropbox/PNNL/Projects/Reach_scale_model/\")\n",
    "paste(\"Working dir: \", getwd())\n",
    "# rm(list=ls())"
   ]
  },
  {
   "cell_type": "code",
   "execution_count": 11,
   "metadata": {
    "ExecuteTime": {
     "end_time": "2018-07-20T20:33:08.665002Z",
     "start_time": "2018-07-20T20:32:59.520Z"
    },
    "scrolled": true
   },
   "outputs": [
    {
     "name": "stdout",
     "output_type": "stream",
     "text": [
      "\n",
      "The downloaded binary packages are in\n",
      "\t/var/folders/b_/kpbcrn3s4_1770_6k278969jd__sdl/T//Rtmpe9El9m/downloaded_packages\n"
     ]
    }
   ],
   "source": [
    "install.packages(\"pacman\")\n",
    "pacman::p_load(fields, AtmRay, maptools, raster, plot3D, rhdf5, scatterplot3d, akima, rgl, gtools, sp, ggplot2, \n",
    "               phylin, geoR, xts, signal, formatR) "
   ]
  },
  {
   "cell_type": "markdown",
   "metadata": {},
   "source": [
    "## I/O files"
   ]
  },
  {
   "cell_type": "code",
   "execution_count": 14,
   "metadata": {
    "ExecuteTime": {
     "end_time": "2018-07-20T20:33:29.166929Z",
     "start_time": "2018-07-20T20:33:29.070Z"
    }
   },
   "outputs": [],
   "source": [
    "data_dir = \"~/Dropbox/PNNL/Projects/Reach_scale_model/data/\"\n",
    "\n",
    "\n",
    "# geoframework data\n",
    "fname_hanford = paste(data_dir, \"geoFramework/hanford.asc\", sep = \"\")\n",
    "fname_basalt= paste(data_dir, \"geoFramework/top_of_basalt.asc\", sep = \"\")\n",
    "fname_ringold_a= paste(data_dir, \"geoFramework/ringold_a.asc\", sep = \"\")\n",
    "fname_ringold_e= paste(data_dir, \"geoFramework/ringold_e.asc\", sep = \"\")\n",
    "fname_ringold_lm= paste(data_dir, \"geoFramework/ringold_lm.asc\", sep = \"\")\n",
    "fname_cold_creek= paste(data_dir, \"geoFramework/cold_creek.asc\", sep = \"\")\n",
    "fname_taylor_flats= paste(data_dir, \"geoFramework/taylor_flats.asc\", sep = \"\")\n",
    "fname_river_bath = paste(data_dir, \"geoFramework/river_bathymetry_20m.asc\", sep = \"\")\n",
    "\n",
    "# mass1 data\n",
    "fname_mass1_coord = paste(data_dir, \"MASS1/coordinates.csv\", sep = \"\")\n",
    "fname_mass1_pts = paste(data_dir, \"MASS1/transient_1976_2016/\", sep = \"\")\n",
    "fname_mass.info = paste(data_dir, \"MASS1/mass_info.csv\", sep = \"\") \n",
    "# well data\n",
    "fname_mvAwln = paste(data_dir, \"well_data/mvAwln.csv\", sep = \"\")\n",
    "fname_mvAwln_id = paste(data_dir, \"well_data/mvAwln_wellID_updated.csv\", sep = \"\")\n",
    "fname_manual_wells_ids = paste(data_dir, \"well_data/HYDRAULIC_HEAD_MV_WellID.csv\", sep = \"\")\n",
    "fname_manual_wells = paste(data_dir, \"well_data/HYDRAULIC_HEAD_MV.csv\", sep = \"\")\n",
    "fname_USGS_wells = paste(data_dir, \"well_data/Burns_well_data.csv\", sep = \"\")\n",
    "fname_USGS_wells_ids = paste(data_dir, \"well_data/Burns_well_attributes.csv\", sep = \"\")\n",
    "fname_SFA_wells = paste(data_dir, \"well_data/300A_Well_Data/\", sep = \"\")\n",
    "fname_SFA_wells_ids = paste(data_dir, \"well_data/300A_well_coord.csv\", sep = \"\")\n",
    "fname_SFA_wells_all = paste(data_dir, \"well_data/SFA_all_wells.csv\", sep = \"\")\n",
    "\n",
    "#river geometry\n",
    "fname_river.geo = paste(data_dir, \"river_geometry_manual.csv\", sep = \"\")\n",
    "\n",
    "# # if statement\n",
    "# is.plot = T\n",
    "# is.smooth = T\n",
    "\n",
    "imodel=c(\"100x100x2_6h_bc\")\n",
    "figure_dir = \"~/Dropbox/PNNL/Projects/Reach_scale_model/figures/\"\n",
    "## ------------------------output figures\n",
    "fig.basalt2d = paste(figure_dir, \"basalt2d.jpg\",sep = \"\")\n",
    "fig.hanford2d = paste(figure_dir, \"hanford2d.jpg\",sep = \"\")\n",
    "fig.basalt2d.model = paste(figure_dir, \"basalt2d_model_\", imodel, \".jpg\", sep = \"\")\n",
    "fig.hanford2d.model = paste(figure_dir, \"hanford2d_model_\", imodel, \".jpg\", sep = \"\")\n",
    "fig.ringold_a_2d = paste(figure_dir, \"ringold_a_2d.jpg\",sep = \"\")\n",
    "fig.ringold_a_2d.model = paste(figure_dir, \"ringold_a_2d_model_\", imodel, \".jpg\", sep = \"\")\n",
    "fig.ringold_e_2d = paste(figure_dir, \"ringold_e_2d.jpg\",sep = \"\")\n",
    "fig.ringold_e_2d.model = paste(figure_dir, \"ringold_e_2d_model_\", imodel, \".jpg\", sep = \"\")\n",
    "fig.ringold_lm_2d = paste(figure_dir, \"ringold_lm_2d.jpg\",sep = \"\")\n",
    "fig.ringold_lm_2d.model = paste(figure_dir, \"ringold_lm_model_\", imodel, \".jpg\", sep = \"\")\n",
    "fig.cold_creek_2d = paste(figure_dir, \"cold_creek_2d.jpg\",sep = \"\")\n",
    "fig.cold_creek_2d.model = paste(figure_dir, \"creek_2d_model_\", imodel, \".jpg\", sep = \"\")\n",
    "fig.taylor_flats_2d = paste(figure_dir, \"taylor_flats_2d.jpg\",sep = \"\")\n",
    "fig.taylor_flats_2d.model = paste(figure_dir, \"taylor_flats_2d_model_\", imodel, \".jpg\", sep = \"\")\n",
    "fig.river_bath_2d = paste(figure_dir, \"river_bath_2d.jpg\",sep = \"\")\n",
    "fig.river_bath_2d.model = paste(figure_dir, \"river_bath_2d_model_\", imodel, \".jpg\", sep = \"\")\n",
    "fig.surface3d=paste(figure_dir, \"surface_cell_3d_\", imodel, \".jpg\", sep = \"\")\n",
    "fig.surface2d=paste(figure_dir, \"surface_cell_2d_\", imodel, \".jpg\", sep = \"\")\n",
    "fig.grids = paste(figure_dir, \"grids_\", imodel, \".jpg\", sep = \"\")\n",
    "fig.river.mass1 = paste(figure_dir, \"river.mass1_\", imodel, \".jpg\", sep = \"\")\n",
    "# fig.initialH_idw = paste(figure_dir, \"initial_head_\", imodel, \".jpg\", sep = \"\")\n",
    "fig_initial_H = paste(figure_dir, \"initial_head_\",imodel, \".jpg\", sep = \"\")\n",
    "\n",
    "result_dir = \"~/Dropbox/PNNL/Projects/Reach_scale_model/results/\"\n",
    "\n",
    "##----------------------- R object files\n",
    "fname_geoFramework.r = paste(result_dir, \"HFR_model_\", imodel, \"/geoframework.r\", sep = \"\")\n",
    "fname_ascii.r = paste(result_dir, \"ascii.r\", sep = \"\")\n",
    "fname_model_inputs.r = paste(result_dir, \"HFR_model_\", imodel, \"/model_inputs.r\", sep = \"\")\n",
    "fname_material_r= paste(result_dir, \"HFR_model_\", imodel, \"/HFR_material.r\", sep = \"\")\n",
    "fname_wells.r = paste(result_dir, \"well_compiled_wl_data.r\", sep = \"\")\n",
    "# fname.selected.wells.df = \"results/selected.wells.df_2007-01-01.r\"\n",
    "fname_mass1_xts = paste(result_dir, \"mass.data.xts.r\", sep = \"\")\n",
    "fname_mass1_data.r = paste(result_dir, \"mass.data.r\", sep = \"\")\n",
    "\n",
    "fname_mass_section = paste(result_dir, \"HFR_model_\", imodel, \"/mass_section.txt\", sep = \"\")\n",
    "fname_selected_wells_csv = paste(result_dir, \"selected_wells_010107_3m.csv\", sep = \"\")\n",
    "fname_selected_wells_unique_csv = paste(result_dir, \"selected_wells_unique_010107_3m.csv\", sep = \"\")\n",
    "\n",
    "input_dir = \"~/Dropbox/PNNL/Projects/Reach_scale_model/Inputs/\"\n",
    "\n",
    "##----------------------- PFLOTRAN input files\n",
    "fname_material_h5 = paste(input_dir, \"HFR_model_\", imodel, \"/HFR_material_river.h5\", sep = \"\")\n",
    "fname_initial.h5 = paste(input_dir, \"HFR_model_\", imodel, \"/HFR_H_Initial.h5\", sep = \"\")\n",
    "fname.BC.h5 = paste(input_dir, \"HFR_model_\", imodel, \"/HFR_H_BC.h5\", sep = \"\")\n",
    "fname_DatumH = paste(input_dir, \"river_bc/bc_1w_smooth/DatumH_Mass1_\")\n",
    "fname_Gradients = paste(input_dir, \"river_bc/bc_1w_smooth/Gradients_Mass1_\")\n",
    "fname_pflotran.in = paste(input_dir, \"HFR_model_\", imodel, \"/pflotran_\", imodel, \".in\", sep = \"\")\n",
    "\n",
    "\n",
    "# # input deck names\n",
    "# fname_material.h5.in = c(\"HFR_material_river.h5\")\n",
    "# fname_H.initial.h5.in = c(\"HFR_H_Initial.h5\")\n",
    "# fname_bc_dir = \"bc_6h_smooth/\"\n",
    "# fname.DatumH.in = c(\"DatumH_Mass1_\")\n",
    "# fname.Gradient.in = c(\"Gradients_Mass1_\")"
   ]
  },
  {
   "cell_type": "markdown",
   "metadata": {},
   "source": [
    "## functions"
   ]
  },
  {
   "cell_type": "code",
   "execution_count": 15,
   "metadata": {
    "ExecuteTime": {
     "end_time": "2018-07-20T20:33:32.427705Z",
     "start_time": "2018-07-20T20:33:32.415Z"
    }
   },
   "outputs": [],
   "source": [
    "proj_to_model <- function(origin,angle,coord)\n",
    "{\n",
    "  output = array(NA,dim(coord))\n",
    "  rownames(output) = rownames(coord)\n",
    "  colnames(output) = colnames(coord)    \n",
    "  output[,1] = (coord[,1]-origin[1])*cos(angle)+(coord[,2]-origin[2])*sin(angle)\n",
    "  output[,2] = (coord[,2]-origin[2])*cos(angle)-(coord[,1]-origin[1])*sin(angle)\n",
    "  return(output)\n",
    "}   \n",
    "\n",
    "\n",
    "model_to_proj <- function(origin,angle,coord)\n",
    "{\n",
    "  output = array(NA,dim(coord))\n",
    "  rownames(output) = rownames(coord)\n",
    "  colnames(output) = colnames(coord)    \n",
    "  output[,1] = origin[1]+coord[,1]*cos(angle)-coord[,2]*sin(angle)\n",
    "  output[,2] = origin[2]+coord[,1]*sin(angle)+coord[,2]*cos(angle)\n",
    "  return(output)\n",
    "}   "
   ]
  },
  {
   "cell_type": "markdown",
   "metadata": {},
   "source": [
    "## model dimensions"
   ]
  },
  {
   "cell_type": "code",
   "execution_count": 16,
   "metadata": {
    "ExecuteTime": {
     "end_time": "2018-07-20T20:33:34.528132Z",
     "start_time": "2018-07-20T20:33:34.515Z"
    },
    "code_folding": [],
    "run_control": {
     "marked": false
    }
   },
   "outputs": [],
   "source": [
    "#grid cell size\n",
    "idx = 100\n",
    "idy = 100\n",
    "idz = 2"
   ]
  },
  {
   "cell_type": "code",
   "execution_count": 17,
   "metadata": {
    "ExecuteTime": {
     "end_time": "2018-07-20T20:33:35.149581Z",
     "start_time": "2018-07-20T20:33:35.132Z"
    },
    "run_control": {
     "marked": false
    }
   },
   "outputs": [],
   "source": [
    "# rotating angle of model\n",
    "angle = 0\n",
    "\n",
    "#hanford reach\n",
    "# model_origin = c(538000, 97000)\n",
    "model_origin = c(551600, 104500)\n",
    "\n",
    "xlen = 60*1000 #x boundary length\n",
    "ylen = 60*1000 #y boundary length\n",
    "\n",
    "zlen = 100 #z boundary length\n",
    "# zlen = 100 #z boundary length\n",
    "\n",
    "# model origin\n",
    "z0 = 50  # relative to sea level \n",
    "x0 = model_origin[1]\n",
    "y0 = model_origin[2]"
   ]
  },
  {
   "cell_type": "code",
   "execution_count": 18,
   "metadata": {
    "ExecuteTime": {
     "end_time": "2018-07-20T20:33:37.247291Z",
     "start_time": "2018-07-20T20:33:36.766Z"
    }
   },
   "outputs": [],
   "source": [
    "dx = rep(idx, xlen/idx)\n",
    "dy = rep(idy, ylen/idy)\n",
    "dz = rep(idz, zlen/idz)\n",
    "\n",
    "nx = length(dx)\n",
    "ny = length(dy)\n",
    "nz = length(dz)\n",
    "\n",
    "#create x,y,z coordinates for each cell center\n",
    "x = cumsum(dx)-0.5*dx\n",
    "y = cumsum(dy)-0.5*dy\n",
    "z = z0 + cumsum(dz)-0.5*dz\n",
    "\n",
    "#min and max x,y,z coord\n",
    "range_x = c(x[1]-0.5*dx[1], x[length(x)]+0.5*dx[length(x)])\n",
    "range_y = c(y[1]-0.5*dy[1], y[length(y)]+0.5*dy[length(y)])\n",
    "range_z = c(z[1]-0.5*dz[1], z[length(z)]+0.5*dz[length(z)])\n",
    "\n",
    "##dimension of model domain in CRS\n",
    "west_x = x0\n",
    "east_x = x0 + xlen\n",
    "south_y = y0\n",
    "north_y = y0 + ylen\n",
    "\n",
    "# interpolate model coordinates \n",
    "cells_model = expand.grid(x,y) # expand grid to include all x-y coordinates\n",
    "cells_proj = model_to_proj(model_origin,angle,cells_model) # convert model coord. to proj. coord.\n",
    "\n",
    "unit_x = sort(as.numeric(names(table(cells_proj[, 1]))))\n",
    "unit_y = sort(as.numeric(names(table(cells_proj[, 2]))))"
   ]
  },
  {
   "cell_type": "code",
   "execution_count": 6,
   "metadata": {
    "ExecuteTime": {
     "end_time": "2018-07-20T20:31:09.513969Z",
     "start_time": "2018-07-20T20:31:09.282Z"
    }
   },
   "outputs": [
    {
     "name": "stdout",
     "output_type": "stream",
     "text": [
      "[1] \"model inputs is save in ~/Dropbox/PNNL/Projects/Reach_scale_model/results/HFR_model_100x100x2_6h_bc/model_inputs.r\"\n"
     ]
    }
   ],
   "source": [
    "save(list = c(\"idx\", \"idy\", \"idz\", \"angle\", \"model_origin\", \"xlen\", \"ylen\", \"zlen\", \"x0\", \"y0\", \"z0\", \n",
    "             \"dx\", \"dy\", \"dz\", \"nx\", \"ny\", \"nz\", \"x\", \"y\", \"z\", \"range_x\", \"range_y\", \"range_z\", \n",
    "             \"west_x\", \"east_x\", \"south_y\", \"north_y\", \"cells_model\", \"cells_proj\",\"unit_x\", \"unit_y\"), \n",
    "     file = fname_model_inputs.r)\n",
    "print(paste(\"model inputs is save in \", fname_model_inputs.r, sep=\"\"))"
   ]
  },
  {
   "cell_type": "code",
   "execution_count": null,
   "metadata": {},
   "outputs": [],
   "source": []
  }
 ],
 "metadata": {
  "kernelspec": {
   "display_name": "R",
   "language": "R",
   "name": "ir"
  },
  "language_info": {
   "codemirror_mode": "r",
   "file_extension": ".r",
   "mimetype": "text/x-r-source",
   "name": "R",
   "pygments_lexer": "r",
   "version": "3.4.1"
  },
  "toc": {
   "base_numbering": 1,
   "nav_menu": {},
   "number_sections": true,
   "sideBar": true,
   "skip_h1_title": false,
   "title_cell": "Table of Contents",
   "title_sidebar": "Contents",
   "toc_cell": false,
   "toc_position": {},
   "toc_section_display": true,
   "toc_window_display": false
  },
  "varInspector": {
   "cols": {
    "lenName": 16,
    "lenType": 16,
    "lenVar": 40
   },
   "kernels_config": {
    "python": {
     "delete_cmd_postfix": "",
     "delete_cmd_prefix": "del ",
     "library": "var_list.py",
     "varRefreshCmd": "print(var_dic_list())"
    },
    "r": {
     "delete_cmd_postfix": ") ",
     "delete_cmd_prefix": "rm(",
     "library": "var_list.r",
     "varRefreshCmd": "cat(var_dic_list()) "
    }
   },
   "types_to_exclude": [
    "module",
    "function",
    "builtin_function_or_method",
    "instance",
    "_Feature"
   ],
   "window_display": false
  }
 },
 "nbformat": 4,
 "nbformat_minor": 2
}
