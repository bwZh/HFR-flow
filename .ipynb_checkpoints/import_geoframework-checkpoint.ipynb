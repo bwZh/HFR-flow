{
 "cells": [
  {
   "cell_type": "markdown",
   "metadata": {},
   "source": [
    "## set working directory"
   ]
  },
  {
   "cell_type": "code",
   "execution_count": null,
   "metadata": {},
   "outputs": [],
   "source": [
    "setwd(\"/Users/shua784/Dropbox/PNNL/Projects/Reach_scale_model/\")\n",
    "paste(\"Working dir: \", getwd())"
   ]
  },
  {
   "cell_type": "markdown",
   "metadata": {},
   "source": [
    "## import packages"
   ]
  },
  {
   "cell_type": "code",
   "execution_count": 2,
   "metadata": {
    "collapsed": true
   },
   "outputs": [
    {
     "name": "stderr",
     "output_type": "stream",
     "text": [
      "Installing package into ‘/Users/shua784/Library/R/3.4/library’\n",
      "(as ‘lib’ is unspecified)\n"
     ]
    },
    {
     "name": "stdout",
     "output_type": "stream",
     "text": [
      "\n",
      "The downloaded binary packages are in\n",
      "\t/var/folders/b_/kpbcrn3s4_1770_6k278969jd__sdl/T//RtmpFXfxEx/downloaded_packages\n"
     ]
    }
   ],
   "source": [
    "install.packages(\"pacman\")\n",
    "pacman::p_load(fields, AtmRay, maptools, raster, plot3D, rhdf5, scatterplot3d, akima, rgl, gtools, sp, ggplot2, \n",
    "               phylin, geoR, xts, signal) "
   ]
  },
  {
   "cell_type": "markdown",
   "metadata": {},
   "source": [
    "## load ASCII files and interpolate to model domain"
   ]
  },
  {
   "cell_type": "code",
   "execution_count": null,
   "metadata": {},
   "outputs": [],
   "source": [
    "if (!file.exists(fname_ascii.r)) {\n",
    "  \n",
    "hanford_data = readAsciiGrid(fname_hanford, as.image = T)\n",
    "basalt_data = readAsciiGrid(fname_basalt, as.image = T)\n",
    "cold_creek_data = readAsciiGrid(fname_cold_creek, as.image = T)\n",
    "taylor_flats_data = readAsciiGrid(fname_taylor_flats, as.image = T)\n",
    "ringold_e_data = readAsciiGrid(fname_ringold_e, as.image = T)\n",
    "ringold_lm_data = readAsciiGrid(fname_ringold_lm, as.image = T)\n",
    "ringold_a_data = readAsciiGrid(fname_ringold_a, as.image = T)\n",
    "river_bath_data = readAsciiGrid(fname_river_bath, as.image = T)\n",
    "\n",
    "save(list = c(\"hanford_data\", \"basalt_data\", \"cold_creek_data\", \"taylor_flats_data\", \"ringold_e_data\", \"ringold_lm_data\", \"ringold_a_data\", \"river_bath_data\"), file = fname_ascii.r)\n",
    "\n",
    "\n",
    "} else {\n",
    "  load(fname_ascii.r) ## load into stored geologic data\n",
    "}\n",
    "  "
   ]
  },
  {
   "cell_type": "markdown",
   "metadata": {},
   "source": [
    "## Interpolate geologic framework over model domain"
   ]
  },
  {
   "cell_type": "code",
   "execution_count": null,
   "metadata": {},
   "outputs": [],
   "source": [
    "# cells_model = expand.grid(x,y) # expand grid to include all x-y coordinates\n",
    "# cells_proj = model_to_proj(model_origin,angle,cells_model) # convert model coord. to proj. coord.\n",
    "\n",
    "# unit_x = sort(as.numeric(names(table(cells_proj[, 1]))))\n",
    "# unit_y = sort(as.numeric(names(table(cells_proj[, 2]))))\n",
    "\n",
    "cells_hanford = interp.surface(hanford_data, cells_proj) # map surface to model grids\n",
    "cells_basalt = interp.surface(basalt_data, cells_proj) # map surface to model grids\n",
    "cells_cold_creek = interp.surface(cold_creek_data, cells_proj)\n",
    "cells_taylor_flats = interp.surface(taylor_flats_data, cells_proj)\n",
    "cells_ringold_e = interp.surface(ringold_e_data, cells_proj)\n",
    "cells_ringold_lm = interp.surface(ringold_lm_data, cells_proj)\n",
    "cells_ringold_a = interp.surface(ringold_a_data, cells_proj)\n",
    "cells_river_bath = interp.surface(river_bath_data, cells_proj)\n",
    "\n",
    "cells_hanford = array(cells_hanford, c(nx, ny))\n",
    "cells_basalt = array(cells_basalt, c(nx, ny))\n",
    "cells_cold_creek = array(cells_cold_creek, c(nx, ny))\n",
    "cells_taylor_flats = array(cells_taylor_flats, c(nx, ny))\n",
    "cells_ringold_e = array(cells_ringold_e, c(nx, ny))\n",
    "cells_ringold_lm = array(cells_ringold_lm, c(nx, ny))\n",
    "cells_ringold_a = array(cells_ringold_a, c(nx, ny))\n",
    "cells_river_bath = array(cells_river_bath, c(nx, ny))"
   ]
  },
  {
   "cell_type": "code",
   "execution_count": null,
   "metadata": {},
   "outputs": [],
   "source": [
    "save(list=ls(), file=fname_geoFramework.r)"
   ]
  },
  {
   "cell_type": "markdown",
   "metadata": {},
   "source": [
    "## plot each geologic layer"
   ]
  },
  {
   "cell_type": "code",
   "execution_count": null,
   "metadata": {},
   "outputs": [],
   "source": [
    "#if (is.plot) {\n",
    "  \n",
    "  \n",
    "  # open3d()\n",
    "  # bg3d(\"white\")\n",
    "  # nbcol = 100\n",
    "  # color = rev(rainbow(nbcol, start = 0/6, end = 4/6))\n",
    "  # zcol  = cut(cells_basalt, nbcol)\n",
    "  \n",
    "  # persp3d(unit_x, unit_y, cells_basalt, col = color[zcol], aspect = c(1,1,0.2), box= F)\n",
    "  # persp3d(unit_x, unit_y, cells_hanford, col = color[zcol], aspect = c(1,1,0.2), add = TRUE)\n",
    "  # persp3d(unit_x, unit_y, cells_hanford, col = \"red\", aspect = c(1,1,1), add = TRUE)\n",
    "  \n",
    "  # persp3d(unit_x, unit_y, cells_basalt, col = \"blue\", aspect = c(1,1,1), box= F)\n",
    "  # persp3d(unit_x, unit_y, cells_ringold_lm, col = \"red\", aspect = c(1,1,1), add = TRUE)\n",
    "  # persp3d(unit_x, unit_y, cells_ringold_a, col = \"green\", aspect = c(1,1,1), add = TRUE)\n",
    "  # persp3d(unit_x, unit_y, cells_ringold_e, col = \"yellow\", aspect = c(1,1,1), add = TRUE, alpha=0.5)\n",
    "  # persp3d(unit_x, unit_y, cells_taylor_flats, col = \"purple\", aspect = c(1,1,1), add = TRUE, alpha=0.5)\n",
    "  # persp3d(unit_x, unit_y, cells_cold_creek, col = \"cyan\", aspect = c(1,1,1), add = TRUE, alpha=0.5)\n",
    "  \n",
    "  \n",
    "##---------------------------- plot hanford ------------------------- \n",
    "## crop dataset to model region\n",
    "x_model = which(hanford_data$x >= west_x & hanford_data$x <= east_x)\n",
    "y_model = which(hanford_data$y >= south_y & hanford_data$y <= north_y)\n",
    "\n",
    "hanford_data_model = list()\n",
    "hanford_data_model = list(x = hanford_data$x[x_model], y = hanford_data$y[y_model], z = hanford_data$z[x_model, y_model])\n",
    "\n",
    "\n",
    "#jpeg(fname_fig.hanford2d, width=8,height=8,units='in',res=300,quality=100)\n",
    "image2D(hanford_data_model, shade=0.2, rasterImage = F, NAcol = \"white\",\n",
    "        main = c(\"DEM_30m\"), asp = 1)\n",
    "#dev.off()\n",
    "\n",
    "#jpeg(fname_fig.hanford2d.model, width=8,height=8,units='in',res=300,quality=100)\n",
    "image2D(z= cells_hanford, x= unit_x, y= unit_y, shade=0.5, rasterImage = F, NAcol = \"white\", border = NA, resfac = 3,\n",
    "        main = paste(\"DEM_\", idx,\"m\", sep = \"\"), asp = 1)\n",
    "#dev.off()\n",
    "\n",
    "## show the perspective view of the surface plot\n",
    "# open3d()\n",
    "# bg3d(\"white\")\n",
    "# nbcol = 100\n",
    "# color = rev(rainbow(nbcol, start = 0/6, end = 4/6))\n",
    "# zcol  = cut(hanford_data_model$z, nbcol)\n",
    "# persp3d(hanford_data_model$x, hanford_data_model$y, hanford_data_model$z, col = color[zcol], aspect = c(1,1,0.2))\n",
    "# "
   ]
  },
  {
   "cell_type": "code",
   "execution_count": null,
   "metadata": {},
   "outputs": [],
   "source": [
    "##---------------------------- plot basalt ------------------------- \n",
    "## crop dataset to model region\n",
    "x_model = which(basalt_data$x >= west_x & basalt_data$x <= east_x)\n",
    "y_model = which(basalt_data$y >= south_y & basalt_data$y <= north_y)\n",
    "\n",
    "basalt_data_model = list()\n",
    "basalt_data_model = list(x = basalt_data$x[x_model], y = basalt_data$y[y_model], z = basalt_data$z[x_model, y_model])\n",
    "\n",
    "#jpeg(fname_fig.basalt2d, width=8,height=8,units='in',res=300,quality=100)\n",
    "image2D(basalt_data_model, shade=0.2, rasterImage = F, NAcol = \"white\",\n",
    "        main = c(\"basalt_30m\"), asp = 1)\n",
    "#dev.off()\n",
    "\n",
    "#jpeg(fname_fig.basalt2d.model, width=8,height=8,units='in',res=300,quality=100)\n",
    "image2D(z= cells_basalt, x= unit_x, y= unit_y, shade=0.2, rasterImage = F, NAcol = \"white\",\n",
    "        main = paste(\"basalt_\", idx,\"m\", sep = \"\"), asp = 1)\n",
    "#dev.off()"
   ]
  },
  {
   "cell_type": "code",
   "execution_count": null,
   "metadata": {},
   "outputs": [],
   "source": [
    "##---------------------------- plot ringold ------------------------- \n",
    "## crop dataset to model region\n",
    "x_model = which(ringold_a_data$x >= west_x & ringold_a_data$x <= east_x)\n",
    "y_model = which(ringold_a_data$y >= south_y & ringold_a_data$y <= north_y)\n",
    "\n",
    "ringold_a_data_model = list()\n",
    "ringold_a_data_model = list(x = ringold_a_data$x[x_model], y = ringold_a_data$y[y_model], z = ringold_a_data$z[x_model, y_model])\n",
    "\n",
    "#jpeg(fname_fig.ringold_a_2d, width=8,height=8,units='in',res=300,quality=100)\n",
    "image2D(ringold_a_data_model, shade=0.2, rasterImage = F, NAcol = \"white\",\n",
    "        main = c(\"ringold_a_30m\"), asp = 1)\n",
    "#dev.off()\n",
    "\n",
    "#jpeg(fname_fig.ringold_a_2d.model, width=8,height=8,units='in',res=300,quality=100)\n",
    "image2D(z= cells_ringold_a, x= unit_x, y= unit_y, shade=0.2, rasterImage = F, NAcol = \"white\",\n",
    "        main = paste(\"ringold_a_\", idx,\"m\", sep = \"\"), asp = 1)\n",
    "#dev.off()\n",
    "\n",
    "##\n",
    "x_model = which(ringold_e_data$x >= west_x & ringold_e_data$x <= east_x)\n",
    "y_model = which(ringold_e_data$y >= south_y & ringold_e_data$y <= north_y)\n",
    "\n",
    "ringold_e_data_model = list()\n",
    "ringold_e_data_model = list(x = ringold_e_data$x[x_model], y = ringold_e_data$y[y_model], z = ringold_e_data$z[x_model, y_model])\n",
    "\n",
    "#jpeg(fname_fig.ringold_e_2d, width=8,height=8,units='in',res=300,quality=100)\n",
    "image2D(ringold_e_data_model, shade=0.2, rasterImage = F, NAcol = \"white\",\n",
    "        main = c(\"ringold_e_30m\"), asp = 1)\n",
    "#dev.off()\n",
    "\n",
    "#jpeg(fname_fig.ringold_e_2d.model, width=8,height=8,units='in',res=300,quality=100)\n",
    "image2D(z= cells_ringold_e, x= unit_x, y= unit_y, shade=0.2, rasterImage = F, NAcol = \"white\",\n",
    "        main = paste(\"ringold_e_\", idx,\"m\", sep = \"\"), asp = 1)\n",
    "#dev.off()\n",
    "\n",
    "##\n",
    "x_model = which(ringold_lm_data$x >= west_x & ringold_lm_data$x <= east_x)\n",
    "y_model = which(ringold_lm_data$y >= south_y & ringold_lm_data$y <= north_y)\n",
    "\n",
    "ringold_lm_data_model = list()\n",
    "ringold_lm_data_model = list(x = ringold_lm_data$x[x_model], y = ringold_lm_data$y[y_model], z = ringold_lm_data$z[x_model, y_model])\n",
    "\n",
    "#jpeg(fname_fig.ringold_lm_2d, width=8,height=8,units='in',res=300,quality=100)\n",
    "image2D(ringold_lm_data_model, shade=0.2, rasterImage = F, NAcol = \"white\",\n",
    "        main = c(\"ringold_lm_30m\"), asp = 1)\n",
    "#dev.off()\n",
    "\n",
    "#jpeg(fname_fig.ringold_lm_2d.model, width=8,height=8,units='in',res=300,quality=100)\n",
    "image2D(z= cells_ringold_lm, x= unit_x, y= unit_y, shade=0.2, rasterImage = F, NAcol = \"white\",\n",
    "        main = paste(\"ringold_lm_\", idx,\"m\", sep = \"\"), asp = 1)\n",
    "#dev.off()"
   ]
  },
  {
   "cell_type": "code",
   "execution_count": null,
   "metadata": {},
   "outputs": [],
   "source": [
    "##---------------------------- plot cold creek ------------------------- \n",
    "x_model = which(cold_creek_data$x >= west_x & cold_creek_data$x <= east_x)\n",
    "y_model = which(cold_creek_data$y >= south_y & cold_creek_data$y <= north_y)\n",
    "\n",
    "cold_creek_data_model = list()\n",
    "cold_creek_data_model = list(x = cold_creek_data$x[x_model], y = cold_creek_data$y[y_model], z = cold_creek_data$z[x_model, y_model])\n",
    "\n",
    "#jpeg(fname_fig.cold_creek_2d, width=8,height=8,units='in',res=300,quality=100)\n",
    "image2D(cold_creek_data_model, shade=0.2, rasterImage = F, NAcol = \"white\",\n",
    "        main = c(\"cold_creek_30m\"), asp = 1)\n",
    "#dev.off()\n",
    "\n",
    "#jpeg(fname_fig.cold_creek_2d.model, width=8,height=8,units='in',res=300,quality=100)\n",
    "image2D(z= cells_cold_creek, x= unit_x, y= unit_y, shade=0.2, rasterImage = F, NAcol = \"white\",\n",
    "        main = paste(\"cold_creek_\", idx,\"m\", sep = \"\"), asp = 1)\n",
    "#dev.off()"
   ]
  },
  {
   "cell_type": "code",
   "execution_count": null,
   "metadata": {},
   "outputs": [],
   "source": [
    "##---------------------------- plot taylor flats ------------------------- \n",
    "x_model = which(taylor_flats_data$x >= west_x & taylor_flats_data$x <= east_x)\n",
    "y_model = which(taylor_flats_data$y >= south_y & taylor_flats_data$y <= north_y)\n",
    "\n",
    "taylor_flats_data_model = list()\n",
    "taylor_flats_data_model = list(x = taylor_flats_data$x[x_model], y = taylor_flats_data$y[y_model], z = taylor_flats_data$z[x_model, y_model])\n",
    "\n",
    "#jpeg(fname_fig.taylor_flats_2d, width=8,height=8,units='in',res=300,quality=100)\n",
    "image2D(taylor_flats_data_model, shade=0.2, rasterImage = F, NAcol = \"white\",\n",
    "        main = c(\"taylor_flats_30m\"), asp = 1)\n",
    "#dev.off()\n",
    "\n",
    "#jpeg(fname_fig.taylor_flats_2d.model, width=8,height=8,units='in',res=300,quality=100)\n",
    "image2D(z= cells_taylor_flats, x= unit_x, y= unit_y, shade=0.2, rasterImage = F, NAcol = \"white\",\n",
    "        main = paste(\"taylor_flats\", idx,\"m\", sep = \"\"), asp = 1)\n",
    "#dev.off()"
   ]
  },
  {
   "cell_type": "code",
   "execution_count": null,
   "metadata": {},
   "outputs": [],
   "source": [
    "##---------------------------- plot river bathymetry ------------------------- \n",
    "x_model = which(river_bath_data$x >= west_x & river_bath_data$x <= east_x)\n",
    "y_model = which(river_bath_data$y >= south_y & river_bath_data$y <= north_y)\n",
    "\n",
    "river_bath_data_model = list()\n",
    "river_bath_data_model = list(x = river_bath_data$x[x_model], y = river_bath_data$y[y_model], z = river_bath_data$z[x_model, y_model])\n",
    "\n",
    "#jpeg(fname_fig.river_bath_2d, width=8,height=8,units='in',res=300,quality=100)\n",
    "image2D(river_bath_data_model, shade=0.2, rasterImage = F, NAcol = \"white\",\n",
    "        main = c(\"river_bath_20m\"), asp = 1)\n",
    "#dev.off()\n",
    "\n",
    "#jpeg(fname_fig.river_bath_2d.model, width=8,height=8,units='in',res=300,quality=100)\n",
    "image2D(z= cells_river_bath, x= unit_x, y= unit_y, shade=0.2, rasterImage = F, NAcol = \"white\",\n",
    "        main = paste(\"river_bath_\", idx,\"m\", sep = \"\"), asp = 1)\n",
    "#dev.off()\n",
    "\n",
    "}"
   ]
  }
 ],
 "metadata": {
  "kernelspec": {
   "display_name": "R",
   "language": "R",
   "name": "ir"
  },
  "language_info": {
   "codemirror_mode": "r",
   "file_extension": ".r",
   "mimetype": "text/x-r-source",
   "name": "R",
   "pygments_lexer": "r",
   "version": "3.4.4"
  },
  "varInspector": {
   "cols": {
    "lenName": 16,
    "lenType": 16,
    "lenVar": 40
   },
   "kernels_config": {
    "python": {
     "delete_cmd_postfix": "",
     "delete_cmd_prefix": "del ",
     "library": "var_list.py",
     "varRefreshCmd": "print(var_dic_list())"
    },
    "r": {
     "delete_cmd_postfix": ") ",
     "delete_cmd_prefix": "rm(",
     "library": "var_list.r",
     "varRefreshCmd": "cat(var_dic_list()) "
    }
   },
   "types_to_exclude": [
    "module",
    "function",
    "builtin_function_or_method",
    "instance",
    "_Feature"
   ],
   "window_display": false
  }
 },
 "nbformat": 4,
 "nbformat_minor": 2
}
