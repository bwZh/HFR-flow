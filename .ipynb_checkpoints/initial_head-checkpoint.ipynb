{
 "cells": [
  {
   "cell_type": "markdown",
   "metadata": {
    "nbpresent": {
     "id": "6496800d-0256-4c39-b553-4da7d616af75"
    }
   },
   "source": [
    "# Generate initial head for PFLOTRAN"
   ]
  },
  {
   "cell_type": "code",
   "execution_count": 1,
   "metadata": {
    "ExecuteTime": {
     "end_time": "2018-07-10T21:18:52.077305Z",
     "start_time": "2018-07-10T21:18:52.031Z"
    },
    "collapsed": true,
    "nbpresent": {
     "id": "4614541b-a02a-4bdf-9741-419bb6df71dc"
    }
   },
   "outputs": [
    {
     "data": {
      "text/plain": [
       "               _                           \n",
       "platform       x86_64-apple-darwin15.6.0   \n",
       "arch           x86_64                      \n",
       "os             darwin15.6.0                \n",
       "system         x86_64, darwin15.6.0        \n",
       "status                                     \n",
       "major          3                           \n",
       "minor          5.0                         \n",
       "year           2018                        \n",
       "month          04                          \n",
       "day            23                          \n",
       "svn rev        74626                       \n",
       "language       R                           \n",
       "version.string R version 3.5.0 (2018-04-23)\n",
       "nickname       Joy in Playing              "
      ]
     },
     "metadata": {},
     "output_type": "display_data"
    }
   ],
   "source": [
    "R.version"
   ]
  },
  {
   "cell_type": "code",
   "execution_count": 1,
   "metadata": {
    "ExecuteTime": {
     "end_time": "2018-07-13T17:28:21.019376Z",
     "start_time": "2018-07-13T17:28:21.008Z"
    },
    "nbpresent": {
     "id": "4c13ad3b-2227-4c81-8db9-b342e52d9adc"
    }
   },
   "outputs": [
    {
     "data": {
      "text/html": [
       "<span style=white-space:pre-wrap>'Working dir:  /Users/shua784/Dropbox/PNNL/Projects/Reach_scale_model'</span>"
      ],
      "text/latex": [
       "'Working dir:  /Users/shua784/Dropbox/PNNL/Projects/Reach\\_scale\\_model'"
      ],
      "text/markdown": [
       "<span style=white-space:pre-wrap>'Working dir:  /Users/shua784/Dropbox/PNNL/Projects/Reach_scale_model'</span>"
      ],
      "text/plain": [
       "[1] \"Working dir:  /Users/shua784/Dropbox/PNNL/Projects/Reach_scale_model\""
      ]
     },
     "metadata": {},
     "output_type": "display_data"
    }
   ],
   "source": [
    "setwd(\"/Users/shua784/Dropbox/PNNL/Projects/Reach_scale_model/\")\n",
    "paste(\"Working dir: \", getwd())"
   ]
  },
  {
   "cell_type": "code",
   "execution_count": 2,
   "metadata": {
    "ExecuteTime": {
     "end_time": "2018-07-13T17:28:32.564992Z",
     "start_time": "2018-07-13T17:28:22.582Z"
    },
    "nbpresent": {
     "id": "984ff92a-347e-4271-9714-ae7ca94de818"
    }
   },
   "outputs": [
    {
     "name": "stdout",
     "output_type": "stream",
     "text": [
      "\n",
      "The downloaded binary packages are in\n",
      "\t/var/folders/b_/kpbcrn3s4_1770_6k278969jd__sdl/T//RtmpEBokk4/downloaded_packages\n"
     ]
    }
   ],
   "source": [
    "install.packages(\"pacman\")\n",
    "pacman::p_load(fields, AtmRay, maptools, raster, plot3D, rhdf5, scatterplot3d, akima, rgl, gtools, sp, ggplot2, \n",
    "               phylin, geoR, xts, signal) "
   ]
  },
  {
   "cell_type": "markdown",
   "metadata": {
    "nbpresent": {
     "id": "523a0e08-ce97-466d-a2db-46693871f8d5"
    }
   },
   "source": [
    "## I/O files"
   ]
  },
  {
   "cell_type": "code",
   "execution_count": 17,
   "metadata": {
    "ExecuteTime": {
     "end_time": "2018-07-13T17:45:55.361229Z",
     "start_time": "2018-07-13T17:45:55.328Z"
    },
    "nbpresent": {
     "id": "87cb7cc9-5635-4a83-aa58-efc2b218ec21"
    }
   },
   "outputs": [],
   "source": [
    "# inputs\n",
    "imodel=c(\"200x200x2_6h_bc\")\n",
    "model_dir = \"/Users/shua784/Dropbox/PNNL/Projects/Reach_scale_model/\"\n",
    "\n",
    "fname_geoFramework_r = paste(model_dir, \"results/HFR_model_\", imodel, \"/geoframework.r\", sep = \"\")\n",
    "fname_model_inputs_r = paste(model_dir, \"results/HFR_model_\", imodel, \"/model_inputs.r\", sep = \"\")\n",
    "\n",
    "fname_wells.r = paste(model_dir,\"results/well_compiled_wl_data.r\", sep = \"\")\n",
    "# fname.selected.wells.df = paste(model_dir, \"results/selected.wells.df_2007-01-01.r\", sep = \"\")\n",
    "\n",
    "fname_river.geo = paste(model_dir, \"data/river_geometry_manual.csv\", sep = \"\")\n",
    "fname_mass.info = paste(model_dir, \"data/MASS1/mass_info.csv\", sep = \"\") \n",
    "\n",
    "# well data\n",
    "fname_mvAwln = paste(model_dir, \"data/well_data/mvAwln.csv\", sep = \"\") \n",
    "fname_mvAwln_id = paste(model_dir, \"data/well_data/mvAwln_wellID_updated.csv\", sep = \"\") \n",
    "fname_manual_wells_ids = paste(model_dir, \"data/well_data/HYDRAULIC_HEAD_MV_WellID.csv\", sep = \"\")  \n",
    "fname_manual_wells = paste(model_dir, \"data/well_data/HYDRAULIC_HEAD_MV.csv\", sep = \"\") \n",
    "fname_USGS_wells = paste(model_dir, \"data/well_data/Burns_well_data.csv\", sep = \"\")   \n",
    "fname_USGS_wells_ids = paste(model_dir, \"data/well_data/Burns_well_attributes.csv\", sep = \"\")     \n",
    "fname_SFA_wells = paste(model_dir, \"data/well_data/300A_Well_Data/\", sep = \"\")   \n",
    "fname_SFA_wells_ids = paste(model_dir, \"data/well_data/300A_well_coord.csv\", sep = \"\") \n",
    "fname_SFA_wells_all = paste(model_dir, \"data/well_data/SFA_all_wells.csv\", sep = \"\") \n",
    "\n",
    "# outputs\n",
    "is.plot = F\n",
    "\n",
    "fig_initial_H = paste(model_dir, \"figures/initial_head_\",imodel, \".jpg\", sep = \"\")\n",
    "\n",
    "\n",
    "fname_initial.h5 = paste(model_dir, \"Inputs/HFR_model_200x200x2_head_bc/HFR_H_Initial_new.h5\", sep = \"\")\n",
    "fname.BC.h5 = paste(model_dir, \"Inputs/HFR_model_200x200x2_head_bc/HFR_H_BC_new.h5\", sep = \"\")\n",
    "\n",
    "fname_selected_wells_csv = paste(model_dir, \"results/selected_wells_010107_3m.csv\", sep = \"\")\n",
    "fname_selected_wells_unique_csv = paste(model_dir, \"results/selected_wells_unique_010107_3m.csv\", sep = \"\")"
   ]
  },
  {
   "cell_type": "markdown",
   "metadata": {},
   "source": [
    "** `attach()` is a safety wrapper for `load()`, and it attached R object to search path. To see all attached variables, use `ls(pos = 2)`; to detach, use `detach(pos = 2)`.**"
   ]
  },
  {
   "cell_type": "code",
   "execution_count": 25,
   "metadata": {
    "ExecuteTime": {
     "end_time": "2018-07-13T17:47:00.456505Z",
     "start_time": "2018-07-13T17:46:54.819Z"
    },
    "nbpresent": {
     "id": "4057fe38-a644-43ba-845f-bafaa511891a"
    }
   },
   "outputs": [
    {
     "name": "stderr",
     "output_type": "stream",
     "text": [
      "The following objects are masked _by_ .GlobalEnv:\n",
      "\n",
      "    angle, dx, dy, dz, east_x, fname_ascii.r, fname_basalt,\n",
      "    fname_cold_creek, fname_fig.basalt2d, fname_fig.basalt2d.model,\n",
      "    fname_fig.cold_creek_2d, fname_fig.cold_creek_2d.model,\n",
      "    fname_fig.hanford2d, fname_fig.hanford2d.model,\n",
      "    fname_fig.ringold_a_2d, fname_fig.ringold_a_2d.model,\n",
      "    fname_fig.ringold_e_2d, fname_fig.ringold_e_2d.model,\n",
      "    fname_fig.ringold_lm_2d, fname_fig.ringold_lm_2d.model,\n",
      "    fname_fig.river_bath_2d, fname_fig.river_bath_2d.model,\n",
      "    fname_fig.taylor_flats_2d, fname_fig.taylor_flats_2d.model,\n",
      "    fname_geoFramework.r, fname_hanford, fname_model_inputs.r,\n",
      "    fname_ringold_a, fname_ringold_e, fname_ringold_lm,\n",
      "    fname_river_bath, fname_taylor_flats, idx, idy, idz, model_origin,\n",
      "    model_to_proj, north_y, nx, ny, nz, plot.fig, proj_to_model,\n",
      "    range_x, range_y, range_z, south_y, west_x, x, x0, xlen, y, y0,\n",
      "    ylen, z, z0, zlen\n",
      "\n"
     ]
    },
    {
     "data": {
      "text/html": [
       "<ol class=list-inline>\n",
       "\t<li>'angle'</li>\n",
       "\t<li>'basalt_data'</li>\n",
       "\t<li>'cells_basalt'</li>\n",
       "\t<li>'cells_cold_creek'</li>\n",
       "\t<li>'cells_hanford'</li>\n",
       "\t<li>'cells_model'</li>\n",
       "\t<li>'cells_proj'</li>\n",
       "\t<li>'cells_ringold_a'</li>\n",
       "\t<li>'cells_ringold_e'</li>\n",
       "\t<li>'cells_ringold_lm'</li>\n",
       "\t<li>'cells_river_bath'</li>\n",
       "\t<li>'cells_taylor_flats'</li>\n",
       "\t<li>'cold_creek_data'</li>\n",
       "\t<li>'dx'</li>\n",
       "\t<li>'dy'</li>\n",
       "\t<li>'dz'</li>\n",
       "\t<li>'east_x'</li>\n",
       "\t<li>'fname_ascii.r'</li>\n",
       "\t<li>'fname_basalt'</li>\n",
       "\t<li>'fname_cold_creek'</li>\n",
       "\t<li>'fname_fig.basalt2d'</li>\n",
       "\t<li>'fname_fig.basalt2d.model'</li>\n",
       "\t<li>'fname_fig.cold_creek_2d'</li>\n",
       "\t<li>'fname_fig.cold_creek_2d.model'</li>\n",
       "\t<li>'fname_fig.hanford2d'</li>\n",
       "\t<li>'fname_fig.hanford2d.model'</li>\n",
       "\t<li>'fname_fig.ringold_a_2d'</li>\n",
       "\t<li>'fname_fig.ringold_a_2d.model'</li>\n",
       "\t<li>'fname_fig.ringold_e_2d'</li>\n",
       "\t<li>'fname_fig.ringold_e_2d.model'</li>\n",
       "\t<li>'fname_fig.ringold_lm_2d'</li>\n",
       "\t<li>'fname_fig.ringold_lm_2d.model'</li>\n",
       "\t<li>'fname_fig.river_bath_2d'</li>\n",
       "\t<li>'fname_fig.river_bath_2d.model'</li>\n",
       "\t<li>'fname_fig.taylor_flats_2d'</li>\n",
       "\t<li>'fname_fig.taylor_flats_2d.model'</li>\n",
       "\t<li>'fname_geoFramework.r'</li>\n",
       "\t<li>'fname_hanford'</li>\n",
       "\t<li>'fname_model_inputs.r'</li>\n",
       "\t<li>'fname_ringold_a'</li>\n",
       "\t<li>'fname_ringold_e'</li>\n",
       "\t<li>'fname_ringold_lm'</li>\n",
       "\t<li>'fname_river_bath'</li>\n",
       "\t<li>'fname_taylor_flats'</li>\n",
       "\t<li>'hanford_data'</li>\n",
       "\t<li>'idx'</li>\n",
       "\t<li>'idy'</li>\n",
       "\t<li>'idz'</li>\n",
       "\t<li>'model_origin'</li>\n",
       "\t<li>'model_to_proj'</li>\n",
       "\t<li>'north_y'</li>\n",
       "\t<li>'nx'</li>\n",
       "\t<li>'ny'</li>\n",
       "\t<li>'nz'</li>\n",
       "\t<li>'plot.fig'</li>\n",
       "\t<li>'proj_to_model'</li>\n",
       "\t<li>'range_x'</li>\n",
       "\t<li>'range_y'</li>\n",
       "\t<li>'range_z'</li>\n",
       "\t<li>'ringold_a_data'</li>\n",
       "\t<li>'ringold_e_data'</li>\n",
       "\t<li>'ringold_lm_data'</li>\n",
       "\t<li>'river_bath_data'</li>\n",
       "\t<li>'south_y'</li>\n",
       "\t<li>'taylor_flats_data'</li>\n",
       "\t<li>'unit_x'</li>\n",
       "\t<li>'unit_y'</li>\n",
       "\t<li>'west_x'</li>\n",
       "\t<li>'x'</li>\n",
       "\t<li>'x0'</li>\n",
       "\t<li>'xlen'</li>\n",
       "\t<li>'y'</li>\n",
       "\t<li>'y0'</li>\n",
       "\t<li>'ylen'</li>\n",
       "\t<li>'z'</li>\n",
       "\t<li>'z0'</li>\n",
       "\t<li>'zlen'</li>\n",
       "</ol>\n"
      ],
      "text/latex": [
       "\\begin{enumerate*}\n",
       "\\item 'angle'\n",
       "\\item 'basalt\\_data'\n",
       "\\item 'cells\\_basalt'\n",
       "\\item 'cells\\_cold\\_creek'\n",
       "\\item 'cells\\_hanford'\n",
       "\\item 'cells\\_model'\n",
       "\\item 'cells\\_proj'\n",
       "\\item 'cells\\_ringold\\_a'\n",
       "\\item 'cells\\_ringold\\_e'\n",
       "\\item 'cells\\_ringold\\_lm'\n",
       "\\item 'cells\\_river\\_bath'\n",
       "\\item 'cells\\_taylor\\_flats'\n",
       "\\item 'cold\\_creek\\_data'\n",
       "\\item 'dx'\n",
       "\\item 'dy'\n",
       "\\item 'dz'\n",
       "\\item 'east\\_x'\n",
       "\\item 'fname\\_ascii.r'\n",
       "\\item 'fname\\_basalt'\n",
       "\\item 'fname\\_cold\\_creek'\n",
       "\\item 'fname\\_fig.basalt2d'\n",
       "\\item 'fname\\_fig.basalt2d.model'\n",
       "\\item 'fname\\_fig.cold\\_creek\\_2d'\n",
       "\\item 'fname\\_fig.cold\\_creek\\_2d.model'\n",
       "\\item 'fname\\_fig.hanford2d'\n",
       "\\item 'fname\\_fig.hanford2d.model'\n",
       "\\item 'fname\\_fig.ringold\\_a\\_2d'\n",
       "\\item 'fname\\_fig.ringold\\_a\\_2d.model'\n",
       "\\item 'fname\\_fig.ringold\\_e\\_2d'\n",
       "\\item 'fname\\_fig.ringold\\_e\\_2d.model'\n",
       "\\item 'fname\\_fig.ringold\\_lm\\_2d'\n",
       "\\item 'fname\\_fig.ringold\\_lm\\_2d.model'\n",
       "\\item 'fname\\_fig.river\\_bath\\_2d'\n",
       "\\item 'fname\\_fig.river\\_bath\\_2d.model'\n",
       "\\item 'fname\\_fig.taylor\\_flats\\_2d'\n",
       "\\item 'fname\\_fig.taylor\\_flats\\_2d.model'\n",
       "\\item 'fname\\_geoFramework.r'\n",
       "\\item 'fname\\_hanford'\n",
       "\\item 'fname\\_model\\_inputs.r'\n",
       "\\item 'fname\\_ringold\\_a'\n",
       "\\item 'fname\\_ringold\\_e'\n",
       "\\item 'fname\\_ringold\\_lm'\n",
       "\\item 'fname\\_river\\_bath'\n",
       "\\item 'fname\\_taylor\\_flats'\n",
       "\\item 'hanford\\_data'\n",
       "\\item 'idx'\n",
       "\\item 'idy'\n",
       "\\item 'idz'\n",
       "\\item 'model\\_origin'\n",
       "\\item 'model\\_to\\_proj'\n",
       "\\item 'north\\_y'\n",
       "\\item 'nx'\n",
       "\\item 'ny'\n",
       "\\item 'nz'\n",
       "\\item 'plot.fig'\n",
       "\\item 'proj\\_to\\_model'\n",
       "\\item 'range\\_x'\n",
       "\\item 'range\\_y'\n",
       "\\item 'range\\_z'\n",
       "\\item 'ringold\\_a\\_data'\n",
       "\\item 'ringold\\_e\\_data'\n",
       "\\item 'ringold\\_lm\\_data'\n",
       "\\item 'river\\_bath\\_data'\n",
       "\\item 'south\\_y'\n",
       "\\item 'taylor\\_flats\\_data'\n",
       "\\item 'unit\\_x'\n",
       "\\item 'unit\\_y'\n",
       "\\item 'west\\_x'\n",
       "\\item 'x'\n",
       "\\item 'x0'\n",
       "\\item 'xlen'\n",
       "\\item 'y'\n",
       "\\item 'y0'\n",
       "\\item 'ylen'\n",
       "\\item 'z'\n",
       "\\item 'z0'\n",
       "\\item 'zlen'\n",
       "\\end{enumerate*}\n"
      ],
      "text/markdown": [
       "1. 'angle'\n",
       "2. 'basalt_data'\n",
       "3. 'cells_basalt'\n",
       "4. 'cells_cold_creek'\n",
       "5. 'cells_hanford'\n",
       "6. 'cells_model'\n",
       "7. 'cells_proj'\n",
       "8. 'cells_ringold_a'\n",
       "9. 'cells_ringold_e'\n",
       "10. 'cells_ringold_lm'\n",
       "11. 'cells_river_bath'\n",
       "12. 'cells_taylor_flats'\n",
       "13. 'cold_creek_data'\n",
       "14. 'dx'\n",
       "15. 'dy'\n",
       "16. 'dz'\n",
       "17. 'east_x'\n",
       "18. 'fname_ascii.r'\n",
       "19. 'fname_basalt'\n",
       "20. 'fname_cold_creek'\n",
       "21. 'fname_fig.basalt2d'\n",
       "22. 'fname_fig.basalt2d.model'\n",
       "23. 'fname_fig.cold_creek_2d'\n",
       "24. 'fname_fig.cold_creek_2d.model'\n",
       "25. 'fname_fig.hanford2d'\n",
       "26. 'fname_fig.hanford2d.model'\n",
       "27. 'fname_fig.ringold_a_2d'\n",
       "28. 'fname_fig.ringold_a_2d.model'\n",
       "29. 'fname_fig.ringold_e_2d'\n",
       "30. 'fname_fig.ringold_e_2d.model'\n",
       "31. 'fname_fig.ringold_lm_2d'\n",
       "32. 'fname_fig.ringold_lm_2d.model'\n",
       "33. 'fname_fig.river_bath_2d'\n",
       "34. 'fname_fig.river_bath_2d.model'\n",
       "35. 'fname_fig.taylor_flats_2d'\n",
       "36. 'fname_fig.taylor_flats_2d.model'\n",
       "37. 'fname_geoFramework.r'\n",
       "38. 'fname_hanford'\n",
       "39. 'fname_model_inputs.r'\n",
       "40. 'fname_ringold_a'\n",
       "41. 'fname_ringold_e'\n",
       "42. 'fname_ringold_lm'\n",
       "43. 'fname_river_bath'\n",
       "44. 'fname_taylor_flats'\n",
       "45. 'hanford_data'\n",
       "46. 'idx'\n",
       "47. 'idy'\n",
       "48. 'idz'\n",
       "49. 'model_origin'\n",
       "50. 'model_to_proj'\n",
       "51. 'north_y'\n",
       "52. 'nx'\n",
       "53. 'ny'\n",
       "54. 'nz'\n",
       "55. 'plot.fig'\n",
       "56. 'proj_to_model'\n",
       "57. 'range_x'\n",
       "58. 'range_y'\n",
       "59. 'range_z'\n",
       "60. 'ringold_a_data'\n",
       "61. 'ringold_e_data'\n",
       "62. 'ringold_lm_data'\n",
       "63. 'river_bath_data'\n",
       "64. 'south_y'\n",
       "65. 'taylor_flats_data'\n",
       "66. 'unit_x'\n",
       "67. 'unit_y'\n",
       "68. 'west_x'\n",
       "69. 'x'\n",
       "70. 'x0'\n",
       "71. 'xlen'\n",
       "72. 'y'\n",
       "73. 'y0'\n",
       "74. 'ylen'\n",
       "75. 'z'\n",
       "76. 'z0'\n",
       "77. 'zlen'\n",
       "\n",
       "\n"
      ],
      "text/plain": [
       " [1] \"angle\"                           \"basalt_data\"                    \n",
       " [3] \"cells_basalt\"                    \"cells_cold_creek\"               \n",
       " [5] \"cells_hanford\"                   \"cells_model\"                    \n",
       " [7] \"cells_proj\"                      \"cells_ringold_a\"                \n",
       " [9] \"cells_ringold_e\"                 \"cells_ringold_lm\"               \n",
       "[11] \"cells_river_bath\"                \"cells_taylor_flats\"             \n",
       "[13] \"cold_creek_data\"                 \"dx\"                             \n",
       "[15] \"dy\"                              \"dz\"                             \n",
       "[17] \"east_x\"                          \"fname_ascii.r\"                  \n",
       "[19] \"fname_basalt\"                    \"fname_cold_creek\"               \n",
       "[21] \"fname_fig.basalt2d\"              \"fname_fig.basalt2d.model\"       \n",
       "[23] \"fname_fig.cold_creek_2d\"         \"fname_fig.cold_creek_2d.model\"  \n",
       "[25] \"fname_fig.hanford2d\"             \"fname_fig.hanford2d.model\"      \n",
       "[27] \"fname_fig.ringold_a_2d\"          \"fname_fig.ringold_a_2d.model\"   \n",
       "[29] \"fname_fig.ringold_e_2d\"          \"fname_fig.ringold_e_2d.model\"   \n",
       "[31] \"fname_fig.ringold_lm_2d\"         \"fname_fig.ringold_lm_2d.model\"  \n",
       "[33] \"fname_fig.river_bath_2d\"         \"fname_fig.river_bath_2d.model\"  \n",
       "[35] \"fname_fig.taylor_flats_2d\"       \"fname_fig.taylor_flats_2d.model\"\n",
       "[37] \"fname_geoFramework.r\"            \"fname_hanford\"                  \n",
       "[39] \"fname_model_inputs.r\"            \"fname_ringold_a\"                \n",
       "[41] \"fname_ringold_e\"                 \"fname_ringold_lm\"               \n",
       "[43] \"fname_river_bath\"                \"fname_taylor_flats\"             \n",
       "[45] \"hanford_data\"                    \"idx\"                            \n",
       "[47] \"idy\"                             \"idz\"                            \n",
       "[49] \"model_origin\"                    \"model_to_proj\"                  \n",
       "[51] \"north_y\"                         \"nx\"                             \n",
       "[53] \"ny\"                              \"nz\"                             \n",
       "[55] \"plot.fig\"                        \"proj_to_model\"                  \n",
       "[57] \"range_x\"                         \"range_y\"                        \n",
       "[59] \"range_z\"                         \"ringold_a_data\"                 \n",
       "[61] \"ringold_e_data\"                  \"ringold_lm_data\"                \n",
       "[63] \"river_bath_data\"                 \"south_y\"                        \n",
       "[65] \"taylor_flats_data\"               \"unit_x\"                         \n",
       "[67] \"unit_y\"                          \"west_x\"                         \n",
       "[69] \"x\"                               \"x0\"                             \n",
       "[71] \"xlen\"                            \"y\"                              \n",
       "[73] \"y0\"                              \"ylen\"                           \n",
       "[75] \"z\"                               \"z0\"                             \n",
       "[77] \"zlen\"                           "
      ]
     },
     "metadata": {},
     "output_type": "display_data"
    }
   ],
   "source": [
    "load(fname_model_inputs_r)\n",
    "attach(fname_geoFramework_r)\n",
    "\n",
    "ls(pos = 2)"
   ]
  },
  {
   "cell_type": "code",
   "execution_count": 31,
   "metadata": {
    "ExecuteTime": {
     "end_time": "2018-07-13T17:47:20.869156Z",
     "start_time": "2018-07-13T17:47:20.858Z"
    }
   },
   "outputs": [],
   "source": [
    "detach(pos = 2)"
   ]
  },
  {
   "cell_type": "markdown",
   "metadata": {
    "nbpresent": {
     "id": "119bbe00-c4ce-487e-939f-32d8397a2851"
    }
   },
   "source": [
    "## model parameters\n"
   ]
  },
  {
   "cell_type": "code",
   "execution_count": 34,
   "metadata": {
    "ExecuteTime": {
     "end_time": "2018-07-10T21:45:37.647762Z",
     "start_time": "2018-07-10T21:45:37.622Z"
    },
    "nbpresent": {
     "id": "1c2ad3a7-334e-4d7d-ae99-c388a7c3cab4"
    }
   },
   "outputs": [],
   "source": [
    "## for grids\n",
    "grid.x = idx\n",
    "grid.y = idy\n",
    "grid.nx = nx\n",
    "grid.ny = ny\n",
    "# for domain\n",
    "\n",
    "pred.grid.south = expand.grid(seq(range_x[1]+grid.x/2,range_x[2],grid.x),range_y[1]+grid.y/2) # for South boundary\n",
    "pred.grid.north = expand.grid(seq(range_x[1]+grid.x/2,range_x[2],grid.x),range_y[2]-grid.y/2) # for North boundary\n",
    "pred.grid.west = expand.grid(range_x[1]+grid.x/2,seq(range_y[1]+grid.y/2,range_y[2],grid.y)) # for East boundary\n",
    "pred.grid.east = expand.grid(range_x[2]-grid.x/2,seq(range_y[1]+grid.y/2,range_y[2],grid.y)) # for West boundary\n",
    "pred.grid.domain = expand.grid(seq(range_x[1]+grid.x/2,range_x[2],grid.x),\n",
    "                               seq(range_y[1]+grid.y/2,range_y[2],grid.y)) # for domain\n",
    "colnames(pred.grid.south)=c('x','y')\n",
    "colnames(pred.grid.north)=c('x','y')\n",
    "colnames(pred.grid.east)=c('x','y')\n",
    "colnames(pred.grid.west)=c('x','y')\n",
    "colnames(pred.grid.domain)=c('x','y')\n"
   ]
  },
  {
   "cell_type": "code",
   "execution_count": 35,
   "metadata": {
    "ExecuteTime": {
     "end_time": "2018-07-10T21:45:43.429959Z",
     "start_time": "2018-07-10T21:45:43.412Z"
    },
    "nbpresent": {
     "id": "005605d9-07d4-4f25-bf35-e9d3343b2dbf"
    }
   },
   "outputs": [],
   "source": [
    "## time information\n",
    "start.time = as.POSIXct(\"2007-03-28 12:00:00\",tz=\"GMT\",format=\"%Y-%m-%d %H:%M:%S\")\n",
    "end.time = as.POSIXct(\"2015-12-31 00:00:00\",tz=\"GMT\",format=\"%Y-%m-%d %H:%M:%S\")\n",
    "\n",
    "dt = 3600  ##secs\n",
    "times = seq(start.time,end.time,dt)\n",
    "ntime = length(times)\n",
    "time.id = seq(0,ntime-1,dt/3600)  ##hourly boundary, why start from 0h?"
   ]
  },
  {
   "cell_type": "code",
   "execution_count": 36,
   "metadata": {
    "ExecuteTime": {
     "end_time": "2018-07-10T21:45:47.011170Z",
     "start_time": "2018-07-10T21:45:46.997Z"
    },
    "nbpresent": {
     "id": "212b4881-3934-4e58-8950-d947e7bbb68f"
    }
   },
   "outputs": [],
   "source": [
    "BC.south = c()\n",
    "BC.north = c()\n",
    "BC.east = c()\n",
    "BC.west = c()\n",
    "avail.time.id = c()"
   ]
  },
  {
   "cell_type": "code",
   "execution_count": 37,
   "metadata": {
    "ExecuteTime": {
     "end_time": "2018-07-10T21:45:51.523505Z",
     "start_time": "2018-07-10T21:45:51.511Z"
    },
    "nbpresent": {
     "id": "4232df57-9e1b-4fb6-91dd-ae05e129ad2d"
    }
   },
   "outputs": [],
   "source": [
    "range.xcoods = c(model_origin[1], model_origin[1] + xlen)\n",
    "range.ycoods = c(model_origin[2], model_origin[2] + ylen)"
   ]
  },
  {
   "cell_type": "markdown",
   "metadata": {
    "nbpresent": {
     "id": "daa1bd5c-3b63-4d8a-9b6d-b3579b65a312"
    }
   },
   "source": [
    "## load all well data"
   ]
  },
  {
   "cell_type": "code",
   "execution_count": null,
   "metadata": {
    "code_folding": [],
    "nbpresent": {
     "id": "173131a4-ef6f-4cb6-ab5f-b76f5dc6b8bf"
    }
   },
   "outputs": [],
   "source": [
    "# ##==================== read into well data ====================\n",
    "mvAwln.id = read.csv(fname_mvAwln_id, stringsAsFactors = F)\n",
    "mvAwln = read.csv(fname_mvAwln, stringsAsFactors = F)\n",
    "mvAwln.id = transform(mvAwln.id,Easting = as.numeric(Easting),\n",
    "                      Northing = as.numeric(Northing))\n",
    "HEIS_auto_wells = subset(mvAwln, select = c(\"WellName\", \"WellNumber\", \"procWaterElevation\", \"procDate\"))\n",
    "HEIS_auto_wells = transform(HEIS_auto_wells, WellName = as.character(WellName),\n",
    "                   WellNumber = as.character(WellNumber),\n",
    "                   procWaterElevation = as.numeric(procWaterElevation),\n",
    "                   procDate = as.POSIXct(procDate))\n",
    "\n",
    "manual_wells_ids = read.csv(fname_manual_wells_ids, stringsAsFactors = F)\n",
    "manual_wells = read.csv(fname_manual_wells, stringsAsFactors = F)\n",
    "manual_wells = transform(manual_wells, HYD_DATE_TIME_PST = as.POSIXct(HYD_DATE_TIME_PST))\n",
    "\n",
    "# HEIS_auto_wells = mvAwln\n",
    "HEIS_auto_wells_ids = mvAwln.id\n",
    "HEIS_manual_wells = manual_wells\n",
    "colnames(HEIS_manual_wells)[1:4] = c(\"WellNumber\", \"WellName\", \"procDate\", \"procWaterElevation\")\n",
    "HEIS_manual_wells_ids = manual_wells_ids"
   ]
  },
  {
   "cell_type": "code",
   "execution_count": null,
   "metadata": {
    "code_folding": [],
    "nbpresent": {
     "id": "173131a4-ef6f-4cb6-ab5f-b76f5dc6b8bf"
    }
   },
   "outputs": [],
   "source": [
    "USGS_wells = read.csv(fname_USGS_wells, stringsAsFactors = F)\n",
    "USGS_wells_ids = read.csv(fname_USGS_wells_ids, stringsAsFactors = F)\n",
    "USGS_wells_ids = transform(USGS_wells_ids, CP_ID_NUM = as.character(CP_ID_NUM))\n",
    "USGS_wells = transform(USGS_wells, CP_NUM = as.character(CP_NUM), DATE = as.POSIXct(DATE))\n",
    "USGS_wells$WLELEVft88 = USGS_wells$WLELEVft88*0.3048 # convert ft to meter\n",
    "USGS_wells_ids$X_SP_83FT = USGS_wells_ids$X_SP_83FT*0.3048\n",
    "USGS_wells_ids$Y_SP_83FT = USGS_wells_ids$Y_SP_83FT*0.3048\n",
    "colnames(USGS_wells)[1:4] = c(\"WellNumber\", \"procDate\", \"Year_fract\", \"procWaterElevation\")\n",
    "colnames(USGS_wells_ids)[2:4] = c(\"WellNumber\", \"Easting\", \"Northing\")\n",
    "\n",
    "## select USGS wells within model domain\n",
    "USGS_wells_selected.names = USGS_wells_ids$WellNumber[which(USGS_wells_ids$Easting < range.xcoods[2] & USGS_wells_ids$Easting > range.xcoods[1] & \n",
    "                                                              USGS_wells_ids$Northing < range.ycoods[2] & USGS_wells_ids$Northing > range.ycoods[1])]\n",
    "USGS_wells_selected = data.frame(WellNumber = character(), Easting = numeric(), \n",
    "                                 Northing = numeric(), DateTime = as.POSIXct(character()), WL = numeric(), stringsAsFactors = F)\n",
    "\n",
    "for (iwell in USGS_wells_selected.names) {\n",
    "  \n",
    "  iwell_data = USGS_wells[which(USGS_wells$WellNumber == iwell), ]\n",
    "  USGS_wells_selected = rbind(USGS_wells_selected, data.frame(WellNumber = iwell_data$WellNumber, WL = iwell_data$procWaterElevation,\n",
    "                                                              DateTime = iwell_data$procDate,\n",
    "                                                              Easting = rep(USGS_wells_ids$Easting[which(USGS_wells_ids$WellNumber == iwell)], length(iwell_data$WellNumber)),\n",
    "                                                              Northing = rep(USGS_wells_ids$Northing[which(USGS_wells_ids$WellNumber == iwell)], length(iwell_data$WellNumber)),\n",
    "                                                              stringsAsFactors = F\n",
    "  ))\n",
    "  \n",
    "  \n",
    "}"
   ]
  },
  {
   "cell_type": "code",
   "execution_count": null,
   "metadata": {
    "code_folding": [],
    "nbpresent": {
     "id": "173131a4-ef6f-4cb6-ab5f-b76f5dc6b8bf"
    }
   },
   "outputs": [],
   "source": [
    "## SFA wells\n",
    "SFA_wells_ids = read.csv(fname_SFA_wells_ids, stringsAsFactors = F)\n",
    "colnames(SFA_wells_ids)[2] = c(\"WellName\")\n",
    "# SFA_wells_list=c(\"399-1-1_3var.csv\")\n",
    "# iwell = SFA_wells_list\n",
    "\n",
    "if (!file.exists(fname_SFA_wells_all)) {\n",
    "\n",
    "SFA_wells = data.frame(WellName = as.character(), DateTime = as.POSIXct(character()),  Temp = numeric(),\n",
    "                       Spc = numeric(), WL = numeric(), stringsAsFactors = F)\n",
    "SFA_wells_list = list.files(fname_SFA_wells)\n",
    "for (iwell in SFA_wells_list) {\n",
    "  # iwell = \"399-1-1_3var.csv\"\n",
    "  iSFA_well = read.csv(paste(fname_SFA_wells, iwell, sep = \"\"), stringsAsFactors = F)\n",
    "  # iSFA_well = read.csv(paste(fname_SFA_wells, \"399-1-1_3var.csv\", sep = \"\"), stringsAsFactors = F)\n",
    "\n",
    "   colnames(iSFA_well) = c(\"DateTime\", \"Temp\", \"Spc\", \"WL\")\n",
    "\n",
    "   if (iwell %in% c(\"399-5-1_3var.csv\", \"399-3-19_3var.csv\" ) ) {\n",
    "     iSFA_well$DateTime = as.POSIXct(iSFA_well$DateTime, format = \"%m/%d/%y %H:%M\", tz = \"GMT\") ## time formate must agree with data-column\n",
    "\n",
    "   } else {\n",
    "   iSFA_well$DateTime = as.POSIXct(iSFA_well$DateTime, format = \"%d-%b-%Y %H:%M:%S\", tz = \"GMT\") ## time formate must agree with data-column\n",
    "   }\n",
    "\n",
    "  id_col = data.frame(WellName = rep(gsub(\"_3var.csv\", \"\", iwell), dim(iSFA_well)[1]), stringsAsFactors = F)\n",
    "  iSFA_well = cbind(id_col, iSFA_well)\n",
    "\n",
    "  SFA_wells = rbind(SFA_wells, iSFA_well, stringsAsFactors =F)\n",
    "}\n",
    "\n",
    "# as.POSIXct(strptime(SFA_wells$DateTime[2], \"%d-%b-%Y %H:%M:%S\"), format = \"%d-%m-%Y %H:%M:%S\", tz = \"GMT\")\n",
    "# SFA_wells$DateTime = as.POSIXct(SFA_wells$DateTime, format = \"%d-%b-%Y %H:%M:%S\", tz = \"GMT\") ## time formate must agree with data-column\n",
    "\n",
    "write.csv(SFA_wells, file = \"/Users/shua784/Dropbox/PNNL/People/Velo/SFA_all_wells.csv\", row.names = F)\n",
    "} else {\n",
    "  SFA_wells = read.csv(fname_SFA_wells_all, stringsAsFactors = F)\n",
    "  SFA_wells = transform(SFA_wells, DateTime = as.POSIXct(DateTime))\n",
    "}"
   ]
  },
  {
   "cell_type": "code",
   "execution_count": null,
   "metadata": {
    "code_folding": [],
    "nbpresent": {
     "id": "173131a4-ef6f-4cb6-ab5f-b76f5dc6b8bf"
    }
   },
   "outputs": [],
   "source": [
    "save(list = c(\"HEIS_auto_wells\", \"HEIS_auto_wells_ids\", \"HEIS_manual_wells\", \"HEIS_manual_wells_ids\",\n",
    "              \"USGS_wells\", \"USGS_wells_ids\", \"USGS_wells_selected\", \"USGS_wells_selected.names\",\"SFA_wells\", \"SFA_wells_ids\"), file = fname_wells.r)"
   ]
  },
  {
   "cell_type": "markdown",
   "metadata": {
    "heading_collapsed": true,
    "nbpresent": {
     "id": "0fd0e20c-4f16-4515-9295-c561e6e452d5"
    }
   },
   "source": [
    "## plot well data"
   ]
  },
  {
   "cell_type": "code",
   "execution_count": null,
   "metadata": {
    "code_folding": [],
    "hidden": true,
    "nbpresent": {
     "id": "712a1226-f174-4093-b392-c4ec82b68bff"
    }
   },
   "outputs": [],
   "source": [
    "##-------------------- plot all USGS wells------------------------\n",
    "if (is.plot) {\n",
    "  \n",
    "\n",
    "USGS_wells_selected.names = USGS_wells_ids$WellNumber[which(USGS_wells_ids$Easting < range.xcoods[2] & USGS_wells_ids$Easting > range.xcoods[1] & \n",
    "                                                              USGS_wells_ids$Northing < range.ycoods[2] & USGS_wells_ids$Northing > range.ycoods[1])]\n",
    "USGS_wells_selected = data.frame(WellName = character(), Easting = numeric(), \n",
    "                                 Northing = numeric(), DateTime = as.POSIXct(character()), WL = numeric(), stringsAsFactors = F)\n",
    "start.time = as.POSIXct(\"1990-01-01 00:00:00\",tz=\"GMT\",format=\"%Y-%m-%d %H:%M:%S\")\n",
    "end.time = as.POSIXct(\"2011-01-01 00:00:00\",tz=\"GMT\",format=\"%Y-%m-%d %H:%M:%S\")\n",
    "jpeg(file=\"figures/USGS.wells.jpg\", width=12, height=16, units=\"in\", res=300)\n",
    "par(mar =c(4,4,1,1))\n",
    "plot(0,0,xlim=c(start.time, end.time), ylim = c(100, 305),type = \"n\", xlab = \"Date\", ylab = \"Water Level (m)\",\n",
    "     axes = F, cex=1.5)\n",
    "box()\n",
    "colors = rainbow(100)\n",
    "for (iwell in USGS_wells_selected.names) {\n",
    "  \n",
    "  manual_well = USGS_wells[which(USGS_wells$WellNumber == iwell), ]\n",
    "  USGS_wells_selected = rbind(USGS_wells_selected, data.frame(WellNumber = manual_well$WellNumber, WL = manual_well$procWaterElevation,\n",
    "                                                      DateTime = manual_well$procDate,\n",
    "                                                      Easting = rep(USGS_wells_ids$Easting[which(USGS_wells_ids$WellNumber == iwell)], length(manual_well$WellNumber)),\n",
    "                                                      Northing = rep(USGS_wells_ids$Northing[which(USGS_wells_ids$WellNumber == iwell)], length(manual_well$WellNumber)),\n",
    "                                                      stringsAsFactors = F\n",
    "  ))\n",
    "  \n",
    "  lines(manual_well$procDate, manual_well$procWaterElevation, col= sample(colors), lwd = 1 )\n",
    "  points(manual_well$procDate, manual_well$procWaterElevation, pch=1, cex=1)\n",
    "  axis.POSIXct(1,at=seq(as.Date(\"1990-01-01 00:00:00\",tz=\"GMT\"),\n",
    "                        to=as.Date(\"2011-01-01 00:00:00\",tz=\"GMT\"),by=\"quarter\"),\n",
    "               format=\"%m/%Y\",mgp=c(5,1.7,0),cex.axis=1)\n",
    "  axis(2,at=seq(100, 305, 5),mgp=c(5,0.7,0),cex.axis=1)\n",
    "  \n",
    "}\n",
    "dev.off()\n",
    "\n",
    "\n",
    "\n",
    "hist(USGS_wells_selected$DateTime, breaks = 1000, freq = T)\n",
    "\n",
    "##---------------------- plot all east wells----------------------------\n",
    "east.wells=c()\n",
    "pattern = c(glob2rx(\"15N*\"),glob2rx(\"14N*\"), glob2rx(\"13N*\"), glob2rx(\"12N*\"),glob2rx(\"11N*\"), glob2rx(\"10N*\"), glob2rx(\"09N*\"))\n",
    "east.wells = grep(paste(pattern,collapse = \"|\"), HEIS_manual_wells_ids$WELL_NAME, value = T)\n",
    "\n",
    "east.wells.data = data.frame(WellName = character(), Easting = numeric(), \n",
    "                            Northing = numeric(), DateTime = as.POSIXct(character()), WL = numeric(), stringsAsFactors = F)\n",
    "\n",
    "start.time = as.POSIXct(\"1990-01-01 00:00:00\",tz=\"GMT\",format=\"%Y-%m-%d %H:%M:%S\")\n",
    "end.time = as.POSIXct(\"2008-01-01 00:00:00\",tz=\"GMT\",format=\"%Y-%m-%d %H:%M:%S\")\n",
    "jpeg(file=\"figures/east.wells.jpg\", width=12, height=16, units=\"in\", res=300)\n",
    "par(mar =c(4,4,1,1))\n",
    "plot(0,0,xlim=c(start.time, end.time), ylim = c(150, 305),type = \"n\", xlab = \"Date\", ylab = \"Water Level (m)\",\n",
    "     axes = F, cex=1.5)\n",
    "box()\n",
    "colors = rainbow(100)\n",
    "for (iwell in east.wells) {\n",
    "  \n",
    "  manual_well = HEIS_manual_wells[which(HEIS_manual_wells$WellName == iwell), ]\n",
    "  east.wells.data = rbind(east.wells.data, data.frame(WellName = manual_well$WellName, WL = manual_well$procWaterElevation,\n",
    "                                                    DateTime = manual_well$procDate,\n",
    "                                                    Easting = rep(HEIS_manual_wells_ids$EASTING[which(HEIS_manual_wells_ids$WELL_NAME == iwell)], length(manual_well$WellName)),\n",
    "                                                    Northing = rep(HEIS_manual_wells_ids$NORTHING[which(HEIS_manual_wells_ids$WELL_NAME == iwell)], length(manual_well$WellName)),\n",
    "                                                    stringsAsFactors = F\n",
    "  ))\n",
    "  \n",
    "  lines(manual_well$procDate, manual_well$procWaterElevation, col= sample(colors), lwd = 1 )\n",
    "  points(manual_well$procDate, manual_well$procWaterElevation, pch=1, cex=1)\n",
    "  axis.POSIXct(1,at=seq(as.Date(\"1990-01-01 00:00:00\",tz=\"GMT\"),\n",
    "                        to=as.Date(\"2008-01-01 00:00:00\",tz=\"GMT\"),by=\"quarter\"),\n",
    "               format=\"%m/%Y\",mgp=c(5,1.7,0),cex.axis=1)\n",
    "  axis(2,at=seq(150, 305, 5),mgp=c(5,0.7,0),cex.axis=1)\n",
    "  \n",
    "  # date.range = range(manual_well$procDate)\n",
    "  # \n",
    "  # print(paste(iwell, \"has\", length(manual_well$procWaterElevation), \"obs. points\"))\n",
    "}\n",
    "dev.off()\n",
    "\n",
    "hist(east.wells.data$DateTime, breaks = 1000, freq = T)\n",
    "\n",
    "##---------------------- plot all HEIS manual wells--------------------\n",
    "\n",
    "\n",
    "start.time = as.POSIXct(\"1990-01-01 00:00:00\",tz=\"GMT\",format=\"%Y-%m-%d %H:%M:%S\")\n",
    "end.time = as.POSIXct(\"2017-01-01 00:00:00\",tz=\"GMT\",format=\"%Y-%m-%d %H:%M:%S\")\n",
    "jpeg(file=\"figures/all.manual.wells.jpg\", width=12, height=16, units=\"in\", res=300)\n",
    "par(mar =c(4,4,1,1))\n",
    "plot(0,0,xlim=c(start.time, end.time), ylim = c(100, 305),type = \"n\", xlab = \"Date\", ylab = \"Water Level (m)\",\n",
    "     axes = F, cex=1.5)\n",
    "box()\n",
    "colors = rainbow(100)\n",
    "for (iwell in well_names) {\n",
    "  \n",
    "  manual_well = HEIS_manual_wells[which(HEIS_manual_wells$WellName == iwell), ]\n",
    "  \n",
    "  lines(manual_well$procDate, manual_well$procWaterElevation, col= sample(colors), lwd = 1 )\n",
    "  points(manual_well$procDate, manual_well$procWaterElevation, pch=1, cex=1)\n",
    "  axis.POSIXct(1,at=seq(as.Date(\"1990-01-01 00:00:00\",tz=\"GMT\"),\n",
    "                        to=as.Date(\"2017-01-01 00:00:00\",tz=\"GMT\"),by=\"quarter\"),\n",
    "               format=\"%m/%Y\",mgp=c(5,1.7,0),cex.axis=1)\n",
    "  axis(2,at=seq(150, 305, 5),mgp=c(5,0.7,0),cex.axis=1)\n",
    "  \n",
    "}\n",
    "dev.off()\n",
    "\n",
    "hist.HEIS = hist(HEIS_manual_wells$procDate, breaks = 1000, freq = T)\n",
    "\n",
    "}"
   ]
  },
  {
   "cell_type": "markdown",
   "metadata": {
    "nbpresent": {
     "id": "2792b310-4066-4105-8bca-503efe6f3653"
    }
   },
   "source": [
    "## Select well data within timeframe "
   ]
  },
  {
   "cell_type": "code",
   "execution_count": 71,
   "metadata": {
    "ExecuteTime": {
     "end_time": "2018-06-27T00:16:52.077271Z",
     "start_time": "2018-06-27T00:16:40.983Z"
    },
    "code_folding": [],
    "nbpresent": {
     "id": "173131a4-ef6f-4cb6-ab5f-b76f5dc6b8bf"
    }
   },
   "outputs": [
    {
     "data": {
      "text/html": [
       "<ol class=list-inline>\n",
       "\t<li>'HEIS_auto_wells'</li>\n",
       "\t<li>'HEIS_auto_wells_ids'</li>\n",
       "\t<li>'HEIS_manual_wells'</li>\n",
       "\t<li>'HEIS_manual_wells_ids'</li>\n",
       "\t<li>'SFA_wells'</li>\n",
       "\t<li>'SFA_wells_ids'</li>\n",
       "\t<li>'USGS_wells'</li>\n",
       "\t<li>'USGS_wells_ids'</li>\n",
       "\t<li>'USGS_wells_selected'</li>\n",
       "\t<li>'USGS_wells_selected.names'</li>\n",
       "</ol>\n"
      ],
      "text/latex": [
       "\\begin{enumerate*}\n",
       "\\item 'HEIS\\_auto\\_wells'\n",
       "\\item 'HEIS\\_auto\\_wells\\_ids'\n",
       "\\item 'HEIS\\_manual\\_wells'\n",
       "\\item 'HEIS\\_manual\\_wells\\_ids'\n",
       "\\item 'SFA\\_wells'\n",
       "\\item 'SFA\\_wells\\_ids'\n",
       "\\item 'USGS\\_wells'\n",
       "\\item 'USGS\\_wells\\_ids'\n",
       "\\item 'USGS\\_wells\\_selected'\n",
       "\\item 'USGS\\_wells\\_selected.names'\n",
       "\\end{enumerate*}\n"
      ],
      "text/markdown": [
       "1. 'HEIS_auto_wells'\n",
       "2. 'HEIS_auto_wells_ids'\n",
       "3. 'HEIS_manual_wells'\n",
       "4. 'HEIS_manual_wells_ids'\n",
       "5. 'SFA_wells'\n",
       "6. 'SFA_wells_ids'\n",
       "7. 'USGS_wells'\n",
       "8. 'USGS_wells_ids'\n",
       "9. 'USGS_wells_selected'\n",
       "10. 'USGS_wells_selected.names'\n",
       "\n",
       "\n"
      ],
      "text/plain": [
       " [1] \"HEIS_auto_wells\"           \"HEIS_auto_wells_ids\"      \n",
       " [3] \"HEIS_manual_wells\"         \"HEIS_manual_wells_ids\"    \n",
       " [5] \"SFA_wells\"                 \"SFA_wells_ids\"            \n",
       " [7] \"USGS_wells\"                \"USGS_wells_ids\"           \n",
       " [9] \"USGS_wells_selected\"       \"USGS_wells_selected.names\""
      ]
     },
     "metadata": {},
     "output_type": "display_data"
    }
   ],
   "source": [
    "attach(fname_wells.r)\n",
    "ls(pos = 2)"
   ]
  },
  {
   "cell_type": "code",
   "execution_count": 113,
   "metadata": {
    "ExecuteTime": {
     "end_time": "2018-06-27T18:45:33.655553Z",
     "start_time": "2018-06-27T18:45:33.644Z"
    },
    "code_folding": [],
    "nbpresent": {
     "id": "fb7a2820-96e2-470e-843d-7201531a03b7"
    }
   },
   "outputs": [],
   "source": [
    "initial.time = as.POSIXct(\"2007-01-01 00:00:00\",tz=\"GMT\",format=\"%Y-%m-%d %H:%M:%S\")\n",
    "# initial.time = as.POSIXct(\"2007-01-01 00:00:00\",tz=\"GMT\",format=\"%Y-%m-%d %H:%M:%S\")"
   ]
  },
  {
   "cell_type": "code",
   "execution_count": 114,
   "metadata": {
    "ExecuteTime": {
     "end_time": "2018-06-27T18:46:33.028968Z",
     "start_time": "2018-06-27T18:46:33.014Z"
    },
    "code_folding": [],
    "nbpresent": {
     "id": "fb7a2820-96e2-470e-843d-7201531a03b7"
    },
    "run_control": {
     "marked": false
    }
   },
   "outputs": [],
   "source": [
    "well_names = c(unique(HEIS_manual_wells_ids$WELL_NAME), unique(USGS_wells_selected.names), unique(SFA_wells_ids$WellName))\n",
    "\n",
    "well_names = unique(well_names)\n",
    "# well_names = c(unique(SFA_wells_ids$WellName)[27:48])\n",
    "\n",
    "# time_mar = 1*24*3600 #1 day range\n",
    "# time_mar = 15*86400 #15 day range\n",
    "time_mar = 90*86400 #90 day range\n",
    "\n",
    "# times=times[1]\n",
    "times = initial.time\n",
    "# itime = times"
   ]
  },
  {
   "cell_type": "code",
   "execution_count": 118,
   "metadata": {
    "ExecuteTime": {
     "end_time": "2018-06-27T19:14:06.774195Z",
     "start_time": "2018-06-27T18:56:30.005Z"
    },
    "code_folding": [],
    "nbpresent": {
     "id": "fb7a2820-96e2-470e-843d-7201531a03b7"
    },
    "scrolled": true
   },
   "outputs": [
    {
     "name": "stdout",
     "output_type": "stream",
     "text": [
      "[1] \"2007-01-01 GMT\"\n",
      "[1] \"199-B2-13 has wl within 7776000 seconds of itime (manual well)\"\n",
      "[1] \"199-B3-1 has wl within 7776000 seconds of itime (manual well)\"\n",
      "[1] \"199-B4-1 has wl within 7776000 seconds of itime (manual well)\"\n",
      "[1] \"199-B4-4 has wl within 7776000 seconds of itime (manual well)\"\n",
      "[1] \"199-B5-2 has wl within 7776000 seconds of itime (manual well)\"\n",
      "[1] \"199-D2-6 has wl within 7776000 seconds of itime (manual well)\"\n",
      "[1] \"199-D5-15 has wl within 7776000 seconds of itime (manual well)\"\n",
      "[1] \"199-D5-16 has wl within 7776000 seconds of itime (manual well)\"\n",
      "[1] \"199-D5-18 has wl within 7776000 seconds of itime (manual well)\"\n",
      "[1] \"199-D8-4 has wl within 7776000 seconds of itime (manual well)\"\n",
      "[1] \"199-F1-2 has wl within 7776000 seconds of itime (manual well)\"\n",
      "[1] \"199-F5-1 has wl within 7776000 seconds of itime (manual well)\"\n",
      "[1] \"199-F5-4 has wl within 7776000 seconds of itime (manual well)\"\n",
      "[1] \"199-F5-42 has wl within 7776000 seconds of itime (manual well)\"\n",
      "[1] \"199-F5-46 has wl within 7776000 seconds of itime (manual well)\"\n",
      "[1] \"199-F5-47 has wl within 7776000 seconds of itime (manual well)\"\n",
      "[1] \"199-F5-48 has wl within 7776000 seconds of itime (manual well)\"\n",
      "[1] \"199-F5-6 has wl within 7776000 seconds of itime (manual well)\"\n",
      "[1] \"199-F8-2 has wl within 7776000 seconds of itime (manual well)\"\n",
      "[1] \"199-F8-3 has wl within 7776000 seconds of itime (manual well)\"\n",
      "[1] \"199-H4-15CQ has wl within 7776000 seconds of itime (manual well)\"\n",
      "[1] \"199-H4-15CR has wl within 7776000 seconds of itime (manual well)\"\n",
      "[1] \"199-H4-15CS has wl within 7776000 seconds of itime (manual well)\"\n",
      "[1] \"199-H4-16 has wl within 7776000 seconds of itime (manual well)\"\n",
      "[1] \"199-H4-45 has wl within 7776000 seconds of itime (manual well)\"\n",
      "[1] \"199-H4-46 has wl within 7776000 seconds of itime (manual well)\"\n",
      "[1] \"199-H4-48 has wl within 7776000 seconds of itime (manual well)\"\n",
      "[1] \"199-H4-5 has wl within 7776000 seconds of itime (mvAwln well)\"\n",
      "[1] \"199-H4-6 has wl within 7776000 seconds of itime (manual well)\"\n",
      "[1] \"199-H6-1 has wl within 7776000 seconds of itime (manual well)\"\n",
      "[1] \"199-K-11 has wl within 7776000 seconds of itime (manual well)\"\n",
      "[1] \"199-K-23 has wl within 7776000 seconds of itime (manual well)\"\n",
      "[1] \"199-K-27 has wl within 7776000 seconds of itime (manual well)\"\n",
      "[1] \"199-K-34 has wl within 7776000 seconds of itime (manual well)\"\n",
      "[1] \"199-K-35 has wl within 7776000 seconds of itime (manual well)\"\n",
      "[1] \"199-N-18 has wl within 7776000 seconds of itime (manual well)\"\n",
      "[1] \"199-N-19 has wl within 7776000 seconds of itime (manual well)\"\n",
      "[1] \"199-N-27 has wl within 7776000 seconds of itime (manual well)\"\n",
      "[1] \"199-N-28 has wl within 7776000 seconds of itime (manual well)\"\n",
      "[1] \"199-N-32 has wl within 7776000 seconds of itime (manual well)\"\n",
      "[1] \"199-N-33 has wl within 7776000 seconds of itime (manual well)\"\n",
      "[1] \"199-N-41 has wl within 7776000 seconds of itime (manual well)\"\n",
      "[1] \"199-N-51 has wl within 7776000 seconds of itime (manual well)\"\n",
      "[1] \"199-N-52 has wl within 7776000 seconds of itime (manual well)\"\n",
      "[1] \"199-N-56 has wl within 7776000 seconds of itime (manual well)\"\n",
      "[1] \"199-N-57 has wl within 7776000 seconds of itime (manual well)\"\n",
      "[1] \"199-N-62 has wl within 7776000 seconds of itime (manual well)\"\n",
      "[1] \"199-N-64 has wl within 7776000 seconds of itime (manual well)\"\n",
      "[1] \"199-N-66 has wl within 7776000 seconds of itime (manual well)\"\n",
      "[1] \"199-N-67 has wl within 7776000 seconds of itime (manual well)\"\n",
      "[1] \"199-N-70 has wl within 7776000 seconds of itime (manual well)\"\n",
      "[1] \"199-N-73 has wl within 7776000 seconds of itime (manual well)\"\n",
      "[1] \"199-N-74 has wl within 7776000 seconds of itime (manual well)\"\n",
      "[1] \"199-N-80 has wl within 7776000 seconds of itime (manual well)\"\n",
      "[1] \"299-E13-10 has wl within 7776000 seconds of itime (manual well)\"\n",
      "[1] \"299-E13-14 has wl within 7776000 seconds of itime (manual well)\"\n",
      "[1] \"299-E16-1 has wl within 7776000 seconds of itime (manual well)\"\n",
      "[1] \"299-E17-1 has wl within 7776000 seconds of itime (manual well)\"\n",
      "[1] \"299-E17-12 has wl within 7776000 seconds of itime (manual well)\"\n",
      "[1] \"299-E17-13 has wl within 7776000 seconds of itime (manual well)\"\n",
      "[1] \"299-E17-14 has wl within 7776000 seconds of itime (manual well)\"\n",
      "[1] \"299-E17-15 has wl within 7776000 seconds of itime (manual well)\"\n",
      "[1] \"299-E17-16 has wl within 7776000 seconds of itime (manual well)\"\n",
      "[1] \"299-E17-17 has wl within 7776000 seconds of itime (manual well)\"\n",
      "[1] \"299-E17-18 has wl within 7776000 seconds of itime (manual well)\"\n",
      "[1] \"299-E17-19 has wl within 7776000 seconds of itime (manual well)\"\n",
      "[1] \"299-E17-20 has wl within 7776000 seconds of itime (manual well)\"\n",
      "[1] \"299-E17-9 has wl within 7776000 seconds of itime (manual well)\"\n",
      "[1] \"299-E18-1 has wl within 7776000 seconds of itime (manual well)\"\n",
      "[1] \"299-E18-2 has wl within 7776000 seconds of itime (manual well)\"\n",
      "[1] \"299-E23-1 has wl within 7776000 seconds of itime (manual well)\"\n",
      "[1] \"299-E24-16 has wl within 7776000 seconds of itime (manual well)\"\n",
      "[1] \"299-E24-17 has wl within 7776000 seconds of itime (manual well)\"\n",
      "[1] \"299-E24-18 has wl within 7776000 seconds of itime (manual well)\"\n",
      "[1] \"299-E24-20 has wl within 7776000 seconds of itime (manual well)\"\n",
      "[1] \"299-E24-8 has wl within 7776000 seconds of itime (manual well)\"\n",
      "[1] \"299-E25-11 has wl within 7776000 seconds of itime (manual well)\"\n",
      "[1] \"299-E25-19 has wl within 7776000 seconds of itime (manual well)\"\n",
      "[1] \"299-E25-2 has wl within 7776000 seconds of itime (manual well)\"\n",
      "[1] \"299-E25-26 has wl within 7776000 seconds of itime (manual well)\"\n",
      "[1] \"299-E25-28 has wl within 7776000 seconds of itime (manual well)\"\n",
      "[1] \"299-E25-31 has wl within 7776000 seconds of itime (manual well)\"\n",
      "[1] \"299-E25-32P has wl within 7776000 seconds of itime (manual well)\"\n",
      "[1] \"299-E25-34 has wl within 7776000 seconds of itime (manual well)\"\n",
      "[1] \"299-E25-35 has wl within 7776000 seconds of itime (manual well)\"\n",
      "[1] \"299-E25-36 has wl within 7776000 seconds of itime (manual well)\"\n",
      "[1] \"299-E25-41 has wl within 7776000 seconds of itime (manual well)\"\n",
      "[1] \"299-E25-42 has wl within 7776000 seconds of itime (manual well)\"\n",
      "[1] \"299-E25-48 has wl within 7776000 seconds of itime (manual well)\"\n",
      "[1] \"299-E26-12 has wl within 7776000 seconds of itime (manual well)\"\n",
      "[1] \"299-E26-13 has wl within 7776000 seconds of itime (manual well)\"\n",
      "[1] \"299-E26-2 has wl within 7776000 seconds of itime (manual well)\"\n",
      "[1] \"299-E26-4 has wl within 7776000 seconds of itime (manual well)\"\n",
      "[1] \"299-E26-8 has wl within 7776000 seconds of itime (manual well)\"\n",
      "[1] \"299-E27-10 has wl within 7776000 seconds of itime (manual well)\"\n",
      "[1] \"299-E27-11 has wl within 7776000 seconds of itime (manual well)\"\n",
      "[1] \"299-E27-13 has wl within 7776000 seconds of itime (manual well)\"\n",
      "[1] \"299-E27-14 has wl within 7776000 seconds of itime (manual well)\"\n",
      "[1] \"299-E27-15 has wl within 7776000 seconds of itime (manual well)\"\n",
      "[1] \"299-E27-16 has wl within 7776000 seconds of itime (manual well)\"\n",
      "[1] \"299-E27-17 has wl within 7776000 seconds of itime (manual well)\"\n",
      "[1] \"299-E27-7 has wl within 7776000 seconds of itime (manual well)\"\n",
      "[1] \"299-E27-8 has wl within 7776000 seconds of itime (manual well)\"\n",
      "[1] \"299-E27-9 has wl within 7776000 seconds of itime (manual well)\"\n",
      "[1] \"299-E28-17 has wl within 7776000 seconds of itime (manual well)\"\n",
      "[1] \"299-E28-26 has wl within 7776000 seconds of itime (manual well)\"\n",
      "[1] \"299-E28-27 has wl within 7776000 seconds of itime (manual well)\"\n",
      "[1] \"299-E28-28 has wl within 7776000 seconds of itime (manual well)\"\n",
      "[1] \"299-E28-4 has wl within 7776000 seconds of itime (manual well)\"\n",
      "[1] \"299-E28-9 has wl within 7776000 seconds of itime (manual well)\"\n",
      "[1] \"299-E32-2 has wl within 7776000 seconds of itime (manual well)\"\n",
      "[1] \"299-E32-3 has wl within 7776000 seconds of itime (manual well)\"\n",
      "[1] \"299-E32-4 has wl within 7776000 seconds of itime (manual well)\"\n",
      "[1] \"299-E32-5 has wl within 7776000 seconds of itime (manual well)\"\n",
      "[1] \"299-E32-6 has wl within 7776000 seconds of itime (manual well)\"\n",
      "[1] \"299-E32-7 has wl within 7776000 seconds of itime (manual well)\"\n",
      "[1] \"299-E32-8 has wl within 7776000 seconds of itime (manual well)\"\n",
      "[1] \"299-E32-9 has wl within 7776000 seconds of itime (manual well)\"\n",
      "[1] \"299-E33-1A has wl within 7776000 seconds of itime (manual well)\"\n",
      "[1] \"299-E33-13 has wl within 7776000 seconds of itime (manual well)\"\n",
      "[1] \"299-E33-14 has wl within 7776000 seconds of itime (manual well)\"\n",
      "[1] \"299-E33-15 has wl within 7776000 seconds of itime (manual well)\"\n",
      "[1] \"299-E33-17 has wl within 7776000 seconds of itime (manual well)\"\n",
      "[1] \"299-E33-18 has wl within 7776000 seconds of itime (manual well)\"\n",
      "[1] \"299-E33-2 has wl within 7776000 seconds of itime (manual well)\"\n",
      "[1] \"299-E33-20 has wl within 7776000 seconds of itime (manual well)\"\n",
      "[1] \"299-E33-21 has wl within 7776000 seconds of itime (manual well)\"\n",
      "[1] \"299-E33-26 has wl within 7776000 seconds of itime (manual well)\"\n",
      "[1] \"299-E33-28 has wl within 7776000 seconds of itime (manual well)\"\n",
      "[1] \"299-E33-29 has wl within 7776000 seconds of itime (manual well)\"\n",
      "[1] \"299-E33-3 has wl within 7776000 seconds of itime (manual well)\"\n",
      "[1] \"299-E33-30 has wl within 7776000 seconds of itime (manual well)\"\n",
      "[1] \"299-E33-31 has wl within 7776000 seconds of itime (manual well)\"\n",
      "[1] \"299-E33-32 has wl within 7776000 seconds of itime (manual well)\"\n",
      "[1] \"299-E33-33 has wl within 7776000 seconds of itime (manual well)\"\n",
      "[1] \"299-E33-35 has wl within 7776000 seconds of itime (manual well)\"\n",
      "[1] \"299-E33-36 has wl within 7776000 seconds of itime (manual well)\"\n",
      "[1] \"299-E33-37 has wl within 7776000 seconds of itime (manual well)\"\n",
      "[1] \"299-E33-38 has wl within 7776000 seconds of itime (manual well)\"\n",
      "[1] \"299-E33-39 has wl within 7776000 seconds of itime (manual well)\"\n",
      "[1] \"299-E33-4 has wl within 7776000 seconds of itime (manual well)\"\n",
      "[1] \"299-E33-41 has wl within 7776000 seconds of itime (manual well)\"\n",
      "[1] \"299-E33-42 has wl within 7776000 seconds of itime (manual well)\"\n",
      "[1] \"299-E33-43 has wl within 7776000 seconds of itime (manual well)\"\n",
      "[1] \"299-E33-7 has wl within 7776000 seconds of itime (manual well)\"\n",
      "[1] \"299-E33-9 has wl within 7776000 seconds of itime (manual well)\"\n",
      "[1] \"299-E34-10 has wl within 7776000 seconds of itime (manual well)\"\n",
      "[1] \"299-E34-2 has wl within 7776000 seconds of itime (manual well)\"\n",
      "[1] \"299-E34-5 has wl within 7776000 seconds of itime (manual well)\"\n",
      "[1] \"299-E34-7 has wl within 7776000 seconds of itime (manual well)\"\n",
      "[1] \"299-E34-8 has wl within 7776000 seconds of itime (manual well)\"\n",
      "[1] \"299-E34-9 has wl within 7776000 seconds of itime (manual well)\"\n",
      "[1] \"299-W10-10 has wl within 7776000 seconds of itime (manual well)\"\n",
      "[1] \"299-W10-14 has wl within 7776000 seconds of itime (manual well)\"\n",
      "[1] \"299-W10-8 has wl within 7776000 seconds of itime (manual well)\"\n",
      "[1] \"299-W11-10 has wl within 7776000 seconds of itime (manual well)\"\n",
      "[1] \"299-W11-12 has wl within 7776000 seconds of itime (manual well)\"\n",
      "[1] \"299-W11-6 has wl within 7776000 seconds of itime (manual well)\"\n",
      "[1] \"299-W11-7 has wl within 7776000 seconds of itime (manual well)\"\n",
      "[1] \"299-W15-15 has wl within 7776000 seconds of itime (manual well)\"\n",
      "[1] \"299-W15-16 has wl within 7776000 seconds of itime (manual well)\"\n",
      "[1] \"299-W18-15 has wl within 7776000 seconds of itime (manual well)\"\n",
      "[1] \"299-W18-28 has wl within 7776000 seconds of itime (manual well)\"\n",
      "[1] \"299-W18-31 has wl within 7776000 seconds of itime (manual well)\"\n",
      "[1] \"299-W19-12 has wl within 7776000 seconds of itime (manual well)\"\n",
      "[1] \"299-W19-20 has wl within 7776000 seconds of itime (manual well)\"\n",
      "[1] \"299-W22-26 has wl within 7776000 seconds of itime (manual well)\"\n",
      "[1] \"299-W22-45 has wl within 7776000 seconds of itime (manual well)\"\n",
      "[1] \"299-W23-15 has wl within 7776000 seconds of itime (manual well)\"\n",
      "[1] \"299-W23-4 has wl within 7776000 seconds of itime (manual well)\"\n",
      "[1] \"299-W6-3 has wl within 7776000 seconds of itime (manual well)\"\n",
      "[1] \"299-W6-6 has wl within 7776000 seconds of itime (manual well)\"\n",
      "[1] \"299-W7-1 has wl within 7776000 seconds of itime (manual well)\"\n",
      "[1] \"299-W7-12 has wl within 7776000 seconds of itime (manual well)\"\n",
      "[1] \"299-W7-3 has wl within 7776000 seconds of itime (manual well)\"\n",
      "[1] \"299-W7-4 has wl within 7776000 seconds of itime (manual well)\"\n",
      "[1] \"299-W7-5 has wl within 7776000 seconds of itime (manual well)\"\n",
      "[1] \"299-W7-7 has wl within 7776000 seconds of itime (manual well)\"\n",
      "[1] \"299-W8-1 has wl within 7776000 seconds of itime (manual well)\"\n",
      "[1] \"399-1-16B has wl within 7776000 seconds of itime (manual well)\"\n",
      "[1] \"399-1-16C has wl within 7776000 seconds of itime (manual well)\"\n",
      "[1] \"399-1-17B has wl within 7776000 seconds of itime (manual well)\"\n",
      "[1] \"399-1-17C has wl within 7776000 seconds of itime (manual well)\"\n",
      "[1] \"399-1-18A has wl within 7776000 seconds of itime (manual well)\"\n",
      "[1] \"399-1-18B has wl within 7776000 seconds of itime (manual well)\"\n",
      "[1] \"399-1-18C has wl within 7776000 seconds of itime (manual well)\"\n",
      "[1] \"399-1-3 has wl within 7776000 seconds of itime (manual well)\"\n",
      "[1] \"399-1-4 has wl within 7776000 seconds of itime (manual well)\"\n",
      "[1] \"399-1-6 has wl within 7776000 seconds of itime (manual well)\"\n",
      "[1] \"399-1-8 has wl within 7776000 seconds of itime (manual well)\"\n",
      "[1] \"399-1-9 has wl within 7776000 seconds of itime (manual well)\"\n",
      "[1] \"399-3-1 has wl within 7776000 seconds of itime (manual well)\"\n",
      "[1] \"399-3-12 has wl within 7776000 seconds of itime (manual well)\"\n",
      "[1] \"399-3-6 has wl within 7776000 seconds of itime (manual well)\"\n",
      "[1] \"399-4-1 has wl within 7776000 seconds of itime (manual well)\"\n",
      "[1] \"399-4-10 has wl within 7776000 seconds of itime (manual well)\"\n",
      "[1] \"399-4-11 has wl within 7776000 seconds of itime (manual well)\"\n",
      "[1] \"399-8-2 has wl within 7776000 seconds of itime (manual well)\"\n",
      "[1] \"399-8-3 has wl within 7776000 seconds of itime (manual well)\"\n",
      "[1] \"3099-47-18B has wl within 7776000 seconds of itime (manual well)\"\n",
      "[1] \"699-10-54A has wl within 7776000 seconds of itime (manual well)\"\n",
      "[1] \"699-10-E12 has wl within 7776000 seconds of itime (manual well)\"\n",
      "[1] \"699-101-48B has wl within 7776000 seconds of itime (manual well)\"\n",
      "[1] \"699-11-45A has wl within 7776000 seconds of itime (manual well)\"\n",
      "[1] \"699-14-38 has wl within 7776000 seconds of itime (manual well)\"\n",
      "[1] \"699-14-47 has wl within 7776000 seconds of itime (manual well)\"\n",
      "[1] \"699-15-15A has wl within 7776000 seconds of itime (manual well)\"\n",
      "[1] \"699-15-26 has wl within 7776000 seconds of itime (manual well)\"\n",
      "[1] \"699-17-5 has wl within 7776000 seconds of itime (manual well)\"\n",
      "[1] \"699-17-70 has wl within 7776000 seconds of itime (manual well)\"\n",
      "[1] \"699-19-43 has wl within 7776000 seconds of itime (manual well)\"\n",
      "[1] \"699-19-58 has wl within 7776000 seconds of itime (manual well)\"\n",
      "[1] \"699-19-88 has wl within 7776000 seconds of itime (manual well)\"\n",
      "[1] \"699-2-3 has wl within 7776000 seconds of itime (manual well)\"\n",
      "[1] \"699-2-33A has wl within 7776000 seconds of itime (manual well)\"\n",
      "[1] \"699-20-20 has wl within 7776000 seconds of itime (manual well)\"\n",
      "[1] \"699-20-39 has wl within 7776000 seconds of itime (manual well)\"\n",
      "[1] \"699-20-41P has wl within 7776000 seconds of itime (manual well)\"\n",
      "[1] \"699-20-41Q has wl within 7776000 seconds of itime (manual well)\"\n",
      "[1] \"699-20-41R has wl within 7776000 seconds of itime (manual well)\"\n",
      "[1] \"699-20-E12 has wl within 7776000 seconds of itime (manual well)\"\n",
      "[1] \"699-21-17 has wl within 7776000 seconds of itime (manual well)\"\n",
      "[1] \"699-23-34A has wl within 7776000 seconds of itime (manual well)\"\n",
      "[1] \"699-24-33 has wl within 7776000 seconds of itime (manual well)\"\n",
      "[1] \"699-24-34A has wl within 7776000 seconds of itime (manual well)\"\n",
      "[1] \"699-24-34B has wl within 7776000 seconds of itime (manual well)\"\n",
      "[1] \"699-24-34C has wl within 7776000 seconds of itime (manual well)\"\n",
      "[1] \"699-24-35 has wl within 7776000 seconds of itime (manual well)\"\n",
      "[1] \"699-25-33A has wl within 7776000 seconds of itime (manual well)\"\n",
      "[1] \"699-25-34A has wl within 7776000 seconds of itime (manual well)\"\n",
      "[1] \"699-25-34B has wl within 7776000 seconds of itime (manual well)\"\n",
      "[1] \"699-25-34C has wl within 7776000 seconds of itime (manual well)\"\n",
      "[1] \"699-25-55 has wl within 7776000 seconds of itime (manual well)\"\n",
      "[1] \"699-25-70 has wl within 7776000 seconds of itime (manual well)\"\n",
      "[1] \"699-26-15A has wl within 7776000 seconds of itime (manual well)\"\n",
      "[1] \"699-26-33 has wl within 7776000 seconds of itime (manual well)\"\n",
      "[1] \"699-26-34A has wl within 7776000 seconds of itime (manual well)\"\n",
      "[1] \"699-26-35A has wl within 7776000 seconds of itime (manual well)\"\n",
      "[1] \"699-26-35C has wl within 7776000 seconds of itime (manual well)\"\n",
      "[1] \"699-26-83BP has wl within 7776000 seconds of itime (manual well)\"\n",
      "[1] \"699-26-83BQ has wl within 7776000 seconds of itime (manual well)\"\n",
      "[1] \"699-26-83BR has wl within 7776000 seconds of itime (manual well)\"\n",
      "[1] \"699-26-89 has wl within 7776000 seconds of itime (manual well)\"\n",
      "[1] \"699-27-8 has wl within 7776000 seconds of itime (manual well)\"\n",
      "[1] \"699-28-40 has wl within 7776000 seconds of itime (manual well)\"\n",
      "[1] \"699-28-52A has wl within 7776000 seconds of itime (manual well)\"\n",
      "[1] \"699-29-70AP has wl within 7776000 seconds of itime (manual well)\"\n",
      "[1] \"699-29-70AQ has wl within 7776000 seconds of itime (manual well)\"\n",
      "[1] \"699-29-70CP has wl within 7776000 seconds of itime (manual well)\"\n",
      "[1] \"699-29-70CQ has wl within 7776000 seconds of itime (manual well)\"\n",
      "[1] \"699-29-70CR has wl within 7776000 seconds of itime (manual well)\"\n",
      "[1] \"699-29-70CS has wl within 7776000 seconds of itime (manual well)\"\n",
      "[1] \"699-29-70CT has wl within 7776000 seconds of itime (manual well)\"\n",
      "[1] \"699-29-70CU has wl within 7776000 seconds of itime (manual well)\"\n",
      "[1] \"699-29-70DP has wl within 7776000 seconds of itime (manual well)\"\n",
      "[1] \"699-29-78 has wl within 7776000 seconds of itime (manual well)\"\n",
      "[1] \"699-3-45 has wl within 7776000 seconds of itime (manual well)\"\n",
      "[1] \"699-31-31 has wl within 7776000 seconds of itime (manual well)\"\n",
      "[1] \"699-31-84B has wl within 7776000 seconds of itime (manual well)\"\n",
      "[1] \"699-32-22A has wl within 7776000 seconds of itime (manual well)\"\n",
      "[1] \"699-32-43 has wl within 7776000 seconds of itime (manual well)\"\n",
      "[1] \"699-32-62 has wl within 7776000 seconds of itime (manual well)\"\n",
      "[1] \"699-32-70B has wl within 7776000 seconds of itime (manual well)\"\n",
      "[1] \"699-32-77 has wl within 7776000 seconds of itime (manual well)\"\n",
      "[1] \"699-33-42 has wl within 7776000 seconds of itime (manual well)\"\n",
      "[1] \"699-33-56 has wl within 7776000 seconds of itime (manual well)\"\n",
      "[1] \"699-34-39A has wl within 7776000 seconds of itime (manual well)\"\n",
      "[1] \"699-34-41B has wl within 7776000 seconds of itime (manual well)\"\n",
      "[1] \"699-34-42 has wl within 7776000 seconds of itime (manual well)\"\n",
      "[1] \"699-34-51 has wl within 7776000 seconds of itime (manual well)\"\n",
      "[1] \"699-34-88 has wl within 7776000 seconds of itime (manual well)\"\n",
      "[1] \"699-35-66A has wl within 7776000 seconds of itime (manual well)\"\n",
      "[1] \"699-35-70 has wl within 7776000 seconds of itime (manual well)\"\n",
      "[1] \"699-35-9 has wl within 7776000 seconds of itime (manual well)\"\n",
      "[1] \"699-36-93 has wl within 7776000 seconds of itime (manual well)\"\n",
      "[1] \"699-37-43 has wl within 7776000 seconds of itime (manual well)\"\n",
      "[1] \"699-38-65 has wl within 7776000 seconds of itime (manual well)\"\n",
      "[1] \"699-38-70 has wl within 7776000 seconds of itime (manual well)\"\n",
      "[1] \"699-40-1 has wl within 7776000 seconds of itime (manual well)\"\n",
      "[1] \"699-40-33A has wl within 7776000 seconds of itime (manual well)\"\n",
      "[1] \"699-40-36 has wl within 7776000 seconds of itime (manual well)\"\n",
      "[1] \"699-40-40A has wl within 7776000 seconds of itime (manual well)\"\n",
      "[1] \"699-40-62 has wl within 7776000 seconds of itime (manual well)\"\n",
      "[1] \"699-41-23 has wl within 7776000 seconds of itime (manual well)\"\n",
      "[1] \"699-41-35 has wl within 7776000 seconds of itime (manual well)\"\n",
      "[1] \"699-41-40 has wl within 7776000 seconds of itime (manual well)\"\n",
      "[1] \"699-41-42 has wl within 7776000 seconds of itime (manual well)\"\n",
      "[1] \"699-42-12A has wl within 7776000 seconds of itime (manual well)\"\n",
      "[1] \"699-42-37 has wl within 7776000 seconds of itime (manual well)\"\n",
      "[1] \"699-42-39A has wl within 7776000 seconds of itime (manual well)\"\n",
      "[1] \"699-42-39B has wl within 7776000 seconds of itime (manual well)\"\n",
      "[1] \"699-42-40A has wl within 7776000 seconds of itime (manual well)\"\n",
      "[1] \"699-42-40B has wl within 7776000 seconds of itime (manual well)\"\n",
      "[1] \"699-42-40C has wl within 7776000 seconds of itime (manual well)\"\n",
      "[1] \"699-42-42B has wl within 7776000 seconds of itime (manual well)\"\n",
      "[1] \"699-43-104 has wl within 7776000 seconds of itime (manual well)\"\n",
      "[1] \"699-43-41E has wl within 7776000 seconds of itime (manual well)\"\n",
      "[1] \"699-43-41G has wl within 7776000 seconds of itime (manual well)\"\n",
      "[1] \"699-43-45 has wl within 7776000 seconds of itime (manual well)\"\n",
      "[1] \"699-43-89 has wl within 7776000 seconds of itime (manual well)\"\n",
      "[1] \"699-43-91AP has wl within 7776000 seconds of itime (manual well)\"\n",
      "[1] \"699-43-91AQ has wl within 7776000 seconds of itime (manual well)\"\n",
      "[1] \"699-44-39B has wl within 7776000 seconds of itime (manual well)\"\n",
      "[1] \"699-44-64 has wl within 7776000 seconds of itime (manual well)\"\n",
      "[1] \"699-44-91P has wl within 7776000 seconds of itime (manual well)\"\n",
      "[1] \"699-44-91Q has wl within 7776000 seconds of itime (manual well)\"\n",
      "[1] \"699-44-91R has wl within 7776000 seconds of itime (manual well)\"\n",
      "[1] \"699-44-91S has wl within 7776000 seconds of itime (manual well)\"\n",
      "[1] \"699-44-91T has wl within 7776000 seconds of itime (manual well)\"\n",
      "[1] \"699-44-91U has wl within 7776000 seconds of itime (manual well)\"\n",
      "[1] \"699-45-69A has wl within 7776000 seconds of itime (manual well)\"\n",
      "[1] \"699-46-21B has wl within 7776000 seconds of itime (manual well)\"\n",
      "[1] \"699-47-35A has wl within 7776000 seconds of itime (manual well)\"\n",
      "[1] \"699-47-35B has wl within 7776000 seconds of itime (manual well)\"\n",
      "[1] \"699-47-50 has wl within 7776000 seconds of itime (manual well)\"\n",
      "[1] \"699-47-60 has wl within 7776000 seconds of itime (manual well)\"\n",
      "[1] \"699-47-80AP has wl within 7776000 seconds of itime (manual well)\"\n",
      "[1] \"699-47-80AQ has wl within 7776000 seconds of itime (manual well)\"\n",
      "[1] \"699-47-80CP has wl within 7776000 seconds of itime (manual well)\"\n",
      "[1] \"699-47-80CQ has wl within 7776000 seconds of itime (manual well)\"\n",
      "[1] \"699-47-80CR has wl within 7776000 seconds of itime (manual well)\"\n",
      "[1] \"699-47-80CS has wl within 7776000 seconds of itime (manual well)\"\n",
      "[1] \"699-47-80CT has wl within 7776000 seconds of itime (manual well)\"\n",
      "[1] \"699-47-80CU has wl within 7776000 seconds of itime (manual well)\"\n",
      "[1] \"699-47-80DP has wl within 7776000 seconds of itime (manual well)\"\n",
      "[1] \"699-48-50 has wl within 7776000 seconds of itime (manual well)\"\n",
      "[1] \"699-48-7A has wl within 7776000 seconds of itime (manual well)\"\n",
      "[1] \"699-49-13E has wl within 7776000 seconds of itime (manual well)\"\n",
      "[1] \"699-49-55A has wl within 7776000 seconds of itime (manual well)\"\n",
      "[1] \"699-49-55B has wl within 7776000 seconds of itime (manual well)\"\n",
      "[1] \"699-49-57A has wl within 7776000 seconds of itime (manual well)\"\n",
      "[1] \"699-49-57B has wl within 7776000 seconds of itime (manual well)\"\n",
      "[1] \"699-49-79 has wl within 7776000 seconds of itime (manual well)\"\n",
      "[1] \"699-50-28B has wl within 7776000 seconds of itime (manual well)\"\n",
      "[1] \"699-50-30 has wl within 7776000 seconds of itime (manual well)\"\n",
      "[1] \"699-50-42 has wl within 7776000 seconds of itime (manual well)\"\n",
      "[1] \"699-50-45 has wl within 7776000 seconds of itime (manual well)\"\n",
      "[1] \"699-50-48B has wl within 7776000 seconds of itime (manual well)\"\n",
      "[1] \"699-50-53B has wl within 7776000 seconds of itime (manual well)\"\n",
      "[1] \"699-50-85 has wl within 7776000 seconds of itime (manual well)\"\n",
      "[1] \"699-51-46 has wl within 7776000 seconds of itime (manual well)\"\n",
      "[1] \"699-51-63 has wl within 7776000 seconds of itime (manual well)\"\n",
      "[1] \"699-51-75 has wl within 7776000 seconds of itime (manual well)\"\n",
      "[1] \"699-52-19 has wl within 7776000 seconds of itime (manual well)\"\n",
      "[1] \"699-52-46A has wl within 7776000 seconds of itime (manual well)\"\n",
      "[1] \"699-52-48 has wl within 7776000 seconds of itime (manual well)\"\n",
      "[1] \"699-53-35 has wl within 7776000 seconds of itime (manual well)\"\n",
      "[1] \"699-53-47B has wl within 7776000 seconds of itime (manual well)\"\n",
      "[1] \"699-53-50 has wl within 7776000 seconds of itime (manual well)\"\n",
      "[1] \"699-54-34 has wl within 7776000 seconds of itime (manual well)\"\n",
      "[1] \"699-54-37A has wl within 7776000 seconds of itime (manual well)\"\n",
      "[1] \"699-54-42 has wl within 7776000 seconds of itime (manual well)\"\n",
      "[1] \"699-54-45A has wl within 7776000 seconds of itime (manual well)\"\n",
      "[1] \"699-54-48 has wl within 7776000 seconds of itime (manual well)\"\n",
      "[1] \"699-54-57 has wl within 7776000 seconds of itime (manual well)\"\n",
      "[1] \"699-55-44 has wl within 7776000 seconds of itime (manual well)\"\n",
      "[1] \"699-55-50C has wl within 7776000 seconds of itime (manual well)\"\n",
      "[1] \"699-55-70 has wl within 7776000 seconds of itime (manual well)\"\n",
      "[1] \"699-55-76 has wl within 7776000 seconds of itime (manual well)\"\n",
      "[1] \"699-55-89 has wl within 7776000 seconds of itime (manual well)\"\n",
      "[1] \"699-55-95 has wl within 7776000 seconds of itime (manual well)\"\n",
      "[1] \"699-56-43 has wl within 7776000 seconds of itime (manual well)\"\n",
      "[1] \"699-56-53 has wl within 7776000 seconds of itime (manual well)\"\n",
      "[1] \"699-57-29A has wl within 7776000 seconds of itime (manual well)\"\n",
      "[1] \"699-57-59 has wl within 7776000 seconds of itime (manual well)\"\n",
      "[1] \"699-57-83A has wl within 7776000 seconds of itime (manual well)\"\n",
      "[1] \"699-57-83BP has wl within 7776000 seconds of itime (manual well)\"\n",
      "[1] \"699-57-83BQ has wl within 7776000 seconds of itime (manual well)\"\n",
      "[1] \"699-57-83BR has wl within 7776000 seconds of itime (manual well)\"\n",
      "[1] \"699-57-83C has wl within 7776000 seconds of itime (manual well)\"\n",
      "[1] \"699-58-24 has wl within 7776000 seconds of itime (manual well)\"\n",
      "[1] \"699-59-32 has wl within 7776000 seconds of itime (manual well)\"\n",
      "[1] \"699-59-58 has wl within 7776000 seconds of itime (manual well)\"\n",
      "[1] \"699-59-80B has wl within 7776000 seconds of itime (manual well)\"\n",
      "[1] \"699-60-57 has wl within 7776000 seconds of itime (manual well)\"\n",
      "[1] \"699-60-60 has wl within 7776000 seconds of itime (manual well)\"\n",
      "[1] \"699-61-41 has wl within 7776000 seconds of itime (manual well)\"\n",
      "[1] \"699-61-62 has wl within 7776000 seconds of itime (manual well)\"\n",
      "[1] \"699-61-66 has wl within 7776000 seconds of itime (manual well)\"\n",
      "[1] \"699-62-31 has wl within 7776000 seconds of itime (manual well)\"\n",
      "[1] \"699-62-43A has wl within 7776000 seconds of itime (manual well)\"\n",
      "[1] \"699-63-55 has wl within 7776000 seconds of itime (manual well)\"\n",
      "[1] \"699-63-58 has wl within 7776000 seconds of itime (manual well)\"\n",
      "[1] \"699-63-90 has wl within 7776000 seconds of itime (manual well)\"\n",
      "[1] \"699-63-92 has wl within 7776000 seconds of itime (manual well)\"\n",
      "[1] \"699-64-62 has wl within 7776000 seconds of itime (manual well)\"\n",
      "[1] \"699-65-22 has wl within 7776000 seconds of itime (manual well)\"\n",
      "[1] \"699-65-50 has wl within 7776000 seconds of itime (manual well)\"\n",
      "[1] \"699-65-59A has wl within 7776000 seconds of itime (manual well)\"\n",
      "[1] \"699-65-72 has wl within 7776000 seconds of itime (manual well)\"\n",
      "[1] \"699-65-83 has wl within 7776000 seconds of itime (manual well)\"\n",
      "[1] \"699-66-103 has wl within 7776000 seconds of itime (manual well)\"\n",
      "[1] \"699-66-38 has wl within 7776000 seconds of itime (manual well)\"\n",
      "[1] \"699-66-39 has wl within 7776000 seconds of itime (manual well)\"\n",
      "[1] \"699-66-58 has wl within 7776000 seconds of itime (manual well)\"\n",
      "[1] \"699-66-64 has wl within 7776000 seconds of itime (manual well)\"\n",
      "[1] \"699-66-91 has wl within 7776000 seconds of itime (manual well)\"\n",
      "[1] \"699-67-51 has wl within 7776000 seconds of itime (manual well)\"\n",
      "[1] \"699-67-86 has wl within 7776000 seconds of itime (manual well)\"\n",
      "[1] \"699-68-105 has wl within 7776000 seconds of itime (manual well)\"\n",
      "[1] \"699-69-38 has wl within 7776000 seconds of itime (manual well)\"\n",
      "[1] \"699-69-45O has wl within 7776000 seconds of itime (manual well)\"\n",
      "[1] \"699-70-68 has wl within 7776000 seconds of itime (manual well)\"\n",
      "[1] \"699-71-52 has wl within 7776000 seconds of itime (manual well)\"\n",
      "[1] \"699-72-92 has wl within 7776000 seconds of itime (manual well)\"\n",
      "[1] \"699-73-61 has wl within 7776000 seconds of itime (manual well)\"\n",
      "[1] \"699-74-44 has wl within 7776000 seconds of itime (manual well)\"\n",
      "[1] \"699-77-54 has wl within 7776000 seconds of itime (manual well)\"\n",
      "[1] \"699-8-17 has wl within 7776000 seconds of itime (manual well)\"\n",
      "[1] \"699-8-25 has wl within 7776000 seconds of itime (manual well)\"\n",
      "[1] \"699-8-32 has wl within 7776000 seconds of itime (manual well)\"\n",
      "[1] \"699-80-43S has wl within 7776000 seconds of itime (manual well)\"\n",
      "[1] \"699-81-38 has wl within 7776000 seconds of itime (manual well)\"\n",
      "[1] \"699-81-58 has wl within 7776000 seconds of itime (manual well)\"\n",
      "[1] \"699-83-47 has wl within 7776000 seconds of itime (manual well)\"\n",
      "[1] \"699-86-42 has wl within 7776000 seconds of itime (manual well)\"\n",
      "[1] \"699-87-42A has wl within 7776000 seconds of itime (manual well)\"\n",
      "[1] \"699-87-55 has wl within 7776000 seconds of itime (manual well)\"\n",
      "[1] \"699-88-41 has wl within 7776000 seconds of itime (manual well)\"\n",
      "[1] \"699-89-35 has wl within 7776000 seconds of itime (manual well)\"\n",
      "[1] \"699-9-E2 has wl within 7776000 seconds of itime (manual well)\"\n",
      "[1] \"699-90-45 has wl within 7776000 seconds of itime (manual well)\"\n",
      "[1] \"699-91-46A has wl within 7776000 seconds of itime (manual well)\"\n",
      "[1] \"699-93-48A has wl within 7776000 seconds of itime (manual well)\"\n",
      "[1] \"699-96-43 has wl within 7776000 seconds of itime (manual well)\"\n",
      "[1] \"699-96-49 has wl within 7776000 seconds of itime (manual well)\"\n",
      "[1] \"699-97-43 has wl within 7776000 seconds of itime (manual well)\"\n",
      "[1] \"699-97-51A has wl within 7776000 seconds of itime (manual well)\"\n",
      "[1] \"699-S12-29 has wl within 7776000 seconds of itime (manual well)\"\n",
      "[1] \"699-S12-3 has wl within 7776000 seconds of itime (manual well)\"\n",
      "[1] \"699-S14-20A has wl within 7776000 seconds of itime (manual well)\"\n",
      "[1] \"699-S18-E2A has wl within 7776000 seconds of itime (manual well)\"\n",
      "[1] \"699-S19-11 has wl within 7776000 seconds of itime (manual well)\"\n",
      "[1] \"699-S29-E12 has wl within 7776000 seconds of itime (manual well)\"\n",
      "[1] \"699-S3-25 has wl within 7776000 seconds of itime (manual well)\"\n",
      "[1] \"699-S3-E12 has wl within 7776000 seconds of itime (manual well)\"\n",
      "[1] \"699-S30-E10A has wl within 7776000 seconds of itime (manual well)\"\n",
      "[1] \"699-S30-E10B has wl within 7776000 seconds of itime (manual well)\"\n",
      "[1] \"699-S30-E15A has wl within 7776000 seconds of itime (manual well)\"\n",
      "[1] \"699-S31-1 has wl within 7776000 seconds of itime (manual well)\"\n",
      "[1] \"699-S31-E10B has wl within 7776000 seconds of itime (manual well)\"\n",
      "[1] \"699-S31-E10C has wl within 7776000 seconds of itime (manual well)\"\n",
      "[1] \"699-S31-E8A has wl within 7776000 seconds of itime (manual well)\"\n",
      "[1] \"699-S32-E13A has wl within 7776000 seconds of itime (manual well)\"\n",
      "[1] \"699-S32-E13B has wl within 7776000 seconds of itime (manual well)\"\n",
      "[1] \"699-S32-E8 has wl within 7776000 seconds of itime (manual well)\"\n",
      "[1] \"699-S34-E10 has wl within 7776000 seconds of itime (manual well)\"\n",
      "[1] \"699-S34-E15 has wl within 7776000 seconds of itime (manual well)\"\n",
      "[1] \"699-S36-E12B has wl within 7776000 seconds of itime (manual well)\"\n",
      "[1] \"699-S36-E13A has wl within 7776000 seconds of itime (manual well)\"\n",
      "[1] \"699-S37-E11A has wl within 7776000 seconds of itime (manual well)\"\n",
      "[1] \"699-S37-E14 has wl within 7776000 seconds of itime (manual well)\"\n",
      "[1] \"699-S38-E11 has wl within 7776000 seconds of itime (manual well)\"\n",
      "[1] \"699-S38-E12A has wl within 7776000 seconds of itime (manual well)\"\n",
      "[1] \"699-S38-E12B has wl within 7776000 seconds of itime (manual well)\"\n",
      "[1] \"699-S40-E14 has wl within 7776000 seconds of itime (manual well)\"\n",
      "[1] \"699-S41-E11A has wl within 7776000 seconds of itime (manual well)\"\n",
      "[1] \"699-S41-E12 has wl within 7776000 seconds of itime (manual well)\"\n",
      "[1] \"699-S41-E13A has wl within 7776000 seconds of itime (manual well)\"\n",
      "[1] \"699-S41-E13B has wl within 7776000 seconds of itime (manual well)\"\n",
      "[1] \"699-S41-E13C has wl within 7776000 seconds of itime (manual well)\"\n",
      "[1] \"699-S43-E12 has wl within 7776000 seconds of itime (manual well)\"\n",
      "[1] \"699-S6-E14A has wl within 7776000 seconds of itime (manual well)\"\n",
      "[1] \"699-S6-E4D has wl within 7776000 seconds of itime (manual well)\"\n",
      "[1] \"699-S7-34 has wl within 7776000 seconds of itime (manual well)\"\n",
      "[1] \"699-S8-19 has wl within 7776000 seconds of itime (manual well)\"\n",
      "[1] \"299-W27-2 has wl within 7776000 seconds of itime (manual well)\"\n",
      "[1] \"399-1-13A has wl within 7776000 seconds of itime (manual well)\"\n",
      "[1] \"399-1-14A has wl within 7776000 seconds of itime (manual well)\"\n",
      "[1] \"399-8-5B has wl within 7776000 seconds of itime (manual well)\"\n",
      "[1] \"399-8-5C has wl within 7776000 seconds of itime (manual well)\"\n",
      "[1] \"699-25-34D has wl within 7776000 seconds of itime (manual well)\"\n",
      "[1] \"699-26-34B has wl within 7776000 seconds of itime (manual well)\"\n",
      "[1] \"699-S22-E9A has wl within 7776000 seconds of itime (manual well)\"\n",
      "[1] \"699-S22-E9B has wl within 7776000 seconds of itime (manual well)\"\n",
      "[1] \"699-S27-E9A has wl within 7776000 seconds of itime (manual well)\"\n",
      "[1] \"699-S27-E9B has wl within 7776000 seconds of itime (manual well)\"\n",
      "[1] \"699-S27-E9C has wl within 7776000 seconds of itime (manual well)\"\n",
      "[1] \"699-S28-E12 has wl within 7776000 seconds of itime (manual well)\"\n",
      "[1] \"699-S29-E16A has wl within 7776000 seconds of itime (manual well)\"\n",
      "[1] \"699-S29-E16B has wl within 7776000 seconds of itime (manual well)\"\n",
      "[1] \"699-S29-E16C has wl within 7776000 seconds of itime (manual well)\"\n",
      "[1] \"299-E32-10 has wl within 7776000 seconds of itime (manual well)\"\n",
      "[1] \"299-E34-12 has wl within 7776000 seconds of itime (manual well)\"\n",
      "[1] \"299-W6-10 has wl within 7776000 seconds of itime (manual well)\"\n",
      "[1] \"299-W6-11 has wl within 7776000 seconds of itime (manual well)\"\n",
      "[1] \"299-W6-12 has wl within 7776000 seconds of itime (manual well)\"\n",
      "[1] \"299-W10-20 has wl within 7776000 seconds of itime (manual well)\"\n",
      "[1] \"299-W10-21 has wl within 7776000 seconds of itime (manual well)\"\n",
      "[1] \"199-N-81 has wl within 7776000 seconds of itime (manual well)\"\n",
      "[1] \"299-W26-7 has wl within 7776000 seconds of itime (manual well)\"\n",
      "[1] \"299-E25-44 has wl within 7776000 seconds of itime (manual well)\"\n",
      "[1] \"299-W18-33 has wl within 7776000 seconds of itime (manual well)\"\n",
      "[1] \"299-W11-3 has wl within 7776000 seconds of itime (manual well)\"\n",
      "[1] \"299-W14-5 has wl within 7776000 seconds of itime (manual well)\"\n",
      "[1] \"199-K-29 has wl within 7776000 seconds of itime (manual well)\"\n",
      "[1] \"199-H4-2 has wl within 7776000 seconds of itime (manual well)\"\n",
      "[1] \"199-N-8P has wl within 7776000 seconds of itime (manual well)\"\n",
      "[1] \"199-N-46 has wl within 7776000 seconds of itime (manual well)\"\n",
      "[1] \"299-E17-3 has wl within 7776000 seconds of itime (manual well)\"\n",
      "[1] \"299-E25-12 has wl within 7776000 seconds of itime (manual well)\"\n",
      "[1] \"299-E25-17 has wl within 7776000 seconds of itime (manual well)\"\n",
      "[1] \"299-E27-18 has wl within 7776000 seconds of itime (manual well)\"\n",
      "[1] \"299-E27-19 has wl within 7776000 seconds of itime (manual well)\"\n",
      "[1] \"299-E28-5 has wl within 7776000 seconds of itime (manual well)\"\n",
      "[1] \"299-E28-8 has wl within 7776000 seconds of itime (manual well)\"\n",
      "[1] \"299-E28-14 has wl within 7776000 seconds of itime (manual well)\"\n",
      "[1] \"299-E33-16 has wl within 7776000 seconds of itime (manual well)\"\n",
      "[1] \"299-W10-1 has wl within 7776000 seconds of itime (manual well)\"\n",
      "[1] \"299-W14-6 has wl within 7776000 seconds of itime (manual well)\"\n",
      "[1] \"299-W22-9 has wl within 7776000 seconds of itime (manual well)\"\n",
      "[1] \"299-W22-20 has wl within 7776000 seconds of itime (manual well)\"\n",
      "[1] \"299-W23-10 has wl within 7776000 seconds of itime (manual well)\"\n",
      "[1] \"399-1-10B has wl within 7776000 seconds of itime (manual well)\"\n",
      "[1] \"399-3-2 has wl within 7776000 seconds of itime (manual well)\"\n",
      "[1] \"399-3-11 has wl within 7776000 seconds of itime (manual well)\"\n",
      "[1] \"399-5-2 has wl within 7776000 seconds of itime (manual well)\"\n",
      "[1] \"399-5-4B has wl within 7776000 seconds of itime (manual well)\"\n",
      "[1] \"399-8-4 has wl within 7776000 seconds of itime (manual well)\"\n",
      "[1] \"699-1-18 has wl within 7776000 seconds of itime (manual well)\"\n",
      "[1] \"699-2-7 has wl within 7776000 seconds of itime (manual well)\"\n",
      "[1] \"699-2-E14 has wl within 7776000 seconds of itime (manual well)\"\n",
      "[1] \"699-12-4D has wl within 7776000 seconds of itime (manual well)\"\n",
      "[1] \"699-13-1A has wl within 7776000 seconds of itime (manual well)\"\n",
      "[1] \"699-13-1B has wl within 7776000 seconds of itime (manual well)\"\n",
      "[1] \"699-13-1C has wl within 7776000 seconds of itime (manual well)\"\n",
      "[1] \"699-13-64 has wl within 7776000 seconds of itime (manual well)\"\n",
      "[1] \"699-14-E6S has wl within 7776000 seconds of itime (manual well)\"\n",
      "[1] \"699-15-15B has wl within 7776000 seconds of itime (manual well)\"\n",
      "[1] \"699-15-E13 has wl within 7776000 seconds of itime (manual well)\"\n",
      "[1] \"699-17-47 has wl within 7776000 seconds of itime (manual well)\"\n",
      "[1] \"699-18-21 has wl within 7776000 seconds of itime (manual well)\"\n",
      "[1] \"699-20-E5A has wl within 7776000 seconds of itime (manual well)\"\n",
      "[1] \"699-20-E5T has wl within 7776000 seconds of itime (manual well)\"\n",
      "[1] \"699-21-6 has wl within 7776000 seconds of itime (manual well)\"\n",
      "[1] \"699-22-35 has wl within 7776000 seconds of itime (manual well)\"\n",
      "[1] \"699-23-34B has wl within 7776000 seconds of itime (manual well)\"\n",
      "[1] \"699-24-1P has wl within 7776000 seconds of itime (manual well)\"\n",
      "[1] \"699-24-1Q has wl within 7776000 seconds of itime (manual well)\"\n",
      "[1] \"699-24-1R has wl within 7776000 seconds of itime (manual well)\"\n",
      "[1] \"699-24-1S has wl within 7776000 seconds of itime (manual well)\"\n",
      "[1] \"699-24-46 has wl within 7776000 seconds of itime (manual well)\"\n",
      "[1] \"699-25-80 has wl within 7776000 seconds of itime (manual well)\"\n",
      "[1] \"699-26-15C has wl within 7776000 seconds of itime (manual well)\"\n",
      "[1] \"699-29-4 has wl within 7776000 seconds of itime (manual well)\"\n",
      "[1] \"699-31-11 has wl within 7776000 seconds of itime (manual well)\"\n",
      "[1] \"699-32-22B has wl within 7776000 seconds of itime (manual well)\"\n",
      "[1] \"699-35-27 has wl within 7776000 seconds of itime (manual well)\"\n",
      "[1] \"699-36-27 has wl within 7776000 seconds of itime (manual well)\"\n",
      "[1] \"699-38-15 has wl within 7776000 seconds of itime (manual well)\"\n",
      "[1] \"699-39-0 has wl within 7776000 seconds of itime (manual well)\"\n",
      "[1] \"699-40-12C has wl within 7776000 seconds of itime (manual well)\"\n",
      "[1] \"699-41-1A has wl within 7776000 seconds of itime (manual well)\"\n",
      "[1] \"699-41-11 has wl within 7776000 seconds of itime (manual well)\"\n",
      "[1] \"699-41-25 has wl within 7776000 seconds of itime (manual well)\"\n",
      "[1] \"699-42-2 has wl within 7776000 seconds of itime (manual well)\"\n",
      "[1] \"699-42-42A has wl within 7776000 seconds of itime (manual well)\"\n",
      "[1] \"699-42-E9B has wl within 7776000 seconds of itime (manual well)\"\n",
      "[1] \"699-43-9 has wl within 7776000 seconds of itime (manual well)\"\n",
      "[1] \"699-43-91A has wl within 7776000 seconds of itime (manual well)\"\n",
      "[1] \"699-44-16 has wl within 7776000 seconds of itime (manual well)\"\n",
      "[1] \"699-46-4 has wl within 7776000 seconds of itime (manual well)\"\n",
      "[1] \"699-46-31 has wl within 7776000 seconds of itime (manual well)\"\n",
      "[1] \"699-46-32 has wl within 7776000 seconds of itime (manual well)\"\n",
      "[1] \"699-48-18 has wl within 7776000 seconds of itime (manual well)\"\n",
      "[1] \"699-48-77A has wl within 7776000 seconds of itime (manual well)\"\n",
      "[1] \"699-48-77C has wl within 7776000 seconds of itime (manual well)\"\n",
      "[1] \"699-48-77D has wl within 7776000 seconds of itime (manual well)\"\n",
      "[1] \"699-48-96 has wl within 7776000 seconds of itime (manual well)\"\n",
      "[1] \"699-49-32B has wl within 7776000 seconds of itime (manual well)\"\n",
      "[1] \"699-51-19 has wl within 7776000 seconds of itime (manual well)\"\n",
      "[1] \"699-51-36A has wl within 7776000 seconds of itime (manual well)\"\n",
      "[1] \"699-51-36B has wl within 7776000 seconds of itime (manual well)\"\n",
      "[1] \"699-51-36C has wl within 7776000 seconds of itime (manual well)\"\n",
      "[1] \"699-51-36D has wl within 7776000 seconds of itime (manual well)\"\n",
      "[1] \"699-52-52 has wl within 7776000 seconds of itime (manual well)\"\n",
      "[1] \"699-53-103 has wl within 7776000 seconds of itime (manual well)\"\n",
      "[1] \"699-53-111 has wl within 7776000 seconds of itime (manual well)\"\n",
      "[1] \"699-53-114 has wl within 7776000 seconds of itime (manual well)\"\n",
      "[1] \"699-54-18B has wl within 7776000 seconds of itime (manual well)\"\n",
      "[1] \"699-54-45B has wl within 7776000 seconds of itime (manual well)\"\n",
      "[1] \"699-54-49 has wl within 7776000 seconds of itime (manual well)\"\n",
      "[1] \"699-55-60A has wl within 7776000 seconds of itime (manual well)\"\n",
      "[1] \"699-59-55 has wl within 7776000 seconds of itime (manual well)\"\n",
      "[1] \"699-61-55B has wl within 7776000 seconds of itime (manual well)\"\n",
      "[1] \"699-61-57 has wl within 7776000 seconds of itime (manual well)\"\n",
      "[1] \"699-62-43F has wl within 7776000 seconds of itime (manual well)\"\n",
      "[1] \"699-63-95 has wl within 7776000 seconds of itime (manual well)\"\n",
      "[1] \"699-69-45 has wl within 7776000 seconds of itime (manual well)\"\n",
      "[1] \"699-80-43P has wl within 7776000 seconds of itime (manual well)\"\n",
      "[1] \"699-S6-E4A has wl within 7776000 seconds of itime (manual well)\"\n",
      "[1] \"699-S6-E4B has wl within 7776000 seconds of itime (manual well)\"\n",
      "[1] \"699-S16-24 has wl within 7776000 seconds of itime (manual well)\"\n",
      "[1] \"699-S18-E2B has wl within 7776000 seconds of itime (manual well)\"\n",
      "[1] \"699-S28-E0 has wl within 7776000 seconds of itime (manual well)\"\n",
      "[1] \"699-S29-E11 has wl within 7776000 seconds of itime (manual well)\"\n",
      "[1] \"699-S30-E14 has wl within 7776000 seconds of itime (manual well)\"\n",
      "[1] \"699-S31-E10E has wl within 7776000 seconds of itime (manual well)\"\n",
      "[1] \"699-S31-E11 has wl within 7776000 seconds of itime (manual well)\"\n",
      "[1] \"699-S32-E11 has wl within 7776000 seconds of itime (manual well)\"\n",
      "[1] \"699-S36-E13B has wl within 7776000 seconds of itime (manual well)\"\n",
      "[1] \"699-S37-E12A has wl within 7776000 seconds of itime (manual well)\"\n",
      "[1] \"699-S40-E13A has wl within 7776000 seconds of itime (manual well)\"\n",
      "[1] \"1199-33-18B has wl within 7776000 seconds of itime (manual well)\"\n",
      "[1] \"1199-37-16 has wl within 7776000 seconds of itime (manual well)\"\n",
      "[1] \"1199-38-16 has wl within 7776000 seconds of itime (manual well)\"\n",
      "[1] \"1199-39-15 has wl within 7776000 seconds of itime (manual well)\"\n",
      "[1] \"1199-39-16A has wl within 7776000 seconds of itime (manual well)\"\n",
      "[1] \"1199-39-16C has wl within 7776000 seconds of itime (manual well)\"\n",
      "[1] \"1199-39-16D has wl within 7776000 seconds of itime (manual well)\"\n",
      "[1] \"1199-39-16E has wl within 7776000 seconds of itime (manual well)\"\n",
      "[1] \"1199-40-15 has wl within 7776000 seconds of itime (manual well)\"\n",
      "[1] \"1199-40-16B has wl within 7776000 seconds of itime (manual well)\"\n",
      "[1] \"1199-40-16C has wl within 7776000 seconds of itime (manual well)\"\n",
      "[1] \"1199-41-15 has wl within 7776000 seconds of itime (manual well)\"\n",
      "[1] \"3099-42-16 has wl within 7776000 seconds of itime (manual well)\"\n",
      "[1] \"699-2-33BP has wl within 7776000 seconds of itime (manual well)\"\n",
      "[1] \"699-2-33BQ has wl within 7776000 seconds of itime (manual well)\"\n",
      "[1] \"699-22-70P has wl within 7776000 seconds of itime (manual well)\"\n",
      "[1] \"699-39-84CP has wl within 7776000 seconds of itime (manual well)\"\n",
      "[1] \"699-39-84CR has wl within 7776000 seconds of itime (manual well)\"\n",
      "[1] \"699-50-42P has wl within 7776000 seconds of itime (manual well)\"\n",
      "[1] \"699-55-95P has wl within 7776000 seconds of itime (manual well)\"\n",
      "[1] \"699-55-95Q has wl within 7776000 seconds of itime (manual well)\"\n",
      "[1] \"199-H4-15CP has wl within 7776000 seconds of itime (manual well)\"\n",
      "[1] \"299-W19-34B has wl within 7776000 seconds of itime (manual well)\"\n",
      "[1] \"699-39-84CQ has wl within 7776000 seconds of itime (manual well)\"\n",
      "[1] \"699-39-84CS has wl within 7776000 seconds of itime (manual well)\"\n",
      "[1] \"699-39-84CT has wl within 7776000 seconds of itime (manual well)\"\n",
      "[1] \"699-39-84CU has wl within 7776000 seconds of itime (manual well)\"\n",
      "[1] \"699-32-72B has wl within 7776000 seconds of itime (manual well)\"\n",
      "[1] \"299-W22-24P has wl within 7776000 seconds of itime (manual well)\"\n",
      "[1] \"299-W22-24R has wl within 7776000 seconds of itime (manual well)\"\n",
      "[1] \"299-W22-24S has wl within 7776000 seconds of itime (manual well)\"\n",
      "[1] \"299-W22-24T has wl within 7776000 seconds of itime (manual well)\"\n",
      "[1] \"699-10-E12P has wl within 7776000 seconds of itime (manual well)\"\n",
      "[1] \"699-10-E12Q has wl within 7776000 seconds of itime (manual well)\"\n",
      "[1] \"699-14-38P has wl within 7776000 seconds of itime (manual well)\"\n",
      "[1] \"699-14-38Q has wl within 7776000 seconds of itime (manual well)\"\n",
      "[1] \"699-20-39P has wl within 7776000 seconds of itime (manual well)\"\n",
      "[1] \"699-20-E12O has wl within 7776000 seconds of itime (manual well)\"\n",
      "[1] \"699-20-E12P has wl within 7776000 seconds of itime (manual well)\"\n",
      "[1] \"699-20-E12Q has wl within 7776000 seconds of itime (manual well)\"\n",
      "[1] \"699-20-E12R has wl within 7776000 seconds of itime (manual well)\"\n",
      "[1] \"699-28-40P has wl within 7776000 seconds of itime (manual well)\"\n",
      "[1] \"699-28-40Q has wl within 7776000 seconds of itime (manual well)\"\n",
      "[1] \"699-31-31P has wl within 7776000 seconds of itime (manual well)\"\n",
      "[1] \"699-31-31Q has wl within 7776000 seconds of itime (manual well)\"\n",
      "[1] \"699-42-E9AO has wl within 7776000 seconds of itime (manual well)\"\n",
      "[1] \"699-48-48AP has wl within 7776000 seconds of itime (manual well)\"\n",
      "[1] \"699-48-48AQ has wl within 7776000 seconds of itime (manual well)\"\n",
      "[1] \"699-48-48AR has wl within 7776000 seconds of itime (manual well)\"\n",
      "[1] \"699-48-48AS has wl within 7776000 seconds of itime (manual well)\"\n",
      "[1] \"699-48-48AT has wl within 7776000 seconds of itime (manual well)\"\n",
      "[1] \"699-55-70P has wl within 7776000 seconds of itime (manual well)\"\n",
      "[1] \"699-67-51P has wl within 7776000 seconds of itime (manual well)\"\n",
      "[1] \"699-67-51Q has wl within 7776000 seconds of itime (manual well)\"\n",
      "[1] \"699-69-45P has wl within 7776000 seconds of itime (manual well)\"\n",
      "[1] \"699-69-45Q has wl within 7776000 seconds of itime (manual well)\"\n",
      "[1] \"699-69-45R has wl within 7776000 seconds of itime (manual well)\"\n",
      "[1] \"699-84-35AO has wl within 7776000 seconds of itime (manual well)\"\n",
      "[1] \"699-84-35AP has wl within 7776000 seconds of itime (manual well)\"\n",
      "[1] \"699-84-35AQ has wl within 7776000 seconds of itime (manual well)\"\n",
      "[1] \"699-84-35AR has wl within 7776000 seconds of itime (manual well)\"\n",
      "[1] \"699-84-35AS has wl within 7776000 seconds of itime (manual well)\"\n",
      "[1] \"699-96-49P has wl within 7776000 seconds of itime (manual well)\"\n",
      "[1] \"699-S11-E12AP has wl within 7776000 seconds of itime (manual well)\"\n",
      "[1] \"699-S12-29P has wl within 7776000 seconds of itime (manual well)\"\n",
      "[1] \"699-S12-29Q has wl within 7776000 seconds of itime (manual well)\"\n",
      "[1] \"699-S18-E2AP has wl within 7776000 seconds of itime (manual well)\"\n",
      "[1] \"699-S31-1P has wl within 7776000 seconds of itime (manual well)\"\n",
      "[1] \"699-S7-34P has wl within 7776000 seconds of itime (manual well)\"\n",
      "[1] \"699-S7-34Q has wl within 7776000 seconds of itime (manual well)\"\n",
      "[1] \"199-K-109A has wl within 7776000 seconds of itime (manual well)\"\n",
      "[1] \"199-K-110A has wl within 7776000 seconds of itime (manual well)\"\n",
      "[1] \"199-K-106A has wl within 7776000 seconds of itime (manual well)\"\n",
      "[1] \"199-N-96A has wl within 7776000 seconds of itime (manual well)\"\n",
      "[1] \"299-W10-22 has wl within 7776000 seconds of itime (manual well)\"\n",
      "[1] \"699-36-70A has wl within 7776000 seconds of itime (manual well)\"\n",
      "[1] \"699-S43-E7A has wl within 7776000 seconds of itime (manual well)\"\n",
      "[1] \"699-S42-E8A has wl within 7776000 seconds of itime (manual well)\"\n",
      "[1] \"699-S42-E8B has wl within 7776000 seconds of itime (manual well)\"\n",
      "[1] \"699-S28-E13A has wl within 7776000 seconds of itime (manual well)\"\n",
      "[1] \"699-S30-E11A has wl within 7776000 seconds of itime (manual well)\"\n",
      "[1] \"699-S29-E10A has wl within 7776000 seconds of itime (manual well)\"\n",
      "[1] \"699-43-91DP has wl within 7776000 seconds of itime (manual well)\"\n",
      "[1] \"299-W19-40 has wl within 7776000 seconds of itime (mvAwln well)\"\n",
      "[1] \"699-13-3A has wl within 7776000 seconds of itime (manual well)\"\n",
      "[1] \"699-37-68 has wl within 7776000 seconds of itime (manual well)\"\n",
      "[1] \"699-36-67 has wl within 7776000 seconds of itime (manual well)\"\n",
      "[1] \"699-S24-19P has wl within 7776000 seconds of itime (manual well)\"\n",
      "[1] \"699-S24-19Q has wl within 7776000 seconds of itime (manual well)\"\n",
      "[1] \"199-D4-1 has wl within 7776000 seconds of itime (manual well)\"\n",
      "[1] \"199-D4-4 has wl within 7776000 seconds of itime (manual well)\"\n",
      "[1] \"199-D4-5 has wl within 7776000 seconds of itime (manual well)\"\n",
      "[1] \"199-D4-6 has wl within 7776000 seconds of itime (manual well)\"\n",
      "[1] \"199-D4-7 has wl within 7776000 seconds of itime (manual well)\"\n",
      "[1] \"699-2-6A has wl within 7776000 seconds of itime (manual well)\"\n",
      "[1] \"699-S33-2A has wl within 7776000 seconds of itime (manual well)\"\n",
      "[1] \"699-S34-2A has wl within 7776000 seconds of itime (manual well)\"\n",
      "[1] \"699-S34-4A has wl within 7776000 seconds of itime (manual well)\"\n",
      "[1] \"SPC-P-1 has wl within 7776000 seconds of itime (manual well)\"\n",
      "[1] \"299-E17-21 has wl within 7776000 seconds of itime (manual well)\"\n",
      "[1] \"299-W10-23 has wl within 7776000 seconds of itime (manual well)\"\n",
      "[1] \"299-W14-13 has wl within 7776000 seconds of itime (manual well)\"\n",
      "[1] \"299-W19-41 has wl within 7776000 seconds of itime (manual well)\"\n",
      "[1] \"299-W22-79 has wl within 7776000 seconds of itime (manual well)\"\n",
      "[1] \"299-W19-42 has wl within 7776000 seconds of itime (manual well)\"\n",
      "[1] \"299-E33-44 has wl within 7776000 seconds of itime (manual well)\"\n",
      "[1] \"09N29E09C01 has wl within 7776000 seconds of itime (manual well)\"\n",
      "[1] \"10N29E26A01 has wl within 7776000 seconds of itime (manual well)\"\n",
      "[1] \"10N29E27C01 has wl within 7776000 seconds of itime (manual well)\"\n",
      "[1] \"10N29E28B01 has wl within 7776000 seconds of itime (manual well)\"\n",
      "[1] \"10N30E04E01 has wl within 7776000 seconds of itime (manual well)\"\n",
      "[1] \"10N30E08F01 has wl within 7776000 seconds of itime (manual well)\"\n",
      "[1] \"12N28E11J01 has wl within 7776000 seconds of itime (manual well)\"\n",
      "[1] \"12N29E03R01 has wl within 7776000 seconds of itime (manual well)\"\n",
      "[1] \"12N29E15D01 has wl within 7776000 seconds of itime (manual well)\"\n",
      "[1] \"13N29E36D01 has wl within 7776000 seconds of itime (manual well)\"\n",
      "[1] \"14N27E03PA has wl within 7776000 seconds of itime (manual well)\"\n",
      "[1] \"14N27E03PB has wl within 7776000 seconds of itime (manual well)\"\n",
      "[1] \"14N27E03PC has wl within 7776000 seconds of itime (manual well)\"\n",
      "[1] \"199-D5-40 has wl within 7776000 seconds of itime (manual well)\"\n",
      "[1] \"199-D5-41 has wl within 7776000 seconds of itime (manual well)\"\n",
      "[1] \"199-D5-44 has wl within 7776000 seconds of itime (manual well)\"\n",
      "[1] \"699-43-44 has wl within 7776000 seconds of itime (manual well)\"\n",
      "[1] \"199-D4-22 has wl within 7776000 seconds of itime (manual well)\"\n",
      "[1] \"299-E33-334 has wl within 7776000 seconds of itime (manual well)\"\n",
      "[1] \"299-E33-335 has wl within 7776000 seconds of itime (manual well)\"\n",
      "[1] \"299-W22-48 has wl within 7776000 seconds of itime (manual well)\"\n",
      "[1] \"299-W22-49 has wl within 7776000 seconds of itime (manual well)\"\n",
      "[1] \"299-W26-13 has wl within 7776000 seconds of itime (manual well)\"\n",
      "[1] \"299-W26-14 has wl within 7776000 seconds of itime (manual well)\"\n",
      "[1] \"199-D4-26 has wl within 7776000 seconds of itime (manual well)\"\n",
      "[1] \"199-D4-31 has wl within 7776000 seconds of itime (manual well)\"\n",
      "[1] \"199-D4-32 has wl within 7776000 seconds of itime (manual well)\"\n",
      "[1] \"199-D4-36 has wl within 7776000 seconds of itime (manual well)\"\n",
      "[1] \"199-D4-39 has wl within 7776000 seconds of itime (manual well)\"\n",
      "[1] \"199-D2-8 has wl within 7776000 seconds of itime (manual well)\"\n",
      "[1] \"299-W23-20 has wl within 7776000 seconds of itime (manual well)\"\n",
      "[1] \"299-W23-21 has wl within 7776000 seconds of itime (manual well)\"\n",
      "[1] \"299-W14-15 has wl within 7776000 seconds of itime (manual well)\"\n",
      "[1] \"299-W11-41 has wl within 7776000 seconds of itime (manual well)\"\n",
      "[1] \"299-W14-16 has wl within 7776000 seconds of itime (manual well)\"\n",
      "[1] \"299-W14-17 has wl within 7776000 seconds of itime (manual well)\"\n",
      "[1] \"299-W22-81 has wl within 7776000 seconds of itime (manual well)\"\n",
      "[1] \"299-W22-82 has wl within 7776000 seconds of itime (manual well)\"\n",
      "[1] \"299-W10-27 has wl within 7776000 seconds of itime (manual well)\"\n",
      "[1] \"299-E24-21 has wl within 7776000 seconds of itime (manual well)\"\n",
      "[1] \"699-12-2C has wl within 7776000 seconds of itime (manual well)\"\n",
      "[1] \"699-13-2D has wl within 7776000 seconds of itime (manual well)\"\n",
      "[1] \"699-13-0A has wl within 7776000 seconds of itime (manual well)\"\n",
      "[1] \"199-D4-48 has wl within 7776000 seconds of itime (manual well)\"\n",
      "[1] \"199-D4-62 has wl within 7776000 seconds of itime (manual well)\"\n",
      "[1] \"199-D4-78 has wl within 7776000 seconds of itime (manual well)\"\n",
      "[1] \"199-D4-83 has wl within 7776000 seconds of itime (manual well)\"\n",
      "[1] \"299-E33-337 has wl within 7776000 seconds of itime (manual well)\"\n",
      "[1] \"299-E33-338 has wl within 7776000 seconds of itime (manual well)\"\n",
      "[1] \"299-E33-339 has wl within 7776000 seconds of itime (manual well)\"\n",
      "[1] \"299-W19-44 has wl within 7776000 seconds of itime (manual well)\"\n",
      "[1] \"299-W19-45 has wl within 7776000 seconds of itime (manual well)\"\n",
      "[1] \"299-W18-40 has wl within 7776000 seconds of itime (manual well)\"\n",
      "[1] \"299-W14-18 has wl within 7776000 seconds of itime (manual well)\"\n",
      "[1] \"299-W10-28 has wl within 7776000 seconds of itime (manual well)\"\n",
      "[1] \"699-13-1E has wl within 7776000 seconds of itime (manual well)\"\n",
      "[1] \"299-E17-22 has wl within 7776000 seconds of itime (manual well)\"\n",
      "[1] \"299-E17-23 has wl within 7776000 seconds of itime (manual well)\"\n",
      "[1] \"299-E17-25 has wl within 7776000 seconds of itime (manual well)\"\n",
      "[1] \"299-W14-19 has wl within 7776000 seconds of itime (manual well)\"\n",
      "[1] \"699-S6-E4K has wl within 7776000 seconds of itime (manual well)\"\n",
      "[1] \"699-S6-E4L has wl within 7776000 seconds of itime (manual well)\"\n",
      "[1] \"299-E25-93 has wl within 7776000 seconds of itime (manual well)\"\n",
      "[1] \"299-E24-22 has wl within 7776000 seconds of itime (manual well)\"\n",
      "[1] \"299-E27-22 has wl within 7776000 seconds of itime (manual well)\"\n",
      "[1] \"299-E27-4 has wl within 7776000 seconds of itime (manual well)\"\n",
      "[1] \"299-E27-21 has wl within 7776000 seconds of itime (manual well)\"\n",
      "[1] \"699-96-45 has wl within 7776000 seconds of itime (manual well)\"\n",
      "[1] \"299-E27-23 has wl within 7776000 seconds of itime (manual well)\"\n",
      "[1] \"699-38-70B has wl within 7776000 seconds of itime (manual well)\"\n",
      "[1] \"299-W17-1 has wl within 7776000 seconds of itime (manual well)\"\n",
      "[1] \"699-38-70C has wl within 7776000 seconds of itime (manual well)\"\n",
      "[1] \"299-E24-33 has wl within 7776000 seconds of itime (manual well)\"\n",
      "[1] \"299-W19-47 has wl within 7776000 seconds of itime (manual well)\"\n",
      "[1] \"299-E33-47 has wl within 7776000 seconds of itime (manual well)\"\n",
      "[1] \"299-E33-48 has wl within 7776000 seconds of itime (manual well)\"\n",
      "[1] \"299-E33-49 has wl within 7776000 seconds of itime (manual well)\"\n",
      "[1] \"699-30-66 has wl within 7776000 seconds of itime (manual well)\"\n",
      "[1] \"699-36-70B has wl within 7776000 seconds of itime (manual well)\"\n",
      "[1] \"299-W15-50 has wl within 7776000 seconds of itime (manual well)\"\n",
      "[1] \"299-W18-16 has wl within 7776000 seconds of itime (manual well)\"\n",
      "[1] \"199-N-119 has wl within 7776000 seconds of itime (manual well)\"\n",
      "[1] \"199-N-120 has wl within 7776000 seconds of itime (manual well)\"\n",
      "[1] \"199-N-121 has wl within 7776000 seconds of itime (manual well)\"\n",
      "[1] \"199-D8-73 has wl within 7776000 seconds of itime (manual well)\"\n",
      "[1] \"299-W21-2 has wl within 7776000 seconds of itime (manual well)\"\n",
      "[1] \"299-E24-24 has wl within 7776000 seconds of itime (manual well)\"\n",
      "[1] \"299-E17-26 has wl within 7776000 seconds of itime (manual well)\"\n",
      "[1] \"299-E25-94 has wl within 7776000 seconds of itime (manual well)\"\n",
      "[1] \"299-W22-47 has wl within 7776000 seconds of itime (manual well)\"\n",
      "[1] \"299-W14-11 has wl within 7776000 seconds of itime (manual well)\"\n",
      "[1] \"199-K-132 has wl within 7776000 seconds of itime (manual well)\"\n",
      "[1] \"199-D5-93 has wl within 7776000 seconds of itime (manual well)\"\n",
      "[1] \"299-W15-83 has wl within 7776000 seconds of itime (manual well)\"\n",
      "[1] \"299-W15-94 has wl within 7776000 seconds of itime (manual well)\"\n",
      "[1] \"299-W15-152 has wl within 7776000 seconds of itime (manual well)\"\n",
      "[1] \"299-W19-49 has wl within 7776000 seconds of itime (manual well)\"\n",
      "[1] \"699-50-74 has wl within 7776000 seconds of itime (manual well)\"\n",
      "[1] \"699-S20-E10 has wl within 7776000 seconds of itime (manual well)\"\n",
      "[1] \"699-50-59 has wl within 7776000 seconds of itime (manual well)\"\n",
      "[1] \"299-W11-45 has wl within 7776000 seconds of itime (manual well)\"\n",
      "[1] \"299-W11-46 has wl within 7776000 seconds of itime (manual well)\"\n",
      "[1] \"199-N-122 has wl within 7776000 seconds of itime (manual well)\"\n",
      "[1] \"199-N-123 has wl within 7776000 seconds of itime (manual well)\"\n",
      "[1] \"299-W19-105 has wl within 7776000 seconds of itime (manual well)\"\n",
      "[1] \"299-W22-72 has wl within 7776000 seconds of itime (manual well)\"\n",
      "[1] \"299-W22-87 has wl within 7776000 seconds of itime (manual well)\"\n",
      "[1] \"299-W15-224 has wl within 7776000 seconds of itime (manual well)\"\n",
      "[1] \"299-W10-29 has wl within 7776000 seconds of itime (manual well)\"\n",
      "[1] \"299-W11-47 has wl within 7776000 seconds of itime (manual well)\"\n",
      "[1] \"199-K-138 has wl within 7776000 seconds of itime (manual well)\"\n",
      "[1] \"199-K-139 has wl within 7776000 seconds of itime (manual well)\"\n",
      "[1] \"199-K-140 has wl within 7776000 seconds of itime (manual well)\"\n",
      "[1] \"299-W10-31 has wl within 7776000 seconds of itime (manual well)\"\n",
      "[1] \"199-K-143 has wl within 7776000 seconds of itime (manual well)\"\n",
      "[1] \"6497 has wl within  7776000 seconds of itime (USGS well)\"\n",
      "[1] \"6498 has wl within  7776000 seconds of itime (USGS well)\"\n",
      "[1] \"6499 has wl within  7776000 seconds of itime (USGS well)\"\n",
      "[1] \"6500 has wl within  7776000 seconds of itime (USGS well)\"\n",
      "[1] \"6501 has wl within  7776000 seconds of itime (USGS well)\"\n",
      "[1] \"6502 has wl within  7776000 seconds of itime (USGS well)\"\n",
      "[1] \"6503 has wl within  7776000 seconds of itime (USGS well)\"\n",
      "[1] \"6505 has wl within  7776000 seconds of itime (USGS well)\"\n",
      "[1] \"6506 has wl within  7776000 seconds of itime (USGS well)\"\n",
      "[1] \"6507 has wl within  7776000 seconds of itime (USGS well)\"\n",
      "[1] \"6508 has wl within  7776000 seconds of itime (USGS well)\"\n",
      "[1] \"6510 has wl within  7776000 seconds of itime (USGS well)\"\n",
      "[1] \"6511 has wl within  7776000 seconds of itime (USGS well)\"\n",
      "[1] \"6512 has wl within  7776000 seconds of itime (USGS well)\"\n",
      "[1] \"6513 has wl within  7776000 seconds of itime (USGS well)\"\n",
      "[1] \"6514 has wl within  7776000 seconds of itime (USGS well)\"\n",
      "[1] \"6515 has wl within  7776000 seconds of itime (USGS well)\"\n",
      "[1] \"6516 has wl within  7776000 seconds of itime (USGS well)\"\n",
      "[1] \"6517 has wl within  7776000 seconds of itime (USGS well)\"\n",
      "[1] \"6518 has wl within  7776000 seconds of itime (USGS well)\"\n",
      "[1] \"6520 has wl within  7776000 seconds of itime (USGS well)\"\n",
      "[1] \"6521 has wl within  7776000 seconds of itime (USGS well)\"\n",
      "[1] \"6524 has wl within  7776000 seconds of itime (USGS well)\"\n",
      "[1] \"6525 has wl within  7776000 seconds of itime (USGS well)\"\n",
      "[1] \"6527 has wl within  7776000 seconds of itime (USGS well)\"\n",
      "[1] \"6528 has wl within  7776000 seconds of itime (USGS well)\"\n",
      "[1] \"6529 has wl within  7776000 seconds of itime (USGS well)\"\n",
      "[1] \"6530 has wl within  7776000 seconds of itime (USGS well)\"\n",
      "[1] \"6531 has wl within  7776000 seconds of itime (USGS well)\"\n",
      "[1] \"6534 has wl within  7776000 seconds of itime (USGS well)\"\n",
      "[1] \"6535 has wl within  7776000 seconds of itime (USGS well)\"\n",
      "[1] \"6536 has wl within  7776000 seconds of itime (USGS well)\"\n",
      "[1] \"6537 has wl within  7776000 seconds of itime (USGS well)\"\n",
      "[1] \"6538 has wl within  7776000 seconds of itime (USGS well)\"\n",
      "[1] \"6539 has wl within  7776000 seconds of itime (USGS well)\"\n",
      "[1] \"6540 has wl within  7776000 seconds of itime (USGS well)\"\n",
      "[1] \"6541 has wl within  7776000 seconds of itime (USGS well)\"\n",
      "[1] \"6543 has wl within  7776000 seconds of itime (USGS well)\"\n",
      "[1] \"6544 has wl within  7776000 seconds of itime (USGS well)\"\n",
      "[1] \"6545 has wl within  7776000 seconds of itime (USGS well)\"\n",
      "[1] \"6546 has wl within  7776000 seconds of itime (USGS well)\"\n",
      "[1] \"6547 has wl within  7776000 seconds of itime (USGS well)\"\n",
      "[1] \"6548 has wl within  7776000 seconds of itime (USGS well)\"\n",
      "[1] \"6549 has wl within  7776000 seconds of itime (USGS well)\"\n",
      "[1] \"6550 has wl within  7776000 seconds of itime (USGS well)\"\n",
      "[1] \"6552 has wl within  7776000 seconds of itime (USGS well)\"\n",
      "[1] \"6553 has wl within  7776000 seconds of itime (USGS well)\"\n",
      "[1] \"6554 has wl within  7776000 seconds of itime (USGS well)\"\n",
      "[1] \"6556 has wl within  7776000 seconds of itime (USGS well)\"\n",
      "[1] \"6557 has wl within  7776000 seconds of itime (USGS well)\"\n",
      "[1] \"6558 has wl within  7776000 seconds of itime (USGS well)\"\n",
      "[1] \"6559 has wl within  7776000 seconds of itime (USGS well)\"\n",
      "[1] \"6560 has wl within  7776000 seconds of itime (USGS well)\"\n",
      "[1] \"6565 has wl within  7776000 seconds of itime (USGS well)\"\n",
      "[1] \"6566 has wl within  7776000 seconds of itime (USGS well)\"\n",
      "[1] \"6567 has wl within  7776000 seconds of itime (USGS well)\"\n",
      "[1] \"6568 has wl within  7776000 seconds of itime (USGS well)\"\n",
      "[1] \"6569 has wl within  7776000 seconds of itime (USGS well)\"\n",
      "[1] \"6570 has wl within  7776000 seconds of itime (USGS well)\"\n",
      "[1] \"6571 has wl within  7776000 seconds of itime (USGS well)\"\n",
      "[1] \"6573 has wl within  7776000 seconds of itime (USGS well)\"\n",
      "[1] \"6574 has wl within  7776000 seconds of itime (USGS well)\"\n",
      "[1] \"6575 has wl within  7776000 seconds of itime (USGS well)\"\n",
      "[1] \"6576 has wl within  7776000 seconds of itime (USGS well)\"\n",
      "[1] \"6577 has wl within  7776000 seconds of itime (USGS well)\"\n",
      "[1] \"6579 has wl within  7776000 seconds of itime (USGS well)\"\n",
      "[1] \"6580 has wl within  7776000 seconds of itime (USGS well)\"\n",
      "[1] \"6581 has wl within  7776000 seconds of itime (USGS well)\"\n",
      "[1] \"6582 has wl within  7776000 seconds of itime (USGS well)\"\n",
      "[1] \"6583 has wl within  7776000 seconds of itime (USGS well)\"\n",
      "[1] \"6584 has wl within  7776000 seconds of itime (USGS well)\"\n",
      "[1] \"6585 has wl within  7776000 seconds of itime (USGS well)\"\n",
      "[1] \"6586 has wl within  7776000 seconds of itime (USGS well)\"\n",
      "[1] \"6587 has wl within  7776000 seconds of itime (USGS well)\"\n",
      "[1] \"6588 has wl within  7776000 seconds of itime (USGS well)\"\n",
      "[1] \"6589 has wl within  7776000 seconds of itime (USGS well)\"\n",
      "[1] \"6590 has wl within  7776000 seconds of itime (USGS well)\"\n",
      "[1] \"6591 has wl within  7776000 seconds of itime (USGS well)\"\n",
      "[1] \"6592 has wl within  7776000 seconds of itime (USGS well)\"\n",
      "[1] \"6593 has wl within  7776000 seconds of itime (USGS well)\"\n",
      "[1] \"6594 has wl within  7776000 seconds of itime (USGS well)\"\n",
      "[1] \"6595 has wl within  7776000 seconds of itime (USGS well)\"\n",
      "[1] \"6596 has wl within  7776000 seconds of itime (USGS well)\"\n",
      "[1] \"6597 has wl within  7776000 seconds of itime (USGS well)\"\n",
      "[1] \"6599 has wl within  7776000 seconds of itime (USGS well)\"\n",
      "[1] \"6600 has wl within  7776000 seconds of itime (USGS well)\"\n",
      "[1] \"6601 has wl within  7776000 seconds of itime (USGS well)\"\n",
      "[1] \"6603 has wl within  7776000 seconds of itime (USGS well)\"\n",
      "[1] \"6605 has wl within  7776000 seconds of itime (USGS well)\"\n",
      "[1] \"6606 has wl within  7776000 seconds of itime (USGS well)\"\n",
      "[1] \"6607 has wl within  7776000 seconds of itime (USGS well)\"\n",
      "[1] \"6609 has wl within  7776000 seconds of itime (USGS well)\"\n",
      "[1] \"6611 has wl within  7776000 seconds of itime (USGS well)\"\n",
      "[1] \"6612 has wl within  7776000 seconds of itime (USGS well)\"\n",
      "[1] \"6613 has wl within  7776000 seconds of itime (USGS well)\"\n",
      "[1] \"6614 has wl within  7776000 seconds of itime (USGS well)\"\n",
      "[1] \"6615 has wl within  7776000 seconds of itime (USGS well)\"\n",
      "[1] \"6620 has wl within  7776000 seconds of itime (USGS well)\"\n",
      "[1] \"6622 has wl within  7776000 seconds of itime (USGS well)\"\n",
      "[1] \"6623 has wl within  7776000 seconds of itime (USGS well)\"\n",
      "[1] \"6624 has wl within  7776000 seconds of itime (USGS well)\"\n",
      "[1] \"6626 has wl within  7776000 seconds of itime (USGS well)\"\n",
      "[1] \"6627 has wl within  7776000 seconds of itime (USGS well)\"\n",
      "[1] \"6628 has wl within  7776000 seconds of itime (USGS well)\"\n",
      "[1] \"6629 has wl within  7776000 seconds of itime (USGS well)\"\n",
      "[1] \"6630 has wl within  7776000 seconds of itime (USGS well)\"\n",
      "[1] \"6632 has wl within  7776000 seconds of itime (USGS well)\"\n",
      "[1] \"6633 has wl within  7776000 seconds of itime (USGS well)\"\n",
      "[1] \"6634 has wl within  7776000 seconds of itime (USGS well)\"\n",
      "[1] \"6635 has wl within  7776000 seconds of itime (USGS well)\"\n",
      "[1] \"6637 has wl within  7776000 seconds of itime (USGS well)\"\n",
      "[1] \"6638 has wl within  7776000 seconds of itime (USGS well)\"\n",
      "[1] \"6639 has wl within  7776000 seconds of itime (USGS well)\"\n",
      "[1] \"6640 has wl within  7776000 seconds of itime (USGS well)\"\n",
      "[1] \"6641 has wl within  7776000 seconds of itime (USGS well)\"\n",
      "[1] \"6642 has wl within  7776000 seconds of itime (USGS well)\"\n",
      "[1] \"6643 has wl within  7776000 seconds of itime (USGS well)\"\n",
      "[1] \"6644 has wl within  7776000 seconds of itime (USGS well)\"\n",
      "[1] \"6645 has wl within  7776000 seconds of itime (USGS well)\"\n",
      "[1] \"6646 has wl within  7776000 seconds of itime (USGS well)\"\n",
      "[1] \"6647 has wl within  7776000 seconds of itime (USGS well)\"\n",
      "[1] \"6648 has wl within  7776000 seconds of itime (USGS well)\"\n",
      "[1] \"6649 has wl within  7776000 seconds of itime (USGS well)\"\n",
      "[1] \"6650 has wl within  7776000 seconds of itime (USGS well)\"\n",
      "[1] \"6651 has wl within  7776000 seconds of itime (USGS well)\"\n",
      "[1] \"6654 has wl within  7776000 seconds of itime (USGS well)\"\n",
      "[1] \"6657 has wl within  7776000 seconds of itime (USGS well)\"\n",
      "[1] \"6658 has wl within  7776000 seconds of itime (USGS well)\"\n",
      "[1] \"6659 has wl within  7776000 seconds of itime (USGS well)\"\n",
      "[1] \"6660 has wl within  7776000 seconds of itime (USGS well)\"\n",
      "[1] \"6661 has wl within  7776000 seconds of itime (USGS well)\"\n",
      "[1] \"6664 has wl within  7776000 seconds of itime (USGS well)\"\n",
      "[1] \"6668 has wl within  7776000 seconds of itime (USGS well)\"\n",
      "[1] \"6669 has wl within  7776000 seconds of itime (USGS well)\"\n",
      "[1] \"6674 has wl within  7776000 seconds of itime (USGS well)\"\n",
      "[1] \"6675 has wl within  7776000 seconds of itime (USGS well)\"\n",
      "[1] \"6678 has wl within  7776000 seconds of itime (USGS well)\"\n",
      "[1] \"6679 has wl within  7776000 seconds of itime (USGS well)\"\n",
      "[1] \"6681 has wl within  7776000 seconds of itime (USGS well)\"\n",
      "[1] \"6682 has wl within  7776000 seconds of itime (USGS well)\"\n",
      "[1] \"6683 has wl within  7776000 seconds of itime (USGS well)\"\n",
      "[1] \"6688 has wl within  7776000 seconds of itime (USGS well)\"\n",
      "[1] \"6689 has wl within  7776000 seconds of itime (USGS well)\"\n",
      "[1] \"6690 has wl within  7776000 seconds of itime (USGS well)\"\n",
      "[1] \"6693 has wl within  7776000 seconds of itime (USGS well)\"\n",
      "[1] \"6696 has wl within  7776000 seconds of itime (USGS well)\"\n",
      "[1] \"6697 has wl within  7776000 seconds of itime (USGS well)\"\n",
      "[1] \"6698 has wl within  7776000 seconds of itime (USGS well)\"\n",
      "[1] \"6699 has wl within  7776000 seconds of itime (USGS well)\"\n",
      "[1] \"6700 has wl within  7776000 seconds of itime (USGS well)\"\n",
      "[1] \"6701 has wl within  7776000 seconds of itime (USGS well)\"\n",
      "[1] \"6702 has wl within  7776000 seconds of itime (USGS well)\"\n",
      "[1] \"6704 has wl within  7776000 seconds of itime (USGS well)\"\n",
      "[1] \"6705 has wl within  7776000 seconds of itime (USGS well)\"\n",
      "[1] \"6706 has wl within  7776000 seconds of itime (USGS well)\"\n",
      "[1] \"6707 has wl within  7776000 seconds of itime (USGS well)\"\n",
      "[1] \"6708 has wl within  7776000 seconds of itime (USGS well)\"\n",
      "[1] \"6709 has wl within  7776000 seconds of itime (USGS well)\"\n",
      "[1] \"6710 has wl within  7776000 seconds of itime (USGS well)\"\n",
      "[1] \"6711 has wl within  7776000 seconds of itime (USGS well)\"\n",
      "[1] \"6712 has wl within  7776000 seconds of itime (USGS well)\"\n",
      "[1] \"6713 has wl within  7776000 seconds of itime (USGS well)\"\n",
      "[1] \"6714 has wl within  7776000 seconds of itime (USGS well)\"\n",
      "[1] \"6715 has wl within  7776000 seconds of itime (USGS well)\"\n",
      "[1] \"6717 has wl within  7776000 seconds of itime (USGS well)\"\n",
      "[1] \"6718 has wl within  7776000 seconds of itime (USGS well)\"\n",
      "[1] \"6719 has wl within  7776000 seconds of itime (USGS well)\"\n",
      "[1] \"6720 has wl within  7776000 seconds of itime (USGS well)\"\n",
      "[1] \"6723 has wl within  7776000 seconds of itime (USGS well)\"\n",
      "[1] \"6724 has wl within  7776000 seconds of itime (USGS well)\"\n",
      "[1] \"6725 has wl within  7776000 seconds of itime (USGS well)\"\n",
      "[1] \"6726 has wl within  7776000 seconds of itime (USGS well)\"\n",
      "[1] \"6727 has wl within  7776000 seconds of itime (USGS well)\"\n",
      "[1] \"6728 has wl within  7776000 seconds of itime (USGS well)\"\n",
      "[1] \"6729 has wl within  7776000 seconds of itime (USGS well)\"\n",
      "[1] \"6730 has wl within  7776000 seconds of itime (USGS well)\"\n",
      "[1] \"6731 has wl within  7776000 seconds of itime (USGS well)\"\n",
      "[1] \"6732 has wl within  7776000 seconds of itime (USGS well)\"\n",
      "[1] \"6734 has wl within  7776000 seconds of itime (USGS well)\"\n",
      "[1] \"6735 has wl within  7776000 seconds of itime (USGS well)\"\n",
      "[1] \"6736 has wl within  7776000 seconds of itime (USGS well)\"\n",
      "[1] \"6737 has wl within  7776000 seconds of itime (USGS well)\"\n",
      "[1] \"6738 has wl within  7776000 seconds of itime (USGS well)\"\n",
      "[1] \"6740 has wl within  7776000 seconds of itime (USGS well)\"\n",
      "[1] \"6741 has wl within  7776000 seconds of itime (USGS well)\"\n",
      "[1] \"6742 has wl within  7776000 seconds of itime (USGS well)\"\n",
      "[1] \"6743 has wl within  7776000 seconds of itime (USGS well)\"\n",
      "[1] \"6745 has wl within  7776000 seconds of itime (USGS well)\"\n",
      "[1] \"6746 has wl within  7776000 seconds of itime (USGS well)\"\n",
      "[1] \"6747 has wl within  7776000 seconds of itime (USGS well)\"\n",
      "[1] \"6748 has wl within  7776000 seconds of itime (USGS well)\"\n",
      "[1] \"6749 has wl within  7776000 seconds of itime (USGS well)\"\n",
      "[1] \"6750 has wl within  7776000 seconds of itime (USGS well)\"\n",
      "[1] \"6751 has wl within  7776000 seconds of itime (USGS well)\"\n",
      "[1] \"6752 has wl within  7776000 seconds of itime (USGS well)\"\n",
      "[1] \"6753 has wl within  7776000 seconds of itime (USGS well)\"\n",
      "[1] \"6754 has wl within  7776000 seconds of itime (USGS well)\"\n",
      "[1] \"6755 has wl within  7776000 seconds of itime (USGS well)\"\n",
      "[1] \"6756 has wl within  7776000 seconds of itime (USGS well)\"\n",
      "[1] \"6757 has wl within  7776000 seconds of itime (USGS well)\"\n",
      "[1] \"6758 has wl within  7776000 seconds of itime (USGS well)\"\n",
      "[1] \"6760 has wl within  7776000 seconds of itime (USGS well)\"\n",
      "[1] \"6761 has wl within  7776000 seconds of itime (USGS well)\"\n",
      "[1] \"6762 has wl within  7776000 seconds of itime (USGS well)\"\n",
      "[1] \"6764 has wl within  7776000 seconds of itime (USGS well)\"\n",
      "[1] \"6766 has wl within  7776000 seconds of itime (USGS well)\"\n",
      "[1] \"6767 has wl within  7776000 seconds of itime (USGS well)\"\n",
      "[1] \"6768 has wl within  7776000 seconds of itime (USGS well)\"\n",
      "[1] \"6770 has wl within  7776000 seconds of itime (USGS well)\"\n",
      "[1] \"6771 has wl within  7776000 seconds of itime (USGS well)\"\n",
      "[1] \"6772 has wl within  7776000 seconds of itime (USGS well)\"\n",
      "[1] \"6774 has wl within  7776000 seconds of itime (USGS well)\"\n",
      "[1] \"6776 has wl within  7776000 seconds of itime (USGS well)\"\n",
      "[1] \"6781 has wl within  7776000 seconds of itime (USGS well)\"\n",
      "[1] \"6782 has wl within  7776000 seconds of itime (USGS well)\"\n",
      "[1] \"6783 has wl within  7776000 seconds of itime (USGS well)\"\n",
      "[1] \"6784 has wl within  7776000 seconds of itime (USGS well)\"\n",
      "[1] \"6787 has wl within  7776000 seconds of itime (USGS well)\"\n",
      "[1] \"6788 has wl within  7776000 seconds of itime (USGS well)\"\n",
      "[1] \"6789 has wl within  7776000 seconds of itime (USGS well)\"\n",
      "[1] \"6790 has wl within  7776000 seconds of itime (USGS well)\"\n",
      "[1] \"6791 has wl within  7776000 seconds of itime (USGS well)\"\n",
      "[1] \"6792 has wl within  7776000 seconds of itime (USGS well)\"\n",
      "[1] \"6795 has wl within  7776000 seconds of itime (USGS well)\"\n",
      "[1] \"6796 has wl within  7776000 seconds of itime (USGS well)\"\n",
      "[1] \"6797 has wl within  7776000 seconds of itime (USGS well)\"\n",
      "[1] \"6798 has wl within  7776000 seconds of itime (USGS well)\"\n",
      "[1] \"6801 has wl within  7776000 seconds of itime (USGS well)\"\n",
      "[1] \"6802 has wl within  7776000 seconds of itime (USGS well)\"\n",
      "[1] \"6803 has wl within  7776000 seconds of itime (USGS well)\"\n",
      "[1] \"6804 has wl within  7776000 seconds of itime (USGS well)\"\n",
      "[1] \"6810 has wl within  7776000 seconds of itime (USGS well)\"\n",
      "[1] \"6812 has wl within  7776000 seconds of itime (USGS well)\"\n",
      "[1] \"6813 has wl within  7776000 seconds of itime (USGS well)\"\n",
      "[1] \"6820 has wl within  7776000 seconds of itime (USGS well)\"\n",
      "[1] \"6823 has wl within  7776000 seconds of itime (USGS well)\"\n",
      "[1] \"6829 has wl within  7776000 seconds of itime (USGS well)\"\n",
      "[1] \"6831 has wl within  7776000 seconds of itime (USGS well)\"\n",
      "[1] \"6836 has wl within  7776000 seconds of itime (USGS well)\"\n",
      "[1] \"6838 has wl within  7776000 seconds of itime (USGS well)\"\n",
      "[1] \"6839 has wl within  7776000 seconds of itime (USGS well)\"\n",
      "[1] \"6845 has wl within  7776000 seconds of itime (USGS well)\"\n",
      "[1] \"6847 has wl within  7776000 seconds of itime (USGS well)\"\n",
      "[1] \"6848 has wl within  7776000 seconds of itime (USGS well)\"\n",
      "[1] \"6849 has wl within  7776000 seconds of itime (USGS well)\"\n",
      "[1] \"6850 has wl within  7776000 seconds of itime (USGS well)\"\n",
      "[1] \"6851 has wl within  7776000 seconds of itime (USGS well)\"\n",
      "[1] \"6852 has wl within  7776000 seconds of itime (USGS well)\"\n",
      "[1] \"6853 has wl within  7776000 seconds of itime (USGS well)\"\n",
      "[1] \"6854 has wl within  7776000 seconds of itime (USGS well)\"\n",
      "[1] \"6855 has wl within  7776000 seconds of itime (USGS well)\"\n",
      "[1] \"6856 has wl within  7776000 seconds of itime (USGS well)\"\n",
      "[1] \"6857 has wl within  7776000 seconds of itime (USGS well)\"\n",
      "[1] \"6858 has wl within  7776000 seconds of itime (USGS well)\"\n",
      "[1] \"6859 has wl within  7776000 seconds of itime (USGS well)\"\n",
      "[1] \"6860 has wl within  7776000 seconds of itime (USGS well)\"\n",
      "[1] \"6861 has wl within  7776000 seconds of itime (USGS well)\"\n",
      "[1] \"6862 has wl within  7776000 seconds of itime (USGS well)\"\n",
      "[1] \"6863 has wl within  7776000 seconds of itime (USGS well)\"\n",
      "[1] \"6864 has wl within  7776000 seconds of itime (USGS well)\"\n",
      "[1] \"6865 has wl within  7776000 seconds of itime (USGS well)\"\n",
      "[1] \"6866 has wl within  7776000 seconds of itime (USGS well)\"\n",
      "[1] \"6867 has wl within  7776000 seconds of itime (USGS well)\"\n",
      "[1] \"6868 has wl within  7776000 seconds of itime (USGS well)\"\n",
      "[1] \"6869 has wl within  7776000 seconds of itime (USGS well)\"\n",
      "[1] \"6870 has wl within  7776000 seconds of itime (USGS well)\"\n",
      "[1] \"6871 has wl within  7776000 seconds of itime (USGS well)\"\n",
      "[1] \"6872 has wl within  7776000 seconds of itime (USGS well)\"\n",
      "[1] \"6873 has wl within  7776000 seconds of itime (USGS well)\"\n",
      "[1] \"6874 has wl within  7776000 seconds of itime (USGS well)\"\n",
      "[1] \"6875 has wl within  7776000 seconds of itime (USGS well)\"\n",
      "[1] \"6876 has wl within  7776000 seconds of itime (USGS well)\"\n",
      "[1] \"6877 has wl within  7776000 seconds of itime (USGS well)\"\n",
      "[1] \"6878 has wl within  7776000 seconds of itime (USGS well)\"\n",
      "[1] \"6879 has wl within  7776000 seconds of itime (USGS well)\"\n",
      "[1] \"6880 has wl within  7776000 seconds of itime (USGS well)\"\n",
      "[1] \"6881 has wl within  7776000 seconds of itime (USGS well)\"\n",
      "[1] \"6882 has wl within  7776000 seconds of itime (USGS well)\"\n",
      "[1] \"6883 has wl within  7776000 seconds of itime (USGS well)\"\n",
      "[1] \"6884 has wl within  7776000 seconds of itime (USGS well)\"\n",
      "[1] \"6885 has wl within  7776000 seconds of itime (USGS well)\"\n",
      "[1] \"6886 has wl within  7776000 seconds of itime (USGS well)\"\n",
      "[1] \"6887 has wl within  7776000 seconds of itime (USGS well)\"\n",
      "[1] \"6888 has wl within  7776000 seconds of itime (USGS well)\"\n",
      "[1] \"6889 has wl within  7776000 seconds of itime (USGS well)\"\n",
      "[1] \"6890 has wl within  7776000 seconds of itime (USGS well)\"\n",
      "[1] \"6891 has wl within  7776000 seconds of itime (USGS well)\"\n",
      "[1] \"6893 has wl within  7776000 seconds of itime (USGS well)\"\n",
      "[1] \"6894 has wl within  7776000 seconds of itime (USGS well)\"\n",
      "[1] \"6895 has wl within  7776000 seconds of itime (USGS well)\"\n",
      "[1] \"6896 has wl within  7776000 seconds of itime (USGS well)\"\n",
      "[1] \"6897 has wl within  7776000 seconds of itime (USGS well)\"\n",
      "[1] \"6898 has wl within  7776000 seconds of itime (USGS well)\"\n",
      "[1] \"6899 has wl within  7776000 seconds of itime (USGS well)\"\n",
      "[1] \"6900 has wl within  7776000 seconds of itime (USGS well)\"\n",
      "[1] \"6901 has wl within  7776000 seconds of itime (USGS well)\"\n",
      "[1] \"6902 has wl within  7776000 seconds of itime (USGS well)\"\n",
      "[1] \"6903 has wl within  7776000 seconds of itime (USGS well)\"\n",
      "[1] \"6904 has wl within  7776000 seconds of itime (USGS well)\"\n",
      "[1] \"6905 has wl within  7776000 seconds of itime (USGS well)\"\n",
      "[1] \"6906 has wl within  7776000 seconds of itime (USGS well)\"\n",
      "[1] \"6907 has wl within  7776000 seconds of itime (USGS well)\"\n",
      "[1] \"6908 has wl within  7776000 seconds of itime (USGS well)\"\n",
      "[1] \"6909 has wl within  7776000 seconds of itime (USGS well)\"\n",
      "[1] \"6910 has wl within  7776000 seconds of itime (USGS well)\"\n",
      "[1] \"6911 has wl within  7776000 seconds of itime (USGS well)\"\n",
      "[1] \"6912 has wl within  7776000 seconds of itime (USGS well)\"\n",
      "[1] \"6913 has wl within  7776000 seconds of itime (USGS well)\"\n",
      "[1] \"6914 has wl within  7776000 seconds of itime (USGS well)\"\n",
      "[1] \"6915 has wl within  7776000 seconds of itime (USGS well)\"\n",
      "[1] \"6916 has wl within  7776000 seconds of itime (USGS well)\"\n",
      "[1] \"6917 has wl within  7776000 seconds of itime (USGS well)\"\n",
      "[1] \"6918 has wl within  7776000 seconds of itime (USGS well)\"\n",
      "[1] \"6919 has wl within  7776000 seconds of itime (USGS well)\"\n",
      "[1] \"6920 has wl within  7776000 seconds of itime (USGS well)\"\n",
      "[1] \"6921 has wl within  7776000 seconds of itime (USGS well)\"\n",
      "[1] \"6922 has wl within  7776000 seconds of itime (USGS well)\"\n",
      "[1] \"6923 has wl within  7776000 seconds of itime (USGS well)\"\n",
      "[1] \"6924 has wl within  7776000 seconds of itime (USGS well)\"\n",
      "[1] \"6925 has wl within  7776000 seconds of itime (USGS well)\"\n",
      "[1] \"6926 has wl within  7776000 seconds of itime (USGS well)\"\n",
      "[1] \"6927 has wl within  7776000 seconds of itime (USGS well)\"\n",
      "[1] \"6928 has wl within  7776000 seconds of itime (USGS well)\"\n",
      "[1] \"6929 has wl within  7776000 seconds of itime (USGS well)\"\n",
      "[1] \"6930 has wl within  7776000 seconds of itime (USGS well)\"\n",
      "[1] \"6931 has wl within  7776000 seconds of itime (USGS well)\"\n",
      "[1] \"6932 has wl within  7776000 seconds of itime (USGS well)\"\n",
      "[1] \"6933 has wl within  7776000 seconds of itime (USGS well)\"\n",
      "[1] \"6934 has wl within  7776000 seconds of itime (USGS well)\"\n",
      "[1] \"6935 has wl within  7776000 seconds of itime (USGS well)\"\n",
      "[1] \"6936 has wl within  7776000 seconds of itime (USGS well)\"\n",
      "[1] \"6937 has wl within  7776000 seconds of itime (USGS well)\"\n",
      "[1] \"6938 has wl within  7776000 seconds of itime (USGS well)\"\n",
      "[1] \"6939 has wl within  7776000 seconds of itime (USGS well)\"\n",
      "[1] \"6940 has wl within  7776000 seconds of itime (USGS well)\"\n",
      "[1] \"6941 has wl within  7776000 seconds of itime (USGS well)\"\n",
      "[1] \"6942 has wl within  7776000 seconds of itime (USGS well)\"\n",
      "[1] \"6943 has wl within  7776000 seconds of itime (USGS well)\"\n",
      "[1] \"6944 has wl within  7776000 seconds of itime (USGS well)\"\n",
      "[1] \"6945 has wl within  7776000 seconds of itime (USGS well)\"\n",
      "[1] \"6946 has wl within  7776000 seconds of itime (USGS well)\"\n",
      "[1] \"6947 has wl within  7776000 seconds of itime (USGS well)\"\n",
      "[1] \"6948 has wl within  7776000 seconds of itime (USGS well)\"\n",
      "[1] \"6949 has wl within  7776000 seconds of itime (USGS well)\"\n",
      "[1] \"6951 has wl within  7776000 seconds of itime (USGS well)\"\n",
      "[1] \"6952 has wl within  7776000 seconds of itime (USGS well)\"\n",
      "[1] \"6953 has wl within  7776000 seconds of itime (USGS well)\"\n",
      "[1] \"6954 has wl within  7776000 seconds of itime (USGS well)\"\n",
      "[1] \"6955 has wl within  7776000 seconds of itime (USGS well)\"\n",
      "[1] \"6956 has wl within  7776000 seconds of itime (USGS well)\"\n",
      "[1] \"6957 has wl within  7776000 seconds of itime (USGS well)\"\n",
      "[1] \"6958 has wl within  7776000 seconds of itime (USGS well)\"\n",
      "[1] \"6959 has wl within  7776000 seconds of itime (USGS well)\"\n",
      "[1] \"6960 has wl within  7776000 seconds of itime (USGS well)\"\n",
      "[1] \"6961 has wl within  7776000 seconds of itime (USGS well)\"\n",
      "[1] \"6962 has wl within  7776000 seconds of itime (USGS well)\"\n",
      "[1] \"6964 has wl within  7776000 seconds of itime (USGS well)\"\n",
      "[1] \"6965 has wl within  7776000 seconds of itime (USGS well)\"\n",
      "[1] \"6966 has wl within  7776000 seconds of itime (USGS well)\"\n",
      "[1] \"6967 has wl within  7776000 seconds of itime (USGS well)\"\n",
      "[1] \"6968 has wl within  7776000 seconds of itime (USGS well)\"\n",
      "[1] \"6970 has wl within  7776000 seconds of itime (USGS well)\"\n",
      "[1] \"6971 has wl within  7776000 seconds of itime (USGS well)\"\n",
      "[1] \"6972 has wl within  7776000 seconds of itime (USGS well)\"\n",
      "[1] \"6973 has wl within  7776000 seconds of itime (USGS well)\"\n",
      "[1] \"6975 has wl within  7776000 seconds of itime (USGS well)\"\n",
      "[1] \"6977 has wl within  7776000 seconds of itime (USGS well)\"\n",
      "[1] \"6978 has wl within  7776000 seconds of itime (USGS well)\"\n",
      "[1] \"6979 has wl within  7776000 seconds of itime (USGS well)\"\n",
      "[1] \"6980 has wl within  7776000 seconds of itime (USGS well)\"\n",
      "[1] \"6981 has wl within  7776000 seconds of itime (USGS well)\"\n",
      "[1] \"6982 has wl within  7776000 seconds of itime (USGS well)\"\n",
      "[1] \"6983 has wl within  7776000 seconds of itime (USGS well)\"\n",
      "[1] \"6984 has wl within  7776000 seconds of itime (USGS well)\"\n",
      "[1] \"6985 has wl within  7776000 seconds of itime (USGS well)\"\n",
      "[1] \"6986 has wl within  7776000 seconds of itime (USGS well)\"\n",
      "[1] \"6987 has wl within  7776000 seconds of itime (USGS well)\"\n",
      "[1] \"6988 has wl within  7776000 seconds of itime (USGS well)\"\n",
      "[1] \"6989 has wl within  7776000 seconds of itime (USGS well)\"\n",
      "[1] \"6990 has wl within  7776000 seconds of itime (USGS well)\"\n",
      "[1] \"6992 has wl within  7776000 seconds of itime (USGS well)\"\n",
      "[1] \"6994 has wl within  7776000 seconds of itime (USGS well)\"\n",
      "[1] \"6996 has wl within  7776000 seconds of itime (USGS well)\"\n",
      "[1] \"6997 has wl within  7776000 seconds of itime (USGS well)\"\n",
      "[1] \"6998 has wl within  7776000 seconds of itime (USGS well)\"\n",
      "[1] \"6999 has wl within  7776000 seconds of itime (USGS well)\"\n",
      "[1] \"7001 has wl within  7776000 seconds of itime (USGS well)\"\n",
      "[1] \"7004 has wl within  7776000 seconds of itime (USGS well)\"\n",
      "[1] \"7005 has wl within  7776000 seconds of itime (USGS well)\"\n",
      "[1] \"7006 has wl within  7776000 seconds of itime (USGS well)\"\n",
      "[1] \"7007 has wl within  7776000 seconds of itime (USGS well)\"\n",
      "[1] \"7008 has wl within  7776000 seconds of itime (USGS well)\"\n",
      "[1] \"7009 has wl within  7776000 seconds of itime (USGS well)\"\n",
      "[1] \"7010 has wl within  7776000 seconds of itime (USGS well)\"\n",
      "[1] \"7012 has wl within  7776000 seconds of itime (USGS well)\"\n",
      "[1] \"7013 has wl within  7776000 seconds of itime (USGS well)\"\n",
      "[1] \"7014 has wl within  7776000 seconds of itime (USGS well)\"\n",
      "[1] \"7015 has wl within  7776000 seconds of itime (USGS well)\"\n",
      "[1] \"7016 has wl within  7776000 seconds of itime (USGS well)\"\n",
      "[1] \"7017 has wl within  7776000 seconds of itime (USGS well)\"\n",
      "[1] \"7018 has wl within  7776000 seconds of itime (USGS well)\"\n",
      "[1] \"7019 has wl within  7776000 seconds of itime (USGS well)\"\n",
      "[1] \"7020 has wl within  7776000 seconds of itime (USGS well)\"\n",
      "[1] \"7021 has wl within  7776000 seconds of itime (USGS well)\"\n",
      "[1] \"7022 has wl within  7776000 seconds of itime (USGS well)\"\n",
      "[1] \"7023 has wl within  7776000 seconds of itime (USGS well)\"\n",
      "[1] \"7024 has wl within  7776000 seconds of itime (USGS well)\"\n",
      "[1] \"7025 has wl within  7776000 seconds of itime (USGS well)\"\n",
      "[1] \"7026 has wl within  7776000 seconds of itime (USGS well)\"\n",
      "[1] \"7027 has wl within  7776000 seconds of itime (USGS well)\"\n",
      "[1] \"7028 has wl within  7776000 seconds of itime (USGS well)\"\n",
      "[1] \"7029 has wl within  7776000 seconds of itime (USGS well)\"\n",
      "[1] \"7030 has wl within  7776000 seconds of itime (USGS well)\"\n",
      "[1] \"7032 has wl within  7776000 seconds of itime (USGS well)\"\n",
      "[1] \"7033 has wl within  7776000 seconds of itime (USGS well)\"\n",
      "[1] \"7034 has wl within  7776000 seconds of itime (USGS well)\"\n",
      "[1] \"7035 has wl within  7776000 seconds of itime (USGS well)\"\n",
      "[1] \"7036 has wl within  7776000 seconds of itime (USGS well)\"\n",
      "[1] \"7037 has wl within  7776000 seconds of itime (USGS well)\"\n",
      "[1] \"7038 has wl within  7776000 seconds of itime (USGS well)\"\n",
      "[1] \"7039 has wl within  7776000 seconds of itime (USGS well)\"\n",
      "[1] \"7040 has wl within  7776000 seconds of itime (USGS well)\"\n",
      "[1] \"7041 has wl within  7776000 seconds of itime (USGS well)\"\n",
      "[1] \"7042 has wl within  7776000 seconds of itime (USGS well)\"\n",
      "[1] \"7043 has wl within  7776000 seconds of itime (USGS well)\"\n",
      "[1] \"7044 has wl within  7776000 seconds of itime (USGS well)\"\n",
      "[1] \"7045 has wl within  7776000 seconds of itime (USGS well)\"\n",
      "[1] \"7046 has wl within  7776000 seconds of itime (USGS well)\"\n",
      "[1] \"7047 has wl within  7776000 seconds of itime (USGS well)\"\n",
      "[1] \"7048 has wl within  7776000 seconds of itime (USGS well)\"\n",
      "[1] \"7049 has wl within  7776000 seconds of itime (USGS well)\"\n",
      "[1] \"7051 has wl within  7776000 seconds of itime (USGS well)\"\n",
      "[1] \"7053 has wl within  7776000 seconds of itime (USGS well)\"\n",
      "[1] \"7055 has wl within  7776000 seconds of itime (USGS well)\"\n",
      "[1] \"7060 has wl within  7776000 seconds of itime (USGS well)\"\n",
      "[1] \"7061 has wl within  7776000 seconds of itime (USGS well)\"\n",
      "[1] \"7062 has wl within  7776000 seconds of itime (USGS well)\"\n",
      "[1] \"7063 has wl within  7776000 seconds of itime (USGS well)\"\n",
      "[1] \"7064 has wl within  7776000 seconds of itime (USGS well)\"\n",
      "[1] \"7065 has wl within  7776000 seconds of itime (USGS well)\"\n",
      "[1] \"7068 has wl within  7776000 seconds of itime (USGS well)\"\n",
      "[1] \"7069 has wl within  7776000 seconds of itime (USGS well)\"\n",
      "[1] \"7070 has wl within  7776000 seconds of itime (USGS well)\"\n",
      "[1] \"7072 has wl within  7776000 seconds of itime (USGS well)\"\n",
      "[1] \"7073 has wl within  7776000 seconds of itime (USGS well)\"\n",
      "[1] \"7074 has wl within  7776000 seconds of itime (USGS well)\"\n",
      "[1] \"7075 has wl within  7776000 seconds of itime (USGS well)\"\n",
      "[1] \"7076 has wl within  7776000 seconds of itime (USGS well)\"\n",
      "[1] \"7077 has wl within  7776000 seconds of itime (USGS well)\"\n",
      "[1] \"7079 has wl within  7776000 seconds of itime (USGS well)\"\n",
      "[1] \"7081 has wl within  7776000 seconds of itime (USGS well)\"\n",
      "[1] \"7082 has wl within  7776000 seconds of itime (USGS well)\"\n",
      "[1] \"7083 has wl within  7776000 seconds of itime (USGS well)\"\n",
      "[1] \"7084 has wl within  7776000 seconds of itime (USGS well)\"\n",
      "[1] \"7085 has wl within  7776000 seconds of itime (USGS well)\"\n",
      "[1] \"7086 has wl within  7776000 seconds of itime (USGS well)\"\n",
      "[1] \"7087 has wl within  7776000 seconds of itime (USGS well)\"\n",
      "[1] \"7088 has wl within  7776000 seconds of itime (USGS well)\"\n",
      "[1] \"7089 has wl within  7776000 seconds of itime (USGS well)\"\n",
      "[1] \"7090 has wl within  7776000 seconds of itime (USGS well)\"\n",
      "[1] \"7091 has wl within  7776000 seconds of itime (USGS well)\"\n",
      "[1] \"7092 has wl within  7776000 seconds of itime (USGS well)\"\n",
      "[1] \"7094 has wl within  7776000 seconds of itime (USGS well)\"\n",
      "[1] \"7095 has wl within  7776000 seconds of itime (USGS well)\"\n",
      "[1] \"7096 has wl within  7776000 seconds of itime (USGS well)\"\n",
      "[1] \"7097 has wl within  7776000 seconds of itime (USGS well)\"\n",
      "[1] \"7098 has wl within  7776000 seconds of itime (USGS well)\"\n",
      "[1] \"7099 has wl within  7776000 seconds of itime (USGS well)\"\n",
      "[1] \"7100 has wl within  7776000 seconds of itime (USGS well)\"\n",
      "[1] \"7101 has wl within  7776000 seconds of itime (USGS well)\"\n",
      "[1] \"7103 has wl within  7776000 seconds of itime (USGS well)\"\n",
      "[1] \"7104 has wl within  7776000 seconds of itime (USGS well)\"\n",
      "[1] \"7105 has wl within  7776000 seconds of itime (USGS well)\"\n",
      "[1] \"7106 has wl within  7776000 seconds of itime (USGS well)\"\n",
      "[1] \"7107 has wl within  7776000 seconds of itime (USGS well)\"\n",
      "[1] \"7108 has wl within  7776000 seconds of itime (USGS well)\"\n",
      "[1] \"7109 has wl within  7776000 seconds of itime (USGS well)\"\n",
      "[1] \"7112 has wl within  7776000 seconds of itime (USGS well)\"\n",
      "[1] \"7113 has wl within  7776000 seconds of itime (USGS well)\"\n",
      "[1] \"7114 has wl within  7776000 seconds of itime (USGS well)\"\n",
      "[1] \"7115 has wl within  7776000 seconds of itime (USGS well)\"\n",
      "[1] \"7116 has wl within  7776000 seconds of itime (USGS well)\"\n",
      "[1] \"7117 has wl within  7776000 seconds of itime (USGS well)\"\n",
      "[1] \"7118 has wl within  7776000 seconds of itime (USGS well)\"\n",
      "[1] \"7119 has wl within  7776000 seconds of itime (USGS well)\"\n",
      "[1] \"7120 has wl within  7776000 seconds of itime (USGS well)\"\n",
      "[1] \"7121 has wl within  7776000 seconds of itime (USGS well)\"\n",
      "[1] \"7122 has wl within  7776000 seconds of itime (USGS well)\"\n",
      "[1] \"7123 has wl within  7776000 seconds of itime (USGS well)\"\n",
      "[1] \"7124 has wl within  7776000 seconds of itime (USGS well)\"\n",
      "[1] \"7125 has wl within  7776000 seconds of itime (USGS well)\"\n",
      "[1] \"7126 has wl within  7776000 seconds of itime (USGS well)\"\n",
      "[1] \"7127 has wl within  7776000 seconds of itime (USGS well)\"\n",
      "[1] \"7129 has wl within  7776000 seconds of itime (USGS well)\"\n",
      "[1] \"7130 has wl within  7776000 seconds of itime (USGS well)\"\n",
      "[1] \"7131 has wl within  7776000 seconds of itime (USGS well)\"\n",
      "[1] \"7132 has wl within  7776000 seconds of itime (USGS well)\"\n",
      "[1] \"7133 has wl within  7776000 seconds of itime (USGS well)\"\n",
      "[1] \"7134 has wl within  7776000 seconds of itime (USGS well)\"\n",
      "[1] \"7135 has wl within  7776000 seconds of itime (USGS well)\"\n",
      "[1] \"7136 has wl within  7776000 seconds of itime (USGS well)\"\n",
      "[1] \"7138 has wl within  7776000 seconds of itime (USGS well)\"\n",
      "[1] \"7139 has wl within  7776000 seconds of itime (USGS well)\"\n",
      "[1] \"7140 has wl within  7776000 seconds of itime (USGS well)\"\n",
      "[1] \"7141 has wl within  7776000 seconds of itime (USGS well)\"\n",
      "[1] \"7142 has wl within  7776000 seconds of itime (USGS well)\"\n",
      "[1] \"7143 has wl within  7776000 seconds of itime (USGS well)\"\n",
      "[1] \"7144 has wl within  7776000 seconds of itime (USGS well)\"\n",
      "[1] \"7145 has wl within  7776000 seconds of itime (USGS well)\"\n",
      "[1] \"7146 has wl within  7776000 seconds of itime (USGS well)\"\n",
      "[1] \"7147 has wl within  7776000 seconds of itime (USGS well)\"\n",
      "[1] \"7150 has wl within  7776000 seconds of itime (USGS well)\"\n",
      "[1] \"7151 has wl within  7776000 seconds of itime (USGS well)\"\n",
      "[1] \"7152 has wl within  7776000 seconds of itime (USGS well)\"\n",
      "[1] \"7153 has wl within  7776000 seconds of itime (USGS well)\"\n",
      "[1] \"7154 has wl within  7776000 seconds of itime (USGS well)\"\n",
      "[1] \"7155 has wl within  7776000 seconds of itime (USGS well)\"\n",
      "[1] \"7158 has wl within  7776000 seconds of itime (USGS well)\"\n",
      "[1] \"7160 has wl within  7776000 seconds of itime (USGS well)\"\n",
      "[1] \"7162 has wl within  7776000 seconds of itime (USGS well)\"\n",
      "[1] \"7163 has wl within  7776000 seconds of itime (USGS well)\"\n",
      "[1] \"7164 has wl within  7776000 seconds of itime (USGS well)\"\n",
      "[1] \"7165 has wl within  7776000 seconds of itime (USGS well)\"\n",
      "[1] \"7166 has wl within  7776000 seconds of itime (USGS well)\"\n",
      "[1] \"7167 has wl within  7776000 seconds of itime (USGS well)\"\n",
      "[1] \"7168 has wl within  7776000 seconds of itime (USGS well)\"\n",
      "[1] \"7169 has wl within  7776000 seconds of itime (USGS well)\"\n",
      "[1] \"7170 has wl within  7776000 seconds of itime (USGS well)\"\n",
      "[1] \"7171 has wl within  7776000 seconds of itime (USGS well)\"\n",
      "[1] \"7172 has wl within  7776000 seconds of itime (USGS well)\"\n",
      "[1] \"7173 has wl within  7776000 seconds of itime (USGS well)\"\n",
      "[1] \"7174 has wl within  7776000 seconds of itime (USGS well)\"\n",
      "[1] \"7175 has wl within  7776000 seconds of itime (USGS well)\"\n",
      "[1] \"7176 has wl within  7776000 seconds of itime (USGS well)\"\n",
      "[1] \"7177 has wl within  7776000 seconds of itime (USGS well)\"\n",
      "[1] \"7178 has wl within  7776000 seconds of itime (USGS well)\"\n",
      "[1] \"7179 has wl within  7776000 seconds of itime (USGS well)\"\n",
      "[1] \"7181 has wl within  7776000 seconds of itime (USGS well)\"\n",
      "[1] \"7182 has wl within  7776000 seconds of itime (USGS well)\"\n",
      "[1] \"7184 has wl within  7776000 seconds of itime (USGS well)\"\n",
      "[1] \"7185 has wl within  7776000 seconds of itime (USGS well)\"\n",
      "[1] \"7186 has wl within  7776000 seconds of itime (USGS well)\"\n",
      "[1] \"7187 has wl within  7776000 seconds of itime (USGS well)\"\n",
      "[1] \"7188 has wl within  7776000 seconds of itime (USGS well)\"\n",
      "[1] \"7189 has wl within  7776000 seconds of itime (USGS well)\"\n",
      "[1] \"7191 has wl within  7776000 seconds of itime (USGS well)\"\n",
      "[1] \"7192 has wl within  7776000 seconds of itime (USGS well)\"\n",
      "[1] \"7193 has wl within  7776000 seconds of itime (USGS well)\"\n",
      "[1] \"7194 has wl within  7776000 seconds of itime (USGS well)\"\n",
      "[1] \"7195 has wl within  7776000 seconds of itime (USGS well)\"\n",
      "[1] \"7196 has wl within  7776000 seconds of itime (USGS well)\"\n",
      "[1] \"7197 has wl within  7776000 seconds of itime (USGS well)\"\n",
      "[1] \"7198 has wl within  7776000 seconds of itime (USGS well)\"\n",
      "[1] \"7199 has wl within  7776000 seconds of itime (USGS well)\"\n",
      "[1] \"7200 has wl within  7776000 seconds of itime (USGS well)\"\n",
      "[1] \"7201 has wl within  7776000 seconds of itime (USGS well)\"\n",
      "[1] \"7202 has wl within  7776000 seconds of itime (USGS well)\"\n",
      "[1] \"7203 has wl within  7776000 seconds of itime (USGS well)\"\n",
      "[1] \"7204 has wl within  7776000 seconds of itime (USGS well)\"\n",
      "[1] \"7205 has wl within  7776000 seconds of itime (USGS well)\"\n",
      "[1] \"7206 has wl within  7776000 seconds of itime (USGS well)\"\n",
      "[1] \"7207 has wl within  7776000 seconds of itime (USGS well)\"\n",
      "[1] \"7208 has wl within  7776000 seconds of itime (USGS well)\"\n",
      "[1] \"7210 has wl within  7776000 seconds of itime (USGS well)\"\n",
      "[1] \"7211 has wl within  7776000 seconds of itime (USGS well)\"\n",
      "[1] \"7212 has wl within  7776000 seconds of itime (USGS well)\"\n",
      "[1] \"7213 has wl within  7776000 seconds of itime (USGS well)\"\n",
      "[1] \"7214 has wl within  7776000 seconds of itime (USGS well)\"\n",
      "[1] \"7215 has wl within  7776000 seconds of itime (USGS well)\"\n",
      "[1] \"7216 has wl within  7776000 seconds of itime (USGS well)\"\n",
      "[1] \"7217 has wl within  7776000 seconds of itime (USGS well)\"\n",
      "[1] \"7218 has wl within  7776000 seconds of itime (USGS well)\"\n",
      "[1] \"7219 has wl within  7776000 seconds of itime (USGS well)\"\n",
      "[1] \"7220 has wl within  7776000 seconds of itime (USGS well)\"\n",
      "[1] \"7221 has wl within  7776000 seconds of itime (USGS well)\"\n",
      "[1] \"7222 has wl within  7776000 seconds of itime (USGS well)\"\n",
      "[1] \"7223 has wl within  7776000 seconds of itime (USGS well)\"\n",
      "[1] \"7225 has wl within  7776000 seconds of itime (USGS well)\"\n",
      "[1] \"7226 has wl within  7776000 seconds of itime (USGS well)\"\n",
      "[1] \"7227 has wl within  7776000 seconds of itime (USGS well)\"\n",
      "[1] \"7228 has wl within  7776000 seconds of itime (USGS well)\"\n",
      "[1] \"7229 has wl within  7776000 seconds of itime (USGS well)\"\n",
      "[1] \"7230 has wl within  7776000 seconds of itime (USGS well)\"\n",
      "[1] \"7231 has wl within  7776000 seconds of itime (USGS well)\"\n",
      "[1] \"7232 has wl within  7776000 seconds of itime (USGS well)\"\n",
      "[1] \"7233 has wl within  7776000 seconds of itime (USGS well)\"\n",
      "[1] \"7236 has wl within  7776000 seconds of itime (USGS well)\"\n",
      "[1] \"7237 has wl within  7776000 seconds of itime (USGS well)\"\n",
      "[1] \"7239 has wl within  7776000 seconds of itime (USGS well)\"\n",
      "[1] \"7240 has wl within  7776000 seconds of itime (USGS well)\"\n",
      "[1] \"7242 has wl within  7776000 seconds of itime (USGS well)\"\n",
      "[1] \"7243 has wl within  7776000 seconds of itime (USGS well)\"\n",
      "[1] \"7246 has wl within  7776000 seconds of itime (USGS well)\"\n",
      "[1] \"7247 has wl within  7776000 seconds of itime (USGS well)\"\n",
      "[1] \"7256 has wl within  7776000 seconds of itime (USGS well)\"\n",
      "[1] \"7257 has wl within  7776000 seconds of itime (USGS well)\"\n",
      "[1] \"7261 has wl within  7776000 seconds of itime (USGS well)\"\n",
      "[1] \"7262 has wl within  7776000 seconds of itime (USGS well)\"\n",
      "[1] \"7263 has wl within  7776000 seconds of itime (USGS well)\"\n",
      "[1] \"7264 has wl within  7776000 seconds of itime (USGS well)\"\n",
      "[1] \"7266 has wl within  7776000 seconds of itime (USGS well)\"\n",
      "[1] \"7269 has wl within  7776000 seconds of itime (USGS well)\"\n",
      "[1] \"7270 has wl within  7776000 seconds of itime (USGS well)\"\n",
      "[1] \"7273 has wl within  7776000 seconds of itime (USGS well)\"\n",
      "[1] \"7274 has wl within  7776000 seconds of itime (USGS well)\"\n",
      "[1] \"no well data availabe for  7294\"\n",
      "[1] \"7296 has wl within  7776000 seconds of itime (USGS well)\"\n",
      "[1] \"no well data availabe for  7360\"\n",
      "[1] \"7362 has wl within  7776000 seconds of itime (USGS well)\"\n",
      "[1] \"7365 has wl within  7776000 seconds of itime (USGS well)\"\n",
      "[1] \"7453 has wl within  7776000 seconds of itime (USGS well)\"\n",
      "[1] \"7454 has wl within  7776000 seconds of itime (USGS well)\"\n",
      "[1] \"7529 has wl within  7776000 seconds of itime (USGS well)\"\n",
      "[1] \"7530 has wl within  7776000 seconds of itime (USGS well)\"\n",
      "[1] \"7533 has wl within  7776000 seconds of itime (USGS well)\"\n",
      "[1] \"7541 has wl within  7776000 seconds of itime (USGS well)\"\n",
      "[1] \"7751 has wl within  7776000 seconds of itime (USGS well)\"\n",
      "[1] \"7752 has wl within  7776000 seconds of itime (USGS well)\"\n",
      "[1] \"no well data availabe for  7868\"\n",
      "[1] \"no well data availabe for  7871\"\n",
      "[1] \"7878 has wl within  7776000 seconds of itime (USGS well)\"\n",
      "[1] \"no well data availabe for  7880\"\n",
      "[1] \"7881 has wl within  7776000 seconds of itime (USGS well)\"\n",
      "[1] \"no well data availabe for  7883\"\n",
      "[1] \"no well data availabe for  7993\"\n",
      "[1] \"no well data availabe for  8019\"\n",
      "[1] \"no well data availabe for  8021\"\n",
      "[1] \"no well data availabe for  8023\"\n",
      "[1] \"8101 has wl within  7776000 seconds of itime (USGS well)\"\n",
      "[1] \"8111 has wl within  7776000 seconds of itime (USGS well)\"\n",
      "[1] \"8113 has wl within  7776000 seconds of itime (USGS well)\"\n",
      "[1] \"8119 has wl within  7776000 seconds of itime (USGS well)\"\n",
      "[1] \"8288 has wl within  7776000 seconds of itime (USGS well)\"\n",
      "[1] \"8292 has wl within  7776000 seconds of itime (USGS well)\"\n",
      "[1] \"8294 has wl within  7776000 seconds of itime (USGS well)\"\n",
      "[1] \"8296 has wl within  7776000 seconds of itime (USGS well)\"\n",
      "[1] \"8297 has wl within  7776000 seconds of itime (USGS well)\"\n",
      "[1] \"8299 has wl within  7776000 seconds of itime (USGS well)\"\n",
      "[1] \"no well data availabe for  8303\"\n",
      "[1] \"8306 has wl within  7776000 seconds of itime (USGS well)\"\n",
      "[1] \"8307 has wl within  7776000 seconds of itime (USGS well)\"\n",
      "[1] \"8309 has wl within  7776000 seconds of itime (USGS well)\"\n",
      "[1] \"no well data availabe for  8316\"\n",
      "[1] \"no well data availabe for  8318\"\n",
      "[1] \"no well data availabe for  8319\"\n",
      "[1] \"no well data availabe for  8322\"\n",
      "[1] \"no well data availabe for  8323\"\n",
      "[1] \"8341 has wl within  7776000 seconds of itime (USGS well)\"\n",
      "[1] \"no well data availabe for  8342\"\n",
      "[1] \"8344 has wl within  7776000 seconds of itime (USGS well)\"\n",
      "[1] \"8345 has wl within  7776000 seconds of itime (USGS well)\"\n",
      "[1] \"8346 has wl within  7776000 seconds of itime (USGS well)\"\n",
      "[1] \"8347 has wl within  7776000 seconds of itime (USGS well)\"\n",
      "[1] \"8350 has wl within  7776000 seconds of itime (USGS well)\"\n",
      "[1] \"8351 has wl within  7776000 seconds of itime (USGS well)\"\n",
      "[1] \"8355 has wl within  7776000 seconds of itime (USGS well)\"\n",
      "[1] \"no well data availabe for  8358\"\n",
      "[1] \"no well data availabe for  8360\"\n",
      "[1] \"8367 has wl within  7776000 seconds of itime (USGS well)\"\n",
      "[1] \"8368 has wl within  7776000 seconds of itime (USGS well)\"\n",
      "[1] \"no well data availabe for  8369\"\n",
      "[1] \"no well data availabe for  8372\"\n",
      "[1] \"no well data availabe for  8374\"\n",
      "[1] \"no well data availabe for  8376\"\n",
      "[1] \"no well data availabe for  8377\"\n",
      "[1] \"no well data availabe for  8378\"\n",
      "[1] \"no well data availabe for  8379\"\n",
      "[1] \"no well data availabe for  8384\"\n",
      "[1] \"8387 has wl within  7776000 seconds of itime (USGS well)\"\n",
      "[1] \"8388 has wl within  7776000 seconds of itime (USGS well)\"\n",
      "[1] \"8390 has wl within  7776000 seconds of itime (USGS well)\"\n",
      "[1] \"8393 has wl within  7776000 seconds of itime (USGS well)\"\n",
      "[1] \"no well data availabe for  8396\"\n",
      "[1] \"8397 has wl within  7776000 seconds of itime (USGS well)\"\n",
      "[1] \"8398 has wl within  7776000 seconds of itime (USGS well)\"\n",
      "[1] \"8399 has wl within  7776000 seconds of itime (USGS well)\"\n",
      "[1] \"8400 has wl within  7776000 seconds of itime (USGS well)\"\n",
      "[1] \"8401 has wl within  7776000 seconds of itime (USGS well)\"\n",
      "[1] \"8402 has wl within  7776000 seconds of itime (USGS well)\"\n",
      "[1] \"8406 has wl within  7776000 seconds of itime (USGS well)\"\n",
      "[1] \"8408 has wl within  7776000 seconds of itime (USGS well)\"\n",
      "[1] \"no well data availabe for  8409\"\n",
      "[1] \"no well data availabe for  8420\"\n",
      "[1] \"no well data availabe for  8422\"\n",
      "[1] \"8425 has wl within  7776000 seconds of itime (USGS well)\"\n",
      "[1] \"no well data availabe for  8431\"\n",
      "[1] \"8436 has wl within  7776000 seconds of itime (USGS well)\"\n",
      "[1] \"no well data availabe for  8442\"\n",
      "[1] \"8443 has wl within  7776000 seconds of itime (USGS well)\"\n",
      "[1] \"no well data availabe for  8445\"\n",
      "[1] \"no well data availabe for  8446\"\n",
      "[1] \"no well data availabe for  8453\"\n",
      "[1] \"no well data availabe for  8458\"\n",
      "[1] \"8459 has wl within  7776000 seconds of itime (USGS well)\"\n",
      "[1] \"8466 has wl within  7776000 seconds of itime (USGS well)\"\n",
      "[1] \"8482 has wl within  7776000 seconds of itime (USGS well)\"\n",
      "[1] \"no well data availabe for  8483\"\n",
      "[1] \"8486 has wl within  7776000 seconds of itime (USGS well)\"\n",
      "[1] \"no well data availabe for  8488\"\n",
      "[1] \"no well data availabe for  8493\"\n",
      "[1] \"8494 has wl within  7776000 seconds of itime (USGS well)\"\n",
      "[1] \"no well data availabe for  8500\"\n",
      "[1] \"8502 has wl within  7776000 seconds of itime (USGS well)\"\n",
      "[1] \"no well data availabe for  8503\"\n",
      "[1] \"8505 has wl within  7776000 seconds of itime (USGS well)\"\n",
      "[1] \"8507 has wl within  7776000 seconds of itime (USGS well)\"\n",
      "[1] \"8510 has wl within  7776000 seconds of itime (USGS well)\"\n",
      "[1] \"no well data availabe for  8511\"\n",
      "[1] \"no well data availabe for  8512\"\n",
      "[1] \"no well data availabe for  8515\"\n",
      "[1] \"8516 has wl within  7776000 seconds of itime (USGS well)\"\n",
      "[1] \"no well data availabe for  8517\"\n",
      "[1] \"8518 has wl within  7776000 seconds of itime (USGS well)\"\n",
      "[1] \"no well data availabe for  8519\"\n",
      "[1] \"8521 has wl within  7776000 seconds of itime (USGS well)\"\n",
      "[1] \"no well data availabe for  8524\"\n",
      "[1] \"no well data availabe for  8525\"\n",
      "[1] \"8528 has wl within  7776000 seconds of itime (USGS well)\"\n",
      "[1] \"8531 has wl within  7776000 seconds of itime (USGS well)\"\n",
      "[1] \"no well data availabe for  8539\"\n",
      "[1] \"8541 has wl within  7776000 seconds of itime (USGS well)\"\n",
      "[1] \"no well data availabe for  8545\"\n",
      "[1] \"no well data availabe for  8546\"\n",
      "[1] \"no well data availabe for  8547\"\n",
      "[1] \"8549 has wl within  7776000 seconds of itime (USGS well)\"\n",
      "[1] \"8550 has wl within  7776000 seconds of itime (USGS well)\"\n",
      "[1] \"no well data availabe for  8554\"\n",
      "[1] \"no well data availabe for  8561\"\n",
      "[1] \"8562 has wl within  7776000 seconds of itime (USGS well)\"\n",
      "[1] \"8566 has wl within  7776000 seconds of itime (USGS well)\"\n",
      "[1] \"8567 has wl within  7776000 seconds of itime (USGS well)\"\n",
      "[1] \"8568 has wl within  7776000 seconds of itime (USGS well)\"\n",
      "[1] \"8569 has wl within  7776000 seconds of itime (USGS well)\"\n",
      "[1] \"8574 has wl within  7776000 seconds of itime (USGS well)\"\n",
      "[1] \"8580 has wl within  7776000 seconds of itime (USGS well)\"\n",
      "[1] \"8581 has wl within  7776000 seconds of itime (USGS well)\"\n",
      "[1] \"8582 has wl within  7776000 seconds of itime (USGS well)\"\n",
      "[1] \"8583 has wl within  7776000 seconds of itime (USGS well)\"\n",
      "[1] \"8584 has wl within  7776000 seconds of itime (USGS well)\"\n",
      "[1] \"no well data availabe for  8585\"\n",
      "[1] \"no well data availabe for  8586\"\n",
      "[1] \"8592 has wl within  7776000 seconds of itime (USGS well)\"\n",
      "[1] \"8597 has wl within  7776000 seconds of itime (USGS well)\"\n",
      "[1] \"8598 has wl within  7776000 seconds of itime (USGS well)\"\n",
      "[1] \"8599 has wl within  7776000 seconds of itime (USGS well)\"\n",
      "[1] \"no well data availabe for  8600\"\n",
      "[1] \"8602 has wl within  7776000 seconds of itime (USGS well)\"\n",
      "[1] \"no well data availabe for  8603\"\n",
      "[1] \"8605 has wl within  7776000 seconds of itime (USGS well)\"\n",
      "[1] \"8606 has wl within  7776000 seconds of itime (USGS well)\"\n",
      "[1] \"8607 has wl within  7776000 seconds of itime (USGS well)\"\n",
      "[1] \"no well data availabe for  8608\"\n",
      "[1] \"no well data availabe for  8610\"\n",
      "[1] \"no well data availabe for  8611\"\n",
      "[1] \"no well data availabe for  8632\"\n",
      "[1] \"8633 has wl within  7776000 seconds of itime (USGS well)\"\n",
      "[1] \"no well data availabe for  8634\"\n",
      "[1] \"8635 has wl within  7776000 seconds of itime (USGS well)\"\n",
      "[1] \"8636 has wl within  7776000 seconds of itime (USGS well)\"\n",
      "[1] \"8637 has wl within  7776000 seconds of itime (USGS well)\"\n",
      "[1] \"8638 has wl within  7776000 seconds of itime (USGS well)\"\n",
      "[1] \"8639 has wl within  7776000 seconds of itime (USGS well)\"\n",
      "[1] \"8643 has wl within  7776000 seconds of itime (USGS well)\"\n",
      "[1] \"8648 has wl within  7776000 seconds of itime (USGS well)\"\n",
      "[1] \"no well data availabe for  8660\"\n",
      "[1] \"8680 has wl within  7776000 seconds of itime (USGS well)\"\n",
      "[1] \"8681 has wl within  7776000 seconds of itime (USGS well)\"\n",
      "[1] \"no well data availabe for  8684\"\n",
      "[1] \"no well data availabe for  8685\"\n",
      "[1] \"no well data availabe for  8686\"\n",
      "[1] \"no well data availabe for  8687\"\n",
      "[1] \"8690 has wl within  7776000 seconds of itime (USGS well)\"\n",
      "[1] \"no well data availabe for  8691\"\n",
      "[1] \"no well data availabe for  8692\"\n",
      "[1] \"8693 has wl within  7776000 seconds of itime (USGS well)\"\n",
      "[1] \"8699 has wl within  7776000 seconds of itime (USGS well)\"\n",
      "[1] \"8703 has wl within  7776000 seconds of itime (USGS well)\"\n",
      "[1] \"8704 has wl within  7776000 seconds of itime (USGS well)\"\n",
      "[1] \"8705 has wl within  7776000 seconds of itime (USGS well)\"\n",
      "[1] \"8707 has wl within  7776000 seconds of itime (USGS well)\"\n",
      "[1] \"8708 has wl within  7776000 seconds of itime (USGS well)\"\n",
      "[1] \"8709 has wl within  7776000 seconds of itime (USGS well)\"\n",
      "[1] \"8711 has wl within  7776000 seconds of itime (USGS well)\"\n",
      "[1] \"8712 has wl within  7776000 seconds of itime (USGS well)\"\n",
      "[1] \"8714 has wl within  7776000 seconds of itime (USGS well)\"\n",
      "[1] \"8789 has wl within  7776000 seconds of itime (USGS well)\"\n",
      "[1] \"8802 has wl within  7776000 seconds of itime (USGS well)\"\n",
      "[1] \"8805 has wl within  7776000 seconds of itime (USGS well)\"\n",
      "[1] \"8808 has wl within  7776000 seconds of itime (USGS well)\"\n",
      "[1] \"8809 has wl within  7776000 seconds of itime (USGS well)\"\n",
      "[1] \"8811 has wl within  7776000 seconds of itime (USGS well)\"\n",
      "[1] \"8812 has wl within  7776000 seconds of itime (USGS well)\"\n",
      "[1] \"8813 has wl within  7776000 seconds of itime (USGS well)\"\n",
      "[1] \"8815 has wl within  7776000 seconds of itime (USGS well)\"\n",
      "[1] \"8816 has wl within  7776000 seconds of itime (USGS well)\"\n",
      "[1] \"8817 has wl within  7776000 seconds of itime (USGS well)\"\n",
      "[1] \"8820 has wl within  7776000 seconds of itime (USGS well)\"\n",
      "[1] \"8825 has wl within  7776000 seconds of itime (USGS well)\"\n",
      "[1] \"8834 has wl within  7776000 seconds of itime (USGS well)\"\n",
      "[1] \"8835 has wl within  7776000 seconds of itime (USGS well)\"\n",
      "[1] \"8836 has wl within  7776000 seconds of itime (USGS well)\"\n",
      "[1] \"8838 has wl within  7776000 seconds of itime (USGS well)\"\n",
      "[1] \"8839 has wl within  7776000 seconds of itime (USGS well)\"\n",
      "[1] \"8840 has wl within  7776000 seconds of itime (USGS well)\"\n",
      "[1] \"8841 has wl within  7776000 seconds of itime (USGS well)\"\n",
      "[1] \"8842 has wl within  7776000 seconds of itime (USGS well)\"\n",
      "[1] \"8844 has wl within  7776000 seconds of itime (USGS well)\"\n",
      "[1] \"8845 has wl within  7776000 seconds of itime (USGS well)\"\n",
      "[1] \"8846 has wl within  7776000 seconds of itime (USGS well)\"\n",
      "[1] \"8848 has wl within  7776000 seconds of itime (USGS well)\"\n",
      "[1] \"8849 has wl within  7776000 seconds of itime (USGS well)\"\n",
      "[1] \"8850 has wl within  7776000 seconds of itime (USGS well)\"\n",
      "[1] \"8851 has wl within  7776000 seconds of itime (USGS well)\"\n",
      "[1] \"8852 has wl within  7776000 seconds of itime (USGS well)\"\n",
      "[1] \"8853 has wl within  7776000 seconds of itime (USGS well)\"\n",
      "[1] \"8855 has wl within  7776000 seconds of itime (USGS well)\"\n",
      "[1] \"8857 has wl within  7776000 seconds of itime (USGS well)\"\n",
      "[1] \"8858 has wl within  7776000 seconds of itime (USGS well)\"\n",
      "[1] \"8859 has wl within  7776000 seconds of itime (USGS well)\"\n",
      "[1] \"8860 has wl within  7776000 seconds of itime (USGS well)\"\n",
      "[1] \"8861 has wl within  7776000 seconds of itime (USGS well)\"\n",
      "[1] \"8862 has wl within  7776000 seconds of itime (USGS well)\"\n",
      "[1] \"8863 has wl within  7776000 seconds of itime (USGS well)\"\n",
      "[1] \"8868 has wl within  7776000 seconds of itime (USGS well)\"\n",
      "[1] \"8869 has wl within  7776000 seconds of itime (USGS well)\"\n",
      "[1] \"8870 has wl within  7776000 seconds of itime (USGS well)\"\n",
      "[1] \"8871 has wl within  7776000 seconds of itime (USGS well)\"\n",
      "[1] \"8872 has wl within  7776000 seconds of itime (USGS well)\"\n",
      "[1] \"8874 has wl within  7776000 seconds of itime (USGS well)\"\n",
      "[1] \"8875 has wl within  7776000 seconds of itime (USGS well)\"\n",
      "[1] \"8876 has wl within  7776000 seconds of itime (USGS well)\"\n",
      "[1] \"8877 has wl within  7776000 seconds of itime (USGS well)\"\n",
      "[1] \"8881 has wl within  7776000 seconds of itime (USGS well)\"\n",
      "[1] \"8883 has wl within  7776000 seconds of itime (USGS well)\"\n",
      "[1] \"8884 has wl within  7776000 seconds of itime (USGS well)\"\n",
      "[1] \"8885 has wl within  7776000 seconds of itime (USGS well)\"\n",
      "[1] \"8886 has wl within  7776000 seconds of itime (USGS well)\"\n",
      "[1] \"8887 has wl within  7776000 seconds of itime (USGS well)\"\n",
      "[1] \"8890 has wl within  7776000 seconds of itime (USGS well)\"\n",
      "[1] \"8892 has wl within  7776000 seconds of itime (USGS well)\"\n",
      "[1] \"8893 has wl within  7776000 seconds of itime (USGS well)\"\n",
      "[1] \"8894 has wl within  7776000 seconds of itime (USGS well)\"\n",
      "[1] \"8895 has wl within  7776000 seconds of itime (USGS well)\"\n",
      "[1] \"8896 has wl within  7776000 seconds of itime (USGS well)\"\n",
      "[1] \"8897 has wl within  7776000 seconds of itime (USGS well)\"\n",
      "[1] \"8898 has wl within  7776000 seconds of itime (USGS well)\"\n",
      "[1] \"8899 has wl within  7776000 seconds of itime (USGS well)\"\n",
      "[1] \"8900 has wl within  7776000 seconds of itime (USGS well)\"\n",
      "[1] \"8901 has wl within  7776000 seconds of itime (USGS well)\"\n",
      "[1] \"8902 has wl within  7776000 seconds of itime (USGS well)\"\n",
      "[1] \"8903 has wl within  7776000 seconds of itime (USGS well)\"\n",
      "[1] \"8904 has wl within  7776000 seconds of itime (USGS well)\"\n",
      "[1] \"8905 has wl within  7776000 seconds of itime (USGS well)\"\n",
      "[1] \"8906 has wl within  7776000 seconds of itime (USGS well)\"\n",
      "[1] \"8907 has wl within  7776000 seconds of itime (USGS well)\"\n",
      "[1] \"8908 has wl within  7776000 seconds of itime (USGS well)\"\n",
      "[1] \"no well data availabe for  8909\"\n",
      "[1] \"no well data availabe for  8915\"\n",
      "[1] \"no well data availabe for  8916\"\n",
      "[1] \"8917 has wl within  7776000 seconds of itime (USGS well)\"\n",
      "[1] \"8918 has wl within  7776000 seconds of itime (USGS well)\"\n",
      "[1] \"8924 has wl within  7776000 seconds of itime (USGS well)\"\n",
      "[1] \"8925 has wl within  7776000 seconds of itime (USGS well)\"\n",
      "[1] \"8926 has wl within  7776000 seconds of itime (USGS well)\"\n",
      "[1] \"8931 has wl within  7776000 seconds of itime (USGS well)\"\n",
      "[1] \"8932 has wl within  7776000 seconds of itime (USGS well)\"\n",
      "[1] \"8939 has wl within  7776000 seconds of itime (USGS well)\"\n",
      "[1] \"8945 has wl within  7776000 seconds of itime (USGS well)\"\n",
      "[1] \"8946 has wl within  7776000 seconds of itime (USGS well)\"\n",
      "[1] \"8973 has wl within  7776000 seconds of itime (USGS well)\"\n",
      "[1] \"8974 has wl within  7776000 seconds of itime (USGS well)\"\n",
      "[1] \"8975 has wl within  7776000 seconds of itime (USGS well)\"\n",
      "[1] \"no well data availabe for  8976\"\n",
      "[1] \"no well data availabe for  8977\"\n",
      "[1] \"no well data availabe for  8979\"\n",
      "[1] \"8983 has wl within  7776000 seconds of itime (USGS well)\"\n",
      "[1] \"8984 has wl within  7776000 seconds of itime (USGS well)\"\n",
      "[1] \"8985 has wl within  7776000 seconds of itime (USGS well)\"\n",
      "[1] \"8986 has wl within  7776000 seconds of itime (USGS well)\"\n",
      "[1] \"8987 has wl within  7776000 seconds of itime (USGS well)\"\n",
      "[1] \"8988 has wl within  7776000 seconds of itime (USGS well)\"\n",
      "[1] \"8996 has wl within  7776000 seconds of itime (USGS well)\"\n",
      "[1] \"no well data availabe for  8997\"\n",
      "[1] \"9000 has wl within  7776000 seconds of itime (USGS well)\"\n",
      "[1] \"9001 has wl within  7776000 seconds of itime (USGS well)\"\n",
      "[1] \"9025 has wl within  7776000 seconds of itime (USGS well)\"\n",
      "[1] \"no well data availabe for  9102\"\n",
      "[1] \"no well data availabe for  9105\"\n",
      "[1] \"9107 has wl within  7776000 seconds of itime (USGS well)\"\n",
      "[1] \"9108 has wl within  7776000 seconds of itime (USGS well)\"\n",
      "[1] \"9116 has wl within  7776000 seconds of itime (USGS well)\"\n",
      "[1] \"9117 has wl within  7776000 seconds of itime (USGS well)\"\n",
      "[1] \"9118 has wl within  7776000 seconds of itime (USGS well)\"\n",
      "[1] \"9121 has wl within  7776000 seconds of itime (USGS well)\"\n",
      "[1] \"9122 has wl within  7776000 seconds of itime (USGS well)\"\n",
      "[1] \"9123 has wl within  7776000 seconds of itime (USGS well)\"\n",
      "[1] \"9124 has wl within  7776000 seconds of itime (USGS well)\"\n",
      "[1] \"9125 has wl within  7776000 seconds of itime (USGS well)\"\n",
      "[1] \"9130 has wl within  7776000 seconds of itime (USGS well)\"\n",
      "[1] \"9132 has wl within  7776000 seconds of itime (USGS well)\"\n",
      "[1] \"9135 has wl within  7776000 seconds of itime (USGS well)\"\n",
      "[1] \"9136 has wl within  7776000 seconds of itime (USGS well)\"\n",
      "[1] \"9143 has wl within  7776000 seconds of itime (USGS well)\"\n",
      "[1] \"no well data availabe for  9152\"\n",
      "[1] \"no well data availabe for  9153\"\n",
      "[1] \"9162 has wl within  7776000 seconds of itime (USGS well)\"\n",
      "[1] \"9170 has wl within  7776000 seconds of itime (USGS well)\"\n",
      "[1] \"9171 has wl within  7776000 seconds of itime (USGS well)\"\n",
      "[1] \"9172 has wl within  7776000 seconds of itime (USGS well)\"\n",
      "[1] \"9173 has wl within  7776000 seconds of itime (USGS well)\"\n",
      "[1] \"9179 has wl within  7776000 seconds of itime (USGS well)\"\n",
      "[1] \"9180 has wl within  7776000 seconds of itime (USGS well)\"\n",
      "[1] \"9181 has wl within  7776000 seconds of itime (USGS well)\"\n",
      "[1] \"9182 has wl within  7776000 seconds of itime (USGS well)\"\n",
      "[1] \"9183 has wl within  7776000 seconds of itime (USGS well)\"\n",
      "[1] \"9186 has wl within  7776000 seconds of itime (USGS well)\"\n",
      "[1] \"9187 has wl within  7776000 seconds of itime (USGS well)\"\n",
      "[1] \"9189 has wl within  7776000 seconds of itime (USGS well)\"\n",
      "[1] \"9190 has wl within  7776000 seconds of itime (USGS well)\"\n",
      "[1] \"9378 has wl within  7776000 seconds of itime (USGS well)\"\n",
      "[1] \"9402 has wl within  7776000 seconds of itime (USGS well)\"\n",
      "[1] \"9403 has wl within  7776000 seconds of itime (USGS well)\"\n",
      "[1] \"9404 has wl within  7776000 seconds of itime (USGS well)\"\n",
      "[1] \"9405 has wl within  7776000 seconds of itime (USGS well)\"\n",
      "[1] \"9406 has wl within  7776000 seconds of itime (USGS well)\"\n",
      "[1] \"9408 has wl within  7776000 seconds of itime (USGS well)\"\n",
      "[1] \"9409 has wl within  7776000 seconds of itime (USGS well)\"\n",
      "[1] \"9410 has wl within  7776000 seconds of itime (USGS well)\"\n",
      "[1] \"9411 has wl within  7776000 seconds of itime (USGS well)\"\n",
      "[1] \"no well data availabe for  9412\"\n",
      "[1] \"9416 has wl within  7776000 seconds of itime (USGS well)\"\n",
      "[1] \"9432 has wl within  7776000 seconds of itime (USGS well)\"\n",
      "[1] \"9433 has wl within  7776000 seconds of itime (USGS well)\"\n",
      "[1] \"9434 has wl within  7776000 seconds of itime (USGS well)\"\n",
      "[1] \"9437 has wl within  7776000 seconds of itime (USGS well)\"\n",
      "[1] \"9440 has wl within  7776000 seconds of itime (USGS well)\"\n",
      "[1] \"9454 has wl within  7776000 seconds of itime (USGS well)\"\n",
      "[1] \"9457 has wl within  7776000 seconds of itime (USGS well)\"\n",
      "[1] \"9475 has wl within  7776000 seconds of itime (USGS well)\"\n",
      "[1] \"9484 has wl within  7776000 seconds of itime (USGS well)\"\n",
      "[1] \"9485 has wl within  7776000 seconds of itime (USGS well)\"\n",
      "[1] \"9486 has wl within  7776000 seconds of itime (USGS well)\"\n",
      "[1] \"9512 has wl within  7776000 seconds of itime (USGS well)\"\n",
      "[1] \"9513 has wl within  7776000 seconds of itime (USGS well)\"\n",
      "[1] \"9514 has wl within  7776000 seconds of itime (USGS well)\"\n",
      "[1] \"9515 has wl within  7776000 seconds of itime (USGS well)\"\n",
      "[1] \"9517 has wl within  7776000 seconds of itime (USGS well)\"\n",
      "[1] \"9518 has wl within  7776000 seconds of itime (USGS well)\"\n",
      "[1] \"9519 has wl within  7776000 seconds of itime (USGS well)\"\n",
      "[1] \"9521 has wl within  7776000 seconds of itime (USGS well)\"\n",
      "[1] \"9522 has wl within  7776000 seconds of itime (USGS well)\"\n",
      "[1] \"9524 has wl within  7776000 seconds of itime (USGS well)\"\n",
      "[1] \"9525 has wl within  7776000 seconds of itime (USGS well)\"\n",
      "[1] \"9526 has wl within  7776000 seconds of itime (USGS well)\"\n",
      "[1] \"9527 has wl within  7776000 seconds of itime (USGS well)\"\n",
      "[1] \"9528 has wl within  7776000 seconds of itime (USGS well)\"\n",
      "[1] \"9534 has wl within  7776000 seconds of itime (USGS well)\"\n",
      "[1] \"9535 has wl within  7776000 seconds of itime (USGS well)\"\n",
      "[1] \"9536 has wl within  7776000 seconds of itime (USGS well)\"\n",
      "[1] \"9537 has wl within  7776000 seconds of itime (USGS well)\"\n",
      "[1] \"9538 has wl within  7776000 seconds of itime (USGS well)\"\n",
      "[1] \"9539 has wl within  7776000 seconds of itime (USGS well)\"\n",
      "[1] \"9540 has wl within  7776000 seconds of itime (USGS well)\"\n",
      "[1] \"9544 has wl within  7776000 seconds of itime (USGS well)\"\n",
      "[1] \"no well data availabe for  9553\"\n",
      "[1] \"9555 has wl within  7776000 seconds of itime (USGS well)\"\n",
      "[1] \"no well data availabe for  9557\"\n",
      "[1] \"no well data availabe for  9558\"\n",
      "[1] \"no well data availabe for  9559\"\n",
      "[1] \"9560 has wl within  7776000 seconds of itime (USGS well)\"\n",
      "[1] \"9561 has wl within  7776000 seconds of itime (USGS well)\"\n",
      "[1] \"no well data availabe for  9562\"\n",
      "[1] \"no well data availabe for  9564\"\n",
      "[1] \"9565 has wl within  7776000 seconds of itime (USGS well)\"\n",
      "[1] \"no well data availabe for  9566\"\n",
      "[1] \"9567 has wl within  7776000 seconds of itime (USGS well)\"\n",
      "[1] \"9568 has wl within  7776000 seconds of itime (USGS well)\"\n",
      "[1] \"9614 has wl within  7776000 seconds of itime (USGS well)\"\n",
      "[1] \"9645 has wl within  7776000 seconds of itime (USGS well)\"\n",
      "[1] \"9646 has wl within  7776000 seconds of itime (USGS well)\"\n",
      "[1] \"9647 has wl within  7776000 seconds of itime (USGS well)\"\n",
      "[1] \"9648 has wl within  7776000 seconds of itime (USGS well)\"\n",
      "[1] \"9649 has wl within  7776000 seconds of itime (USGS well)\"\n",
      "[1] \"9650 has wl within  7776000 seconds of itime (USGS well)\"\n",
      "[1] \"9651 has wl within  7776000 seconds of itime (USGS well)\"\n",
      "[1] \"9652 has wl within  7776000 seconds of itime (USGS well)\"\n",
      "[1] \"9653 has wl within  7776000 seconds of itime (USGS well)\"\n",
      "[1] \"9654 has wl within  7776000 seconds of itime (USGS well)\"\n",
      "[1] \"9655 has wl within  7776000 seconds of itime (USGS well)\"\n",
      "[1] \"9656 has wl within  7776000 seconds of itime (USGS well)\"\n",
      "[1] \"9657 has wl within  7776000 seconds of itime (USGS well)\"\n",
      "[1] \"no well data availabe for  9662\"\n",
      "[1] \"no well data availabe for  9663\"\n",
      "[1] \"no well data availabe for  9664\"\n",
      "[1] \"9665 has wl within  7776000 seconds of itime (USGS well)\"\n",
      "[1] \"9723 has wl within  7776000 seconds of itime (USGS well)\"\n",
      "[1] \"9727 has wl within  7776000 seconds of itime (USGS well)\"\n",
      "[1] \"9728 has wl within  7776000 seconds of itime (USGS well)\"\n",
      "[1] \"9729 has wl within  7776000 seconds of itime (USGS well)\"\n",
      "[1] \"no well data availabe for  9732\"\n",
      "[1] \"no well data availabe for  9734\"\n",
      "[1] \"no well data availabe for  9735\"\n",
      "[1] \"no well data availabe for  9736\"\n",
      "[1] \"9738 has wl within  7776000 seconds of itime (USGS well)\"\n",
      "[1] \"no well data availabe for  9739\"\n",
      "[1] \"no well data availabe for  9740\"\n",
      "[1] \"no well data availabe for  9742\"\n",
      "[1] \"no well data availabe for  9743\"\n",
      "[1] \"no well data availabe for  9744\"\n",
      "[1] \"no well data availabe for  9745\"\n",
      "[1] \"no well data availabe for  9746\"\n",
      "[1] \"no well data availabe for  9747\"\n",
      "[1] \"no well data availabe for  9748\"\n",
      "[1] \"no well data availabe for  9749\"\n",
      "[1] \"no well data availabe for  9750\"\n",
      "[1] \"no well data availabe for  9751\"\n",
      "[1] \"9752 has wl within  7776000 seconds of itime (USGS well)\"\n",
      "[1] \"no well data availabe for  9753\"\n",
      "[1] \"no well data availabe for  9755\"\n",
      "[1] \"no well data availabe for  9757\"\n",
      "[1] \"no well data availabe for  9759\"\n",
      "[1] \"no well data availabe for  9761\"\n",
      "[1] \"no well data availabe for  9763\"\n",
      "[1] \"no well data availabe for  9765\"\n",
      "[1] \"no well data availabe for  9766\"\n",
      "[1] \"no well data availabe for  9767\"\n",
      "[1] \"9768 has wl within  7776000 seconds of itime (USGS well)\"\n",
      "[1] \"no well data availabe for  9769\"\n",
      "[1] \"no well data availabe for  9770\"\n",
      "[1] \"no well data availabe for  9771\"\n",
      "[1] \"no well data availabe for  9772\"\n",
      "[1] \"no well data availabe for  9773\"\n",
      "[1] \"no well data availabe for  9774\"\n",
      "[1] \"9775 has wl within  7776000 seconds of itime (USGS well)\"\n",
      "[1] \"9776 has wl within  7776000 seconds of itime (USGS well)\"\n",
      "[1] \"9777 has wl within  7776000 seconds of itime (USGS well)\"\n",
      "[1] \"9778 has wl within  7776000 seconds of itime (USGS well)\"\n",
      "[1] \"9783 has wl within  7776000 seconds of itime (USGS well)\"\n",
      "[1] \"no well data availabe for  9795\"\n",
      "[1] \"9811 has wl within  7776000 seconds of itime (USGS well)\"\n",
      "[1] \"9812 has wl within  7776000 seconds of itime (USGS well)\"\n",
      "[1] \"9813 has wl within  7776000 seconds of itime (USGS well)\"\n",
      "[1] \"9814 has wl within  7776000 seconds of itime (USGS well)\"\n",
      "[1] \"9815 has wl within  7776000 seconds of itime (USGS well)\"\n",
      "[1] \"9816 has wl within  7776000 seconds of itime (USGS well)\"\n",
      "[1] \"9817 has wl within  7776000 seconds of itime (USGS well)\"\n",
      "[1] \"9819 has wl within  7776000 seconds of itime (USGS well)\"\n",
      "[1] \"9820 has wl within  7776000 seconds of itime (USGS well)\"\n",
      "[1] \"9821 has wl within  7776000 seconds of itime (USGS well)\"\n",
      "[1] \"no well data availabe for  9922\"\n",
      "[1] \"no well data availabe for  9924\"\n",
      "[1] \"no well data availabe for  10004\"\n",
      "[1] \"no well data availabe for  10005\"\n",
      "[1] \"10013 has wl within  7776000 seconds of itime (USGS well)\"\n",
      "[1] \"no well data availabe for  10014\"\n",
      "[1] \"no well data availabe for  10016\"\n",
      "[1] \"10018 has wl within  7776000 seconds of itime (USGS well)\"\n",
      "[1] \"10019 has wl within  7776000 seconds of itime (USGS well)\"\n",
      "[1] \"no well data availabe for  10020\"\n",
      "[1] \"10030 has wl within  7776000 seconds of itime (USGS well)\"\n",
      "[1] \"10037 has wl within  7776000 seconds of itime (USGS well)\"\n",
      "[1] \"10038 has wl within  7776000 seconds of itime (USGS well)\"\n",
      "[1] \"10042 has wl within  7776000 seconds of itime (USGS well)\"\n",
      "[1] \"10043 has wl within  7776000 seconds of itime (USGS well)\"\n",
      "[1] \"no well data availabe for  10060\"\n",
      "[1] \"no well data availabe for  10061\"\n",
      "[1] \"10062 has wl within  7776000 seconds of itime (USGS well)\"\n",
      "[1] \"10063 has wl within  7776000 seconds of itime (USGS well)\"\n",
      "[1] \"10064 has wl within  7776000 seconds of itime (USGS well)\"\n",
      "[1] \"10065 has wl within  7776000 seconds of itime (USGS well)\"\n",
      "[1] \"10066 has wl within  7776000 seconds of itime (USGS well)\"\n",
      "[1] \"10067 has wl within  7776000 seconds of itime (USGS well)\"\n",
      "[1] \"10068 has wl within  7776000 seconds of itime (USGS well)\"\n",
      "[1] \"10069 has wl within  7776000 seconds of itime (USGS well)\"\n",
      "[1] \"no well data availabe for  10070\"\n",
      "[1] \"10072 has wl within  7776000 seconds of itime (USGS well)\"\n",
      "[1] \"10073 has wl within  7776000 seconds of itime (USGS well)\"\n",
      "[1] \"10074 has wl within  7776000 seconds of itime (USGS well)\"\n",
      "[1] \"10076 has wl within  7776000 seconds of itime (USGS well)\"\n",
      "[1] \"10077 has wl within  7776000 seconds of itime (USGS well)\"\n",
      "[1] \"10078 has wl within  7776000 seconds of itime (USGS well)\"\n",
      "[1] \"10079 has wl within  7776000 seconds of itime (USGS well)\"\n",
      "[1] \"10081 has wl within  7776000 seconds of itime (USGS well)\"\n",
      "[1] \"10082 has wl within  7776000 seconds of itime (USGS well)\"\n",
      "[1] \"10083 has wl within  7776000 seconds of itime (USGS well)\"\n",
      "[1] \"10084 has wl within  7776000 seconds of itime (USGS well)\"\n",
      "[1] \"10085 has wl within  7776000 seconds of itime (USGS well)\"\n",
      "[1] \"10086 has wl within  7776000 seconds of itime (USGS well)\"\n",
      "[1] \"10088 has wl within  7776000 seconds of itime (USGS well)\"\n",
      "[1] \"10089 has wl within  7776000 seconds of itime (USGS well)\"\n",
      "[1] \"10090 has wl within  7776000 seconds of itime (USGS well)\"\n",
      "[1] \"10091 has wl within  7776000 seconds of itime (USGS well)\"\n",
      "[1] \"10092 has wl within  7776000 seconds of itime (USGS well)\"\n",
      "[1] \"10093 has wl within  7776000 seconds of itime (USGS well)\"\n",
      "[1] \"10180 has wl within  7776000 seconds of itime (USGS well)\"\n",
      "[1] \"10181 has wl within  7776000 seconds of itime (USGS well)\"\n",
      "[1] \"10182 has wl within  7776000 seconds of itime (USGS well)\"\n",
      "[1] \"10183 has wl within  7776000 seconds of itime (USGS well)\"\n",
      "[1] \"10245 has wl within  7776000 seconds of itime (USGS well)\"\n",
      "[1] \"10246 has wl within  7776000 seconds of itime (USGS well)\"\n",
      "[1] \"no well data availabe for  10247\"\n",
      "[1] \"10251 has wl within  7776000 seconds of itime (USGS well)\"\n",
      "[1] \"10257 has wl within  7776000 seconds of itime (USGS well)\"\n",
      "[1] \"10258 has wl within  7776000 seconds of itime (USGS well)\"\n",
      "[1] \"10259 has wl within  7776000 seconds of itime (USGS well)\"\n",
      "[1] \"no well data availabe for  10260\"\n",
      "[1] \"10261 has wl within  7776000 seconds of itime (USGS well)\"\n",
      "[1] \"10262 has wl within  7776000 seconds of itime (USGS well)\"\n",
      "[1] \"10263 has wl within  7776000 seconds of itime (USGS well)\"\n",
      "[1] \"10265 has wl within  7776000 seconds of itime (USGS well)\"\n",
      "[1] \"10266 has wl within  7776000 seconds of itime (USGS well)\"\n",
      "[1] \"10267 has wl within  7776000 seconds of itime (USGS well)\"\n",
      "[1] \"10268 has wl within  7776000 seconds of itime (USGS well)\"\n",
      "[1] \"no well data availabe for  10269\"\n",
      "[1] \"no well data availabe for  10270\"\n",
      "[1] \"10274 has wl within  7776000 seconds of itime (USGS well)\"\n",
      "[1] \"10275 has wl within  7776000 seconds of itime (USGS well)\"\n",
      "[1] \"10276 has wl within  7776000 seconds of itime (USGS well)\"\n",
      "[1] \"10287 has wl within  7776000 seconds of itime (USGS well)\"\n",
      "[1] \"10289 has wl within  7776000 seconds of itime (USGS well)\"\n",
      "[1] \"10292 has wl within  7776000 seconds of itime (USGS well)\"\n",
      "[1] \"10293 has wl within  7776000 seconds of itime (USGS well)\"\n",
      "[1] \"10297 has wl within  7776000 seconds of itime (USGS well)\"\n",
      "[1] \"10298 has wl within  7776000 seconds of itime (USGS well)\"\n",
      "[1] \"10300 has wl within  7776000 seconds of itime (USGS well)\"\n",
      "[1] \"10301 has wl within  7776000 seconds of itime (USGS well)\"\n",
      "[1] \"10302 has wl within  7776000 seconds of itime (USGS well)\"\n",
      "[1] \"10303 has wl within  7776000 seconds of itime (USGS well)\"\n",
      "[1] \"10304 has wl within  7776000 seconds of itime (USGS well)\"\n",
      "[1] \"10310 has wl within  7776000 seconds of itime (USGS well)\"\n",
      "[1] \"10318 has wl within  7776000 seconds of itime (USGS well)\"\n",
      "[1] \"10319 has wl within  7776000 seconds of itime (USGS well)\"\n",
      "[1] \"10320 has wl within  7776000 seconds of itime (USGS well)\"\n",
      "[1] \"10321 has wl within  7776000 seconds of itime (USGS well)\"\n",
      "[1] \"no well data availabe for  10323\"\n",
      "[1] \"10328 has wl within  7776000 seconds of itime (USGS well)\"\n",
      "[1] \"10329 has wl within  7776000 seconds of itime (USGS well)\"\n",
      "[1] \"10330 has wl within  7776000 seconds of itime (USGS well)\"\n",
      "[1] \"10331 has wl within  7776000 seconds of itime (USGS well)\"\n",
      "[1] \"no well data availabe for  10345\"\n",
      "[1] \"no well data availabe for  10346\"\n",
      "[1] \"no well data availabe for  10348\"\n",
      "[1] \"no well data availabe for  10349\"\n",
      "[1] \"no well data availabe for  10350\"\n",
      "[1] \"no well data availabe for  10351\"\n",
      "[1] \"no well data availabe for  10352\"\n",
      "[1] \"no well data availabe for  10353\"\n",
      "[1] \"no well data availabe for  10354\"\n",
      "[1] \"10355 has wl within  7776000 seconds of itime (USGS well)\"\n",
      "[1] \"10367 has wl within  7776000 seconds of itime (USGS well)\"\n",
      "[1] \"10368 has wl within  7776000 seconds of itime (USGS well)\"\n",
      "[1] \"10369 has wl within  7776000 seconds of itime (USGS well)\"\n",
      "[1] \"10370 has wl within  7776000 seconds of itime (USGS well)\"\n",
      "[1] \"10371 has wl within  7776000 seconds of itime (USGS well)\"\n",
      "[1] \"10426 has wl within  7776000 seconds of itime (USGS well)\"\n",
      "[1] \"10427 has wl within  7776000 seconds of itime (USGS well)\"\n",
      "[1] \"10491 has wl within  7776000 seconds of itime (USGS well)\"\n",
      "[1] \"no well data availabe for  10626\"\n",
      "[1] \"no well data availabe for  10653\"\n",
      "[1] \"no well data availabe for  10663\"\n",
      "[1] \"no well data availabe for  10665\"\n",
      "[1] \"no well data availabe for  10666\"\n",
      "[1] \"no well data availabe for  10667\"\n",
      "[1] \"no well data availabe for  10668\"\n",
      "[1] \"no well data availabe for  10869\"\n",
      "[1] \"no well data availabe for  10913\"\n",
      "[1] \"no well data availabe for  10914\"\n",
      "[1] \"no well data availabe for  10915\"\n",
      "[1] \"no well data availabe for  10916\"\n",
      "[1] \"no well data availabe for  10917\"\n",
      "[1] \"no well data availabe for  11585\"\n",
      "[1] \"no well data availabe for  11586\"\n",
      "[1] \"no well data availabe for  11598\"\n",
      "[1] \"no well data availabe for  11599\"\n",
      "[1] \"11871 has wl within  7776000 seconds of itime (USGS well)\"\n",
      "[1] \"11995 has wl within  7776000 seconds of itime (USGS well)\"\n",
      "[1] \"11997 has wl within  7776000 seconds of itime (USGS well)\"\n",
      "[1] \"no well data availabe for  12383\"\n",
      "[1] \"no well data availabe for  12396\"\n",
      "[1] \"no well data availabe for  12606\"\n",
      "[1] \"no well data availabe for  12658\"\n",
      "[1] \"no well data availabe for  12659\"\n",
      "[1] \"no well data availabe for  12664\"\n",
      "[1] \"no well data availabe for  12668\"\n",
      "[1] \"no well data availabe for  12757\"\n",
      "[1] \"no well data availabe for  12791\"\n",
      "[1] \"no well data availabe for  12792\"\n",
      "[1] \"no well data availabe for  12818\"\n",
      "[1] \"no well data availabe for  12848\"\n",
      "[1] \"no well data availabe for  12898\"\n",
      "[1] \"no well data availabe for  12971\"\n",
      "[1] \"no well data availabe for  12977\"\n",
      "[1] \"no well data availabe for  13059\"\n",
      "[1] \"no well data availabe for  13072\"\n",
      "[1] \"no well data availabe for  13078\"\n",
      "[1] \"no well data availabe for  13098\"\n",
      "[1] \"no well data availabe for  13103\"\n",
      "[1] \"no well data availabe for  13157\"\n",
      "[1] \"no well data availabe for  13277\"\n",
      "[1] \"no well data availabe for  13321\"\n",
      "[1] \"no well data availabe for  13335\"\n",
      "[1] \"no well data availabe for  13336\"\n",
      "[1] \"no well data availabe for  13347\"\n",
      "[1] \"no well data availabe for  13353\"\n",
      "[1] \"no well data availabe for  13363\"\n",
      "[1] \"no well data availabe for  13364\"\n",
      "[1] \"no well data availabe for  13422\"\n",
      "[1] \"no well data availabe for  13424\"\n",
      "[1] \"no well data availabe for  13455\"\n",
      "[1] \"no well data availabe for  13625\"\n",
      "[1] \"no well data availabe for  13626\"\n",
      "[1] \"no well data availabe for  13628\"\n",
      "[1] \"no well data availabe for  13629\"\n",
      "[1] \"no well data availabe for  13630\"\n",
      "[1] \"no well data availabe for  13631\"\n",
      "[1] \"no well data availabe for  13632\"\n",
      "[1] \"no well data availabe for  13633\"\n",
      "[1] \"no well data availabe for  13634\"\n",
      "[1] \"no well data availabe for  13665\"\n",
      "[1] \"no well data availabe for  13930\"\n",
      "[1] \"no well data availabe for  13936\"\n",
      "[1] \"no well data availabe for  13946\"\n",
      "[1] \"no well data availabe for  13973\"\n",
      "[1] \"no well data availabe for  13976\"\n",
      "[1] \"no well data availabe for  14014\"\n",
      "[1] \"no well data availabe for  14015\"\n",
      "[1] \"no well data availabe for  14016\"\n",
      "[1] \"no well data availabe for  14026\"\n",
      "[1] \"no well data availabe for  14027\"\n",
      "[1] \"no well data availabe for  14028\"\n",
      "[1] \"no well data availabe for  14034\"\n",
      "[1] \"no well data availabe for  14037\"\n",
      "[1] \"no well data availabe for  14052\"\n",
      "[1] \"no well data availabe for  14053\"\n",
      "[1] \"no well data availabe for  14057\"\n",
      "[1] \"no well data availabe for  14068\"\n",
      "[1] \"no well data availabe for  14110\"\n",
      "[1] \"no well data availabe for  14160\"\n",
      "[1] \"no well data availabe for  14165\"\n",
      "[1] \"no well data availabe for  14169\"\n",
      "[1] \"no well data availabe for  14171\"\n",
      "[1] \"14172 has wl within  7776000 seconds of itime (USGS well)\"\n",
      "[1] \"no well data availabe for  14173\"\n",
      "[1] \"14210 has wl within  7776000 seconds of itime (USGS well)\"\n",
      "[1] \"no well data availabe for  14247\"\n",
      "[1] \"no well data availabe for  14315\"\n",
      "[1] \"no well data availabe for  14316\"\n",
      "[1] \"no well data availabe for  14352\"\n",
      "[1] \"no well data availabe for  14353\"\n",
      "[1] \"14523 has wl within  7776000 seconds of itime (USGS well)\"\n",
      "[1] \"14524 has wl within  7776000 seconds of itime (USGS well)\"\n",
      "[1] \"no well data availabe for  14959\"\n",
      "[1] \"no well data availabe for  14960\"\n",
      "[1] \"no well data availabe for  14962\"\n",
      "[1] \"no well data availabe for  14963\"\n",
      "[1] \"no well data availabe for  14996\"\n",
      "[1] \"no well data availabe for  15003\"\n",
      "[1] \"no well data availabe for  15004\"\n",
      "[1] \"no well data availabe for  15028\"\n",
      "[1] \"no well data availabe for  15032\"\n",
      "[1] \"no well data availabe for  15033\"\n",
      "[1] \"no well data availabe for  15036\"\n",
      "[1] \"no well data availabe for  15155\"\n",
      "[1] \"no well data availabe for  15156\"\n",
      "[1] \"no well data availabe for  15157\"\n",
      "[1] \"no well data availabe for  15158\"\n",
      "[1] \"no well data availabe for  15159\"\n",
      "[1] \"no well data availabe for  15160\"\n",
      "[1] \"no well data availabe for  15162\"\n",
      "[1] \"no well data availabe for  15163\"\n",
      "[1] \"no well data availabe for  15164\"\n",
      "[1] \"no well data availabe for  15165\"\n",
      "[1] \"no well data availabe for  15395\"\n",
      "[1] \"no well data availabe for  27252\"\n",
      "[1] \"no well data availabe for  27793\"\n",
      "[1] \"no well data availabe for  38826\"\n",
      "[1] \"no well data availabe for  38935\"\n"
     ]
    }
   ],
   "source": [
    "itime = initial.time\n",
    "\n",
    "print(itime)\n",
    "selected.wells = data.frame(WellName = character(),  WellNumber = character(),\n",
    "                      Easting = numeric(), \n",
    "                      Northing = numeric(), DateTime = as.POSIXct(character()), WL = numeric(), stringsAsFactors = F)\n",
    "\n",
    "for (iwell in well_names) {\n",
    "\n",
    "    if (iwell %in% SFA_wells$WellName) {\n",
    "    #           print(paste(iwell, \"(SFA)\"))\n",
    "      manual_well = SFA_wells[which(SFA_wells$WellName == iwell), ]\n",
    "      index = which.min(abs(as.numeric(manual_well$DateTime - itime)))\n",
    "      DateTime = manual_well$DateTime[index]\n",
    "\n",
    "          if (DateTime == itime) {\n",
    "            WL = manual_well$WL[index]\n",
    "            selected.wells = rbind(selected.wells, data.frame(WellName = manual_well$WellName[index],\n",
    "                                                              WellNumber = manual_well$WellName[index],\n",
    "                                                              WL = WL,\n",
    "                                                              DateTime = DateTime,\n",
    "                                                              Easting = SFA_wells_ids$Easting[which(SFA_wells_ids$WellName == iwell)],\n",
    "                                                              Northing = SFA_wells_ids$Northing[which(SFA_wells_ids$WellName == iwell)],\n",
    "                                                              stringsAsFactors = F\n",
    "            ))\n",
    "          } else if (DateTime < itime + time_mar & DateTime > itime - time_mar) {\n",
    "            print(paste(iwell,\"has wl within\", time_mar, \"seconds of itime (SFA well)\"))\n",
    "            WLs = manual_well$WL[which(manual_well$DateTime <itime + time_mar & manual_well$DateTime > itime - time_mar)]\n",
    "            WL = median(WLs)\n",
    "            selected.wells = rbind(selected.wells, data.frame(WellName = manual_well$WellName[index],\n",
    "                                                              WellNumber = manual_well$WellName[index],\n",
    "                                                              WL = WL,\n",
    "                                                              DateTime = DateTime,\n",
    "                                                              Easting = SFA_wells_ids$Easting[which(SFA_wells_ids$WellName == iwell)],\n",
    "                                                              Northing = SFA_wells_ids$Northing[which(SFA_wells_ids$WellName == iwell)],\n",
    "                                                              stringsAsFactors = F\n",
    "            ))\n",
    "          }\n",
    "    } else if (iwell %in% HEIS_auto_wells$WellName) {\n",
    "      # print(paste(iwell, \"(mvAwln)\"))\n",
    "      auto_well = HEIS_auto_wells[which(HEIS_auto_wells$WellName == iwell), ]\n",
    "      index = which.min(abs(as.numeric(auto_well$procDate - itime)))\n",
    "      DateTime = auto_well$procDate[index]\n",
    "\n",
    "          ## find wells having data within given time range\n",
    "          if (DateTime == itime) {\n",
    "            WL = auto_well$procWaterElevation[index]\n",
    "            selected.wells = rbind(selected.wells, data.frame(WellName = auto_well$WellName[index],\n",
    "                                                              WellNumber = auto_well$WellNumber[index],\n",
    "                                                              WL = WL,\n",
    "                                                              DateTime = DateTime,\n",
    "                                                              Easting = HEIS_manual_wells_ids$EASTING[which(HEIS_manual_wells_ids$WELL_NAME == iwell)],\n",
    "                                                              Northing = HEIS_manual_wells_ids$NORTHING[which(HEIS_manual_wells_ids$WELL_NAME == iwell)],\n",
    "                                                              stringsAsFactors = F\n",
    "            ))\n",
    "          } else if (DateTime < itime + time_mar & DateTime > itime - time_mar) {\n",
    "            print(paste(iwell,\"has wl within\", time_mar, \"seconds of itime (mvAwln well)\"))\n",
    "            WLs = auto_well$procWaterElevation[which(auto_well$procDate <itime + time_mar & auto_well$procDate > itime - time_mar)]\n",
    "            WL = median(WLs)\n",
    "            selected.wells = rbind(selected.wells, data.frame(WellName = auto_well$WellName[index],\n",
    "                                                              WellNumber = auto_well$WellNumber[index],\n",
    "                                                              WL = WL,\n",
    "                                                              DateTime = DateTime,\n",
    "                                                              Easting = HEIS_manual_wells_ids$EASTING[which(HEIS_manual_wells_ids$WELL_NAME == iwell)],\n",
    "                                                              Northing = HEIS_manual_wells_ids$NORTHING[which(HEIS_manual_wells_ids$WELL_NAME == iwell)],\n",
    "                                                              stringsAsFactors = F\n",
    "            ))\n",
    "            }\n",
    "\n",
    "    } else if (iwell %in% HEIS_manual_wells$WellName) {\n",
    "      # print(paste(iwell, \"(HEIS manual)\"))\n",
    "      manual_well = HEIS_manual_wells[which(HEIS_manual_wells$WellName == iwell), ]\n",
    "      index = which.min(abs(as.numeric(manual_well$procDate - itime)))\n",
    "      DateTime = manual_well$procDate[index]\n",
    "\n",
    "          if (DateTime == itime) {\n",
    "            WL = manual_well$procWaterElevation[index]\n",
    "            selected.wells = rbind(selected.wells, data.frame(WellName = manual_well$WellName[index],\n",
    "                                                              WellNumber = manual_well$WellNumber[index],\n",
    "                                                              WL = WL,\n",
    "                                                              DateTime = DateTime,\n",
    "                                                              Easting = HEIS_manual_wells_ids$EASTING[which(HEIS_manual_wells_ids$WELL_NAME == iwell)],\n",
    "                                                              Northing = HEIS_manual_wells_ids$NORTHING[which(HEIS_manual_wells_ids$WELL_NAME == iwell)],\n",
    "                                                              stringsAsFactors = F\n",
    "            ))\n",
    "          } else if (DateTime < itime + time_mar & DateTime > itime - time_mar) {\n",
    "            print(paste(iwell,\"has wl within\", time_mar, \"seconds of itime (manual well)\"))\n",
    "            WLs = manual_well$procWaterElevation[which(manual_well$procDate <itime + time_mar & manual_well$procDate > itime - time_mar)]\n",
    "            WL = median(WLs)\n",
    "            selected.wells = rbind(selected.wells, data.frame(WellName = manual_well$WellName[index],\n",
    "                                                              WellNumber = manual_well$WellNumber[index],\n",
    "                                                              WL = WL,\n",
    "                                                              DateTime = DateTime,\n",
    "                                                              Easting = HEIS_manual_wells_ids$EASTING[which(HEIS_manual_wells_ids$WELL_NAME == iwell)],\n",
    "                                                              Northing = HEIS_manual_wells_ids$NORTHING[which(HEIS_manual_wells_ids$WELL_NAME == iwell)],\n",
    "                                                              stringsAsFactors = F\n",
    "            ))\n",
    "          }\n",
    "    } else if (iwell %in% USGS_wells_selected$WellNumber) {\n",
    "      # print(paste(iwell, \"(USGS)\"))\n",
    "      manual_well = USGS_wells_selected[which(USGS_wells_selected$WellNumber == iwell), ]\n",
    "      index = which.min(abs(as.numeric(manual_well$DateTime - itime)))\n",
    "      DateTime = manual_well$DateTime[index]\n",
    "\n",
    "          if (DateTime == itime) {\n",
    "            WL = manual_well$WL[index]\n",
    "            selected.wells = rbind(selected.wells, data.frame(WellName = sprintf(\"CP%06s\", manual_well$WellNumber[index]),\n",
    "                                                              WellNumber = manual_well$WellNumber[index],\n",
    "                                                              WL = WL,\n",
    "                                                              DateTime = DateTime,\n",
    "                                                              Easting = USGS_wells_selected$Easting[index],\n",
    "                                                              Northing = USGS_wells_selected$Northing[index],\n",
    "                                                              stringsAsFactors = F\n",
    "            ))\n",
    "          } else if (DateTime < itime + time_mar & DateTime > itime - time_mar) {\n",
    "            print(paste(iwell,\"has wl within \", time_mar, \"seconds of itime (USGS well)\"))\n",
    "            WLs = manual_well$WL[which(manual_well$DateTime <itime + time_mar & manual_well$DateTime > itime - time_mar)]\n",
    "            WL = median(WLs)\n",
    "            selected.wells = rbind(selected.wells, data.frame(WellName = sprintf(\"CP%06s\", manual_well$WellNumber[index]),\n",
    "                                                              WellNumber = manual_well$WellNumber[index],\n",
    "                                                              WL = WL,\n",
    "                                                              DateTime = DateTime,\n",
    "                                                              Easting = USGS_wells_selected$Easting[index],\n",
    "                                                              Northing = USGS_wells_selected$Northing[index],\n",
    "                                                              stringsAsFactors = F\n",
    "            ))\n",
    "          }\n",
    "        } else {\n",
    "        print(paste(\"no well data availabe for \", iwell))\n",
    "    }\n",
    "    ## sample wells from SFA data\n",
    "\n",
    "} "
   ]
  },
  {
   "cell_type": "code",
   "execution_count": 121,
   "metadata": {
    "ExecuteTime": {
     "end_time": "2018-06-27T19:43:39.009129Z",
     "start_time": "2018-06-27T19:43:38.983Z"
    },
    "code_folding": [],
    "nbpresent": {
     "id": "fb7a2820-96e2-470e-843d-7201531a03b7"
    }
   },
   "outputs": [],
   "source": [
    "write.csv(selected.wells, file = fname_selected_wells_csv, row.names = FALSE)"
   ]
  },
  {
   "cell_type": "markdown",
   "metadata": {
    "nbpresent": {
     "id": "97a53cbb-feb4-401e-ac31-96ddaf647535"
    }
   },
   "source": [
    "# interpolate for initial head"
   ]
  },
  {
   "cell_type": "code",
   "execution_count": 22,
   "metadata": {
    "ExecuteTime": {
     "end_time": "2018-06-26T20:56:46.782145Z",
     "start_time": "2018-06-26T20:56:46.761Z"
    }
   },
   "outputs": [],
   "source": [
    "selected.wells = read.csv(fname_selected_wells_csv)"
   ]
  },
  {
   "cell_type": "code",
   "execution_count": 122,
   "metadata": {
    "ExecuteTime": {
     "end_time": "2018-06-27T19:43:53.551136Z",
     "start_time": "2018-06-27T19:43:53.534Z"
    },
    "code_folding": [],
    "nbpresent": {
     "id": "fb7a2820-96e2-470e-843d-7201531a03b7"
    }
   },
   "outputs": [],
   "source": [
    "selected.wells.unique = selected.wells[!duplicated(selected.wells$WellName), ] # remove duplicated wellNames\n",
    "selected.wells.unique = selected.wells[!duplicated(selected.wells[c(\"Easting\", \"Northing\")]), ] # remove duplicated well coords\n",
    "selected.wells.unique = selected.wells.unique[complete.cases(selected.wells.unique), ] # remove rows contain NAs"
   ]
  },
  {
   "cell_type": "code",
   "execution_count": 123,
   "metadata": {
    "ExecuteTime": {
     "end_time": "2018-06-27T19:43:54.390228Z",
     "start_time": "2018-06-27T19:43:54.375Z"
    },
    "code_folding": [],
    "nbpresent": {
     "id": "fb7a2820-96e2-470e-843d-7201531a03b7"
    }
   },
   "outputs": [],
   "source": [
    "write.csv(selected.wells.unique, file = fname_selected_wells_unique_csv, row.names = FALSE)"
   ]
  },
  {
   "cell_type": "markdown",
   "metadata": {
    "code_folding": [],
    "nbpresent": {
     "id": "af74f030-d4dc-4d02-80b5-521205d8c1d9"
    }
   },
   "source": [
    "**use inverse distance interpolation**"
   ]
  },
  {
   "cell_type": "code",
   "execution_count": 28,
   "metadata": {
    "ExecuteTime": {
     "end_time": "2018-07-10T21:38:39.290398Z",
     "start_time": "2018-07-10T21:38:39.267Z"
    },
    "nbpresent": {
     "id": "65e77daf-2729-4dd7-bc22-5c0b66f993b5"
    }
   },
   "outputs": [],
   "source": [
    "selected.wells.unique = read.csv(fname_selected_wells_unique_csv)"
   ]
  },
  {
   "cell_type": "code",
   "execution_count": 29,
   "metadata": {
    "ExecuteTime": {
     "end_time": "2018-07-10T21:38:42.802253Z",
     "start_time": "2018-07-10T21:38:40.541Z"
    },
    "code_folding": [],
    "nbpresent": {
     "id": "af74f030-d4dc-4d02-80b5-521205d8c1d9"
    }
   },
   "outputs": [],
   "source": [
    "# expand points to grid\n",
    "grd = expand.grid(unit_x, unit_y)\n",
    "\n",
    "# save(grd, file = \"results/model_grids.r\")\n",
    "\n",
    "idw.interp = idw(values=selected.wells.unique[,\"WL\"],\n",
    "                 coords = selected.wells.unique[,c(\"Easting\",\"Northing\")],\n",
    "                 grid=grd,\n",
    "                 method=\"shepard\",\n",
    "                 p=2)\n",
    "idw.interp = as.numeric(unlist(idw.interp))\n",
    "\n",
    "h.initial = array(idw.interp, c(nx, ny))\n",
    "\n",
    "river.geometry = read.csv(fname_river.geo)\n",
    "\n",
    "# river.geometry = river.geometry[, 2:3]"
   ]
  },
  {
   "cell_type": "code",
   "execution_count": 33,
   "metadata": {
    "ExecuteTime": {
     "end_time": "2018-07-10T21:44:15.099488Z",
     "start_time": "2018-07-10T21:44:14.791Z"
    },
    "code_folding": [],
    "nbpresent": {
     "id": "af74f030-d4dc-4d02-80b5-521205d8c1d9"
    }
   },
   "outputs": [
    {
     "data": {
      "text/html": [
       "<strong>quartz_off_screen:</strong> 3"
      ],
      "text/latex": [
       "\\textbf{quartz\\textbackslash{}\\_off\\textbackslash{}\\_screen:} 3"
      ],
      "text/markdown": [
       "**quartz_off_screen:** 3"
      ],
      "text/plain": [
       "quartz_off_screen \n",
       "                3 "
      ]
     },
     "metadata": {},
     "output_type": "display_data"
    },
    {
     "data": {
      "text/html": [
       "<strong>pdf:</strong> 2"
      ],
      "text/latex": [
       "\\textbf{pdf:} 2"
      ],
      "text/markdown": [
       "**pdf:** 2"
      ],
      "text/plain": [
       "pdf \n",
       "  2 "
      ]
     },
     "metadata": {},
     "output_type": "display_data"
    },
    {
     "data": {
      "image/png": "[encoded data removed]",
      "text/plain": [
       "Plot with title “”"
      ]
     },
     "metadata": {},
     "output_type": "display_data"
    }
   ],
   "source": [
    "itime = as.POSIXct(\"2007-01-01 00:00:00\",tz=\"GMT\",format=\"%Y-%m-%d %H:%M:%S\")\n",
    "# fname = paste(fig_initial_H, 'initial_head_1000m_010107_3m.jpg', sep = \"\")\n",
    "# jpeg(fname, width=8,height=8,units='in',res=300,quality=100)\n",
    "\n",
    "head4plot = h.initial\n",
    "head4plot[head4plot>200]=200\n",
    "image2D(z= head4plot, x= unit_x, y= unit_y, shade=0, rasterImage = T, NAcol = \"white\",\n",
    "        main = paste(\"Initial Head\", itime, \"(\\u00B1\", \"3m)\"), asp = 1, contour = T, zlim = c(100, 200), xlab = \"Easting\", ylab = \"Northing\")\n",
    "points(selected.wells.unique$Easting, selected.wells.unique$Northing, col = \"white\", pch = 1, asp=1)\n",
    "polygon(river.geometry$x, river.geometry$y, border = \"gray\", asp=1)\n",
    "\n",
    "dev.copy(jpeg, fig_initial_H, width = 8, height = 8, units= \"in\", res = 300)\n",
    "dev.off()"
   ]
  },
  {
   "cell_type": "markdown",
   "metadata": {
    "nbpresent": {
     "id": "e4347697-e359-42b0-a2e9-9898ffbbb899"
    }
   },
   "source": [
    "# interpolate for BC head"
   ]
  },
  {
   "cell_type": "code",
   "execution_count": 39,
   "metadata": {
    "ExecuteTime": {
     "end_time": "2018-07-10T21:48:06.498180Z",
     "start_time": "2018-07-10T21:48:06.483Z"
    },
    "nbpresent": {
     "id": "68a7d7f1-a54c-4937-9c5f-c7bec64342d0"
    }
   },
   "outputs": [],
   "source": [
    "## add constant head to inland bc\n",
    "  grd.east = data.frame(x = pred.grid.east$x + model_origin[1], y = pred.grid.east$y + model_origin[2])\n",
    "  grd.west = data.frame(x = pred.grid.west$x + model_origin[1], y = pred.grid.west$y + model_origin[2])\n",
    "  grd.north = data.frame(x = pred.grid.north$x + model_origin[1], y = pred.grid.north$y + model_origin[2])\n",
    "  grd.south = data.frame(x = pred.grid.south$x + model_origin[1], y = pred.grid.south$y + model_origin[2])"
   ]
  },
  {
   "cell_type": "code",
   "execution_count": 40,
   "metadata": {
    "ExecuteTime": {
     "end_time": "2018-07-10T22:46:15.531512Z",
     "start_time": "2018-07-10T22:46:15.229Z"
    },
    "nbpresent": {
     "id": "55543c11-a47a-4e44-bd36-c0ee5234fa59"
    }
   },
   "outputs": [],
   "source": [
    "idw.interp.east = idw(values=selected.wells.unique[,\"WL\"],\n",
    "                    coords = selected.wells.unique[,c(\"Easting\",\"Northing\")],\n",
    "                   grid=grd.east,\n",
    "                   method=\"shepard\",\n",
    "                   p=2)\n",
    "  idw.interp.east = as.numeric(unlist(idw.interp.east))\n",
    "  BC.east = array(idw.interp.east, c(1, ny))\n",
    "  \n",
    "  idw.interp.west = idw(values=selected.wells.unique[,\"WL\"],\n",
    "                 coords = selected.wells.unique[,c(\"Easting\",\"Northing\")],\n",
    "                        grid=grd.west,\n",
    "                        method=\"shepard\",\n",
    "                        p=2)\n",
    "  idw.interp.west = as.numeric(unlist(idw.interp.west))\n",
    "  BC.west = array(idw.interp.west, c(1, ny))\n",
    "  \n",
    "  idw.interp.north = idw(values=selected.wells.unique[,\"WL\"],\n",
    "                 coords = selected.wells.unique[,c(\"Easting\",\"Northing\")],\n",
    "                        grid=grd.north,\n",
    "                        method=\"shepard\",\n",
    "                        p=2)\n",
    "  idw.interp.north = as.numeric(unlist(idw.interp.north))\n",
    "  BC.north = array(idw.interp.north, c(1, ny))\n",
    "  \n",
    "  idw.interp.south = idw(values=selected.wells.unique[,\"WL\"],\n",
    "                 coords = selected.wells.unique[,c(\"Easting\",\"Northing\")],\n",
    "                        grid=grd.south,\n",
    "                        method=\"shepard\",\n",
    "                        p=2)\n",
    "  idw.interp.south = as.numeric(unlist(idw.interp.south))\n",
    "  BC.south = array(idw.interp.south, c(1, ny))"
   ]
  },
  {
   "cell_type": "markdown",
   "metadata": {},
   "source": [
    "## generate smoothed initial head using Mass1 water level"
   ]
  },
  {
   "cell_type": "code",
   "execution_count": 41,
   "metadata": {
    "ExecuteTime": {
     "end_time": "2018-07-10T22:51:36.683030Z",
     "start_time": "2018-07-10T22:51:36.653Z"
    }
   },
   "outputs": [],
   "source": [
    "# get coord along east, west, north and south boundary\n",
    "bc.df = grd.east\n",
    "bc.df[\"z\"] = idw.interp.east\n",
    "\n",
    "idf = grd.west\n",
    "idf[\"z\"] = idw.interp.west\n",
    "bc.df = rbind(bc.df, idf)\n",
    "\n",
    "idf = grd.north\n",
    "idf[\"z\"] = idw.interp.north\n",
    "bc.df = rbind(bc.df, idf)\n",
    "\n",
    "idf = grd.south\n",
    "idf[\"z\"] = idw.interp.south\n",
    "bc.df = rbind(bc.df, idf)"
   ]
  },
  {
   "cell_type": "code",
   "execution_count": 42,
   "metadata": {
    "ExecuteTime": {
     "end_time": "2018-07-10T22:51:58.777841Z",
     "start_time": "2018-07-10T22:51:57.833Z"
    }
   },
   "outputs": [],
   "source": [
    "mass.info = read.csv(fname_mass.info)\n",
    "mass.info.sub = subset(mass.info, select= c(easting, northing, max_wl))\n",
    "names(mass.info.sub) = c(\"x\", \"y\", \"z\")\n",
    "\n",
    "bc.df = rbind(bc.df, mass.info.sub)\n",
    "\n",
    "idw.interp = idw(values = bc.df[,\"z\"],\n",
    "               coords = bc.df[,c(\"x\",\"y\")],\n",
    "               grid=grd,\n",
    "               method=\"shepard\",\n",
    "               p=2)\n",
    "idw.interp = as.numeric(unlist(idw.interp))\n",
    "\n",
    "h.initial.smooth = array(idw.interp, c(nx, ny))"
   ]
  },
  {
   "cell_type": "code",
   "execution_count": 44,
   "metadata": {
    "ExecuteTime": {
     "end_time": "2018-07-10T22:54:30.437443Z",
     "start_time": "2018-07-10T22:54:30.116Z"
    }
   },
   "outputs": [
    {
     "data": {
      "text/html": [
       "<strong>quartz_off_screen:</strong> 3"
      ],
      "text/latex": [
       "\\textbf{quartz\\textbackslash{}\\_off\\textbackslash{}\\_screen:} 3"
      ],
      "text/markdown": [
       "**quartz_off_screen:** 3"
      ],
      "text/plain": [
       "quartz_off_screen \n",
       "                3 "
      ]
     },
     "metadata": {},
     "output_type": "display_data"
    },
    {
     "data": {
      "text/html": [
       "<strong>pdf:</strong> 2"
      ],
      "text/latex": [
       "\\textbf{pdf:} 2"
      ],
      "text/markdown": [
       "**pdf:** 2"
      ],
      "text/plain": [
       "pdf \n",
       "  2 "
      ]
     },
     "metadata": {},
     "output_type": "display_data"
    },
    {
     "data": {
      "image/png": "[encoded data removed]",
      "text/plain": [
       "Plot with title “”"
      ]
     },
     "metadata": {},
     "output_type": "display_data"
    }
   ],
   "source": [
    "# jpeg(\"figures/h_initial_smooth_040107.jpg\", width=8,height=8,units='in',res=300,quality=100)\n",
    "\n",
    "head4plot = h.initial.smooth\n",
    "head4plot[head4plot>200]=200\n",
    "image2D(z= head4plot, x= unit_x, y= unit_y, shade=0, rasterImage = T, NAcol = \"grey\",\n",
    "      main = paste(\"Initial Head\", itime), asp = 1, contour = T, zlim = c(100, 200), xlab = \"Easting\", ylab = \"Northing\")\n",
    "points(bc.df$x, bc.df$y, col = \"white\", pch = 1, asp=1)\n",
    "polygon(river.geometry$x, river.geometry$y, border = \"gray\", asp=1)\n",
    "\n",
    "# fname = paste(fig_initial_H, \"initial_head_200m_040107s\", sep = \"\")\n",
    "dev.copy(jpeg, fig_initial_H,  width=8,height=8,units='in',res=300,quality=100)\n",
    "dev.off()"
   ]
  },
  {
   "cell_type": "markdown",
   "metadata": {
    "nbpresent": {
     "id": "1fb0ccb8-4bfc-4913-b181-f1024188ab1e"
    }
   },
   "source": [
    "# generate H5 output"
   ]
  },
  {
   "cell_type": "markdown",
   "metadata": {
    "nbpresent": {
     "id": "028f7c3b-19dd-407f-b20f-5be2187c6f38"
    }
   },
   "source": [
    "## initial_h5"
   ]
  },
  {
   "cell_type": "code",
   "execution_count": 45,
   "metadata": {
    "ExecuteTime": {
     "end_time": "2018-07-10T22:59:18.647090Z",
     "start_time": "2018-07-10T22:59:18.600Z"
    },
    "nbpresent": {
     "id": "36688026-de01-4e27-84ef-92fdf015a59a"
    }
   },
   "outputs": [
    {
     "data": {
      "text/html": [
       "TRUE"
      ],
      "text/latex": [
       "TRUE"
      ],
      "text/markdown": [
       "TRUE"
      ],
      "text/plain": [
       "[1] TRUE"
      ]
     },
     "metadata": {},
     "output_type": "display_data"
    },
    {
     "data": {
      "text/html": [
       "TRUE"
      ],
      "text/latex": [
       "TRUE"
      ],
      "text/markdown": [
       "TRUE"
      ],
      "text/plain": [
       "[1] TRUE"
      ]
     },
     "metadata": {},
     "output_type": "display_data"
    },
    {
     "data": {
      "text/html": [
       "TRUE"
      ],
      "text/latex": [
       "TRUE"
      ],
      "text/markdown": [
       "TRUE"
      ],
      "text/plain": [
       "[1] TRUE"
      ]
     },
     "metadata": {},
     "output_type": "display_data"
    }
   ],
   "source": [
    "##Generate the initial condition hdf5 file for the domain.\n",
    "h.initial = h.initial.smooth\n",
    "\n",
    "if (file.exists(fname_initial.h5)) {\n",
    "    file.remove(fname_initial.h5)\n",
    "}\n",
    "h5createFile(fname_initial.h5)\n",
    "h5createGroup(fname_initial.h5,'Initial_Head')\n",
    "\n",
    "h5write(t(h.initial),fname_initial.h5, ## why tranpose? to match HDF5 format\n",
    "        'Initial_Head/Data',level=0)\n",
    "fid = H5Fopen(fname_initial.h5)\n",
    "h5g = H5Gopen(fid,'/Initial_Head')\n",
    "h5writeAttribute(attr = 1.0, h5obj = h5g, name = 'Cell Centered')\n",
    "h5writeAttribute.character(attr = \"XY\", h5obj = h5g, name = 'Dimension')\n",
    "h5writeAttribute(attr = c(idx, idy), h5obj = h5g, name = 'Discretization')\n",
    "h5writeAttribute(attr = 500.0, h5obj = h5g, name = 'Max Buffer Size')\n",
    "h5writeAttribute(attr = c(0, 0), h5obj = h5g, name = 'Origin') \n",
    "H5Gclose(h5g)\n",
    "H5Fclose(fid)"
   ]
  },
  {
   "cell_type": "markdown",
   "metadata": {
    "nbpresent": {
     "id": "52da6232-c039-45d0-b718-4346d356589d"
    }
   },
   "source": [
    "## BC_h5"
   ]
  },
  {
   "cell_type": "code",
   "execution_count": 46,
   "metadata": {
    "ExecuteTime": {
     "end_time": "2018-07-10T23:01:54.735955Z",
     "start_time": "2018-07-10T23:01:54.541Z"
    },
    "nbpresent": {
     "id": "589792f1-4cd8-4316-86e8-c26d68112c0b"
    }
   },
   "outputs": [
    {
     "data": {
      "text/html": [
       "TRUE"
      ],
      "text/latex": [
       "TRUE"
      ],
      "text/markdown": [
       "TRUE"
      ],
      "text/plain": [
       "[1] TRUE"
      ]
     },
     "metadata": {},
     "output_type": "display_data"
    },
    {
     "data": {
      "text/html": [
       "TRUE"
      ],
      "text/latex": [
       "TRUE"
      ],
      "text/markdown": [
       "TRUE"
      ],
      "text/plain": [
       "[1] TRUE"
      ]
     },
     "metadata": {},
     "output_type": "display_data"
    },
    {
     "data": {
      "text/html": [
       "TRUE"
      ],
      "text/latex": [
       "TRUE"
      ],
      "text/markdown": [
       "TRUE"
      ],
      "text/plain": [
       "[1] TRUE"
      ]
     },
     "metadata": {},
     "output_type": "display_data"
    },
    {
     "data": {
      "text/html": [
       "TRUE"
      ],
      "text/latex": [
       "TRUE"
      ],
      "text/markdown": [
       "TRUE"
      ],
      "text/plain": [
       "[1] TRUE"
      ]
     },
     "metadata": {},
     "output_type": "display_data"
    },
    {
     "data": {
      "text/html": [
       "TRUE"
      ],
      "text/latex": [
       "TRUE"
      ],
      "text/markdown": [
       "TRUE"
      ],
      "text/plain": [
       "[1] TRUE"
      ]
     },
     "metadata": {},
     "output_type": "display_data"
    }
   ],
   "source": [
    "##=================Generate the BC hdf5 file===========================.\n",
    "\n",
    "# time.id = as.integer(time.id) \n",
    "time.id = as.integer(0) \n",
    "\n",
    "if (file.exists(fname.BC.h5)) {\n",
    "    file.remove(fname.BC.h5)\n",
    "}\n",
    "\n",
    "h5createFile(fname.BC.h5)\n",
    "\n",
    "### write data\n",
    "h5createGroup(fname.BC.h5,'BC_South')\n",
    "h5write(time.id, fname.BC.h5,'BC_South/Times',level=0)\n",
    "h5write(BC.south, fname.BC.h5,'BC_South/Data',level=0)\n",
    "\n",
    "h5createGroup(fname.BC.h5,'BC_North')\n",
    "h5write(time.id,fname.BC.h5,'BC_North/Times',level=0)\n",
    "h5write(BC.north,fname.BC.h5,'BC_North/Data',level=0)\n",
    "\n",
    "h5createGroup(fname.BC.h5,'BC_East')\n",
    "h5write(time.id,fname.BC.h5,'BC_East/Times',level=0)\n",
    "h5write(BC.east,fname.BC.h5,'BC_East/Data',level=0)\n",
    "\n",
    "h5createGroup(fname.BC.h5,'BC_West')\n",
    "h5write(time.id,fname.BC.h5,'BC_West/Times',level=0)\n",
    "h5write(BC.west,fname.BC.h5,'BC_West/Data',level=0)\n",
    "\n",
    "### write attribute\n",
    "fid = H5Fopen(fname.BC.h5)\n",
    "h5g.south = H5Gopen(fid,'/BC_South')\n",
    "h5g.north = H5Gopen(fid,'/BC_North')\n",
    "h5g.east = H5Gopen(fid,'/BC_East')\n",
    "h5g.west = H5Gopen(fid,'/BC_West')\n",
    "\n",
    "\n",
    "h5writeAttribute(attr = 1.0, h5obj = h5g.south, name = 'Cell Centered')\n",
    "h5writeAttribute(attr = 'X', h5obj = h5g.south, name = 'Dimension')\n",
    "h5writeAttribute(attr = grid.x, h5obj = h5g.south, name = 'Discretization')\n",
    "h5writeAttribute(attr = 200.0, h5obj = h5g.south, name = 'Max Buffer Size')\n",
    "h5writeAttribute(attr = range_x[1], h5obj = h5g.south, name = 'Origin')\n",
    "h5writeAttribute(attr = 'h', h5obj = h5g.south, name = 'Time Units')\n",
    "h5writeAttribute(attr = 1.0, h5obj = h5g.south, name = 'Transient')\n",
    "\n",
    "\n",
    "h5writeAttribute(attr = 1.0, h5obj = h5g.north, name = 'Cell Centered')\n",
    "h5writeAttribute(attr = 'X', h5obj = h5g.north, name = 'Dimension')\n",
    "h5writeAttribute(attr = grid.x, h5obj = h5g.north, name = 'Discretization')\n",
    "h5writeAttribute(attr = 200.0, h5obj = h5g.north, name = 'Max Buffer Size')\n",
    "h5writeAttribute(attr = range_x[1], h5obj = h5g.north, name = 'Origin')\n",
    "h5writeAttribute(attr = 'h', h5obj = h5g.north, name = 'Time Units')\n",
    "h5writeAttribute(attr = 1.0, h5obj = h5g.north, name = 'Transient')\n",
    "\n",
    "\n",
    "h5writeAttribute(attr = 1.0, h5obj = h5g.east, name = 'Cell Centered')\n",
    "h5writeAttribute(attr = 'Y', h5obj = h5g.east, name = 'Dimension')\n",
    "h5writeAttribute(attr = grid.y, h5obj = h5g.east, name = 'Discretization')\n",
    "h5writeAttribute(attr = 200.0, h5obj = h5g.east, name = 'Max Buffer Size')\n",
    "h5writeAttribute(attr = range_y[1], h5obj = h5g.east, name = 'Origin')\n",
    "h5writeAttribute(attr = 'h', h5obj = h5g.east, name = 'Time Units')\n",
    "h5writeAttribute(attr = 1.0, h5obj = h5g.east, name = 'Transient')\n",
    "\n",
    "\n",
    "h5writeAttribute(attr = 1.0, h5obj = h5g.west, name = 'Cell Centered')\n",
    "h5writeAttribute(attr = 'Y', h5obj = h5g.west, name = 'Dimension')\n",
    "h5writeAttribute(attr = grid.y, h5obj = h5g.west, name = 'Discretization')\n",
    "h5writeAttribute(attr = 200.0, h5obj = h5g.west, name = 'Max Buffer Size')\n",
    "h5writeAttribute(attr = range_y[1], h5obj = h5g.west, name = 'Origin')\n",
    "h5writeAttribute(attr = 'h', h5obj = h5g.west, name = 'Time Units')\n",
    "h5writeAttribute(attr = 1.0, h5obj = h5g.west, name = 'Transient')\n",
    "\n",
    "\n",
    "H5Gclose(h5g.south)\n",
    "H5Gclose(h5g.north)\n",
    "H5Gclose(h5g.east)\n",
    "H5Gclose(h5g.west)\n",
    "H5Fclose(fid)\n"
   ]
  }
 ],
 "metadata": {
  "kernelspec": {
   "display_name": "R",
   "language": "R",
   "name": "ir"
  },
  "language_info": {
   "codemirror_mode": "r",
   "file_extension": ".r",
   "mimetype": "text/x-r-source",
   "name": "R",
   "pygments_lexer": "r",
   "version": "3.5.0"
  },
  "nbpresent": {
   "slides": {
    "0694a085-601b-4c84-844c-ef1ad29c33b0": {
     "id": "0694a085-601b-4c84-844c-ef1ad29c33b0",
     "prev": "d392aeab-ee12-4f0f-a87f-543ed8b273f9",
     "regions": {
      "999ca7b9-c1a3-4d14-bb32-df193525b0c6": {
       "attrs": {
        "height": 0.8,
        "width": 0.8,
        "x": 0.1,
        "y": 0.1
       },
       "content": {
        "cell": "87cb7cc9-5635-4a83-aa58-efc2b218ec21",
        "part": "whole"
       },
       "id": "999ca7b9-c1a3-4d14-bb32-df193525b0c6"
      }
     }
    },
    "0c6a47d8-74ea-4d5d-bdf4-c42cb04d00b9": {
     "id": "0c6a47d8-74ea-4d5d-bdf4-c42cb04d00b9",
     "prev": "45684ea2-17e8-4b58-b050-297a3397f78c",
     "regions": {
      "b444ef9f-ed76-4e42-afdb-885643de7e81": {
       "attrs": {
        "height": 0.8,
        "width": 0.8,
        "x": 0.1,
        "y": 0.1
       },
       "content": {
        "cell": "65e77daf-2729-4dd7-bc22-5c0b66f993b5",
        "part": "whole"
       },
       "id": "b444ef9f-ed76-4e42-afdb-885643de7e81"
      }
     }
    },
    "1b0d6476-85cb-454a-9523-b1a1d88b5d74": {
     "id": "1b0d6476-85cb-454a-9523-b1a1d88b5d74",
     "prev": "4d623f80-010f-434a-8478-98267247f986",
     "regions": {
      "e64a0802-01dd-4d15-b5ad-d1db911f758c": {
       "attrs": {
        "height": 0.8,
        "width": 0.8,
        "x": 0.1,
        "y": 0.1
       },
       "content": {
        "cell": "4614541b-a02a-4bdf-9741-419bb6df71dc",
        "part": "whole"
       },
       "id": "e64a0802-01dd-4d15-b5ad-d1db911f758c"
      }
     }
    },
    "1b58fa63-3ab3-4d92-abc8-8d4390d4b85c": {
     "id": "1b58fa63-3ab3-4d92-abc8-8d4390d4b85c",
     "prev": "46824012-8d51-4c3a-b23a-5f7c3a55327b",
     "regions": {
      "f3a1d230-1ff6-4b30-bf36-68cee3b31600": {
       "attrs": {
        "height": 0.8,
        "width": 0.8,
        "x": 0.1,
        "y": 0.1
       },
       "content": {
        "cell": "e4347697-e359-42b0-a2e9-9898ffbbb899",
        "part": "whole"
       },
       "id": "f3a1d230-1ff6-4b30-bf36-68cee3b31600"
      }
     }
    },
    "272ffd2c-24c0-4948-b563-63725a2bfda7": {
     "id": "272ffd2c-24c0-4948-b563-63725a2bfda7",
     "prev": "1b58fa63-3ab3-4d92-abc8-8d4390d4b85c",
     "regions": {
      "9a29dfac-875e-4ef5-ab84-d07887390d7e": {
       "attrs": {
        "height": 0.8,
        "width": 0.8,
        "x": 0.1,
        "y": 0.1
       },
       "content": {
        "cell": "68a7d7f1-a54c-4937-9c5f-c7bec64342d0",
        "part": "whole"
       },
       "id": "9a29dfac-875e-4ef5-ab84-d07887390d7e"
      }
     }
    },
    "3c584466-6343-4733-8b8f-b2272289dfe8": {
     "id": "3c584466-6343-4733-8b8f-b2272289dfe8",
     "prev": "7ad57138-d56f-423a-98fb-956199fcbf3c",
     "regions": {
      "8b718b54-cd20-4ca9-9fd1-007c0e5d308b": {
       "attrs": {
        "height": 0.8,
        "width": 0.8,
        "x": 0.1,
        "y": 0.1
       },
       "content": {
        "cell": "1fb0ccb8-4bfc-4913-b181-f1024188ab1e",
        "part": "whole"
       },
       "id": "8b718b54-cd20-4ca9-9fd1-007c0e5d308b"
      }
     }
    },
    "413df79a-e7a0-4633-affe-bcf96faa90a3": {
     "id": "413df79a-e7a0-4633-affe-bcf96faa90a3",
     "prev": "f9b0e334-cf1a-4722-9f30-39a07b138b38",
     "regions": {
      "201bac90-d8dc-4fe2-8c2e-d60743d01374": {
       "attrs": {
        "height": 0.8,
        "width": 0.8,
        "x": 0.1,
        "y": 0.1
       },
       "content": {
        "cell": "1bb28186-9572-4335-bcb3-764de6350675",
        "part": "whole"
       },
       "id": "201bac90-d8dc-4fe2-8c2e-d60743d01374"
      }
     }
    },
    "45684ea2-17e8-4b58-b050-297a3397f78c": {
     "id": "45684ea2-17e8-4b58-b050-297a3397f78c",
     "prev": "8493295c-0e0e-45fa-976e-cfc9ebe4dd52",
     "regions": {
      "0909fadd-4d24-4ff4-9a92-7f5340bda31b": {
       "attrs": {
        "height": 0.8,
        "width": 0.8,
        "x": 0.1,
        "y": 0.1
       },
       "content": {
        "cell": "97a53cbb-feb4-401e-ac31-96ddaf647535",
        "part": "whole"
       },
       "id": "0909fadd-4d24-4ff4-9a92-7f5340bda31b"
      }
     }
    },
    "46824012-8d51-4c3a-b23a-5f7c3a55327b": {
     "id": "46824012-8d51-4c3a-b23a-5f7c3a55327b",
     "prev": "0c6a47d8-74ea-4d5d-bdf4-c42cb04d00b9",
     "regions": {
      "704bc294-f55a-4cb2-aaf6-098d9632c4ee": {
       "attrs": {
        "height": 0.8,
        "width": 0.8,
        "x": 0.1,
        "y": 0.1
       },
       "content": {
        "cell": "af74f030-d4dc-4d02-80b5-521205d8c1d9",
        "part": "whole"
       },
       "id": "704bc294-f55a-4cb2-aaf6-098d9632c4ee"
      }
     }
    },
    "4d623f80-010f-434a-8478-98267247f986": {
     "id": "4d623f80-010f-434a-8478-98267247f986",
     "prev": null,
     "regions": {
      "ee0de423-0de9-41a2-a9bb-3308c7ffc5c5": {
       "attrs": {
        "height": 0.8,
        "width": 0.8,
        "x": 0.1,
        "y": 0.1
       },
       "content": {
        "cell": "6496800d-0256-4c39-b553-4da7d616af75",
        "part": "whole"
       },
       "id": "ee0de423-0de9-41a2-a9bb-3308c7ffc5c5"
      }
     }
    },
    "512648ed-054e-4cf1-b56b-f19f43468441": {
     "id": "512648ed-054e-4cf1-b56b-f19f43468441",
     "prev": "858e7964-0a82-4b88-bca1-8130a74fbc0a",
     "regions": {
      "6f7a9817-fb8f-44d1-abd2-57223e5c4d71": {
       "attrs": {
        "height": 0.8,
        "width": 0.8,
        "x": 0.1,
        "y": 0.1
       },
       "content": {
        "cell": "589792f1-4cd8-4316-86e8-c26d68112c0b",
        "part": "whole"
       },
       "id": "6f7a9817-fb8f-44d1-abd2-57223e5c4d71"
      }
     }
    },
    "5c95190b-083a-47c1-bba5-da44014a6fd1": {
     "id": "5c95190b-083a-47c1-bba5-da44014a6fd1",
     "prev": "befb78aa-00de-4bfc-b6ac-f244cb76778f",
     "regions": {
      "1036454b-9a2d-448b-905b-a52dc337b359": {
       "attrs": {
        "height": 0.8,
        "width": 0.8,
        "x": 0.1,
        "y": 0.1
       },
       "content": {
        "cell": "173131a4-ef6f-4cb6-ab5f-b76f5dc6b8bf",
        "part": "whole"
       },
       "id": "1036454b-9a2d-448b-905b-a52dc337b359"
      }
     }
    },
    "5dc1573e-d93f-4ffb-b443-831e665a0c38": {
     "id": "5dc1573e-d93f-4ffb-b443-831e665a0c38",
     "prev": "72053179-d1e7-4593-871e-af8be349827c",
     "regions": {
      "31f3420b-8d59-481e-888a-77442cc27063": {
       "attrs": {
        "height": 0.8,
        "width": 0.8,
        "x": 0.1,
        "y": 0.1
       },
       "content": {
        "cell": "4232df57-9e1b-4fb6-91dd-ae05e129ad2d",
        "part": "whole"
       },
       "id": "31f3420b-8d59-481e-888a-77442cc27063"
      }
     }
    },
    "6147d87b-7dac-4dcd-acd7-73ab99276303": {
     "id": "6147d87b-7dac-4dcd-acd7-73ab99276303",
     "prev": "3c584466-6343-4733-8b8f-b2272289dfe8",
     "regions": {
      "cce7d4fe-9eb7-4f12-9f37-76665b06079c": {
       "attrs": {
        "height": 0.8,
        "width": 0.8,
        "x": 0.1,
        "y": 0.1
       },
       "content": {
        "cell": "028f7c3b-19dd-407f-b20f-5be2187c6f38",
        "part": "whole"
       },
       "id": "cce7d4fe-9eb7-4f12-9f37-76665b06079c"
      }
     }
    },
    "65f151b3-e95d-42ba-9995-0117e92f0ac5": {
     "id": "65f151b3-e95d-42ba-9995-0117e92f0ac5",
     "prev": "0694a085-601b-4c84-844c-ef1ad29c33b0",
     "regions": {
      "450864d4-93d1-4190-b385-9eff9214bef9": {
       "attrs": {
        "height": 0.8,
        "width": 0.8,
        "x": 0.1,
        "y": 0.1
       },
       "content": {
        "cell": "4057fe38-a644-43ba-845f-bafaa511891a",
        "part": "whole"
       },
       "id": "450864d4-93d1-4190-b385-9eff9214bef9"
      }
     }
    },
    "6bbdbb78-41f2-48c4-a06f-0c105e0f79da": {
     "id": "6bbdbb78-41f2-48c4-a06f-0c105e0f79da",
     "prev": "f013bffb-c9ec-4b3c-868a-ca7b5713ee38",
     "regions": {
      "63761612-b35c-424e-b7a3-f88afaf4ff2e": {
       "attrs": {
        "height": 0.8,
        "width": 0.8,
        "x": 0.1,
        "y": 0.1
       },
       "content": {
        "cell": "2792b310-4066-4105-8bca-503efe6f3653",
        "part": "whole"
       },
       "id": "63761612-b35c-424e-b7a3-f88afaf4ff2e"
      }
     }
    },
    "6d51d1e8-c6ca-4c7f-9752-25d592ab9640": {
     "id": "6d51d1e8-c6ca-4c7f-9752-25d592ab9640",
     "prev": "1b0d6476-85cb-454a-9523-b1a1d88b5d74",
     "regions": {
      "896a1876-3a3a-46ef-abb5-23ce241081e5": {
       "attrs": {
        "height": 0.8,
        "width": 0.8,
        "x": 0.1,
        "y": 0.1
       },
       "content": {
        "cell": "4c13ad3b-2227-4c81-8db9-b342e52d9adc",
        "part": "whole"
       },
       "id": "896a1876-3a3a-46ef-abb5-23ce241081e5"
      }
     }
    },
    "72053179-d1e7-4593-871e-af8be349827c": {
     "id": "72053179-d1e7-4593-871e-af8be349827c",
     "prev": "c2d29136-22dc-4ac1-aafa-0e8c421c5975",
     "regions": {
      "1a844f2e-88b1-4aaf-9407-5d4b8a7f27cb": {
       "attrs": {
        "height": 0.8,
        "width": 0.8,
        "x": 0.1,
        "y": 0.1
       },
       "content": {
        "cell": "212b4881-3934-4e58-8950-d947e7bbb68f",
        "part": "whole"
       },
       "id": "1a844f2e-88b1-4aaf-9407-5d4b8a7f27cb"
      }
     }
    },
    "728be353-29ba-49db-8d31-733229b44c45": {
     "id": "728be353-29ba-49db-8d31-733229b44c45",
     "prev": "ae050a65-7408-4fca-aa93-adfd9789125f",
     "regions": {
      "e2b3f7fe-d776-4106-a159-493fb542a2e7": {
       "attrs": {
        "height": 0.8,
        "width": 0.8,
        "x": 0.1,
        "y": 0.1
       },
       "content": {
        "cell": "1c2ad3a7-334e-4d7d-ae99-c388a7c3cab4",
        "part": "whole"
       },
       "id": "e2b3f7fe-d776-4106-a159-493fb542a2e7"
      }
     }
    },
    "7ad57138-d56f-423a-98fb-956199fcbf3c": {
     "id": "7ad57138-d56f-423a-98fb-956199fcbf3c",
     "prev": "272ffd2c-24c0-4948-b563-63725a2bfda7",
     "regions": {
      "03e7c63e-67ff-4b0f-ac68-62a788ea1ca5": {
       "attrs": {
        "height": 0.8,
        "width": 0.8,
        "x": 0.1,
        "y": 0.1
       },
       "content": {
        "cell": "55543c11-a47a-4e44-bd36-c0ee5234fa59",
        "part": "whole"
       },
       "id": "03e7c63e-67ff-4b0f-ac68-62a788ea1ca5"
      }
     }
    },
    "8493295c-0e0e-45fa-976e-cfc9ebe4dd52": {
     "id": "8493295c-0e0e-45fa-976e-cfc9ebe4dd52",
     "prev": "6bbdbb78-41f2-48c4-a06f-0c105e0f79da",
     "regions": {
      "0aa13a4e-3ea1-487d-843f-bcf487d4c1f4": {
       "attrs": {
        "height": 0.8,
        "width": 0.8,
        "x": 0.1,
        "y": 0.1
       },
       "content": {
        "cell": "fb7a2820-96e2-470e-843d-7201531a03b7",
        "part": "whole"
       },
       "id": "0aa13a4e-3ea1-487d-843f-bcf487d4c1f4"
      }
     }
    },
    "858e7964-0a82-4b88-bca1-8130a74fbc0a": {
     "id": "858e7964-0a82-4b88-bca1-8130a74fbc0a",
     "prev": "aef2c82a-7a01-4d4e-b7a1-a92935b93fb7",
     "regions": {
      "e1cc85bf-aca8-45c7-a311-39f1bc28d6b7": {
       "attrs": {
        "height": 0.8,
        "width": 0.8,
        "x": 0.1,
        "y": 0.1
       },
       "content": {
        "cell": "52da6232-c039-45d0-b718-4346d356589d",
        "part": "whole"
       },
       "id": "e1cc85bf-aca8-45c7-a311-39f1bc28d6b7"
      }
     }
    },
    "9c717949-3e3e-442e-97fc-31530c2eab1d": {
     "id": "9c717949-3e3e-442e-97fc-31530c2eab1d",
     "prev": "5c95190b-083a-47c1-bba5-da44014a6fd1",
     "regions": {
      "7e2417e3-06bf-4b53-8c25-d57ea0059048": {
       "attrs": {
        "height": 0.8,
        "width": 0.8,
        "x": 0.1,
        "y": 0.1
       },
       "content": {
        "cell": "0fd0e20c-4f16-4515-9295-c561e6e452d5",
        "part": "whole"
       },
       "id": "7e2417e3-06bf-4b53-8c25-d57ea0059048"
      }
     }
    },
    "ae050a65-7408-4fca-aa93-adfd9789125f": {
     "id": "ae050a65-7408-4fca-aa93-adfd9789125f",
     "prev": "413df79a-e7a0-4633-affe-bcf96faa90a3",
     "regions": {
      "f0f88d1e-9651-4d0e-b1d8-74ba5fe0c74a": {
       "attrs": {
        "height": 0.8,
        "width": 0.8,
        "x": 0.1,
        "y": 0.1
       },
       "content": {
        "cell": "119bbe00-c4ce-487e-939f-32d8397a2851",
        "part": "whole"
       },
       "id": "f0f88d1e-9651-4d0e-b1d8-74ba5fe0c74a"
      }
     }
    },
    "aef2c82a-7a01-4d4e-b7a1-a92935b93fb7": {
     "id": "aef2c82a-7a01-4d4e-b7a1-a92935b93fb7",
     "prev": "6147d87b-7dac-4dcd-acd7-73ab99276303",
     "regions": {
      "13f9e6ed-aabb-4af4-a3f2-c3e815a0c6de": {
       "attrs": {
        "height": 0.8,
        "width": 0.8,
        "x": 0.1,
        "y": 0.1
       },
       "content": {
        "cell": "36688026-de01-4e27-84ef-92fdf015a59a",
        "part": "whole"
       },
       "id": "13f9e6ed-aabb-4af4-a3f2-c3e815a0c6de"
      }
     }
    },
    "b520bee8-3429-4f41-8608-7d66a07bf5b0": {
     "id": "b520bee8-3429-4f41-8608-7d66a07bf5b0",
     "prev": "6d51d1e8-c6ca-4c7f-9752-25d592ab9640",
     "regions": {
      "cb574501-9fe7-4f75-9ce6-246e46b3b531": {
       "attrs": {
        "height": 0.8,
        "width": 0.8,
        "x": 0.1,
        "y": 0.1
       },
       "content": {
        "cell": "984ff92a-347e-4271-9714-ae7ca94de818",
        "part": "whole"
       },
       "id": "cb574501-9fe7-4f75-9ce6-246e46b3b531"
      }
     }
    },
    "befb78aa-00de-4bfc-b6ac-f244cb76778f": {
     "id": "befb78aa-00de-4bfc-b6ac-f244cb76778f",
     "prev": "5dc1573e-d93f-4ffb-b443-831e665a0c38",
     "regions": {
      "806f435a-cb3a-4179-95a6-b535213d314d": {
       "attrs": {
        "height": 0.8,
        "width": 0.8,
        "x": 0.1,
        "y": 0.1
       },
       "content": {
        "cell": "daa1bd5c-3b63-4d8a-9b6d-b3579b65a312",
        "part": "whole"
       },
       "id": "806f435a-cb3a-4179-95a6-b535213d314d"
      }
     }
    },
    "c2d29136-22dc-4ac1-aafa-0e8c421c5975": {
     "id": "c2d29136-22dc-4ac1-aafa-0e8c421c5975",
     "prev": "728be353-29ba-49db-8d31-733229b44c45",
     "regions": {
      "97eebe93-f1c4-4c2a-8ed5-6f742118ef7c": {
       "attrs": {
        "height": 0.8,
        "width": 0.8,
        "x": 0.1,
        "y": 0.1
       },
       "content": {
        "cell": "005605d9-07d4-4f25-bf35-e9d3343b2dbf",
        "part": "whole"
       },
       "id": "97eebe93-f1c4-4c2a-8ed5-6f742118ef7c"
      }
     }
    },
    "d392aeab-ee12-4f0f-a87f-543ed8b273f9": {
     "id": "d392aeab-ee12-4f0f-a87f-543ed8b273f9",
     "prev": "b520bee8-3429-4f41-8608-7d66a07bf5b0",
     "regions": {
      "9b827dba-4040-41be-b6a7-d7b2caaf93ba": {
       "attrs": {
        "height": 0.8,
        "width": 0.8,
        "x": 0.1,
        "y": 0.1
       },
       "content": {
        "cell": "523a0e08-ce97-466d-a2db-46693871f8d5",
        "part": "whole"
       },
       "id": "9b827dba-4040-41be-b6a7-d7b2caaf93ba"
      }
     }
    },
    "f013bffb-c9ec-4b3c-868a-ca7b5713ee38": {
     "id": "f013bffb-c9ec-4b3c-868a-ca7b5713ee38",
     "prev": "9c717949-3e3e-442e-97fc-31530c2eab1d",
     "regions": {
      "6311f95d-8f55-4cba-8534-6dd20fa5cc98": {
       "attrs": {
        "height": 0.8,
        "width": 0.8,
        "x": 0.1,
        "y": 0.1
       },
       "content": {
        "cell": "712a1226-f174-4093-b392-c4ec82b68bff",
        "part": "whole"
       },
       "id": "6311f95d-8f55-4cba-8534-6dd20fa5cc98"
      }
     }
    },
    "f3446414-2af4-4f24-b518-60dbad49f550": {
     "id": "f3446414-2af4-4f24-b518-60dbad49f550",
     "prev": "65f151b3-e95d-42ba-9995-0117e92f0ac5",
     "regions": {
      "77948764-d714-47ed-98df-aa40378ab17c": {
       "attrs": {
        "height": 0.8,
        "width": 0.8,
        "x": 0.1,
        "y": 0.1
       },
       "content": {
        "cell": "041a613e-776f-4697-9cca-b71203024215",
        "part": "whole"
       },
       "id": "77948764-d714-47ed-98df-aa40378ab17c"
      }
     }
    },
    "f9b0e334-cf1a-4722-9f30-39a07b138b38": {
     "id": "f9b0e334-cf1a-4722-9f30-39a07b138b38",
     "prev": "f3446414-2af4-4f24-b518-60dbad49f550",
     "regions": {
      "c0813520-ae65-4244-884b-50c81d29294e": {
       "attrs": {
        "height": 0.8,
        "width": 0.8,
        "x": 0.1,
        "y": 0.1
       },
       "content": {
        "cell": "9ea2fd39-3595-4e15-8d60-303b637fb1a9",
        "part": "whole"
       },
       "id": "c0813520-ae65-4244-884b-50c81d29294e"
      }
     }
    }
   },
   "themes": {}
  },
  "toc": {
   "base_numbering": 1,
   "nav_menu": {},
   "number_sections": true,
   "sideBar": true,
   "skip_h1_title": false,
   "title_cell": "Table of Contents",
   "title_sidebar": "Contents",
   "toc_cell": false,
   "toc_position": {},
   "toc_section_display": true,
   "toc_window_display": true
  },
  "varInspector": {
   "cols": {
    "lenName": 16,
    "lenType": 16,
    "lenVar": 40
   },
   "kernels_config": {
    "python": {
     "delete_cmd_postfix": "",
     "delete_cmd_prefix": "del ",
     "library": "var_list.py",
     "varRefreshCmd": "print(var_dic_list())"
    },
    "r": {
     "delete_cmd_postfix": ") ",
     "delete_cmd_prefix": "rm(",
     "library": "var_list.r",
     "varRefreshCmd": "cat(var_dic_list()) "
    }
   },
   "oldHeight": 622,
   "position": {
    "height": "644px",
    "left": "1070px",
    "right": "20px",
    "top": "120px",
    "width": "350px"
   },
   "types_to_exclude": [
    "module",
    "function",
    "builtin_function_or_method",
    "instance",
    "_Feature"
   ],
   "varInspector_section_display": "block",
   "window_display": false
  }
 },
 "nbformat": 4,
 "nbformat_minor": 2
}
