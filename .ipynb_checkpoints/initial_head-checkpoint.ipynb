{
 "cells": [
  {
   "cell_type": "markdown",
   "metadata": {
    "nbpresent": {
     "id": "6496800d-0256-4c39-b553-4da7d616af75"
    }
   },
   "source": [
    "# Generate initial head for PFLOTRAN"
   ]
  },
  {
   "cell_type": "code",
   "execution_count": 1,
   "metadata": {
    "ExecuteTime": {
     "end_time": "2018-06-25T23:42:34.948545Z",
     "start_time": "2018-06-25T23:42:34.939Z"
    },
    "nbpresent": {
     "id": "4614541b-a02a-4bdf-9741-419bb6df71dc"
    }
   },
   "outputs": [
    {
     "data": {
      "text/plain": [
       "               _                           \n",
       "platform       x86_64-apple-darwin15.6.0   \n",
       "arch           x86_64                      \n",
       "os             darwin15.6.0                \n",
       "system         x86_64, darwin15.6.0        \n",
       "status                                     \n",
       "major          3                           \n",
       "minor          5.0                         \n",
       "year           2018                        \n",
       "month          04                          \n",
       "day            23                          \n",
       "svn rev        74626                       \n",
       "language       R                           \n",
       "version.string R version 3.5.0 (2018-04-23)\n",
       "nickname       Joy in Playing              "
      ]
     },
     "metadata": {},
     "output_type": "display_data"
    }
   ],
   "source": [
    "R.version"
   ]
  },
  {
   "cell_type": "code",
   "execution_count": 2,
   "metadata": {
    "ExecuteTime": {
     "end_time": "2018-06-25T23:42:49.004430Z",
     "start_time": "2018-06-25T23:42:48.993Z"
    },
    "nbpresent": {
     "id": "4c13ad3b-2227-4c81-8db9-b342e52d9adc"
    }
   },
   "outputs": [
    {
     "data": {
      "text/html": [
       "<span style=white-space:pre-wrap>'Working dir:  /Users/shua784/Dropbox/PNNL/Projects/Reach_scale_model'</span>"
      ],
      "text/latex": [
       "'Working dir:  /Users/shua784/Dropbox/PNNL/Projects/Reach\\_scale\\_model'"
      ],
      "text/markdown": [
       "<span style=white-space:pre-wrap>'Working dir:  /Users/shua784/Dropbox/PNNL/Projects/Reach_scale_model'</span>"
      ],
      "text/plain": [
       "[1] \"Working dir:  /Users/shua784/Dropbox/PNNL/Projects/Reach_scale_model\""
      ]
     },
     "metadata": {},
     "output_type": "display_data"
    }
   ],
   "source": [
    "setwd(\"/Users/shua784/Dropbox/PNNL/Projects/Reach_scale_model/\")\n",
    "paste(\"Working dir: \", getwd())"
   ]
  },
  {
   "cell_type": "code",
   "execution_count": 3,
   "metadata": {
    "ExecuteTime": {
     "end_time": "2018-06-25T23:43:06.349529Z",
     "start_time": "2018-06-25T23:42:55.654Z"
    },
    "nbpresent": {
     "id": "984ff92a-347e-4271-9714-ae7ca94de818"
    }
   },
   "outputs": [
    {
     "name": "stdout",
     "output_type": "stream",
     "text": [
      "\n",
      "The downloaded binary packages are in\n",
      "\t/var/folders/b_/kpbcrn3s4_1770_6k278969jd__sdl/T//RtmpOU0YCf/downloaded_packages\n"
     ]
    }
   ],
   "source": [
    "install.packages(\"pacman\")\n",
    "pacman::p_load(fields, AtmRay, maptools, raster, plot3D, rhdf5, scatterplot3d, akima, rgl, gtools, sp, ggplot2, \n",
    "               phylin, geoR, xts, signal) "
   ]
  },
  {
   "cell_type": "markdown",
   "metadata": {
    "nbpresent": {
     "id": "523a0e08-ce97-466d-a2db-46693871f8d5"
    }
   },
   "source": [
    "## I/O files"
   ]
  },
  {
   "cell_type": "code",
   "execution_count": 4,
   "metadata": {
    "ExecuteTime": {
     "end_time": "2018-06-25T23:43:26.936572Z",
     "start_time": "2018-06-25T23:43:26.898Z"
    },
    "nbpresent": {
     "id": "87cb7cc9-5635-4a83-aa58-efc2b218ec21"
    }
   },
   "outputs": [],
   "source": [
    "# inputs\n",
    "imodel=c(\"200x200x2\")\n",
    "model_dir = \"/Users/shua784/Dropbox/PNNL/Projects/Reach_scale_model/\"\n",
    "\n",
    "fname_geoFramework.r = paste(model_dir, \"results/geoframework_\", imodel, \".r\", sep = \"\")\n",
    "fname_wells.r = paste(model_dir,\"results/well_compiled_wl_data.r\", sep = \"\")\n",
    "fname.selected.wells.df = paste(model_dir, \"results/selected.wells.df_2007-01-01.r\", sep = \"\")\n",
    "\n",
    "fname_river.geo = paste(model_dir, \"data/river_geometry_manual.csv\", sep = \"\")\n",
    "\n",
    "# well data\n",
    "\n",
    "fname_mvAwln = paste(model_dir, \"data/well_data/mvAwln.csv\", sep = \"\") \n",
    "fname_mvAwln_id = paste(model_dir, \"data/well_data/mvAwln_wellID_updated.csv\", sep = \"\") \n",
    "fname_manual_wells_ids = paste(model_dir, \"data/well_data/HYDRAULIC_HEAD_MV_WellID.csv\", sep = \"\")  \n",
    "fname_manual_wells = paste(model_dir, \"data/well_data/HYDRAULIC_HEAD_MV.csv\", sep = \"\") \n",
    "fname_USGS_wells = paste(model_dir, \"data/well_data/Burns_well_data.csv\", sep = \"\")   \n",
    "fname_USGS_wells_ids = paste(model_dir, \"data/well_data/Burns_well_attributes.csv\", sep = \"\")     \n",
    "fname_SFA_wells = paste(model_dir, \"data/well_data/300A_Well_Data/\", sep = \"\")   \n",
    "fname_SFA_wells_ids = paste(model_dir, \"data/well_data/300A_well_coord.csv\", sep = \"\") \n",
    "fname_SFA_wells_all = paste(model_dir, \"data/well_data/SFA_all_wells.csv\", sep = \"\") \n",
    "\n",
    "# outputs\n",
    "is.plot = F\n",
    "\n",
    "fname_fig.initialH_idw = paste(model_dir, \"figures/initial_head_\", imodel, \"_smooth.jpg\", sep = \"\")\n",
    "\n",
    "fname_initial.h5 = paste(model_dir, \"Inputs/HFR_model_\", imodel, \"_head_bc\",\"/HFR_H_Initial.h5\", sep = \"\")\n",
    "fname_BC.h5 = paste(model_dir, \"Inputs/HFR_model_\", imodel, \"_head_bc\",\"/HFR_H_BC.h5\", sep = \"\")"
   ]
  },
  {
   "cell_type": "markdown",
   "metadata": {},
   "source": [
    "** `attach()` is a safety wrapper for `load()`, and it attached R object to search path. To see all attached variables, use `ls(pos = 2)`; to detach, use `detach(pos = 2)`.**"
   ]
  },
  {
   "cell_type": "code",
   "execution_count": 18,
   "metadata": {
    "ExecuteTime": {
     "end_time": "2018-06-26T19:03:57.004184Z",
     "start_time": "2018-06-26T19:03:51.244Z"
    },
    "nbpresent": {
     "id": "4057fe38-a644-43ba-845f-bafaa511891a"
    }
   },
   "outputs": [
    {
     "name": "stderr",
     "output_type": "stream",
     "text": [
      "The following object is masked _by_ .GlobalEnv:\n",
      "\n",
      "    fname_geoFramework.r\n",
      "\n"
     ]
    },
    {
     "data": {
      "text/html": [
       "<ol class=list-inline>\n",
       "\t<li>'angle'</li>\n",
       "\t<li>'basalt_data'</li>\n",
       "\t<li>'cells_basalt'</li>\n",
       "\t<li>'cells_cold_creek'</li>\n",
       "\t<li>'cells_hanford'</li>\n",
       "\t<li>'cells_model'</li>\n",
       "\t<li>'cells_proj'</li>\n",
       "\t<li>'cells_ringold_a'</li>\n",
       "\t<li>'cells_ringold_e'</li>\n",
       "\t<li>'cells_ringold_lm'</li>\n",
       "\t<li>'cells_river_bath'</li>\n",
       "\t<li>'cells_taylor_flats'</li>\n",
       "\t<li>'cold_creek_data'</li>\n",
       "\t<li>'dx'</li>\n",
       "\t<li>'dy'</li>\n",
       "\t<li>'dz'</li>\n",
       "\t<li>'east_x'</li>\n",
       "\t<li>'fname_ascii.r'</li>\n",
       "\t<li>'fname_basalt'</li>\n",
       "\t<li>'fname_cold_creek'</li>\n",
       "\t<li>'fname_fig.basalt2d'</li>\n",
       "\t<li>'fname_fig.basalt2d.model'</li>\n",
       "\t<li>'fname_fig.cold_creek_2d'</li>\n",
       "\t<li>'fname_fig.cold_creek_2d.model'</li>\n",
       "\t<li>'fname_fig.hanford2d'</li>\n",
       "\t<li>'fname_fig.hanford2d.model'</li>\n",
       "\t<li>'fname_fig.ringold_a_2d'</li>\n",
       "\t<li>'fname_fig.ringold_a_2d.model'</li>\n",
       "\t<li>'fname_fig.ringold_e_2d'</li>\n",
       "\t<li>'fname_fig.ringold_e_2d.model'</li>\n",
       "\t<li>'fname_fig.ringold_lm_2d'</li>\n",
       "\t<li>'fname_fig.ringold_lm_2d.model'</li>\n",
       "\t<li>'fname_fig.river_bath_2d'</li>\n",
       "\t<li>'fname_fig.river_bath_2d.model'</li>\n",
       "\t<li>'fname_fig.taylor_flats_2d'</li>\n",
       "\t<li>'fname_fig.taylor_flats_2d.model'</li>\n",
       "\t<li>'fname_geoFramework.r'</li>\n",
       "\t<li>'fname_hanford'</li>\n",
       "\t<li>'fname_model_inputs.r'</li>\n",
       "\t<li>'fname_ringold_a'</li>\n",
       "\t<li>'fname_ringold_e'</li>\n",
       "\t<li>'fname_ringold_lm'</li>\n",
       "\t<li>'fname_river_bath'</li>\n",
       "\t<li>'fname_taylor_flats'</li>\n",
       "\t<li>'hanford_data'</li>\n",
       "\t<li>'idx'</li>\n",
       "\t<li>'idy'</li>\n",
       "\t<li>'idz'</li>\n",
       "\t<li>'model_origin'</li>\n",
       "\t<li>'model_to_proj'</li>\n",
       "\t<li>'north_y'</li>\n",
       "\t<li>'nx'</li>\n",
       "\t<li>'ny'</li>\n",
       "\t<li>'nz'</li>\n",
       "\t<li>'plot.fig'</li>\n",
       "\t<li>'proj_to_model'</li>\n",
       "\t<li>'range_x'</li>\n",
       "\t<li>'range_y'</li>\n",
       "\t<li>'range_z'</li>\n",
       "\t<li>'ringold_a_data'</li>\n",
       "\t<li>'ringold_e_data'</li>\n",
       "\t<li>'ringold_lm_data'</li>\n",
       "\t<li>'river_bath_data'</li>\n",
       "\t<li>'south_y'</li>\n",
       "\t<li>'taylor_flats_data'</li>\n",
       "\t<li>'unit_x'</li>\n",
       "\t<li>'unit_y'</li>\n",
       "\t<li>'west_x'</li>\n",
       "\t<li>'x'</li>\n",
       "\t<li>'x0'</li>\n",
       "\t<li>'xlen'</li>\n",
       "\t<li>'y'</li>\n",
       "\t<li>'y0'</li>\n",
       "\t<li>'ylen'</li>\n",
       "\t<li>'z'</li>\n",
       "\t<li>'z0'</li>\n",
       "\t<li>'zlen'</li>\n",
       "</ol>\n"
      ],
      "text/latex": [
       "\\begin{enumerate*}\n",
       "\\item 'angle'\n",
       "\\item 'basalt\\_data'\n",
       "\\item 'cells\\_basalt'\n",
       "\\item 'cells\\_cold\\_creek'\n",
       "\\item 'cells\\_hanford'\n",
       "\\item 'cells\\_model'\n",
       "\\item 'cells\\_proj'\n",
       "\\item 'cells\\_ringold\\_a'\n",
       "\\item 'cells\\_ringold\\_e'\n",
       "\\item 'cells\\_ringold\\_lm'\n",
       "\\item 'cells\\_river\\_bath'\n",
       "\\item 'cells\\_taylor\\_flats'\n",
       "\\item 'cold\\_creek\\_data'\n",
       "\\item 'dx'\n",
       "\\item 'dy'\n",
       "\\item 'dz'\n",
       "\\item 'east\\_x'\n",
       "\\item 'fname\\_ascii.r'\n",
       "\\item 'fname\\_basalt'\n",
       "\\item 'fname\\_cold\\_creek'\n",
       "\\item 'fname\\_fig.basalt2d'\n",
       "\\item 'fname\\_fig.basalt2d.model'\n",
       "\\item 'fname\\_fig.cold\\_creek\\_2d'\n",
       "\\item 'fname\\_fig.cold\\_creek\\_2d.model'\n",
       "\\item 'fname\\_fig.hanford2d'\n",
       "\\item 'fname\\_fig.hanford2d.model'\n",
       "\\item 'fname\\_fig.ringold\\_a\\_2d'\n",
       "\\item 'fname\\_fig.ringold\\_a\\_2d.model'\n",
       "\\item 'fname\\_fig.ringold\\_e\\_2d'\n",
       "\\item 'fname\\_fig.ringold\\_e\\_2d.model'\n",
       "\\item 'fname\\_fig.ringold\\_lm\\_2d'\n",
       "\\item 'fname\\_fig.ringold\\_lm\\_2d.model'\n",
       "\\item 'fname\\_fig.river\\_bath\\_2d'\n",
       "\\item 'fname\\_fig.river\\_bath\\_2d.model'\n",
       "\\item 'fname\\_fig.taylor\\_flats\\_2d'\n",
       "\\item 'fname\\_fig.taylor\\_flats\\_2d.model'\n",
       "\\item 'fname\\_geoFramework.r'\n",
       "\\item 'fname\\_hanford'\n",
       "\\item 'fname\\_model\\_inputs.r'\n",
       "\\item 'fname\\_ringold\\_a'\n",
       "\\item 'fname\\_ringold\\_e'\n",
       "\\item 'fname\\_ringold\\_lm'\n",
       "\\item 'fname\\_river\\_bath'\n",
       "\\item 'fname\\_taylor\\_flats'\n",
       "\\item 'hanford\\_data'\n",
       "\\item 'idx'\n",
       "\\item 'idy'\n",
       "\\item 'idz'\n",
       "\\item 'model\\_origin'\n",
       "\\item 'model\\_to\\_proj'\n",
       "\\item 'north\\_y'\n",
       "\\item 'nx'\n",
       "\\item 'ny'\n",
       "\\item 'nz'\n",
       "\\item 'plot.fig'\n",
       "\\item 'proj\\_to\\_model'\n",
       "\\item 'range\\_x'\n",
       "\\item 'range\\_y'\n",
       "\\item 'range\\_z'\n",
       "\\item 'ringold\\_a\\_data'\n",
       "\\item 'ringold\\_e\\_data'\n",
       "\\item 'ringold\\_lm\\_data'\n",
       "\\item 'river\\_bath\\_data'\n",
       "\\item 'south\\_y'\n",
       "\\item 'taylor\\_flats\\_data'\n",
       "\\item 'unit\\_x'\n",
       "\\item 'unit\\_y'\n",
       "\\item 'west\\_x'\n",
       "\\item 'x'\n",
       "\\item 'x0'\n",
       "\\item 'xlen'\n",
       "\\item 'y'\n",
       "\\item 'y0'\n",
       "\\item 'ylen'\n",
       "\\item 'z'\n",
       "\\item 'z0'\n",
       "\\item 'zlen'\n",
       "\\end{enumerate*}\n"
      ],
      "text/markdown": [
       "1. 'angle'\n",
       "2. 'basalt_data'\n",
       "3. 'cells_basalt'\n",
       "4. 'cells_cold_creek'\n",
       "5. 'cells_hanford'\n",
       "6. 'cells_model'\n",
       "7. 'cells_proj'\n",
       "8. 'cells_ringold_a'\n",
       "9. 'cells_ringold_e'\n",
       "10. 'cells_ringold_lm'\n",
       "11. 'cells_river_bath'\n",
       "12. 'cells_taylor_flats'\n",
       "13. 'cold_creek_data'\n",
       "14. 'dx'\n",
       "15. 'dy'\n",
       "16. 'dz'\n",
       "17. 'east_x'\n",
       "18. 'fname_ascii.r'\n",
       "19. 'fname_basalt'\n",
       "20. 'fname_cold_creek'\n",
       "21. 'fname_fig.basalt2d'\n",
       "22. 'fname_fig.basalt2d.model'\n",
       "23. 'fname_fig.cold_creek_2d'\n",
       "24. 'fname_fig.cold_creek_2d.model'\n",
       "25. 'fname_fig.hanford2d'\n",
       "26. 'fname_fig.hanford2d.model'\n",
       "27. 'fname_fig.ringold_a_2d'\n",
       "28. 'fname_fig.ringold_a_2d.model'\n",
       "29. 'fname_fig.ringold_e_2d'\n",
       "30. 'fname_fig.ringold_e_2d.model'\n",
       "31. 'fname_fig.ringold_lm_2d'\n",
       "32. 'fname_fig.ringold_lm_2d.model'\n",
       "33. 'fname_fig.river_bath_2d'\n",
       "34. 'fname_fig.river_bath_2d.model'\n",
       "35. 'fname_fig.taylor_flats_2d'\n",
       "36. 'fname_fig.taylor_flats_2d.model'\n",
       "37. 'fname_geoFramework.r'\n",
       "38. 'fname_hanford'\n",
       "39. 'fname_model_inputs.r'\n",
       "40. 'fname_ringold_a'\n",
       "41. 'fname_ringold_e'\n",
       "42. 'fname_ringold_lm'\n",
       "43. 'fname_river_bath'\n",
       "44. 'fname_taylor_flats'\n",
       "45. 'hanford_data'\n",
       "46. 'idx'\n",
       "47. 'idy'\n",
       "48. 'idz'\n",
       "49. 'model_origin'\n",
       "50. 'model_to_proj'\n",
       "51. 'north_y'\n",
       "52. 'nx'\n",
       "53. 'ny'\n",
       "54. 'nz'\n",
       "55. 'plot.fig'\n",
       "56. 'proj_to_model'\n",
       "57. 'range_x'\n",
       "58. 'range_y'\n",
       "59. 'range_z'\n",
       "60. 'ringold_a_data'\n",
       "61. 'ringold_e_data'\n",
       "62. 'ringold_lm_data'\n",
       "63. 'river_bath_data'\n",
       "64. 'south_y'\n",
       "65. 'taylor_flats_data'\n",
       "66. 'unit_x'\n",
       "67. 'unit_y'\n",
       "68. 'west_x'\n",
       "69. 'x'\n",
       "70. 'x0'\n",
       "71. 'xlen'\n",
       "72. 'y'\n",
       "73. 'y0'\n",
       "74. 'ylen'\n",
       "75. 'z'\n",
       "76. 'z0'\n",
       "77. 'zlen'\n",
       "\n",
       "\n"
      ],
      "text/plain": [
       " [1] \"angle\"                           \"basalt_data\"                    \n",
       " [3] \"cells_basalt\"                    \"cells_cold_creek\"               \n",
       " [5] \"cells_hanford\"                   \"cells_model\"                    \n",
       " [7] \"cells_proj\"                      \"cells_ringold_a\"                \n",
       " [9] \"cells_ringold_e\"                 \"cells_ringold_lm\"               \n",
       "[11] \"cells_river_bath\"                \"cells_taylor_flats\"             \n",
       "[13] \"cold_creek_data\"                 \"dx\"                             \n",
       "[15] \"dy\"                              \"dz\"                             \n",
       "[17] \"east_x\"                          \"fname_ascii.r\"                  \n",
       "[19] \"fname_basalt\"                    \"fname_cold_creek\"               \n",
       "[21] \"fname_fig.basalt2d\"              \"fname_fig.basalt2d.model\"       \n",
       "[23] \"fname_fig.cold_creek_2d\"         \"fname_fig.cold_creek_2d.model\"  \n",
       "[25] \"fname_fig.hanford2d\"             \"fname_fig.hanford2d.model\"      \n",
       "[27] \"fname_fig.ringold_a_2d\"          \"fname_fig.ringold_a_2d.model\"   \n",
       "[29] \"fname_fig.ringold_e_2d\"          \"fname_fig.ringold_e_2d.model\"   \n",
       "[31] \"fname_fig.ringold_lm_2d\"         \"fname_fig.ringold_lm_2d.model\"  \n",
       "[33] \"fname_fig.river_bath_2d\"         \"fname_fig.river_bath_2d.model\"  \n",
       "[35] \"fname_fig.taylor_flats_2d\"       \"fname_fig.taylor_flats_2d.model\"\n",
       "[37] \"fname_geoFramework.r\"            \"fname_hanford\"                  \n",
       "[39] \"fname_model_inputs.r\"            \"fname_ringold_a\"                \n",
       "[41] \"fname_ringold_e\"                 \"fname_ringold_lm\"               \n",
       "[43] \"fname_river_bath\"                \"fname_taylor_flats\"             \n",
       "[45] \"hanford_data\"                    \"idx\"                            \n",
       "[47] \"idy\"                             \"idz\"                            \n",
       "[49] \"model_origin\"                    \"model_to_proj\"                  \n",
       "[51] \"north_y\"                         \"nx\"                             \n",
       "[53] \"ny\"                              \"nz\"                             \n",
       "[55] \"plot.fig\"                        \"proj_to_model\"                  \n",
       "[57] \"range_x\"                         \"range_y\"                        \n",
       "[59] \"range_z\"                         \"ringold_a_data\"                 \n",
       "[61] \"ringold_e_data\"                  \"ringold_lm_data\"                \n",
       "[63] \"river_bath_data\"                 \"south_y\"                        \n",
       "[65] \"taylor_flats_data\"               \"unit_x\"                         \n",
       "[67] \"unit_y\"                          \"west_x\"                         \n",
       "[69] \"x\"                               \"x0\"                             \n",
       "[71] \"xlen\"                            \"y\"                              \n",
       "[73] \"y0\"                              \"ylen\"                           \n",
       "[75] \"z\"                               \"z0\"                             \n",
       "[77] \"zlen\"                           "
      ]
     },
     "metadata": {},
     "output_type": "display_data"
    }
   ],
   "source": [
    "# load(fname_geoFramework.r)\n",
    "attach(fname_geoFramework.r)\n",
    "\n",
    "ls(pos = 2)"
   ]
  },
  {
   "cell_type": "code",
   "execution_count": 16,
   "metadata": {
    "ExecuteTime": {
     "end_time": "2018-06-26T19:03:33.988274Z",
     "start_time": "2018-06-26T19:03:33.978Z"
    }
   },
   "outputs": [],
   "source": [
    "detach(pos = 2)"
   ]
  },
  {
   "cell_type": "markdown",
   "metadata": {
    "nbpresent": {
     "id": "119bbe00-c4ce-487e-939f-32d8397a2851"
    }
   },
   "source": [
    "## model parameters\n"
   ]
  },
  {
   "cell_type": "code",
   "execution_count": 19,
   "metadata": {
    "ExecuteTime": {
     "end_time": "2018-06-26T19:05:15.518687Z",
     "start_time": "2018-06-26T19:05:15.483Z"
    },
    "nbpresent": {
     "id": "1c2ad3a7-334e-4d7d-ae99-c388a7c3cab4"
    }
   },
   "outputs": [],
   "source": [
    "## for grids\n",
    "grid.x = idx\n",
    "grid.y = idy\n",
    "grid.nx = nx\n",
    "grid.ny = ny\n",
    "# for domain\n",
    "\n",
    "pred.grid.south = expand.grid(seq(range_x[1]+grid.x/2,range_x[2],grid.x),range_y[1]+grid.y/2) # for South boundary\n",
    "pred.grid.north = expand.grid(seq(range_x[1]+grid.x/2,range_x[2],grid.x),range_y[2]-grid.y/2) # for North boundary\n",
    "pred.grid.west = expand.grid(range_x[1]+grid.x/2,seq(range_y[1]+grid.y/2,range_y[2],grid.y)) # for East boundary\n",
    "pred.grid.east = expand.grid(range_x[2]-grid.x/2,seq(range_y[1]+grid.y/2,range_y[2],grid.y)) # for West boundary\n",
    "pred.grid.domain = expand.grid(seq(range_x[1]+grid.x/2,range_x[2],grid.x),\n",
    "                               seq(range_y[1]+grid.y/2,range_y[2],grid.y)) # for domain\n",
    "colnames(pred.grid.south)=c('x','y')\n",
    "colnames(pred.grid.north)=c('x','y')\n",
    "colnames(pred.grid.east)=c('x','y')\n",
    "colnames(pred.grid.west)=c('x','y')\n",
    "colnames(pred.grid.domain)=c('x','y')\n"
   ]
  },
  {
   "cell_type": "code",
   "execution_count": 20,
   "metadata": {
    "ExecuteTime": {
     "end_time": "2018-06-26T19:05:25.767877Z",
     "start_time": "2018-06-26T19:05:25.729Z"
    },
    "nbpresent": {
     "id": "005605d9-07d4-4f25-bf35-e9d3343b2dbf"
    }
   },
   "outputs": [],
   "source": [
    "## time information\n",
    "start.time = as.POSIXct(\"2007-03-28 12:00:00\",tz=\"GMT\",format=\"%Y-%m-%d %H:%M:%S\")\n",
    "end.time = as.POSIXct(\"2015-12-31 00:00:00\",tz=\"GMT\",format=\"%Y-%m-%d %H:%M:%S\")\n",
    "\n",
    "dt = 3600  ##secs\n",
    "times = seq(start.time,end.time,dt)\n",
    "ntime = length(times)\n",
    "time.id = seq(0,ntime-1,dt/3600)  ##hourly boundary, why start from 0h?"
   ]
  },
  {
   "cell_type": "code",
   "execution_count": null,
   "metadata": {
    "nbpresent": {
     "id": "212b4881-3934-4e58-8950-d947e7bbb68f"
    }
   },
   "outputs": [],
   "source": [
    "BC.south = c()\n",
    "BC.north = c()\n",
    "BC.east = c()\n",
    "BC.west = c()\n",
    "avail.time.id = c()"
   ]
  },
  {
   "cell_type": "code",
   "execution_count": null,
   "metadata": {
    "nbpresent": {
     "id": "4232df57-9e1b-4fb6-91dd-ae05e129ad2d"
    }
   },
   "outputs": [],
   "source": [
    "range.xcoods = c(model_origin[1], model_origin[1] + xlen)\n",
    "range.ycoods = c(model_origin[2], model_origin[2] + ylen)"
   ]
  },
  {
   "cell_type": "markdown",
   "metadata": {
    "nbpresent": {
     "id": "daa1bd5c-3b63-4d8a-9b6d-b3579b65a312"
    }
   },
   "source": [
    "## load all well data"
   ]
  },
  {
   "cell_type": "code",
   "execution_count": null,
   "metadata": {
    "code_folding": [],
    "nbpresent": {
     "id": "173131a4-ef6f-4cb6-ab5f-b76f5dc6b8bf"
    }
   },
   "outputs": [],
   "source": [
    "# ##==================== read into well data ====================\n",
    "if (!file.exists(fname_wells.r)) {\n",
    "  \n",
    "\n",
    "mvAwln.id = read.csv(fname_mvAwln_id, stringsAsFactors = F)\n",
    "mvAwln = read.csv(fname_mvAwln, stringsAsFactors = F)\n",
    "mvAwln.id = transform(mvAwln.id,Easting = as.numeric(Easting),\n",
    "                      Northing = as.numeric(Northing))\n",
    "HEIS_auto_wells = subset(mvAwln, select = c(\"WellName\", \"WellNumber\", \"procWaterElevation\", \"procDate\"))\n",
    "HEIS_auto_wells = transform(HEIS_auto_wells, WellName = as.character(WellName),\n",
    "                   WellNumber = as.character(WellNumber),\n",
    "                   procWaterElevation = as.numeric(procWaterElevation),\n",
    "                   procDate = as.POSIXct(procDate))\n",
    "\n",
    "manual_wells_ids = read.csv(fname_manual_wells_ids, stringsAsFactors = F)\n",
    "manual_wells = read.csv(fname_manual_wells, stringsAsFactors = F)\n",
    "manual_wells = transform(manual_wells, HYD_DATE_TIME_PST = as.POSIXct(HYD_DATE_TIME_PST))\n",
    "\n",
    "# HEIS_auto_wells = mvAwln\n",
    "HEIS_auto_wells_ids = mvAwln.id\n",
    "HEIS_manual_wells = manual_wells\n",
    "colnames(HEIS_manual_wells)[1:4] = c(\"WellNumber\", \"WellName\", \"procDate\", \"procWaterElevation\")\n",
    "HEIS_manual_wells_ids = manual_wells_ids\n",
    "\n",
    "USGS_wells = read.csv(fname_USGS_wells, stringsAsFactors = F)\n",
    "USGS_wells_ids = read.csv(fname_USGS_wells_ids, stringsAsFactors = F)\n",
    "USGS_wells_ids = transform(USGS_wells_ids, CP_ID_NUM = as.character(CP_ID_NUM))\n",
    "USGS_wells = transform(USGS_wells, CP_NUM = as.character(CP_NUM), DATE = as.POSIXct(DATE))\n",
    "USGS_wells$WLELEVft88 = USGS_wells$WLELEVft88*0.3048 # convert ft to meter\n",
    "USGS_wells_ids$X_SP_83FT = USGS_wells_ids$X_SP_83FT*0.3048\n",
    "USGS_wells_ids$Y_SP_83FT = USGS_wells_ids$Y_SP_83FT*0.3048\n",
    "colnames(USGS_wells)[1:4] = c(\"WellNumber\", \"procDate\", \"Year_fract\", \"procWaterElevation\")\n",
    "colnames(USGS_wells_ids)[2:4] = c(\"WellNumber\", \"Easting\", \"Northing\")\n",
    "\n",
    "## select USGS wells\n",
    "USGS_wells_selected.names = USGS_wells_ids$WellNumber[which(USGS_wells_ids$Easting < range.xcoods[2] & USGS_wells_ids$Easting > range.xcoods[1] & \n",
    "                                                              USGS_wells_ids$Northing < range.ycoods[2] & USGS_wells_ids$Northing > range.ycoods[1])]\n",
    "USGS_wells_selected = data.frame(WellName = character(), Easting = numeric(), \n",
    "                                 Northing = numeric(), DateTime = as.POSIXct(character()), WL = numeric(), stringsAsFactors = F)\n",
    "\n",
    "for (iwell in USGS_wells_selected.names) {\n",
    "  \n",
    "  manual_well = USGS_wells[which(USGS_wells$WellNumber == iwell), ]\n",
    "  USGS_wells_selected = rbind(USGS_wells_selected, data.frame(WellNumber = manual_well$WellNumber, WL = manual_well$procWaterElevation,\n",
    "                                                              DateTime = manual_well$procDate,\n",
    "                                                              Easting = rep(USGS_wells_ids$Easting[which(USGS_wells_ids$WellNumber == iwell)], length(manual_well$WellNumber)),\n",
    "                                                              Northing = rep(USGS_wells_ids$Northing[which(USGS_wells_ids$WellNumber == iwell)], length(manual_well$WellNumber)),\n",
    "                                                              stringsAsFactors = F\n",
    "  ))\n",
    "  \n",
    "  \n",
    "}\n",
    "\n",
    "\n",
    "## SFA wells\n",
    "SFA_wells_ids = read.csv(fname_SFA_wells_ids, stringsAsFactors = F)\n",
    "colnames(SFA_wells_ids)[2] = c(\"WellName\")\n",
    "# SFA_wells_list=c(\"399-1-1_3var.csv\")\n",
    "# iwell = SFA_wells_list\n",
    "\n",
    "        if (!file.exists(fname_SFA_wells_all)) {\n",
    "          \n",
    "        SFA_wells = data.frame(WellName = as.character(), DateTime = as.POSIXct(character()),  Temp = numeric(),\n",
    "                               Spc = numeric(), WL = numeric(), stringsAsFactors = F)\n",
    "        SFA_wells_list = list.files(fname_SFA_wells)\n",
    "        for (iwell in SFA_wells_list) {\n",
    "          # iwell = \"399-1-1_3var.csv\"\n",
    "          iSFA_well = read.csv(paste(fname_SFA_wells, iwell, sep = \"\"), stringsAsFactors = F)\n",
    "          # iSFA_well = read.csv(paste(fname_SFA_wells, \"399-1-1_3var.csv\", sep = \"\"), stringsAsFactors = F)\n",
    "        \n",
    "           colnames(iSFA_well) = c(\"DateTime\", \"Temp\", \"Spc\", \"WL\")\n",
    "        \n",
    "           if (iwell %in% c(\"399-5-1_3var.csv\", \"399-3-19_3var.csv\" ) ) {\n",
    "             iSFA_well$DateTime = as.POSIXct(iSFA_well$DateTime, format = \"%m/%d/%y %H:%M\", tz = \"GMT\") ## time formate must agree with data-column\n",
    "        \n",
    "           } else {\n",
    "           iSFA_well$DateTime = as.POSIXct(iSFA_well$DateTime, format = \"%d-%b-%Y %H:%M:%S\", tz = \"GMT\") ## time formate must agree with data-column\n",
    "           }\n",
    "        \n",
    "          id_col = data.frame(WellName = rep(gsub(\"_3var.csv\", \"\", iwell), dim(iSFA_well)[1]), stringsAsFactors = F)\n",
    "          iSFA_well = cbind(id_col, iSFA_well)\n",
    "        \n",
    "          SFA_wells = rbind(SFA_wells, iSFA_well, stringsAsFactors =F)\n",
    "        }\n",
    "        \n",
    "        # as.POSIXct(strptime(SFA_wells$DateTime[2], \"%d-%b-%Y %H:%M:%S\"), format = \"%d-%m-%Y %H:%M:%S\", tz = \"GMT\")\n",
    "        # SFA_wells$DateTime = as.POSIXct(SFA_wells$DateTime, format = \"%d-%b-%Y %H:%M:%S\", tz = \"GMT\") ## time formate must agree with data-column\n",
    "        \n",
    "        write.csv(SFA_wells, file = \"/Users/shua784/Dropbox/PNNL/People/Velo/SFA_all_wells.csv\", row.names = F)\n",
    "        } else {\n",
    "          SFA_wells = read.csv(fname_SFA_wells_all, stringsAsFactors = F)\n",
    "          SFA_wells = transform(SFA_wells, DateTime = as.POSIXct(DateTime))\n",
    "        }\n",
    "\n",
    "\n",
    "\n",
    "save(list = c(\"HEIS_auto_wells\", \"HEIS_auto_wells_ids\", \"HEIS_manual_wells\", \"HEIS_manual_wells_ids\",\n",
    "              \"USGS_wells\", \"USGS_wells_ids\", \"USGS_wells_selected\", \"USGS_wells_selected.names\",\"SFA_wells\", \"SFA_wells_ids\"), file = fname_wells.r)\n",
    "\n",
    "} else {\n",
    "    \n",
    "load(fname_wells.r)\n",
    "print(\"well data loaded\")\n",
    "}"
   ]
  },
  {
   "cell_type": "markdown",
   "metadata": {
    "nbpresent": {
     "id": "0fd0e20c-4f16-4515-9295-c561e6e452d5"
    }
   },
   "source": [
    "## plot well data"
   ]
  },
  {
   "cell_type": "code",
   "execution_count": null,
   "metadata": {
    "code_folding": [],
    "nbpresent": {
     "id": "712a1226-f174-4093-b392-c4ec82b68bff"
    }
   },
   "outputs": [],
   "source": [
    "##-------------------- plot all USGS wells------------------------\n",
    "if (is.plot) {\n",
    "  \n",
    "\n",
    "USGS_wells_selected.names = USGS_wells_ids$WellNumber[which(USGS_wells_ids$Easting < range.xcoods[2] & USGS_wells_ids$Easting > range.xcoods[1] & \n",
    "                                                              USGS_wells_ids$Northing < range.ycoods[2] & USGS_wells_ids$Northing > range.ycoods[1])]\n",
    "USGS_wells_selected = data.frame(WellName = character(), Easting = numeric(), \n",
    "                                 Northing = numeric(), DateTime = as.POSIXct(character()), WL = numeric(), stringsAsFactors = F)\n",
    "start.time = as.POSIXct(\"1990-01-01 00:00:00\",tz=\"GMT\",format=\"%Y-%m-%d %H:%M:%S\")\n",
    "end.time = as.POSIXct(\"2011-01-01 00:00:00\",tz=\"GMT\",format=\"%Y-%m-%d %H:%M:%S\")\n",
    "jpeg(file=\"figures/USGS.wells.jpg\", width=12, height=16, units=\"in\", res=300)\n",
    "par(mar =c(4,4,1,1))\n",
    "plot(0,0,xlim=c(start.time, end.time), ylim = c(100, 305),type = \"n\", xlab = \"Date\", ylab = \"Water Level (m)\",\n",
    "     axes = F, cex=1.5)\n",
    "box()\n",
    "colors = rainbow(100)\n",
    "for (iwell in USGS_wells_selected.names) {\n",
    "  \n",
    "  manual_well = USGS_wells[which(USGS_wells$WellNumber == iwell), ]\n",
    "  USGS_wells_selected = rbind(USGS_wells_selected, data.frame(WellNumber = manual_well$WellNumber, WL = manual_well$procWaterElevation,\n",
    "                                                      DateTime = manual_well$procDate,\n",
    "                                                      Easting = rep(USGS_wells_ids$Easting[which(USGS_wells_ids$WellNumber == iwell)], length(manual_well$WellNumber)),\n",
    "                                                      Northing = rep(USGS_wells_ids$Northing[which(USGS_wells_ids$WellNumber == iwell)], length(manual_well$WellNumber)),\n",
    "                                                      stringsAsFactors = F\n",
    "  ))\n",
    "  \n",
    "  lines(manual_well$procDate, manual_well$procWaterElevation, col= sample(colors), lwd = 1 )\n",
    "  points(manual_well$procDate, manual_well$procWaterElevation, pch=1, cex=1)\n",
    "  axis.POSIXct(1,at=seq(as.Date(\"1990-01-01 00:00:00\",tz=\"GMT\"),\n",
    "                        to=as.Date(\"2011-01-01 00:00:00\",tz=\"GMT\"),by=\"quarter\"),\n",
    "               format=\"%m/%Y\",mgp=c(5,1.7,0),cex.axis=1)\n",
    "  axis(2,at=seq(100, 305, 5),mgp=c(5,0.7,0),cex.axis=1)\n",
    "  \n",
    "}\n",
    "dev.off()\n",
    "\n",
    "\n",
    "\n",
    "hist(USGS_wells_selected$DateTime, breaks = 1000, freq = T)\n",
    "\n",
    "##---------------------- plot all east wells----------------------------\n",
    "east.wells=c()\n",
    "pattern = c(glob2rx(\"15N*\"),glob2rx(\"14N*\"), glob2rx(\"13N*\"), glob2rx(\"12N*\"),glob2rx(\"11N*\"), glob2rx(\"10N*\"), glob2rx(\"09N*\"))\n",
    "east.wells = grep(paste(pattern,collapse = \"|\"), HEIS_manual_wells_ids$WELL_NAME, value = T)\n",
    "\n",
    "east.wells.data = data.frame(WellName = character(), Easting = numeric(), \n",
    "                            Northing = numeric(), DateTime = as.POSIXct(character()), WL = numeric(), stringsAsFactors = F)\n",
    "\n",
    "start.time = as.POSIXct(\"1990-01-01 00:00:00\",tz=\"GMT\",format=\"%Y-%m-%d %H:%M:%S\")\n",
    "end.time = as.POSIXct(\"2008-01-01 00:00:00\",tz=\"GMT\",format=\"%Y-%m-%d %H:%M:%S\")\n",
    "jpeg(file=\"figures/east.wells.jpg\", width=12, height=16, units=\"in\", res=300)\n",
    "par(mar =c(4,4,1,1))\n",
    "plot(0,0,xlim=c(start.time, end.time), ylim = c(150, 305),type = \"n\", xlab = \"Date\", ylab = \"Water Level (m)\",\n",
    "     axes = F, cex=1.5)\n",
    "box()\n",
    "colors = rainbow(100)\n",
    "for (iwell in east.wells) {\n",
    "  \n",
    "  manual_well = HEIS_manual_wells[which(HEIS_manual_wells$WellName == iwell), ]\n",
    "  east.wells.data = rbind(east.wells.data, data.frame(WellName = manual_well$WellName, WL = manual_well$procWaterElevation,\n",
    "                                                    DateTime = manual_well$procDate,\n",
    "                                                    Easting = rep(HEIS_manual_wells_ids$EASTING[which(HEIS_manual_wells_ids$WELL_NAME == iwell)], length(manual_well$WellName)),\n",
    "                                                    Northing = rep(HEIS_manual_wells_ids$NORTHING[which(HEIS_manual_wells_ids$WELL_NAME == iwell)], length(manual_well$WellName)),\n",
    "                                                    stringsAsFactors = F\n",
    "  ))\n",
    "  \n",
    "  lines(manual_well$procDate, manual_well$procWaterElevation, col= sample(colors), lwd = 1 )\n",
    "  points(manual_well$procDate, manual_well$procWaterElevation, pch=1, cex=1)\n",
    "  axis.POSIXct(1,at=seq(as.Date(\"1990-01-01 00:00:00\",tz=\"GMT\"),\n",
    "                        to=as.Date(\"2008-01-01 00:00:00\",tz=\"GMT\"),by=\"quarter\"),\n",
    "               format=\"%m/%Y\",mgp=c(5,1.7,0),cex.axis=1)\n",
    "  axis(2,at=seq(150, 305, 5),mgp=c(5,0.7,0),cex.axis=1)\n",
    "  \n",
    "  # date.range = range(manual_well$procDate)\n",
    "  # \n",
    "  # print(paste(iwell, \"has\", length(manual_well$procWaterElevation), \"obs. points\"))\n",
    "}\n",
    "dev.off()\n",
    "\n",
    "hist(east.wells.data$DateTime, breaks = 1000, freq = T)\n",
    "\n",
    "##---------------------- plot all HEIS manual wells--------------------\n",
    "\n",
    "\n",
    "start.time = as.POSIXct(\"1990-01-01 00:00:00\",tz=\"GMT\",format=\"%Y-%m-%d %H:%M:%S\")\n",
    "end.time = as.POSIXct(\"2017-01-01 00:00:00\",tz=\"GMT\",format=\"%Y-%m-%d %H:%M:%S\")\n",
    "jpeg(file=\"figures/all.manual.wells.jpg\", width=12, height=16, units=\"in\", res=300)\n",
    "par(mar =c(4,4,1,1))\n",
    "plot(0,0,xlim=c(start.time, end.time), ylim = c(100, 305),type = \"n\", xlab = \"Date\", ylab = \"Water Level (m)\",\n",
    "     axes = F, cex=1.5)\n",
    "box()\n",
    "colors = rainbow(100)\n",
    "for (iwell in well_names) {\n",
    "  \n",
    "  manual_well = HEIS_manual_wells[which(HEIS_manual_wells$WellName == iwell), ]\n",
    "  \n",
    "  lines(manual_well$procDate, manual_well$procWaterElevation, col= sample(colors), lwd = 1 )\n",
    "  points(manual_well$procDate, manual_well$procWaterElevation, pch=1, cex=1)\n",
    "  axis.POSIXct(1,at=seq(as.Date(\"1990-01-01 00:00:00\",tz=\"GMT\"),\n",
    "                        to=as.Date(\"2017-01-01 00:00:00\",tz=\"GMT\"),by=\"quarter\"),\n",
    "               format=\"%m/%Y\",mgp=c(5,1.7,0),cex.axis=1)\n",
    "  axis(2,at=seq(150, 305, 5),mgp=c(5,0.7,0),cex.axis=1)\n",
    "  \n",
    "}\n",
    "dev.off()\n",
    "\n",
    "hist.HEIS = hist(HEIS_manual_wells$procDate, breaks = 1000, freq = T)\n",
    "\n",
    "}"
   ]
  },
  {
   "cell_type": "markdown",
   "metadata": {
    "nbpresent": {
     "id": "2792b310-4066-4105-8bca-503efe6f3653"
    }
   },
   "source": [
    "## Select well data within timeframe "
   ]
  },
  {
   "cell_type": "code",
   "execution_count": null,
   "metadata": {
    "code_folding": [],
    "nbpresent": {
     "id": "fb7a2820-96e2-470e-843d-7201531a03b7"
    }
   },
   "outputs": [],
   "source": [
    "##---------------------------select wells with data at each time stamp-----------------------\n",
    "if (!file.exists(fname.selected.wells.df)) {\n",
    "  "
   ]
  },
  {
   "cell_type": "code",
   "execution_count": null,
   "metadata": {
    "code_folding": [],
    "nbpresent": {
     "id": "fb7a2820-96e2-470e-843d-7201531a03b7"
    }
   },
   "outputs": [],
   "source": [
    "## create empty matrix with Colclasses defined\n",
    "\n",
    "# initial.time = as.POSIXct(\"2005-03-29 12:00:00\",tz=\"GMT\",format=\"%Y-%m-%d %H:%M:%S\")\n",
    "# initial.time = as.POSIXct(\"2007-03-28 12:00:00\",tz=\"GMT\",format=\"%Y-%m-%d %H:%M:%S\")\n",
    "initial.time = as.POSIXct(\"2007-04-01 00:00:00\",tz=\"GMT\",format=\"%Y-%m-%d %H:%M:%S\")\n",
    "# times = initial.time\n",
    "\n",
    "# min.time = as.POSIXct(\"2005-01-01 00:00:00\",tz=\"GMT\",format=\"%Y-%m-%d %H:%M:%S\")\n",
    "# max.time = as.POSIXct(\"2010-01-01 00:00:00\",tz=\"GMT\",format=\"%Y-%m-%d %H:%M:%S\")\n",
    "\n",
    "# times = seq(min.time, max.time, by = 30*86400)\n",
    "# times = seq(min.time, max.time, by = \"month\")\n",
    "# well_names = unique(HEIS_manual_wells_ids$WELL_NAME)\n",
    "\n",
    "# USGS_wells_selected.names = USGS_wells_ids$WellNumber[which(USGS_wells_ids$Easting < range.xcoods[2] & USGS_wells_ids$Easting > range.xcoods[1] & \n",
    "#                                                               USGS_wells_ids$Northing < range.ycoods[2] & USGS_wells_ids$Northing > range.ycoods[1])]\n",
    "\n",
    "\n",
    "well_names = c(unique(HEIS_manual_wells_ids$WELL_NAME), unique(USGS_wells_selected.names), unique(SFA_wells_ids$WellName))\n",
    "\n",
    "well_names = unique(well_names)\n",
    "# well_names = c(unique(SFA_wells_ids$WellName)[27:48])\n",
    "\n",
    "# time_mar = 1*24*3600 #1 day range\n",
    "time_mar = 15*86400 #15 day range\n",
    "\n",
    "# times=times[1]\n",
    "times = initial.time\n",
    "# itime = times"
   ]
  },
  {
   "cell_type": "code",
   "execution_count": null,
   "metadata": {
    "code_folding": [],
    "nbpresent": {
     "id": "fb7a2820-96e2-470e-843d-7201531a03b7"
    }
   },
   "outputs": [],
   "source": [
    "for (i in 1:length(times)) {\n",
    "  itime = times[i]\n",
    "  \n",
    "  print(itime)\n",
    "  selected.wells = data.frame(WellName = character(),  WellNumber = character(),\n",
    "                              Easting = numeric(), \n",
    "                              Northing = numeric(), DateTime = as.POSIXct(character()), WL = numeric(), stringsAsFactors = F)\n",
    "  \n",
    "\n",
    "    # well_names = c(\"699-39-79\", \"199-D3-2\", \"199-B2-12\", \"399-5-1\")\n",
    "      # well_names = c(\"399-1-1\")\n",
    "      for (iwell in well_names) {\n",
    "        \n",
    "        # iwell = c(\"199-B2-12\")\n",
    "        # iwell = c(\"199-D3-2\")\n",
    "\n",
    "        if (iwell %in% SFA_wells$WellName) {\n",
    "#           print(paste(iwell, \"(SFA)\"))\n",
    "          manual_well = SFA_wells[which(SFA_wells$WellName == iwell), ]\n",
    "          index = which.min(abs(as.numeric(manual_well$DateTime - itime)))\n",
    "          DateTime = manual_well$DateTime[index]\n",
    "\n",
    "              if (DateTime == itime) {\n",
    "                WL = manual_well$WL[index]\n",
    "                selected.wells = rbind(selected.wells, data.frame(WellName = manual_well$WellName[index],\n",
    "                                                                  WellNumber = manual_well$WellName[index],\n",
    "                                                                  WL = WL,\n",
    "                                                                  DateTime = DateTime,\n",
    "                                                                  Easting = SFA_wells_ids$Easting[which(SFA_wells_ids$WellName == iwell)],\n",
    "                                                                  Northing = SFA_wells_ids$Northing[which(SFA_wells_ids$WellName == iwell)],\n",
    "                                                                  stringsAsFactors = F\n",
    "                ))\n",
    "              } else if (DateTime < itime + time_mar & DateTime > itime - time_mar) {\n",
    "                print(paste(iwell,\"has wl within 1day of itime (SFA well)\"))\n",
    "                WLs = manual_well$WL[which(manual_well$DateTime <itime + time_mar & manual_well$DateTime > itime - time_mar)]\n",
    "                WL = median(WLs)\n",
    "                selected.wells = rbind(selected.wells, data.frame(WellName = manual_well$WellName[index],\n",
    "                                                                  WellNumber = manual_well$WellName[index],\n",
    "                                                                  WL = WL,\n",
    "                                                                  DateTime = DateTime,\n",
    "                                                                  Easting = SFA_wells_ids$Easting[which(SFA_wells_ids$WellName == iwell)],\n",
    "                                                                  Northing = SFA_wells_ids$Northing[which(SFA_wells_ids$WellName == iwell)],\n",
    "                                                                  stringsAsFactors = F\n",
    "                ))\n",
    "              }\n",
    "        } else if (iwell %in% HEIS_auto_wells$WellName) {\n",
    "          # print(paste(iwell, \"(mvAwln)\"))\n",
    "          auto_well = HEIS_auto_wells[which(HEIS_auto_wells$WellName == iwell), ]\n",
    "          index = which.min(abs(as.numeric(auto_well$procDate - itime)))\n",
    "          DateTime = auto_well$procDate[index]\n",
    "          \n",
    "              ## find wells having data within given time range\n",
    "              if (DateTime == itime) {\n",
    "                WL = auto_well$procWaterElevation[index]\n",
    "                selected.wells = rbind(selected.wells, data.frame(WellName = auto_well$WellName[index],\n",
    "                                                                  WellNumber = auto_well$WellNumber[index],\n",
    "                                                                  WL = WL,\n",
    "                                                                  DateTime = DateTime,\n",
    "                                                                  Easting = HEIS_manual_wells_ids$EASTING[which(HEIS_manual_wells_ids$WELL_NAME == iwell)],\n",
    "                                                                  Northing = HEIS_manual_wells_ids$NORTHING[which(HEIS_manual_wells_ids$WELL_NAME == iwell)],\n",
    "                                                                  stringsAsFactors = F\n",
    "                ))\n",
    "              } else if (DateTime < itime + time_mar & DateTime > itime - time_mar) {\n",
    "                print(paste(iwell,\"has wl within 1day of itime (mvAwln well)\"))\n",
    "                WLs = auto_well$procWaterElevation[which(auto_well$procDate <itime + time_mar & auto_well$procDate > itime - time_mar)]\n",
    "                WL = median(WLs)\n",
    "                selected.wells = rbind(selected.wells, data.frame(WellName = auto_well$WellName[index],\n",
    "                                                                  WellNumber = auto_well$WellNumber[index],\n",
    "                                                                  WL = WL,\n",
    "                                                                  DateTime = DateTime,\n",
    "                                                                  Easting = HEIS_manual_wells_ids$EASTING[which(HEIS_manual_wells_ids$WELL_NAME == iwell)],\n",
    "                                                                  Northing = HEIS_manual_wells_ids$NORTHING[which(HEIS_manual_wells_ids$WELL_NAME == iwell)],\n",
    "                                                                  stringsAsFactors = F\n",
    "                ))\n",
    "                }\n",
    "\n",
    "        } else if (iwell %in% HEIS_manual_wells$WellName) {\n",
    "          # print(paste(iwell, \"(HEIS manual)\"))\n",
    "          manual_well = HEIS_manual_wells[which(HEIS_manual_wells$WellName == iwell), ]\n",
    "          index = which.min(abs(as.numeric(manual_well$procDate - itime)))\n",
    "          DateTime = manual_well$procDate[index]\n",
    "          \n",
    "              if (DateTime == itime) {\n",
    "                WL = manual_well$procWaterElevation[index]\n",
    "                selected.wells = rbind(selected.wells, data.frame(WellName = manual_well$WellName[index],\n",
    "                                                                  WellNumber = manual_well$WellNumber[index],\n",
    "                                                                  WL = WL,\n",
    "                                                                  DateTime = DateTime,\n",
    "                                                                  Easting = HEIS_manual_wells_ids$EASTING[which(HEIS_manual_wells_ids$WELL_NAME == iwell)],\n",
    "                                                                  Northing = HEIS_manual_wells_ids$NORTHING[which(HEIS_manual_wells_ids$WELL_NAME == iwell)],\n",
    "                                                                  stringsAsFactors = F\n",
    "                ))\n",
    "              } else if (DateTime < itime + time_mar & DateTime > itime - time_mar) {\n",
    "                print(paste(iwell,\"has wl within 1day of itime (manual well)\"))\n",
    "                WLs = manual_well$procWaterElevation[which(manual_well$procDate <itime + time_mar & manual_well$procDate > itime - time_mar)]\n",
    "                WL = median(WLs)\n",
    "                selected.wells = rbind(selected.wells, data.frame(WellName = manual_well$WellName[index],\n",
    "                                                                  WellNumber = manual_well$WellNumber[index],\n",
    "                                                                  WL = WL,\n",
    "                                                                  DateTime = DateTime,\n",
    "                                                                  Easting = HEIS_manual_wells_ids$EASTING[which(HEIS_manual_wells_ids$WELL_NAME == iwell)],\n",
    "                                                                  Northing = HEIS_manual_wells_ids$NORTHING[which(HEIS_manual_wells_ids$WELL_NAME == iwell)],\n",
    "                                                                  stringsAsFactors = F\n",
    "                ))\n",
    "              }\n",
    "        } else if (iwell %in% USGS_wells_selected$WellNumber) {\n",
    "          # print(paste(iwell, \"(USGS)\"))\n",
    "          manual_well = USGS_wells_selected[which(USGS_wells_selected$WellNumber == iwell), ]\n",
    "          index = which.min(abs(as.numeric(manual_well$DateTime - itime)))\n",
    "          DateTime = manual_well$DateTime[index]\n",
    "          \n",
    "              if (DateTime == itime) {\n",
    "                WL = manual_well$WL[index]\n",
    "                selected.wells = rbind(selected.wells, data.frame(WellName = manual_well$WellNumber[index],\n",
    "                                                                  WellNumber = manual_well$WellNumber[index],\n",
    "                                                                  WL = WL,\n",
    "                                                                  DateTime = DateTime,\n",
    "                                                                  Easting = USGS_wells_selected$Easting[index],\n",
    "                                                                  Northing = USGS_wells_selected$Northing[index],\n",
    "                                                                  stringsAsFactors = F\n",
    "                ))\n",
    "              } else if (DateTime < itime + time_mar & DateTime > itime - time_mar) {\n",
    "                print(paste(iwell,\"has wl within 1day of itime (USGS well)\"))\n",
    "                WLs = manual_well$WL[which(manual_well$DateTime <itime + time_mar & manual_well$DateTime > itime - time_mar)]\n",
    "                WL = median(WLs)\n",
    "                selected.wells = rbind(selected.wells, data.frame(WellName = manual_well$WellNumber[index],\n",
    "                                                                  WellNumber = manual_well$WellNumber[index],\n",
    "                                                                  WL = WL,\n",
    "                                                                  DateTime = DateTime,\n",
    "                                                                  Easting = USGS_wells_selected$Easting[index],\n",
    "                                                                  Northing = USGS_wells_selected$Northing[index],\n",
    "                                                                  stringsAsFactors = F\n",
    "                ))\n",
    "              }\n",
    "            } else {\n",
    "            print(paste(\"no well data availabe for \", iwell))\n",
    "        }\n",
    "        ## sample wells from SFA data\n",
    "\n",
    "      } \n",
    "\n",
    "    write.csv(selected.wells, file = \"results/selected_wells_040107.csv\", row.names = FALSE)\n",
    "\n",
    "\n",
    "    selected.wells.unique = selected.wells[!duplicated(selected.wells$WellName), ] # remove duplicated wellNames\n",
    "    selected.wells.unique = selected.wells[!duplicated(selected.wells$Easting), ] # remove duplicated well coords\n",
    "    selected.wells.unique = selected.wells.unique[complete.cases(selected.wells.unique), ] # remove rows contain NAs\n",
    "\n",
    "    selected.wells.df = data.frame(x=selected.wells.unique$Easting, y=selected.wells.unique$Northing, z = selected.wells.unique$WL)\n",
    "    # colnames(data) = c('x','y','z')\n",
    "    selected.wells.df = selected.wells.df[order(selected.wells.df$x),]\n",
    "\n",
    "\n",
    "    # save(selected.wells.df, file = \"results/selected.wells.df_2007-4-1.r\") \n",
    "    # ##----------------------- plot well head----------------------\n",
    "    #         # save(selected.wells.df, file = \"results/inital_data_coords.r\")\n",
    "    #         \n",
    "    #         \n",
    "    #         plot(selected.wells.df$x, selected.wells.df$y, asp = 1)\n",
    "    #         # par(mfrow = c(2, 1))\n",
    "            # s= interp(selected.wells.df$x, selected.wells.df$y, selected.wells.df$z, duplicate = \"strip\", nx=100, ny=100)\n",
    "            # jpeg(paste(\"figures/\", initial.time, \".jpg\", sep = \"\"), width=8,height=8,units='in',res=300,quality=100)\n",
    "            # image2D(s, shade=0.2, rasterImage = F, NAcol = \"gray\",\n",
    "            #         main = paste(initial.time, \"inital head (contour)\"), asp = 1, contour = T, add = F\n",
    "                   )\n",
    "    # \n",
    "    #        \n",
    "            # points(selected.wells.df$x, selected.wells.df$y, col = \"white\", pch = 1)\n",
    "    #         # dev.off()\n",
    "\n",
    "    # load(\"results/inital_data_coords.r\")\n",
    "\n",
    "    # selected.wells.df = data\n",
    "\n",
    "   \n",
    "\n",
    "\n",
    "    }   "
   ]
  },
  {
   "cell_type": "code",
   "execution_count": null,
   "metadata": {
    "code_folding": [],
    "nbpresent": {
     "id": "fb7a2820-96e2-470e-843d-7201531a03b7"
    }
   },
   "outputs": [],
   "source": [
    "save(selected.wells.df, file = fname.selected.wells.df) "
   ]
  },
  {
   "cell_type": "markdown",
   "metadata": {
    "nbpresent": {
     "id": "97a53cbb-feb4-401e-ac31-96ddaf647535"
    }
   },
   "source": [
    "## load selected wells and interpolate for initial head"
   ]
  },
  {
   "cell_type": "code",
   "execution_count": 2,
   "metadata": {
    "ExecuteTime": {
     "end_time": "2018-06-19T17:31:53.319452Z",
     "start_time": "2018-06-19T17:31:53.303Z"
    },
    "nbpresent": {
     "id": "65e77daf-2729-4dd7-bc22-5c0b66f993b5"
    }
   },
   "outputs": [],
   "source": [
    "load(fname.selected.wells.df)"
   ]
  },
  {
   "cell_type": "markdown",
   "metadata": {
    "code_folding": [],
    "nbpresent": {
     "id": "af74f030-d4dc-4d02-80b5-521205d8c1d9"
    }
   },
   "source": [
    "**use inverse distance interpolation**"
   ]
  },
  {
   "cell_type": "code",
   "execution_count": null,
   "metadata": {
    "code_folding": [],
    "nbpresent": {
     "id": "af74f030-d4dc-4d02-80b5-521205d8c1d9"
    }
   },
   "outputs": [],
   "source": [
    "# expand points to grid\n",
    "grd = expand.grid(unit_x, unit_y)\n",
    "\n",
    "# save(grd, file = \"results/model_grids.r\")\n",
    "\n",
    "idw.interp = idw(values=selected.wells.df[,\"z\"],\n",
    "                 coords = selected.wells.df[,c(\"x\",\"y\")],\n",
    "                 grid=grd,\n",
    "                 method=\"shepard\",\n",
    "                 p=2)\n",
    "idw.interp = as.numeric(unlist(idw.interp))\n",
    "\n",
    "h.initial = array(idw.interp, c(nx, ny))\n",
    "\n",
    "river.geometry = read.csv(fname_river.geo)\n",
    "\n",
    "river.geometry = river.geometry[, 2:3]\n",
    "\n",
    "itime = start.time"
   ]
  },
  {
   "cell_type": "code",
   "execution_count": null,
   "metadata": {
    "code_folding": [],
    "nbpresent": {
     "id": "af74f030-d4dc-4d02-80b5-521205d8c1d9"
    }
   },
   "outputs": [],
   "source": [
    "jpeg(fname_fig.initialH_idw, width=8,height=8,units='in',res=300,quality=100)\n",
    "# plot(selected.wells.df$x, selected.wells.df$y, col = \"black\", pch = 1, asp=1, xlim = c(x.range[1], x.range[2]))\n",
    "head4plot = h.initial\n",
    "head4plot[head4plot>200]=200\n",
    "image2D(z= head4plot, x= unit_x, y= unit_y, shade=0.2, rasterImage = F, NAcol = \"white\",\n",
    "        main = paste(\"Initial Head\", itime), asp = 1, contour = T, zlim = c(100, 200), xlab = \"Easting\", ylab = \"Northing\")\n",
    "points(selected.wells.df$x, selected.wells.df$y, col = \"white\", pch = 1, asp=1)\n",
    "polygon(river.geometry$x, river.geometry$y, border = \"gray\", asp=1)\n",
    "\n",
    "dev.off()"
   ]
  },
  {
   "cell_type": "markdown",
   "metadata": {
    "nbpresent": {
     "id": "e4347697-e359-42b0-a2e9-9898ffbbb899"
    }
   },
   "source": [
    "## interpolate for BC head"
   ]
  },
  {
   "cell_type": "code",
   "execution_count": null,
   "metadata": {
    "nbpresent": {
     "id": "68a7d7f1-a54c-4937-9c5f-c7bec64342d0"
    }
   },
   "outputs": [],
   "source": [
    "## add constant head to inland bc\n",
    "  grd.east = data.frame(x = pred.grid.east$x + model_origin[1], y = pred.grid.east$y + model_origin[2])\n",
    "  grd.west = data.frame(x = pred.grid.west$x + model_origin[1], y = pred.grid.west$y + model_origin[2])\n",
    "  grd.north = data.frame(x = pred.grid.north$x + model_origin[1], y = pred.grid.north$y + model_origin[2])\n",
    "  grd.south = data.frame(x = pred.grid.south$x + model_origin[1], y = pred.grid.south$y + model_origin[2])"
   ]
  },
  {
   "cell_type": "code",
   "execution_count": null,
   "metadata": {
    "nbpresent": {
     "id": "55543c11-a47a-4e44-bd36-c0ee5234fa59"
    }
   },
   "outputs": [],
   "source": [
    "idw.interp.east = idw(values=selected.wells.df[,\"z\"],\n",
    "                   coords = selected.wells.df[,c(\"x\",\"y\")],\n",
    "                   grid=grd.east,\n",
    "                   method=\"shepard\",\n",
    "                   p=2)\n",
    "  idw.interp.east = as.numeric(unlist(idw.interp.east))\n",
    "  BC.east = array(idw.interp.east, c(1, ny))\n",
    "  \n",
    "  idw.interp.west = idw(values=selected.wells.df[,\"z\"],\n",
    "                        coords = selected.wells.df[,c(\"x\",\"y\")],\n",
    "                        grid=grd.west,\n",
    "                        method=\"shepard\",\n",
    "                        p=2)\n",
    "  idw.interp.west = as.numeric(unlist(idw.interp.west))\n",
    "  BC.west = array(idw.interp.west, c(1, ny))\n",
    "  \n",
    "  idw.interp.north = idw(values=selected.wells.df[,\"z\"],\n",
    "                        coords = selected.wells.df[,c(\"x\",\"y\")],\n",
    "                        grid=grd.north,\n",
    "                        method=\"shepard\",\n",
    "                        p=2)\n",
    "  idw.interp.north = as.numeric(unlist(idw.interp.north))\n",
    "  BC.north = array(idw.interp.north, c(1, ny))\n",
    "  \n",
    "  idw.interp.south = idw(values=selected.wells.df[,\"z\"],\n",
    "                        coords = selected.wells.df[,c(\"x\",\"y\")],\n",
    "                        grid=grd.south,\n",
    "                        method=\"shepard\",\n",
    "                        p=2)\n",
    "  idw.interp.south = as.numeric(unlist(idw.interp.south))\n",
    "  BC.south = array(idw.interp.south, c(1, ny))"
   ]
  },
  {
   "cell_type": "markdown",
   "metadata": {},
   "source": [
    "## generate smoothed initial head using Mass1 water level"
   ]
  },
  {
   "cell_type": "code",
   "execution_count": null,
   "metadata": {},
   "outputs": [],
   "source": [
    "bc.df = grd.east\n",
    "bc.df[\"z\"] = idw.interp.east\n",
    "\n",
    "idf = grd.west\n",
    "idf[\"z\"] = idw.interp.west\n",
    "bc.df = rbind(bc.df, idf)\n",
    "\n",
    "idf = grd.north\n",
    "idf[\"z\"] = idw.interp.north\n",
    "bc.df = rbind(bc.df, idf)\n",
    "\n",
    "idf = grd.south\n",
    "idf[\"z\"] = idw.interp.south\n",
    "bc.df = rbind(bc.df, idf)\n",
    "\n",
    "mass.info = read.csv(fname_mass.info)\n",
    "mass.info.sub = subset(mass.info, select= c(easting, northing, max_wl))\n",
    "names(mass.info.sub) = c(\"x\", \"y\", \"z\")\n",
    "\n",
    "bc.df = rbind(bc.df, mass.info.sub)\n",
    "\n",
    "idw.interp = idw(values = bc.df[,\"z\"],\n",
    "               coords = bc.df[,c(\"x\",\"y\")],\n",
    "               grid=grd,\n",
    "               method=\"shepard\",\n",
    "               p=2)\n",
    "idw.interp = as.numeric(unlist(idw.interp))\n",
    "\n",
    "h.initial.smooth = array(idw.interp, c(nx, ny))"
   ]
  },
  {
   "cell_type": "code",
   "execution_count": null,
   "metadata": {},
   "outputs": [],
   "source": [
    "jpeg(\"figures/h_initial_smooth_040107.jpg\", width=8,height=8,units='in',res=300,quality=100)\n",
    "\n",
    "head4plot = h.initial.smooth\n",
    "head4plot[head4plot>200]=200\n",
    "image2D(z= head4plot, x= unit_x, y= unit_y, shade=0, rasterImage = T, NAcol = \"grey\",\n",
    "      main = paste(\"Initial Head\", initial.time), asp = 1, contour = T, zlim = c(100, 200), xlab = \"Easting\", ylab = \"Northing\")\n",
    "points(bc.df$x, bc.df$y, col = \"white\", pch = 1, asp=1)\n",
    "polygon(river.geometry$x, river.geometry$y, border = \"gray\", asp=1)\n",
    "\n",
    "dev.off()"
   ]
  },
  {
   "cell_type": "markdown",
   "metadata": {
    "nbpresent": {
     "id": "1fb0ccb8-4bfc-4913-b181-f1024188ab1e"
    }
   },
   "source": [
    "# generate H5 output"
   ]
  },
  {
   "cell_type": "markdown",
   "metadata": {
    "nbpresent": {
     "id": "028f7c3b-19dd-407f-b20f-5be2187c6f38"
    }
   },
   "source": [
    "## initial_h5"
   ]
  },
  {
   "cell_type": "code",
   "execution_count": null,
   "metadata": {
    "nbpresent": {
     "id": "36688026-de01-4e27-84ef-92fdf015a59a"
    }
   },
   "outputs": [],
   "source": [
    "##Generate the initial condition hdf5 file for the domain.\n",
    "if (file.exists(fname_initial.h5)) {\n",
    "    file.remove(fname_initial.h5)\n",
    "}\n",
    "h5createFile(fname_initial.h5)\n",
    "h5createGroup(fname_initial.h5,'Initial_Head')\n",
    "\n",
    "h5write(t(h.initial),fname_initial.h5, ## why tranpose? to match HDF5 format\n",
    "        'Initial_Head/Data',level=0)\n",
    "fid = H5Fopen(fname_initial.h5)\n",
    "h5g = H5Gopen(fid,'/Initial_Head')\n",
    "h5writeAttribute(attr = 1.0, h5obj = h5g, name = 'Cell Centered')\n",
    "h5writeAttribute.character(attr = \"XY\", h5obj = h5g, name = 'Dimension')\n",
    "h5writeAttribute(attr = c(idx, idy), h5obj = h5g, name = 'Discretization')\n",
    "h5writeAttribute(attr = 500.0, h5obj = h5g, name = 'Max Buffer Size')\n",
    "h5writeAttribute(attr = c(0, 0), h5obj = h5g, name = 'Origin') \n",
    "H5Gclose(h5g)\n",
    "H5Fclose(fid)"
   ]
  },
  {
   "cell_type": "markdown",
   "metadata": {
    "nbpresent": {
     "id": "52da6232-c039-45d0-b718-4346d356589d"
    }
   },
   "source": [
    "## BC_h5"
   ]
  },
  {
   "cell_type": "code",
   "execution_count": null,
   "metadata": {
    "nbpresent": {
     "id": "589792f1-4cd8-4316-86e8-c26d68112c0b"
    }
   },
   "outputs": [],
   "source": [
    "##=================Generate the BC hdf5 file===========================.\n",
    "\n",
    "# time.id = as.integer(time.id) \n",
    "time.id = as.integer(0) \n",
    "\n",
    "if (file.exists(fname.BC.h5)) {\n",
    "    file.remove(fname.BC.h5)\n",
    "}\n",
    "\n",
    "h5createFile(fname.BC.h5)\n",
    "\n",
    "### write data\n",
    "h5createGroup(fname.BC.h5,'BC_South')\n",
    "h5write(time.id, fname.BC.h5,'BC_South/Times',level=0)\n",
    "h5write(BC.south, fname.BC.h5,'BC_South/Data',level=0)\n",
    "\n",
    "h5createGroup(fname.BC.h5,'BC_North')\n",
    "h5write(time.id,fname.BC.h5,'BC_North/Times',level=0)\n",
    "h5write(BC.north,fname.BC.h5,'BC_North/Data',level=0)\n",
    "\n",
    "h5createGroup(fname.BC.h5,'BC_East')\n",
    "h5write(time.id,fname.BC.h5,'BC_East/Times',level=0)\n",
    "h5write(BC.east,fname.BC.h5,'BC_East/Data',level=0)\n",
    "\n",
    "h5createGroup(fname.BC.h5,'BC_West')\n",
    "h5write(time.id,fname.BC.h5,'BC_West/Times',level=0)\n",
    "h5write(BC.west,fname.BC.h5,'BC_West/Data',level=0)\n",
    "\n",
    "### write attribute\n",
    "fid = H5Fopen(fname.BC.h5)\n",
    "h5g.south = H5Gopen(fid,'/BC_South')\n",
    "h5g.north = H5Gopen(fid,'/BC_North')\n",
    "h5g.east = H5Gopen(fid,'/BC_East')\n",
    "h5g.west = H5Gopen(fid,'/BC_West')\n",
    "\n",
    "\n",
    "h5writeAttribute(attr = 1.0, h5obj = h5g.south, name = 'Cell Centered')\n",
    "h5writeAttribute(attr = 'X', h5obj = h5g.south, name = 'Dimension')\n",
    "h5writeAttribute(attr = grid.x, h5obj = h5g.south, name = 'Discretization')\n",
    "h5writeAttribute(attr = 200.0, h5obj = h5g.south, name = 'Max Buffer Size')\n",
    "h5writeAttribute(attr = range_x[1], h5obj = h5g.south, name = 'Origin')\n",
    "h5writeAttribute(attr = 'h', h5obj = h5g.south, name = 'Time Units')\n",
    "h5writeAttribute(attr = 1.0, h5obj = h5g.south, name = 'Transient')\n",
    "\n",
    "\n",
    "h5writeAttribute(attr = 1.0, h5obj = h5g.north, name = 'Cell Centered')\n",
    "h5writeAttribute(attr = 'X', h5obj = h5g.north, name = 'Dimension')\n",
    "h5writeAttribute(attr = grid.x, h5obj = h5g.north, name = 'Discretization')\n",
    "h5writeAttribute(attr = 200.0, h5obj = h5g.north, name = 'Max Buffer Size')\n",
    "h5writeAttribute(attr = range_x[1], h5obj = h5g.north, name = 'Origin')\n",
    "h5writeAttribute(attr = 'h', h5obj = h5g.north, name = 'Time Units')\n",
    "h5writeAttribute(attr = 1.0, h5obj = h5g.north, name = 'Transient')\n",
    "\n",
    "\n",
    "h5writeAttribute(attr = 1.0, h5obj = h5g.east, name = 'Cell Centered')\n",
    "h5writeAttribute(attr = 'Y', h5obj = h5g.east, name = 'Dimension')\n",
    "h5writeAttribute(attr = grid.y, h5obj = h5g.east, name = 'Discretization')\n",
    "h5writeAttribute(attr = 200.0, h5obj = h5g.east, name = 'Max Buffer Size')\n",
    "h5writeAttribute(attr = range_y[1], h5obj = h5g.east, name = 'Origin')\n",
    "h5writeAttribute(attr = 'h', h5obj = h5g.east, name = 'Time Units')\n",
    "h5writeAttribute(attr = 1.0, h5obj = h5g.east, name = 'Transient')\n",
    "\n",
    "\n",
    "h5writeAttribute(attr = 1.0, h5obj = h5g.west, name = 'Cell Centered')\n",
    "h5writeAttribute(attr = 'Y', h5obj = h5g.west, name = 'Dimension')\n",
    "h5writeAttribute(attr = grid.y, h5obj = h5g.west, name = 'Discretization')\n",
    "h5writeAttribute(attr = 200.0, h5obj = h5g.west, name = 'Max Buffer Size')\n",
    "h5writeAttribute(attr = range_y[1], h5obj = h5g.west, name = 'Origin')\n",
    "h5writeAttribute(attr = 'h', h5obj = h5g.west, name = 'Time Units')\n",
    "h5writeAttribute(attr = 1.0, h5obj = h5g.west, name = 'Transient')\n",
    "\n",
    "\n",
    "H5Gclose(h5g.south)\n",
    "H5Gclose(h5g.north)\n",
    "H5Gclose(h5g.east)\n",
    "H5Gclose(h5g.west)\n",
    "H5Fclose(fid)\n"
   ]
  }
 ],
 "metadata": {
  "kernelspec": {
   "display_name": "R",
   "language": "R",
   "name": "ir"
  },
  "language_info": {
   "codemirror_mode": "r",
   "file_extension": ".r",
   "mimetype": "text/x-r-source",
   "name": "R",
   "pygments_lexer": "r",
   "version": "3.5.0"
  },
  "nbpresent": {
   "slides": {
    "0694a085-601b-4c84-844c-ef1ad29c33b0": {
     "id": "0694a085-601b-4c84-844c-ef1ad29c33b0",
     "prev": "d392aeab-ee12-4f0f-a87f-543ed8b273f9",
     "regions": {
      "999ca7b9-c1a3-4d14-bb32-df193525b0c6": {
       "attrs": {
        "height": 0.8,
        "width": 0.8,
        "x": 0.1,
        "y": 0.1
       },
       "content": {
        "cell": "87cb7cc9-5635-4a83-aa58-efc2b218ec21",
        "part": "whole"
       },
       "id": "999ca7b9-c1a3-4d14-bb32-df193525b0c6"
      }
     }
    },
    "0c6a47d8-74ea-4d5d-bdf4-c42cb04d00b9": {
     "id": "0c6a47d8-74ea-4d5d-bdf4-c42cb04d00b9",
     "prev": "45684ea2-17e8-4b58-b050-297a3397f78c",
     "regions": {
      "b444ef9f-ed76-4e42-afdb-885643de7e81": {
       "attrs": {
        "height": 0.8,
        "width": 0.8,
        "x": 0.1,
        "y": 0.1
       },
       "content": {
        "cell": "65e77daf-2729-4dd7-bc22-5c0b66f993b5",
        "part": "whole"
       },
       "id": "b444ef9f-ed76-4e42-afdb-885643de7e81"
      }
     }
    },
    "1b0d6476-85cb-454a-9523-b1a1d88b5d74": {
     "id": "1b0d6476-85cb-454a-9523-b1a1d88b5d74",
     "prev": "4d623f80-010f-434a-8478-98267247f986",
     "regions": {
      "e64a0802-01dd-4d15-b5ad-d1db911f758c": {
       "attrs": {
        "height": 0.8,
        "width": 0.8,
        "x": 0.1,
        "y": 0.1
       },
       "content": {
        "cell": "4614541b-a02a-4bdf-9741-419bb6df71dc",
        "part": "whole"
       },
       "id": "e64a0802-01dd-4d15-b5ad-d1db911f758c"
      }
     }
    },
    "1b58fa63-3ab3-4d92-abc8-8d4390d4b85c": {
     "id": "1b58fa63-3ab3-4d92-abc8-8d4390d4b85c",
     "prev": "46824012-8d51-4c3a-b23a-5f7c3a55327b",
     "regions": {
      "f3a1d230-1ff6-4b30-bf36-68cee3b31600": {
       "attrs": {
        "height": 0.8,
        "width": 0.8,
        "x": 0.1,
        "y": 0.1
       },
       "content": {
        "cell": "e4347697-e359-42b0-a2e9-9898ffbbb899",
        "part": "whole"
       },
       "id": "f3a1d230-1ff6-4b30-bf36-68cee3b31600"
      }
     }
    },
    "272ffd2c-24c0-4948-b563-63725a2bfda7": {
     "id": "272ffd2c-24c0-4948-b563-63725a2bfda7",
     "prev": "1b58fa63-3ab3-4d92-abc8-8d4390d4b85c",
     "regions": {
      "9a29dfac-875e-4ef5-ab84-d07887390d7e": {
       "attrs": {
        "height": 0.8,
        "width": 0.8,
        "x": 0.1,
        "y": 0.1
       },
       "content": {
        "cell": "68a7d7f1-a54c-4937-9c5f-c7bec64342d0",
        "part": "whole"
       },
       "id": "9a29dfac-875e-4ef5-ab84-d07887390d7e"
      }
     }
    },
    "3c584466-6343-4733-8b8f-b2272289dfe8": {
     "id": "3c584466-6343-4733-8b8f-b2272289dfe8",
     "prev": "7ad57138-d56f-423a-98fb-956199fcbf3c",
     "regions": {
      "8b718b54-cd20-4ca9-9fd1-007c0e5d308b": {
       "attrs": {
        "height": 0.8,
        "width": 0.8,
        "x": 0.1,
        "y": 0.1
       },
       "content": {
        "cell": "1fb0ccb8-4bfc-4913-b181-f1024188ab1e",
        "part": "whole"
       },
       "id": "8b718b54-cd20-4ca9-9fd1-007c0e5d308b"
      }
     }
    },
    "413df79a-e7a0-4633-affe-bcf96faa90a3": {
     "id": "413df79a-e7a0-4633-affe-bcf96faa90a3",
     "prev": "f9b0e334-cf1a-4722-9f30-39a07b138b38",
     "regions": {
      "201bac90-d8dc-4fe2-8c2e-d60743d01374": {
       "attrs": {
        "height": 0.8,
        "width": 0.8,
        "x": 0.1,
        "y": 0.1
       },
       "content": {
        "cell": "1bb28186-9572-4335-bcb3-764de6350675",
        "part": "whole"
       },
       "id": "201bac90-d8dc-4fe2-8c2e-d60743d01374"
      }
     }
    },
    "45684ea2-17e8-4b58-b050-297a3397f78c": {
     "id": "45684ea2-17e8-4b58-b050-297a3397f78c",
     "prev": "8493295c-0e0e-45fa-976e-cfc9ebe4dd52",
     "regions": {
      "0909fadd-4d24-4ff4-9a92-7f5340bda31b": {
       "attrs": {
        "height": 0.8,
        "width": 0.8,
        "x": 0.1,
        "y": 0.1
       },
       "content": {
        "cell": "97a53cbb-feb4-401e-ac31-96ddaf647535",
        "part": "whole"
       },
       "id": "0909fadd-4d24-4ff4-9a92-7f5340bda31b"
      }
     }
    },
    "46824012-8d51-4c3a-b23a-5f7c3a55327b": {
     "id": "46824012-8d51-4c3a-b23a-5f7c3a55327b",
     "prev": "0c6a47d8-74ea-4d5d-bdf4-c42cb04d00b9",
     "regions": {
      "704bc294-f55a-4cb2-aaf6-098d9632c4ee": {
       "attrs": {
        "height": 0.8,
        "width": 0.8,
        "x": 0.1,
        "y": 0.1
       },
       "content": {
        "cell": "af74f030-d4dc-4d02-80b5-521205d8c1d9",
        "part": "whole"
       },
       "id": "704bc294-f55a-4cb2-aaf6-098d9632c4ee"
      }
     }
    },
    "4d623f80-010f-434a-8478-98267247f986": {
     "id": "4d623f80-010f-434a-8478-98267247f986",
     "prev": null,
     "regions": {
      "ee0de423-0de9-41a2-a9bb-3308c7ffc5c5": {
       "attrs": {
        "height": 0.8,
        "width": 0.8,
        "x": 0.1,
        "y": 0.1
       },
       "content": {
        "cell": "6496800d-0256-4c39-b553-4da7d616af75",
        "part": "whole"
       },
       "id": "ee0de423-0de9-41a2-a9bb-3308c7ffc5c5"
      }
     }
    },
    "512648ed-054e-4cf1-b56b-f19f43468441": {
     "id": "512648ed-054e-4cf1-b56b-f19f43468441",
     "prev": "858e7964-0a82-4b88-bca1-8130a74fbc0a",
     "regions": {
      "6f7a9817-fb8f-44d1-abd2-57223e5c4d71": {
       "attrs": {
        "height": 0.8,
        "width": 0.8,
        "x": 0.1,
        "y": 0.1
       },
       "content": {
        "cell": "589792f1-4cd8-4316-86e8-c26d68112c0b",
        "part": "whole"
       },
       "id": "6f7a9817-fb8f-44d1-abd2-57223e5c4d71"
      }
     }
    },
    "5c95190b-083a-47c1-bba5-da44014a6fd1": {
     "id": "5c95190b-083a-47c1-bba5-da44014a6fd1",
     "prev": "befb78aa-00de-4bfc-b6ac-f244cb76778f",
     "regions": {
      "1036454b-9a2d-448b-905b-a52dc337b359": {
       "attrs": {
        "height": 0.8,
        "width": 0.8,
        "x": 0.1,
        "y": 0.1
       },
       "content": {
        "cell": "173131a4-ef6f-4cb6-ab5f-b76f5dc6b8bf",
        "part": "whole"
       },
       "id": "1036454b-9a2d-448b-905b-a52dc337b359"
      }
     }
    },
    "5dc1573e-d93f-4ffb-b443-831e665a0c38": {
     "id": "5dc1573e-d93f-4ffb-b443-831e665a0c38",
     "prev": "72053179-d1e7-4593-871e-af8be349827c",
     "regions": {
      "31f3420b-8d59-481e-888a-77442cc27063": {
       "attrs": {
        "height": 0.8,
        "width": 0.8,
        "x": 0.1,
        "y": 0.1
       },
       "content": {
        "cell": "4232df57-9e1b-4fb6-91dd-ae05e129ad2d",
        "part": "whole"
       },
       "id": "31f3420b-8d59-481e-888a-77442cc27063"
      }
     }
    },
    "6147d87b-7dac-4dcd-acd7-73ab99276303": {
     "id": "6147d87b-7dac-4dcd-acd7-73ab99276303",
     "prev": "3c584466-6343-4733-8b8f-b2272289dfe8",
     "regions": {
      "cce7d4fe-9eb7-4f12-9f37-76665b06079c": {
       "attrs": {
        "height": 0.8,
        "width": 0.8,
        "x": 0.1,
        "y": 0.1
       },
       "content": {
        "cell": "028f7c3b-19dd-407f-b20f-5be2187c6f38",
        "part": "whole"
       },
       "id": "cce7d4fe-9eb7-4f12-9f37-76665b06079c"
      }
     }
    },
    "65f151b3-e95d-42ba-9995-0117e92f0ac5": {
     "id": "65f151b3-e95d-42ba-9995-0117e92f0ac5",
     "prev": "0694a085-601b-4c84-844c-ef1ad29c33b0",
     "regions": {
      "450864d4-93d1-4190-b385-9eff9214bef9": {
       "attrs": {
        "height": 0.8,
        "width": 0.8,
        "x": 0.1,
        "y": 0.1
       },
       "content": {
        "cell": "4057fe38-a644-43ba-845f-bafaa511891a",
        "part": "whole"
       },
       "id": "450864d4-93d1-4190-b385-9eff9214bef9"
      }
     }
    },
    "6bbdbb78-41f2-48c4-a06f-0c105e0f79da": {
     "id": "6bbdbb78-41f2-48c4-a06f-0c105e0f79da",
     "prev": "f013bffb-c9ec-4b3c-868a-ca7b5713ee38",
     "regions": {
      "63761612-b35c-424e-b7a3-f88afaf4ff2e": {
       "attrs": {
        "height": 0.8,
        "width": 0.8,
        "x": 0.1,
        "y": 0.1
       },
       "content": {
        "cell": "2792b310-4066-4105-8bca-503efe6f3653",
        "part": "whole"
       },
       "id": "63761612-b35c-424e-b7a3-f88afaf4ff2e"
      }
     }
    },
    "6d51d1e8-c6ca-4c7f-9752-25d592ab9640": {
     "id": "6d51d1e8-c6ca-4c7f-9752-25d592ab9640",
     "prev": "1b0d6476-85cb-454a-9523-b1a1d88b5d74",
     "regions": {
      "896a1876-3a3a-46ef-abb5-23ce241081e5": {
       "attrs": {
        "height": 0.8,
        "width": 0.8,
        "x": 0.1,
        "y": 0.1
       },
       "content": {
        "cell": "4c13ad3b-2227-4c81-8db9-b342e52d9adc",
        "part": "whole"
       },
       "id": "896a1876-3a3a-46ef-abb5-23ce241081e5"
      }
     }
    },
    "72053179-d1e7-4593-871e-af8be349827c": {
     "id": "72053179-d1e7-4593-871e-af8be349827c",
     "prev": "c2d29136-22dc-4ac1-aafa-0e8c421c5975",
     "regions": {
      "1a844f2e-88b1-4aaf-9407-5d4b8a7f27cb": {
       "attrs": {
        "height": 0.8,
        "width": 0.8,
        "x": 0.1,
        "y": 0.1
       },
       "content": {
        "cell": "212b4881-3934-4e58-8950-d947e7bbb68f",
        "part": "whole"
       },
       "id": "1a844f2e-88b1-4aaf-9407-5d4b8a7f27cb"
      }
     }
    },
    "728be353-29ba-49db-8d31-733229b44c45": {
     "id": "728be353-29ba-49db-8d31-733229b44c45",
     "prev": "ae050a65-7408-4fca-aa93-adfd9789125f",
     "regions": {
      "e2b3f7fe-d776-4106-a159-493fb542a2e7": {
       "attrs": {
        "height": 0.8,
        "width": 0.8,
        "x": 0.1,
        "y": 0.1
       },
       "content": {
        "cell": "1c2ad3a7-334e-4d7d-ae99-c388a7c3cab4",
        "part": "whole"
       },
       "id": "e2b3f7fe-d776-4106-a159-493fb542a2e7"
      }
     }
    },
    "7ad57138-d56f-423a-98fb-956199fcbf3c": {
     "id": "7ad57138-d56f-423a-98fb-956199fcbf3c",
     "prev": "272ffd2c-24c0-4948-b563-63725a2bfda7",
     "regions": {
      "03e7c63e-67ff-4b0f-ac68-62a788ea1ca5": {
       "attrs": {
        "height": 0.8,
        "width": 0.8,
        "x": 0.1,
        "y": 0.1
       },
       "content": {
        "cell": "55543c11-a47a-4e44-bd36-c0ee5234fa59",
        "part": "whole"
       },
       "id": "03e7c63e-67ff-4b0f-ac68-62a788ea1ca5"
      }
     }
    },
    "8493295c-0e0e-45fa-976e-cfc9ebe4dd52": {
     "id": "8493295c-0e0e-45fa-976e-cfc9ebe4dd52",
     "prev": "6bbdbb78-41f2-48c4-a06f-0c105e0f79da",
     "regions": {
      "0aa13a4e-3ea1-487d-843f-bcf487d4c1f4": {
       "attrs": {
        "height": 0.8,
        "width": 0.8,
        "x": 0.1,
        "y": 0.1
       },
       "content": {
        "cell": "fb7a2820-96e2-470e-843d-7201531a03b7",
        "part": "whole"
       },
       "id": "0aa13a4e-3ea1-487d-843f-bcf487d4c1f4"
      }
     }
    },
    "858e7964-0a82-4b88-bca1-8130a74fbc0a": {
     "id": "858e7964-0a82-4b88-bca1-8130a74fbc0a",
     "prev": "aef2c82a-7a01-4d4e-b7a1-a92935b93fb7",
     "regions": {
      "e1cc85bf-aca8-45c7-a311-39f1bc28d6b7": {
       "attrs": {
        "height": 0.8,
        "width": 0.8,
        "x": 0.1,
        "y": 0.1
       },
       "content": {
        "cell": "52da6232-c039-45d0-b718-4346d356589d",
        "part": "whole"
       },
       "id": "e1cc85bf-aca8-45c7-a311-39f1bc28d6b7"
      }
     }
    },
    "9c717949-3e3e-442e-97fc-31530c2eab1d": {
     "id": "9c717949-3e3e-442e-97fc-31530c2eab1d",
     "prev": "5c95190b-083a-47c1-bba5-da44014a6fd1",
     "regions": {
      "7e2417e3-06bf-4b53-8c25-d57ea0059048": {
       "attrs": {
        "height": 0.8,
        "width": 0.8,
        "x": 0.1,
        "y": 0.1
       },
       "content": {
        "cell": "0fd0e20c-4f16-4515-9295-c561e6e452d5",
        "part": "whole"
       },
       "id": "7e2417e3-06bf-4b53-8c25-d57ea0059048"
      }
     }
    },
    "ae050a65-7408-4fca-aa93-adfd9789125f": {
     "id": "ae050a65-7408-4fca-aa93-adfd9789125f",
     "prev": "413df79a-e7a0-4633-affe-bcf96faa90a3",
     "regions": {
      "f0f88d1e-9651-4d0e-b1d8-74ba5fe0c74a": {
       "attrs": {
        "height": 0.8,
        "width": 0.8,
        "x": 0.1,
        "y": 0.1
       },
       "content": {
        "cell": "119bbe00-c4ce-487e-939f-32d8397a2851",
        "part": "whole"
       },
       "id": "f0f88d1e-9651-4d0e-b1d8-74ba5fe0c74a"
      }
     }
    },
    "aef2c82a-7a01-4d4e-b7a1-a92935b93fb7": {
     "id": "aef2c82a-7a01-4d4e-b7a1-a92935b93fb7",
     "prev": "6147d87b-7dac-4dcd-acd7-73ab99276303",
     "regions": {
      "13f9e6ed-aabb-4af4-a3f2-c3e815a0c6de": {
       "attrs": {
        "height": 0.8,
        "width": 0.8,
        "x": 0.1,
        "y": 0.1
       },
       "content": {
        "cell": "36688026-de01-4e27-84ef-92fdf015a59a",
        "part": "whole"
       },
       "id": "13f9e6ed-aabb-4af4-a3f2-c3e815a0c6de"
      }
     }
    },
    "b520bee8-3429-4f41-8608-7d66a07bf5b0": {
     "id": "b520bee8-3429-4f41-8608-7d66a07bf5b0",
     "prev": "6d51d1e8-c6ca-4c7f-9752-25d592ab9640",
     "regions": {
      "cb574501-9fe7-4f75-9ce6-246e46b3b531": {
       "attrs": {
        "height": 0.8,
        "width": 0.8,
        "x": 0.1,
        "y": 0.1
       },
       "content": {
        "cell": "984ff92a-347e-4271-9714-ae7ca94de818",
        "part": "whole"
       },
       "id": "cb574501-9fe7-4f75-9ce6-246e46b3b531"
      }
     }
    },
    "befb78aa-00de-4bfc-b6ac-f244cb76778f": {
     "id": "befb78aa-00de-4bfc-b6ac-f244cb76778f",
     "prev": "5dc1573e-d93f-4ffb-b443-831e665a0c38",
     "regions": {
      "806f435a-cb3a-4179-95a6-b535213d314d": {
       "attrs": {
        "height": 0.8,
        "width": 0.8,
        "x": 0.1,
        "y": 0.1
       },
       "content": {
        "cell": "daa1bd5c-3b63-4d8a-9b6d-b3579b65a312",
        "part": "whole"
       },
       "id": "806f435a-cb3a-4179-95a6-b535213d314d"
      }
     }
    },
    "c2d29136-22dc-4ac1-aafa-0e8c421c5975": {
     "id": "c2d29136-22dc-4ac1-aafa-0e8c421c5975",
     "prev": "728be353-29ba-49db-8d31-733229b44c45",
     "regions": {
      "97eebe93-f1c4-4c2a-8ed5-6f742118ef7c": {
       "attrs": {
        "height": 0.8,
        "width": 0.8,
        "x": 0.1,
        "y": 0.1
       },
       "content": {
        "cell": "005605d9-07d4-4f25-bf35-e9d3343b2dbf",
        "part": "whole"
       },
       "id": "97eebe93-f1c4-4c2a-8ed5-6f742118ef7c"
      }
     }
    },
    "d392aeab-ee12-4f0f-a87f-543ed8b273f9": {
     "id": "d392aeab-ee12-4f0f-a87f-543ed8b273f9",
     "prev": "b520bee8-3429-4f41-8608-7d66a07bf5b0",
     "regions": {
      "9b827dba-4040-41be-b6a7-d7b2caaf93ba": {
       "attrs": {
        "height": 0.8,
        "width": 0.8,
        "x": 0.1,
        "y": 0.1
       },
       "content": {
        "cell": "523a0e08-ce97-466d-a2db-46693871f8d5",
        "part": "whole"
       },
       "id": "9b827dba-4040-41be-b6a7-d7b2caaf93ba"
      }
     }
    },
    "f013bffb-c9ec-4b3c-868a-ca7b5713ee38": {
     "id": "f013bffb-c9ec-4b3c-868a-ca7b5713ee38",
     "prev": "9c717949-3e3e-442e-97fc-31530c2eab1d",
     "regions": {
      "6311f95d-8f55-4cba-8534-6dd20fa5cc98": {
       "attrs": {
        "height": 0.8,
        "width": 0.8,
        "x": 0.1,
        "y": 0.1
       },
       "content": {
        "cell": "712a1226-f174-4093-b392-c4ec82b68bff",
        "part": "whole"
       },
       "id": "6311f95d-8f55-4cba-8534-6dd20fa5cc98"
      }
     }
    },
    "f3446414-2af4-4f24-b518-60dbad49f550": {
     "id": "f3446414-2af4-4f24-b518-60dbad49f550",
     "prev": "65f151b3-e95d-42ba-9995-0117e92f0ac5",
     "regions": {
      "77948764-d714-47ed-98df-aa40378ab17c": {
       "attrs": {
        "height": 0.8,
        "width": 0.8,
        "x": 0.1,
        "y": 0.1
       },
       "content": {
        "cell": "041a613e-776f-4697-9cca-b71203024215",
        "part": "whole"
       },
       "id": "77948764-d714-47ed-98df-aa40378ab17c"
      }
     }
    },
    "f9b0e334-cf1a-4722-9f30-39a07b138b38": {
     "id": "f9b0e334-cf1a-4722-9f30-39a07b138b38",
     "prev": "f3446414-2af4-4f24-b518-60dbad49f550",
     "regions": {
      "c0813520-ae65-4244-884b-50c81d29294e": {
       "attrs": {
        "height": 0.8,
        "width": 0.8,
        "x": 0.1,
        "y": 0.1
       },
       "content": {
        "cell": "9ea2fd39-3595-4e15-8d60-303b637fb1a9",
        "part": "whole"
       },
       "id": "c0813520-ae65-4244-884b-50c81d29294e"
      }
     }
    }
   },
   "themes": {}
  },
  "toc": {
   "base_numbering": 1,
   "nav_menu": {},
   "number_sections": true,
   "sideBar": true,
   "skip_h1_title": false,
   "title_cell": "Table of Contents",
   "title_sidebar": "Contents",
   "toc_cell": false,
   "toc_position": {},
   "toc_section_display": true,
   "toc_window_display": true
  },
  "varInspector": {
   "cols": {
    "lenName": 16,
    "lenType": 16,
    "lenVar": 40
   },
   "kernels_config": {
    "python": {
     "delete_cmd_postfix": "",
     "delete_cmd_prefix": "del ",
     "library": "var_list.py",
     "varRefreshCmd": "print(var_dic_list())"
    },
    "r": {
     "delete_cmd_postfix": ") ",
     "delete_cmd_prefix": "rm(",
     "library": "var_list.r",
     "varRefreshCmd": "cat(var_dic_list()) "
    }
   },
   "oldHeight": 622,
   "position": {
    "height": "40px",
    "left": "1070px",
    "right": "20px",
    "top": "120px",
    "width": "350px"
   },
   "types_to_exclude": [
    "module",
    "function",
    "builtin_function_or_method",
    "instance",
    "_Feature"
   ],
   "varInspector_section_display": "none",
   "window_display": true
  }
 },
 "nbformat": 4,
 "nbformat_minor": 2
}
