{
 "cells": [
  {
   "cell_type": "markdown",
   "metadata": {},
   "source": [
    "# upload model inputs and submit jobs to NERSC"
   ]
  },
  {
   "cell_type": "markdown",
   "metadata": {},
   "source": [
    "## 1. upload files to NERSC"
   ]
  },
  {
   "cell_type": "code",
   "execution_count": 1,
   "metadata": {},
   "outputs": [
    {
     "name": "stdout",
     "output_type": "stream",
     "text": [
      " *****************************************************************\n",
      " *                                                               *\n",
      " *                      NOTICE TO USERS                          *\n",
      " *                      ---------------                          *\n",
      " *                                                               *\n",
      " *  Lawrence Berkeley National Laboratory operates this          *\n",
      " *  computer system under contract to the U.S. Department of     *\n",
      " *  Energy.  This computer system is the property of the United  *\n",
      " *  States Government and is for authorized use only.  *Users    *\n",
      " *  (authorized or unauthorized) have no explicit or implicit    *\n",
      " *  expectation of privacy.*                                     *\n",
      " *                                                               *\n",
      " *  Any or all uses of this system and all files on this system  *\n",
      " *  may be intercepted, monitored, recorded, copied, audited,    *\n",
      " *  inspected, and disclosed to site, Department of Energy, and  *\n",
      " *  law enforcement personnel, as well as authorized officials   *\n",
      " *  of other agencies, both domestic and foreign.  *By using     *\n",
      " *  this system, the user consents to such interception,         *\n",
      " *  monitoring, recording, copying, auditing, inspection, and    *\n",
      " *  disclosure at the discretion of authorized site or           *\n",
      " *  Department of Energy personnel.*                             *\n",
      " *                                                               *\n",
      " *  *Unauthorized or improper use of this system may result in   *\n",
      " *  administrative disciplinary action and civil and criminal    *\n",
      " *  penalties.  _By continuing to use this system you indicate   *\n",
      " *  your awareness of and consent to these terms and conditions  *\n",
      " *  of use.  LOG OFF IMMEDIATELY if you do not agree to the      *\n",
      " *  conditions stated in this warning._*                         *\n",
      " *                                                               *\n",
      " *****************************************************************\n",
      "HFR_H_Initial.h5                              100%  706KB   2.1MB/s   00:00    \n",
      "HFR_material_river.h5                         100%   29MB  15.0MB/s   00:01    \n",
      "HFR_material_river2.h5                        100%   29MB   9.6MB/s   00:03    \n",
      "HFR_material_river_nb.h5                      100%   29MB  14.4MB/s   00:02    \n",
      "pflotran_200x200x5.in                         100%  120KB   2.8MB/s   00:00    \n",
      "pflotran_200x200x5_6h_bc.in                   100%  120KB   1.5MB/s   00:00    \n",
      "pflotran_200x200x5_6h_bc_nb.in                100%    0     0.0KB/s   00:00    \n"
     ]
    }
   ],
   "source": [
    "scp -r ~/Dropbox/PNNL/Projects/Reach_scale_model/Inputs/HFR_model_200x200x5/* pshuai@cori.nersc.gov:/global/cscratch1/sd/pshuai/HFR_model_200x200x5_nb/."
   ]
  },
  {
   "cell_type": "markdown",
   "metadata": {},
   "source": [
    "## 2. login to NERSC"
   ]
  },
  {
   "cell_type": "code",
   "execution_count": null,
   "metadata": {
    "scrolled": true
   },
   "outputs": [
    {
     "name": "stdout",
     "output_type": "stream",
     "text": [
      " *****************************************************************\n",
      " *                                                               *\n",
      " *                      NOTICE TO USERS                          *\n",
      " *                      ---------------                          *\n",
      " *                                                               *\n",
      " *  Lawrence Berkeley National Laboratory operates this          *\n",
      " *  computer system under contract to the U.S. Department of     *\n",
      " *  Energy.  This computer system is the property of the United  *\n",
      " *  States Government and is for authorized use only.  *Users    *\n",
      " *  (authorized or unauthorized) have no explicit or implicit    *\n",
      " *  expectation of privacy.*                                     *\n",
      " *                                                               *\n",
      " *  Any or all uses of this system and all files on this system  *\n",
      " *  may be intercepted, monitored, recorded, copied, audited,    *\n",
      " *  inspected, and disclosed to site, Department of Energy, and  *\n",
      " *  law enforcement personnel, as well as authorized officials   *\n",
      " *  of other agencies, both domestic and foreign.  *By using     *\n",
      " *  this system, the user consents to such interception,         *\n",
      " *  monitoring, recording, copying, auditing, inspection, and    *\n",
      " *  disclosure at the discretion of authorized site or           *\n",
      " *  Department of Energy personnel.*                             *\n",
      " *                                                               *\n",
      " *  *Unauthorized or improper use of this system may result in   *\n",
      " *  administrative disciplinary action and civil and criminal    *\n",
      " *  penalties.  _By continuing to use this system you indicate   *\n",
      " *  your awareness of and consent to these terms and conditions  *\n",
      " *  of use.  LOG OFF IMMEDIATELY if you do not agree to the      *\n",
      " *  conditions stated in this warning._*                         *\n",
      " *                                                               *\n",
      " *****************************************************************\n",
      "Last login: Wed Apr 25 11:33:02 2018 from 130.20.119.122\n",
      "----------------------------- Contact Information ------------------------------\n",
      "\n",
      "NERSC Contacts                http://www.nersc.gov/about/contact-us/\n",
      "NERSC Status                  http://www.nersc.gov/users/live-status/\n",
      "NERSC: 800-66-NERSC (USA)     510-486-8600 (outside continental USA)\n",
      "\n",
      "----------------- Current Status as of 2018-04-25 11:25 PDT --------------------\n",
      "\n",
      "Compute Resources: \n",
      "Cori:            Available.\n",
      "Edison:          Available.\n",
      "Genepool:        Available.\n",
      "PDSF:            Available.\n",
      "\n",
      "Global Filesystems: \n",
      "DNA:             Available.\n",
      "Global Common:   Available.\n",
      "Global Homes:    Available.\n",
      "Project:         Available.\n",
      "ProjectA:        Available.\n",
      "ProjectB:        Available.\n",
      "\n",
      "Mass Storage Systems: \n",
      "HPSS Backup:     Available.\n",
      "HPSS User:       Available.\n",
      "\n",
      "----------------- Service Status as of 2018-04-25 11:25 PDT --------------------\n",
      "\n",
      "All services are available.\n",
      "\n",
      "-------------------------------- Planned Outages -------------------------------\n",
      "\n",
      "HPSS User:       05/08/18 7:00-13:00 PDT, Scheduled maintenance.\n",
      "                  Archive System degraded mode from 7am - 1pm\n",
      "\n",
      "HPSS Backup:     05/08/18 7:00-18:00 PDT, Scheduled maintenance.\n",
      "                  Regent  System degraded mode from 7am - 6pm\n",
      "\n",
      "Cori:            05/08/18 7:00-05/09/18 19:00 PDT, Scheduled maintenance.\n",
      "\n",
      "Science Gateways: 05/08/18 9:00-13:00 PDT, Scheduled maintenance.\n",
      "\n",
      "Genepool:        05/08/18 9:00-13:00 PDT, Scheduled maintenance.\n",
      "                  Hosts including gpweb*, gnweb*, and gpdb* will be down for\n",
      "                  system upgrades.\n",
      "\n",
      "HPSS User:       05/08/18 13:00-19:00 PDT, Scheduled maintenance.\n",
      "                  Archive System unavailable from 1pm - 7pm\n",
      "\n",
      "Network:         05/08/18 14:00-15:00 PDT, Scheduled maintenance.\n",
      "                  DNS servers at OSF will be upgraded.\n",
      "\n",
      "HPSS Backup:     05/08/18 18:00-19:00 PDT, Scheduled maintenance.\n",
      "                  Regent  System unavailable from 6pm - 7pm\n",
      "\n",
      "Edison:          05/23/18 7:00-05/24/18 19:00 PDT, Scheduled maintenance.\n",
      "\n",
      "Cori:            06/13/18 7:00-19:00 PDT, Scheduled maintenance.\n",
      "\n",
      "Edison:          06/27/18 7:00-19:00 PDT, Scheduled maintenance.\n",
      "\n",
      "Cori:            07/11/18 7:00-19:00 PDT, Scheduled maintenance.\n",
      "\n",
      "Edison:          07/25/18 7:00-19:00 PDT, Scheduled maintenance.\n",
      "\n",
      "--------------------------------- Past Outages ---------------------------------\n",
      "\n",
      "HPSS Backup:     04/25/18 9:00-11:25 PDT, Scheduled maintenance.\n",
      "\n",
      "For past outages, see: http://my.nersc.gov/outagelog-cs.php\n",
      "\n",
      "-------------------------------------------------------------------------------\n",
      "\n"
     ]
    }
   ],
   "source": [
    "ssh pshuai@edison.nersc.gov"
   ]
  },
  {
   "cell_type": "markdown",
   "metadata": {},
   "source": [
    "## 3. submit batch job"
   ]
  },
  {
   "cell_type": "code",
   "execution_count": null,
   "metadata": {},
   "outputs": [],
   "source": [
    "#!/bin/bash -l\n",
    "\n",
    "#SBATCH -A m1800\n",
    "#SBATCH -N 86\n",
    "#SBATCH -t 48:00:00\n",
    "#SBATCH -L SCRATCH  \n",
    "#SBATCH -J test_0413\n",
    "#SBATCH --qos regular\n",
    "\n",
    "cd $SLURM_SUBMIT_DIR\n",
    "\n",
    "srun -n 2048 ../pflotran-edison-flux -pflotranin pflotran_200x200x5_6h_bc_test.in"
   ]
  }
 ],
 "metadata": {
  "kernelspec": {
   "display_name": "Bash",
   "language": "bash",
   "name": "bash"
  },
  "language_info": {
   "codemirror_mode": "shell",
   "file_extension": ".sh",
   "mimetype": "text/x-sh",
   "name": "bash"
  },
  "varInspector": {
   "cols": {
    "lenName": 16,
    "lenType": 16,
    "lenVar": 40
   },
   "kernels_config": {
    "python": {
     "delete_cmd_postfix": "",
     "delete_cmd_prefix": "del ",
     "library": "var_list.py",
     "varRefreshCmd": "print(var_dic_list())"
    },
    "r": {
     "delete_cmd_postfix": ") ",
     "delete_cmd_prefix": "rm(",
     "library": "var_list.r",
     "varRefreshCmd": "cat(var_dic_list()) "
    }
   },
   "types_to_exclude": [
    "module",
    "function",
    "builtin_function_or_method",
    "instance",
    "_Feature"
   ],
   "window_display": false
  }
 },
 "nbformat": 4,
 "nbformat_minor": 2
}
