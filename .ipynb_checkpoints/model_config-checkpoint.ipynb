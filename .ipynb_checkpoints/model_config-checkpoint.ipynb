{
 "cells": [
  {
   "cell_type": "markdown",
   "metadata": {},
   "source": [
    "# Parameters and geoframework used for setting up model"
   ]
  },
  {
   "cell_type": "markdown",
   "metadata": {},
   "source": [
    "## set working directory"
   ]
  },
  {
   "cell_type": "code",
   "execution_count": 1,
   "metadata": {
    "ExecuteTime": {
     "end_time": "2018-05-01T17:56:04.868333Z",
     "start_time": "2018-05-01T17:56:04.839Z"
    }
   },
   "outputs": [
    {
     "data": {
      "text/html": [
       "<span style=white-space:pre-wrap>'Working dir:  /Users/shua784/Dropbox/PNNL/Projects/Reach_scale_model'</span>"
      ],
      "text/latex": [
       "'Working dir:  /Users/shua784/Dropbox/PNNL/Projects/Reach\\_scale\\_model'"
      ],
      "text/markdown": [
       "<span style=white-space:pre-wrap>'Working dir:  /Users/shua784/Dropbox/PNNL/Projects/Reach_scale_model'</span>"
      ],
      "text/plain": [
       "[1] \"Working dir:  /Users/shua784/Dropbox/PNNL/Projects/Reach_scale_model\""
      ]
     },
     "metadata": {},
     "output_type": "display_data"
    }
   ],
   "source": [
    "setwd(\"/Users/shua784/Dropbox/PNNL/Projects/Reach_scale_model/\")\n",
    "paste(\"Working dir: \", getwd())\n",
    "rm(list=ls())"
   ]
  },
  {
   "cell_type": "markdown",
   "metadata": {},
   "source": [
    "## import packages"
   ]
  },
  {
   "cell_type": "code",
   "execution_count": 2,
   "metadata": {
    "ExecuteTime": {
     "end_time": "2018-05-01T17:56:34.099689Z",
     "start_time": "2018-05-01T17:56:11.995Z"
    }
   },
   "outputs": [
    {
     "name": "stderr",
     "output_type": "stream",
     "text": [
      "Installing package into ‘/Users/shua784/Library/R/3.4/library’\n",
      "(as ‘lib’ is unspecified)\n"
     ]
    },
    {
     "name": "stdout",
     "output_type": "stream",
     "text": [
      "\n",
      "The downloaded binary packages are in\n",
      "\t/var/folders/b_/kpbcrn3s4_1770_6k278969jd__sdl/T//RtmpLyf7ba/downloaded_packages\n"
     ]
    }
   ],
   "source": [
    "install.packages(\"pacman\")\n",
    "pacman::p_load(fields, AtmRay, maptools, raster, plot3D, rhdf5, scatterplot3d, akima, rgl, gtools, sp, ggplot2, \n",
    "               phylin, geoR, xts, signal) "
   ]
  },
  {
   "cell_type": "markdown",
   "metadata": {},
   "source": [
    "## I/O files"
   ]
  },
  {
   "cell_type": "code",
   "execution_count": 3,
   "metadata": {
    "ExecuteTime": {
     "end_time": "2018-05-01T17:57:15.314638Z",
     "start_time": "2018-05-01T17:57:15.237Z"
    }
   },
   "outputs": [],
   "source": [
    "# geoframework data\n",
    "fname_hanford = \"data/geoFramework/hanford.asc\"\n",
    "fname_basalt= \"data/geoFramework/top_of_basalt.asc\"\n",
    "fname_ringold_a= \"data/geoFramework/ringold_a.asc\"\n",
    "fname_ringold_e= \"data/geoFramework/ringold_e.asc\"\n",
    "fname_ringold_lm= \"data/geoFramework/ringold_lm.asc\"\n",
    "fname_cold_creek= \"data/geoFramework/cold_creek.asc\"\n",
    "fname_taylor_flats= \"data/geoFramework/taylor_flats.asc\"\n",
    "fname_river_bath = \"data/geoFramework/river_bathymetry_20m.asc\"\n",
    "# mass1 data\n",
    "fname_mass1_coord = \"data/MASS1/coordinates.csv\"\n",
    "fname_mass1_pts = \"data/MASS1/transient_1976_2016/\"\n",
    "# well data\n",
    "fname_mvAwln = \"~/Dropbox/PNNL/Projects/Reach_scale_model/data/well_data/mvAwln.csv\"\n",
    "fname_mvAwln_id = \"~/Dropbox/PNNL/Projects/Reach_scale_model/data/well_data/mvAwln_wellID_updated.csv\"\n",
    "fname_manual_wells_ids = \"~/Dropbox/PNNL/Projects/Reach_scale_model/data/well_data/HYDRAULIC_HEAD_MV_WellID.csv\"\n",
    "fname_manual_wells = \"~/Dropbox/PNNL/Projects/Reach_scale_model/data/well_data/HYDRAULIC_HEAD_MV.csv\"\n",
    "fname_USGS_wells = \"~/Dropbox/PNNL/Projects/Reach_scale_model/data/well_data/Burns_well_data.csv\"\n",
    "fname_USGS_wells_ids = \"~/Dropbox/PNNL/Projects/Reach_scale_model/data/well_data/Burns_well_attributes.csv\"\n",
    "fname_SFA_wells = \"~/Dropbox/PNNL/Projects/Reach_scale_model/data/well_data/300A_Well_Data/\"\n",
    "fname_SFA_wells_ids = \"~/Dropbox/PNNL/Projects/Reach_scale_model/data/well_data/300A_well_coord.csv\"\n",
    "fname_SFA_wells_all = \"~/Dropbox/PNNL/Projects/Reach_scale_model/data/well_data/SFA_all_wells.csv\"\n",
    "#river\n",
    "fname_river.geo = \"data/river_geometry_manual.csv\"\n",
    "\n",
    "# if statement\n",
    "is.plot = T\n",
    "is.smooth = T\n",
    "\n",
    "imodel=c(\"200x200x1\")\n",
    "## output figures\n",
    "fname_fig.basalt2d = \"figures/basalt2d.jpg\"\n",
    "fname_fig.hanford2d = \"figures/hanford2d.jpg\"\n",
    "fname_fig.basalt2d.model = paste(\"figures/basalt2d_model_\", imodel, \".jpg\", sep = \"\")\n",
    "fname_fig.hanford2d.model = paste(\"figures/hanford2d_model_\", imodel, \".jpg\", sep = \"\")\n",
    "fname_fig.ringold_a_2d = \"figures/ringold_a_2d.jpg\"\n",
    "fname_fig.ringold_a_2d.model = paste(\"figures/ringold_a_2d_model_\", imodel, \".jpg\", sep = \"\")\n",
    "fname_fig.ringold_e_2d = \"figures/ringold_e_2d.jpg\"\n",
    "fname_fig.ringold_e_2d.model = paste(\"figures/ringold_e_2d_model_\", imodel, \".jpg\", sep = \"\")\n",
    "fname_fig.ringold_lm_2d = \"figures/ringold_lm_2d.jpg\"\n",
    "fname_fig.ringold_lm_2d.model = paste(\"figures/ringold_lm_model_\", imodel, \".jpg\", sep = \"\")\n",
    "fname_fig.cold_creek_2d = \"figures/cold_creek_2d.jpg\"\n",
    "fname_fig.cold_creek_2d.model = paste(\"figures/creek_2d_model_\", imodel, \".jpg\", sep = \"\")\n",
    "fname_fig.taylor_flats_2d = \"figures/taylor_flats_2d.jpg\"\n",
    "fname_fig.taylor_flats_2d.model = paste(\"figures/taylor_flats_2d_model_\", imodel, \".jpg\", sep = \"\")\n",
    "fname_fig.river_bath_2d = \"figures/river_bath_2d.jpg\"\n",
    "fname_fig.river_bath_2d.model = paste(\"figures/river_bath_2d_model_\", imodel, \".jpg\", sep = \"\")\n",
    "fname_fig.surface3d=paste(\"figures/surface_cell_3d_\", imodel, \".jpg\", sep = \"\")\n",
    "fname_fig.surface2d=paste(\"figures/surface_cell_2d_\", imodel, \".jpg\", sep = \"\")\n",
    "fname_fig.grids = paste(\"figures/grids_\", imodel, \".jpg\", sep = \"\")\n",
    "fname_fig.river.mass1 = paste(\"figures/river.mass1_\", imodel, \".jpg\", sep = \"\")\n",
    "fname_fig.initialH_idw = paste(\"figures/initial_head_\", imodel, \".jpg\", sep = \"\")\n",
    "\n",
    "# R object files\n",
    "fname_geoFramework.r = paste(\"results/geoframework_\", imodel, \".r\", sep = \"\")\n",
    "fname_ascii.r = \"results/ascii.r\"\n",
    "fname_model_inputs.r = paste(\"results/model_inputs_\", imodel, \".r\", sep = \"\")\n",
    "fname_material_r= paste(\"results/HFR_material_\", imodel, \".r\", sep = \"\")\n",
    "fname_wells.r = \"results/well_compiled_wl_data.r\"\n",
    "fname.selected.wells.df = \"results/selected.wells.df_2007-01-01.r\"\n",
    "fname_mass1_xts = \"results/mass.data.xts.r\"\n",
    "fname_mass1_data.r = \"results/mass.data.r\"\n",
    "\n",
    "# PFLOTRAN input files\n",
    "fname_material_h5 = paste(\"Inputs/HFR_model_\", imodel, \"/HFR_material_river.h5\", sep = \"\")\n",
    "fname_initial.h5 = paste(\"Inputs/HFR_model_\", imodel, \"/HFR_H_Initial.h5\", sep = \"\")\n",
    "fname_DatumH = \"Inputs/river_bc/bc_1w_smooth/DatumH_Mass1_\"\n",
    "fname_Gradients = \"Inputs/river_bc/bc_1w_smooth/Gradients_Mass1_\"\n",
    "fname_pflotran.in = paste(\"Inputs/HFR_model_\", imodel, \"/pflotran_\", imodel, \"_6h_bc.in\", sep = \"\")\n",
    "\n",
    "# # input deck names\n",
    "# fname_material.h5.in = c(\"HFR_material_river.h5\")\n",
    "# fname_H.initial.h5.in = c(\"HFR_H_Initial.h5\")\n",
    "# fname_bc_dir = \"bc_6h_smooth/\"\n",
    "# fname.DatumH.in = c(\"DatumH_Mass1_\")\n",
    "# fname.Gradient.in = c(\"Gradients_Mass1_\")"
   ]
  },
  {
   "cell_type": "markdown",
   "metadata": {},
   "source": [
    "## functions"
   ]
  },
  {
   "cell_type": "code",
   "execution_count": 4,
   "metadata": {
    "ExecuteTime": {
     "end_time": "2018-05-01T17:57:28.765650Z",
     "start_time": "2018-05-01T17:57:28.754Z"
    }
   },
   "outputs": [],
   "source": [
    "proj_to_model <- function(origin,angle,coord)\n",
    "{\n",
    "  output = array(NA,dim(coord))\n",
    "  rownames(output) = rownames(coord)\n",
    "  colnames(output) = colnames(coord)    \n",
    "  output[,1] = (coord[,1]-origin[1])*cos(angle)+(coord[,2]-origin[2])*sin(angle)\n",
    "  output[,2] = (coord[,2]-origin[2])*cos(angle)-(coord[,1]-origin[1])*sin(angle)\n",
    "  return(output)\n",
    "}   \n",
    "\n",
    "\n",
    "model_to_proj <- function(origin,angle,coord)\n",
    "{\n",
    "  output = array(NA,dim(coord))\n",
    "  rownames(output) = rownames(coord)\n",
    "  colnames(output) = colnames(coord)    \n",
    "  output[,1] = origin[1]+coord[,1]*cos(angle)-coord[,2]*sin(angle)\n",
    "  output[,2] = origin[2]+coord[,1]*sin(angle)+coord[,2]*cos(angle)\n",
    "  return(output)\n",
    "}   "
   ]
  },
  {
   "cell_type": "markdown",
   "metadata": {},
   "source": [
    "## model dimensions"
   ]
  },
  {
   "cell_type": "code",
   "execution_count": 5,
   "metadata": {
    "ExecuteTime": {
     "end_time": "2018-05-01T18:04:59.548396Z",
     "start_time": "2018-05-01T18:04:59.536Z"
    }
   },
   "outputs": [],
   "source": [
    "#grid cell size\n",
    "idx = 200\n",
    "idy = 200\n",
    "idz = 1"
   ]
  },
  {
   "cell_type": "code",
   "execution_count": 6,
   "metadata": {
    "ExecuteTime": {
     "end_time": "2018-05-01T18:05:04.940942Z",
     "start_time": "2018-05-01T18:05:04.921Z"
    }
   },
   "outputs": [],
   "source": [
    "# rotating angle of model\n",
    "angle = 0\n",
    "\n",
    "#hanford reach\n",
    "# model_origin = c(538000, 97000)\n",
    "model_origin = c(551600, 104500)\n",
    "\n",
    "xlen = 60*1000 #x boundary length\n",
    "ylen = 60*1000 #y boundary length\n",
    "\n",
    "zlen = 200 #z boundary length\n",
    "# zlen = 100 #z boundary length\n",
    "\n",
    "# model origin\n",
    "z0 = 0 \n",
    "x0 = model_origin[1]\n",
    "y0 = model_origin[2]"
   ]
  },
  {
   "cell_type": "code",
   "execution_count": 7,
   "metadata": {
    "ExecuteTime": {
     "end_time": "2018-05-01T18:05:50.051849Z",
     "start_time": "2018-05-01T18:05:49.893Z"
    }
   },
   "outputs": [],
   "source": [
    "dx = rep(idx, xlen/idx)\n",
    "dy = rep(idy, ylen/idy)\n",
    "dz = rep(idz, zlen/idz)\n",
    "\n",
    "nx = length(dx)\n",
    "ny = length(dy)\n",
    "nz = length(dz)\n",
    "\n",
    "#create x,y,z coordinates for each cell center\n",
    "x = cumsum(dx)-0.5*dx\n",
    "y = cumsum(dy)-0.5*dy\n",
    "z = z0 + cumsum(dz)-0.5*dz\n",
    "\n",
    "#min and max x,y,z coord\n",
    "range_x = c(x[1]-0.5*dx[1], x[length(x)]+0.5*dx[length(x)])\n",
    "range_y = c(y[1]-0.5*dy[1], y[length(y)]+0.5*dy[length(y)])\n",
    "range_z = c(z[1]-0.5*dz[1], z[length(z)]+0.5*dz[length(z)])\n",
    "\n",
    "##dimension of model domain in CRS\n",
    "west_x = x0\n",
    "east_x = x0 + xlen\n",
    "south_y = y0\n",
    "north_y = y0 + ylen\n",
    "\n",
    "# interpolate model coordinates \n",
    "cells_model = expand.grid(x,y) # expand grid to include all x-y coordinates\n",
    "cells_proj = model_to_proj(model_origin,angle,cells_model) # convert model coord. to proj. coord.\n",
    "\n",
    "unit_x = sort(as.numeric(names(table(cells_proj[, 1]))))\n",
    "unit_y = sort(as.numeric(names(table(cells_proj[, 2]))))"
   ]
  },
  {
   "cell_type": "code",
   "execution_count": 8,
   "metadata": {
    "ExecuteTime": {
     "end_time": "2018-05-01T18:07:23.181720Z",
     "start_time": "2018-05-01T18:07:23.110Z"
    }
   },
   "outputs": [
    {
     "name": "stdout",
     "output_type": "stream",
     "text": [
      "[1] \"model inputs is save in /Users/shua784/Dropbox/PNNL/Projects/Reach_scale_model/results/model_inputs_200x200x1.r\"\n"
     ]
    }
   ],
   "source": [
    "save(list = ls(), file = fname_model_inputs.r)\n",
    "print(paste(\"model inputs is save in \", getwd(), \"/\", fname_model_inputs.r, sep=\"\"))"
   ]
  },
  {
   "cell_type": "code",
   "execution_count": 9,
   "metadata": {
    "ExecuteTime": {
     "end_time": "2018-05-01T18:07:26.398920Z",
     "start_time": "2018-05-01T18:07:26.381Z"
    }
   },
   "outputs": [
    {
     "data": {
      "text/html": [
       "<dl>\n",
       "\t<dt>$platform</dt>\n",
       "\t\t<dd>'x86_64-apple-darwin15.6.0'</dd>\n",
       "\t<dt>$arch</dt>\n",
       "\t\t<dd>'x86_64'</dd>\n",
       "\t<dt>$os</dt>\n",
       "\t\t<dd>'darwin15.6.0'</dd>\n",
       "\t<dt>$system</dt>\n",
       "\t\t<dd>'x86_64, darwin15.6.0'</dd>\n",
       "\t<dt>$status</dt>\n",
       "\t\t<dd>''</dd>\n",
       "\t<dt>$major</dt>\n",
       "\t\t<dd>'3'</dd>\n",
       "\t<dt>$minor</dt>\n",
       "\t\t<dd>'4.4'</dd>\n",
       "\t<dt>$year</dt>\n",
       "\t\t<dd>'2018'</dd>\n",
       "\t<dt>$month</dt>\n",
       "\t\t<dd>'03'</dd>\n",
       "\t<dt>$day</dt>\n",
       "\t\t<dd>'15'</dd>\n",
       "\t<dt>$`svn rev`</dt>\n",
       "\t\t<dd>'74408'</dd>\n",
       "\t<dt>$language</dt>\n",
       "\t\t<dd>'R'</dd>\n",
       "\t<dt>$version.string</dt>\n",
       "\t\t<dd>'R version 3.4.4 (2018-03-15)'</dd>\n",
       "\t<dt>$nickname</dt>\n",
       "\t\t<dd>'Someone to Lean On'</dd>\n",
       "</dl>\n"
      ],
      "text/latex": [
       "\\begin{description}\n",
       "\\item[\\$platform] 'x86\\_64-apple-darwin15.6.0'\n",
       "\\item[\\$arch] 'x86\\_64'\n",
       "\\item[\\$os] 'darwin15.6.0'\n",
       "\\item[\\$system] 'x86\\_64, darwin15.6.0'\n",
       "\\item[\\$status] ''\n",
       "\\item[\\$major] '3'\n",
       "\\item[\\$minor] '4.4'\n",
       "\\item[\\$year] '2018'\n",
       "\\item[\\$month] '03'\n",
       "\\item[\\$day] '15'\n",
       "\\item[\\$`svn rev`] '74408'\n",
       "\\item[\\$language] 'R'\n",
       "\\item[\\$version.string] 'R version 3.4.4 (2018-03-15)'\n",
       "\\item[\\$nickname] 'Someone to Lean On'\n",
       "\\end{description}\n"
      ],
      "text/markdown": [
       "$platform\n",
       ":   'x86_64-apple-darwin15.6.0'\n",
       "$arch\n",
       ":   'x86_64'\n",
       "$os\n",
       ":   'darwin15.6.0'\n",
       "$system\n",
       ":   'x86_64, darwin15.6.0'\n",
       "$status\n",
       ":   ''\n",
       "$major\n",
       ":   '3'\n",
       "$minor\n",
       ":   '4.4'\n",
       "$year\n",
       ":   '2018'\n",
       "$month\n",
       ":   '03'\n",
       "$day\n",
       ":   '15'\n",
       "$`svn rev`\n",
       ":   '74408'\n",
       "$language\n",
       ":   'R'\n",
       "$version.string\n",
       ":   'R version 3.4.4 (2018-03-15)'\n",
       "$nickname\n",
       ":   'Someone to Lean On'\n",
       "\n",
       "\n"
      ],
      "text/plain": [
       "$platform\n",
       "[1] \"x86_64-apple-darwin15.6.0\"\n",
       "\n",
       "$arch\n",
       "[1] \"x86_64\"\n",
       "\n",
       "$os\n",
       "[1] \"darwin15.6.0\"\n",
       "\n",
       "$system\n",
       "[1] \"x86_64, darwin15.6.0\"\n",
       "\n",
       "$status\n",
       "[1] \"\"\n",
       "\n",
       "$major\n",
       "[1] \"3\"\n",
       "\n",
       "$minor\n",
       "[1] \"4.4\"\n",
       "\n",
       "$year\n",
       "[1] \"2018\"\n",
       "\n",
       "$month\n",
       "[1] \"03\"\n",
       "\n",
       "$day\n",
       "[1] \"15\"\n",
       "\n",
       "$`svn rev`\n",
       "[1] \"74408\"\n",
       "\n",
       "$language\n",
       "[1] \"R\"\n",
       "\n",
       "$version.string\n",
       "[1] \"R version 3.4.4 (2018-03-15)\"\n",
       "\n",
       "$nickname\n",
       "[1] \"Someone to Lean On\"\n"
      ]
     },
     "metadata": {},
     "output_type": "display_data"
    }
   ],
   "source": [
    "R.Version()"
   ]
  },
  {
   "cell_type": "code",
   "execution_count": null,
   "metadata": {},
   "outputs": [],
   "source": []
  }
 ],
 "metadata": {
  "kernelspec": {
   "display_name": "R",
   "language": "R",
   "name": "ir"
  },
  "varInspector": {
   "cols": {
    "lenName": 16,
    "lenType": 16,
    "lenVar": 40
   },
   "kernels_config": {
    "python": {
     "delete_cmd_postfix": "",
     "delete_cmd_prefix": "del ",
     "library": "var_list.py",
     "varRefreshCmd": "print(var_dic_list())"
    },
    "r": {
     "delete_cmd_postfix": ") ",
     "delete_cmd_prefix": "rm(",
     "library": "var_list.r",
     "varRefreshCmd": "cat(var_dic_list()) "
    }
   },
   "oldHeight": 247,
   "position": {
    "height": "40px",
    "left": "765px",
    "right": "20px",
    "top": "120px",
    "width": "411px"
   },
   "types_to_exclude": [
    "module",
    "function",
    "builtin_function_or_method",
    "instance",
    "_Feature"
   ],
   "varInspector_section_display": "none",
   "window_display": false
  }
 },
 "nbformat": 4,
 "nbformat_minor": 2
}
