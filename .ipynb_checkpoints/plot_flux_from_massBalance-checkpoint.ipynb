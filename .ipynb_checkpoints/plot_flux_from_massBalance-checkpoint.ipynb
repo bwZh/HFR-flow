{
 "cells": [
  {
   "cell_type": "markdown",
   "metadata": {},
   "source": [
    "# Generate flux bar plot from Mass Balance file (.dat)"
   ]
  },
  {
   "cell_type": "code",
   "execution_count": null,
   "metadata": {},
   "outputs": [],
   "source": [
    "import numpy as np\n",
    "import matplotlib.pyplot as plt\n",
    "import h5py as h5\n",
    "import glob\n",
    "import matplotlib.gridspec as gridspec\n",
    "from datetime import datetime, timedelta\n",
    "from scipy import interpolate"
   ]
  },
  {
   "cell_type": "code",
   "execution_count": null,
   "metadata": {},
   "outputs": [],
   "source": [
    "def batch_time_to_delta(origin, x, time_format):\n",
    "    y = []\n",
    "    for ix in x:\n",
    "        temp_y = abs(datetime.strptime(\n",
    "            ix, time_format) - origin).total_seconds()\n",
    "        y.append(temp_y)\n",
    "    y = np.asarray(y)\n",
    "    return(y)"
   ]
  },
  {
   "cell_type": "code",
   "execution_count": null,
   "metadata": {},
   "outputs": [],
   "source": [
    "def batch_delta_to_time(origin, x, time_format, delta_format):\n",
    "    y = []\n",
    "    for ix in x:\n",
    "        if delta_format == \"hours\":\n",
    "            temp_y = origin + timedelta(hours=ix)\n",
    "        elif delta_format == \"days\":\n",
    "            temp_y = origin + timedelta(days=ix)\n",
    "        elif delta_format == \"minutes\":\n",
    "            temp_y = origin + timedelta(minutes=ix)\n",
    "        elif delta_format == \"weeks\":\n",
    "            temp_y = origin + timedelta(weeks=ix)\n",
    "        elif delta_format == \"seconds\":\n",
    "            temp_y = origin + timedelta(seconds=ix)\n",
    "        elif delta_format == \"microseconds\":\n",
    "            temp_y = origin + timedelta(microseconds=ix)\n",
    "        elif delta_format == \"milliseconds\":\n",
    "            temp_y = origin + timedelta(milliseconds=ix)\n",
    "        else:\n",
    "            print(\"Sorry, this naive program only solve single time unit\")\n",
    "        y.append(temp_y.strftime(time_format))\n",
    "    y = np.asarray(y)\n",
    "    return(y)"
   ]
  },
  {
   "cell_type": "code",
   "execution_count": null,
   "metadata": {},
   "outputs": [],
   "source": [
    "data_dir = \"/Users/song884/remote/reach/data/\"\n",
    "output_dir = \"/Users/song884/remote/reach/Outputs/HFR_200x200x2_6h_bc/\"\n",
    "fig_dir = \"/Users/song884/remote/reach/figures/\" + \\\n",
    "    \"HFR_200x200x2_6h_bc/mass_balance/\""
   ]
  },
  {
   "cell_type": "code",
   "execution_count": null,
   "metadata": {},
   "outputs": [],
   "source": [
    "date_origin = datetime.strptime(\"2007-03-28 00:00:00\", \"%Y-%m-%d %H:%M:%S\")\n",
    "model_origin = np.genfromtxt(\n",
    "    output_dir + \"model_origin.txt\", delimiter=\" \", skip_header=1)\n",
    "material_file = h5.File(output_dir + \"HFR_material_river.h5\", \"r\")"
   ]
  },
  {
   "cell_type": "code",
   "execution_count": null,
   "metadata": {},
   "outputs": [],
   "source": [
    "discharge_file = open(data_dir + \"USGS_flow_gh_12472800.csv\", \"r\")\n",
    "discharge_data = discharge_file.readlines()\n",
    "discharge_data = [x.replace('\"', \"\") for x in discharge_data]\n",
    "discharge_data = [x.split(\",\") for x in discharge_data[1:]]\n",
    "discharge_data = [list(filter(None, x)) for x in discharge_data]\n",
    "discharge_data = np.asarray(discharge_data)\n",
    "discharge_time = [datetime.strptime(x, \"%Y-%m-%d\")\n",
    "                  for x in discharge_data[:, 3]]\n",
    "discharge_value = discharge_data[:, 4]  # .astype(float)"
   ]
  },
  {
   "cell_type": "code",
   "execution_count": null,
   "metadata": {},
   "outputs": [],
   "source": [
    "# read model dimensions\n",
    "# all_h5 = glob.glob(output_dir + \"pflotran*h5\")\n",
    "# all_h5 = np.sort(all_h5)\n",
    "\n",
    "# input_h5 = h5.File(all_h5[0], \"r\")\n",
    "# x_grids = list(input_h5[\"Coordinates\"]['X [m]'])\n",
    "# y_grids = list(input_h5[\"Coordinates\"]['Y [m]'])\n",
    "# z_grids = list(input_h5[\"Coordinates\"]['Z [m]'])\n",
    "# input_h5.close()\n",
    "\n",
    "x_grids = np.arange(0, 60001, 100)\n",
    "y_grids = np.arange(0, 60001, 100)\n",
    "z_grids = np.arange(0, 201, 5)\n",
    "\n",
    "dx = np.diff(x_grids)\n",
    "dy = np.diff(y_grids)\n",
    "dz = np.diff(z_grids)\n",
    "\n",
    "nx = len(dx)\n",
    "ny = len(dy)\n",
    "nz = len(dz)\n",
    "x = x_grids[0] + np.cumsum(dx) - 0.5 * dx[0]\n",
    "y = y_grids[0] + np.cumsum(dy) - 0.5 * dy[0]\n",
    "z = z_grids[0] + np.cumsum(dz) - 0.5 * dz[0]\n",
    "\n",
    "grids = np.asarray([(x, y, z) for z in range(nz)\n",
    "                    for y in range(ny) for x in range(nx)])\n",
    "\n",
    "west_area = dy[0] * dz[0]\n",
    "east_area = dy[0] * dz[0]\n",
    "south_area = dx[0] * dz[0]\n",
    "north_area = dx[0] * dz[0]\n",
    "top_area = dx[0] * dy[0]\n",
    "bottom_area = dx[0] * dy[0]"
   ]
  },
  {
   "cell_type": "code",
   "execution_count": null,
   "metadata": {},
   "outputs": [],
   "source": [
    "# read river section information\n",
    "mass1_sections = [s for s, s in enumerate(\n",
    "    list(material_file[\"Regions\"].keys())) if \"Mass1\" in s]\n",
    "group_order = np.argsort(np.asarray(\n",
    "    [x[6:] for x in mass1_sections]).astype(float))\n",
    "mass1_sections = [mass1_sections[i] for i in group_order]\n",
    "nsection = len(mass1_sections)\n",
    "section_area = []\n",
    "for isection in mass1_sections:\n",
    "    faces = list(material_file[\"Regions\"][isection]['Face Ids'])\n",
    "    iarea = faces.count(1) * west_area + faces.count(2) * east_area + \\\n",
    "        faces.count(3) * south_area + faces.count(4) * north_area + \\\n",
    "        faces.count(5) * bottom_area + faces.count(6) * bottom_area\n",
    "    section_area.append(iarea)\n",
    "section_area = np.asarray(section_area)\n"
   ]
  },
  {
   "cell_type": "code",
   "execution_count": null,
   "metadata": {},
   "outputs": [],
   "source": [
    "# read mass1 coordinates\n",
    "section_coord = np.genfromtxt(\n",
    "    data_dir + \"MASS1/coordinates.csv\", delimiter=\",\", skip_header=1)\n",
    "section_coord[:, 1] = section_coord[:, 1] - model_origin[0]\n",
    "section_coord[:, 2] = section_coord[:, 2] - model_origin[1]\n",
    "mass1_length = section_coord[:, 4] - section_coord[-1, 4]\n"
   ]
  },
  {
   "cell_type": "code",
   "execution_count": null,
   "metadata": {},
   "outputs": [],
   "source": [
    "# add three lines to contour indicating mass1 location\n",
    "line1 = section_coord[0, 1:3] / 1000\n",
    "line2 = section_coord[int(len(section_coord[:, 1]) / 2), 1:3] / 1000\n",
    "line3 = section_coord[-1, 1:3] / 1000\n",
    "line1_x = [line1[0]] * 2\n",
    "line1_y = [line1[1] - 5, line1[1] + 5]\n",
    "line2_x = [line2[0] - 5, line2[0] + 5]\n",
    "line2_y = [line2[1]] * 2\n",
    "line3_x = [line3[0] - 5, line3[0] + 5]\n",
    "line3_y = [line3[1]] * 2"
   ]
  },
  {
   "cell_type": "code",
   "execution_count": null,
   "metadata": {},
   "outputs": [],
   "source": [
    "# read mass balance data\n",
    "mass_file = open(glob.glob(output_dir + \"*mas.dat\")[0], \"r\")\n",
    "mass_data = mass_file.readlines()\n",
    "mass_header = mass_data[0].replace('\"', '').split(\",\")\n",
    "mass_header = list(filter(None, mass_header))\n",
    "mass_data = [x.split(\" \") for x in mass_data[1:]]\n",
    "mass_data = [list(filter(None, x)) for x in mass_data]\n",
    "mass_data = np.asarray(mass_data).astype(float)"
   ]
  },
  {
   "cell_type": "code",
   "execution_count": null,
   "metadata": {},
   "outputs": [],
   "source": [
    "# find columns of desired mass1 colmns\n",
    "mass_index = [i for i, s in enumerate(mass_header) if (\n",
    "    \"River\" in s and \"Water\" in s and \"kg]\" in s)]\n",
    "flux_index = [i for i, s in enumerate(mass_header) if (\n",
    "    \"River\" in s and \"Water\" in s and \"kg/h\" in s)]\n"
   ]
  },
  {
   "cell_type": "code",
   "execution_count": null,
   "metadata": {},
   "outputs": [],
   "source": [
    "# get total river mass/flux across the river bed\n",
    "total_mass = np.sum(mass_data[:, mass_index], axis=1).flatten()\n",
    "total_flux = np.sum(mass_data[:, flux_index], axis=1).flatten()"
   ]
  },
  {
   "cell_type": "code",
   "execution_count": null,
   "metadata": {},
   "outputs": [],
   "source": [
    "# plot fingerprint plots\n",
    "simu_time = mass_data[:, 0]\n",
    "real_time = batch_delta_to_time(\n",
    "    date_origin, simu_time, \"%Y-%m-%d %H:%M:%S\", \"hours\")\n",
    "real_time = [datetime.strptime(x, \"%Y-%m-%d %H:%M:%S\") for x in real_time]\n",
    "plot_time = [\n",
    "    \"2011-01-01 00:00:00\",\n",
    "    \"2016-01-01 00:00:00\"]\n",
    "plot_time = [datetime.strptime(x, \"%Y-%m-%d %H:%M:%S\") for x in plot_time]\n",
    "time_ticks = [\n",
    "    \"2011-01-01 00:00:00\",\n",
    "    \"2012-01-01 00:00:00\",\n",
    "    \"2013-01-01 00:00:00\",\n",
    "    \"2014-01-01 00:00:00\",\n",
    "    \"2015-01-01 00:00:00\",\n",
    "    \"2016-01-01 00:00:00\"]\n",
    "time_ticks = [datetime.strptime(x, \"%Y-%m-%d %H:%M:%S\") for x in time_ticks]"
   ]
  },
  {
   "cell_type": "code",
   "execution_count": null,
   "metadata": {},
   "outputs": [],
   "source": [
    "flux_array = mass_data[:, flux_index]\n",
    "flux_array = np.asarray(flux_array) / 1000 * 24\n",
    "for itime in range(len(real_time)):\n",
    "    flux_array[itime, :] = flux_array[itime, :] / section_area\n",
    "\n",
    "fig_name = fig_dir + \"finger_flux.png\"\n",
    "gs = gridspec.GridSpec(1, 1)\n",
    "fig = plt.figure()\n",
    "ax1 = fig.add_subplot(gs[0, 0])\n",
    "cf1 = ax1.contourf(real_time,\n",
    "                   0.5 * (mass1_length[1:] + mass1_length[:-1]),\n",
    "                   -np.transpose(flux_array),\n",
    "                   cmap=plt.cm.jet,\n",
    "                   levels=np.arange(-0.1, 0.105, 0.005),\n",
    "                   extend=\"both\",\n",
    "                   )\n",
    "ax1.set_ylabel(\"\")\n",
    "ax1.set_ylabel(\"Distance to Downstream Location (km)\")\n",
    "ax1.set_xticks(time_ticks)\n",
    "ax1.set_ylim([0, 7.3e1])\n",
    "ax1.set_xlim([time_ticks[0], time_ticks[-1]])\n",
    "cb1 = plt.colorbar(cf1, extend=\"both\")\n",
    "cb1.ax.set_ylabel(\"Exchange flux (m/d)\", rotation=270, labelpad=20)\n",
    "fig.tight_layout()\n",
    "fig.set_size_inches(10, 3.5)\n",
    "fig.savefig(fig_name, dpi=600, transparent=True)\n",
    "plt.close(fig)"
   ]
  },
  {
   "cell_type": "code",
   "execution_count": null,
   "metadata": {},
   "outputs": [],
   "source": [
    "n_segment = len(time_ticks) - 1\n",
    "sum_mass = np.array([0.] * n_segment)\n",
    "all_mass = np.array([0.] * n_segment)\n",
    "for i_segment in range(n_segment):\n",
    "    select_index = []\n",
    "    for i_index in range(len(real_time)):\n",
    "        if (real_time[i_index] >= time_ticks[i_segment] and\n",
    "                real_time[i_index] < time_ticks[i_segment + 1]):\n",
    "            select_index.append(i_index)\n",
    "    sum_mass[i_segment] = total_mass[select_index[-1]] - \\\n",
    "        total_mass[select_index[0] - 1]\n",
    "    time_inverval = real_time[select_index[-1]\n",
    "                              ] - real_time[select_index[0] - 1]\n",
    "    time_scale = 365.25 * 24 * 3600 / time_inverval.total_seconds()\n",
    "    sum_mass[i_segment] = sum_mass[i_segment] * time_scale / 1000\n",
    "\n",
    "abs_mass = np.array([0.] * n_segment)\n",
    "out_mass = np.array([0.] * n_segment)\n",
    "in_mass = np.array([0.] * n_segment)"
   ]
  },
  {
   "cell_type": "code",
   "execution_count": null,
   "metadata": {},
   "outputs": [],
   "source": [
    "discharge_flow = np.array([0.] * n_segment)\n",
    "for i_segment in range(n_segment):\n",
    "    select_index = []\n",
    "    for i_index in range(len(discharge_time)):\n",
    "        if (discharge_time[i_index] >= time_ticks[i_segment] and\n",
    "                discharge_time[i_index] < time_ticks[i_segment + 1]):\n",
    "            select_index.append(i_index)\n",
    "    sum_discharge = sum(np.asarray([discharge_value[i]\n",
    "                                    for i in select_index]).astype(float))\n",
    "    sum_discharge = sum_discharge * 3600 * 24 * (0.3048**3)\n",
    "    # print(\"{:.5E}\".format(sum_discharge))\n",
    "    discharge_flow[i_segment] = sum_discharge"
   ]
  },
  {
   "cell_type": "code",
   "execution_count": null,
   "metadata": {},
   "outputs": [],
   "source": [
    "start_year = 2011\n",
    "fig_name = fig_dir + \"net_exchange.png\"\n",
    "gs = gridspec.GridSpec(1, 2)\n",
    "fig = plt.figure()\n",
    "ax0 = fig.add_subplot(gs[0, 0])\n",
    "ax0.bar(start_year + np.arange(n_segment), discharge_flow, color=\"black\")\n",
    "ax0.set_ylim([0, 1.5e11])\n",
    "ax0.set_xlabel('Time (year)')\n",
    "ax0.set_ylabel('River Discharge ($m^3$/year)')\n",
    "ax0.set_title(\"Priest Rapid Dam Discharge\", y=1.05)\n",
    "\n",
    "ax1 = fig.add_subplot(gs[0, 1])\n",
    "ax1.bar(start_year + np.arange(n_segment), -sum_mass, color=\"blue\")\n",
    "#ax1.set_ylim([0, 1e8])\n",
    "ax1.set_xlabel('Time (year)')\n",
    "ax1.set_ylabel('Exchange flux ($m^3$/year)')\n",
    "ax1.set_title(\"River Net Gaining Volume\", y=1.05)\n",
    "fig.tight_layout()\n",
    "fig.subplots_adjust(left=0.2,\n",
    "                    right=0.95,\n",
    "                    bottom=0.08,\n",
    "                    top=0.85,\n",
    "                    wspace=0.30,\n",
    "                    hspace=0.38\n",
    "                    )\n",
    "fig.set_size_inches(7, 3)\n",
    "fig.savefig(fig_name, dpi=600, transparent=True)\n",
    "plt.close(fig)\n"
   ]
  },
  {
   "cell_type": "code",
   "execution_count": null,
   "metadata": {},
   "outputs": [],
   "source": [
    "for itime in range(len(real_time)):\n",
    "    print(itime)\n",
    "    yx_flux = np.asarray([np.nan] * (ny * nx)).reshape(ny, nx)\n",
    "    for isection in range(len(mass1_sections)):\n",
    "        # need minus 1 as python index started with 0\n",
    "        cell_ids = list(material_file[\"Regions\"]\n",
    "                        [mass1_sections[isection]]['Cell Ids'])\n",
    "        cell_ids = (np.asarray(cell_ids) - 1).astype(int)\n",
    "        xy_cell_index = [grids[i, 0:2] for i in cell_ids]\n",
    "        xy_cell_index = np.unique(xy_cell_index, axis=0)\n",
    "        for iindex in range(len(xy_cell_index)):\n",
    "            yx_flux[xy_cell_index[iindex][1],\n",
    "                    xy_cell_index[iindex][0]] = flux_array[itime, isection]\n",
    "    fig_name = fig_dir + str(real_time[itime]) + \".png\"\n",
    "    gs = gridspec.GridSpec(1, 1)\n",
    "    fig = plt.figure()\n",
    "    ax1 = fig.add_subplot(gs[0, 0])\n",
    "    ax1.plot(line1_x, line1_y, \"black\")\n",
    "    ax1.plot(line2_x, line2_y, \"black\")\n",
    "    ax1.plot(line3_x, line3_y, \"black\")\n",
    "    cf1 = ax1.imshow(-yx_flux,\n",
    "                     cmap=plt.cm.jet,\n",
    "                     origin=\"lower\",\n",
    "                     vmin=-0.1,\n",
    "                     vmax=0.1,\n",
    "                     extent=[(x[0] - 0.5 * dx[0]) / 1000,\n",
    "                             (x[-1] + 0.5 * dx[0]) / 1000,\n",
    "                             (y[0] - 0.5 * dy[0]) / 1000,\n",
    "                             (y[-1] + 0.5 * dy[0]) / 1000]\n",
    "                     )\n",
    "    ax1.set_xlabel(\"Easting (km)\")\n",
    "    ax1.set_ylabel(\"Northing (km)\")\n",
    "    ax1.set_aspect(\"equal\", \"datalim\")\n",
    "    ax1.set_xlim([np.min(x_grids) / 1000, np.max(x_grids) / 1000])\n",
    "    ax1.set_ylim([np.min(x_grids) / 1000, np.max(x_grids) / 1000])\n",
    "    cb1 = plt.colorbar(cf1, extend=\"both\")\n",
    "    cb1.ax.set_ylabel(\"Exchange flux (m/d)\", rotation=270, labelpad=20)\n",
    "    fig.tight_layout()\n",
    "    fig.set_size_inches(6.5, 5.5)\n",
    "    fig.savefig(fig_name, dpi=600)\n",
    "    plt.close(fig)"
   ]
  },
  {
   "cell_type": "code",
   "execution_count": null,
   "metadata": {},
   "outputs": [],
   "source": []
  }
 ],
 "metadata": {
  "kernelspec": {
   "display_name": "Python 3",
   "language": "python",
   "name": "python3"
  },
  "language_info": {
   "codemirror_mode": {
    "name": "ipython",
    "version": 3
   },
   "file_extension": ".py",
   "mimetype": "text/x-python",
   "name": "python",
   "nbconvert_exporter": "python",
   "pygments_lexer": "ipython3",
   "version": "3.6.3"
  },
  "varInspector": {
   "cols": {
    "lenName": 16,
    "lenType": 16,
    "lenVar": 40
   },
   "kernels_config": {
    "python": {
     "delete_cmd_postfix": "",
     "delete_cmd_prefix": "del ",
     "library": "var_list.py",
     "varRefreshCmd": "print(var_dic_list())"
    },
    "r": {
     "delete_cmd_postfix": ") ",
     "delete_cmd_prefix": "rm(",
     "library": "var_list.r",
     "varRefreshCmd": "cat(var_dic_list()) "
    }
   },
   "types_to_exclude": [
    "module",
    "function",
    "builtin_function_or_method",
    "instance",
    "_Feature"
   ],
   "window_display": false
  }
 },
 "nbformat": 4,
 "nbformat_minor": 2
}
