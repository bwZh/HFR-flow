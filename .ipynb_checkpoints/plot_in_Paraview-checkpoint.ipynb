{
 "cells": [
  {
   "cell_type": "markdown",
   "metadata": {},
   "source": [
    "# Generate figures using Paraview"
   ]
  },
  {
   "cell_type": "markdown",
   "metadata": {},
   "source": [
    "## 1. download model outputs from NERSC"
   ]
  },
  {
   "cell_type": "code",
   "execution_count": null,
   "metadata": {
    "collapsed": true
   },
   "outputs": [],
   "source": [
    "scp -r pshuai@cori.nersc.gov:/global/cscratch1/sd/pshuai/HFR_model_200x200x5_nb/* ~/Paraview/HFR/HFR_200x200x5_nb/."
   ]
  },
  {
   "cell_type": "markdown",
   "metadata": {},
   "source": [
    "## 2. use Paraview to open .h5 files and plot "
   ]
  },
  {
   "cell_type": "markdown",
   "metadata": {},
   "source": [
    "## 3. generate .gif animation"
   ]
  },
  {
   "cell_type": "code",
   "execution_count": null,
   "metadata": {
    "scrolled": true
   },
   "outputs": [
    {
     "name": "stdout",
     "output_type": "stream",
     "text": [
      "0001\n",
      "convert: invalid profile length `/Users/shua784/Dropbox/PNNL/Projects/Reach_scale_model/Outputs/HFR_model_200x200x5/river_stage/sorted/stage1.jpg' @ warning/png.c/MagickPNGWarningHandler/1744.\n",
      "0002\n",
      "convert: invalid profile length `/Users/shua784/Dropbox/PNNL/Projects/Reach_scale_model/Outputs/HFR_model_200x200x5/river_stage/sorted/stage2.jpg' @ warning/png.c/MagickPNGWarningHandler/1744.\n",
      "0003\n",
      "convert: invalid profile length `/Users/shua784/Dropbox/PNNL/Projects/Reach_scale_model/Outputs/HFR_model_200x200x5/river_stage/sorted/stage3.jpg' @ warning/png.c/MagickPNGWarningHandler/1744.\n",
      "0004\n",
      "convert: invalid profile length `/Users/shua784/Dropbox/PNNL/Projects/Reach_scale_model/Outputs/HFR_model_200x200x5/river_stage/sorted/stage4.jpg' @ warning/png.c/MagickPNGWarningHandler/1744.\n",
      "0005\n",
      "convert: invalid profile length `/Users/shua784/Dropbox/PNNL/Projects/Reach_scale_model/Outputs/HFR_model_200x200x5/river_stage/sorted/stage5.jpg' @ warning/png.c/MagickPNGWarningHandler/1744.\n",
      "0006\n",
      "convert: invalid profile length `/Users/shua784/Dropbox/PNNL/Projects/Reach_scale_model/Outputs/HFR_model_200x200x5/river_stage/sorted/stage6.jpg' @ warning/png.c/MagickPNGWarningHandler/1744.\n",
      "0007\n",
      "convert: invalid profile length `/Users/shua784/Dropbox/PNNL/Projects/Reach_scale_model/Outputs/HFR_model_200x200x5/river_stage/sorted/stage7.jpg' @ warning/png.c/MagickPNGWarningHandler/1744.\n",
      "0008\n",
      "convert: invalid profile length `/Users/shua784/Dropbox/PNNL/Projects/Reach_scale_model/Outputs/HFR_model_200x200x5/river_stage/sorted/stage8.jpg' @ warning/png.c/MagickPNGWarningHandler/1744.\n",
      "0009\n",
      "convert: invalid profile length `/Users/shua784/Dropbox/PNNL/Projects/Reach_scale_model/Outputs/HFR_model_200x200x5/river_stage/sorted/stage9.jpg' @ warning/png.c/MagickPNGWarningHandler/1744.\n",
      "0010\n",
      "convert: invalid profile length `/Users/shua784/Dropbox/PNNL/Projects/Reach_scale_model/Outputs/HFR_model_200x200x5/river_stage/sorted/stage10.jpg' @ warning/png.c/MagickPNGWarningHandler/1744.\n",
      "0011\n",
      "convert: invalid profile length `/Users/shua784/Dropbox/PNNL/Projects/Reach_scale_model/Outputs/HFR_model_200x200x5/river_stage/sorted/stage11.jpg' @ warning/png.c/MagickPNGWarningHandler/1744.\n",
      "0012\n",
      "convert: invalid profile length `/Users/shua784/Dropbox/PNNL/Projects/Reach_scale_model/Outputs/HFR_model_200x200x5/river_stage/sorted/stage12.jpg' @ warning/png.c/MagickPNGWarningHandler/1744.\n",
      "0013\n",
      "convert: invalid profile length `/Users/shua784/Dropbox/PNNL/Projects/Reach_scale_model/Outputs/HFR_model_200x200x5/river_stage/sorted/stage13.jpg' @ warning/png.c/MagickPNGWarningHandler/1744.\n",
      "0014\n",
      "convert: invalid profile length `/Users/shua784/Dropbox/PNNL/Projects/Reach_scale_model/Outputs/HFR_model_200x200x5/river_stage/sorted/stage14.jpg' @ warning/png.c/MagickPNGWarningHandler/1744.\n",
      "0015\n",
      "convert: invalid profile length `/Users/shua784/Dropbox/PNNL/Projects/Reach_scale_model/Outputs/HFR_model_200x200x5/river_stage/sorted/stage15.jpg' @ warning/png.c/MagickPNGWarningHandler/1744.\n",
      "0016\n",
      "convert: invalid profile length `/Users/shua784/Dropbox/PNNL/Projects/Reach_scale_model/Outputs/HFR_model_200x200x5/river_stage/sorted/stage16.jpg' @ warning/png.c/MagickPNGWarningHandler/1744.\n",
      "0017\n",
      "convert: invalid profile length `/Users/shua784/Dropbox/PNNL/Projects/Reach_scale_model/Outputs/HFR_model_200x200x5/river_stage/sorted/stage17.jpg' @ warning/png.c/MagickPNGWarningHandler/1744.\n",
      "0018\n",
      "convert: invalid profile length `/Users/shua784/Dropbox/PNNL/Projects/Reach_scale_model/Outputs/HFR_model_200x200x5/river_stage/sorted/stage18.jpg' @ warning/png.c/MagickPNGWarningHandler/1744.\n",
      "0019\n",
      "convert: invalid profile length `/Users/shua784/Dropbox/PNNL/Projects/Reach_scale_model/Outputs/HFR_model_200x200x5/river_stage/sorted/stage19.jpg' @ warning/png.c/MagickPNGWarningHandler/1744.\n",
      "0020\n",
      "convert: invalid profile length `/Users/shua784/Dropbox/PNNL/Projects/Reach_scale_model/Outputs/HFR_model_200x200x5/river_stage/sorted/stage20.jpg' @ warning/png.c/MagickPNGWarningHandler/1744.\n",
      "0021\n",
      "convert: invalid profile length `/Users/shua784/Dropbox/PNNL/Projects/Reach_scale_model/Outputs/HFR_model_200x200x5/river_stage/sorted/stage21.jpg' @ warning/png.c/MagickPNGWarningHandler/1744.\n",
      "0022\n",
      "convert: invalid profile length `/Users/shua784/Dropbox/PNNL/Projects/Reach_scale_model/Outputs/HFR_model_200x200x5/river_stage/sorted/stage22.jpg' @ warning/png.c/MagickPNGWarningHandler/1744.\n",
      "0023\n",
      "convert: invalid profile length `/Users/shua784/Dropbox/PNNL/Projects/Reach_scale_model/Outputs/HFR_model_200x200x5/river_stage/sorted/stage23.jpg' @ warning/png.c/MagickPNGWarningHandler/1744.\n",
      "0024\n",
      "convert: invalid profile length `/Users/shua784/Dropbox/PNNL/Projects/Reach_scale_model/Outputs/HFR_model_200x200x5/river_stage/sorted/stage24.jpg' @ warning/png.c/MagickPNGWarningHandler/1744.\n",
      "0025\n",
      "convert: invalid profile length `/Users/shua784/Dropbox/PNNL/Projects/Reach_scale_model/Outputs/HFR_model_200x200x5/river_stage/sorted/stage25.jpg' @ warning/png.c/MagickPNGWarningHandler/1744.\n",
      "0026\n",
      "convert: invalid profile length `/Users/shua784/Dropbox/PNNL/Projects/Reach_scale_model/Outputs/HFR_model_200x200x5/river_stage/sorted/stage26.jpg' @ warning/png.c/MagickPNGWarningHandler/1744.\n",
      "0027\n",
      "convert: invalid profile length `/Users/shua784/Dropbox/PNNL/Projects/Reach_scale_model/Outputs/HFR_model_200x200x5/river_stage/sorted/stage27.jpg' @ warning/png.c/MagickPNGWarningHandler/1744.\n",
      "0028\n",
      "convert: invalid profile length `/Users/shua784/Dropbox/PNNL/Projects/Reach_scale_model/Outputs/HFR_model_200x200x5/river_stage/sorted/stage28.jpg' @ warning/png.c/MagickPNGWarningHandler/1744.\n",
      "0029\n",
      "convert: invalid profile length `/Users/shua784/Dropbox/PNNL/Projects/Reach_scale_model/Outputs/HFR_model_200x200x5/river_stage/sorted/stage29.jpg' @ warning/png.c/MagickPNGWarningHandler/1744.\n",
      "0030\n",
      "convert: invalid profile length `/Users/shua784/Dropbox/PNNL/Projects/Reach_scale_model/Outputs/HFR_model_200x200x5/river_stage/sorted/stage30.jpg' @ warning/png.c/MagickPNGWarningHandler/1744.\n",
      "0031\n",
      "convert: invalid profile length `/Users/shua784/Dropbox/PNNL/Projects/Reach_scale_model/Outputs/HFR_model_200x200x5/river_stage/sorted/stage31.jpg' @ warning/png.c/MagickPNGWarningHandler/1744.\n",
      "0032\n",
      "convert: invalid profile length `/Users/shua784/Dropbox/PNNL/Projects/Reach_scale_model/Outputs/HFR_model_200x200x5/river_stage/sorted/stage32.jpg' @ warning/png.c/MagickPNGWarningHandler/1744.\n",
      "0033\n",
      "convert: invalid profile length `/Users/shua784/Dropbox/PNNL/Projects/Reach_scale_model/Outputs/HFR_model_200x200x5/river_stage/sorted/stage33.jpg' @ warning/png.c/MagickPNGWarningHandler/1744.\n",
      "0034\n",
      "convert: invalid profile length `/Users/shua784/Dropbox/PNNL/Projects/Reach_scale_model/Outputs/HFR_model_200x200x5/river_stage/sorted/stage34.jpg' @ warning/png.c/MagickPNGWarningHandler/1744.\n",
      "0035\n",
      "convert: invalid profile length `/Users/shua784/Dropbox/PNNL/Projects/Reach_scale_model/Outputs/HFR_model_200x200x5/river_stage/sorted/stage35.jpg' @ warning/png.c/MagickPNGWarningHandler/1744.\n",
      "0036\n",
      "convert: invalid profile length `/Users/shua784/Dropbox/PNNL/Projects/Reach_scale_model/Outputs/HFR_model_200x200x5/river_stage/sorted/stage36.jpg' @ warning/png.c/MagickPNGWarningHandler/1744.\n",
      "0037\n",
      "convert: invalid profile length `/Users/shua784/Dropbox/PNNL/Projects/Reach_scale_model/Outputs/HFR_model_200x200x5/river_stage/sorted/stage37.jpg' @ warning/png.c/MagickPNGWarningHandler/1744.\n",
      "0038\n",
      "convert: invalid profile length `/Users/shua784/Dropbox/PNNL/Projects/Reach_scale_model/Outputs/HFR_model_200x200x5/river_stage/sorted/stage38.jpg' @ warning/png.c/MagickPNGWarningHandler/1744.\n",
      "0039\n",
      "convert: invalid profile length `/Users/shua784/Dropbox/PNNL/Projects/Reach_scale_model/Outputs/HFR_model_200x200x5/river_stage/sorted/stage39.jpg' @ warning/png.c/MagickPNGWarningHandler/1744.\n",
      "0040\n",
      "convert: invalid profile length `/Users/shua784/Dropbox/PNNL/Projects/Reach_scale_model/Outputs/HFR_model_200x200x5/river_stage/sorted/stage40.jpg' @ warning/png.c/MagickPNGWarningHandler/1744.\n",
      "0041\n",
      "convert: invalid profile length `/Users/shua784/Dropbox/PNNL/Projects/Reach_scale_model/Outputs/HFR_model_200x200x5/river_stage/sorted/stage41.jpg' @ warning/png.c/MagickPNGWarningHandler/1744.\n",
      "0042\n",
      "convert: invalid profile length `/Users/shua784/Dropbox/PNNL/Projects/Reach_scale_model/Outputs/HFR_model_200x200x5/river_stage/sorted/stage42.jpg' @ warning/png.c/MagickPNGWarningHandler/1744.\n"
     ]
    },
    {
     "name": "stdout",
     "output_type": "stream",
     "text": [
      "0043\n",
      "convert: invalid profile length `/Users/shua784/Dropbox/PNNL/Projects/Reach_scale_model/Outputs/HFR_model_200x200x5/river_stage/sorted/stage43.jpg' @ warning/png.c/MagickPNGWarningHandler/1744.\n",
      "0044\n",
      "convert: invalid profile length `/Users/shua784/Dropbox/PNNL/Projects/Reach_scale_model/Outputs/HFR_model_200x200x5/river_stage/sorted/stage44.jpg' @ warning/png.c/MagickPNGWarningHandler/1744.\n",
      "0045\n",
      "convert: invalid profile length `/Users/shua784/Dropbox/PNNL/Projects/Reach_scale_model/Outputs/HFR_model_200x200x5/river_stage/sorted/stage45.jpg' @ warning/png.c/MagickPNGWarningHandler/1744.\n",
      "0046\n",
      "convert: invalid profile length `/Users/shua784/Dropbox/PNNL/Projects/Reach_scale_model/Outputs/HFR_model_200x200x5/river_stage/sorted/stage46.jpg' @ warning/png.c/MagickPNGWarningHandler/1744.\n",
      "0047\n",
      "convert: invalid profile length `/Users/shua784/Dropbox/PNNL/Projects/Reach_scale_model/Outputs/HFR_model_200x200x5/river_stage/sorted/stage47.jpg' @ warning/png.c/MagickPNGWarningHandler/1744.\n",
      "0048\n",
      "convert: invalid profile length `/Users/shua784/Dropbox/PNNL/Projects/Reach_scale_model/Outputs/HFR_model_200x200x5/river_stage/sorted/stage48.jpg' @ warning/png.c/MagickPNGWarningHandler/1744.\n",
      "0049\n",
      "convert: invalid profile length `/Users/shua784/Dropbox/PNNL/Projects/Reach_scale_model/Outputs/HFR_model_200x200x5/river_stage/sorted/stage49.jpg' @ warning/png.c/MagickPNGWarningHandler/1744.\n",
      "0050\n",
      "convert: invalid profile length `/Users/shua784/Dropbox/PNNL/Projects/Reach_scale_model/Outputs/HFR_model_200x200x5/river_stage/sorted/stage50.jpg' @ warning/png.c/MagickPNGWarningHandler/1744.\n",
      "0051\n",
      "convert: invalid profile length `/Users/shua784/Dropbox/PNNL/Projects/Reach_scale_model/Outputs/HFR_model_200x200x5/river_stage/sorted/stage51.jpg' @ warning/png.c/MagickPNGWarningHandler/1744.\n",
      "0052\n",
      "convert: invalid profile length `/Users/shua784/Dropbox/PNNL/Projects/Reach_scale_model/Outputs/HFR_model_200x200x5/river_stage/sorted/stage52.jpg' @ warning/png.c/MagickPNGWarningHandler/1744.\n",
      "0053\n",
      "convert: invalid profile length `/Users/shua784/Dropbox/PNNL/Projects/Reach_scale_model/Outputs/HFR_model_200x200x5/river_stage/sorted/stage53.jpg' @ warning/png.c/MagickPNGWarningHandler/1744.\n",
      "0054\n",
      "convert: invalid profile length `/Users/shua784/Dropbox/PNNL/Projects/Reach_scale_model/Outputs/HFR_model_200x200x5/river_stage/sorted/stage54.jpg' @ warning/png.c/MagickPNGWarningHandler/1744.\n",
      "0055\n",
      "convert: invalid profile length `/Users/shua784/Dropbox/PNNL/Projects/Reach_scale_model/Outputs/HFR_model_200x200x5/river_stage/sorted/stage55.jpg' @ warning/png.c/MagickPNGWarningHandler/1744.\n",
      "0056\n",
      "convert: invalid profile length `/Users/shua784/Dropbox/PNNL/Projects/Reach_scale_model/Outputs/HFR_model_200x200x5/river_stage/sorted/stage56.jpg' @ warning/png.c/MagickPNGWarningHandler/1744.\n",
      "0057\n",
      "convert: invalid profile length `/Users/shua784/Dropbox/PNNL/Projects/Reach_scale_model/Outputs/HFR_model_200x200x5/river_stage/sorted/stage57.jpg' @ warning/png.c/MagickPNGWarningHandler/1744.\n",
      "0058\n",
      "convert: invalid profile length `/Users/shua784/Dropbox/PNNL/Projects/Reach_scale_model/Outputs/HFR_model_200x200x5/river_stage/sorted/stage58.jpg' @ warning/png.c/MagickPNGWarningHandler/1744.\n",
      "0059\n",
      "convert: invalid profile length `/Users/shua784/Dropbox/PNNL/Projects/Reach_scale_model/Outputs/HFR_model_200x200x5/river_stage/sorted/stage59.jpg' @ warning/png.c/MagickPNGWarningHandler/1744.\n",
      "0060\n",
      "convert: invalid profile length `/Users/shua784/Dropbox/PNNL/Projects/Reach_scale_model/Outputs/HFR_model_200x200x5/river_stage/sorted/stage60.jpg' @ warning/png.c/MagickPNGWarningHandler/1744.\n",
      "0061\n",
      "convert: invalid profile length `/Users/shua784/Dropbox/PNNL/Projects/Reach_scale_model/Outputs/HFR_model_200x200x5/river_stage/sorted/stage61.jpg' @ warning/png.c/MagickPNGWarningHandler/1744.\n",
      "0062\n",
      "convert: invalid profile length `/Users/shua784/Dropbox/PNNL/Projects/Reach_scale_model/Outputs/HFR_model_200x200x5/river_stage/sorted/stage62.jpg' @ warning/png.c/MagickPNGWarningHandler/1744.\n",
      "0063\n",
      "convert: invalid profile length `/Users/shua784/Dropbox/PNNL/Projects/Reach_scale_model/Outputs/HFR_model_200x200x5/river_stage/sorted/stage63.jpg' @ warning/png.c/MagickPNGWarningHandler/1744.\n",
      "0064\n",
      "convert: invalid profile length `/Users/shua784/Dropbox/PNNL/Projects/Reach_scale_model/Outputs/HFR_model_200x200x5/river_stage/sorted/stage64.jpg' @ warning/png.c/MagickPNGWarningHandler/1744.\n",
      "0065\n",
      "convert: invalid profile length `/Users/shua784/Dropbox/PNNL/Projects/Reach_scale_model/Outputs/HFR_model_200x200x5/river_stage/sorted/stage65.jpg' @ warning/png.c/MagickPNGWarningHandler/1744.\n",
      "0066\n",
      "convert: invalid profile length `/Users/shua784/Dropbox/PNNL/Projects/Reach_scale_model/Outputs/HFR_model_200x200x5/river_stage/sorted/stage66.jpg' @ warning/png.c/MagickPNGWarningHandler/1744.\n",
      "0067\n",
      "convert: invalid profile length `/Users/shua784/Dropbox/PNNL/Projects/Reach_scale_model/Outputs/HFR_model_200x200x5/river_stage/sorted/stage67.jpg' @ warning/png.c/MagickPNGWarningHandler/1744.\n",
      "0068\n",
      "convert: invalid profile length `/Users/shua784/Dropbox/PNNL/Projects/Reach_scale_model/Outputs/HFR_model_200x200x5/river_stage/sorted/stage68.jpg' @ warning/png.c/MagickPNGWarningHandler/1744.\n",
      "0069\n",
      "convert: invalid profile length `/Users/shua784/Dropbox/PNNL/Projects/Reach_scale_model/Outputs/HFR_model_200x200x5/river_stage/sorted/stage69.jpg' @ warning/png.c/MagickPNGWarningHandler/1744.\n",
      "0070\n",
      "convert: invalid profile length `/Users/shua784/Dropbox/PNNL/Projects/Reach_scale_model/Outputs/HFR_model_200x200x5/river_stage/sorted/stage70.jpg' @ warning/png.c/MagickPNGWarningHandler/1744.\n",
      "0071\n",
      "convert: invalid profile length `/Users/shua784/Dropbox/PNNL/Projects/Reach_scale_model/Outputs/HFR_model_200x200x5/river_stage/sorted/stage71.jpg' @ warning/png.c/MagickPNGWarningHandler/1744.\n",
      "0072\n",
      "convert: invalid profile length `/Users/shua784/Dropbox/PNNL/Projects/Reach_scale_model/Outputs/HFR_model_200x200x5/river_stage/sorted/stage72.jpg' @ warning/png.c/MagickPNGWarningHandler/1744.\n",
      "0073\n",
      "convert: invalid profile length `/Users/shua784/Dropbox/PNNL/Projects/Reach_scale_model/Outputs/HFR_model_200x200x5/river_stage/sorted/stage73.jpg' @ warning/png.c/MagickPNGWarningHandler/1744.\n",
      "0074\n",
      "convert: invalid profile length `/Users/shua784/Dropbox/PNNL/Projects/Reach_scale_model/Outputs/HFR_model_200x200x5/river_stage/sorted/stage74.jpg' @ warning/png.c/MagickPNGWarningHandler/1744.\n",
      "0075\n",
      "convert: invalid profile length `/Users/shua784/Dropbox/PNNL/Projects/Reach_scale_model/Outputs/HFR_model_200x200x5/river_stage/sorted/stage75.jpg' @ warning/png.c/MagickPNGWarningHandler/1744.\n",
      "0076\n"
     ]
    }
   ],
   "source": [
    "# combine two figures\n",
    "#!/bin/bash -l\n",
    "\n",
    "for itime in {1..366} ## timesteps from 2011-1-1 to 2015-12-31\n",
    "##for itime in {203..641} ## timesteps from 2010-1-1 to 2015-12-31\n",
    "##for itime in {276..276} \n",
    "\n",
    "do\n",
    "\techo $(printf \"%04d\" $itime)\n",
    "\n",
    "\tconvert \"/Users/shua784/Dropbox/PNNL/Projects/Reach_scale_model/Outputs/HFR_model_200x200x5/tracer/tracer.\"$(printf \"%04d\" $(($itime+10)) )\".jpg\" \"/Users/shua784/Dropbox/PNNL/Projects/Reach_scale_model/Outputs/HFR_model_200x200x5/age/age.\"$(printf \"%04d\" $(($itime+10)) )\".jpg\" +append \"/Users/shua784/Dropbox/PNNL/Projects/Reach_scale_model/Outputs/HFR_model_200x200x5/combined_tracer_age/tracer_age.\"$itime\".jpg\" \n",
    "\n",
    "\tconvert \"/Users/shua784/Dropbox/PNNL/Projects/Reach_scale_model/Outputs/HFR_model_200x200x5/river_stage/sorted/stage\"$itime\".jpg\" -resize 200% -gravity Center \"/Users/shua784/Dropbox/PNNL/Projects/Reach_scale_model/Outputs/HFR_model_200x200x5/combined_tracer_age/tracer_age.\"$itime\".jpg\" -append \"/Users/shua784/Dropbox/PNNL/Projects/Reach_scale_model/Outputs/HFR_model_200x200x5/combined_tracer_age_level/tracer_age_level.\"$itime\".jpg\" \n",
    "\n",
    "## convert \"/Users/shua784/Dropbox/PNNL/Projects/Reach_scale_model/Outputs/river_stage/sorted/stage_\"$itime\".jpg\" -resize 50% -gravity Center \"/Users/shua784/Dropbox/PNNL/Projects/Reach_scale_model/Outputs/test_2007_age/GW_age/sorted/age.\"$(printf \"%04d\" $(($itime-1)) )\".jpg\" -append \"/Users/shua784/Dropbox/PNNL/Projects/Reach_scale_model/Outputs/test_2007_age/combined_age_level/age_level.\"$itime\".jpg\" \n",
    "\n",
    "## convert \"/Users/shua784/Dropbox/PNNL/Projects/Reach_scale_model/Outputs/river_stage/sorted/stage_\"$itime\".jpg\" -resize 50% -gravity Center \"/Users/shua784/Dropbox/PNNL/Projects/Reach_scale_model/Outputs/test_2007_age/tracer_plume/sorted/tracer.\"$(printf \"%04d\" $(($itime-1)) )\".jpg\" -append \"/Users/shua784/Dropbox/PNNL/Projects/Reach_scale_model/Outputs/test_2007_age/combined_tracer_level/tracer_level.\"$itime\".jpg\" \n",
    "\n",
    " \n",
    "done\n",
    "\n"
   ]
  },
  {
   "cell_type": "code",
   "execution_count": null,
   "metadata": {
    "collapsed": true
   },
   "outputs": [],
   "source": [
    "# convert jpeg to gif\n",
    "#!/bin/bash -l\n",
    "\n",
    "# convert -delay 1 -loop 0 -quality 75 /Users/shua784/Dropbox/PNNL/Projects/Reach_scale_model/Outputs/HFR_model_200x200x5/river_stage/resize*.png -resize 30% /Users/shua784/Dropbox/PNNL/Projects/Reach_scale_model/Outputs/HFR_model_200x200x5/river_stage/river_stage_2011_2015.gif\n",
    "\n",
    "# convert -delay 1 -loop 0 -quality 75 /Users/shua784/Dropbox/PNNL/Projects/Reach_scale_model/Outputs/HFR_model_200x200x5/age/age*.jpg /Users/shua784/Dropbox/PNNL/Projects/Reach_scale_model/Outputs/HFR_model_200x200x5/age/age_2011_2015.gif\n",
    "\n",
    "convert -delay 1 -loop 0 -quality 50 /Users/shua784/Dropbox/PNNL/Projects/Reach_scale_model/Outputs/HFR_model_200x200x5/combined_tracer_age_level/tracer*.jpg -resize 50% /Users/shua784/Dropbox/PNNL/Projects/Reach_scale_model/Outputs/HFR_model_200x200x5/combined_tracer_age_level/tracer_age_level_2011_2015.gif"
   ]
  }
 ],
 "metadata": {
  "kernelspec": {
   "display_name": "Bash",
   "language": "bash",
   "name": "bash"
  },
  "language_info": {
   "codemirror_mode": "shell",
   "file_extension": ".sh",
   "mimetype": "text/x-sh",
   "name": "bash"
  },
  "varInspector": {
   "cols": {
    "lenName": 16,
    "lenType": 16,
    "lenVar": 40
   },
   "kernels_config": {
    "python": {
     "delete_cmd_postfix": "",
     "delete_cmd_prefix": "del ",
     "library": "var_list.py",
     "varRefreshCmd": "print(var_dic_list())"
    },
    "r": {
     "delete_cmd_postfix": ") ",
     "delete_cmd_prefix": "rm(",
     "library": "var_list.r",
     "varRefreshCmd": "cat(var_dic_list()) "
    }
   },
   "types_to_exclude": [
    "module",
    "function",
    "builtin_function_or_method",
    "instance",
    "_Feature"
   ],
   "window_display": false
  }
 },
 "nbformat": 4,
 "nbformat_minor": 2
}
