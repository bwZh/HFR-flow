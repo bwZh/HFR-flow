{
 "cells": [
  {
   "cell_type": "markdown",
   "metadata": {},
   "source": [
    "<a id='top'></a>"
   ]
  },
  {
   "cell_type": "markdown",
   "metadata": {},
   "source": [
    "# Workflow for setting up reach scale model"
   ]
  },
  {
   "cell_type": "markdown",
   "metadata": {},
   "source": [
    "## Table of Contents\n",
    "\n",
    "* [1. initialize model configuration](#model-config)\n",
    "* [2. pre-process](#pre-process)\n",
    "    * [2.1 import geoframework](#import-geoframework)\n",
    "    * [2.2 generate material ids and river faces](#material-river-face)\n",
    "    * [2.3 generate initial head for the domain](#initial-head)\n",
    "    * [2.4 generate river boundary](#river-bc)\n",
    "    * [2.5 generate PFLOTRAN input deck](#input_deck)\n",
    "* [3. submit and run jobs on NERSC](#submit-and-run)\n",
    "* [4. post-process](#post-process)\n",
    "    * [4.1 plot tracer/age in Paraview](#plot-in-paraview)\n",
    "    * [4.2 plot flux across riverbed from mass balance output](#plot-flux-from-massbalance)\n",
    "    * [4.3 plot flux across riverbed from river cells](#plot-flux-from-river-cells)\n",
    "        * [4.3.1 pre-process h5 output](#plot-flux-from-river-cells-1)\n",
    "        * [4.3.2 generate flux bar plot](#plot-flux-from-river-cells-2)\n",
    "       "
   ]
  },
  {
   "cell_type": "markdown",
   "metadata": {},
   "source": [
    "You can also find my github repository [here](https://github.com/pshuai88/notebook)."
   ]
  },
  {
   "cell_type": "markdown",
   "metadata": {},
   "source": [
    "<a id='model-config'></a>"
   ]
  },
  {
   "cell_type": "markdown",
   "metadata": {},
   "source": [
    "### 1. initialize model configuration "
   ]
  },
  {
   "cell_type": "markdown",
   "metadata": {},
   "source": [
    "Run [model_config.ipynb](model_config.ipynb) to configurate model setup (model domain, parameters...)"
   ]
  },
  {
   "cell_type": "markdown",
   "metadata": {},
   "source": [
    "[return to the top](#top)"
   ]
  },
  {
   "attachments": {},
   "cell_type": "markdown",
   "metadata": {},
   "source": [
    "![map_study_area_v3.jpeg](figures/map_study_area_v3.jpeg)"
   ]
  },
  {
   "attachments": {},
   "cell_type": "markdown",
   "metadata": {},
   "source": [
    "![HFR_model_3d_100m.png](figures/HFR_model_3d_100m.png)"
   ]
  },
  {
   "cell_type": "markdown",
   "metadata": {},
   "source": [
    "<a id='pre-process'></a>"
   ]
  },
  {
   "cell_type": "markdown",
   "metadata": {},
   "source": [
    "### 2.  pre-process"
   ]
  },
  {
   "cell_type": "markdown",
   "metadata": {},
   "source": [
    "Provide PFLOTRAN inputs for the model."
   ]
  },
  {
   "cell_type": "markdown",
   "metadata": {},
   "source": [
    "[return to the top](#top)"
   ]
  },
  {
   "cell_type": "markdown",
   "metadata": {},
   "source": [
    "<a id='import-geoframework'></a>"
   ]
  },
  {
   "cell_type": "markdown",
   "metadata": {
    "collapsed": true
   },
   "source": [
    "#### 2.1 import geoframework"
   ]
  },
  {
   "cell_type": "markdown",
   "metadata": {
    "collapsed": true
   },
   "source": [
    "Run [import_geoframework.ipynb](import_geoframework.ipynb) to import geoframework for each unit.\n",
    "\n",
    "Currently, there are six different geologic units. The hydraulic properties are listed below:"
   ]
  },
  {
   "cell_type": "markdown",
   "metadata": {
    "collapsed": true
   },
   "source": [
    "| Unit | Permeability ($m^{2}$) | Hydraulic conductivity ($m/d$) |\n",
    "|------|:---------------:|-------------:|\n",
    "|Hanford (Hf)|7e-09| 7000|\n",
    "|Cold Creek (Cc)|1e-10|100|\n",
    "|Ringold Taylor Flats (Rtf)|1e-12|1|\n",
    "|Ringold E (Re)|4e-11|40|\n",
    "|Ringold Lower Mud (Rlm)|1e-12|1|\n",
    "|Ringold A (Ra)|1e-12|1|"
   ]
  },
  {
   "attachments": {},
   "cell_type": "markdown",
   "metadata": {},
   "source": [
    "![hanford2d_model_100m.jpg](figures/hanford2d_model_100m.jpg)"
   ]
  },
  {
   "attachments": {},
   "cell_type": "markdown",
   "metadata": {},
   "source": [
    "![basalt2d_model_100m.jpg](figures/basalt2d_model_100m.jpg)"
   ]
  },
  {
   "cell_type": "markdown",
   "metadata": {},
   "source": [
    "<a id='material-river-face'></a>"
   ]
  },
  {
   "cell_type": "markdown",
   "metadata": {
    "collapsed": true
   },
   "source": [
    "#### 2.2 generate material ids and river faces"
   ]
  },
  {
   "cell_type": "markdown",
   "metadata": {},
   "source": [
    "Run [material_river_face.ipynb](material_river_face.ipynb) to generate material ids and find all river cells. Material ids are listed below:"
   ]
  },
  {
   "cell_type": "markdown",
   "metadata": {},
   "source": [
    "|Material id| Unit|\n",
    "|-----------|-----|\n",
    "|0|Inactive cells|\n",
    "|1|Hf|\n",
    "|2|Cc|\n",
    "|3|Rtf|\n",
    "|4|Re|\n",
    "|5|Rlm|\n",
    "|6|Ra|"
   ]
  },
  {
   "cell_type": "markdown",
   "metadata": {},
   "source": [
    "<a id='initial-head'></a>"
   ]
  },
  {
   "cell_type": "markdown",
   "metadata": {},
   "source": [
    "#### 2.3 generate initial head for the domain"
   ]
  },
  {
   "cell_type": "markdown",
   "metadata": {},
   "source": [
    "Run [initial_head.ipynb](initial_head.ipynb) to generate initial head for the model"
   ]
  },
  {
   "attachments": {},
   "cell_type": "markdown",
   "metadata": {},
   "source": [
    "![initial_head_200m_2007-01-01.jpg](figures/initial_head_200m_2007-01-01.jpg)"
   ]
  },
  {
   "cell_type": "markdown",
   "metadata": {},
   "source": [
    "<a id='river-bc'></a>"
   ]
  },
  {
   "cell_type": "markdown",
   "metadata": {},
   "source": [
    "#### 2.4 generate river boundary "
   ]
  },
  {
   "cell_type": "markdown",
   "metadata": {},
   "source": [
    "Run [river_bc.ipynb](river_bc.ipynb) to generate river bc from Mass1 simulations."
   ]
  },
  {
   "cell_type": "markdown",
   "metadata": {},
   "source": [
    "<a id='input_deck'></a>"
   ]
  },
  {
   "cell_type": "markdown",
   "metadata": {},
   "source": [
    "#### 2.5 generate PFLOTRAN input deck "
   ]
  },
  {
   "cell_type": "markdown",
   "metadata": {},
   "source": [
    "Run [PFLOTRAN_input.ipynb](PFLOTRAN_input.ipynb) to generate PFLOTRAN input deck."
   ]
  },
  {
   "cell_type": "markdown",
   "metadata": {},
   "source": [
    "<a id='submit-and-run'></a>"
   ]
  },
  {
   "cell_type": "markdown",
   "metadata": {},
   "source": [
    "### 3. submit and run jobs on NERSC "
   ]
  },
  {
   "cell_type": "markdown",
   "metadata": {},
   "source": [
    "Run [submit_job.ipynb](submit_job.ipynb) to submit and run jobs on NERSC."
   ]
  },
  {
   "cell_type": "markdown",
   "metadata": {},
   "source": [
    "<a id='post-process'></a>"
   ]
  },
  {
   "cell_type": "markdown",
   "metadata": {},
   "source": [
    "### 4. post-process "
   ]
  },
  {
   "cell_type": "markdown",
   "metadata": {},
   "source": [
    "Post-process data from PFLOTRAN outputs and generate plots."
   ]
  },
  {
   "cell_type": "markdown",
   "metadata": {},
   "source": [
    "<a id='plot-in-paraview'></a>"
   ]
  },
  {
   "cell_type": "markdown",
   "metadata": {},
   "source": [
    "#### 4.1 plot tracer/age in Paraview "
   ]
  },
  {
   "cell_type": "markdown",
   "metadata": {},
   "source": [
    "Run [plot_in_Paraview.ipynb](plot_in_Paraview.ipynb) to generate plots using Paraview"
   ]
  },
  {
   "attachments": {},
   "cell_type": "markdown",
   "metadata": {},
   "source": [
    "![age.0371.jpg](figures/age.0376.jpg)"
   ]
  },
  {
   "attachments": {},
   "cell_type": "markdown",
   "metadata": {},
   "source": [
    "![](https://github.com/pshuai88/notebook/blob/master/figures/tracer_2011_2015.gif)"
   ]
  },
  {
   "cell_type": "markdown",
   "metadata": {},
   "source": [
    "<a id='plot-flux-from-massbalance'></a>"
   ]
  },
  {
   "cell_type": "markdown",
   "metadata": {},
   "source": [
    "#### 4.2 plot flux across riverbed from mass balance output "
   ]
  },
  {
   "cell_type": "markdown",
   "metadata": {},
   "source": [
    "Run [plot_flux_from_massBalance.ipynb](plot_flux_from_massBalance.ipynb) to generate flux across riverbed using mass balance ouput."
   ]
  },
  {
   "cell_type": "markdown",
   "metadata": {},
   "source": [
    "<a id='plot-flux-from-river-cells'></a>"
   ]
  },
  {
   "cell_type": "markdown",
   "metadata": {},
   "source": [
    "#### [4.3 plot flux across riverbed from river cells]"
   ]
  },
  {
   "cell_type": "markdown",
   "metadata": {},
   "source": [
    "<a id='plot-flux-from-river-cells-1'></a>"
   ]
  },
  {
   "attachments": {},
   "cell_type": "markdown",
   "metadata": {},
   "source": [
    "![finger_flux.png](figures/finger_flux.png)"
   ]
  },
  {
   "cell_type": "markdown",
   "metadata": {},
   "source": [
    "##### 4.3.1 pre-process h5 output "
   ]
  },
  {
   "cell_type": "markdown",
   "metadata": {},
   "source": [
    "Run [plot_flux_from_river_cells-1.ipynb](plot_flux_from_river_cells-1.ipynb) to pre-process model snapshots."
   ]
  },
  {
   "cell_type": "markdown",
   "metadata": {},
   "source": [
    "<a id='plot-flux-from-river-cells-2'></a>"
   ]
  },
  {
   "cell_type": "markdown",
   "metadata": {},
   "source": [
    "##### 4.3.2 generate flux bar plot "
   ]
  },
  {
   "cell_type": "markdown",
   "metadata": {},
   "source": [
    "Run [plot_flux_from_river_cells-2.ipynb](plot_flux_from_river_cells-2.ipynb) to generate bar plots for riverbed flux."
   ]
  },
  {
   "attachments": {},
   "cell_type": "markdown",
   "metadata": {},
   "source": [
    "![flux_bar.png](figures/flux_bar.png)"
   ]
  },
  {
   "cell_type": "markdown",
   "metadata": {},
   "source": [
    "[return to the top](#top)"
   ]
  }
 ],
 "metadata": {
  "kernelspec": {
   "display_name": "Python 3",
   "language": "python",
   "name": "python3"
  },
  "language_info": {
   "codemirror_mode": {
    "name": "ipython",
    "version": 3
   },
   "file_extension": ".py",
   "mimetype": "text/x-python",
   "name": "python",
   "nbconvert_exporter": "python",
   "pygments_lexer": "ipython3",
   "version": "3.6.2"
  },
  "varInspector": {
   "cols": {
    "lenName": 16,
    "lenType": 16,
    "lenVar": 40
   },
   "kernels_config": {
    "python": {
     "delete_cmd_postfix": "",
     "delete_cmd_prefix": "del ",
     "library": "var_list.py",
     "varRefreshCmd": "print(var_dic_list())"
    },
    "r": {
     "delete_cmd_postfix": ") ",
     "delete_cmd_prefix": "rm(",
     "library": "var_list.r",
     "varRefreshCmd": "cat(var_dic_list()) "
    }
   },
   "types_to_exclude": [
    "module",
    "function",
    "builtin_function_or_method",
    "instance",
    "_Feature"
   ],
   "window_display": false
  }
 },
 "nbformat": 4,
 "nbformat_minor": 2
}
