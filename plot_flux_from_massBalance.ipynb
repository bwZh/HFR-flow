{
 "cells": [
  {
   "cell_type": "markdown",
   "metadata": {},
   "source": [
    "# Generate flux bar plot from Mass Balance file (.dat)"
   ]
  },
  {
   "cell_type": "code",
   "execution_count": 48,
   "metadata": {
    "ExecuteTime": {
     "end_time": "2018-05-02T23:14:26.412054Z",
     "start_time": "2018-05-02T23:14:26.391780Z"
    }
   },
   "outputs": [],
   "source": [
    "%matplotlib inline\n",
    "\n",
    "import numpy as np\n",
    "import matplotlib.pyplot as plt\n",
    "import h5py as h5\n",
    "import glob\n",
    "import matplotlib.gridspec as gridspec\n",
    "from datetime import datetime, timedelta\n",
    "from scipy import interpolate"
   ]
  },
  {
   "cell_type": "code",
   "execution_count": 4,
   "metadata": {
    "ExecuteTime": {
     "end_time": "2018-05-02T22:33:20.928262Z",
     "start_time": "2018-05-02T22:33:20.925907Z"
    }
   },
   "outputs": [],
   "source": [
    "def batch_time_to_delta(origin, x, time_format):\n",
    "    y = []\n",
    "    for ix in x:\n",
    "        temp_y = abs(datetime.strptime(\n",
    "            ix, time_format) - origin).total_seconds()\n",
    "        y.append(temp_y)\n",
    "    y = np.asarray(y)\n",
    "    return(y)\n",
    "\n",
    "def batch_delta_to_time(origin, x, time_format, delta_format):\n",
    "    y = []\n",
    "    for ix in x:\n",
    "        if delta_format == \"hours\":\n",
    "            temp_y = origin + timedelta(hours=ix)\n",
    "        elif delta_format == \"days\":\n",
    "            temp_y = origin + timedelta(days=ix)\n",
    "        elif delta_format == \"minutes\":\n",
    "            temp_y = origin + timedelta(minutes=ix)\n",
    "        elif delta_format == \"weeks\":\n",
    "            temp_y = origin + timedelta(weeks=ix)\n",
    "        elif delta_format == \"seconds\":\n",
    "            temp_y = origin + timedelta(seconds=ix)\n",
    "        elif delta_format == \"microseconds\":\n",
    "            temp_y = origin + timedelta(microseconds=ix)\n",
    "        elif delta_format == \"milliseconds\":\n",
    "            temp_y = origin + timedelta(milliseconds=ix)\n",
    "        else:\n",
    "            print(\"Sorry, this naive program only solve single time unit\")\n",
    "        y.append(temp_y.strftime(time_format))\n",
    "    y = np.asarray(y)\n",
    "    return(y)"
   ]
  },
  {
   "cell_type": "code",
   "execution_count": 77,
   "metadata": {
    "ExecuteTime": {
     "end_time": "2018-05-03T21:13:31.101699Z",
     "start_time": "2018-05-03T21:13:31.098046Z"
    }
   },
   "outputs": [],
   "source": [
    "# inputs\n",
    "data_dir = \"/Users/shua784/Dropbox/PNNL/Projects/Reach_scale_model/data/\"\n",
    "fname_usgs_gage = data_dir + \"USGS_flow_gh_12472800.csv\"\n",
    "fname_mass1_coord = data_dir + \"MASS1/coordinates.csv\"\n",
    "fname_river_middle = data_dir + \"river_middle.csv\"\n",
    "fname_river_north = data_dir + \"river_north.csv\"\n",
    "fname_river_south = data_dir + \"river_south.csv\"\n",
    "\n",
    "model_dir = \"/Users/shua784/Paraview/HFR/HFR_200x200x2_1w_bc/\"\n",
    "fname_model_origin = model_dir + \"model_origin.txt\"\n",
    "fname_material_h5 = model_dir + \"HFR_material_river.h5\"\n",
    "fname_pflotran_h5 = model_dir + \"pflotran*.h5\"\n",
    "fname_mass_dat = model_dir + \"*mas.dat\"\n",
    "\n",
    "# outputs\n",
    "out_dir = \"/Users/shua784/Dropbox/PNNL/Projects/Reach_scale_model/Outputs/HFR_model_200x200x2_1w_bc/\"\n",
    "fig_finger_flux = out_dir + \"mass_balance/finger_flux.png\"\n",
    "fig_net_exchange_bar = out_dir + \"mass_balance/net_exchange.png\"\n",
    "fname_net_exchange_txt = out_dir + \"mass_balance/net_exchange.txt\"\n",
    "fig_flux_snapshot = out_dir + \"mass_balance/\"\n",
    "fig_block_middle_flux_snapshot = out_dir + \"flux_block_middle/\"\n",
    "fig_block_north_flux_snapshot = out_dir + \"flux_block_north/\"\n",
    "fig_block_south_flux_snapshot = out_dir + \"flux_block_south/\""
   ]
  },
  {
   "cell_type": "code",
   "execution_count": 11,
   "metadata": {
    "ExecuteTime": {
     "end_time": "2018-05-02T22:37:42.518772Z",
     "start_time": "2018-05-02T22:37:42.514207Z"
    }
   },
   "outputs": [],
   "source": [
    "date_origin = datetime.strptime(\"2007-03-28 00:00:00\", \"%Y-%m-%d %H:%M:%S\")\n",
    "model_origin = np.genfromtxt(\n",
    "    fname_model_origin, delimiter=\" \", skip_header=1)\n",
    "material_file = h5.File(fname_material_h5, \"r\")"
   ]
  },
  {
   "cell_type": "code",
   "execution_count": 78,
   "metadata": {
    "ExecuteTime": {
     "end_time": "2018-05-03T21:24:44.127247Z",
     "start_time": "2018-05-03T21:24:44.121037Z"
    }
   },
   "outputs": [],
   "source": [
    "# middle block\n",
    "block_middle_coord = np.genfromtxt(fname_river_middle, delimiter=\",\", skip_header=1)\n",
    "block_middle_x = [(np.min(block_middle_coord[:, 1]) - model_origin[0]) / 1000,\n",
    "           (np.max(block_middle_coord[:, 1]) - model_origin[0]) / 1000]\n",
    "\n",
    "block_middle_y = [(np.min(block_middle_coord[:, 2]) - model_origin[1]) / 1000,\n",
    "           (np.max(block_middle_coord[:, 2]) - model_origin[1]) / 1000]\n",
    "# north block\n",
    "block_north_coord = np.genfromtxt(fname_river_north, delimiter=\",\", skip_header=1)\n",
    "block_north_x = [(np.min(block_north_coord[:, 1]) - model_origin[0]) / 1000,\n",
    "           (np.max(block_north_coord[:, 1]) - model_origin[0]) / 1000]\n",
    "\n",
    "block_north_y = [(np.min(block_north_coord[:, 2]) - model_origin[1]) / 1000,\n",
    "           (np.max(block_north_coord[:, 2]) - model_origin[1]) / 1000]\n",
    "# south block\n",
    "block_south_coord = np.genfromtxt(fname_river_south, delimiter=\",\", skip_header=1)\n",
    "block_south_x = [(np.min(block_south_coord[:, 1]) - model_origin[0]) / 1000,\n",
    "           (np.max(block_south_coord[:, 1]) - model_origin[0]) / 1000]\n",
    "\n",
    "block_south_y = [(np.min(block_south_coord[:, 2]) - model_origin[1]) / 1000,\n",
    "           (np.max(block_south_coord[:, 2]) - model_origin[1]) / 1000]"
   ]
  },
  {
   "cell_type": "code",
   "execution_count": 24,
   "metadata": {
    "ExecuteTime": {
     "end_time": "2018-05-02T22:49:41.034911Z",
     "start_time": "2018-05-02T22:49:41.025598Z"
    }
   },
   "outputs": [],
   "source": [
    "discharge_file = open(fname_usgs_gage, \"r\")\n",
    "discharge_data = discharge_file.readlines()\n",
    "# print(discharge_data)"
   ]
  },
  {
   "cell_type": "code",
   "execution_count": 25,
   "metadata": {
    "ExecuteTime": {
     "end_time": "2018-05-02T22:49:41.743300Z",
     "start_time": "2018-05-02T22:49:41.355707Z"
    }
   },
   "outputs": [],
   "source": [
    "discharge_data = [x.replace('\"', \"\") for x in discharge_data]\n",
    "discharge_data = [x.split(\",\") for x in discharge_data[1:]]\n",
    "discharge_data = [list(filter(None, x)) for x in discharge_data]\n",
    "discharge_data = np.asarray(discharge_data)\n",
    "discharge_time = [datetime.strptime(x, \"%Y-%m-%d\")\n",
    "                  for x in discharge_data[:, 3]]\n",
    "discharge_value = discharge_data[:, 4]  # .astype(float)"
   ]
  },
  {
   "cell_type": "code",
   "execution_count": 26,
   "metadata": {
    "ExecuteTime": {
     "end_time": "2018-05-02T22:49:42.198672Z",
     "start_time": "2018-05-02T22:49:42.196394Z"
    }
   },
   "outputs": [
    {
     "name": "stdout",
     "output_type": "stream",
     "text": [
      "[['1' 'USGS' '12472800' '1917-10-01' '77500' 'A' 'NA' 'NA\\n']\n",
      " ['2' 'USGS' '12472800' '1917-10-02' '76600' 'A' 'NA' 'NA\\n']\n",
      " ['3' 'USGS' '12472800' '1917-10-03' '75700' 'A' 'NA' 'NA\\n']\n",
      " ['4' 'USGS' '12472800' '1917-10-04' '75700' 'A' 'NA' 'NA\\n']\n",
      " ['5' 'USGS' '12472800' '1917-10-05' '74000' 'A' 'NA' 'NA\\n']\n",
      " ['6' 'USGS' '12472800' '1917-10-06' '73100' 'A' 'NA' 'NA\\n']\n",
      " ['7' 'USGS' '12472800' '1917-10-07' '73100' 'A' 'NA' 'NA\\n']\n",
      " ['8' 'USGS' '12472800' '1917-10-08' '74000' 'A' 'NA' 'NA\\n']\n",
      " ['9' 'USGS' '12472800' '1917-10-09' '75700' 'A' 'NA' 'NA\\n']]\n"
     ]
    }
   ],
   "source": [
    "print(discharge_data[0:9])"
   ]
  },
  {
   "cell_type": "code",
   "execution_count": 27,
   "metadata": {
    "ExecuteTime": {
     "end_time": "2018-05-02T22:51:31.416068Z",
     "start_time": "2018-05-02T22:51:28.021852Z"
    }
   },
   "outputs": [],
   "source": [
    "# read model dimensions\n",
    "all_h5 = glob.glob(fname_pflotran_h5)\n",
    "all_h5 = np.sort(all_h5)\n",
    "\n",
    "input_h5 = h5.File(all_h5[0], \"r\")\n",
    "x_grids = list(input_h5[\"Coordinates\"]['X [m]'])\n",
    "y_grids = list(input_h5[\"Coordinates\"]['Y [m]'])\n",
    "z_grids = list(input_h5[\"Coordinates\"]['Z [m]'])\n",
    "input_h5.close()\n",
    "\n",
    "# x_grids = np.arange(0, 60001, 100)\n",
    "# y_grids = np.arange(0, 60001, 100)\n",
    "# z_grids = np.arange(0, 201, 5)\n",
    "\n",
    "dx = np.diff(x_grids)\n",
    "dy = np.diff(y_grids)\n",
    "dz = np.diff(z_grids)\n",
    "\n",
    "nx = len(dx)\n",
    "ny = len(dy)\n",
    "nz = len(dz)\n",
    "x = x_grids[0] + np.cumsum(dx) - 0.5 * dx[0]\n",
    "y = y_grids[0] + np.cumsum(dy) - 0.5 * dy[0]\n",
    "z = z_grids[0] + np.cumsum(dz) - 0.5 * dz[0]\n",
    "\n",
    "grids = np.asarray([(x, y, z) for z in range(nz)\n",
    "                    for y in range(ny) for x in range(nx)])\n",
    "\n",
    "west_area = dy[0] * dz[0]\n",
    "east_area = dy[0] * dz[0]\n",
    "south_area = dx[0] * dz[0]\n",
    "north_area = dx[0] * dz[0]\n",
    "top_area = dx[0] * dy[0]\n",
    "bottom_area = dx[0] * dy[0]"
   ]
  },
  {
   "cell_type": "code",
   "execution_count": 28,
   "metadata": {
    "ExecuteTime": {
     "end_time": "2018-05-02T22:53:23.406525Z",
     "start_time": "2018-05-02T22:53:22.833271Z"
    }
   },
   "outputs": [],
   "source": [
    "# read river section information\n",
    "mass1_sections = [s for s, s in enumerate(\n",
    "    list(material_file[\"Regions\"].keys())) if \"Mass1\" in s]\n",
    "group_order = np.argsort(np.asarray(\n",
    "    [x[6:] for x in mass1_sections]).astype(float))\n",
    "mass1_sections = [mass1_sections[i] for i in group_order]\n",
    "nsection = len(mass1_sections)\n",
    "section_area = []\n",
    "for isection in mass1_sections:\n",
    "    faces = list(material_file[\"Regions\"][isection]['Face Ids'])\n",
    "    iarea = faces.count(1) * west_area + faces.count(2) * east_area + \\\n",
    "        faces.count(3) * south_area + faces.count(4) * north_area + \\\n",
    "        faces.count(5) * bottom_area + faces.count(6) * bottom_area\n",
    "    section_area.append(iarea)\n",
    "section_area = np.asarray(section_area)\n"
   ]
  },
  {
   "cell_type": "code",
   "execution_count": 29,
   "metadata": {
    "ExecuteTime": {
     "end_time": "2018-05-02T22:54:55.291000Z",
     "start_time": "2018-05-02T22:54:55.281218Z"
    }
   },
   "outputs": [],
   "source": [
    "# read mass1 coordinates\n",
    "section_coord = np.genfromtxt(\n",
    "    fname_mass1_coord, delimiter=\",\", skip_header=1)\n",
    "\n",
    "section_coord[:, 1] = section_coord[:, 1] - model_origin[0]\n",
    "section_coord[:, 2] = section_coord[:, 2] - model_origin[1]\n",
    "# subtract last mass1 location to get length for each segment\n",
    "mass1_length = section_coord[:, 4] - section_coord[-1, 4]\n"
   ]
  },
  {
   "cell_type": "code",
   "execution_count": 30,
   "metadata": {
    "ExecuteTime": {
     "end_time": "2018-05-02T22:54:57.053676Z",
     "start_time": "2018-05-02T22:54:57.051027Z"
    }
   },
   "outputs": [
    {
     "name": "stdout",
     "output_type": "stream",
     "text": [
      "[[4.0000000e+01 6.7779280e+03 4.1031487e+04 3.8832000e+02 6.2494000e+02]\n",
      " [4.1000000e+01 6.9801640e+03 4.1177211e+04 3.8816700e+02 6.2469400e+02]\n",
      " [4.2000000e+01 7.1977160e+03 4.1335660e+04 3.8800200e+02 6.2442900e+02]\n",
      " ...\n",
      " [3.3100000e+02 4.3688907e+04 9.5392540e+03 3.4314600e+02 5.5224000e+02]\n",
      " [3.3200000e+02 4.3724264e+04 9.3031000e+03 3.4299500e+02 5.5199700e+02]\n",
      " [3.3300000e+02 4.3779585e+04 9.0653260e+03 3.4284300e+02 5.5175200e+02]]\n"
     ]
    }
   ],
   "source": [
    "print(section_coord)"
   ]
  },
  {
   "cell_type": "code",
   "execution_count": 31,
   "metadata": {
    "ExecuteTime": {
     "end_time": "2018-05-02T22:59:58.978596Z",
     "start_time": "2018-05-02T22:59:58.975499Z"
    }
   },
   "outputs": [],
   "source": [
    "# add three lines to contour indicating mass1 location\n",
    "line1 = section_coord[0, 1:3] / 1000\n",
    "line2 = section_coord[int(len(section_coord[:, 1]) / 2), 1:3] / 1000\n",
    "line3 = section_coord[-1, 1:3] / 1000\n",
    "line1_x = [line1[0]] * 2\n",
    "line1_y = [line1[1] - 5, line1[1] + 5]\n",
    "line2_x = [line2[0] - 5, line2[0] + 5]\n",
    "line2_y = [line2[1]] * 2\n",
    "line3_x = [line3[0] - 5, line3[0] + 5]\n",
    "line3_y = [line3[1]] * 2"
   ]
  },
  {
   "cell_type": "code",
   "execution_count": 32,
   "metadata": {
    "ExecuteTime": {
     "end_time": "2018-05-02T23:00:42.467856Z",
     "start_time": "2018-05-02T23:00:31.255450Z"
    }
   },
   "outputs": [],
   "source": [
    "# read mass balance data\n",
    "mass_file = open(glob.glob(fname_mass_dat)[0], \"r\")\n",
    "mass_data = mass_file.readlines()\n",
    "mass_header = mass_data[0].replace('\"', '').split(\",\")\n",
    "mass_header = list(filter(None, mass_header))\n",
    "mass_data = [x.split(\" \") for x in mass_data[1:]]\n",
    "mass_data = [list(filter(None, x)) for x in mass_data]\n",
    "mass_data = np.asarray(mass_data).astype(float)"
   ]
  },
  {
   "cell_type": "code",
   "execution_count": 42,
   "metadata": {
    "ExecuteTime": {
     "end_time": "2018-05-02T23:07:38.435453Z",
     "start_time": "2018-05-02T23:07:38.432778Z"
    }
   },
   "outputs": [
    {
     "name": "stdout",
     "output_type": "stream",
     "text": [
      "[' Time [h]', 'dt_flow [h]', 'dt_tran [h]', 'Global Water Mass [kg]', 'Global Tracer [mol]', 'Global Tracer_Age [mol]', 'River_40 Water Mass [kg]', 'River_40 Water Mass [kg/h]', 'River_40 Tracer [mol]', 'River_40 Tracer_Age [mol]', 'River_40 Tracer [mol/h]', 'River_40 Tracer_Age [mol/h]', 'River_41 Water Mass [kg]', 'River_41 Water Mass [kg/h]', 'River_41 Tracer [mol]', 'River_41 Tracer_Age [mol]', 'River_41 Tracer [mol/h]', 'River_41 Tracer_Age [mol/h]', 'River_42 Water Mass [kg]', 'River_42 Water Mass [kg/h]']\n",
      "[ 3.24000000e+04  1.45312500e+00  1.45312500e+00 ... -3.51599024e+15\n",
      " -3.64919824e+05 -8.06420568e+12]\n"
     ]
    }
   ],
   "source": [
    "print(mass_header[0:20])\n",
    "print(mass_data[0])"
   ]
  },
  {
   "cell_type": "code",
   "execution_count": 40,
   "metadata": {
    "ExecuteTime": {
     "end_time": "2018-05-02T23:04:51.362132Z",
     "start_time": "2018-05-02T23:04:51.359352Z"
    }
   },
   "outputs": [],
   "source": [
    "# find columns of desired mass1 colmns\n",
    "# e.g River_40 Water Mass [kg]\n",
    "mass_index = [i for i, s in enumerate(mass_header) if (\n",
    "    \"River\" in s and \"Water\" in s and \"kg]\" in s)]\n",
    "# e.g River_40 Water Mass [kg/h]\n",
    "flux_index = [i for i, s in enumerate(mass_header) if (\n",
    "    \"River\" in s and \"Water\" in s and \"kg/h\" in s)]\n"
   ]
  },
  {
   "cell_type": "code",
   "execution_count": 43,
   "metadata": {
    "ExecuteTime": {
     "end_time": "2018-05-02T23:08:52.036210Z",
     "start_time": "2018-05-02T23:08:51.993152Z"
    }
   },
   "outputs": [],
   "source": [
    "# get total river mass/flux across the river bed\n",
    "total_mass = np.sum(mass_data[:, mass_index], axis=1).flatten()\n",
    "total_flux = np.sum(mass_data[:, flux_index], axis=1).flatten()"
   ]
  },
  {
   "cell_type": "code",
   "execution_count": 44,
   "metadata": {
    "ExecuteTime": {
     "end_time": "2018-05-02T23:10:11.361262Z",
     "start_time": "2018-05-02T23:10:11.358645Z"
    }
   },
   "outputs": [],
   "source": [
    "# shift mass when restart happened, new starting mass would shift to zero\n",
    "diff_total_mass = abs(np.diff(total_mass))\n",
    "restart_index = np.arange(len(diff_total_mass))[diff_total_mass > 2e10]\n",
    "\n",
    "for i_restart_index in restart_index:\n",
    "    total_mass[(i_restart_index + 1):len(total_mass)] = total_mass[(\n",
    "        i_restart_index + 1):len(total_mass)] + total_mass[restart_index]"
   ]
  },
  {
   "cell_type": "markdown",
   "metadata": {},
   "source": [
    "## plot finger flux"
   ]
  },
  {
   "cell_type": "code",
   "execution_count": 45,
   "metadata": {
    "ExecuteTime": {
     "end_time": "2018-05-02T23:10:49.641637Z",
     "start_time": "2018-05-02T23:10:49.534253Z"
    }
   },
   "outputs": [],
   "source": [
    "# plot fingerprint plots\n",
    "simu_time = mass_data[:, 0]\n",
    "real_time = batch_delta_to_time(\n",
    "    date_origin, simu_time, \"%Y-%m-%d %H:%M:%S\", \"hours\")\n",
    "real_time = [datetime.strptime(x, \"%Y-%m-%d %H:%M:%S\") for x in real_time]\n",
    "plot_time = [\n",
    "    \"2011-01-01 00:00:00\",\n",
    "    \"2016-01-01 00:00:00\"]\n",
    "plot_time = [datetime.strptime(x, \"%Y-%m-%d %H:%M:%S\") for x in plot_time]\n",
    "time_ticks = [\n",
    "    \"2011-01-01 00:00:00\",\n",
    "    \"2012-01-01 00:00:00\",\n",
    "    \"2013-01-01 00:00:00\",\n",
    "    \"2014-01-01 00:00:00\",\n",
    "    \"2015-01-01 00:00:00\",\n",
    "    \"2016-01-01 00:00:00\"]\n",
    "time_ticks = [datetime.strptime(x, \"%Y-%m-%d %H:%M:%S\") for x in time_ticks]"
   ]
  },
  {
   "cell_type": "code",
   "execution_count": 50,
   "metadata": {
    "ExecuteTime": {
     "end_time": "2018-05-02T23:19:22.284822Z",
     "start_time": "2018-05-02T23:19:15.820745Z"
    }
   },
   "outputs": [
    {
     "data": {
      "image/png": "[encoded data removed]",
      "text/plain": [
       "<Figure size 720x252 with 2 Axes>"
      ]
     },
     "metadata": {},
     "output_type": "display_data"
    }
   ],
   "source": [
    "flux_array = mass_data[:, flux_index]\n",
    "flux_array = np.asarray(flux_array) / 1000 * 24\n",
    "for itime in range(len(real_time)):\n",
    "    flux_array[itime, :] = flux_array[itime, :] / section_area\n",
    "\n",
    "# plot finger flux\n",
    "fig_name = fig_finger_flux\n",
    "gs = gridspec.GridSpec(1, 1)\n",
    "fig = plt.figure()\n",
    "ax1 = fig.add_subplot(gs[0, 0])\n",
    "cf1 = ax1.contourf(real_time,\n",
    "                   0.5 * (mass1_length[1:] + mass1_length[:-1]),\n",
    "                   -np.transpose(flux_array),\n",
    "                   cmap=plt.cm.jet,\n",
    "                   levels=np.arange(-0.1, 0.105, 0.005),\n",
    "                   extend=\"both\",\n",
    "                   )\n",
    "ax1.set_ylabel(\"\")\n",
    "ax1.set_ylabel(\"Distance to Downstream Location (km)\")\n",
    "ax1.set_xticks(time_ticks)\n",
    "ax1.set_ylim([0, 7.3e1])\n",
    "ax1.set_xlim([time_ticks[0], time_ticks[-1]])\n",
    "cb1 = plt.colorbar(cf1, extend=\"both\")\n",
    "cb1.ax.set_ylabel(\"Exchange flux (m/d)\", rotation=270, labelpad=20)\n",
    "fig.tight_layout()\n",
    "fig.set_size_inches(10, 3.5)"
   ]
  },
  {
   "cell_type": "code",
   "execution_count": 52,
   "metadata": {
    "ExecuteTime": {
     "end_time": "2018-05-02T23:21:33.556856Z",
     "start_time": "2018-05-02T23:21:33.553635Z"
    }
   },
   "outputs": [
    {
     "name": "stderr",
     "output_type": "stream",
     "text": [
      "/Library/Frameworks/Python.framework/Versions/3.6/lib/python3.6/site-packages/matplotlib/figure.py:459: UserWarning: matplotlib is currently using a non-GUI backend, so cannot show the figure\n",
      "  \"matplotlib is currently using a non-GUI backend, \"\n"
     ]
    }
   ],
   "source": [
    "# fig.show()"
   ]
  },
  {
   "cell_type": "code",
   "execution_count": 46,
   "metadata": {
    "ExecuteTime": {
     "end_time": "2018-05-02T23:11:19.809619Z",
     "start_time": "2018-05-02T23:11:13.820024Z"
    }
   },
   "outputs": [],
   "source": [
    "fig.savefig(fig_name, dpi=600, transparent=True)\n",
    "plt.close(fig)"
   ]
  },
  {
   "cell_type": "code",
   "execution_count": 53,
   "metadata": {
    "ExecuteTime": {
     "end_time": "2018-05-02T23:23:03.489735Z",
     "start_time": "2018-05-02T23:23:03.478427Z"
    }
   },
   "outputs": [],
   "source": [
    "# calculate net mass\n",
    "n_segment = len(time_ticks) - 1\n",
    "sum_mass = np.array([0.] * n_segment)\n",
    "all_mass = np.array([0.] * n_segment)\n",
    "for i_segment in range(n_segment):\n",
    "    select_index = []\n",
    "    for i_index in range(len(real_time)):\n",
    "        if (real_time[i_index] >= time_ticks[i_segment] and\n",
    "                real_time[i_index] < time_ticks[i_segment + 1]):\n",
    "            select_index.append(i_index)\n",
    "    sum_mass[i_segment] = total_mass[select_index[-1]] - \\\n",
    "        total_mass[select_index[0] - 1]\n",
    "    time_inverval = real_time[select_index[-1]] - real_time[select_index[0] - 1]\n",
    "    time_scale = 365.25 * 24 * 3600 / time_inverval.total_seconds()\n",
    "    sum_mass[i_segment] = sum_mass[i_segment] * time_scale / 1000\n",
    "\n",
    "abs_mass = np.array([0.] * n_segment)\n",
    "out_mass = np.array([0.] * n_segment)\n",
    "in_mass = np.array([0.] * n_segment)"
   ]
  },
  {
   "cell_type": "code",
   "execution_count": 54,
   "metadata": {
    "ExecuteTime": {
     "end_time": "2018-05-02T23:23:12.101088Z",
     "start_time": "2018-05-02T23:23:12.073656Z"
    }
   },
   "outputs": [],
   "source": [
    "# calculate dam discharge\n",
    "discharge_flow = np.array([0.] * n_segment)\n",
    "for i_segment in range(n_segment):\n",
    "    select_index = []\n",
    "    for i_index in range(len(discharge_time)):\n",
    "        if (discharge_time[i_index] >= time_ticks[i_segment] and\n",
    "                discharge_time[i_index] < time_ticks[i_segment + 1]):\n",
    "            select_index.append(i_index)\n",
    "    sum_discharge = sum(np.asarray([discharge_value[i]\n",
    "                                    for i in select_index]).astype(float))\n",
    "    sum_discharge = sum_discharge * 3600 * 24 * (0.3048**3)\n",
    "    # print(\"{:.5E}\".format(sum_discharge))\n",
    "    discharge_flow[i_segment] = sum_discharge"
   ]
  },
  {
   "cell_type": "markdown",
   "metadata": {},
   "source": [
    "## plot net exchange bar plot"
   ]
  },
  {
   "cell_type": "code",
   "execution_count": 56,
   "metadata": {
    "ExecuteTime": {
     "end_time": "2018-05-02T23:23:30.303292Z",
     "start_time": "2018-05-02T23:23:30.104109Z"
    },
    "scrolled": true
   },
   "outputs": [
    {
     "data": {
      "image/png": "[encoded data removed]",
      "text/plain": [
       "<Figure size 504x216 with 2 Axes>"
      ]
     },
     "metadata": {},
     "output_type": "display_data"
    }
   ],
   "source": [
    "## plot bar plots for net gaining volumn\n",
    "# plot dam discharge\n",
    "start_year = 2011\n",
    "fig_name = fig_net_exchange_bar\n",
    "gs = gridspec.GridSpec(1, 2)\n",
    "fig = plt.figure()\n",
    "ax0 = fig.add_subplot(gs[0, 0])\n",
    "ax0.bar(start_year + np.arange(n_segment), discharge_flow, color=\"black\")\n",
    "ax0.set_ylim([0, 1.5e11])\n",
    "ax0.set_xlabel('Time (year)')\n",
    "ax0.set_ylabel('River Discharge ($m^3$/year)')\n",
    "ax0.set_title(\"Priest Rapids Dam Discharge\", y=1.05)\n",
    "\n",
    "# plot net exchange\n",
    "ax1 = fig.add_subplot(gs[0, 1])\n",
    "ax1.bar(start_year + np.arange(n_segment), -sum_mass, color=\"blue\")\n",
    "#ax1.set_ylim([0, 1e8])\n",
    "ax1.set_xlabel('Time (year)')\n",
    "ax1.set_ylabel('Exchange flux ($m^3$/year)')\n",
    "ax1.set_title(\"River Net Exchange Volume\", y=1.05)\n",
    "fig.tight_layout()\n",
    "fig.subplots_adjust(left=0.2,\n",
    "                    right=0.95,\n",
    "                    bottom=0.08,\n",
    "                    top=0.85,\n",
    "                    wspace=0.30,\n",
    "                    hspace=0.38\n",
    "                    )\n",
    "fig.set_size_inches(7, 3)\n",
    "# fig.savefig(fig_name, dpi=600, transparent=True)"
   ]
  },
  {
   "cell_type": "code",
   "execution_count": 55,
   "metadata": {
    "ExecuteTime": {
     "end_time": "2018-05-02T23:23:15.556214Z",
     "start_time": "2018-05-02T23:23:14.398986Z"
    }
   },
   "outputs": [],
   "source": [
    "fig.savefig(fig_name, dpi=600)\n",
    "plt.close(fig)"
   ]
  },
  {
   "cell_type": "code",
   "execution_count": 63,
   "metadata": {
    "ExecuteTime": {
     "end_time": "2018-05-02T23:45:11.134814Z",
     "start_time": "2018-05-02T23:45:11.131980Z"
    }
   },
   "outputs": [],
   "source": [
    "# a = -sum_mass\n",
    "np.savetxt(fname_net_exchange_txt, -sum_mass, fmt = '%.2e')\n"
   ]
  },
  {
   "cell_type": "code",
   "execution_count": 69,
   "metadata": {
    "ExecuteTime": {
     "end_time": "2018-05-03T20:39:32.578257Z",
     "start_time": "2018-05-03T20:39:32.575434Z"
    }
   },
   "outputs": [
    {
     "data": {
      "text/plain": [
       "range(0, 1)"
      ]
     },
     "execution_count": 69,
     "metadata": {},
     "output_type": "execute_result"
    }
   ],
   "source": [
    "range(len(real_time[0:1]))"
   ]
  },
  {
   "cell_type": "markdown",
   "metadata": {},
   "source": [
    "## plot flux exchange across riverbed snapshots"
   ]
  },
  {
   "cell_type": "code",
   "execution_count": 74,
   "metadata": {
    "ExecuteTime": {
     "end_time": "2018-05-03T21:01:37.344955Z",
     "start_time": "2018-05-03T21:01:36.638604Z"
    }
   },
   "outputs": [
    {
     "name": "stdout",
     "output_type": "stream",
     "text": [
      "0\n"
     ]
    },
    {
     "data": {
      "image/png": "[encoded data removed]",
      "text/plain": [
       "<Figure size 468x396 with 2 Axes>"
      ]
     },
     "metadata": {},
     "output_type": "display_data"
    }
   ],
   "source": [
    "## plot exchange flux accross riverbed snapshots\n",
    "for itime in range(len(real_time[0:1])):\n",
    "    print(itime)\n",
    "    yx_flux = np.asarray([np.nan] * (ny * nx)).reshape(ny, nx)\n",
    "    for isection in range(len(mass1_sections)):\n",
    "        # need minus 1 as python index started with 0\n",
    "        cell_ids = list(material_file[\"Regions\"]\n",
    "                        [mass1_sections[isection]]['Cell Ids'])\n",
    "        cell_ids = (np.asarray(cell_ids) - 1).astype(int)\n",
    "        xy_cell_index = [grids[i, 0:2] for i in cell_ids]\n",
    "        xy_cell_index = np.unique(xy_cell_index, axis=0)\n",
    "        for iindex in range(len(xy_cell_index)):\n",
    "            yx_flux[xy_cell_index[iindex][1],\n",
    "                    xy_cell_index[iindex][0]] = flux_array[itime, isection]\n",
    "    fig_name = fig_flux_snapshot + str(real_time[itime]) + \".png\"\n",
    "    gs = gridspec.GridSpec(1, 1)\n",
    "    fig = plt.figure()\n",
    "    ax1 = fig.add_subplot(gs[0, 0])\n",
    "    ax1.plot(line1_x, line1_y, \"black\")\n",
    "    ax1.plot(line2_x, line2_y, \"black\")\n",
    "    ax1.plot(line3_x, line3_y, \"black\")\n",
    "    cf1 = ax1.imshow(-yx_flux,\n",
    "                     cmap=plt.cm.jet,\n",
    "                     origin=\"lower\",\n",
    "                     vmin=-0.1,\n",
    "                     vmax=0.1,\n",
    "                     extent=[(x[0] - 0.5 * dx[0]) / 1000,\n",
    "                             (x[-1] + 0.5 * dx[0]) / 1000,\n",
    "                             (y[0] - 0.5 * dy[0]) / 1000,\n",
    "                             (y[-1] + 0.5 * dy[0]) / 1000]\n",
    "                     )\n",
    "    ax1.set_xlabel(\"Easting (km)\")\n",
    "    ax1.set_ylabel(\"Northing (km)\")\n",
    "    ax1.set_aspect(\"equal\", \"datalim\")\n",
    "    ax1.set_xlim([np.min(x_grids) / 1000, np.max(x_grids) / 1000])\n",
    "    ax1.set_ylim([np.min(x_grids) / 1000, np.max(x_grids) / 1000])\n",
    "    cb1 = plt.colorbar(cf1, extend=\"both\")\n",
    "    cb1.ax.set_ylabel(\"Exchange flux (m/d)\", rotation=270, labelpad=20)\n",
    "    fig.tight_layout()\n",
    "    fig.set_size_inches(6.5, 5.5)\n",
    "#     fig.savefig(fig_name, dpi=600)\n",
    "#     plt.close(fig)    "
   ]
  },
  {
   "cell_type": "code",
   "execution_count": 75,
   "metadata": {
    "ExecuteTime": {
     "end_time": "2018-05-03T21:02:03.802185Z",
     "start_time": "2018-05-03T21:02:01.972998Z"
    }
   },
   "outputs": [],
   "source": [
    "    fig.savefig(fig_name, dpi=600)\n",
    "    plt.close(fig)"
   ]
  },
  {
   "cell_type": "markdown",
   "metadata": {},
   "source": [
    "## plot flux exchange across riverbed snapshots for _north block_"
   ]
  },
  {
   "cell_type": "code",
   "execution_count": 80,
   "metadata": {
    "ExecuteTime": {
     "end_time": "2018-05-03T21:26:37.947888Z",
     "start_time": "2018-05-03T21:26:37.357334Z"
    }
   },
   "outputs": [
    {
     "name": "stdout",
     "output_type": "stream",
     "text": [
      "2010-12-07 00:00:00\n"
     ]
    },
    {
     "data": {
      "image/png": "[encoded data removed]",
      "text/plain": [
       "<Figure size 468x396 with 1 Axes>"
      ]
     },
     "metadata": {},
     "output_type": "display_data"
    }
   ],
   "source": [
    "for itime in range(len(real_time[0:1])):\n",
    "    print(real_time[itime])\n",
    "    yx_flux = np.asarray([np.nan] * (ny * nx)).reshape(ny, nx)\n",
    "    for isection in range(len(mass1_sections)):\n",
    "        # need minus 1 as python index started with 0\n",
    "        cell_ids = list(material_file[\"Regions\"]\n",
    "                        [mass1_sections[isection]]['Cell Ids'])\n",
    "        cell_ids = (np.asarray(cell_ids) - 1).astype(int)\n",
    "        xy_cell_index = [grids[i, 0:2] for i in cell_ids]\n",
    "        xy_cell_index = np.unique(xy_cell_index, axis=0)\n",
    "        for iindex in range(len(xy_cell_index)):\n",
    "            yx_flux[xy_cell_index[iindex][1],\n",
    "                    xy_cell_index[iindex][0]] = flux_array[itime, isection]\n",
    "    fig_name = fig_block_north_flux_snapshot + str(real_time[itime]) + \".png\"\n",
    "    gs = gridspec.GridSpec(1, 1)\n",
    "    fig = plt.figure()\n",
    "    ax1 = fig.add_subplot(gs[0, 0])\n",
    "    cf1 = ax1.imshow(-yx_flux,\n",
    "                     cmap=plt.cm.jet,\n",
    "                     origin=\"lower\",\n",
    "                     vmin=-0.1,\n",
    "                     vmax=0.1,\n",
    "                     extent=[(x[0] - 0.5 * dx[0]) / 1000,\n",
    "                             (x[-1] + 0.5 * dx[0]) / 1000,\n",
    "                             (y[0] - 0.5 * dy[0]) / 1000,\n",
    "                             (y[-1] + 0.5 * dy[0]) / 1000]\n",
    "                     )\n",
    "    ax1.axis(\"off\")\n",
    "    ax1.set_aspect(\"equal\", \"datalim\")\n",
    "    ax1.set_xlim(block_north_x)\n",
    "    ax1.set_ylim(block_north_y)\n",
    "    # ax1.set_xlabel(\"Easting (km)\")\n",
    "    # ax1.set_ylabel(\"Northing (km)\")\n",
    "    fig.tight_layout()\n",
    "    fig.set_size_inches(6.5, 5.5)\n",
    "#     fig.savefig(fig_name, dpi=600)\n",
    "#     plt.close(fig)"
   ]
  },
  {
   "cell_type": "code",
   "execution_count": 81,
   "metadata": {
    "ExecuteTime": {
     "end_time": "2018-05-03T21:26:49.687564Z",
     "start_time": "2018-05-03T21:26:47.662779Z"
    }
   },
   "outputs": [],
   "source": [
    "    fig.savefig(fig_name, dpi=600)\n",
    "    plt.close(fig)"
   ]
  },
  {
   "cell_type": "markdown",
   "metadata": {},
   "source": [
    "## plot flux exchange across riverbed snapshots for _middle block_"
   ]
  },
  {
   "cell_type": "code",
   "execution_count": 82,
   "metadata": {
    "ExecuteTime": {
     "end_time": "2018-05-03T21:28:23.927209Z",
     "start_time": "2018-05-03T21:28:23.318785Z"
    }
   },
   "outputs": [
    {
     "name": "stdout",
     "output_type": "stream",
     "text": [
      "2010-12-07 00:00:00\n"
     ]
    },
    {
     "data": {
      "image/png": "[encoded data removed]",
      "text/plain": [
       "<Figure size 468x396 with 1 Axes>"
      ]
     },
     "metadata": {},
     "output_type": "display_data"
    }
   ],
   "source": [
    "for itime in range(len(real_time[0:1])):\n",
    "    print(real_time[itime])\n",
    "    yx_flux = np.asarray([np.nan] * (ny * nx)).reshape(ny, nx)\n",
    "    for isection in range(len(mass1_sections)):\n",
    "        # need minus 1 as python index started with 0\n",
    "        cell_ids = list(material_file[\"Regions\"]\n",
    "                        [mass1_sections[isection]]['Cell Ids'])\n",
    "        cell_ids = (np.asarray(cell_ids) - 1).astype(int)\n",
    "        xy_cell_index = [grids[i, 0:2] for i in cell_ids]\n",
    "        xy_cell_index = np.unique(xy_cell_index, axis=0)\n",
    "        for iindex in range(len(xy_cell_index)):\n",
    "            yx_flux[xy_cell_index[iindex][1],\n",
    "                    xy_cell_index[iindex][0]] = flux_array[itime, isection]\n",
    "    fig_name = fig_block_middle_flux_snapshot + str(real_time[itime]) + \".png\"\n",
    "    gs = gridspec.GridSpec(1, 1)\n",
    "    fig = plt.figure()\n",
    "    ax1 = fig.add_subplot(gs[0, 0])\n",
    "    cf1 = ax1.imshow(-yx_flux,\n",
    "                     cmap=plt.cm.jet,\n",
    "                     origin=\"lower\",\n",
    "                     vmin=-0.1,\n",
    "                     vmax=0.1,\n",
    "                     extent=[(x[0] - 0.5 * dx[0]) / 1000,\n",
    "                             (x[-1] + 0.5 * dx[0]) / 1000,\n",
    "                             (y[0] - 0.5 * dy[0]) / 1000,\n",
    "                             (y[-1] + 0.5 * dy[0]) / 1000]\n",
    "                     )\n",
    "    ax1.axis(\"off\")\n",
    "    ax1.set_aspect(\"equal\", \"datalim\")\n",
    "    ax1.set_xlim(block_middle_x)\n",
    "    ax1.set_ylim(block_middle_y)\n",
    "    # ax1.set_xlabel(\"Easting (km)\")\n",
    "    # ax1.set_ylabel(\"Northing (km)\")\n",
    "    fig.tight_layout()\n",
    "    fig.set_size_inches(6.5, 5.5)\n",
    "#     fig.savefig(fig_name, dpi=600)\n",
    "#     plt.close(fig)"
   ]
  },
  {
   "cell_type": "code",
   "execution_count": 83,
   "metadata": {
    "ExecuteTime": {
     "end_time": "2018-05-03T21:28:37.444881Z",
     "start_time": "2018-05-03T21:28:35.423422Z"
    }
   },
   "outputs": [],
   "source": [
    "    fig.savefig(fig_name, dpi=600)\n",
    "    plt.close(fig)"
   ]
  },
  {
   "cell_type": "markdown",
   "metadata": {},
   "source": [
    "## plot flux exchange across riverbed snapshots for _south block_"
   ]
  },
  {
   "cell_type": "code",
   "execution_count": 84,
   "metadata": {
    "ExecuteTime": {
     "end_time": "2018-05-03T21:29:46.087199Z",
     "start_time": "2018-05-03T21:29:45.489477Z"
    }
   },
   "outputs": [
    {
     "name": "stdout",
     "output_type": "stream",
     "text": [
      "2010-12-07 00:00:00\n"
     ]
    },
    {
     "data": {
      "image/png": "[encoded data removed]",
      "text/plain": [
       "<Figure size 468x396 with 1 Axes>"
      ]
     },
     "metadata": {},
     "output_type": "display_data"
    }
   ],
   "source": [
    "for itime in range(len(real_time[0:1])):\n",
    "    print(real_time[itime])\n",
    "    yx_flux = np.asarray([np.nan] * (ny * nx)).reshape(ny, nx)\n",
    "    for isection in range(len(mass1_sections)):\n",
    "        # need minus 1 as python index started with 0\n",
    "        cell_ids = list(material_file[\"Regions\"]\n",
    "                        [mass1_sections[isection]]['Cell Ids'])\n",
    "        cell_ids = (np.asarray(cell_ids) - 1).astype(int)\n",
    "        xy_cell_index = [grids[i, 0:2] for i in cell_ids]\n",
    "        xy_cell_index = np.unique(xy_cell_index, axis=0)\n",
    "        for iindex in range(len(xy_cell_index)):\n",
    "            yx_flux[xy_cell_index[iindex][1],\n",
    "                    xy_cell_index[iindex][0]] = flux_array[itime, isection]\n",
    "    fig_name = fig_block_south_flux_snapshot + str(real_time[itime]) + \".png\"\n",
    "    gs = gridspec.GridSpec(1, 1)\n",
    "    fig = plt.figure()\n",
    "    ax1 = fig.add_subplot(gs[0, 0])\n",
    "    cf1 = ax1.imshow(-yx_flux,\n",
    "                     cmap=plt.cm.jet,\n",
    "                     origin=\"lower\",\n",
    "                     vmin=-0.1,\n",
    "                     vmax=0.1,\n",
    "                     extent=[(x[0] - 0.5 * dx[0]) / 1000,\n",
    "                             (x[-1] + 0.5 * dx[0]) / 1000,\n",
    "                             (y[0] - 0.5 * dy[0]) / 1000,\n",
    "                             (y[-1] + 0.5 * dy[0]) / 1000]\n",
    "                     )\n",
    "    ax1.axis(\"off\")\n",
    "    ax1.set_aspect(\"equal\", \"datalim\")\n",
    "    ax1.set_xlim(block_south_x)\n",
    "    ax1.set_ylim(block_south_y)\n",
    "    # ax1.set_xlabel(\"Easting (km)\")\n",
    "    # ax1.set_ylabel(\"Northing (km)\")\n",
    "    fig.tight_layout()\n",
    "    fig.set_size_inches(6.5, 5.5)\n",
    "#     fig.savefig(fig_name, dpi=600)\n",
    "#     plt.close(fig)"
   ]
  },
  {
   "cell_type": "code",
   "execution_count": 85,
   "metadata": {
    "ExecuteTime": {
     "end_time": "2018-05-03T21:29:51.087454Z",
     "start_time": "2018-05-03T21:29:48.939490Z"
    }
   },
   "outputs": [],
   "source": [
    "    fig.savefig(fig_name, dpi=600)\n",
    "    plt.close(fig)"
   ]
  }
 ],
 "metadata": {
  "kernelspec": {
   "display_name": "Python 3",
   "language": "python",
   "name": "python3"
  },
  "language_info": {
   "codemirror_mode": {
    "name": "ipython",
    "version": 3
   },
   "file_extension": ".py",
   "mimetype": "text/x-python",
   "name": "python",
   "nbconvert_exporter": "python",
   "pygments_lexer": "ipython3",
   "version": "3.6.3"
  },
  "toc": {
   "base_numbering": 1,
   "nav_menu": {},
   "number_sections": true,
   "sideBar": true,
   "skip_h1_title": false,
   "title_cell": "Table of Contents",
   "title_sidebar": "Contents",
   "toc_cell": false,
   "toc_position": {
    "height": "calc(100% - 180px)",
    "left": "10px",
    "top": "150px",
    "width": "441px"
   },
   "toc_section_display": true,
   "toc_window_display": true
  },
  "varInspector": {
   "cols": {
    "lenName": 16,
    "lenType": 16,
    "lenVar": 40
   },
   "kernels_config": {
    "python": {
     "delete_cmd_postfix": "",
     "delete_cmd_prefix": "del ",
     "library": "var_list.py",
     "varRefreshCmd": "print(var_dic_list())"
    },
    "r": {
     "delete_cmd_postfix": ") ",
     "delete_cmd_prefix": "rm(",
     "library": "var_list.r",
     "varRefreshCmd": "cat(var_dic_list()) "
    }
   },
   "types_to_exclude": [
    "module",
    "function",
    "builtin_function_or_method",
    "instance",
    "_Feature"
   ],
   "window_display": false
  }
 },
 "nbformat": 4,
 "nbformat_minor": 2
}
